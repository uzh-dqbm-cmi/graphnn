{
 "cells": [
  {
   "cell_type": "code",
   "execution_count": 1,
   "metadata": {
    "scrolled": false
   },
   "outputs": [],
   "source": [
    "%load_ext autoreload\n",
    "%autoreload 2"
   ]
  },
  {
   "cell_type": "code",
   "execution_count": 2,
   "metadata": {},
   "outputs": [],
   "source": [
    "import os\n",
    "import sys\n",
    "import numpy as np\n",
    "import pandas as pd\n",
    "import datetime\n",
    "import seaborn as sns\n",
    "import ogb\n",
    "from tqdm import tqdm\n",
    "import hiplot as hip\n",
    "from copy import deepcopy\n",
    "import datetime"
   ]
  },
  {
   "cell_type": "code",
   "execution_count": 3,
   "metadata": {},
   "outputs": [],
   "source": [
    "import torch\n",
    "from torch_geometric.data import Data\n",
    "from torch_geometric.loader import DataLoader\n",
    "from torch.utils.data import Subset, TensorDataset"
   ]
  },
  {
   "cell_type": "code",
   "execution_count": 4,
   "metadata": {},
   "outputs": [
    {
     "name": "stdout",
     "output_type": "stream",
     "text": [
      "/cluster/home/skyriakos/chemprop_run/git/notebooks\n"
     ]
    }
   ],
   "source": [
    "cwd = os.getcwd()\n",
    "print(cwd)"
   ]
  },
  {
   "cell_type": "code",
   "execution_count": 5,
   "metadata": {},
   "outputs": [],
   "source": [
    "os.chdir('..')\n",
    "import deepadr\n",
    "from deepadr.dataset import *\n",
    "from deepadr.utilities import *\n",
    "from deepadr.run_workflow import *\n",
    "from deepadr.chemfeatures import *\n",
    "from deepadr.hyphelper import *\n",
    "# from deepadr.model_gnn import GCN as testGCN\n",
    "from deepadr.model_gnn_ogb import GNN, DeepAdr_SiameseTrf, ExpressionNN\n",
    "# from deepadr.model_attn_siamese import *\n",
    "from ogb.graphproppred import Evaluator\n",
    "os.chdir(cwd)"
   ]
  },
  {
   "cell_type": "code",
   "execution_count": 6,
   "metadata": {},
   "outputs": [],
   "source": [
    "from rdkit.Chem.Draw import IPythonConsole\n",
    "from rdkit.Chem import Draw"
   ]
  },
  {
   "cell_type": "code",
   "execution_count": 7,
   "metadata": {},
   "outputs": [],
   "source": [
    "# from tdc.single_pred import Tox\n",
    "# from tdc.multi_pred import DDI"
   ]
  },
  {
   "cell_type": "code",
   "execution_count": 8,
   "metadata": {},
   "outputs": [],
   "source": [
    "rawdata_dir = '../data/raw/'\n",
    "processed_dir = '../data/processed/'\n",
    "up_dir = '..'"
   ]
  },
  {
   "cell_type": "code",
   "execution_count": 9,
   "metadata": {
    "scrolled": true
   },
   "outputs": [
    {
     "name": "stdout",
     "output_type": "stream",
     "text": [
      "number of GPUs available: 8\n",
      "cuda:0, name:GeForce GTX 1080 Ti\n",
      "total memory available: 10.91650390625 GB\n",
      "total memory allocated on device: 0.0 GB\n",
      "max memory allocated on device: 0.0 GB\n",
      "total memory cached on device: 0.0 GB\n",
      "max memory cached  on device: 0.0 GB\n",
      "\n",
      "cuda:1, name:GeForce GTX 1080 Ti\n",
      "total memory available: 10.91650390625 GB\n",
      "total memory allocated on device: 0.0 GB\n",
      "max memory allocated on device: 0.0 GB\n",
      "total memory cached on device: 0.0 GB\n",
      "max memory cached  on device: 0.0 GB\n",
      "\n",
      "cuda:2, name:GeForce GTX 1080 Ti\n",
      "total memory available: 10.91650390625 GB\n",
      "total memory allocated on device: 0.0 GB\n",
      "max memory allocated on device: 0.0 GB\n",
      "total memory cached on device: 0.0 GB\n",
      "max memory cached  on device: 0.0 GB\n",
      "\n",
      "cuda:3, name:GeForce GTX 1080 Ti\n",
      "total memory available: 10.91650390625 GB\n",
      "total memory allocated on device: 0.0 GB\n",
      "max memory allocated on device: 0.0 GB\n",
      "total memory cached on device: 0.0 GB\n",
      "max memory cached  on device: 0.0 GB\n",
      "\n",
      "cuda:4, name:GeForce GTX 1080 Ti\n",
      "total memory available: 10.91650390625 GB\n",
      "total memory allocated on device: 0.0 GB\n",
      "max memory allocated on device: 0.0 GB\n",
      "total memory cached on device: 0.0 GB\n",
      "max memory cached  on device: 0.0 GB\n",
      "\n",
      "cuda:5, name:GeForce GTX 1080 Ti\n",
      "total memory available: 10.91650390625 GB\n",
      "total memory allocated on device: 0.0 GB\n",
      "max memory allocated on device: 0.0 GB\n",
      "total memory cached on device: 0.0 GB\n",
      "max memory cached  on device: 0.0 GB\n",
      "\n",
      "cuda:6, name:GeForce GTX 1080 Ti\n",
      "total memory available: 10.91650390625 GB\n",
      "total memory allocated on device: 0.0 GB\n",
      "max memory allocated on device: 0.0 GB\n",
      "total memory cached on device: 0.0 GB\n",
      "max memory cached  on device: 0.0 GB\n",
      "\n",
      "cuda:7, name:GeForce GTX 1080 Ti\n",
      "total memory available: 10.91650390625 GB\n",
      "total memory allocated on device: 0.0 GB\n",
      "max memory allocated on device: 0.0 GB\n",
      "total memory cached on device: 0.0 GB\n",
      "max memory cached  on device: 0.0 GB\n",
      "\n"
     ]
    }
   ],
   "source": [
    "report_available_cuda_devices()"
   ]
  },
  {
   "cell_type": "code",
   "execution_count": 10,
   "metadata": {},
   "outputs": [
    {
     "data": {
      "text/plain": [
       "8"
      ]
     },
     "execution_count": 10,
     "metadata": {},
     "output_type": "execute_result"
    }
   ],
   "source": [
    "n_gpu = torch.cuda.device_count()\n",
    "n_gpu"
   ]
  },
  {
   "cell_type": "code",
   "execution_count": 11,
   "metadata": {},
   "outputs": [],
   "source": [
    "device_cpu = get_device(to_gpu=False)\n",
    "# device_gpu = get_device(True, index=0)\n",
    "\n",
    "# fdtype = torch.float32"
   ]
  },
  {
   "cell_type": "code",
   "execution_count": 12,
   "metadata": {},
   "outputs": [
    {
     "name": "stdout",
     "output_type": "stream",
     "text": [
      "torch: 1.9.1\n",
      "CUDA: 11.1\n",
      "3.9.9 | packaged by conda-forge | (main, Dec 20 2021, 02:41:03) \n",
      "[GCC 9.4.0]\n"
     ]
    }
   ],
   "source": [
    "print(\"torch:\", torch.__version__)\n",
    "print(\"CUDA:\", torch.version.cuda)\n",
    "print(sys.version)"
   ]
  },
  {
   "cell_type": "code",
   "execution_count": 13,
   "metadata": {},
   "outputs": [],
   "source": [
    "# print(torch.cuda.memory_summary(device=device_gpu))"
   ]
  },
  {
   "cell_type": "markdown",
   "metadata": {},
   "source": [
    "### Preparing dataset "
   ]
  },
  {
   "cell_type": "code",
   "execution_count": 14,
   "metadata": {},
   "outputs": [],
   "source": [
    "score = 'total_thresh'\n",
    "score_val = 4"
   ]
  },
  {
   "cell_type": "code",
   "execution_count": 15,
   "metadata": {},
   "outputs": [],
   "source": [
    "# TDC Tox\n",
    "# DSdataset_name = 'SynergxZloewe' #'OncoPolyPharmacology' #'DrugComb'\n",
    "DSdataset_name = f'DrugComb_{score}_{score_val}' #'DrugComb'\n",
    "\n",
    "\n",
    "#fname_suffix = ds_config[\"fname_suffix\"]\n",
    "similarity_types = ['chem']\n",
    "kernel_option = 'sqeuclidean'\n",
    "data_fname = 'data_v1'\n",
    "# interact_matfname = ds_config[\"interact_matfname\"]\n",
    "# exp_iden = 'simtypeall'\n",
    "# ddi_interaction_labels_pth = ds_config[\"ddi_interaction_labels_pth\"]\n",
    "\n",
    "# up_dir, processed_dir, DSdataset_name, data_fname"
   ]
  },
  {
   "cell_type": "code",
   "execution_count": 16,
   "metadata": {
    "scrolled": true
   },
   "outputs": [
    {
     "name": "stdout",
     "output_type": "stream",
     "text": [
      "path_current_dir /cluster/home/skyriakos/chemprop_run/git/deepadr\n",
      "path_current_dir /cluster/home/skyriakos/chemprop_run/git/deepadr\n",
      "path_current_dir /cluster/home/skyriakos/chemprop_run/git/deepadr\n",
      "path_current_dir /cluster/home/skyriakos/chemprop_run/git/deepadr\n",
      "/cluster/home/skyriakos/chemprop_run/git/data/processed/DrugComb_total_thresh_4/data_v1\n"
     ]
    }
   ],
   "source": [
    "targetdata_dir = create_directory(os.path.join(processed_dir, DSdataset_name, data_fname))\n",
    "targetdata_dir_raw = create_directory(os.path.join(targetdata_dir, \"raw\"))\n",
    "targetdata_dir_processed = create_directory(os.path.join(targetdata_dir, \"processed\"))\n",
    "targetdata_dir_exp = create_directory(os.path.join(targetdata_dir, \"experiments\"))\n",
    "# # ReaderWriter.dump_data(dpartitions, os.path.join(targetdata_dir, 'data_partitions.pkl'))\n",
    "print(targetdata_dir)"
   ]
  },
  {
   "cell_type": "code",
   "execution_count": 17,
   "metadata": {},
   "outputs": [
    {
     "name": "stdout",
     "output_type": "stream",
     "text": [
      "CPU times: user 8.73 ms, sys: 132 ms, total: 141 ms\n",
      "Wall time: 135 ms\n"
     ]
    }
   ],
   "source": [
    "%%time\n",
    "\n",
    "# Make sure to first run the \"data_generation\" notebook first\n",
    "\n",
    "dataset = MoleculeDataset(root=targetdata_dir)"
   ]
  },
  {
   "cell_type": "code",
   "execution_count": 18,
   "metadata": {},
   "outputs": [],
   "source": [
    "# print()\n",
    "# print(f'Dataset: {dataset}:')\n",
    "# print('====================')\n",
    "# print(f'Number of graphs: {len(dataset)}')\n",
    "# print(f'Number of features: {dataset.num_features}')\n",
    "# print(f'Number of classes: {dataset.num_classes}')\n",
    "\n",
    "# # data0 = dataset[0]  # Get the first graph object.\n",
    "\n",
    "# # print()\n",
    "# # print(data)\n",
    "# # print('=============================================================')\n",
    "\n",
    "# # # Gather some statistics about the first graph.\n",
    "# # print(f'Number of nodes: {data.num_nodes}')\n",
    "# # print(f'Number of edges: {data.num_edges}')\n",
    "# # print(f'Average node degree: {data.num_edges / data.num_nodes:.2f}')\n",
    "# # print(f'Contains isolated nodes: {data.contains_isolated_nodes()}')\n",
    "# # print(f'Contains self-loops: {data.contains_self_loops()}')\n",
    "# # print(f'Is undirected: {data.is_undirected()}')"
   ]
  },
  {
   "cell_type": "code",
   "execution_count": 19,
   "metadata": {
    "scrolled": true
   },
   "outputs": [],
   "source": [
    "# data0"
   ]
  },
  {
   "cell_type": "code",
   "execution_count": 20,
   "metadata": {},
   "outputs": [],
   "source": [
    "# data0.expression.shape"
   ]
  },
  {
   "cell_type": "code",
   "execution_count": 21,
   "metadata": {},
   "outputs": [],
   "source": [
    "# data0.y"
   ]
  },
  {
   "cell_type": "code",
   "execution_count": 22,
   "metadata": {},
   "outputs": [],
   "source": [
    "# dataset.tensors[1]"
   ]
  },
  {
   "cell_type": "code",
   "execution_count": 23,
   "metadata": {},
   "outputs": [],
   "source": [
    "# used_dataset = dataset\n",
    "\n",
    "# If you want to use a smaller subset of the dataset for testing\n",
    "# smaller_dataset_len = int(len(dataset)/1)\n",
    "# used_dataset = dataset[:smaller_dataset_len]"
   ]
  },
  {
   "cell_type": "code",
   "execution_count": 24,
   "metadata": {},
   "outputs": [],
   "source": [
    "# type(used_dataset)"
   ]
  },
  {
   "cell_type": "code",
   "execution_count": 25,
   "metadata": {
    "scrolled": true
   },
   "outputs": [
    {
     "name": "stdout",
     "output_type": "stream",
     "text": [
      "fold_num: 0\n",
      "train data\n",
      "class: 0 norm count: 0.5764128559102675\n",
      "class: 1 norm count: 0.4235871440897325\n",
      "validation data\n",
      "class: 0 norm count: 0.5764192139737991\n",
      "class: 1 norm count: 0.42358078602620086\n",
      "test data\n",
      "class: 0 norm count: 0.5764751552795031\n",
      "class: 1 norm count: 0.4235248447204969\n",
      "\n",
      "-------------------------\n",
      "fold_num: 1\n",
      "train data\n",
      "class: 0 norm count: 0.5764128559102675\n",
      "class: 1 norm count: 0.4235871440897325\n",
      "validation data\n",
      "class: 0 norm count: 0.5764192139737991\n",
      "class: 1 norm count: 0.42358078602620086\n",
      "test data\n",
      "class: 0 norm count: 0.5764751552795031\n",
      "class: 1 norm count: 0.4235248447204969\n",
      "\n",
      "-------------------------\n",
      "fold_num: 2\n",
      "train data\n",
      "class: 0 norm count: 0.5764356969533567\n",
      "class: 1 norm count: 0.4235643030466433\n",
      "validation data\n",
      "class: 0 norm count: 0.5764192139737991\n",
      "class: 1 norm count: 0.42358078602620086\n",
      "test data\n",
      "class: 0 norm count: 0.5763929334109882\n",
      "class: 1 norm count: 0.4236070665890118\n",
      "\n",
      "-------------------------\n",
      "fold_num: 3\n",
      "train data\n",
      "class: 0 norm count: 0.5764356969533567\n",
      "class: 1 norm count: 0.4235643030466433\n",
      "validation data\n",
      "class: 0 norm count: 0.5764192139737991\n",
      "class: 1 norm count: 0.42358078602620086\n",
      "test data\n",
      "class: 0 norm count: 0.5763929334109882\n",
      "class: 1 norm count: 0.4236070665890118\n",
      "\n",
      "-------------------------\n",
      "fold_num: 4\n",
      "train data\n",
      "class: 0 norm count: 0.5764356969533567\n",
      "class: 1 norm count: 0.4235643030466433\n",
      "validation data\n",
      "class: 0 norm count: 0.5764192139737991\n",
      "class: 1 norm count: 0.42358078602620086\n",
      "test data\n",
      "class: 0 norm count: 0.5763929334109882\n",
      "class: 1 norm count: 0.4236070665890118\n",
      "\n",
      "-------------------------\n"
     ]
    }
   ],
   "source": [
    "fold_partitions = get_stratified_partitions(dataset.data.y,\n",
    "                                            num_folds=5,\n",
    "                                            valid_set_portion=0.1,\n",
    "                                            random_state=42)"
   ]
  },
  {
   "cell_type": "code",
   "execution_count": 26,
   "metadata": {},
   "outputs": [],
   "source": [
    "# train_val_test_frac = [0.7, 0.1, 0.2]\n",
    "# assert sum(train_val_test_frac) == 1\n",
    "\n",
    "# torch.manual_seed(42)\n",
    "# used_dataset = used_dataset.shuffle()\n",
    "\n",
    "# num_train = round(train_val_test_frac[0] * len(used_dataset)) \n",
    "# num_trainval = round((train_val_test_frac[0]+train_val_test_frac[1]) * len(used_dataset))\n",
    "\n",
    "# train_dataset = used_dataset[:num_train]\n",
    "# val_dataset = used_dataset[num_train:num_trainval]\n",
    "# test_dataset = used_dataset[num_trainval:]"
   ]
  },
  {
   "cell_type": "code",
   "execution_count": 27,
   "metadata": {},
   "outputs": [],
   "source": [
    "# train_dataset = Subset(used_dataset, fold_partitions[0]['train'])\n",
    "# val_dataset = Subset(used_dataset, fold_partitions[0]['validation'])\n",
    "# test_dataset = Subset(used_dataset, fold_partitions[0]['test'])"
   ]
  },
  {
   "cell_type": "code",
   "execution_count": 28,
   "metadata": {},
   "outputs": [],
   "source": [
    "# print(f'Number of training graphs: {len(train_dataset)}')\n",
    "# print(f'Number of val graphs: {len(val_dataset)}')\n",
    "# print(f'Number of test graphs: {len(test_dataset)}')"
   ]
  },
  {
   "cell_type": "code",
   "execution_count": 29,
   "metadata": {},
   "outputs": [
    {
     "name": "stdout",
     "output_type": "stream",
     "text": [
      "Number of training graphs: 18544\n",
      "Number of validation graphs: 2061\n",
      "Number of testing graphs: 5152\n"
     ]
    }
   ],
   "source": [
    "print(\"Number of training graphs: \"+ str(len(fold_partitions[0]['train'])))\n",
    "print(\"Number of validation graphs: \"+ str(len(fold_partitions[0]['validation'])))\n",
    "print(\"Number of testing graphs: \"+ str(len(fold_partitions[0]['test'])))\n"
   ]
  },
  {
   "cell_type": "code",
   "execution_count": 30,
   "metadata": {},
   "outputs": [],
   "source": [
    "# print(dataset.num_classes)"
   ]
  },
  {
   "cell_type": "code",
   "execution_count": 31,
   "metadata": {},
   "outputs": [],
   "source": [
    "# training params\n",
    "tp = {\n",
    "    \"batch_size\" : 300,\n",
    "    \"num_epochs\" : 20,\n",
    "    \n",
    "    \"emb_dim\" : 300,\n",
    "    \"gnn_type\" : \"gatv2\",\n",
    "    \"num_layer\" : 5,\n",
    "    \"graph_pooling\" : \"mean\", #attention\n",
    "    \n",
    "    \"input_embed_dim\" : None,\n",
    "    \"gene_embed_dim\": 1,\n",
    "    \"num_attn_heads\" : 2,\n",
    "    \"num_transformer_units\" : 1,\n",
    "    \"p_dropout\" : 0.3,\n",
    "#     \"nonlin_func\" : nn.ReLU(),\n",
    "    \"mlp_embed_factor\" : 2,\n",
    "    \"pooling_mode\" : 'attn',\n",
    "    \"dist_opt\" : 'cosine',\n",
    "\n",
    "    \"base_lr\" : 3e-5, #3e-4\n",
    "    \"max_lr_mul\": 15,\n",
    "    \"l2_reg\" : 1e-7,\n",
    "    \"loss_w\" : 0.95,\n",
    "    \"margin_v\" : 1.,\n",
    "\n",
    "    \"expression_dim\" : 64,\n",
    "    \"expression_input_size\" : 908,\n",
    "    \"exp_H1\" : 500,\n",
    "    \"exp_H2\" : 400\n",
    "}"
   ]
  },
  {
   "cell_type": "code",
   "execution_count": 32,
   "metadata": {},
   "outputs": [],
   "source": [
    "# targetdata_dir_exp = create_directory(os.path.join(targetdata_dir, \"experiments\"))\n",
    "# targetdata_dir_exp"
   ]
  },
  {
   "cell_type": "code",
   "execution_count": 33,
   "metadata": {},
   "outputs": [],
   "source": [
    "# device_gpu = get_device(True, index=0)\n",
    "# exp_dir = create_directory(os.path.join(targetdata_dir_exp, \"exp0\"))\n",
    "# tphp = generate_tp_hp(tp, hyperparam_space[0], hp_names)\n",
    "# partition = fold_partitions[0]"
   ]
  },
  {
   "cell_type": "code",
   "execution_count": 34,
   "metadata": {},
   "outputs": [],
   "source": [
    "# run_exp(tphp, device_gpu, exp_dir,partition=fold_partitions[0], used_dataset=used_dataset)"
   ]
  },
  {
   "cell_type": "code",
   "execution_count": 35,
   "metadata": {},
   "outputs": [],
   "source": [
    "def spawn_q_process(q_process):\n",
    "    print(\">>> spawning hyperparam search process\")\n",
    "    q_process.start()\n",
    "    \n",
    "def join_q_process(q_process):\n",
    "    q_process.join()\n",
    "    print(\"<<< joined hyperparam search process\")\n",
    "    \n",
    "def create_q_process(queue, used_dataset, gpu_num, tphp, exp_dir, partition): #\n",
    "#     fold_gpu_map = {0:gpu_num}\n",
    "    return mp.Process(target=deepadr.hyphelper.run_exp, args=(queue, used_dataset, gpu_num, tphp, exp_dir, partition)) #"
   ]
  },
  {
   "cell_type": "code",
   "execution_count": 36,
   "metadata": {
    "scrolled": true
   },
   "outputs": [
    {
     "name": "stdout",
     "output_type": "stream",
     "text": [
      "Start: 2022-02-25_14-04-26\n",
      "path_current_dir /cluster/home/skyriakos/chemprop_run/git/deepadr\n",
      ">>> spawning hyperparam search process\n",
      "path_current_dir /cluster/home/skyriakos/chemprop_run/git/deepadr\n",
      ">>> spawning hyperparam search process\n",
      "gpu: cuda:0\n",
      "GeneEmbAttention pooling, gene_embed_dim: 1\n",
      "updated\n",
      "num classes: 2\n",
      "=====Epoch 0\n",
      "Training...\n"
     ]
    },
    {
     "name": "stderr",
     "output_type": "stream",
     "text": [
      "\r",
      "Iteration:   0%|          | 0/62 [00:00<?, ?it/s]"
     ]
    },
    {
     "name": "stdout",
     "output_type": "stream",
     "text": [
      "path_current_dir /cluster/home/skyriakos/chemprop_run/git/deepadr\n",
      ">>> spawning hyperparam search process\n"
     ]
    },
    {
     "name": "stderr",
     "output_type": "stream",
     "text": [
      "\r",
      "Iteration:   2%|▏         | 1/62 [00:02<02:19,  2.28s/it]"
     ]
    },
    {
     "name": "stdout",
     "output_type": "stream",
     "text": [
      "gpu: cuda:1\n",
      "GeneEmbAttention pooling, gene_embed_dim: 1\n",
      "updated\n",
      "num classes: 2\n",
      "=====Epoch 0\n",
      "Training...\n"
     ]
    },
    {
     "name": "stderr",
     "output_type": "stream",
     "text": [
      "\r",
      "Iteration:   0%|          | 0/62 [00:00<?, ?it/s]"
     ]
    },
    {
     "name": "stdout",
     "output_type": "stream",
     "text": [
      "path_current_dir /cluster/home/skyriakos/chemprop_run/git/deepadr\n",
      ">>> spawning hyperparam search process\n"
     ]
    },
    {
     "name": "stderr",
     "output_type": "stream",
     "text": [
      "Iteration:   5%|▍         | 3/62 [00:06<01:59,  2.03s/it]"
     ]
    },
    {
     "name": "stdout",
     "output_type": "stream",
     "text": [
      "gpu: cuda:2\n",
      "GeneEmbAttention pooling, gene_embed_dim: 1\n",
      "updated\n",
      "num classes: 2\n",
      "=====Epoch 0\n",
      "Training...\n"
     ]
    },
    {
     "name": "stderr",
     "output_type": "stream",
     "text": [
      "\r",
      "Iteration:   0%|          | 0/62 [00:00<?, ?it/s]"
     ]
    },
    {
     "name": "stdout",
     "output_type": "stream",
     "text": [
      "path_current_dir /cluster/home/skyriakos/chemprop_run/git/deepadr\n",
      ">>> spawning hyperparam search process\n"
     ]
    },
    {
     "name": "stderr",
     "output_type": "stream",
     "text": [
      "Iteration:   8%|▊         | 5/62 [00:09<01:50,  1.93s/it]"
     ]
    },
    {
     "name": "stdout",
     "output_type": "stream",
     "text": [
      "gpu: cuda:3\n",
      "GeneEmbAttention pooling, gene_embed_dim: 1\n",
      "updated\n",
      "num classes: 2\n",
      "=====Epoch 0\n",
      "Training...\n"
     ]
    },
    {
     "name": "stderr",
     "output_type": "stream",
     "text": [
      "Iteration:  11%|█▏        | 7/62 [00:13<01:46,  1.94s/it]"
     ]
    },
    {
     "name": "stdout",
     "output_type": "stream",
     "text": [
      "gpu: cuda:4\n",
      "GeneEmbAttention pooling, gene_embed_dim: 1\n",
      "updated\n",
      "num classes: 2\n",
      "=====Epoch 0\n",
      "Training...\n"
     ]
    },
    {
     "name": "stderr",
     "output_type": "stream",
     "text": [
      "Iteration: 100%|██████████| 62/62 [00:30<00:00,  2.02it/s]\n",
      "Iteration:   0%|          | 0/62 [00:00<?, ?it/s]"
     ]
    },
    {
     "name": "stdout",
     "output_type": "stream",
     "text": [
      "Evaluating...\n"
     ]
    },
    {
     "name": "stderr",
     "output_type": "stream",
     "text": [
      "Iteration: 100%|██████████| 62/62 [00:30<00:00,  2.01it/s]\n",
      "Iteration:   3%|▎         | 2/62 [00:00<00:04, 12.97it/s]]"
     ]
    },
    {
     "name": "stdout",
     "output_type": "stream",
     "text": [
      "Evaluating...\n"
     ]
    },
    {
     "name": "stderr",
     "output_type": "stream",
     "text": [
      "Iteration: 100%|██████████| 62/62 [00:04<00:00, 14.70it/s]\n",
      "Iteration: 100%|██████████| 18/18 [00:01<00:00, 10.65it/s]\n",
      "Iteration: 100%|██████████| 62/62 [00:30<00:00,  2.00it/s]\n",
      "Iteration:  84%|████████▍ | 52/62 [00:03<00:00, 15.29it/s]"
     ]
    },
    {
     "name": "stdout",
     "output_type": "stream",
     "text": [
      "Evaluating...\n"
     ]
    },
    {
     "name": "stderr",
     "output_type": "stream",
     "text": [
      "Iteration: 100%|██████████| 62/62 [00:04<00:00, 14.71it/s]\n",
      "Iteration: 100%|██████████| 18/18 [00:01<00:00, 10.42it/s]\n",
      "Iteration: 100%|██████████| 62/62 [00:31<00:00,  1.99it/s]\n",
      "Iteration:   0%|          | 0/62 [00:00<?, ?it/s]"
     ]
    },
    {
     "name": "stdout",
     "output_type": "stream",
     "text": [
      "Evaluating...\n"
     ]
    },
    {
     "name": "stderr",
     "output_type": "stream",
     "text": [
      "Iteration: 100%|██████████| 62/62 [00:04<00:00, 14.52it/s]\n",
      "Iteration: 100%|██████████| 7/7 [00:00<00:00,  8.36it/s]s]\n",
      "Iteration:   2%|▏         | 1/62 [00:00<00:08,  6.94it/s]"
     ]
    },
    {
     "name": "stdout",
     "output_type": "stream",
     "text": [
      "{'Train':  best_epoch_indx:0\n",
      " auc:0.731759486230066 \n",
      " apur:0.6755884975366779 \n",
      " f1:0.6371921449495497 \n",
      " precision:0.5551564420077512 \n",
      " recall:0.7476766390833863 \n",
      ", 'Validation':  best_epoch_indx:0\n",
      " auc:0.7222723608748809 \n",
      " apur:0.6608121892974483 \n",
      " f1:0.6269685039370079 \n",
      " precision:0.5496117342536669 \n",
      " recall:0.7296678121420389 \n",
      ", 'Test':  best_epoch_indx:0\n",
      " auc:0.7256639107234892 \n",
      " apur:0.6644329106009537 \n",
      " f1:0.6331384015594542 \n",
      " precision:0.5508819538670285 \n",
      " recall:0.7442713107241063 \n",
      "}\n",
      "=====Epoch 1\n",
      "Training...\n"
     ]
    },
    {
     "name": "stderr",
     "output_type": "stream",
     "text": [
      "Iteration: 100%|██████████| 18/18 [00:01<00:00, 10.41it/s]\n",
      "Iteration: 100%|██████████| 62/62 [00:30<00:00,  2.03it/s]\n",
      "Iteration:   0%|          | 0/7 [00:00<?, ?it/s]]"
     ]
    },
    {
     "name": "stdout",
     "output_type": "stream",
     "text": [
      "Evaluating...\n"
     ]
    },
    {
     "name": "stderr",
     "output_type": "stream",
     "text": [
      "Iteration: 100%|██████████| 7/7 [00:00<00:00,  8.09it/s]s]\n",
      "Iteration:   0%|          | 0/62 [00:00<?, ?it/s]6.17it/s]"
     ]
    },
    {
     "name": "stdout",
     "output_type": "stream",
     "text": [
      "{'Train':  best_epoch_indx:0\n",
      " auc:0.6943918502748174 \n",
      " apur:0.6264761234211044 \n",
      " f1:0.4343116701607268 \n",
      " precision:0.6919009184525466 \n",
      " recall:0.3164863144493953 \n",
      ", 'Validation':  best_epoch_indx:0\n",
      " auc:0.6939435400202868 \n",
      " apur:0.6224692979487598 \n",
      " f1:0.43754848719937944 \n",
      " precision:0.6778846153846154 \n",
      " recall:0.3230240549828179 \n",
      ", 'Test':  best_epoch_indx:0\n",
      " auc:0.6900195045474605 \n",
      " apur:0.6238032585974009 \n",
      " f1:0.4414611301904464 \n",
      " precision:0.692458374142997 \n",
      " recall:0.32401466544454627 \n",
      "}\n",
      "=====Epoch 1\n",
      "Training...\n"
     ]
    },
    {
     "name": "stderr",
     "output_type": "stream",
     "text": [
      "Iteration: 100%|██████████| 62/62 [00:04<00:00, 14.33it/s]\n",
      "Iteration: 100%|██████████| 18/18 [00:01<00:00, 10.33it/s]\n",
      "Iteration: 100%|██████████| 62/62 [00:04<00:00, 14.58it/s]\n",
      "Iteration: 100%|██████████| 7/7 [00:00<00:00,  8.11it/s]s]\n",
      "Iteration:  76%|███████▌  | 47/62 [00:07<00:02,  6.19it/s]"
     ]
    },
    {
     "name": "stdout",
     "output_type": "stream",
     "text": [
      "{'Train':  best_epoch_indx:0\n",
      " auc:0.7035216407774448 \n",
      " apur:0.6374386702176099 \n",
      " f1:0.6224180666483062 \n",
      " precision:0.4866843729811212 \n",
      " recall:0.8631444939528963 \n",
      ", 'Validation':  best_epoch_indx:0\n",
      " auc:0.677710669119604 \n",
      " apur:0.6063906525244824 \n",
      " f1:0.6174055829228243 \n",
      " precision:0.48112603966730644 \n",
      " recall:0.861397479954181 \n",
      ", 'Test':  best_epoch_indx:0\n",
      " auc:0.7038347525715621 \n",
      " apur:0.6282871823863231 \n",
      " f1:0.6324617661568821 \n",
      " precision:0.4932033854834573 \n",
      " recall:0.881301558203483 \n",
      "}\n",
      "=====Epoch 1\n",
      "Training...\n"
     ]
    },
    {
     "name": "stderr",
     "output_type": "stream",
     "text": [
      "Iteration: 100%|██████████| 18/18 [00:01<00:00, 10.64it/s]\n",
      "Iteration: 100%|██████████| 62/62 [00:10<00:00,  6.19it/s]\n",
      "Iteration:   3%|▎         | 2/62 [00:00<00:04, 12.96it/s]]"
     ]
    },
    {
     "name": "stdout",
     "output_type": "stream",
     "text": [
      "Evaluating...\n"
     ]
    },
    {
     "name": "stderr",
     "output_type": "stream",
     "text": [
      "Iteration: 100%|██████████| 7/7 [00:00<00:00,  7.55it/s]s]\n",
      "Iteration:  39%|███▊      | 24/62 [00:01<00:02, 14.89it/s]"
     ]
    },
    {
     "name": "stdout",
     "output_type": "stream",
     "text": [
      "{'Train':  best_epoch_indx:0\n",
      " auc:0.6878228521036394 \n",
      " apur:0.6191300087175791 \n",
      " f1:0.38115356355620866 \n",
      " precision:0.6841411144081767 \n",
      " recall:0.2641629535327817 \n",
      ", 'Validation':  best_epoch_indx:0\n",
      " auc:0.6724258622884052 \n",
      " apur:0.6031906003668869 \n",
      " f1:0.3622704507512521 \n",
      " precision:0.6676923076923077 \n",
      " recall:0.24856815578465064 \n",
      ", 'Test':  best_epoch_indx:0\n",
      " auc:0.685371663622171 \n",
      " apur:0.6229856182932687 \n",
      " f1:0.3856858846918489 \n",
      " precision:0.6961722488038278 \n",
      " recall:0.26672777268560954 \n",
      "}\n",
      "=====Epoch 1\n",
      "Training...\n"
     ]
    },
    {
     "name": "stderr",
     "output_type": "stream",
     "text": [
      "Iteration: 100%|██████████| 62/62 [00:09<00:00,  6.24it/s]\n",
      "Iteration:  63%|██████▎   | 39/62 [00:06<00:03,  6.36it/s]"
     ]
    },
    {
     "name": "stdout",
     "output_type": "stream",
     "text": [
      "Evaluating...\n"
     ]
    },
    {
     "name": "stderr",
     "output_type": "stream",
     "text": [
      "Iteration: 100%|██████████| 62/62 [00:04<00:00, 14.94it/s]\n",
      "Iteration: 100%|██████████| 7/7 [00:00<00:00,  7.91it/s]s]\n",
      "Iteration:  26%|██▌       | 16/62 [00:01<00:03, 14.37it/s]"
     ]
    },
    {
     "name": "stdout",
     "output_type": "stream",
     "text": [
      "{'Train':  best_epoch_indx:0\n",
      " auc:0.7077153017240096 \n",
      " apur:0.6440142860366987 \n",
      " f1:0.6200192287148808 \n",
      " precision:0.534094046194902 \n",
      " recall:0.7388924252068746 \n",
      ", 'Validation':  best_epoch_indx:0\n",
      " auc:0.7077456504718819 \n",
      " apur:0.6509021243911455 \n",
      " f1:0.6125860373647983 \n",
      " precision:0.5366063738156761 \n",
      " recall:0.713631156930126 \n",
      ", 'Test':  best_epoch_indx:0\n",
      " auc:0.710665881694096 \n",
      " apur:0.6479517616860645 \n",
      " f1:0.622316766582866 \n",
      " precision:0.5383071261291402 \n",
      " recall:0.7373968835930339 \n",
      "}\n",
      "=====Epoch 1\n",
      "Training...\n"
     ]
    },
    {
     "name": "stderr",
     "output_type": "stream",
     "text": [
      "Iteration: 100%|██████████| 18/18 [00:01<00:00, 16.00it/s]\n",
      "Iteration: 100%|██████████| 62/62 [00:09<00:00,  6.22it/s]\n",
      "Iteration:  90%|█████████ | 56/62 [00:03<00:00, 15.32it/s]"
     ]
    },
    {
     "name": "stdout",
     "output_type": "stream",
     "text": [
      "Evaluating...\n"
     ]
    },
    {
     "name": "stderr",
     "output_type": "stream",
     "text": [
      "Iteration: 100%|██████████| 62/62 [00:04<00:00, 15.04it/s]\n",
      "Iteration: 100%|██████████| 18/18 [00:01<00:00, 15.99it/s]\n",
      "Iteration: 100%|██████████| 7/7 [00:00<00:00, 14.93it/s]s]\n",
      "Iteration:   2%|▏         | 1/62 [00:00<00:09,  6.70it/s]]"
     ]
    },
    {
     "name": "stdout",
     "output_type": "stream",
     "text": [
      "{'Train':  best_epoch_indx:1\n",
      " auc:0.7862050786131527 \n",
      " apur:0.7334230904009146 \n",
      " f1:0.6747045481676018 \n",
      " precision:0.6351275424204967 \n",
      " recall:0.7195416931890516 \n",
      ", 'Validation':  best_epoch_indx:1\n",
      " auc:0.7740916226025046 \n",
      " apur:0.7156934328763205 \n",
      " f1:0.66738894907909 \n",
      " precision:0.6330935251798561 \n",
      " recall:0.7056128293241696 \n",
      ", 'Test':  best_epoch_indx:1\n",
      " auc:0.7825199751872529 \n",
      " apur:0.7213461093925244 \n",
      " f1:0.673889951136605 \n",
      " precision:0.6281188118811881 \n",
      " recall:0.7268560953253895 \n",
      "}\n",
      "=====Epoch 2\n",
      "Training...\n"
     ]
    },
    {
     "name": "stderr",
     "output_type": "stream",
     "text": [
      "Iteration: 100%|██████████| 62/62 [00:04<00:00, 14.90it/s]\n",
      "Iteration: 100%|██████████| 62/62 [00:10<00:00,  6.14it/s]\n",
      "Iteration:   0%|          | 0/18 [00:00<?, ?it/s]"
     ]
    },
    {
     "name": "stdout",
     "output_type": "stream",
     "text": [
      "Evaluating...\n"
     ]
    },
    {
     "name": "stderr",
     "output_type": "stream",
     "text": [
      "Iteration: 100%|██████████| 18/18 [00:01<00:00, 15.83it/s]\n",
      "Iteration: 100%|██████████| 7/7 [00:00<00:00, 14.91it/s]s]\n",
      "Iteration:  35%|███▌      | 22/62 [00:03<00:06,  6.17it/s]"
     ]
    },
    {
     "name": "stdout",
     "output_type": "stream",
     "text": [
      "{'Train':  best_epoch_indx:1\n",
      " auc:0.7659751403296928 \n",
      " apur:0.7130317110925357 \n",
      " f1:0.594738792145239 \n",
      " precision:0.7115248226950355 \n",
      " recall:0.5108847867600255 \n",
      ", 'Validation':  best_epoch_indx:1\n",
      " auc:0.7592409393669417 \n",
      " apur:0.7023594170781116 \n",
      " f1:0.5958279009126467 \n",
      " precision:0.6913767019667171 \n",
      " recall:0.5234822451317297 \n",
      ", 'Test':  best_epoch_indx:1\n",
      " auc:0.7569844488267953 \n",
      " apur:0.7062761654316249 \n",
      " f1:0.6057413747695549 \n",
      " precision:0.7120743034055728 \n",
      " recall:0.5270394133822182 \n",
      "}\n",
      "=====Epoch 2\n",
      "Training...\n"
     ]
    },
    {
     "name": "stderr",
     "output_type": "stream",
     "text": [
      "Iteration: 100%|██████████| 62/62 [00:10<00:00,  6.16it/s]\n",
      "Iteration:  40%|████      | 25/62 [00:04<00:05,  6.25it/s]"
     ]
    },
    {
     "name": "stdout",
     "output_type": "stream",
     "text": [
      "Evaluating...\n"
     ]
    },
    {
     "name": "stderr",
     "output_type": "stream",
     "text": [
      "Iteration: 100%|██████████| 62/62 [00:04<00:00, 14.74it/s]\n",
      "Iteration: 100%|██████████| 18/18 [00:01<00:00, 15.83it/s]\n",
      "Iteration: 100%|██████████| 7/7 [00:00<00:00, 14.87it/s]s]\n",
      "Iteration:  74%|███████▍  | 46/62 [00:07<00:02,  6.16it/s]"
     ]
    },
    {
     "name": "stdout",
     "output_type": "stream",
     "text": [
      "{'Train':  best_epoch_indx:1\n",
      " auc:0.7672376487064717 \n",
      " apur:0.7092717723948463 \n",
      " f1:0.6638272874137171 \n",
      " precision:0.539293668469615 \n",
      " recall:0.8631444939528963 \n",
      ", 'Validation':  best_epoch_indx:1\n",
      " auc:0.7467308634261671 \n",
      " apur:0.6763047555642454 \n",
      " f1:0.6494980357922304 \n",
      " precision:0.5246826516220028 \n",
      " recall:0.852233676975945 \n",
      ", 'Test':  best_epoch_indx:1\n",
      " auc:0.7673402735693211 \n",
      " apur:0.7077984370042082 \n",
      " f1:0.6633025926570385 \n",
      " precision:0.5346423562412342 \n",
      " recall:0.8735105407882676 \n",
      "}\n",
      "=====Epoch 2\n",
      "Training...\n"
     ]
    },
    {
     "name": "stderr",
     "output_type": "stream",
     "text": [
      "Iteration: 100%|██████████| 62/62 [00:04<00:00, 15.05it/s]\n",
      "Iteration: 100%|██████████| 18/18 [00:01<00:00, 16.12it/s]\n",
      "Iteration: 100%|██████████| 62/62 [00:09<00:00,  6.23it/s]\n",
      "Iteration:   3%|▎         | 2/62 [00:00<00:04, 13.19it/s]]"
     ]
    },
    {
     "name": "stdout",
     "output_type": "stream",
     "text": [
      "Evaluating...\n"
     ]
    },
    {
     "name": "stderr",
     "output_type": "stream",
     "text": [
      "Iteration: 100%|██████████| 7/7 [00:00<00:00, 15.19it/s]s]\n",
      "Iteration:   2%|▏         | 1/62 [00:00<00:09,  6.76it/s]]"
     ]
    },
    {
     "name": "stdout",
     "output_type": "stream",
     "text": [
      "{'Train':  best_epoch_indx:1\n",
      " auc:0.7701666548568863 \n",
      " apur:0.7147304175466657 \n",
      " f1:0.5627394636015325 \n",
      " precision:0.7543334046650974 \n",
      " recall:0.4487587523870146 \n",
      ", 'Validation':  best_epoch_indx:1\n",
      " auc:0.7520286870229597 \n",
      " apur:0.7016580295259568 \n",
      " f1:0.5505376344086022 \n",
      " precision:0.735632183908046 \n",
      " recall:0.43986254295532645 \n",
      ", 'Test':  best_epoch_indx:1\n",
      " auc:0.7602191789956652 \n",
      " apur:0.7104840640626873 \n",
      " f1:0.5630180051443269 \n",
      " precision:0.7479119210326499 \n",
      " recall:0.45142071494042163 \n",
      "}\n",
      "=====Epoch 2\n",
      "Training...\n"
     ]
    },
    {
     "name": "stderr",
     "output_type": "stream",
     "text": [
      "Iteration: 100%|██████████| 62/62 [00:09<00:00,  6.26it/s]\n",
      "Iteration:  84%|████████▍ | 52/62 [00:03<00:00, 15.28it/s]"
     ]
    },
    {
     "name": "stdout",
     "output_type": "stream",
     "text": [
      "Evaluating...\n"
     ]
    },
    {
     "name": "stderr",
     "output_type": "stream",
     "text": [
      "Iteration: 100%|██████████| 62/62 [00:04<00:00, 14.43it/s]\n",
      "Iteration: 100%|██████████| 7/7 [00:00<00:00, 14.94it/s]s]\n",
      "Iteration:  29%|██▉       | 18/62 [00:01<00:02, 14.86it/s]"
     ]
    },
    {
     "name": "stdout",
     "output_type": "stream",
     "text": [
      "{'Train':  best_epoch_indx:1\n",
      " auc:0.7755688314688767 \n",
      " apur:0.7220497749993627 \n",
      " f1:0.6705276705276706 \n",
      " precision:0.5792643379968498 \n",
      " recall:0.7959261616804583 \n",
      ", 'Validation':  best_epoch_indx:1\n",
      " auc:0.777038232651062 \n",
      " apur:0.7213326640826849 \n",
      " f1:0.6760700389105058 \n",
      " precision:0.5874894336432798 \n",
      " recall:0.7961053837342497 \n",
      ", 'Test':  best_epoch_indx:1\n",
      " auc:0.7769854645266594 \n",
      " apur:0.7228864728834548 \n",
      " f1:0.671345029239766 \n",
      " precision:0.5841248303934871 \n",
      " recall:0.7891842346471127 \n",
      "}\n",
      "=====Epoch 2\n",
      "Training...\n"
     ]
    },
    {
     "name": "stderr",
     "output_type": "stream",
     "text": [
      "Iteration: 100%|██████████| 18/18 [00:01<00:00, 16.01it/s]\n",
      "Iteration: 100%|██████████| 62/62 [00:10<00:00,  6.17it/s]\n",
      "Iteration:  29%|██▉       | 18/62 [00:02<00:07,  6.18it/s]"
     ]
    },
    {
     "name": "stdout",
     "output_type": "stream",
     "text": [
      "Evaluating...\n"
     ]
    },
    {
     "name": "stderr",
     "output_type": "stream",
     "text": [
      "Iteration: 100%|██████████| 62/62 [00:04<00:00, 14.51it/s]\n",
      "Iteration: 100%|██████████| 18/18 [00:01<00:00, 16.05it/s]\n",
      "Iteration: 100%|██████████| 7/7 [00:00<00:00, 15.00it/s]s]\n",
      "Iteration:  84%|████████▍ | 52/62 [00:03<00:00, 15.13it/s]"
     ]
    },
    {
     "name": "stdout",
     "output_type": "stream",
     "text": [
      "{'Train':  best_epoch_indx:2\n",
      " auc:0.8034208650939451 \n",
      " apur:0.7500861532813508 \n",
      " f1:0.699094497329928 \n",
      " precision:0.6424837298623707 \n",
      " recall:0.7666454487587524 \n",
      ", 'Validation':  best_epoch_indx:2\n",
      " auc:0.7871749183318485 \n",
      " apur:0.731100244618256 \n",
      " f1:0.6751188589540411 \n",
      " precision:0.6264705882352941 \n",
      " recall:0.7319587628865979 \n",
      ", 'Test':  best_epoch_indx:2\n",
      " auc:0.7965240550941743 \n",
      " apur:0.7384167195005547 \n",
      " f1:0.6991701244813278 \n",
      " precision:0.6387414708112206 \n",
      " recall:0.7722273143904674 \n",
      "}\n",
      "=====Epoch 3\n",
      "Training...\n"
     ]
    },
    {
     "name": "stderr",
     "output_type": "stream",
     "text": [
      "Iteration: 100%|██████████| 62/62 [00:04<00:00, 14.29it/s]\n",
      "Iteration: 100%|██████████| 62/62 [00:10<00:00,  6.16it/s]\n",
      "Iteration:  10%|▉         | 6/62 [00:00<00:08,  6.39it/s]]"
     ]
    },
    {
     "name": "stdout",
     "output_type": "stream",
     "text": [
      "Evaluating...\n"
     ]
    },
    {
     "name": "stderr",
     "output_type": "stream",
     "text": [
      "Iteration: 100%|██████████| 18/18 [00:01<00:00, 15.90it/s]\n",
      "Iteration: 100%|██████████| 7/7 [00:00<00:00, 14.84it/s]s]\n",
      "Iteration:   0%|          | 0/62 [00:00<?, ?it/s]5.09it/s]"
     ]
    },
    {
     "name": "stdout",
     "output_type": "stream",
     "text": [
      "{'Train':  best_epoch_indx:2\n",
      " auc:0.7957215276726957 \n",
      " apur:0.743307810213685 \n",
      " f1:0.6269941381613119 \n",
      " precision:0.7515119174670936 \n",
      " recall:0.5378739656269892 \n",
      ", 'Validation':  best_epoch_indx:2\n",
      " auc:0.7896230344683952 \n",
      " apur:0.7308761180141514 \n",
      " f1:0.6218158066623123 \n",
      " precision:0.723404255319149 \n",
      " recall:0.54524627720504 \n",
      ", 'Test':  best_epoch_indx:2\n",
      " auc:0.7838567465056925 \n",
      " apur:0.7305013686096606 \n",
      " f1:0.6273572377158035 \n",
      " precision:0.7460518003790272 \n",
      " recall:0.5412465627864345 \n",
      "}\n",
      "=====Epoch 3\n",
      "Training...\n"
     ]
    },
    {
     "name": "stderr",
     "output_type": "stream",
     "text": [
      "\r",
      "Iteration:  61%|██████▏   | 38/62 [00:02<00:01, 15.12it/s]\r",
      "Iteration:  35%|███▌      | 22/62 [00:03<00:06,  6.17it/s]\r",
      "Iteration:  98%|█████████▊| 61/62 [00:09<00:00,  6.13it/s]\r",
      "Iteration:   2%|▏         | 1/62 [00:00<00:08,  7.03it/s]\r",
      "Iteration:  65%|██████▍   | 40/62 [00:02<00:01, 15.06it/s]\r",
      "Iteration: 100%|██████████| 62/62 [00:10<00:00,  6.34it/s]\r",
      "Iteration: 100%|██████████| 62/62 [00:10<00:00,  6.16it/s]\n",
      "\r",
      "Iteration:   0%|          | 0/62 [00:00<?, ?it/s]\r",
      "Iteration:  37%|███▋      | 23/62 [00:03<00:06,  6.17it/s]\r",
      "Iteration:   3%|▎         | 2/62 [00:00<00:09,  6.43it/s]"
     ]
    },
    {
     "name": "stdout",
     "output_type": "stream",
     "text": [
      "Evaluating...\n"
     ]
    },
    {
     "name": "stderr",
     "output_type": "stream",
     "text": [
      "Iteration: 100%|██████████| 62/62 [00:04<00:00, 14.24it/s]\n",
      "Iteration: 100%|██████████| 18/18 [00:01<00:00, 15.83it/s]\n",
      "Iteration: 100%|██████████| 7/7 [00:00<00:00, 14.81it/s]s]\n",
      "Iteration:  42%|████▏     | 26/62 [00:04<00:05,  6.13it/s]"
     ]
    },
    {
     "name": "stdout",
     "output_type": "stream",
     "text": [
      "{'Train':  best_epoch_indx:2\n",
      " auc:0.7989094193815764 \n",
      " apur:0.7438527691518494 \n",
      " f1:0.6832870487250695 \n",
      " precision:0.6775566403805232 \n",
      " recall:0.6891152132399745 \n",
      ", 'Validation':  best_epoch_indx:2\n",
      " auc:0.7778983033851304 \n",
      " apur:0.7213049826241908 \n",
      " f1:0.6628242074927954 \n",
      " precision:0.6670533642691415 \n",
      " recall:0.6586483390607102 \n",
      ", 'Test':  best_epoch_indx:2\n",
      " auc:0.8017786297083302 \n",
      " apur:0.7451391883918176 \n",
      " f1:0.6812730627306274 \n",
      " precision:0.6857010213556175 \n",
      " recall:0.6769019248395967 \n",
      "}\n",
      "=====Epoch 3\n",
      "Training...\n"
     ]
    },
    {
     "name": "stderr",
     "output_type": "stream",
     "text": [
      "Iteration: 100%|██████████| 62/62 [00:04<00:00, 14.36it/s]\n",
      "Iteration: 100%|██████████| 18/18 [00:01<00:00, 16.16it/s]\n",
      "Iteration: 100%|██████████| 62/62 [00:09<00:00,  6.23it/s]\n",
      "Iteration:  66%|██████▌   | 41/62 [00:06<00:03,  6.21it/s]"
     ]
    },
    {
     "name": "stdout",
     "output_type": "stream",
     "text": [
      "Evaluating...\n"
     ]
    },
    {
     "name": "stderr",
     "output_type": "stream",
     "text": [
      "Iteration: 100%|██████████| 7/7 [00:00<00:00, 14.78it/s]s]\n",
      "Iteration:  45%|████▌     | 28/62 [00:04<00:05,  6.05it/s]"
     ]
    },
    {
     "name": "stdout",
     "output_type": "stream",
     "text": [
      "{'Train':  best_epoch_indx:2\n",
      " auc:0.7917508287190835 \n",
      " apur:0.7423738876206083 \n",
      " f1:0.6377396569122099 \n",
      " precision:0.7350058149194219 \n",
      " recall:0.5632081476766391 \n",
      ", 'Validation':  best_epoch_indx:2\n",
      " auc:0.7728776886852489 \n",
      " apur:0.7258274258951711 \n",
      " f1:0.6154847104749511 \n",
      " precision:0.7123493975903614 \n",
      " recall:0.5418098510882016 \n",
      ", 'Test':  best_epoch_indx:2\n",
      " auc:0.7814470889074052 \n",
      " apur:0.7367931752651569 \n",
      " f1:0.632284682826199 \n",
      " precision:0.722877358490566 \n",
      " recall:0.5618698441796517 \n",
      "}\n",
      "=====Epoch 3\n",
      "Training...\n"
     ]
    },
    {
     "name": "stderr",
     "output_type": "stream",
     "text": [
      "Iteration: 100%|██████████| 62/62 [00:09<00:00,  6.22it/s]\n",
      "Iteration:   3%|▎         | 2/62 [00:00<00:04, 13.11it/s]]"
     ]
    },
    {
     "name": "stdout",
     "output_type": "stream",
     "text": [
      "Evaluating...\n"
     ]
    },
    {
     "name": "stderr",
     "output_type": "stream",
     "text": [
      "Iteration: 100%|██████████| 62/62 [00:04<00:00, 15.01it/s]\n",
      "Iteration: 100%|██████████| 7/7 [00:00<00:00, 15.00it/s]s]\n",
      "Iteration:  26%|██▌       | 16/62 [00:02<00:07,  6.09it/s]"
     ]
    },
    {
     "name": "stdout",
     "output_type": "stream",
     "text": [
      "{'Train':  best_epoch_indx:2\n",
      " auc:0.7976337725579211 \n",
      " apur:0.7426443761855308 \n",
      " f1:0.6887468741317033 \n",
      " precision:0.6111439842209073 \n",
      " recall:0.7889242520687461 \n",
      ", 'Validation':  best_epoch_indx:2\n",
      " auc:0.7930372838734809 \n",
      " apur:0.738610843164909 \n",
      " f1:0.6818873668188736 \n",
      " precision:0.6120218579234973 \n",
      " recall:0.7697594501718213 \n",
      ", 'Test':  best_epoch_indx:2\n",
      " auc:0.7968861091035722 \n",
      " apur:0.7444175907132851 \n",
      " f1:0.685737472103875 \n",
      " precision:0.6152165999271934 \n",
      " recall:0.7745187901008249 \n",
      "}\n",
      "=====Epoch 3\n",
      "Training...\n"
     ]
    },
    {
     "name": "stderr",
     "output_type": "stream",
     "text": [
      "Iteration: 100%|██████████| 18/18 [00:01<00:00, 15.97it/s]\n",
      "Iteration: 100%|██████████| 62/62 [00:04<00:00, 15.12it/s]\n",
      "Iteration: 100%|██████████| 62/62 [00:10<00:00,  6.15it/s]\n",
      "Iteration:   3%|▎         | 2/62 [00:00<00:04, 12.81it/s]]"
     ]
    },
    {
     "name": "stdout",
     "output_type": "stream",
     "text": [
      "Evaluating...\n"
     ]
    },
    {
     "name": "stderr",
     "output_type": "stream",
     "text": [
      "Iteration: 100%|██████████| 18/18 [00:01<00:00, 15.92it/s]\n",
      "Iteration: 100%|██████████| 7/7 [00:00<00:00, 14.30it/s]s]\n",
      "Iteration:  87%|████████▋ | 54/62 [00:08<00:01,  6.04it/s]"
     ]
    },
    {
     "name": "stdout",
     "output_type": "stream",
     "text": [
      "{'Train':  best_epoch_indx:3\n",
      " auc:0.8138263641468212 \n",
      " apur:0.763750934900029 \n",
      " f1:0.696261384625183 \n",
      " precision:0.6966607188376243 \n",
      " recall:0.6958625079567154 \n",
      ", 'Validation':  best_epoch_indx:3\n",
      " auc:0.8017392327243414 \n",
      " apur:0.746819394341582 \n",
      " f1:0.6771014492753623 \n",
      " precision:0.6854460093896714 \n",
      " recall:0.6689576174112256 \n",
      ", 'Test':  best_epoch_indx:3\n",
      " auc:0.8070790397096538 \n",
      " apur:0.7537342516091087 \n",
      " f1:0.6893578398003176 \n",
      " precision:0.6826966292134832 \n",
      " recall:0.6961503208065994 \n",
      "}\n",
      "=====Epoch 4\n",
      "Training...\n"
     ]
    },
    {
     "name": "stderr",
     "output_type": "stream",
     "text": [
      "Iteration: 100%|██████████| 62/62 [00:04<00:00, 14.89it/s]\n",
      "Iteration: 100%|██████████| 62/62 [00:10<00:00,  6.15it/s]\n",
      "Iteration:   0%|          | 0/62 [00:00<?, ?it/s]"
     ]
    },
    {
     "name": "stdout",
     "output_type": "stream",
     "text": [
      "Evaluating...\n"
     ]
    },
    {
     "name": "stderr",
     "output_type": "stream",
     "text": [
      "Iteration: 100%|██████████| 18/18 [00:01<00:00, 15.83it/s]\n",
      "Iteration: 100%|██████████| 7/7 [00:00<00:00, 14.06it/s]s]\n",
      "Iteration:  48%|████▊     | 30/62 [00:02<00:02, 15.02it/s]"
     ]
    },
    {
     "name": "stdout",
     "output_type": "stream",
     "text": [
      "{'Train':  best_epoch_indx:3\n",
      " auc:0.8073540327930122 \n",
      " apur:0.7596051124813264 \n",
      " f1:0.6681573614701978 \n",
      " precision:0.7405514250309789 \n",
      " recall:0.6086569064290261 \n",
      ", 'Validation':  best_epoch_indx:3\n",
      " auc:0.7998301071038756 \n",
      " apur:0.742527476741644 \n",
      " f1:0.6662531017369728 \n",
      " precision:0.7266576454668471 \n",
      " recall:0.6151202749140894 \n",
      ", 'Test':  best_epoch_indx:3\n",
      " auc:0.7977855240458357 \n",
      " apur:0.7491979792888762 \n",
      " f1:0.6619824341279799 \n",
      " precision:0.7315585135884637 \n",
      " recall:0.6044912923923006 \n",
      "}\n",
      "=====Epoch 4\n",
      "Training...\n"
     ]
    },
    {
     "name": "stderr",
     "output_type": "stream",
     "text": [
      "Iteration: 100%|██████████| 62/62 [00:09<00:00,  6.22it/s]\n",
      "Iteration:  39%|███▊      | 24/62 [00:03<00:06,  6.20it/s]"
     ]
    },
    {
     "name": "stdout",
     "output_type": "stream",
     "text": [
      "Evaluating...\n"
     ]
    },
    {
     "name": "stderr",
     "output_type": "stream",
     "text": [
      "Iteration: 100%|██████████| 62/62 [00:04<00:00, 14.82it/s]\n",
      "Iteration: 100%|██████████| 18/18 [00:01<00:00, 15.84it/s]\n",
      "Iteration: 100%|██████████| 7/7 [00:00<00:00, 14.31it/s]s]\n",
      "Iteration:  77%|███████▋  | 48/62 [00:07<00:02,  6.23it/s]"
     ]
    },
    {
     "name": "stdout",
     "output_type": "stream",
     "text": [
      "{'Train':  best_epoch_indx:3\n",
      " auc:0.8157132879083528 \n",
      " apur:0.7589023826619239 \n",
      " f1:0.7095381959430298 \n",
      " precision:0.687948350071736 \n",
      " recall:0.7325270528325907 \n",
      ", 'Validation':  best_epoch_indx:3\n",
      " auc:0.7963204014177668 \n",
      " apur:0.7334707537635768 \n",
      " f1:0.689655172413793 \n",
      " precision:0.660377358490566 \n",
      " recall:0.7216494845360825 \n",
      ", 'Test':  best_epoch_indx:3\n",
      " auc:0.8154111736338128 \n",
      " apur:0.7587504146909901 \n",
      " f1:0.7066161728670084 \n",
      " precision:0.6874729085392285 \n",
      " recall:0.7268560953253895 \n",
      "}\n",
      "=====Epoch 4\n",
      "Training...\n"
     ]
    },
    {
     "name": "stderr",
     "output_type": "stream",
     "text": [
      "Iteration: 100%|██████████| 62/62 [00:04<00:00, 15.07it/s]\n",
      "Iteration: 100%|██████████| 18/18 [00:01<00:00, 16.12it/s]\n",
      "Iteration: 100%|██████████| 62/62 [00:09<00:00,  6.24it/s]\n",
      "Iteration:   3%|▎         | 2/62 [00:00<00:04, 13.04it/s]]"
     ]
    },
    {
     "name": "stdout",
     "output_type": "stream",
     "text": [
      "Evaluating...\n"
     ]
    },
    {
     "name": "stderr",
     "output_type": "stream",
     "text": [
      "Iteration: 100%|██████████| 7/7 [00:00<00:00, 14.38it/s]s]\n",
      "Iteration:  61%|██████▏   | 38/62 [00:02<00:01, 15.22it/s]"
     ]
    },
    {
     "name": "stdout",
     "output_type": "stream",
     "text": [
      "{'Train':  best_epoch_indx:3\n",
      " auc:0.8116346919344362 \n",
      " apur:0.7639458043060249 \n",
      " f1:0.6852675562744305 \n",
      " precision:0.7280538450522698 \n",
      " recall:0.6472310630171865 \n",
      ", 'Validation':  best_epoch_indx:3\n",
      " auc:0.7911117667704151 \n",
      " apur:0.7474088520007166 \n",
      " f1:0.6670687575392037 \n",
      " precision:0.7044585987261146 \n",
      " recall:0.6334478808705613 \n",
      ", 'Test':  best_epoch_indx:3\n",
      " auc:0.8010537546705507 \n",
      " apur:0.7555020027269435 \n",
      " f1:0.6721830128985155 \n",
      " precision:0.7166580176440063 \n",
      " recall:0.6329055912007333 \n",
      "}\n",
      "=====Epoch 4\n",
      "Training...\n"
     ]
    },
    {
     "name": "stderr",
     "output_type": "stream",
     "text": [
      "Iteration: 100%|██████████| 62/62 [00:09<00:00,  6.25it/s]\n",
      "Iteration:  81%|████████  | 50/62 [00:03<00:00, 15.33it/s]"
     ]
    },
    {
     "name": "stdout",
     "output_type": "stream",
     "text": [
      "Evaluating...\n"
     ]
    },
    {
     "name": "stderr",
     "output_type": "stream",
     "text": [
      "Iteration: 100%|██████████| 62/62 [00:04<00:00, 15.04it/s]\n",
      "Iteration: 100%|██████████| 7/7 [00:00<00:00, 14.55it/s]s]\n",
      "Iteration:  32%|███▏      | 20/62 [00:01<00:02, 15.01it/s]"
     ]
    },
    {
     "name": "stdout",
     "output_type": "stream",
     "text": [
      "{'Train':  best_epoch_indx:3\n",
      " auc:0.8072139497522626 \n",
      " apur:0.7523050308670833 \n",
      " f1:0.698559423769508 \n",
      " precision:0.6608745031232255 \n",
      " recall:0.7408020369191598 \n",
      ", 'Validation':  best_epoch_indx:3\n",
      " auc:0.7956416011971568 \n",
      " apur:0.7369394711525968 \n",
      " f1:0.6822888283378746 \n",
      " precision:0.6507276507276507 \n",
      " recall:0.7170675830469645 \n",
      ", 'Test':  best_epoch_indx:3\n",
      " auc:0.8068232721933551 \n",
      " apur:0.7534769549156293 \n",
      " f1:0.6916338151554972 \n",
      " precision:0.6623322147651006 \n",
      " recall:0.7236480293308891 \n",
      "}\n",
      "=====Epoch 4\n",
      "Training...\n"
     ]
    },
    {
     "name": "stderr",
     "output_type": "stream",
     "text": [
      "Iteration: 100%|██████████| 18/18 [00:01<00:00, 16.05it/s]\n",
      "Iteration: 100%|██████████| 62/62 [00:04<00:00, 15.17it/s]\n",
      "Iteration: 100%|██████████| 62/62 [00:10<00:00,  6.14it/s]\n",
      "Iteration:  56%|█████▋    | 35/62 [00:05<00:04,  6.31it/s]"
     ]
    },
    {
     "name": "stdout",
     "output_type": "stream",
     "text": [
      "Evaluating...\n"
     ]
    },
    {
     "name": "stderr",
     "output_type": "stream",
     "text": [
      "Iteration: 100%|██████████| 18/18 [00:01<00:00, 16.10it/s]\n",
      "Iteration: 100%|██████████| 7/7 [00:00<00:00, 15.45it/s]s]\n",
      "Iteration:  74%|███████▍  | 46/62 [00:03<00:01, 15.20it/s]"
     ]
    },
    {
     "name": "stdout",
     "output_type": "stream",
     "text": [
      "{'Train':  best_epoch_indx:4\n",
      " auc:0.8204608281868144 \n",
      " apur:0.7738207225575611 \n",
      " f1:0.7119808958005708 \n",
      " precision:0.6562164483573115 \n",
      " recall:0.7781031190324634 \n",
      ", 'Validation':  best_epoch_indx:4\n",
      " auc:0.8015811031274949 \n",
      " apur:0.7489881956368845 \n",
      " f1:0.6897654584221748 \n",
      " precision:0.6450648055832503 \n",
      " recall:0.7411225658648339 \n",
      ", 'Test':  best_epoch_indx:4\n",
      " auc:0.8109749341875832 \n",
      " apur:0.7606126685700891 \n",
      " f1:0.7061522419186653 \n",
      " precision:0.6479142747799465 \n",
      " recall:0.7758936755270394 \n",
      "}\n",
      "=====Epoch 5\n",
      "Training...\n"
     ]
    },
    {
     "name": "stderr",
     "output_type": "stream",
     "text": [
      "Iteration: 100%|██████████| 62/62 [00:04<00:00, 14.97it/s]\n",
      "Iteration: 100%|██████████| 62/62 [00:10<00:00,  6.18it/s]\n",
      "Iteration:  22%|██▏       | 4/18 [00:00<00:00, 15.10it/s]"
     ]
    },
    {
     "name": "stdout",
     "output_type": "stream",
     "text": [
      "Evaluating...\n"
     ]
    },
    {
     "name": "stderr",
     "output_type": "stream",
     "text": [
      "Iteration: 100%|██████████| 18/18 [00:01<00:00, 15.85it/s]\n",
      "Iteration: 100%|██████████| 7/7 [00:00<00:00, 14.94it/s]s]\n",
      "Iteration:  95%|█████████▌| 59/62 [00:09<00:00,  6.15it/s]"
     ]
    },
    {
     "name": "stdout",
     "output_type": "stream",
     "text": [
      "{'Train':  best_epoch_indx:4\n",
      " auc:0.8145521738112894 \n",
      " apur:0.7677731872138502 \n",
      " f1:0.7056388383616635 \n",
      " precision:0.6954747774480712 \n",
      " recall:0.7161043921069382 \n",
      ", 'Validation':  best_epoch_indx:4\n",
      " auc:0.8044544336067818 \n",
      " apur:0.7517231446556774 \n",
      " f1:0.6879194630872483 \n",
      " precision:0.6721311475409836 \n",
      " recall:0.7044673539518901 \n",
      ", 'Test':  best_epoch_indx:4\n",
      " auc:0.8036378912868373 \n",
      " apur:0.754380394870006 \n",
      " f1:0.6926563916591115 \n",
      " precision:0.6852017937219731 \n",
      " recall:0.7002749770852429 \n",
      "}\n",
      "=====Epoch 5\n",
      "Training...\n"
     ]
    },
    {
     "name": "stderr",
     "output_type": "stream",
     "text": [
      "Iteration: 100%|██████████| 62/62 [00:10<00:00,  6.20it/s]\n",
      "Iteration:  39%|███▊      | 24/62 [00:03<00:06,  6.28it/s]"
     ]
    },
    {
     "name": "stdout",
     "output_type": "stream",
     "text": [
      "Evaluating...\n"
     ]
    },
    {
     "name": "stderr",
     "output_type": "stream",
     "text": [
      "Iteration: 100%|██████████| 62/62 [00:04<00:00, 14.89it/s]\n",
      "Iteration: 100%|██████████| 18/18 [00:01<00:00, 15.96it/s]\n",
      "Iteration: 100%|██████████| 62/62 [00:04<00:00, 15.03it/s]\n",
      "Iteration: 100%|██████████| 7/7 [00:00<00:00, 13.81it/s]\n",
      "Iteration:   0%|          | 0/62 [00:00<?, ?it/s]"
     ]
    },
    {
     "name": "stdout",
     "output_type": "stream",
     "text": [
      "{'Train':  best_epoch_indx:4\n",
      " auc:0.8248550046772684 \n",
      " apur:0.7774072216154566 \n",
      " f1:0.7179877157063469 \n",
      " precision:0.6641774891774892 \n",
      " recall:0.7812858052196053 \n",
      ", 'Validation':  best_epoch_indx:4\n",
      " auc:0.8031623990959614 \n",
      " apur:0.7503641264347478 \n",
      " f1:0.6997885835095137 \n",
      " precision:0.6496565260058881 \n",
      " recall:0.7583046964490263 \n",
      ", 'Test':  best_epoch_indx:4\n",
      " auc:0.823794856659666 \n",
      " apur:0.7759675194615099 \n",
      " f1:0.7122241086587436 \n",
      " precision:0.6632411067193675 \n",
      " recall:0.769019248395967 \n",
      "}\n",
      "=====Epoch 5\n",
      "Training...\n"
     ]
    },
    {
     "name": "stderr",
     "output_type": "stream",
     "text": [
      "Iteration: 100%|██████████| 18/18 [00:01<00:00, 16.05it/s]\n",
      "Iteration: 100%|██████████| 62/62 [00:10<00:00,  6.12it/s]\n",
      "Iteration:   0%|          | 0/62 [00:00<?, ?it/s]"
     ]
    },
    {
     "name": "stdout",
     "output_type": "stream",
     "text": [
      "Evaluating...\n"
     ]
    },
    {
     "name": "stderr",
     "output_type": "stream",
     "text": [
      "Iteration: 100%|██████████| 7/7 [00:00<00:00, 14.93it/s]s]\n",
      "Iteration:   2%|▏         | 1/62 [00:00<00:08,  6.84it/s]]"
     ]
    },
    {
     "name": "stdout",
     "output_type": "stream",
     "text": [
      "{'Train':  best_epoch_indx:4\n",
      " auc:0.8175554409642972 \n",
      " apur:0.7676561505368105 \n",
      " f1:0.71418380691951 \n",
      " precision:0.6699007471841195 \n",
      " recall:0.7647358370464672 \n",
      ", 'Validation':  best_epoch_indx:4\n",
      " auc:0.799230371681689 \n",
      " apur:0.7586299446080014 \n",
      " f1:0.6943685073810825 \n",
      " precision:0.6642259414225942 \n",
      " recall:0.7273768613974799 \n",
      ", 'Test':  best_epoch_indx:4\n",
      " auc:0.802864630204135 \n",
      " apur:0.756228059377076 \n",
      " f1:0.7020824479388016 \n",
      " precision:0.6545166402535658 \n",
      " recall:0.7571035747021082 \n",
      "}\n",
      "=====Epoch 5\n",
      "Training...\n"
     ]
    },
    {
     "name": "stderr",
     "output_type": "stream",
     "text": [
      "Iteration: 100%|██████████| 62/62 [00:10<00:00,  6.08it/s]\n",
      "Iteration:   0%|          | 0/62 [00:00<?, ?it/s]"
     ]
    },
    {
     "name": "stdout",
     "output_type": "stream",
     "text": [
      "Evaluating...\n"
     ]
    },
    {
     "name": "stderr",
     "output_type": "stream",
     "text": [
      "Iteration: 100%|██████████| 62/62 [00:04<00:00, 14.92it/s]\n",
      "Iteration: 100%|██████████| 7/7 [00:00<00:00, 15.33it/s]s]\n",
      "Iteration:  11%|█         | 2/18 [00:00<00:01, 15.27it/s]]"
     ]
    },
    {
     "name": "stdout",
     "output_type": "stream",
     "text": [
      "{'Train':  best_epoch_indx:4\n",
      " auc:0.819727456072083 \n",
      " apur:0.7715780538110282 \n",
      " f1:0.7061497966020579 \n",
      " precision:0.6660647782417335 \n",
      " recall:0.7513685550604711 \n",
      ", 'Validation':  best_epoch_indx:4\n",
      " auc:0.8166921216749395 \n",
      " apur:0.7662567129643505 \n",
      " f1:0.6957470010905125 \n",
      " precision:0.663891779396462 \n",
      " recall:0.7308132875143184 \n",
      ", 'Test':  best_epoch_indx:4\n",
      " auc:0.8161824338821658 \n",
      " apur:0.7739778616424703 \n",
      " f1:0.69921875 \n",
      " precision:0.6640560593569662 \n",
      " recall:0.7383134738771769 \n",
      "}\n",
      "=====Epoch 5\n",
      "Training...\n"
     ]
    },
    {
     "name": "stderr",
     "output_type": "stream",
     "text": [
      "Iteration: 100%|██████████| 18/18 [00:01<00:00, 15.95it/s]\n",
      "Iteration: 100%|██████████| 62/62 [00:04<00:00, 15.09it/s]\n",
      "Iteration: 100%|██████████| 62/62 [00:10<00:00,  6.02it/s]\n",
      "Iteration:  56%|█████▋    | 35/62 [00:05<00:04,  6.13it/s]"
     ]
    },
    {
     "name": "stdout",
     "output_type": "stream",
     "text": [
      "Evaluating...\n"
     ]
    },
    {
     "name": "stderr",
     "output_type": "stream",
     "text": [
      "Iteration: 100%|██████████| 18/18 [00:01<00:00, 16.07it/s]\n",
      "Iteration: 100%|██████████| 7/7 [00:00<00:00, 14.84it/s]s]\n",
      "Iteration:  65%|██████▍   | 40/62 [00:06<00:03,  6.23it/s]"
     ]
    },
    {
     "name": "stdout",
     "output_type": "stream",
     "text": [
      "{'Train':  best_epoch_indx:5\n",
      " auc:0.8326275565182122 \n",
      " apur:0.7930444501309457 \n",
      " f1:0.7146923028271457 \n",
      " precision:0.7101558572146808 \n",
      " recall:0.7192870782940802 \n",
      ", 'Validation':  best_epoch_indx:5\n",
      " auc:0.8130088591142428 \n",
      " apur:0.7701952251986157 \n",
      " f1:0.6923963133640554 \n",
      " precision:0.6964078794901506 \n",
      " recall:0.6884306987399771 \n",
      ", 'Test':  best_epoch_indx:5\n",
      " auc:0.8248771707295998 \n",
      " apur:0.7843297589462577 \n",
      " f1:0.7011520216851141 \n",
      " precision:0.6913140311804009 \n",
      " recall:0.7112740604949588 \n",
      "}\n",
      "=====Epoch 6\n",
      "Training...\n"
     ]
    },
    {
     "name": "stderr",
     "output_type": "stream",
     "text": [
      "Iteration: 100%|██████████| 62/62 [00:04<00:00, 14.87it/s]\n",
      "Iteration: 100%|██████████| 62/62 [00:10<00:00,  6.00it/s]\n",
      "Iteration:  85%|████████▌ | 53/62 [00:08<00:01,  6.29it/s]"
     ]
    },
    {
     "name": "stdout",
     "output_type": "stream",
     "text": [
      "Evaluating...\n"
     ]
    },
    {
     "name": "stderr",
     "output_type": "stream",
     "text": [
      "Iteration: 100%|██████████| 18/18 [00:01<00:00, 15.85it/s]\n",
      "Iteration: 100%|██████████| 7/7 [00:00<00:00, 14.80it/s]s]\n",
      "Iteration:  95%|█████████▌| 59/62 [00:09<00:00,  5.83it/s]"
     ]
    },
    {
     "name": "stdout",
     "output_type": "stream",
     "text": [
      "{'Train':  best_epoch_indx:5\n",
      " auc:0.8301870326127523 \n",
      " apur:0.7869420753927947 \n",
      " f1:0.7074884029158383 \n",
      " precision:0.7378023496890117 \n",
      " recall:0.6795671546785487 \n",
      ", 'Validation':  best_epoch_indx:5\n",
      " auc:0.8191556650892274 \n",
      " apur:0.7718770035867699 \n",
      " f1:0.684619988031119 \n",
      " precision:0.7167919799498746 \n",
      " recall:0.6552119129438717 \n",
      ", 'Test':  best_epoch_indx:5\n",
      " auc:0.8210627509435942 \n",
      " apur:0.7744899013129093 \n",
      " f1:0.7013607066125567 \n",
      " precision:0.731938216243149 \n",
      " recall:0.6732355637030247 \n",
      "}\n",
      "=====Epoch 6\n",
      "Training...\n"
     ]
    },
    {
     "name": "stderr",
     "output_type": "stream",
     "text": [
      "Iteration: 100%|██████████| 62/62 [00:10<00:00,  6.09it/s]\n",
      "Iteration:  42%|████▏     | 26/62 [00:01<00:02, 15.02it/s]"
     ]
    },
    {
     "name": "stdout",
     "output_type": "stream",
     "text": [
      "Evaluating...\n"
     ]
    },
    {
     "name": "stderr",
     "output_type": "stream",
     "text": [
      "Iteration: 100%|██████████| 62/62 [00:04<00:00, 14.85it/s]\n",
      "Iteration: 100%|██████████| 18/18 [00:01<00:00, 15.92it/s]\n",
      "Iteration: 100%|██████████| 62/62 [00:04<00:00, 15.09it/s]\n",
      "Iteration: 100%|██████████| 7/7 [00:00<00:00, 14.81it/s]s]\n",
      "Iteration:   2%|▏         | 1/62 [00:00<00:09,  6.59it/s]]"
     ]
    },
    {
     "name": "stdout",
     "output_type": "stream",
     "text": [
      "{'Train':  best_epoch_indx:5\n",
      " auc:0.8332674724708065 \n",
      " apur:0.7861893793307928 \n",
      " f1:0.7177491387010336 \n",
      " precision:0.7194014579869549 \n",
      " recall:0.7161043921069382 \n",
      ", 'Validation':  best_epoch_indx:5\n",
      " auc:0.8146166707163272 \n",
      " apur:0.7614279401658125 \n",
      " f1:0.6963048498845265 \n",
      " precision:0.7019790454016298 \n",
      " recall:0.6907216494845361 \n",
      ", 'Test':  best_epoch_indx:5\n",
      " auc:0.8317695625959541 \n",
      " apur:0.7814816747104937 \n",
      " f1:0.7265642906257164 \n",
      " precision:0.7267308574048602 \n",
      " recall:0.726397800183318 \n",
      "}\n",
      "=====Epoch 6\n",
      "Training...\n"
     ]
    },
    {
     "name": "stderr",
     "output_type": "stream",
     "text": [
      "Iteration: 100%|██████████| 18/18 [00:01<00:00, 16.13it/s]\n",
      "Iteration: 100%|██████████| 62/62 [00:09<00:00,  6.21it/s]\n",
      "Iteration:   0%|          | 0/62 [00:00<?, ?it/s]"
     ]
    },
    {
     "name": "stdout",
     "output_type": "stream",
     "text": [
      "Evaluating...\n"
     ]
    },
    {
     "name": "stderr",
     "output_type": "stream",
     "text": [
      "Iteration: 100%|██████████| 7/7 [00:00<00:00, 14.81it/s]s]\n"
     ]
    },
    {
     "name": "stdout",
     "output_type": "stream",
     "text": [
      "{'Train':  best_epoch_indx:5\n",
      " auc:0.8273811702877041 \n",
      " apur:0.7766078030813277 \n",
      " f1:0.7048377619638311 \n",
      " precision:0.7233985526668454 \n",
      " recall:0.6872056015276894 \n",
      ", 'Validation':  best_epoch_indx:5\n",
      " auc:0.8056924726455083 \n",
      " apur:0.760617333384105 \n",
      " f1:0.6842413591095489 \n",
      " precision:0.7002398081534772 \n",
      " recall:0.6689576174112256 \n",
      ", 'Test':  best_epoch_indx:5\n",
      " auc:0.8152152906647024 \n",
      " apur:0.767781574720626 \n",
      " f1:0.70487635775364 \n",
      " precision:0.710955710955711 \n",
      " recall:0.6989000916590284 \n",
      "}\n",
      "=====Epoch 6\n",
      "Training...\n"
     ]
    },
    {
     "name": "stderr",
     "output_type": "stream",
     "text": [
      "Iteration: 100%|██████████| 62/62 [00:09<00:00,  6.24it/s]\n",
      "Iteration:  81%|████████  | 50/62 [00:03<00:00, 15.17it/s]"
     ]
    },
    {
     "name": "stdout",
     "output_type": "stream",
     "text": [
      "Evaluating...\n"
     ]
    },
    {
     "name": "stderr",
     "output_type": "stream",
     "text": [
      "Iteration: 100%|██████████| 62/62 [00:04<00:00, 15.02it/s]\n",
      "Iteration: 100%|██████████| 7/7 [00:00<00:00, 15.04it/s]s]\n",
      "Iteration:   0%|          | 0/62 [00:00<?, ?it/s].42it/s]"
     ]
    },
    {
     "name": "stdout",
     "output_type": "stream",
     "text": [
      "{'Train':  best_epoch_indx:5\n",
      " auc:0.8215002748006878 \n",
      " apur:0.7706468097832821 \n",
      " f1:0.704955820207453 \n",
      " precision:0.7091330671132294 \n",
      " recall:0.7008274984086569 \n",
      ", 'Validation':  best_epoch_indx:5\n",
      " auc:0.8096543904104041 \n",
      " apur:0.758631910554257 \n",
      " f1:0.6859791425260717 \n",
      " precision:0.694021101992966 \n",
      " recall:0.6781214203894617 \n",
      ", 'Test':  best_epoch_indx:5\n",
      " auc:0.8198358287701915 \n",
      " apur:0.7717149916976553 \n",
      " f1:0.703030303030303 \n",
      " precision:0.715370018975332 \n",
      " recall:0.6911090742438131 \n",
      "}\n",
      "=====Epoch 6\n",
      "Training...\n"
     ]
    },
    {
     "name": "stderr",
     "output_type": "stream",
     "text": [
      "Iteration: 100%|██████████| 18/18 [00:01<00:00, 16.08it/s]\n",
      "Iteration: 100%|██████████| 62/62 [00:04<00:00, 15.16it/s]\n",
      "Iteration: 100%|██████████| 62/62 [00:10<00:00,  6.15it/s]\n",
      "Iteration:   3%|▎         | 2/62 [00:00<00:04, 12.88it/s]]"
     ]
    },
    {
     "name": "stdout",
     "output_type": "stream",
     "text": [
      "Evaluating...\n"
     ]
    },
    {
     "name": "stderr",
     "output_type": "stream",
     "text": [
      "Iteration: 100%|██████████| 18/18 [00:01<00:00, 16.13it/s]\n",
      "Iteration: 100%|██████████| 7/7 [00:00<00:00, 14.74it/s]s]\n",
      "Iteration:   0%|          | 0/62 [00:00<?, ?it/s]"
     ]
    },
    {
     "name": "stdout",
     "output_type": "stream",
     "text": [
      "{'Train':  best_epoch_indx:6\n",
      " auc:0.8355987603691879 \n",
      " apur:0.7970190079795805 \n",
      " f1:0.7207249896345437 \n",
      " precision:0.6739034116083297 \n",
      " recall:0.7745385105028644 \n",
      ", 'Validation':  best_epoch_indx:6\n",
      " auc:0.8139046054280876 \n",
      " apur:0.770754917319724 \n",
      " f1:0.698936170212766 \n",
      " precision:0.6524329692154915 \n",
      " recall:0.7525773195876289 \n",
      ", 'Test':  best_epoch_indx:6\n",
      " auc:0.8277180605319927 \n",
      " apur:0.7910607908565825 \n",
      " f1:0.7154643537127141 \n",
      " precision:0.6644400785854617 \n",
      " recall:0.7749770852428964 \n",
      "}\n",
      "=====Epoch 7\n",
      "Training...\n"
     ]
    },
    {
     "name": "stderr",
     "output_type": "stream",
     "text": [
      "Iteration: 100%|██████████| 62/62 [00:04<00:00, 14.99it/s]\n",
      "Iteration: 100%|██████████| 62/62 [00:10<00:00,  6.17it/s]\n",
      "Iteration:  23%|██▎       | 14/62 [00:02<00:07,  6.17it/s]"
     ]
    },
    {
     "name": "stdout",
     "output_type": "stream",
     "text": [
      "Evaluating...\n"
     ]
    },
    {
     "name": "stderr",
     "output_type": "stream",
     "text": [
      "Iteration: 100%|██████████| 18/18 [00:01<00:00, 15.94it/s]\n",
      "Iteration: 100%|██████████| 7/7 [00:00<00:00, 14.43it/s]s]\n",
      "Iteration:  31%|███       | 19/62 [00:03<00:06,  6.17it/s]"
     ]
    },
    {
     "name": "stdout",
     "output_type": "stream",
     "text": [
      "{'Train':  best_epoch_indx:6\n",
      " auc:0.8293930255075223 \n",
      " apur:0.7925238760277099 \n",
      " f1:0.6786046844781893 \n",
      " precision:0.775794300687848 \n",
      " recall:0.6030553787396563 \n",
      ", 'Validation':  best_epoch_indx:6\n",
      " auc:0.8232892113189936 \n",
      " apur:0.7840254220279315 \n",
      " f1:0.6735350933676755 \n",
      " precision:0.7691176470588236 \n",
      " recall:0.5990836197021764 \n",
      ", 'Test':  best_epoch_indx:6\n",
      " auc:0.8178857008829512 \n",
      " apur:0.778865421424906 \n",
      " f1:0.6731657260133402 \n",
      " precision:0.7645687645687645 \n",
      " recall:0.6012832263978002 \n",
      "}\n",
      "=====Epoch 7\n",
      "Training...\n"
     ]
    },
    {
     "name": "stderr",
     "output_type": "stream",
     "text": [
      "Iteration: 100%|██████████| 62/62 [00:10<00:00,  6.20it/s]\n",
      "Iteration:   8%|▊         | 5/62 [00:00<00:09,  6.29it/s]]"
     ]
    },
    {
     "name": "stdout",
     "output_type": "stream",
     "text": [
      "Evaluating...\n"
     ]
    },
    {
     "name": "stderr",
     "output_type": "stream",
     "text": [
      "Iteration: 100%|██████████| 62/62 [00:04<00:00, 14.91it/s]\n",
      "Iteration: 100%|██████████| 18/18 [00:01<00:00, 15.92it/s]\n",
      "Iteration: 100%|██████████| 62/62 [00:04<00:00, 15.00it/s]\n",
      "Iteration: 100%|██████████| 7/7 [00:00<00:00, 14.51it/s]s]\n",
      "Iteration:   2%|▏         | 1/62 [00:00<00:09,  6.61it/s]]"
     ]
    },
    {
     "name": "stdout",
     "output_type": "stream",
     "text": [
      "{'Train':  best_epoch_indx:6\n",
      " auc:0.8365169563635563 \n",
      " apur:0.7936152858460088 \n",
      " f1:0.72662042573547 \n",
      " precision:0.6850828729281768 \n",
      " recall:0.773520050922979 \n",
      ", 'Validation':  best_epoch_indx:6\n",
      " auc:0.8217922832756739 \n",
      " apur:0.774722593385612 \n",
      " f1:0.7095391211146839 \n",
      " precision:0.6666666666666666 \n",
      " recall:0.7583046964490263 \n",
      ", 'Test':  best_epoch_indx:6\n",
      " auc:0.8349961518026635 \n",
      " apur:0.7908975396235352 \n",
      " f1:0.7334773218142548 \n",
      " precision:0.6936274509803921 \n",
      " recall:0.7781851512373968 \n",
      "}\n",
      "=====Epoch 7\n",
      "Training...\n"
     ]
    },
    {
     "name": "stderr",
     "output_type": "stream",
     "text": [
      "Iteration: 100%|██████████| 18/18 [00:01<00:00, 16.00it/s]\n",
      "Iteration: 100%|██████████| 62/62 [00:09<00:00,  6.21it/s]\n",
      "Iteration:  18%|█▊        | 11/62 [00:01<00:08,  6.10it/s]"
     ]
    },
    {
     "name": "stdout",
     "output_type": "stream",
     "text": [
      "Evaluating...\n"
     ]
    },
    {
     "name": "stderr",
     "output_type": "stream",
     "text": [
      "Iteration: 100%|██████████| 62/62 [00:09<00:00,  6.29it/s]\n",
      "Iteration:   0%|          | 0/62 [00:00<?, ?it/s]"
     ]
    },
    {
     "name": "stdout",
     "output_type": "stream",
     "text": [
      "Evaluating...\n"
     ]
    },
    {
     "name": "stderr",
     "output_type": "stream",
     "text": [
      "\r",
      "Iteration:  57%|█████▋    | 4/7 [00:00<00:00, 13.80it/s]\r",
      "Iteration:  71%|███████   | 44/62 [00:02<00:01, 15.16it/s]\r",
      "Iteration:  47%|████▋     | 29/62 [00:04<00:05,  6.08it/s]\r",
      "Iteration:   3%|▎         | 2/62 [00:00<00:04, 12.83it/s]\r",
      "Iteration:  86%|████████▌ | 6/7 [00:00<00:00, 14.41it/s]\r",
      "Iteration:  74%|███████▍  | 46/62 [00:03<00:01, 15.19it/s]\r",
      "Iteration: 100%|██████████| 7/7 [00:00<00:00, 14.50it/s]\n"
     ]
    },
    {
     "name": "stdout",
     "output_type": "stream",
     "text": [
      "{'Train':  best_epoch_indx:6\n",
      " auc:0.8368019035381109 \n",
      " apur:0.79647570554133 \n",
      " f1:0.7042761106105758 \n",
      " precision:0.772893215698205 \n",
      " recall:0.6468491406747294 \n",
      ", 'Validation':  best_epoch_indx:6\n",
      " auc:0.8097864864760628 \n",
      " apur:0.7715189094758396 \n",
      " f1:0.6824114356743318 \n",
      " precision:0.7459239130434783 \n",
      " recall:0.6288659793814433 \n",
      ", 'Test':  best_epoch_indx:6\n",
      " auc:0.8249498561209492 \n",
      " apur:0.7852556929218745 \n",
      " f1:0.6916212196331185 \n",
      " precision:0.7532397408207343 \n",
      " recall:0.6393217231897342 \n",
      "}\n",
      "=====Epoch 7\n",
      "Training...\n"
     ]
    },
    {
     "name": "stderr",
     "output_type": "stream",
     "text": [
      "Iteration: 100%|██████████| 62/62 [00:04<00:00, 14.93it/s]\n",
      "Iteration: 100%|██████████| 7/7 [00:00<00:00, 14.54it/s]s]\n",
      "Iteration:  11%|█         | 2/18 [00:00<00:01, 15.33it/s]]"
     ]
    },
    {
     "name": "stdout",
     "output_type": "stream",
     "text": [
      "{'Train':  best_epoch_indx:6\n",
      " auc:0.8350307401635942 \n",
      " apur:0.7930805425398082 \n",
      " f1:0.726053871240488 \n",
      " precision:0.6906813742387682 \n",
      " recall:0.7652450668364099 \n",
      ", 'Validation':  best_epoch_indx:6\n",
      " auc:0.8258621919847577 \n",
      " apur:0.784550612981612 \n",
      " f1:0.7054945054945055 \n",
      " precision:0.6779303062302007 \n",
      " recall:0.7353951890034365 \n",
      ", 'Test':  best_epoch_indx:6\n",
      " auc:0.8297092411379549 \n",
      " apur:0.7959495538501402 \n",
      " f1:0.7203707790774664 \n",
      " precision:0.6947637292464879 \n",
      " recall:0.7479376718606783 \n",
      "}\n",
      "=====Epoch 7\n",
      "Training...\n"
     ]
    },
    {
     "name": "stderr",
     "output_type": "stream",
     "text": [
      "Iteration: 100%|██████████| 18/18 [00:01<00:00, 15.95it/s]\n",
      "Iteration: 100%|██████████| 62/62 [00:04<00:00, 15.08it/s]\n",
      "Iteration: 100%|██████████| 18/18 [00:01<00:00, 16.03it/s]\n",
      "Iteration: 100%|██████████| 62/62 [00:10<00:00,  6.11it/s]\n",
      "Iteration:  40%|████      | 25/62 [00:04<00:06,  6.13it/s]"
     ]
    },
    {
     "name": "stdout",
     "output_type": "stream",
     "text": [
      "Evaluating...\n"
     ]
    },
    {
     "name": "stderr",
     "output_type": "stream",
     "text": [
      "Iteration: 100%|██████████| 7/7 [00:00<00:00, 14.91it/s]s]\n",
      "Iteration:  65%|██████▍   | 40/62 [00:06<00:03,  6.13it/s]"
     ]
    },
    {
     "name": "stdout",
     "output_type": "stream",
     "text": [
      "{'Train':  best_epoch_indx:7\n",
      " auc:0.841406017798865 \n",
      " apur:0.804006044087278 \n",
      " f1:0.7255796275180538 \n",
      " precision:0.7221031395788677 \n",
      " recall:0.7290897517504774 \n",
      ", 'Validation':  best_epoch_indx:7\n",
      " auc:0.821033936154211 \n",
      " apur:0.7825770683659402 \n",
      " f1:0.7044673539518901 \n",
      " precision:0.7044673539518901 \n",
      " recall:0.7044673539518901 \n",
      ", 'Test':  best_epoch_indx:7\n",
      " auc:0.8338410070765709 \n",
      " apur:0.798021903445826 \n",
      " f1:0.7168262653898768 \n",
      " precision:0.7132486388384754 \n",
      " recall:0.7204399633363886 \n",
      "}\n",
      "=====Epoch 8\n",
      "Training...\n"
     ]
    },
    {
     "name": "stderr",
     "output_type": "stream",
     "text": [
      "Iteration: 100%|██████████| 62/62 [00:04<00:00, 14.90it/s]\n",
      "Iteration: 100%|██████████| 62/62 [00:10<00:00,  6.12it/s]\n",
      "Iteration:  89%|████████▊ | 55/62 [00:08<00:01,  6.15it/s]"
     ]
    },
    {
     "name": "stdout",
     "output_type": "stream",
     "text": [
      "Evaluating...\n"
     ]
    },
    {
     "name": "stderr",
     "output_type": "stream",
     "text": [
      "Iteration: 100%|██████████| 7/7 [00:00<00:00, 14.86it/s]]]\n",
      "Iteration:   2%|▏         | 1/62 [00:00<00:08,  6.84it/s]]"
     ]
    },
    {
     "name": "stdout",
     "output_type": "stream",
     "text": [
      "{'Train':  best_epoch_indx:7\n",
      " auc:0.8425655291235884 \n",
      " apur:0.8042446633351925 \n",
      " f1:0.7016174010039041 \n",
      " precision:0.7754661735244259 \n",
      " recall:0.6406110757479313 \n",
      ", 'Validation':  best_epoch_indx:7\n",
      " auc:0.8338077221238733 \n",
      " apur:0.7932949648439818 \n",
      " f1:0.6866791744840526 \n",
      " precision:0.756198347107438 \n",
      " recall:0.6288659793814433 \n",
      ", 'Test':  best_epoch_indx:7\n",
      " auc:0.8330411508917467 \n",
      " apur:0.7922408012262183 \n",
      " f1:0.7039440838741887 \n",
      " precision:0.7730263157894737 \n",
      " recall:0.6461961503208066 \n",
      "}\n",
      "=====Epoch 8\n",
      "Training...\n"
     ]
    },
    {
     "name": "stderr",
     "output_type": "stream",
     "text": [
      "Iteration: 100%|██████████| 18/18 [00:01<00:00, 15.91it/s]\n",
      "Iteration: 100%|██████████| 62/62 [00:10<00:00,  6.18it/s]\n",
      "Iteration:   0%|          | 0/62 [00:00<?, ?it/s]"
     ]
    },
    {
     "name": "stdout",
     "output_type": "stream",
     "text": [
      "Evaluating...\n"
     ]
    },
    {
     "name": "stderr",
     "output_type": "stream",
     "text": [
      "Iteration: 100%|██████████| 62/62 [00:04<00:00, 14.90it/s]\n",
      "Iteration: 100%|██████████| 62/62 [00:04<00:00, 15.09it/s]\n",
      "Iteration: 100%|██████████| 18/18 [00:01<00:00, 15.83it/s]\n",
      "Iteration: 100%|██████████| 7/7 [00:00<00:00, 14.82it/s]]]\n",
      "Iteration:  44%|████▍     | 8/18 [00:00<00:00, 15.36it/s]]"
     ]
    },
    {
     "name": "stdout",
     "output_type": "stream",
     "text": [
      "{'Train':  best_epoch_indx:7\n",
      " auc:0.8427951487407102 \n",
      " apur:0.7979251871536415 \n",
      " f1:0.7325963549447266 \n",
      " precision:0.6903153153153153 \n",
      " recall:0.7803946530872056 \n",
      ", 'Validation':  best_epoch_indx:7\n",
      " auc:0.827896182134441 \n",
      " apur:0.7767548223095883 \n",
      " f1:0.7257203842049093 \n",
      " precision:0.6793206793206793 \n",
      " recall:0.7789232531500573 \n",
      ", 'Test':  best_epoch_indx:7\n",
      " auc:0.8428662015899708 \n",
      " apur:0.7959404527197604 \n",
      " f1:0.7357019064124783 \n",
      " precision:0.6976170912078883 \n",
      " recall:0.7781851512373968 \n",
      "}\n",
      "=====Epoch 8\n",
      "Training...\n"
     ]
    },
    {
     "name": "stderr",
     "output_type": "stream",
     "text": [
      "Iteration: 100%|██████████| 18/18 [00:01<00:00, 16.08it/s]\n",
      "Iteration: 100%|██████████| 62/62 [00:09<00:00,  6.22it/s]\n",
      "Iteration:  16%|█▌        | 10/62 [00:01<00:08,  6.08it/s]"
     ]
    },
    {
     "name": "stdout",
     "output_type": "stream",
     "text": [
      "Evaluating...\n"
     ]
    },
    {
     "name": "stderr",
     "output_type": "stream",
     "text": [
      "Iteration: 100%|██████████| 62/62 [00:09<00:00,  6.23it/s]\n",
      "Iteration:  44%|████▎     | 27/62 [00:04<00:05,  6.07it/s]"
     ]
    },
    {
     "name": "stdout",
     "output_type": "stream",
     "text": [
      "Evaluating...\n"
     ]
    },
    {
     "name": "stderr",
     "output_type": "stream",
     "text": [
      "Iteration: 100%|██████████| 7/7 [00:00<00:00, 14.51it/s]]]\n",
      "Iteration:   2%|▏         | 1/62 [00:00<00:09,  6.67it/s]]"
     ]
    },
    {
     "name": "stdout",
     "output_type": "stream",
     "text": [
      "{'Train':  best_epoch_indx:7\n",
      " auc:0.8364694215013824 \n",
      " apur:0.7926714406864807 \n",
      " f1:0.7300639658848613 \n",
      " precision:0.7 \n",
      " recall:0.7628262253341821 \n",
      ", 'Validation':  best_epoch_indx:7\n",
      " auc:0.8157288810209772 \n",
      " apur:0.7751759349023901 \n",
      " f1:0.7090707964601769 \n",
      " precision:0.6855614973262032 \n",
      " recall:0.7342497136311569 \n",
      ", 'Test':  best_epoch_indx:7\n",
      " auc:0.823213690876608 \n",
      " apur:0.7785537572034 \n",
      " f1:0.7231638418079096 \n",
      " precision:0.687603305785124 \n",
      " recall:0.7626031164069661 \n",
      "}\n",
      "=====Epoch 8\n",
      "Training...\n"
     ]
    },
    {
     "name": "stderr",
     "output_type": "stream",
     "text": [
      "Iteration: 100%|██████████| 62/62 [00:04<00:00, 14.26it/s]\n",
      "Iteration: 100%|██████████| 7/7 [00:00<00:00, 15.52it/s]\n"
     ]
    },
    {
     "name": "stdout",
     "output_type": "stream",
     "text": [
      "{'Train':  best_epoch_indx:7\n",
      " auc:0.8412824647388739 \n",
      " apur:0.795940020976245 \n",
      " f1:0.730682027084993 \n",
      " precision:0.7043950850661626 \n",
      " recall:0.7590070019096117 \n",
      ", 'Validation':  best_epoch_indx:7\n",
      " auc:0.8291236149197203 \n",
      " apur:0.7830520815956757 \n",
      " f1:0.7168141592920354 \n",
      " precision:0.6930481283422459 \n",
      " recall:0.7422680412371134 \n",
      ", 'Test':  best_epoch_indx:7\n",
      " auc:0.8351789913431767 \n",
      " apur:0.7985840395272312 \n",
      " f1:0.7227191413237924 \n",
      " precision:0.7056768558951965 \n",
      " recall:0.7406049495875344 \n",
      "}\n",
      "=====Epoch 8\n",
      "Training...\n"
     ]
    },
    {
     "name": "stderr",
     "output_type": "stream",
     "text": [
      "Iteration: 100%|██████████| 18/18 [00:01<00:00, 16.06it/s]\n",
      "Iteration: 100%|██████████| 62/62 [00:04<00:00, 14.51it/s]\n",
      "Iteration: 100%|██████████| 18/18 [00:01<00:00, 16.06it/s]\n",
      "Iteration: 100%|██████████| 62/62 [00:10<00:00,  6.12it/s]\n",
      "Iteration:  44%|████▎     | 27/62 [00:04<00:05,  6.15it/s]"
     ]
    },
    {
     "name": "stdout",
     "output_type": "stream",
     "text": [
      "Evaluating...\n"
     ]
    },
    {
     "name": "stderr",
     "output_type": "stream",
     "text": [
      "Iteration: 100%|██████████| 7/7 [00:00<00:00, 14.76it/s]s]\n",
      "Iteration:   0%|          | 0/62 [00:00<?, ?it/s]5.06it/s]"
     ]
    },
    {
     "name": "stdout",
     "output_type": "stream",
     "text": [
      "{'Train':  best_epoch_indx:8\n",
      " auc:0.8433979702388322 \n",
      " apur:0.8068091773253193 \n",
      " f1:0.7213093375065207 \n",
      " precision:0.7393396604731988 \n",
      " recall:0.7041374920432846 \n",
      ", 'Validation':  best_epoch_indx:8\n",
      " auc:0.8262440171088511 \n",
      " apur:0.7837018182899831 \n",
      " f1:0.7091017251635932 \n",
      " precision:0.7376237623762376 \n",
      " recall:0.6827033218785796 \n",
      ", 'Test':  best_epoch_indx:8\n",
      " auc:0.8351686742154203 \n",
      " apur:0.8005590583951363 \n",
      " f1:0.7142186766776161 \n",
      " precision:0.7317307692307692 \n",
      " recall:0.6975252062328139 \n",
      "}\n",
      "=====Epoch 9\n",
      "Training...\n"
     ]
    },
    {
     "name": "stderr",
     "output_type": "stream",
     "text": [
      "Iteration: 100%|██████████| 62/62 [00:04<00:00, 14.28it/s]\n",
      "Iteration: 100%|██████████| 62/62 [00:10<00:00,  6.19it/s]\n",
      "Iteration:  24%|██▍       | 15/62 [00:02<00:07,  6.25it/s]"
     ]
    },
    {
     "name": "stdout",
     "output_type": "stream",
     "text": [
      "Evaluating...\n",
      "{'Train':  best_epoch_indx:8\n",
      " auc:0.8407701058435952 \n",
      " apur:0.8023326602583181 \n",
      " f1:0.6894178376828218 \n",
      " precision:0.7891022484818644 \n",
      " recall:0.6120942075111394 \n",
      ", 'Validation':  best_epoch_indx:8\n",
      " auc:0.8340593795920257 \n",
      " apur:0.7966643228159462 \n",
      " f1:0.6787096774193548 \n",
      " precision:0.7769571639586411 \n",
      " recall:0.6025200458190149 \n",
      ", 'Test':  best_epoch_indx:8\n",
      " auc:0.8304814104997422 \n",
      " apur:0.7904142898054534 \n",
      " f1:0.6874516877093533 \n",
      " precision:0.785167745732784 \n",
      " recall:0.611365719523373 \n",
      "}\n",
      "=====Epoch 9\n",
      "Training...\n"
     ]
    },
    {
     "name": "stderr",
     "output_type": "stream",
     "text": [
      "Iteration: 100%|██████████| 7/7 [00:00<00:00, 15.04it/s]]\n",
      "Iteration: 100%|██████████| 18/18 [00:01<00:00, 14.95it/s]\n",
      "Iteration: 100%|██████████| 62/62 [00:09<00:00,  6.21it/s]\n",
      "Iteration:   0%|          | 0/62 [00:00<?, ?it/s]"
     ]
    },
    {
     "name": "stdout",
     "output_type": "stream",
     "text": [
      "Evaluating...\n"
     ]
    },
    {
     "name": "stderr",
     "output_type": "stream",
     "text": [
      "Iteration: 100%|██████████| 62/62 [00:04<00:00, 14.18it/s]\n",
      "Iteration: 100%|██████████| 62/62 [00:04<00:00, 14.29it/s]\n",
      "Iteration: 100%|██████████| 18/18 [00:01<00:00, 15.87it/s]\n",
      "Iteration: 100%|██████████| 7/7 [00:00<00:00, 14.78it/s]s]\n",
      "Iteration:   2%|▏         | 1/62 [00:00<00:09,  6.75it/s]]"
     ]
    },
    {
     "name": "stdout",
     "output_type": "stream",
     "text": [
      "{'Train':  best_epoch_indx:8\n",
      " auc:0.8453653479607883 \n",
      " apur:0.8018391600060235 \n",
      " f1:0.7301605771468466 \n",
      " precision:0.6723454409086039 \n",
      " recall:0.7988542329726289 \n",
      ", 'Validation':  best_epoch_indx:8\n",
      " auc:0.8282027992795462 \n",
      " apur:0.7805305193974093 \n",
      " f1:0.7117070654976791 \n",
      " precision:0.6472795497185742 \n",
      " recall:0.7903780068728522 \n",
      ", 'Test':  best_epoch_indx:8\n",
      " auc:0.8440419624849383 \n",
      " apur:0.7986478844580212 \n",
      " f1:0.7375946173254837 \n",
      " precision:0.6814296814296814 \n",
      " recall:0.8038496791934006 \n",
      "}\n",
      "=====Epoch 9\n",
      "Training...\n"
     ]
    },
    {
     "name": "stderr",
     "output_type": "stream",
     "text": [
      "Iteration: 100%|██████████| 18/18 [00:01<00:00, 16.08it/s]\n",
      "Iteration: 100%|██████████| 62/62 [00:09<00:00,  6.23it/s]\n",
      "Iteration:   0%|          | 0/62 [00:00<?, ?it/s]"
     ]
    },
    {
     "name": "stdout",
     "output_type": "stream",
     "text": [
      "Evaluating...\n"
     ]
    },
    {
     "name": "stderr",
     "output_type": "stream",
     "text": [
      "Iteration: 100%|██████████| 62/62 [00:09<00:00,  6.30it/s]\n",
      "Iteration:   0%|          | 0/62 [00:00<?, ?it/s]"
     ]
    },
    {
     "name": "stdout",
     "output_type": "stream",
     "text": [
      "Evaluating...\n"
     ]
    },
    {
     "name": "stderr",
     "output_type": "stream",
     "text": [
      "Iteration: 100%|██████████| 7/7 [00:00<00:00, 14.76it/s]s]\n",
      "Iteration:   0%|          | 0/62 [00:00<?, ?it/s]5.22it/s]"
     ]
    },
    {
     "name": "stdout",
     "output_type": "stream",
     "text": [
      "{'Train':  best_epoch_indx:8\n",
      " auc:0.8428299111765577 \n",
      " apur:0.80016330579963 \n",
      " f1:0.7287776708373437 \n",
      " precision:0.7346701164294954 \n",
      " recall:0.7229789942711649 \n",
      ", 'Validation':  best_epoch_indx:8\n",
      " auc:0.8231214396735588 \n",
      " apur:0.7842013396677108 \n",
      " f1:0.7042417199302731 \n",
      " precision:0.714622641509434 \n",
      " recall:0.6941580756013745 \n",
      ", 'Test':  best_epoch_indx:8\n",
      " auc:0.8298703159041225 \n",
      " apur:0.7859602194005032 \n",
      " f1:0.7266514806378132 \n",
      " precision:0.7223731884057971 \n",
      " recall:0.730980751604033 \n",
      "}\n",
      "=====Epoch 9\n",
      "Training...\n"
     ]
    },
    {
     "name": "stderr",
     "output_type": "stream",
     "text": [
      "Iteration: 100%|██████████| 62/62 [00:04<00:00, 15.05it/s]\n",
      "Iteration: 100%|██████████| 7/7 [00:00<00:00, 15.00it/s]]]\n",
      "Iteration:   2%|▏         | 1/62 [00:00<00:09,  6.75it/s]]"
     ]
    },
    {
     "name": "stdout",
     "output_type": "stream",
     "text": [
      "{'Train':  best_epoch_indx:8\n",
      " auc:0.8437172524218486 \n",
      " apur:0.7990848307024154 \n",
      " f1:0.7357003141485389 \n",
      " precision:0.6883318544809228 \n",
      " recall:0.7900700190961171 \n",
      ", 'Validation':  best_epoch_indx:8\n",
      " auc:0.8327875933832407 \n",
      " apur:0.7868625793370527 \n",
      " f1:0.7175654030966365 \n",
      " precision:0.672 \n",
      " recall:0.7697594501718213 \n",
      ", 'Test':  best_epoch_indx:8\n",
      " auc:0.8377763315951358 \n",
      " apur:0.8005067540394151 \n",
      " f1:0.7253841159922094 \n",
      " precision:0.6871668716687167 \n",
      " recall:0.768102658111824 \n",
      "}\n",
      "=====Epoch 9\n",
      "Training...\n"
     ]
    },
    {
     "name": "stderr",
     "output_type": "stream",
     "text": [
      "Iteration: 100%|██████████| 18/18 [00:01<00:00, 16.09it/s]\n",
      "Iteration: 100%|██████████| 62/62 [00:04<00:00, 15.14it/s]\n",
      "Iteration: 100%|██████████| 18/18 [00:01<00:00, 15.93it/s]\n",
      "Iteration: 100%|██████████| 62/62 [00:10<00:00,  6.16it/s]\n",
      "Iteration:   0%|          | 0/62 [00:00<?, ?it/s]"
     ]
    },
    {
     "name": "stdout",
     "output_type": "stream",
     "text": [
      "Evaluating...\n"
     ]
    },
    {
     "name": "stderr",
     "output_type": "stream",
     "text": [
      "Iteration: 100%|██████████| 7/7 [00:00<00:00, 14.28it/s]s]\n",
      "Iteration:  66%|██████▌   | 41/62 [00:06<00:03,  6.17it/s]"
     ]
    },
    {
     "name": "stdout",
     "output_type": "stream",
     "text": [
      "{'Train':  best_epoch_indx:9\n",
      " auc:0.8461483184763315 \n",
      " apur:0.810279047286379 \n",
      " f1:0.7285668483488298 \n",
      " precision:0.7339793281653747 \n",
      " recall:0.7232336091661362 \n",
      ", 'Validation':  best_epoch_indx:9\n",
      " auc:0.8285344857509805 \n",
      " apur:0.78725440950948 \n",
      " f1:0.7156919513607412 \n",
      " precision:0.7236533957845434 \n",
      " recall:0.7079037800687286 \n",
      ", 'Test':  best_epoch_indx:9\n",
      " auc:0.8368200798081642 \n",
      " apur:0.8033989798214614 \n",
      " f1:0.7186848807594353 \n",
      " precision:0.7262517547964437 \n",
      " recall:0.7112740604949588 \n",
      "}\n",
      "=====Epoch 10\n",
      "Training...\n"
     ]
    },
    {
     "name": "stderr",
     "output_type": "stream",
     "text": [
      "Iteration: 100%|██████████| 62/62 [00:04<00:00, 14.86it/s]\n",
      "Iteration: 100%|██████████| 7/7 [00:00<00:00, 14.30it/s]s]\n",
      "Iteration:  97%|█████████▋| 60/62 [00:09<00:00,  6.22it/s]"
     ]
    },
    {
     "name": "stdout",
     "output_type": "stream",
     "text": [
      "{'Train':  best_epoch_indx:9\n",
      " auc:0.8431615599872776 \n",
      " apur:0.8055621862185717 \n",
      " f1:0.7058823529411765 \n",
      " precision:0.7722323049001815 \n",
      " recall:0.6500318268618714 \n",
      ", 'Validation':  best_epoch_indx:9\n",
      " auc:0.836372989150767 \n",
      " apur:0.7995438152930863 \n",
      " f1:0.6921151439299125 \n",
      " precision:0.7627586206896552 \n",
      " recall:0.6334478808705613 \n",
      ", 'Test':  best_epoch_indx:9\n",
      " auc:0.8321409172692399 \n",
      " apur:0.7929091075699328 \n",
      " f1:0.7008717310087172 \n",
      " precision:0.7675941080196399 \n",
      " recall:0.6448212648945921 \n",
      "}\n",
      "=====Epoch 10\n",
      "Training...\n"
     ]
    },
    {
     "name": "stderr",
     "output_type": "stream",
     "text": [
      "Iteration: 100%|██████████| 62/62 [00:10<00:00,  6.20it/s]\n",
      "Iteration:  56%|█████▌    | 10/18 [00:00<00:00, 15.39it/s]"
     ]
    },
    {
     "name": "stdout",
     "output_type": "stream",
     "text": [
      "Evaluating...\n"
     ]
    },
    {
     "name": "stderr",
     "output_type": "stream",
     "text": [
      "Iteration: 100%|██████████| 18/18 [00:01<00:00, 15.94it/s]\n",
      "Iteration: 100%|██████████| 62/62 [00:10<00:00,  6.17it/s]\n",
      "Iteration:   0%|          | 0/62 [00:00<?, ?it/s]"
     ]
    },
    {
     "name": "stdout",
     "output_type": "stream",
     "text": [
      "Evaluating...\n"
     ]
    },
    {
     "name": "stderr",
     "output_type": "stream",
     "text": [
      "Iteration: 100%|██████████| 62/62 [00:04<00:00, 14.81it/s]\n",
      "Iteration: 100%|██████████| 62/62 [00:04<00:00, 15.03it/s]\n",
      "Iteration: 100%|██████████| 18/18 [00:01<00:00, 15.85it/s]\n",
      "Iteration: 100%|██████████| 7/7 [00:00<00:00, 14.34it/s]s]\n",
      "Iteration: 100%|██████████| 18/18 [00:01<00:00, 15.98it/s]\n",
      "Iteration:   2%|▏         | 1/62 [00:00<00:09,  6.46it/s]]"
     ]
    },
    {
     "name": "stdout",
     "output_type": "stream",
     "text": [
      "{'Train':  best_epoch_indx:9\n",
      " auc:0.8467018379789436 \n",
      " apur:0.8055085018312725 \n",
      " f1:0.7351476126837565 \n",
      " precision:0.7030324154757756 \n",
      " recall:0.770337364735837 \n",
      ", 'Validation':  best_epoch_indx:9\n",
      " auc:0.8305458170864815 \n",
      " apur:0.7856965538902787 \n",
      " f1:0.7207403375068047 \n",
      " precision:0.6867219917012448 \n",
      " recall:0.7583046964490263 \n",
      ", 'Test':  best_epoch_indx:9\n",
      " auc:0.8460616872361792 \n",
      " apur:0.8026213374666011 \n",
      " f1:0.7379491673970202 \n",
      " precision:0.7069689336691856 \n",
      " recall:0.7717690192483959 \n",
      "}\n",
      "=====Epoch 10\n",
      "Training...\n"
     ]
    },
    {
     "name": "stderr",
     "output_type": "stream",
     "text": [
      "Iteration: 100%|██████████| 62/62 [00:09<00:00,  6.24it/s]\n",
      "Iteration:  11%|█▏        | 7/62 [00:01<00:09,  6.08it/s]"
     ]
    },
    {
     "name": "stdout",
     "output_type": "stream",
     "text": [
      "Evaluating...\n"
     ]
    },
    {
     "name": "stderr",
     "output_type": "stream",
     "text": [
      "Iteration: 100%|██████████| 62/62 [00:09<00:00,  6.21it/s]\n",
      "Iteration:   0%|          | 0/62 [00:00<?, ?it/s]"
     ]
    },
    {
     "name": "stdout",
     "output_type": "stream",
     "text": [
      "Evaluating...\n"
     ]
    },
    {
     "name": "stderr",
     "output_type": "stream",
     "text": [
      "Iteration: 100%|██████████| 7/7 [00:00<00:00, 14.36it/s]s]\n",
      "Iteration:  39%|███▊      | 24/62 [00:01<00:02, 15.08it/s]"
     ]
    },
    {
     "name": "stdout",
     "output_type": "stream",
     "text": [
      "{'Train':  best_epoch_indx:9\n",
      " auc:0.8446194501723534 \n",
      " apur:0.8035386560608976 \n",
      " f1:0.7311193742787537 \n",
      " precision:0.7364070773601963 \n",
      " recall:0.7259070655633355 \n",
      ", 'Validation':  best_epoch_indx:9\n",
      " auc:0.8221022751377849 \n",
      " apur:0.7837796622351909 \n",
      " f1:0.7045850261172374 \n",
      " precision:0.7141176470588235 \n",
      " recall:0.695303550973654 \n",
      ", 'Test':  best_epoch_indx:9\n",
      " auc:0.8311713400216536 \n",
      " apur:0.7890757560112286 \n",
      " f1:0.7275216795983569 \n",
      " precision:0.7245454545454545 \n",
      " recall:0.7305224564619615 \n",
      "}\n",
      "=====Epoch 10\n",
      "Training...\n"
     ]
    },
    {
     "name": "stderr",
     "output_type": "stream",
     "text": [
      "Iteration: 100%|██████████| 62/62 [00:04<00:00, 14.34it/s]\n",
      "Iteration: 100%|██████████| 7/7 [00:00<00:00, 14.34it/s]s]\n",
      "Iteration:  55%|█████▍    | 34/62 [00:05<00:04,  6.17it/s]"
     ]
    },
    {
     "name": "stdout",
     "output_type": "stream",
     "text": [
      "{'Train':  best_epoch_indx:9\n",
      " auc:0.8458006644043494 \n",
      " apur:0.8006600455982003 \n",
      " f1:0.7383623776557651 \n",
      " precision:0.6949780923491743 \n",
      " recall:0.7875238701464036 \n",
      ", 'Validation':  best_epoch_indx:9\n",
      " auc:0.8335493152217092 \n",
      " apur:0.7885345607251028 \n",
      " f1:0.725013506212858 \n",
      " precision:0.6860940695296524 \n",
      " recall:0.7686139747995419 \n",
      ", 'Test':  best_epoch_indx:9\n",
      " auc:0.8390443226508939 \n",
      " apur:0.8022848096832359 \n",
      " f1:0.7264027838190518 \n",
      " precision:0.6912251655629139 \n",
      " recall:0.7653528872593951 \n",
      "}\n",
      "=====Epoch 10\n",
      "Training...\n"
     ]
    },
    {
     "name": "stderr",
     "output_type": "stream",
     "text": [
      "Iteration: 100%|██████████| 18/18 [00:01<00:00, 16.04it/s]\n",
      "Iteration: 100%|██████████| 62/62 [00:04<00:00, 14.12it/s]\n",
      "Iteration: 100%|██████████| 18/18 [00:01<00:00, 16.00it/s]\n",
      "Iteration: 100%|██████████| 62/62 [00:10<00:00,  6.11it/s]\n",
      "Iteration:   3%|▎         | 2/62 [00:00<00:04, 12.94it/s]]"
     ]
    },
    {
     "name": "stdout",
     "output_type": "stream",
     "text": [
      "Evaluating...\n"
     ]
    },
    {
     "name": "stderr",
     "output_type": "stream",
     "text": [
      "Iteration: 100%|██████████| 7/7 [00:00<00:00, 14.92it/s]s]\n"
     ]
    },
    {
     "name": "stdout",
     "output_type": "stream",
     "text": [
      "{'Train':  best_epoch_indx:10\n",
      " auc:0.8471365441750828 \n",
      " apur:0.810901445839416 \n",
      " f1:0.7306613476282491 \n",
      " precision:0.7158036150464093 \n",
      " recall:0.7461489497135583 \n",
      ", 'Validation':  best_epoch_indx:10\n",
      " auc:0.8305332824233167 \n",
      " apur:0.7901328549237061 \n",
      " f1:0.716451431779899 \n",
      " precision:0.7026431718061674 \n",
      " recall:0.7308132875143184 \n",
      ", 'Test':  best_epoch_indx:10\n",
      " auc:0.8382996632996632 \n",
      " apur:0.8042063585140247 \n",
      " f1:0.7235571524814733 \n",
      " precision:0.7093791281373845 \n",
      " recall:0.7383134738771769 \n",
      "}\n",
      "=====Epoch 11\n",
      "Training...\n"
     ]
    },
    {
     "name": "stderr",
     "output_type": "stream",
     "text": [
      "Iteration: 100%|██████████| 62/62 [00:04<00:00, 14.35it/s]\n",
      "Iteration: 100%|██████████| 7/7 [00:00<00:00, 15.06it/s]\n",
      "Iteration:   0%|          | 0/18 [00:00<?, ?it/s]6.21it/s]"
     ]
    },
    {
     "name": "stdout",
     "output_type": "stream",
     "text": [
      "{'Train':  best_epoch_indx:10\n",
      " auc:0.8440510566107241 \n",
      " apur:0.8063918447259004 \n",
      " f1:0.7112970711297072 \n",
      " precision:0.7711183819155265 \n",
      " recall:0.66008911521324 \n",
      ", 'Validation':  best_epoch_indx:10\n",
      " auc:0.8355095436996927 \n",
      " apur:0.8006412357184067 \n",
      " f1:0.6946329426280075 \n",
      " precision:0.7526737967914439 \n",
      " recall:0.6449026345933563 \n",
      ", 'Test':  best_epoch_indx:10\n",
      " auc:0.831854675690606 \n",
      " apur:0.7925611230009928 \n",
      " f1:0.7055624227441285 \n",
      " precision:0.7659688674181427 \n",
      " recall:0.653987167736022 \n",
      "}\n",
      "=====Epoch 11\n",
      "Training...\n"
     ]
    },
    {
     "name": "stderr",
     "output_type": "stream",
     "text": [
      "Iteration: 100%|██████████| 62/62 [00:10<00:00,  6.18it/s]\n",
      "Iteration:  95%|█████████▌| 59/62 [00:09<00:00,  6.19it/s]"
     ]
    },
    {
     "name": "stdout",
     "output_type": "stream",
     "text": [
      "Evaluating...\n"
     ]
    },
    {
     "name": "stderr",
     "output_type": "stream",
     "text": [
      "Iteration: 100%|██████████| 62/62 [00:10<00:00,  6.17it/s]\n",
      "Iteration:  13%|█▎        | 8/62 [00:00<00:03, 13.99it/s]"
     ]
    },
    {
     "name": "stdout",
     "output_type": "stream",
     "text": [
      "Evaluating...\n"
     ]
    },
    {
     "name": "stderr",
     "output_type": "stream",
     "text": [
      "Iteration: 100%|██████████| 18/18 [00:01<00:00, 16.00it/s]\n",
      "Iteration: 100%|██████████| 62/62 [00:04<00:00, 14.29it/s]\n",
      "Iteration: 100%|██████████| 62/62 [00:04<00:00, 14.44it/s]\n",
      "Iteration: 100%|██████████| 18/18 [00:01<00:00, 15.89it/s]\n",
      "Iteration: 100%|██████████| 7/7 [00:00<00:00, 14.76it/s]s]\n",
      "Iteration: 100%|██████████| 18/18 [00:01<00:00, 16.03it/s]\n",
      "Iteration:  68%|██████▊   | 42/62 [00:06<00:03,  6.31it/s]"
     ]
    },
    {
     "name": "stdout",
     "output_type": "stream",
     "text": [
      "{'Train':  best_epoch_indx:10\n",
      " auc:0.8482993678095558 \n",
      " apur:0.8061032749250305 \n",
      " f1:0.7338785046728972 \n",
      " precision:0.6780356179168915 \n",
      " recall:0.7997453851050287 \n",
      ", 'Validation':  best_epoch_indx:10\n",
      " auc:0.8336958743602499 \n",
      " apur:0.7851284556223133 \n",
      " f1:0.7219307450157398 \n",
      " precision:0.6660212971926428 \n",
      " recall:0.7880870561282932 \n",
      ", 'Test':  best_epoch_indx:10\n",
      " auc:0.8474503107114488 \n",
      " apur:0.8019886633577056 \n",
      " f1:0.7412262156448203 \n",
      " precision:0.6879905808477237 \n",
      " recall:0.803391384051329 \n",
      "}\n",
      "=====Epoch 11\n",
      "Training...\n"
     ]
    },
    {
     "name": "stderr",
     "output_type": "stream",
     "text": [
      "Iteration: 100%|██████████| 62/62 [00:09<00:00,  6.22it/s]\n",
      "Iteration:  77%|███████▋  | 48/62 [00:07<00:02,  6.22it/s]"
     ]
    },
    {
     "name": "stdout",
     "output_type": "stream",
     "text": [
      "Evaluating...\n"
     ]
    },
    {
     "name": "stderr",
     "output_type": "stream",
     "text": [
      "Iteration: 100%|██████████| 62/62 [00:09<00:00,  6.32it/s]\n",
      "Iteration:   0%|          | 0/62 [00:00<?, ?it/s]"
     ]
    },
    {
     "name": "stdout",
     "output_type": "stream",
     "text": [
      "Evaluating...\n"
     ]
    },
    {
     "name": "stderr",
     "output_type": "stream",
     "text": [
      "Iteration: 100%|██████████| 7/7 [00:00<00:00, 14.72it/s]s]\n",
      "Iteration: 100%|██████████| 62/62 [00:04<00:00, 15.03it/s]\n",
      "Iteration:  57%|█████▋    | 4/7 [00:00<00:00, 14.69it/s]"
     ]
    },
    {
     "name": "stdout",
     "output_type": "stream",
     "text": [
      "{'Train':  best_epoch_indx:10\n",
      " auc:0.8451943403562823 \n",
      " apur:0.8037291834470541 \n",
      " f1:0.7204415480782018 \n",
      " precision:0.7541417235138521 \n",
      " recall:0.6896244430299172 \n",
      ", 'Validation':  best_epoch_indx:10\n",
      " auc:0.8242071343445914 \n",
      " apur:0.7875425922226059 \n",
      " f1:0.6903187011425135 \n",
      " precision:0.7265822784810126 \n",
      " recall:0.6575028636884307 \n",
      ", 'Test':  best_epoch_indx:10\n",
      " auc:0.8305303596991707 \n",
      " apur:0.787236443852582 \n",
      " f1:0.7138796778777832 \n",
      " precision:0.7387254901960785 \n",
      " recall:0.6906507791017416 \n",
      "}\n",
      "=====Epoch 11\n",
      "Training...\n"
     ]
    },
    {
     "name": "stderr",
     "output_type": "stream",
     "text": [
      "\r",
      "Iteration:   2%|▏         | 1/62 [00:00<00:08,  6.78it/s]\r",
      "Iteration:  48%|████▊     | 30/62 [00:02<00:02, 15.30it/s]\r",
      "Iteration:  86%|████████▌ | 6/7 [00:00<00:00, 14.93it/s]\r",
      "Iteration:  52%|█████▏    | 32/62 [00:05<00:04,  6.06it/s]\r",
      "Iteration:   0%|          | 0/18 [00:00<?, ?it/s]\r",
      "Iteration: 100%|██████████| 7/7 [00:00<00:00, 15.00it/s]\n",
      "\r",
      "Iteration:   0%|          | 0/62 [00:00<?, ?it/s]\r",
      "Iteration:  52%|█████▏    | 32/62 [00:02<00:01, 15.38it/s]\r",
      "Iteration:   3%|▎         | 2/62 [00:00<00:09,  6.32it/s]"
     ]
    },
    {
     "name": "stdout",
     "output_type": "stream",
     "text": [
      "{'Train':  best_epoch_indx:10\n",
      " auc:0.8459225294286825 \n",
      " apur:0.8020447955230459 \n",
      " f1:0.7376491683670315 \n",
      " precision:0.7171194998797787 \n",
      " recall:0.7593889242520687 \n",
      ", 'Validation':  best_epoch_indx:10\n",
      " auc:0.8348548486005529 \n",
      " apur:0.7926881893146307 \n",
      " f1:0.7234042553191489 \n",
      " precision:0.7075575027382256 \n",
      " recall:0.7399770904925544 \n",
      ", 'Test':  best_epoch_indx:10\n",
      " auc:0.837575277562617 \n",
      " apur:0.8020992674199675 \n",
      " f1:0.7215388056363228 \n",
      " precision:0.7046745303626037 \n",
      " recall:0.7392300641613199 \n",
      "}\n",
      "=====Epoch 11\n",
      "Training...\n"
     ]
    },
    {
     "name": "stderr",
     "output_type": "stream",
     "text": [
      "Iteration: 100%|██████████| 18/18 [00:01<00:00, 16.09it/s]\n",
      "Iteration: 100%|██████████| 62/62 [00:04<00:00, 15.15it/s]\n",
      "Iteration: 100%|██████████| 18/18 [00:01<00:00, 16.21it/s]\n",
      "Iteration: 100%|██████████| 62/62 [00:09<00:00,  6.24it/s]\n",
      "Iteration:  50%|█████     | 31/62 [00:05<00:05,  6.16it/s]"
     ]
    },
    {
     "name": "stdout",
     "output_type": "stream",
     "text": [
      "Evaluating...\n"
     ]
    },
    {
     "name": "stderr",
     "output_type": "stream",
     "text": [
      "Iteration: 100%|██████████| 7/7 [00:00<00:00, 15.10it/s]s]\n",
      "Iteration:   0%|          | 0/62 [00:00<?, ?it/s]6.21it/s]"
     ]
    },
    {
     "name": "stdout",
     "output_type": "stream",
     "text": [
      "{'Train':  best_epoch_indx:11\n",
      " auc:0.8513621295419083 \n",
      " apur:0.8159666371325706 \n",
      " f1:0.7304030259553933 \n",
      " precision:0.7487632036368499 \n",
      " recall:0.7129217059197963 \n",
      ", 'Validation':  best_epoch_indx:11\n",
      " auc:0.8318446010313135 \n",
      " apur:0.7923132825723636 \n",
      " f1:0.7206142941523922 \n",
      " precision:0.7439024390243902 \n",
      " recall:0.6987399770904925 \n",
      ", 'Test':  best_epoch_indx:11\n",
      " auc:0.842764337539773 \n",
      " apur:0.8095538678275249 \n",
      " f1:0.722942702192879 \n",
      " precision:0.7445361826129189 \n",
      " recall:0.7025664527956004 \n",
      "}\n",
      "=====Epoch 12\n",
      "Training...\n"
     ]
    },
    {
     "name": "stderr",
     "output_type": "stream",
     "text": [
      "Iteration: 100%|██████████| 7/7 [00:00<00:00, 15.32it/s]s]\n",
      "Iteration:  94%|█████████▎| 58/62 [00:03<00:00, 15.45it/s]"
     ]
    },
    {
     "name": "stdout",
     "output_type": "stream",
     "text": [
      "{'Train':  best_epoch_indx:11\n",
      " auc:0.8449211754423231 \n",
      " apur:0.8096078948547616 \n",
      " f1:0.6942456341253936 \n",
      " precision:0.7928723230341671 \n",
      " recall:0.6174411203055379 \n",
      ", 'Validation':  best_epoch_indx:11\n",
      " auc:0.8311416956892328 \n",
      " apur:0.7965127688165917 \n",
      " f1:0.6761473820297349 \n",
      " precision:0.7759643916913946 \n",
      " recall:0.5990836197021764 \n",
      ", 'Test':  best_epoch_indx:11\n",
      " auc:0.8343209053566525 \n",
      " apur:0.7976194978780446 \n",
      " f1:0.6893377652774226 \n",
      " precision:0.7796414112203586 \n",
      " recall:0.617781851512374 \n",
      "}\n",
      "=====Epoch 12\n",
      "Training...\n"
     ]
    },
    {
     "name": "stderr",
     "output_type": "stream",
     "text": [
      "Iteration: 100%|██████████| 62/62 [00:04<00:00, 15.14it/s]\n",
      "Iteration: 100%|██████████| 62/62 [00:10<00:00,  6.19it/s]\n",
      "Iteration:  89%|████████▉ | 16/18 [00:01<00:00, 15.79it/s]"
     ]
    },
    {
     "name": "stdout",
     "output_type": "stream",
     "text": [
      "Evaluating...\n"
     ]
    },
    {
     "name": "stderr",
     "output_type": "stream",
     "text": [
      "\r",
      "Iteration:  16%|█▌        | 10/62 [00:01<00:08,  6.26it/s]\r",
      "Iteration: 100%|██████████| 62/62 [00:10<00:00,  6.38it/s]\r",
      "Iteration: 100%|██████████| 62/62 [00:10<00:00,  6.19it/s]\n",
      "\r",
      "Iteration:   0%|          | 0/62 [00:00<?, ?it/s]\r",
      "Iteration: 100%|██████████| 18/18 [00:01<00:00, 16.23it/s]\n",
      "\r",
      "Iteration:   6%|▋         | 4/62 [00:00<00:04, 13.87it/s]\r",
      "Iteration:  37%|███▋      | 23/62 [00:03<00:06,  6.19it/s]\r",
      "Iteration:  18%|█▊        | 11/62 [00:01<00:08,  6.20it/s]\r",
      "Iteration:   3%|▎         | 2/62 [00:00<00:04, 13.22it/s]\r",
      "Iteration:  10%|▉         | 6/62 [00:00<00:03, 14.05it/s]"
     ]
    },
    {
     "name": "stdout",
     "output_type": "stream",
     "text": [
      "Evaluating...\n"
     ]
    },
    {
     "name": "stderr",
     "output_type": "stream",
     "text": [
      "Iteration: 100%|██████████| 62/62 [00:04<00:00, 15.04it/s]\n",
      "Iteration: 100%|██████████| 62/62 [00:04<00:00, 15.21it/s]\n",
      "Iteration: 100%|██████████| 18/18 [00:01<00:00, 16.06it/s]\n",
      "Iteration: 100%|██████████| 7/7 [00:00<00:00, 14.87it/s]s]\n",
      "Iteration:   0%|          | 0/62 [00:00<?, ?it/s]5.88it/s]"
     ]
    },
    {
     "name": "stdout",
     "output_type": "stream",
     "text": [
      "{'Train':  best_epoch_indx:11\n",
      " auc:0.848813652979429 \n",
      " apur:0.8063602300224586 \n",
      " f1:0.7336311423101468 \n",
      " precision:0.7355086372360845 \n",
      " recall:0.7317632081476766 \n",
      ", 'Validation':  best_epoch_indx:11\n",
      " auc:0.8277274462841473 \n",
      " apur:0.7820315473818509 \n",
      " f1:0.7041763341067285 \n",
      " precision:0.7132784958871915 \n",
      " recall:0.695303550973654 \n",
      ", 'Test':  best_epoch_indx:11\n",
      " auc:0.8473276716106148 \n",
      " apur:0.8030328505252686 \n",
      " f1:0.7360886631262987 \n",
      " precision:0.7417403443462075 \n",
      " recall:0.7305224564619615 \n",
      "}\n",
      "=====Epoch 12\n",
      "Training...\n"
     ]
    },
    {
     "name": "stderr",
     "output_type": "stream",
     "text": [
      "Iteration: 100%|██████████| 18/18 [00:01<00:00, 16.24it/s]\n",
      "Iteration: 100%|██████████| 62/62 [00:09<00:00,  6.22it/s]\n",
      "Iteration:  81%|████████  | 50/62 [00:07<00:01,  6.19it/s]"
     ]
    },
    {
     "name": "stdout",
     "output_type": "stream",
     "text": [
      "Evaluating...\n"
     ]
    },
    {
     "name": "stderr",
     "output_type": "stream",
     "text": [
      "Iteration: 100%|██████████| 62/62 [00:09<00:00,  6.26it/s]\n",
      "Iteration:   0%|          | 0/62 [00:00<?, ?it/s]"
     ]
    },
    {
     "name": "stdout",
     "output_type": "stream",
     "text": [
      "Evaluating...\n"
     ]
    },
    {
     "name": "stderr",
     "output_type": "stream",
     "text": [
      "Iteration: 100%|██████████| 62/62 [00:04<00:00, 15.08it/s]\n",
      "Iteration: 100%|██████████| 7/7 [00:00<00:00, 14.46it/s]s]\n",
      "Iteration:   0%|          | 0/18 [00:00<?, ?it/s]86it/s]"
     ]
    },
    {
     "name": "stdout",
     "output_type": "stream",
     "text": [
      "{'Train':  best_epoch_indx:11\n",
      " auc:0.8507903243958106 \n",
      " apur:0.8104272135919421 \n",
      " f1:0.7233752977203131 \n",
      " precision:0.777046783625731 \n",
      " recall:0.6766390833863781 \n",
      ", 'Validation':  best_epoch_indx:11\n",
      " auc:0.8301003544417062 \n",
      " apur:0.7962521404233036 \n",
      " f1:0.7030378177309361 \n",
      " precision:0.7662162162162162 \n",
      " recall:0.6494845360824743 \n",
      ", 'Test':  best_epoch_indx:11\n",
      " auc:0.8379958316598125 \n",
      " apur:0.7970919898293882 \n",
      " f1:0.7202510258266955 \n",
      " precision:0.7608363080061193 \n",
      " recall:0.6837763519706691 \n",
      "}\n",
      "=====Epoch 12\n",
      "Training...\n",
      "{'Train':  best_epoch_indx:11\n",
      " auc:0.8445994608785643 \n",
      " apur:0.7997194470950533 \n",
      " f1:0.7388966806919122 \n",
      " precision:0.6829426380036729 \n",
      " recall:0.8048376830044558 \n",
      ", 'Validation':  best_epoch_indx:11\n",
      " auc:0.8312197962827975 \n",
      " apur:0.7840957140715765 \n",
      " f1:0.723336853220697 \n",
      " precision:0.6709108716944172 \n",
      " recall:0.7846506300114547 \n",
      ", 'Test':  best_epoch_indx:11\n",
      " auc:0.8384820659802994 \n",
      " apur:0.799627214326569 \n",
      " f1:0.7277353689567428 \n",
      " precision:0.6771902131018153 \n",
      " recall:0.7864344637946837 \n",
      "}\n",
      "=====Epoch 12\n",
      "Training...\n"
     ]
    },
    {
     "name": "stderr",
     "output_type": "stream",
     "text": [
      "Iteration: 100%|██████████| 7/7 [00:00<00:00, 14.92it/s]\n",
      "Iteration: 100%|██████████| 18/18 [00:01<00:00, 16.10it/s]\n",
      "Iteration: 100%|██████████| 62/62 [00:04<00:00, 15.33it/s]\n",
      "Iteration: 100%|██████████| 18/18 [00:01<00:00, 16.00it/s]\n",
      "Iteration: 100%|██████████| 62/62 [00:09<00:00,  6.54it/s]\n",
      "Iteration:  44%|████▎     | 27/62 [00:04<00:05,  6.09it/s]"
     ]
    },
    {
     "name": "stdout",
     "output_type": "stream",
     "text": [
      "Evaluating...\n"
     ]
    },
    {
     "name": "stderr",
     "output_type": "stream",
     "text": [
      "Iteration: 100%|██████████| 7/7 [00:00<00:00, 14.37it/s]s]\n",
      "Iteration:  58%|█████▊    | 36/62 [00:02<00:01, 15.33it/s]"
     ]
    },
    {
     "name": "stdout",
     "output_type": "stream",
     "text": [
      "{'Train':  best_epoch_indx:12\n",
      " auc:0.8492447990965447 \n",
      " apur:0.8149974151542853 \n",
      " f1:0.7279544866821824 \n",
      " precision:0.7395244975699461 \n",
      " recall:0.7167409293443666 \n",
      ", 'Validation':  best_epoch_indx:12\n",
      " auc:0.8306441659820811 \n",
      " apur:0.7927614625222615 \n",
      " f1:0.7096774193548389 \n",
      " precision:0.7271634615384616 \n",
      " recall:0.693012600229095 \n",
      ", 'Test':  best_epoch_indx:12\n",
      " auc:0.8406098874476509 \n",
      " apur:0.8080647579219017 \n",
      " f1:0.7223782771535581 \n",
      " precision:0.7382775119617225 \n",
      " recall:0.7071494042163153 \n",
      "}\n",
      "=====Epoch 13\n",
      "Training...\n"
     ]
    },
    {
     "name": "stderr",
     "output_type": "stream",
     "text": [
      "Iteration: 100%|██████████| 62/62 [00:04<00:00, 15.24it/s]\n",
      "Iteration: 100%|██████████| 7/7 [00:00<00:00, 14.17it/s]\n"
     ]
    },
    {
     "name": "stdout",
     "output_type": "stream",
     "text": [
      "{'Train':  best_epoch_indx:12\n",
      " auc:0.8433317677459097 \n",
      " apur:0.8068235707924096 \n",
      " f1:0.7225144323284156 \n",
      " precision:0.7281189398836457 \n",
      " recall:0.716995544239338 \n",
      ", 'Validation':  best_epoch_indx:12\n",
      " auc:0.8337161226622852 \n",
      " apur:0.7949832100816735 \n",
      " f1:0.7142857142857143 \n",
      " precision:0.7126567844925884 \n",
      " recall:0.715922107674685 \n",
      ", 'Test':  best_epoch_indx:12\n",
      " auc:0.8315280825363319 \n",
      " apur:0.7933682006120044 \n",
      " f1:0.7183881426586383 \n",
      " precision:0.726123595505618 \n",
      " recall:0.7108157653528873 \n",
      "}\n",
      "=====Epoch 13\n",
      "Training...\n"
     ]
    },
    {
     "name": "stderr",
     "output_type": "stream",
     "text": [
      "Iteration: 100%|██████████| 18/18 [00:01<00:00, 16.17it/s]\n",
      "Iteration: 100%|██████████| 62/62 [00:10<00:00,  6.18it/s]\n",
      "Iteration: 100%|██████████| 62/62 [00:09<00:00,  6.20it/s]\n",
      "Iteration:  19%|█▉        | 12/62 [00:01<00:07,  6.34it/s]"
     ]
    },
    {
     "name": "stdout",
     "output_type": "stream",
     "text": [
      "Evaluating...\n",
      "Evaluating...\n"
     ]
    },
    {
     "name": "stderr",
     "output_type": "stream",
     "text": [
      "Iteration: 100%|██████████| 62/62 [00:04<00:00, 15.16it/s]\n",
      "Iteration: 100%|██████████| 62/62 [00:04<00:00, 15.22it/s]\n",
      "Iteration: 100%|██████████| 7/7 [00:00<00:00, 14.78it/s]s]\n",
      "Iteration:  44%|████▍     | 8/18 [00:00<00:00, 15.51it/s]]"
     ]
    },
    {
     "name": "stdout",
     "output_type": "stream",
     "text": [
      "{'Train':  best_epoch_indx:12\n",
      " auc:0.845251700161784 \n",
      " apur:0.8044944860186214 \n",
      " f1:0.7304984199146201 \n",
      " precision:0.6470241602828521 \n",
      " recall:0.838701464035646 \n",
      ", 'Validation':  best_epoch_indx:12\n",
      " auc:0.8239130518626508 \n",
      " apur:0.7804472278218616 \n",
      " f1:0.7136476426799007 \n",
      " precision:0.6295971978984238 \n",
      " recall:0.8235967926689576 \n",
      ", 'Test':  best_epoch_indx:12\n",
      " auc:0.8449242848264946 \n",
      " apur:0.8033815644410036 \n",
      " f1:0.7337492453209903 \n",
      " precision:0.65410836024399 \n",
      " recall:0.8354720439963337 \n",
      "}\n",
      "=====Epoch 13\n",
      "Training...\n"
     ]
    },
    {
     "name": "stderr",
     "output_type": "stream",
     "text": [
      "Iteration: 100%|██████████| 18/18 [00:01<00:00, 15.97it/s]\n",
      "Iteration: 100%|██████████| 18/18 [00:01<00:00, 16.24it/s]\n",
      "Iteration: 100%|██████████| 62/62 [00:10<00:00,  6.15it/s]\n",
      "Iteration:   3%|▎         | 2/62 [00:00<00:04, 13.07it/s]]"
     ]
    },
    {
     "name": "stdout",
     "output_type": "stream",
     "text": [
      "Evaluating...\n"
     ]
    },
    {
     "name": "stderr",
     "output_type": "stream",
     "text": [
      "Iteration: 100%|██████████| 62/62 [00:10<00:00,  6.15it/s]\n",
      "Iteration:   0%|          | 0/62 [00:00<?, ?it/s]"
     ]
    },
    {
     "name": "stdout",
     "output_type": "stream",
     "text": [
      "Evaluating...\n"
     ]
    },
    {
     "name": "stderr",
     "output_type": "stream",
     "text": [
      "Iteration: 100%|██████████| 62/62 [00:04<00:00, 15.12it/s]\n",
      "Iteration: 100%|██████████| 7/7 [00:00<00:00, 14.51it/s]\n",
      "Iteration:  86%|████████▌ | 6/7 [00:00<00:00, 13.99it/s]s]"
     ]
    },
    {
     "name": "stdout",
     "output_type": "stream",
     "text": [
      "{'Train':  best_epoch_indx:12\n",
      " auc:0.8466347246842472 \n",
      " apur:0.8036804940377799 \n",
      " f1:0.7353189436874473 \n",
      " precision:0.6984308784789829 \n",
      " recall:0.7763208147676639 \n",
      ", 'Validation':  best_epoch_indx:12\n",
      " auc:0.8345626945283303 \n",
      " apur:0.7932665609752889 \n",
      " f1:0.7237057220708447 \n",
      " precision:0.6902286902286903 \n",
      " recall:0.7605956471935853 \n",
      ", 'Test':  best_epoch_indx:12\n",
      " auc:0.8390022595231693 \n",
      " apur:0.803351139045621 \n",
      " f1:0.7204041291456184 \n",
      " precision:0.6916912695065374 \n",
      " recall:0.7516040329972502 \n",
      "}\n",
      "=====Epoch 13\n",
      "Training...\n",
      "{'Train':  best_epoch_indx:12\n",
      " auc:0.8510098076752457 \n",
      " apur:0.812694360325891 \n",
      " f1:0.7264847294643462 \n",
      " precision:0.7760416666666666 \n",
      " recall:0.6828771483131764 \n",
      ", 'Validation':  best_epoch_indx:12\n",
      " auc:0.8223076507727136 \n",
      " apur:0.7905485616606803 \n",
      " f1:0.6934795856185253 \n",
      " precision:0.7408854166666666 \n",
      " recall:0.6517754868270332 \n",
      ", 'Test':  best_epoch_indx:12\n",
      " auc:0.8376474409101813 \n",
      " apur:0.7961670462439419 \n",
      " f1:0.7231285988483686 \n",
      " precision:0.7588116817724069 \n",
      " recall:0.6906507791017416 \n",
      "}\n",
      "=====Epoch 13\n",
      "Training...\n"
     ]
    },
    {
     "name": "stderr",
     "output_type": "stream",
     "text": [
      "Iteration: 100%|██████████| 7/7 [00:00<00:00, 14.11it/s]\n",
      "Iteration: 100%|██████████| 18/18 [00:01<00:00, 16.12it/s]\n",
      "Iteration: 100%|██████████| 62/62 [00:04<00:00, 15.21it/s]\n",
      "Iteration: 100%|██████████| 18/18 [00:01<00:00, 16.08it/s]\n",
      "Iteration: 100%|██████████| 62/62 [00:09<00:00,  6.37it/s]\n",
      "Iteration:  39%|███▊      | 24/62 [00:03<00:06,  6.14it/s]"
     ]
    },
    {
     "name": "stdout",
     "output_type": "stream",
     "text": [
      "Evaluating...\n"
     ]
    },
    {
     "name": "stderr",
     "output_type": "stream",
     "text": [
      "Iteration: 100%|██████████| 7/7 [00:00<00:00, 15.03it/s]s]\n",
      "Iteration:  71%|███████   | 44/62 [00:02<00:01, 15.11it/s]"
     ]
    },
    {
     "name": "stdout",
     "output_type": "stream",
     "text": [
      "{'Train':  best_epoch_indx:13\n",
      " auc:0.8474705341737839 \n",
      " apur:0.8109155473314056 \n",
      " f1:0.7303949627933599 \n",
      " precision:0.7297915607524148 \n",
      " recall:0.7309993634627626 \n",
      ", 'Validation':  best_epoch_indx:13\n",
      " auc:0.8276532025100181 \n",
      " apur:0.7845796478820779 \n",
      " f1:0.7125645438898452 \n",
      " precision:0.7137931034482758 \n",
      " recall:0.711340206185567 \n",
      ", 'Test':  best_epoch_indx:13\n",
      " auc:0.8389645770259887 \n",
      " apur:0.8049040878857024 \n",
      " f1:0.723892586642185 \n",
      " precision:0.7250574712643678 \n",
      " recall:0.7227314390467461 \n",
      "}\n",
      "=====Epoch 14\n",
      "Training...\n"
     ]
    },
    {
     "name": "stderr",
     "output_type": "stream",
     "text": [
      "Iteration: 100%|██████████| 62/62 [00:04<00:00, 14.92it/s]\n",
      "Iteration: 100%|██████████| 7/7 [00:00<00:00, 14.79it/s]]]\n",
      "Iteration:  82%|████████▏ | 51/62 [00:08<00:02,  4.40it/s]"
     ]
    },
    {
     "name": "stdout",
     "output_type": "stream",
     "text": [
      "{'Train':  best_epoch_indx:13\n",
      " auc:0.8411955299590845 \n",
      " apur:0.8011616324669434 \n",
      " f1:0.7288156140138198 \n",
      " precision:0.6955918083998611 \n",
      " recall:0.7653723742838956 \n",
      ", 'Validation':  best_epoch_indx:13\n",
      " auc:0.8306682711035518 \n",
      " apur:0.7920960467432169 \n",
      " f1:0.716675661090124 \n",
      " precision:0.6775510204081633 \n",
      " recall:0.7605956471935853 \n",
      ", 'Test':  best_epoch_indx:13\n",
      " auc:0.8304456881679612 \n",
      " apur:0.7897240616240548 \n",
      " f1:0.7241606319947334 \n",
      " precision:0.6947368421052632 \n",
      " recall:0.7561869844179652 \n",
      "}\n",
      "=====Epoch 14\n",
      "Training...\n"
     ]
    },
    {
     "name": "stderr",
     "output_type": "stream",
     "text": [
      "Iteration: 100%|██████████| 18/18 [00:01<00:00, 15.93it/s]\n",
      "Iteration: 100%|██████████| 62/62 [00:10<00:00,  6.07it/s]\n",
      "Iteration: 100%|██████████| 62/62 [00:10<00:00,  6.09it/s]\n",
      "Iteration:  37%|███▋      | 23/62 [00:03<00:06,  6.22it/s]"
     ]
    },
    {
     "name": "stdout",
     "output_type": "stream",
     "text": [
      "Evaluating...\n",
      "Evaluating...\n"
     ]
    },
    {
     "name": "stderr",
     "output_type": "stream",
     "text": [
      "Iteration: 100%|██████████| 62/62 [00:04<00:00, 14.90it/s]\n",
      "Iteration: 100%|██████████| 62/62 [00:04<00:00, 14.84it/s]\n",
      "Iteration: 100%|██████████| 7/7 [00:00<00:00, 14.99it/s]s]\n",
      "Iteration:  11%|█         | 2/18 [00:00<00:01, 15.52it/s]]"
     ]
    },
    {
     "name": "stdout",
     "output_type": "stream",
     "text": [
      "{'Train':  best_epoch_indx:13\n",
      " auc:0.8461510635650015 \n",
      " apur:0.8099578786616315 \n",
      " f1:0.7366935246721167 \n",
      " precision:0.6846305203323131 \n",
      " recall:0.7973265436028008 \n",
      ", 'Validation':  best_epoch_indx:13\n",
      " auc:0.8318571356944782 \n",
      " apur:0.7926588112922379 \n",
      " f1:0.722048066875653 \n",
      " precision:0.6637848222862632 \n",
      " recall:0.7915234822451317 \n",
      ", 'Test':  best_epoch_indx:13\n",
      " auc:0.8473835499674455 \n",
      " apur:0.8092408374325645 \n",
      " f1:0.736552308343922 \n",
      " precision:0.6846456692913386 \n",
      " recall:0.7969752520623281 \n",
      "}\n",
      "=====Epoch 14\n",
      "Training...\n"
     ]
    },
    {
     "name": "stderr",
     "output_type": "stream",
     "text": [
      "Iteration: 100%|██████████| 18/18 [00:01<00:00, 16.11it/s]\n",
      "Iteration: 100%|██████████| 18/18 [00:01<00:00, 15.95it/s]\n",
      "Iteration: 100%|██████████| 62/62 [00:09<00:00,  6.21it/s]\n",
      "Iteration:  84%|████████▍ | 52/62 [00:08<00:01,  6.21it/s]"
     ]
    },
    {
     "name": "stdout",
     "output_type": "stream",
     "text": [
      "Evaluating...\n"
     ]
    },
    {
     "name": "stderr",
     "output_type": "stream",
     "text": [
      "Iteration: 100%|██████████| 62/62 [00:09<00:00,  6.26it/s]\n",
      "Iteration:  42%|████▏     | 26/62 [00:01<00:02, 15.18it/s]"
     ]
    },
    {
     "name": "stdout",
     "output_type": "stream",
     "text": [
      "Evaluating...\n"
     ]
    },
    {
     "name": "stderr",
     "output_type": "stream",
     "text": [
      "Iteration: 100%|██████████| 62/62 [00:04<00:00, 15.02it/s]\n",
      "Iteration: 100%|██████████| 7/7 [00:00<00:00, 14.77it/s]s]\n",
      "Iteration:   2%|▏         | 1/62 [00:00<00:09,  6.46it/s]]"
     ]
    },
    {
     "name": "stdout",
     "output_type": "stream",
     "text": [
      "{'Train':  best_epoch_indx:13\n",
      " auc:0.8449501994463495 \n",
      " apur:0.802970741154969 \n",
      " f1:0.7331160804584784 \n",
      " precision:0.6561399979885346 \n",
      " recall:0.8305537873965627 \n",
      ", 'Validation':  best_epoch_indx:13\n",
      " auc:0.8374736289971113 \n",
      " apur:0.794954392347064 \n",
      " f1:0.7249874308697838 \n",
      " precision:0.6460573476702509 \n",
      " recall:0.8258877434135166 \n",
      ", 'Test':  best_epoch_indx:13\n",
      " auc:0.8375651669759528 \n",
      " apur:0.8008444283904822 \n",
      " f1:0.7239837398373983 \n",
      " precision:0.6504747991234477 \n",
      " recall:0.8162236480293309 \n",
      "}\n",
      "=====Epoch 14\n",
      "Training...\n"
     ]
    },
    {
     "name": "stderr",
     "output_type": "stream",
     "text": [
      "\r",
      "Iteration:  65%|██████▍   | 40/62 [00:06<00:03,  6.13it/s]\r",
      "Iteration:  22%|██▏       | 4/18 [00:00<00:00, 15.07it/s]\r",
      "Iteration:  86%|████████▌ | 6/7 [00:00<00:00, 14.51it/s]\r",
      "Iteration:  71%|███████   | 44/62 [00:02<00:01, 15.29it/s]\r",
      "Iteration: 100%|██████████| 7/7 [00:00<00:00, 14.62it/s]\n",
      "\r",
      "Iteration:   3%|▎         | 2/62 [00:00<00:09,  6.23it/s]\r",
      "Iteration:   0%|          | 0/62 [00:00<?, ?it/s]\r",
      "Iteration:  66%|██████▌   | 41/62 [00:06<00:03,  6.09it/s]\r",
      "Iteration:  33%|███▎      | 6/18 [00:00<00:00, 15.16it/s]\r",
      "Iteration:  74%|███████▍  | 46/62 [00:03<00:01, 15.31it/s]"
     ]
    },
    {
     "name": "stdout",
     "output_type": "stream",
     "text": [
      "{'Train':  best_epoch_indx:13\n",
      " auc:0.8538899630165315 \n",
      " apur:0.8164562049326276 \n",
      " f1:0.7194968553459119 \n",
      " precision:0.7975213013168087 \n",
      " recall:0.6553787396562699 \n",
      ", 'Validation':  best_epoch_indx:13\n",
      " auc:0.8294938695855076 \n",
      " apur:0.7962249390922275 \n",
      " f1:0.6851735015772871 \n",
      " precision:0.7626404494382022 \n",
      " recall:0.6219931271477663 \n",
      ", 'Test':  best_epoch_indx:13\n",
      " auc:0.8418724312549568 \n",
      " apur:0.7982885289143601 \n",
      " f1:0.7137844611528822 \n",
      " precision:0.7876106194690266 \n",
      " recall:0.6526122823098075 \n",
      "}\n",
      "=====Epoch 14\n",
      "Training...\n"
     ]
    },
    {
     "name": "stderr",
     "output_type": "stream",
     "text": [
      "Iteration: 100%|██████████| 18/18 [00:01<00:00, 15.93it/s]\n",
      "Iteration: 100%|██████████| 62/62 [00:04<00:00, 15.02it/s]\n",
      "Iteration: 100%|██████████| 18/18 [00:01<00:00, 16.05it/s]\n",
      "Iteration: 100%|██████████| 62/62 [00:10<00:00,  6.12it/s]\n",
      "Iteration:   3%|▎         | 2/62 [00:00<00:04, 12.71it/s]]"
     ]
    },
    {
     "name": "stdout",
     "output_type": "stream",
     "text": [
      "Evaluating...\n"
     ]
    },
    {
     "name": "stderr",
     "output_type": "stream",
     "text": [
      "Iteration: 100%|██████████| 7/7 [00:00<00:00, 14.98it/s]s]\n",
      "Iteration:  68%|██████▊   | 42/62 [00:02<00:01, 15.18it/s]"
     ]
    },
    {
     "name": "stdout",
     "output_type": "stream",
     "text": [
      "{'Train':  best_epoch_indx:14\n",
      " auc:0.8482374576289455 \n",
      " apur:0.8128481536572132 \n",
      " f1:0.7289695229393722 \n",
      " precision:0.7478575254418853 \n",
      " recall:0.7110120942075111 \n",
      ", 'Validation':  best_epoch_indx:14\n",
      " auc:0.8301774908304118 \n",
      " apur:0.785950981477134 \n",
      " f1:0.7120047309284446 \n",
      " precision:0.7359413202933985 \n",
      " recall:0.6895761741122566 \n",
      ", 'Test':  best_epoch_indx:14\n",
      " auc:0.8382579229508652 \n",
      " apur:0.8037138008136289 \n",
      " f1:0.717345257707696 \n",
      " precision:0.737300435413643 \n",
      " recall:0.6984417965169569 \n",
      "}\n",
      "=====Epoch 15\n",
      "Training...\n"
     ]
    },
    {
     "name": "stderr",
     "output_type": "stream",
     "text": [
      "Iteration: 100%|██████████| 62/62 [00:04<00:00, 14.91it/s]\n",
      "Iteration: 100%|██████████| 7/7 [00:00<00:00, 15.06it/s]s]\n",
      "Iteration:  79%|███████▉  | 49/62 [00:07<00:02,  6.34it/s]"
     ]
    },
    {
     "name": "stdout",
     "output_type": "stream",
     "text": [
      "{'Train':  best_epoch_indx:14\n",
      " auc:0.843385071561161 \n",
      " apur:0.8078447574748137 \n",
      " f1:0.7232745199792423 \n",
      " precision:0.7373363311731252 \n",
      " recall:0.7097390197326544 \n",
      ", 'Validation':  best_epoch_indx:14\n",
      " auc:0.8356985278520216 \n",
      " apur:0.801463242029093 \n",
      " f1:0.7126030624263839 \n",
      " precision:0.7333333333333333 \n",
      " recall:0.693012600229095 \n",
      ", 'Test':  best_epoch_indx:14\n",
      " auc:0.8330288833955195 \n",
      " apur:0.7973516133246867 \n",
      " f1:0.7201301720130172 \n",
      " precision:0.7306603773584905 \n",
      " recall:0.7098991750687442 \n",
      "}\n",
      "=====Epoch 15\n",
      "Training...\n"
     ]
    },
    {
     "name": "stderr",
     "output_type": "stream",
     "text": [
      "Iteration: 100%|██████████| 18/18 [00:01<00:00, 15.95it/s]\n",
      "Iteration: 100%|██████████| 62/62 [00:10<00:00,  6.20it/s]\n",
      "Iteration:  97%|█████████▋| 60/62 [00:09<00:00,  6.19it/s]"
     ]
    },
    {
     "name": "stdout",
     "output_type": "stream",
     "text": [
      "Evaluating...\n"
     ]
    },
    {
     "name": "stderr",
     "output_type": "stream",
     "text": [
      "Iteration: 100%|██████████| 62/62 [00:10<00:00,  6.18it/s]\n",
      "Iteration:  24%|██▍       | 15/62 [00:02<00:07,  6.18it/s]"
     ]
    },
    {
     "name": "stdout",
     "output_type": "stream",
     "text": [
      "Evaluating...\n"
     ]
    },
    {
     "name": "stderr",
     "output_type": "stream",
     "text": [
      "Iteration: 100%|██████████| 62/62 [00:04<00:00, 15.05it/s]\n",
      "Iteration: 100%|██████████| 62/62 [00:04<00:00, 14.87it/s]\n",
      "Iteration: 100%|██████████| 7/7 [00:00<00:00, 14.79it/s]]]\n",
      "Iteration:   0%|          | 0/18 [00:00<?, ?it/s].07it/s]]"
     ]
    },
    {
     "name": "stdout",
     "output_type": "stream",
     "text": [
      "{'Train':  best_epoch_indx:14\n",
      " auc:0.8490387751808832 \n",
      " apur:0.8066065774244578 \n",
      " f1:0.735290770456356 \n",
      " precision:0.6647803271941558 \n",
      " recall:0.822533418204965 \n",
      ", 'Validation':  best_epoch_indx:14\n",
      " auc:0.8297860236577305 \n",
      " apur:0.7801651399035028 \n",
      " f1:0.7184170471841705 \n",
      " precision:0.644808743169399 \n",
      " recall:0.8109965635738832 \n",
      ", 'Test':  best_epoch_indx:14\n",
      " auc:0.8488405549677868 \n",
      " apur:0.8018831194468197 \n",
      " f1:0.7373177243787227 \n",
      " precision:0.6680312616300708 \n",
      " recall:0.8226397800183318 \n",
      "}\n",
      "=====Epoch 15\n",
      "Training...\n"
     ]
    },
    {
     "name": "stderr",
     "output_type": "stream",
     "text": [
      "Iteration: 100%|██████████| 18/18 [00:01<00:00, 16.16it/s]\n",
      "Iteration: 100%|██████████| 18/18 [00:01<00:00, 15.83it/s]\n",
      "Iteration: 100%|██████████| 62/62 [00:09<00:00,  6.28it/s]\n",
      "Iteration:  18%|█▊        | 11/62 [00:01<00:08,  6.06it/s]"
     ]
    },
    {
     "name": "stdout",
     "output_type": "stream",
     "text": [
      "Evaluating...\n"
     ]
    },
    {
     "name": "stderr",
     "output_type": "stream",
     "text": [
      "Iteration: 100%|██████████| 62/62 [00:09<00:00,  6.24it/s]\n",
      "Iteration:   3%|▎         | 2/62 [00:00<00:04, 13.10it/s]]"
     ]
    },
    {
     "name": "stdout",
     "output_type": "stream",
     "text": [
      "Evaluating...\n"
     ]
    },
    {
     "name": "stderr",
     "output_type": "stream",
     "text": [
      "Iteration: 100%|██████████| 62/62 [00:04<00:00, 14.97it/s]\n",
      "Iteration: 100%|██████████| 7/7 [00:00<00:00, 14.99it/s]s]\n",
      "Iteration:  68%|██████▊   | 42/62 [00:02<00:01, 15.35it/s]"
     ]
    },
    {
     "name": "stdout",
     "output_type": "stream",
     "text": [
      "{'Train':  best_epoch_indx:14\n",
      " auc:0.8412424206516735 \n",
      " apur:0.7993128708623634 \n",
      " f1:0.7334926277755115 \n",
      " precision:0.6763757523645744 \n",
      " recall:0.8011457670273711 \n",
      ", 'Validation':  best_epoch_indx:14\n",
      " auc:0.832407696668865 \n",
      " apur:0.7875955808930328 \n",
      " f1:0.7274622199062011 \n",
      " precision:0.6673040152963671 \n",
      " recall:0.7995418098510882 \n",
      ", 'Test':  best_epoch_indx:14\n",
      " auc:0.8325960065806798 \n",
      " apur:0.7940086837941277 \n",
      " f1:0.7219307450157397 \n",
      " precision:0.6658923732094464 \n",
      " recall:0.7882676443629697 \n",
      "}\n",
      "=====Epoch 15\n",
      "Training...\n"
     ]
    },
    {
     "name": "stderr",
     "output_type": "stream",
     "text": [
      "Iteration: 100%|██████████| 7/7 [00:00<00:00, 14.86it/s]]]\n"
     ]
    },
    {
     "name": "stdout",
     "output_type": "stream",
     "text": [
      "{'Train':  best_epoch_indx:14\n",
      " auc:0.8502887580616636 \n",
      " apur:0.8112644593666722 \n",
      " f1:0.7349466828427303 \n",
      " precision:0.7372533948244939 \n",
      " recall:0.7326543602800764 \n",
      ", 'Validation':  best_epoch_indx:14\n",
      " auc:0.8239988660950861 \n",
      " apur:0.7866873176145683 \n",
      " f1:0.7005193306405078 \n",
      " precision:0.7058139534883721 \n",
      " recall:0.695303550973654 \n",
      ", 'Test':  best_epoch_indx:14\n",
      " auc:0.8324528375863142 \n",
      " apur:0.7856686890263539 \n",
      " f1:0.7247101614003183 \n",
      " precision:0.7189896256202075 \n",
      " recall:0.7305224564619615 \n",
      "}\n",
      "=====Epoch 15\n",
      "Training...\n"
     ]
    },
    {
     "name": "stderr",
     "output_type": "stream",
     "text": [
      "Iteration: 100%|██████████| 18/18 [00:01<00:00, 15.96it/s]\n",
      "Iteration: 100%|██████████| 62/62 [00:04<00:00, 15.12it/s]\n",
      "Iteration: 100%|██████████| 18/18 [00:01<00:00, 16.03it/s]\n",
      "Iteration: 100%|██████████| 62/62 [00:10<00:00,  6.11it/s]\n",
      "Iteration:  40%|████      | 25/62 [00:04<00:05,  6.20it/s]"
     ]
    },
    {
     "name": "stdout",
     "output_type": "stream",
     "text": [
      "Evaluating...\n"
     ]
    },
    {
     "name": "stderr",
     "output_type": "stream",
     "text": [
      "Iteration: 100%|██████████| 7/7 [00:00<00:00, 14.22it/s]s]\n",
      "Iteration:   0%|          | 0/62 [00:00<?, ?it/s]6.17it/s]"
     ]
    },
    {
     "name": "stdout",
     "output_type": "stream",
     "text": [
      "{'Train':  best_epoch_indx:15\n",
      " auc:0.8590593171835457 \n",
      " apur:0.8247262578269127 \n",
      " f1:0.7473283380420095 \n",
      " precision:0.7219651121395514 \n",
      " recall:0.7745385105028644 \n",
      ", 'Validation':  best_epoch_indx:15\n",
      " auc:0.8407104647081738 \n",
      " apur:0.8008959233554743 \n",
      " f1:0.7255449972051425 \n",
      " precision:0.7085152838427947 \n",
      " recall:0.7434135166093929 \n",
      ", 'Test':  best_epoch_indx:15\n",
      " auc:0.8500422804272483 \n",
      " apur:0.8149011403427412 \n",
      " f1:0.7407079646017699 \n",
      " precision:0.7159965782720273 \n",
      " recall:0.7671860678276811 \n",
      "}\n",
      "=====Epoch 16\n",
      "Training...\n"
     ]
    },
    {
     "name": "stderr",
     "output_type": "stream",
     "text": [
      "Iteration: 100%|██████████| 7/7 [00:00<00:00, 14.42it/s]s]\n",
      "Iteration: 100%|██████████| 62/62 [00:04<00:00, 14.93it/s]\n"
     ]
    },
    {
     "name": "stdout",
     "output_type": "stream",
     "text": [
      "{'Train':  best_epoch_indx:15\n",
      " auc:0.8530752478246285 \n",
      " apur:0.8168347912588771 \n",
      " f1:0.7409198113207548 \n",
      " precision:0.6900604063701263 \n",
      " recall:0.7998726925525144 \n",
      ", 'Validation':  best_epoch_indx:15\n",
      " auc:0.8445402864074114 \n",
      " apur:0.8119492571791505 \n",
      " f1:0.7258150721539284 \n",
      " precision:0.6803607214428857 \n",
      " recall:0.7777777777777778 \n",
      ", 'Test':  best_epoch_indx:15\n",
      " auc:0.8403986396195379 \n",
      " apur:0.8031346151032484 \n",
      " f1:0.7287414965986394 \n",
      " precision:0.6796193497224425 \n",
      " recall:0.7855178735105408 \n",
      "}\n",
      "=====Epoch 16\n",
      "Training...\n"
     ]
    },
    {
     "name": "stderr",
     "output_type": "stream",
     "text": [
      "Iteration: 100%|██████████| 18/18 [00:01<00:00, 16.07it/s]\n",
      "Iteration: 100%|██████████| 62/62 [00:09<00:00,  6.20it/s]\n",
      "Iteration:  97%|█████████▋| 60/62 [00:09<00:00,  6.24it/s]"
     ]
    },
    {
     "name": "stdout",
     "output_type": "stream",
     "text": [
      "Evaluating...\n"
     ]
    },
    {
     "name": "stderr",
     "output_type": "stream",
     "text": [
      "Iteration: 100%|██████████| 62/62 [00:09<00:00,  6.22it/s]\n",
      "Iteration:  13%|█▎        | 8/62 [00:00<00:03, 14.09it/s]]"
     ]
    },
    {
     "name": "stdout",
     "output_type": "stream",
     "text": [
      "Evaluating...\n"
     ]
    },
    {
     "name": "stderr",
     "output_type": "stream",
     "text": [
      "Iteration: 100%|██████████| 62/62 [00:04<00:00, 15.05it/s]\n",
      "Iteration: 100%|██████████| 62/62 [00:04<00:00, 14.87it/s]\n",
      "Iteration: 100%|██████████| 7/7 [00:00<00:00, 14.32it/s]]]\n",
      "Iteration:   2%|▏         | 1/62 [00:00<00:09,  6.71it/s]]"
     ]
    },
    {
     "name": "stdout",
     "output_type": "stream",
     "text": [
      "{'Train':  best_epoch_indx:15\n",
      " auc:0.8496949503959452 \n",
      " apur:0.8085540203502157 \n",
      " f1:0.742654028436019 \n",
      " precision:0.6945152354570637 \n",
      " recall:0.7979630808402292 \n",
      ", 'Validation':  best_epoch_indx:15\n",
      " auc:0.8317096123510787 \n",
      " apur:0.7838378090997244 \n",
      " f1:0.7240105540897098 \n",
      " precision:0.6712328767123288 \n",
      " recall:0.7857961053837342 \n",
      ", 'Test':  best_epoch_indx:15\n",
      " auc:0.8468462224532822 \n",
      " apur:0.8036059108387904 \n",
      " f1:0.7391862955032121 \n",
      " precision:0.6937299035369775 \n",
      " recall:0.7910174152153987 \n",
      "}\n",
      "=====Epoch 16\n",
      "Training...\n"
     ]
    },
    {
     "name": "stderr",
     "output_type": "stream",
     "text": [
      "Iteration: 100%|██████████| 18/18 [00:01<00:00, 16.08it/s]\n",
      "Iteration: 100%|██████████| 18/18 [00:01<00:00, 15.93it/s]\n",
      "Iteration: 100%|██████████| 62/62 [00:09<00:00,  6.26it/s]\n",
      "Iteration:   3%|▎         | 2/62 [00:00<00:04, 13.16it/s]]"
     ]
    },
    {
     "name": "stdout",
     "output_type": "stream",
     "text": [
      "Evaluating...\n"
     ]
    },
    {
     "name": "stderr",
     "output_type": "stream",
     "text": [
      "Iteration: 100%|██████████| 62/62 [00:09<00:00,  6.26it/s]\n",
      "Iteration:  32%|███▏      | 20/62 [00:01<00:02, 14.46it/s]"
     ]
    },
    {
     "name": "stdout",
     "output_type": "stream",
     "text": [
      "Evaluating...\n"
     ]
    },
    {
     "name": "stderr",
     "output_type": "stream",
     "text": [
      "Iteration: 100%|██████████| 7/7 [00:00<00:00, 14.47it/s]s]\n",
      "Iteration: 100%|██████████| 62/62 [00:04<00:00, 14.15it/s]\n",
      "Iteration:  60%|█████▉    | 37/62 [00:06<00:04,  6.12it/s]"
     ]
    },
    {
     "name": "stdout",
     "output_type": "stream",
     "text": [
      "{'Train':  best_epoch_indx:15\n",
      " auc:0.8451639187590322 \n",
      " apur:0.8019895468431845 \n",
      " f1:0.7353766828988827 \n",
      " precision:0.6685416666666667 \n",
      " recall:0.8170591979630808 \n",
      ", 'Validation':  best_epoch_indx:15\n",
      " auc:0.8320008022184425 \n",
      " apur:0.7907078769767927 \n",
      " f1:0.718266253869969 \n",
      " precision:0.6535211267605634 \n",
      " recall:0.7972508591065293 \n",
      ", 'Test':  best_epoch_indx:15\n",
      " auc:0.8407615016027208 \n",
      " apur:0.803949996456463 \n",
      " f1:0.7248182762201453 \n",
      " precision:0.662742119255602 \n",
      " recall:0.7997250229147571 \n",
      "}\n",
      "=====Epoch 16\n",
      "Training...\n"
     ]
    },
    {
     "name": "stderr",
     "output_type": "stream",
     "text": [
      "Iteration: 100%|██████████| 7/7 [00:00<00:00, 14.63it/s]]]\n",
      "Iteration:   8%|▊         | 5/62 [00:00<00:09,  6.17it/s]]"
     ]
    },
    {
     "name": "stdout",
     "output_type": "stream",
     "text": [
      "{'Train':  best_epoch_indx:15\n",
      " auc:0.8618431355502771 \n",
      " apur:0.8226679976171815 \n",
      " f1:0.7478104070066977 \n",
      " precision:0.7566792649550371 \n",
      " recall:0.739147040101846 \n",
      ", 'Validation':  best_epoch_indx:15\n",
      " auc:0.8416727411572771 \n",
      " apur:0.8095380843776492 \n",
      " f1:0.7264260768335273 \n",
      " precision:0.7384615384615385 \n",
      " recall:0.7147766323024055 \n",
      ", 'Test':  best_epoch_indx:15\n",
      " auc:0.8502595102030484 \n",
      " apur:0.8102786417034965 \n",
      " f1:0.7448465414567108 \n",
      " precision:0.7445054945054945 \n",
      " recall:0.7451879010082493 \n",
      "}\n",
      "=====Epoch 16\n",
      "Training...\n"
     ]
    },
    {
     "name": "stderr",
     "output_type": "stream",
     "text": [
      "Iteration: 100%|██████████| 18/18 [00:01<00:00, 16.00it/s]\n",
      "Iteration: 100%|██████████| 62/62 [00:04<00:00, 14.39it/s]\n",
      "Iteration: 100%|██████████| 18/18 [00:01<00:00, 15.97it/s]\n",
      "Iteration: 100%|██████████| 62/62 [00:10<00:00,  6.12it/s]\n",
      "Iteration:  44%|████▎     | 27/62 [00:04<00:05,  6.16it/s]"
     ]
    },
    {
     "name": "stdout",
     "output_type": "stream",
     "text": [
      "Evaluating...\n"
     ]
    },
    {
     "name": "stderr",
     "output_type": "stream",
     "text": [
      "Iteration: 100%|██████████| 7/7 [00:00<00:00, 14.94it/s]s]\n",
      "Iteration:  58%|█████▊    | 36/62 [00:02<00:01, 15.13it/s]"
     ]
    },
    {
     "name": "stdout",
     "output_type": "stream",
     "text": [
      "{'Train':  best_epoch_indx:16\n",
      " auc:0.8604199073403302 \n",
      " apur:0.8268938533953565 \n",
      " f1:0.7241833691656842 \n",
      " precision:0.7953991468616697 \n",
      " recall:0.6646721833227244 \n",
      ", 'Validation':  best_epoch_indx:16\n",
      " auc:0.8418549758755944 \n",
      " apur:0.8036203763530994 \n",
      " f1:0.7129337539432176 \n",
      " precision:0.7935393258426966 \n",
      " recall:0.6471935853379153 \n",
      ", 'Test':  best_epoch_indx:16\n",
      " auc:0.8508886605128585 \n",
      " apur:0.8196229656607933 \n",
      " f1:0.7106854838709677 \n",
      " precision:0.7894736842105263 \n",
      " recall:0.6461961503208066 \n",
      "}\n",
      "=====Epoch 17\n",
      "Training...\n"
     ]
    },
    {
     "name": "stderr",
     "output_type": "stream",
     "text": [
      "Iteration: 100%|██████████| 7/7 [00:00<00:00, 14.83it/s]s]\n",
      "Iteration:  94%|█████████▎| 58/62 [00:04<00:00, 15.20it/s]"
     ]
    },
    {
     "name": "stdout",
     "output_type": "stream",
     "text": [
      "{'Train':  best_epoch_indx:16\n",
      " auc:0.8638507352633352 \n",
      " apur:0.8306776590142295 \n",
      " f1:0.7452606635071091 \n",
      " precision:0.7715687610740084 \n",
      " recall:0.7206874602164227 \n",
      ", 'Validation':  best_epoch_indx:16\n",
      " auc:0.8504653252648671 \n",
      " apur:0.8173140556748046 \n",
      " f1:0.7301587301587301 \n",
      " precision:0.75 \n",
      " recall:0.711340206185567 \n",
      ", 'Test':  best_epoch_indx:16\n",
      " auc:0.8526259385791926 \n",
      " apur:0.8206448470591545 \n",
      " f1:0.7407582938388626 \n",
      " precision:0.7669283611383709 \n",
      " recall:0.7163153070577452 \n",
      "}\n",
      "=====Epoch 17\n",
      "Training...\n"
     ]
    },
    {
     "name": "stderr",
     "output_type": "stream",
     "text": [
      "Iteration: 100%|██████████| 62/62 [00:04<00:00, 14.15it/s]\n",
      "Iteration: 100%|██████████| 18/18 [00:01<00:00, 16.04it/s]\n",
      "Iteration: 100%|██████████| 62/62 [00:10<00:00,  6.17it/s]\n",
      "Iteration:   0%|          | 0/62 [00:00<?, ?it/s]"
     ]
    },
    {
     "name": "stdout",
     "output_type": "stream",
     "text": [
      "Evaluating...\n"
     ]
    },
    {
     "name": "stderr",
     "output_type": "stream",
     "text": [
      "Iteration: 100%|██████████| 62/62 [00:10<00:00,  6.16it/s]\n",
      "Iteration:  42%|████▏     | 26/62 [00:04<00:05,  6.23it/s]"
     ]
    },
    {
     "name": "stdout",
     "output_type": "stream",
     "text": [
      "Evaluating...\n"
     ]
    },
    {
     "name": "stderr",
     "output_type": "stream",
     "text": [
      "Iteration: 100%|██████████| 62/62 [00:04<00:00, 14.36it/s]\n",
      "Iteration: 100%|██████████| 62/62 [00:04<00:00, 14.12it/s]\n",
      "Iteration: 100%|██████████| 7/7 [00:00<00:00, 14.85it/s]s]\n",
      "Iteration:  67%|██████▋   | 12/18 [00:00<00:00, 15.74it/s]"
     ]
    },
    {
     "name": "stdout",
     "output_type": "stream",
     "text": [
      "{'Train':  best_epoch_indx:16\n",
      " auc:0.8510145951021764 \n",
      " apur:0.8078764037408528 \n",
      " f1:0.7361810466760962 \n",
      " precision:0.6625254582484725 \n",
      " recall:0.8282622533418205 \n",
      ", 'Validation':  best_epoch_indx:16\n",
      " auc:0.8366646611205601 \n",
      " apur:0.7879326116863288 \n",
      " f1:0.7231467473524961 \n",
      " precision:0.6459459459459459 \n",
      " recall:0.8213058419243986 \n",
      ", 'Test':  best_epoch_indx:16\n",
      " auc:0.8492573272424895 \n",
      " apur:0.8019339447234223 \n",
      " f1:0.7420814479638009 \n",
      " precision:0.673134328358209 \n",
      " recall:0.8267644362969753 \n",
      "}\n",
      "=====Epoch 17\n",
      "Training...\n"
     ]
    },
    {
     "name": "stderr",
     "output_type": "stream",
     "text": [
      "Iteration: 100%|██████████| 18/18 [00:01<00:00, 16.19it/s]\n",
      "Iteration: 100%|██████████| 18/18 [00:01<00:00, 15.91it/s]\n",
      "Iteration: 100%|██████████| 62/62 [00:09<00:00,  6.21it/s]\n",
      "Iteration:  87%|████████▋ | 54/62 [00:08<00:01,  6.32it/s]"
     ]
    },
    {
     "name": "stdout",
     "output_type": "stream",
     "text": [
      "Evaluating...\n"
     ]
    },
    {
     "name": "stderr",
     "output_type": "stream",
     "text": [
      "Iteration: 100%|██████████| 62/62 [00:09<00:00,  6.25it/s]\n",
      "Iteration:  35%|███▌      | 22/62 [00:01<00:02, 15.04it/s]"
     ]
    },
    {
     "name": "stdout",
     "output_type": "stream",
     "text": [
      "Evaluating...\n"
     ]
    },
    {
     "name": "stderr",
     "output_type": "stream",
     "text": [
      "Iteration: 100%|██████████| 62/62 [00:04<00:00, 15.05it/s]\n",
      "Iteration: 100%|██████████| 7/7 [00:00<00:00, 15.52it/s]s]\n",
      "Iteration:  56%|█████▋    | 35/62 [00:05<00:04,  6.11it/s]"
     ]
    },
    {
     "name": "stdout",
     "output_type": "stream",
     "text": [
      "{'Train':  best_epoch_indx:16\n",
      " auc:0.8491656241310137 \n",
      " apur:0.8074756770964766 \n",
      " f1:0.74058229352347 \n",
      " precision:0.6943732590529248 \n",
      " recall:0.7933800127307448 \n",
      ", 'Validation':  best_epoch_indx:16\n",
      " auc:0.8383741963352501 \n",
      " apur:0.801122212879608 \n",
      " f1:0.7333333333333333 \n",
      " precision:0.690982776089159 \n",
      " recall:0.7812142038946163 \n",
      ", 'Test':  best_epoch_indx:16\n",
      " auc:0.8395617377119327 \n",
      " apur:0.8025342495221913 \n",
      " f1:0.7250270855904658 \n",
      " precision:0.6876284422523633 \n",
      " recall:0.7667277726856095 \n",
      "}\n",
      "=====Epoch 17\n",
      "Training...\n"
     ]
    },
    {
     "name": "stderr",
     "output_type": "stream",
     "text": [
      "Iteration: 100%|██████████| 7/7 [00:00<00:00, 14.89it/s]s]\n",
      "Iteration:  89%|████████▉ | 16/18 [00:01<00:00, 15.61it/s]"
     ]
    },
    {
     "name": "stdout",
     "output_type": "stream",
     "text": [
      "{'Train':  best_epoch_indx:16\n",
      " auc:0.8675683562988902 \n",
      " apur:0.8316745817283672 \n",
      " f1:0.7523564695801199 \n",
      " precision:0.7800710770913067 \n",
      " recall:0.7265436028007638 \n",
      ", 'Validation':  best_epoch_indx:16\n",
      " auc:0.8451583417219156 \n",
      " apur:0.815273400609126 \n",
      " f1:0.7260765550239234 \n",
      " precision:0.7596996245306633 \n",
      " recall:0.695303550973654 \n",
      ", 'Test':  best_epoch_indx:16\n",
      " auc:0.8543740558950277 \n",
      " apur:0.8143533841906299 \n",
      " f1:0.7418147801683816 \n",
      " precision:0.7574021012416428 \n",
      " recall:0.7268560953253895 \n",
      "}\n",
      "=====Epoch 17\n",
      "Training...\n"
     ]
    },
    {
     "name": "stderr",
     "output_type": "stream",
     "text": [
      "Iteration: 100%|██████████| 18/18 [00:01<00:00, 16.02it/s]\n",
      "Iteration: 100%|██████████| 62/62 [00:04<00:00, 15.12it/s]\n",
      "Iteration: 100%|██████████| 18/18 [00:01<00:00, 16.07it/s]\n",
      "Iteration: 100%|██████████| 62/62 [00:10<00:00,  6.12it/s]\n",
      "Iteration:  45%|████▌     | 28/62 [00:04<00:05,  6.22it/s]"
     ]
    },
    {
     "name": "stdout",
     "output_type": "stream",
     "text": [
      "Evaluating...\n"
     ]
    },
    {
     "name": "stderr",
     "output_type": "stream",
     "text": [
      "Iteration: 100%|██████████| 7/7 [00:00<00:00, 14.95it/s]s]\n",
      "Iteration:  55%|█████▍    | 34/62 [00:02<00:01, 15.16it/s]"
     ]
    },
    {
     "name": "stdout",
     "output_type": "stream",
     "text": [
      "{'Train':  best_epoch_indx:17\n",
      " auc:0.8662703390142896 \n",
      " apur:0.8336282842656058 \n",
      " f1:0.7498899440286775 \n",
      " precision:0.7409893114591101 \n",
      " recall:0.7590070019096117 \n",
      ", 'Validation':  best_epoch_indx:17\n",
      " auc:0.8462401795735128 \n",
      " apur:0.8090350746044921 \n",
      " f1:0.7342060330108138 \n",
      " precision:0.7296380090497737 \n",
      " recall:0.738831615120275 \n",
      ", 'Test':  best_epoch_indx:17\n",
      " auc:0.856082672123002 \n",
      " apur:0.8245196251103102 \n",
      " f1:0.7436823104693141 \n",
      " precision:0.7324444444444445 \n",
      " recall:0.7552703941338221 \n",
      "}\n",
      "=====Epoch 18\n",
      "Training...\n"
     ]
    },
    {
     "name": "stderr",
     "output_type": "stream",
     "text": [
      "Iteration: 100%|██████████| 7/7 [00:00<00:00, 15.24it/s]s]\n",
      "Iteration:  84%|████████▍ | 52/62 [00:03<00:00, 15.28it/s]"
     ]
    },
    {
     "name": "stdout",
     "output_type": "stream",
     "text": [
      "{'Train':  best_epoch_indx:17\n",
      " auc:0.8666357479526923 \n",
      " apur:0.8320297841441069 \n",
      " f1:0.7452330508474576 \n",
      " precision:0.7763829493723272 \n",
      " recall:0.7164863144493953 \n",
      ", 'Validation':  best_epoch_indx:17\n",
      " auc:0.8542758628669282 \n",
      " apur:0.8199507917528819 \n",
      " f1:0.7295522388059701 \n",
      " precision:0.7618453865336658 \n",
      " recall:0.699885452462772 \n",
      ", 'Test':  best_epoch_indx:17\n",
      " auc:0.8555944412039738 \n",
      " apur:0.8216670114623184 \n",
      " f1:0.7401425178147268 \n",
      " precision:0.7682445759368837 \n",
      " recall:0.7140238313473877 \n",
      "}\n",
      "=====Epoch 18\n",
      "Training...\n"
     ]
    },
    {
     "name": "stderr",
     "output_type": "stream",
     "text": [
      "Iteration: 100%|██████████| 62/62 [00:04<00:00, 14.97it/s]\n",
      "Iteration: 100%|██████████| 18/18 [00:01<00:00, 16.04it/s]\n",
      "Iteration: 100%|██████████| 62/62 [00:09<00:00,  6.22it/s]\n",
      "Iteration:  34%|███▍      | 21/62 [00:03<00:06,  6.39it/s]"
     ]
    },
    {
     "name": "stdout",
     "output_type": "stream",
     "text": [
      "Evaluating...\n"
     ]
    },
    {
     "name": "stderr",
     "output_type": "stream",
     "text": [
      "Iteration: 100%|██████████| 62/62 [00:10<00:00,  6.18it/s]\n",
      "Iteration:   3%|▎         | 2/62 [00:00<00:04, 12.93it/s]]"
     ]
    },
    {
     "name": "stdout",
     "output_type": "stream",
     "text": [
      "Evaluating...\n"
     ]
    },
    {
     "name": "stderr",
     "output_type": "stream",
     "text": [
      "Iteration: 100%|██████████| 62/62 [00:04<00:00, 15.05it/s]\n",
      "Iteration: 100%|██████████| 7/7 [00:00<00:00, 14.99it/s]s]\n",
      "Iteration: 100%|██████████| 62/62 [00:04<00:00, 14.86it/s]\n",
      "Iteration:  89%|████████▉ | 16/18 [00:01<00:00, 15.76it/s]"
     ]
    },
    {
     "name": "stdout",
     "output_type": "stream",
     "text": [
      "{'Train':  best_epoch_indx:17\n",
      " auc:0.8542244517235035 \n",
      " apur:0.8180873496383101 \n",
      " f1:0.7421100638491942 \n",
      " precision:0.7103608847497089 \n",
      " recall:0.7768300445576066 \n",
      ", 'Validation':  best_epoch_indx:17\n",
      " auc:0.8382830789760916 \n",
      " apur:0.7967753628147047 \n",
      " f1:0.7276712328767122 \n",
      " precision:0.6974789915966386 \n",
      " recall:0.7605956471935853 \n",
      ", 'Test':  best_epoch_indx:17\n",
      " auc:0.8509259599423187 \n",
      " apur:0.8132435936242537 \n",
      " f1:0.7410832232496698 \n",
      " precision:0.713135593220339 \n",
      " recall:0.7713107241063245 \n",
      "}\n",
      "=====Epoch 18\n",
      "Training...\n"
     ]
    },
    {
     "name": "stderr",
     "output_type": "stream",
     "text": [
      "Iteration: 100%|██████████| 18/18 [00:01<00:00, 16.12it/s]\n",
      "Iteration: 100%|██████████| 18/18 [00:01<00:00, 15.93it/s]\n",
      "Iteration: 100%|██████████| 62/62 [00:09<00:00,  6.23it/s]\n",
      "Iteration:  15%|█▍        | 9/62 [00:01<00:08,  6.17it/s]]"
     ]
    },
    {
     "name": "stdout",
     "output_type": "stream",
     "text": [
      "Evaluating...\n"
     ]
    },
    {
     "name": "stderr",
     "output_type": "stream",
     "text": [
      "Iteration: 100%|██████████| 62/62 [00:09<00:00,  6.25it/s]\n"
     ]
    },
    {
     "name": "stdout",
     "output_type": "stream",
     "text": [
      "Evaluating...\n"
     ]
    },
    {
     "name": "stderr",
     "output_type": "stream",
     "text": [
      "Iteration: 100%|██████████| 7/7 [00:00<00:00, 14.91it/s]s]\n",
      "Iteration:  97%|█████████▋| 60/62 [00:04<00:00, 13.79it/s]"
     ]
    },
    {
     "name": "stdout",
     "output_type": "stream",
     "text": [
      "{'Train':  best_epoch_indx:17\n",
      " auc:0.8519670429719202 \n",
      " apur:0.8092753894766935 \n",
      " f1:0.7466867659066643 \n",
      " precision:0.7369204066451773 \n",
      " recall:0.7567154678548695 \n",
      ", 'Validation':  best_epoch_indx:17\n",
      " auc:0.8426234471480748 \n",
      " apur:0.801023015583903 \n",
      " f1:0.7296528173022198 \n",
      " precision:0.7251131221719457 \n",
      " recall:0.7342497136311569 \n",
      ", 'Test':  best_epoch_indx:17\n",
      " auc:0.8443423472429279 \n",
      " apur:0.8069413868860387 \n",
      " f1:0.7302452316076293 \n",
      " precision:0.7236723672367237 \n",
      " recall:0.7369385884509624 \n",
      "}\n",
      "=====Epoch 18\n",
      "Training...\n"
     ]
    },
    {
     "name": "stderr",
     "output_type": "stream",
     "text": [
      "Iteration: 100%|██████████| 62/62 [00:04<00:00, 14.30it/s]\n",
      "Iteration: 100%|██████████| 7/7 [00:00<00:00, 14.71it/s]s]\n",
      "Iteration: 100%|██████████| 62/62 [00:04<00:00, 14.46it/s]\n",
      "Iteration:  89%|████████▉ | 16/18 [00:01<00:00, 15.57it/s]"
     ]
    },
    {
     "name": "stdout",
     "output_type": "stream",
     "text": [
      "{'Train':  best_epoch_indx:17\n",
      " auc:0.8716549968173138 \n",
      " apur:0.836366690365452 \n",
      " f1:0.7502537384126124 \n",
      " precision:0.8006932409012132 \n",
      " recall:0.7057924888605983 \n",
      ", 'Validation':  best_epoch_indx:17\n",
      " auc:0.8483334683220135 \n",
      " apur:0.8177752029083573 \n",
      " f1:0.733009708737864 \n",
      " precision:0.7793548387096774 \n",
      " recall:0.6918671248568156 \n",
      ", 'Test':  best_epoch_indx:17\n",
      " auc:0.8584236931642246 \n",
      " apur:0.8162964651266625 \n",
      " f1:0.7421292958423457 \n",
      " precision:0.7801920161697827 \n",
      " recall:0.7076076993583869 \n",
      "}\n",
      "=====Epoch 18\n",
      "Training...\n"
     ]
    },
    {
     "name": "stderr",
     "output_type": "stream",
     "text": [
      "Iteration: 100%|██████████| 18/18 [00:01<00:00, 15.99it/s]\n",
      "Iteration: 100%|██████████| 18/18 [00:01<00:00, 16.09it/s]\n",
      "Iteration: 100%|██████████| 62/62 [00:10<00:00,  6.11it/s]\n",
      "Iteration:  48%|████▊     | 30/62 [00:04<00:05,  6.16it/s]"
     ]
    },
    {
     "name": "stdout",
     "output_type": "stream",
     "text": [
      "Evaluating...\n"
     ]
    },
    {
     "name": "stderr",
     "output_type": "stream",
     "text": [
      "Iteration: 100%|██████████| 7/7 [00:00<00:00, 14.17it/s]s]\n",
      "Iteration:  58%|█████▊    | 36/62 [00:02<00:01, 15.22it/s]"
     ]
    },
    {
     "name": "stdout",
     "output_type": "stream",
     "text": [
      "{'Train':  best_epoch_indx:18\n",
      " auc:0.870561769569947 \n",
      " apur:0.8383839433055706 \n",
      " f1:0.7510273302459071 \n",
      " precision:0.7700642054574639 \n",
      " recall:0.7329089751750477 \n",
      ", 'Validation':  best_epoch_indx:18\n",
      " auc:0.8510930226279596 \n",
      " apur:0.8175472253431167 \n",
      " f1:0.7360946745562129 \n",
      " precision:0.7613219094247246 \n",
      " recall:0.7124856815578465 \n",
      ", 'Test':  best_epoch_indx:18\n",
      " auc:0.8594489811034265 \n",
      " apur:0.82851294858059 \n",
      " f1:0.7444913267698079 \n",
      " precision:0.761996161228407 \n",
      " recall:0.7277726856095326 \n",
      "}\n",
      "=====Epoch 19\n",
      "Training...\n"
     ]
    },
    {
     "name": "stderr",
     "output_type": "stream",
     "text": [
      "Iteration: 100%|██████████| 7/7 [00:00<00:00, 14.49it/s]s]\n",
      "Iteration:  82%|████████▏ | 51/62 [00:08<00:01,  6.13it/s]"
     ]
    },
    {
     "name": "stdout",
     "output_type": "stream",
     "text": [
      "{'Train':  best_epoch_indx:18\n",
      " auc:0.8697675302170581 \n",
      " apur:0.8374175959500895 \n",
      " f1:0.7489373007438895 \n",
      " precision:0.7829468129426469 \n",
      " recall:0.7177593889242521 \n",
      ", 'Validation':  best_epoch_indx:18\n",
      " auc:0.8558754787277123 \n",
      " apur:0.8224375101338822 \n",
      " f1:0.7246722288438617 \n",
      " precision:0.7552795031055901 \n",
      " recall:0.6964490263459335 \n",
      ", 'Test':  best_epoch_indx:18\n",
      " auc:0.8572868156048724 \n",
      " apur:0.8245491088891712 \n",
      " f1:0.74130538351596 \n",
      " precision:0.7718253968253969 \n",
      " recall:0.7131072410632447 \n",
      "}\n",
      "=====Epoch 19\n",
      "Training...\n"
     ]
    },
    {
     "name": "stderr",
     "output_type": "stream",
     "text": [
      "Iteration: 100%|██████████| 62/62 [00:04<00:00, 14.36it/s]\n",
      "Iteration: 100%|██████████| 62/62 [00:10<00:00,  6.20it/s]\n",
      "Iteration:  31%|███       | 19/62 [00:02<00:06,  6.29it/s]"
     ]
    },
    {
     "name": "stdout",
     "output_type": "stream",
     "text": [
      "Evaluating...\n"
     ]
    },
    {
     "name": "stderr",
     "output_type": "stream",
     "text": [
      "Iteration: 100%|██████████| 18/18 [00:01<00:00, 15.94it/s]\n",
      "Iteration: 100%|██████████| 62/62 [00:10<00:00,  6.16it/s]\n",
      "Iteration:  35%|███▌      | 22/62 [00:01<00:02, 14.94it/s]"
     ]
    },
    {
     "name": "stdout",
     "output_type": "stream",
     "text": [
      "Evaluating...\n"
     ]
    },
    {
     "name": "stderr",
     "output_type": "stream",
     "text": [
      "Iteration: 100%|██████████| 62/62 [00:04<00:00, 14.39it/s]\n",
      "Iteration: 100%|██████████| 18/18 [00:01<00:00, 16.12it/s]\n",
      "Iteration: 100%|██████████| 7/7 [00:00<00:00, 14.52it/s]s]\n"
     ]
    },
    {
     "name": "stdout",
     "output_type": "stream",
     "text": [
      "{'Train':  best_epoch_indx:18\n",
      " auc:0.8556816694543703 \n",
      " apur:0.815340425083147 \n",
      " f1:0.7428256746007466 \n",
      " precision:0.7151272384542884 \n",
      " recall:0.772756206238065 \n",
      ", 'Validation':  best_epoch_indx:18\n",
      " auc:0.8385491995171261 \n",
      " apur:0.7932673266400057 \n",
      " f1:0.7197382769901854 \n",
      " precision:0.6867845993756504 \n",
      " recall:0.7560137457044673 \n",
      ", 'Test':  best_epoch_indx:18\n",
      " auc:0.8531735973837816 \n",
      " apur:0.8088553935655449 \n",
      " f1:0.7444543034605146 \n",
      " precision:0.7214101461736887 \n",
      " recall:0.769019248395967 \n",
      "}\n",
      "=====Epoch 19\n",
      "Training...\n"
     ]
    },
    {
     "name": "stderr",
     "output_type": "stream",
     "text": [
      "Iteration: 100%|██████████| 62/62 [00:04<00:00, 14.18it/s]\n",
      "Iteration: 100%|██████████| 62/62 [00:09<00:00,  6.28it/s]\n",
      "Iteration:  90%|█████████ | 56/62 [00:09<00:00,  6.21it/s]"
     ]
    },
    {
     "name": "stdout",
     "output_type": "stream",
     "text": [
      "Evaluating...\n"
     ]
    },
    {
     "name": "stderr",
     "output_type": "stream",
     "text": [
      "Iteration: 100%|██████████| 18/18 [00:01<00:00, 15.85it/s]\n",
      "Iteration: 100%|██████████| 62/62 [00:09<00:00,  6.22it/s]\n",
      "Iteration:   0%|          | 0/62 [00:00<?, ?it/s]4.51it/s]"
     ]
    },
    {
     "name": "stdout",
     "output_type": "stream",
     "text": [
      "Evaluating...\n"
     ]
    },
    {
     "name": "stderr",
     "output_type": "stream",
     "text": [
      "Iteration: 100%|██████████| 7/7 [00:00<00:00, 14.40it/s]s]\n",
      "Iteration:  52%|█████▏    | 32/62 [00:05<00:05,  5.99it/s]"
     ]
    },
    {
     "name": "stdout",
     "output_type": "stream",
     "text": [
      "{'Train':  best_epoch_indx:18\n",
      " auc:0.8536903678041965 \n",
      " apur:0.812752379173352 \n",
      " f1:0.7453230530153606 \n",
      " precision:0.7024560612888688 \n",
      " recall:0.7937619350732018 \n",
      ", 'Validation':  best_epoch_indx:18\n",
      " auc:0.8408955920410675 \n",
      " apur:0.803066011152506 \n",
      " f1:0.7337662337662337 \n",
      " precision:0.6953846153846154 \n",
      " recall:0.7766323024054983 \n",
      ", 'Test':  best_epoch_indx:18\n",
      " auc:0.8448961912879777 \n",
      " apur:0.8095014304307415 \n",
      " f1:0.7310614282613416 \n",
      " precision:0.6944329896907216 \n",
      " recall:0.7717690192483959 \n",
      "}\n",
      "=====Epoch 19\n",
      "Training...\n"
     ]
    },
    {
     "name": "stderr",
     "output_type": "stream",
     "text": [
      "Iteration: 100%|██████████| 62/62 [00:04<00:00, 14.96it/s]\n",
      "Iteration: 100%|██████████| 62/62 [00:04<00:00, 15.02it/s]\n",
      "Iteration: 100%|██████████| 18/18 [00:01<00:00, 15.97it/s]\n",
      "Iteration: 100%|██████████| 7/7 [00:00<00:00, 14.07it/s]]]\n",
      "Iteration:  69%|██████▉   | 43/62 [00:07<00:03,  6.05it/s]"
     ]
    },
    {
     "name": "stdout",
     "output_type": "stream",
     "text": [
      "{'Train':  best_epoch_indx:18\n",
      " auc:0.873676583110982 \n",
      " apur:0.8404426817166093 \n",
      " f1:0.7496752136752137 \n",
      " precision:0.8097488921713442 \n",
      " recall:0.6978994271164863 \n",
      ", 'Validation':  best_epoch_indx:18\n",
      " auc:0.8483035779713901 \n",
      " apur:0.8198268816412126 \n",
      " f1:0.7225647348951911 \n",
      " precision:0.7823765020026703 \n",
      " recall:0.6712485681557846 \n",
      ", 'Test':  best_epoch_indx:18\n",
      " auc:0.860373261249224 \n",
      " apur:0.8204844937881753 \n",
      " f1:0.737661074641381 \n",
      " precision:0.785603314344899 \n",
      " recall:0.6952337305224565 \n",
      "}\n",
      "=====Epoch 19\n",
      "Training...\n"
     ]
    },
    {
     "name": "stderr",
     "output_type": "stream",
     "text": [
      "Iteration: 100%|██████████| 18/18 [00:01<00:00, 15.99it/s]\n",
      "Iteration: 100%|██████████| 62/62 [00:10<00:00,  6.08it/s]\n",
      "Iteration:  32%|███▏      | 20/62 [00:03<00:06,  6.14it/s]"
     ]
    },
    {
     "name": "stdout",
     "output_type": "stream",
     "text": [
      "Evaluating...\n"
     ]
    },
    {
     "name": "stderr",
     "output_type": "stream",
     "text": [
      "Iteration: 100%|██████████| 7/7 [00:00<00:00, 14.92it/s]s]\n",
      "Iteration:  53%|█████▎    | 33/62 [00:05<00:04,  6.16it/s]"
     ]
    },
    {
     "name": "stdout",
     "output_type": "stream",
     "text": [
      "{'Train':  best_epoch_indx:19\n",
      " auc:0.8728730982713091 \n",
      " apur:0.8412996000873852 \n",
      " f1:0.7562633765579756 \n",
      " precision:0.7479765907109949 \n",
      " recall:0.7647358370464672 \n",
      ", 'Validation':  best_epoch_indx:19\n",
      " auc:0.8539904582287172 \n",
      " apur:0.8211426922464925 \n",
      " f1:0.7383553766532489 \n",
      " precision:0.7413394919168591 \n",
      " recall:0.7353951890034365 \n",
      ", 'Test':  best_epoch_indx:19\n",
      " auc:0.8630937391019883 \n",
      " apur:0.8327866225953904 \n",
      " f1:0.7527758894176297 \n",
      " precision:0.7445091887046168 \n",
      " recall:0.7612282309807517 \n",
      "}\n",
      "Finished training!\n",
      "Best validation score: 0.8412996000873852\n",
      "Test score: 0.8327866225953904\n"
     ]
    },
    {
     "name": "stderr",
     "output_type": "stream",
     "text": [
      "Iteration: 100%|██████████| 7/7 [00:00<00:00, 14.71it/s]s]\n",
      "Iteration:  77%|███████▋  | 48/62 [00:03<00:00, 14.96it/s]"
     ]
    },
    {
     "name": "stdout",
     "output_type": "stream",
     "text": [
      "{'Train':  best_epoch_indx:19\n",
      " auc:0.8711431033253757 \n",
      " apur:0.8383638328048424 \n",
      " f1:0.7504459861248761 \n",
      " precision:0.7800824175824176 \n",
      " recall:0.7229789942711649 \n",
      ", 'Validation':  best_epoch_indx:19\n",
      " auc:0.8563170845530524 \n",
      " apur:0.8233755023599413 \n",
      " f1:0.7283511269276394 \n",
      " precision:0.7552275522755227 \n",
      " recall:0.7033218785796106 \n",
      ", 'Test':  best_epoch_indx:19\n",
      " auc:0.8586675647399753 \n",
      " apur:0.8258635524745432 \n",
      " f1:0.7478753541076487 \n",
      " precision:0.7711781888997079 \n",
      " recall:0.7259395050412466 \n",
      "}\n",
      "Finished training!\n",
      "Best validation score: 0.8383638328048424\n",
      "Test score: 0.8258635524745432\n"
     ]
    },
    {
     "name": "stderr",
     "output_type": "stream",
     "text": [
      "Iteration:  94%|█████████▎| 58/62 [00:03<00:00, 14.94it/s]"
     ]
    },
    {
     "name": "stdout",
     "output_type": "stream",
     "text": [
      "<<< joined hyperparam search process\n",
      "released_gpu_num: 0\n"
     ]
    },
    {
     "name": "stderr",
     "output_type": "stream",
     "text": [
      "Iteration: 100%|██████████| 62/62 [00:04<00:00, 14.85it/s]\n",
      "Iteration: 100%|██████████| 62/62 [00:09<00:00,  6.20it/s]\n",
      "Iteration:  81%|████████  | 50/62 [00:08<00:01,  6.10it/s]"
     ]
    },
    {
     "name": "stdout",
     "output_type": "stream",
     "text": [
      "<<< joined hyperparam search process\n",
      "released_gpu_num: 1\n",
      "Evaluating...\n"
     ]
    },
    {
     "name": "stderr",
     "output_type": "stream",
     "text": [
      "Iteration: 100%|██████████| 18/18 [00:01<00:00, 16.22it/s]\n",
      "Iteration: 100%|██████████| 62/62 [00:10<00:00,  6.12it/s]\n",
      "Iteration:  48%|████▊     | 30/62 [00:01<00:02, 15.66it/s]"
     ]
    },
    {
     "name": "stdout",
     "output_type": "stream",
     "text": [
      "Evaluating...\n"
     ]
    },
    {
     "name": "stderr",
     "output_type": "stream",
     "text": [
      "Iteration: 100%|██████████| 62/62 [00:04<00:00, 15.42it/s]\n",
      "Iteration: 100%|██████████| 18/18 [00:01<00:00, 16.50it/s]\n",
      "Iteration: 100%|██████████| 7/7 [00:00<00:00, 15.14it/s]s]\n",
      "Iteration:  87%|████████▋ | 54/62 [00:03<00:00, 15.51it/s]"
     ]
    },
    {
     "name": "stdout",
     "output_type": "stream",
     "text": [
      "{'Train':  best_epoch_indx:19\n",
      " auc:0.8575084003265453 \n",
      " apur:0.8198566443051534 \n",
      " f1:0.7467485549132948 \n",
      " precision:0.708442819604707 \n",
      " recall:0.7894334818586888 \n",
      ", 'Validation':  best_epoch_indx:19\n",
      " auc:0.8413251453056723 \n",
      " apur:0.7999585877934525 \n",
      " f1:0.7316810344827586 \n",
      " precision:0.6907426246185148 \n",
      " recall:0.7777777777777778 \n",
      ", 'Test':  best_epoch_indx:19\n",
      " auc:0.855083572102684 \n",
      " apur:0.8146687641595869 \n",
      " f1:0.7426951591801134 \n",
      " precision:0.7084026622296173 \n",
      " recall:0.7804766269477543 \n",
      "}\n",
      "Finished training!\n",
      "Best validation score: 0.8198566443051534\n",
      "Test score: 0.8146687641595869\n"
     ]
    },
    {
     "name": "stderr",
     "output_type": "stream",
     "text": [
      "Iteration: 100%|██████████| 62/62 [00:04<00:00, 15.14it/s]\n",
      "Iteration: 100%|██████████| 18/18 [00:01<00:00, 16.04it/s]\n"
     ]
    },
    {
     "name": "stdout",
     "output_type": "stream",
     "text": [
      "<<< joined hyperparam search process\n",
      "released_gpu_num: 2\n"
     ]
    },
    {
     "name": "stderr",
     "output_type": "stream",
     "text": [
      "Iteration: 100%|██████████| 7/7 [00:00<00:00, 15.67it/s]\n"
     ]
    },
    {
     "name": "stdout",
     "output_type": "stream",
     "text": [
      "{'Train':  best_epoch_indx:19\n",
      " auc:0.8542376350110962 \n",
      " apur:0.8132249232598835 \n",
      " f1:0.7451269753428026 \n",
      " precision:0.7206232159847764 \n",
      " recall:0.7713558243157225 \n",
      ", 'Validation':  best_epoch_indx:19\n",
      " auc:0.8433803479622495 \n",
      " apur:0.8048555538567319 \n",
      " f1:0.7338530066815145 \n",
      " precision:0.71397616468039 \n",
      " recall:0.7548682703321878 \n",
      ", 'Test':  best_epoch_indx:19\n",
      " auc:0.845944605099008 \n",
      " apur:0.8102417955711978 \n",
      " f1:0.7298620382732532 \n",
      " precision:0.7093425605536332 \n",
      " recall:0.7516040329972502 \n",
      "}\n",
      "Finished training!\n",
      "Best validation score: 0.8132249232598835\n",
      "Test score: 0.8102417955711978\n"
     ]
    },
    {
     "name": "stderr",
     "output_type": "stream",
     "text": [
      "Iteration: 100%|██████████| 7/7 [00:00<00:00, 15.87it/s]\n"
     ]
    },
    {
     "name": "stdout",
     "output_type": "stream",
     "text": [
      "{'Train':  best_epoch_indx:19\n",
      " auc:0.8736787326894918 \n",
      " apur:0.8407000848022161 \n",
      " f1:0.7593322818086224 \n",
      " precision:0.7848118462165466 \n",
      " recall:0.7354551241247613 \n",
      ", 'Validation':  best_epoch_indx:19\n",
      " auc:0.8503341934040675 \n",
      " apur:0.82117428839546 \n",
      " f1:0.7326139088729018 \n",
      " precision:0.7685534591194969 \n",
      " recall:0.699885452462772 \n",
      ", 'Test':  best_epoch_indx:19\n",
      " auc:0.860674572167824 \n",
      " apur:0.8211405179635444 \n",
      " f1:0.7434874442619104 \n",
      " precision:0.7619047619047619 \n",
      " recall:0.7259395050412466 \n",
      "}\n",
      "Finished training!\n",
      "Best validation score: 0.8407000848022161\n",
      "Test score: 0.8211405179635444\n",
      "<<< joined hyperparam search process\n",
      "released_gpu_num: 4\n",
      "<<< joined hyperparam search process\n",
      "released_gpu_num: 3\n"
     ]
    }
   ],
   "source": [
    "import torch.multiprocessing as mp\n",
    "mp.set_start_method(\"spawn\", force=True)\n",
    "\n",
    "queue = mp.Queue()\n",
    "q_processes = []\n",
    "\n",
    "# partition = fold_partitions[0]\n",
    "time_stamp = datetime.datetime.now().strftime('%Y-%m-%d_%H-%M-%S')\n",
    "\n",
    "print(\"Start: \" + time_stamp)\n",
    "\n",
    "for q_i in range(min(n_gpu, len(fold_partitions))):\n",
    "#     device_gpu = get_device(True, index=q_i)\n",
    "    partition = fold_partitions[q_i]\n",
    "    exp_dir = create_directory(os.path.join(targetdata_dir_exp, \"fold_\"+str(q_i)+\"_\"+time_stamp))\n",
    "#     tphp = generate_tp_hp(tp, hyperparam_space[q_i], hp_names)\n",
    "    \n",
    "    q_process = create_q_process(queue, dataset, q_i, tp, exp_dir, partition)\n",
    "    q_processes.append(q_process)\n",
    "    spawn_q_process(q_process)\n",
    "\n",
    "spawned_processes = n_gpu\n",
    "    \n",
    "# for q_i in range(len(hyperparam_space)):\n",
    "for q_i in range(min(n_gpu, len(fold_partitions))):\n",
    "    join_q_process(q_processes[q_i])\n",
    "    released_gpu_num = queue.get()\n",
    "    print(\"released_gpu_num:\", released_gpu_num)\n",
    "#     if(spawned_processes < len(hyperparam_space)):\n",
    "# #         device_gpu = get_device(True, index=q_i)\n",
    "#         time_stamp = datetime.datetime.now().strftime('%Y-%m-%d_%H-%M-%S')\n",
    "#         exp_dir = create_directory(os.path.join(targetdata_dir_exp, \"exp_\"+str(q_i)+\"_\"+time_stamp))\n",
    "#         tphp = generate_tp_hp(tp, hyperparam_space[q_i], hp_names)\n",
    "\n",
    "#         q_process = create_q_process(queue, used_dataset, released_gpu_num, tphp, exp_dir, partition)\n",
    "#         q_processes.append(q_process)\n",
    "#         spawn_q_process(q_process)\n",
    "#         spawned_processes = spawned_processes + 1"
   ]
  },
  {
   "cell_type": "code",
   "execution_count": 37,
   "metadata": {},
   "outputs": [
    {
     "name": "stdout",
     "output_type": "stream",
     "text": [
      "End: 2022-02-25_14-12-09\n"
     ]
    }
   ],
   "source": [
    "print(\"End: \" + datetime.datetime.now().strftime('%Y-%m-%d_%H-%M-%S'))\n"
   ]
  },
  {
   "cell_type": "code",
   "execution_count": null,
   "metadata": {},
   "outputs": [],
   "source": []
  },
  {
   "cell_type": "code",
   "execution_count": null,
   "metadata": {},
   "outputs": [],
   "source": []
  },
  {
   "cell_type": "markdown",
   "metadata": {},
   "source": [
    "### Hyper Parameters"
   ]
  },
  {
   "cell_type": "code",
   "execution_count": 38,
   "metadata": {},
   "outputs": [
    {
     "data": {
      "text/plain": [
       "5"
      ]
     },
     "execution_count": 38,
     "metadata": {},
     "output_type": "execute_result"
    }
   ],
   "source": [
    "import glob\n",
    "exp_dirs = glob.glob(targetdata_dir_exp+\"/fold_*_\"+time_stamp)\n",
    "len(exp_dirs)"
   ]
  },
  {
   "cell_type": "code",
   "execution_count": 54,
   "metadata": {},
   "outputs": [],
   "source": [
    "folds = []\n",
    "\n",
    "for edir in exp_dirs:\n",
    "    fold = edir.split(\"/\")[-1].split('_')[1]\n",
    "    df_curves = pd.read_csv(edir + \"/curves.csv\")\n",
    "    le = df_curves.tail(1)\n",
    "    folds.append([fold, le.test_aupr.values[0], le.test_auc.values[0]])"
   ]
  },
  {
   "cell_type": "code",
   "execution_count": 65,
   "metadata": {},
   "outputs": [
    {
     "data": {
      "text/html": [
       "<div>\n",
       "<style scoped>\n",
       "    .dataframe tbody tr th:only-of-type {\n",
       "        vertical-align: middle;\n",
       "    }\n",
       "\n",
       "    .dataframe tbody tr th {\n",
       "        vertical-align: top;\n",
       "    }\n",
       "\n",
       "    .dataframe thead th {\n",
       "        text-align: right;\n",
       "    }\n",
       "</style>\n",
       "<table border=\"1\" class=\"dataframe\">\n",
       "  <thead>\n",
       "    <tr style=\"text-align: right;\">\n",
       "      <th></th>\n",
       "      <th>0</th>\n",
       "      <th>1</th>\n",
       "      <th>2</th>\n",
       "      <th>3</th>\n",
       "      <th>4</th>\n",
       "      <th>mean</th>\n",
       "    </tr>\n",
       "  </thead>\n",
       "  <tbody>\n",
       "    <tr>\n",
       "      <th>fold</th>\n",
       "      <td>4</td>\n",
       "      <td>0</td>\n",
       "      <td>1</td>\n",
       "      <td>2</td>\n",
       "      <td>3</td>\n",
       "      <td>8024.600000</td>\n",
       "    </tr>\n",
       "    <tr>\n",
       "      <th>test_aupr</th>\n",
       "      <td>0.810242</td>\n",
       "      <td>0.832787</td>\n",
       "      <td>0.825864</td>\n",
       "      <td>0.814669</td>\n",
       "      <td>0.821141</td>\n",
       "      <td>0.820940</td>\n",
       "    </tr>\n",
       "    <tr>\n",
       "      <th>test_auc</th>\n",
       "      <td>0.845945</td>\n",
       "      <td>0.863094</td>\n",
       "      <td>0.858668</td>\n",
       "      <td>0.855084</td>\n",
       "      <td>0.860675</td>\n",
       "      <td>0.856693</td>\n",
       "    </tr>\n",
       "  </tbody>\n",
       "</table>\n",
       "</div>"
      ],
      "text/plain": [
       "                  0         1         2         3         4         mean\n",
       "fold              4         0         1         2         3  8024.600000\n",
       "test_aupr  0.810242  0.832787  0.825864  0.814669  0.821141     0.820940\n",
       "test_auc   0.845945  0.863094  0.858668  0.855084  0.860675     0.856693"
      ]
     },
     "execution_count": 65,
     "metadata": {},
     "output_type": "execute_result"
    }
   ],
   "source": [
    "df_folds = pd.DataFrame(folds)\n",
    "df_folds.columns = [\"fold\", \"test_aupr\", \"test_auc\"]\n",
    "df_folds = df_folds.T\n",
    "df_folds[\"mean\"] = df_folds.mean(axis=1)\n",
    "df_folds"
   ]
  },
  {
   "cell_type": "code",
   "execution_count": null,
   "metadata": {},
   "outputs": [],
   "source": []
  }
 ],
 "metadata": {
  "kernelspec": {
   "display_name": "Python 3 (ipykernel)",
   "language": "python",
   "name": "python3"
  },
  "language_info": {
   "codemirror_mode": {
    "name": "ipython",
    "version": 3
   },
   "file_extension": ".py",
   "mimetype": "text/x-python",
   "name": "python",
   "nbconvert_exporter": "python",
   "pygments_lexer": "ipython3",
   "version": "3.9.9"
  }
 },
 "nbformat": 4,
 "nbformat_minor": 4
}
