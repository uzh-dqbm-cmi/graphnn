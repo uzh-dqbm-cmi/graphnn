{
 "cells": [
  {
   "cell_type": "code",
   "execution_count": 1,
   "metadata": {
    "scrolled": false
   },
   "outputs": [],
   "source": [
    "%load_ext autoreload\n",
    "%autoreload 2"
   ]
  },
  {
   "cell_type": "code",
   "execution_count": 2,
   "metadata": {},
   "outputs": [],
   "source": [
    "import os\n",
    "import sys\n",
    "import numpy as np\n",
    "import pandas as pd\n",
    "import datetime\n",
    "import seaborn as sns\n",
    "import ogb\n",
    "from tqdm import tqdm"
   ]
  },
  {
   "cell_type": "code",
   "execution_count": 3,
   "metadata": {},
   "outputs": [],
   "source": [
    "import torch\n",
    "from torch_geometric.data import Data, DataLoader"
   ]
  },
  {
   "cell_type": "code",
   "execution_count": 4,
   "metadata": {},
   "outputs": [
    {
     "name": "stdout",
     "output_type": "stream",
     "text": [
      "/cluster/home/skyriakos/chemprop_run/git/notebooks\n"
     ]
    }
   ],
   "source": [
    "cwd = os.getcwd()\n",
    "print(cwd)"
   ]
  },
  {
   "cell_type": "code",
   "execution_count": 5,
   "metadata": {},
   "outputs": [
    {
     "name": "stderr",
     "output_type": "stream",
     "text": [
      "WARNING:root:No normalization for BCUT2D_MWHI\n",
      "WARNING:root:No normalization for BCUT2D_MWLOW\n",
      "WARNING:root:No normalization for BCUT2D_CHGHI\n",
      "WARNING:root:No normalization for BCUT2D_CHGLO\n",
      "WARNING:root:No normalization for BCUT2D_LOGPHI\n",
      "WARNING:root:No normalization for BCUT2D_LOGPLOW\n",
      "WARNING:root:No normalization for BCUT2D_MRHI\n",
      "WARNING:root:No normalization for BCUT2D_MRLOW\n"
     ]
    }
   ],
   "source": [
    "os.chdir('..')\n",
    "import deepadr\n",
    "from deepadr.dataset import *\n",
    "from deepadr.utilities import *\n",
    "from deepadr.run_workflow import *\n",
    "from deepadr.chemfeatures import *\n",
    "# from deepadr.model_gnn import GCN as testGCN\n",
    "from deepadr.model_gnn_ogb import GNN, DeepAdr_SiameseTrf\n",
    "# from deepadr.model_attn_siamese import *\n",
    "from ogb.graphproppred import Evaluator\n",
    "os.chdir(cwd)"
   ]
  },
  {
   "cell_type": "code",
   "execution_count": 6,
   "metadata": {},
   "outputs": [],
   "source": [
    "from rdkit.Chem.Draw import IPythonConsole\n",
    "from rdkit.Chem import Draw"
   ]
  },
  {
   "cell_type": "code",
   "execution_count": 7,
   "metadata": {},
   "outputs": [],
   "source": [
    "# from tdc.single_pred import Tox\n",
    "from tdc.multi_pred import DDI"
   ]
  },
  {
   "cell_type": "code",
   "execution_count": 8,
   "metadata": {},
   "outputs": [],
   "source": [
    "rawdata_dir = '../data/raw/'\n",
    "processed_dir = '../data/processed/'\n",
    "up_dir = '..'"
   ]
  },
  {
   "cell_type": "code",
   "execution_count": 9,
   "metadata": {
    "scrolled": true
   },
   "outputs": [
    {
     "name": "stdout",
     "output_type": "stream",
     "text": [
      "number of GPUs available: 1\n",
      "cuda:0, name:GeForce GTX 1080 Ti\n",
      "total memory available: 10.91650390625 GB\n",
      "total memory allocated on device: 0.0 GB\n",
      "max memory allocated on device: 0.0 GB\n",
      "total memory cached on device: 0.0 GB\n",
      "max memory cached  on device: 0.0 GB\n",
      "\n"
     ]
    }
   ],
   "source": [
    "report_available_cuda_devices()"
   ]
  },
  {
   "cell_type": "code",
   "execution_count": 10,
   "metadata": {},
   "outputs": [
    {
     "data": {
      "text/plain": [
       "1"
      ]
     },
     "execution_count": 10,
     "metadata": {},
     "output_type": "execute_result"
    }
   ],
   "source": [
    "n_gpu = torch.cuda.device_count()\n",
    "n_gpu"
   ]
  },
  {
   "cell_type": "code",
   "execution_count": 11,
   "metadata": {},
   "outputs": [],
   "source": [
    "device_cpu = get_device(to_gpu=False)\n",
    "device_gpu = get_device(True, index=0)"
   ]
  },
  {
   "cell_type": "markdown",
   "metadata": {},
   "source": [
    "### Preparing dataset "
   ]
  },
  {
   "cell_type": "code",
   "execution_count": 12,
   "metadata": {},
   "outputs": [],
   "source": [
    "# TDC Tox\n",
    "DSdataset_name = 'TWOSIDES' #'DrugBank'\n",
    "\n",
    "#fname_suffix = ds_config[\"fname_suffix\"]\n",
    "similarity_types = ['chem']\n",
    "kernel_option = 'sqeuclidean'\n",
    "data_fname = 'data_v1'\n",
    "# interact_matfname = ds_config[\"interact_matfname\"]\n",
    "# exp_iden = 'simtypeall'\n",
    "# ddi_interaction_labels_pth = ds_config[\"ddi_interaction_labels_pth\"]\n",
    "\n",
    "# up_dir, processed_dir, DSdataset_name, data_fname"
   ]
  },
  {
   "cell_type": "code",
   "execution_count": 13,
   "metadata": {
    "scrolled": true
   },
   "outputs": [
    {
     "name": "stdout",
     "output_type": "stream",
     "text": [
      "path_current_dir /cluster/home/skyriakos/chemprop_run/git/deepadr\n",
      "path_current_dir /cluster/home/skyriakos/chemprop_run/git/deepadr\n",
      "path_current_dir /cluster/home/skyriakos/chemprop_run/git/deepadr\n",
      "/cluster/home/skyriakos/chemprop_run/git/data/processed/TWOSIDES/data_v1\n"
     ]
    }
   ],
   "source": [
    "targetdata_dir = create_directory(os.path.join(processed_dir, DSdataset_name, data_fname))\n",
    "targetdata_dir_raw = create_directory(os.path.join(targetdata_dir, \"raw\"))\n",
    "targetdata_dir_processed = create_directory(os.path.join(targetdata_dir, \"processed\"))\n",
    "# # ReaderWriter.dump_data(dpartitions, os.path.join(targetdata_dir, 'data_partitions.pkl'))\n",
    "print(targetdata_dir)"
   ]
  },
  {
   "cell_type": "code",
   "execution_count": 14,
   "metadata": {},
   "outputs": [
    {
     "name": "stdout",
     "output_type": "stream",
     "text": [
      "CPU times: user 6.12 ms, sys: 635 ms, total: 641 ms\n",
      "Wall time: 633 ms\n"
     ]
    }
   ],
   "source": [
    "%%time\n",
    "dataset = MoleculeDataset(root=targetdata_dir)"
   ]
  },
  {
   "cell_type": "code",
   "execution_count": 15,
   "metadata": {},
   "outputs": [
    {
     "name": "stdout",
     "output_type": "stream",
     "text": [
      "\n",
      "Dataset: MoleculeDataset(149878):\n",
      "====================\n",
      "Number of graphs: 149878\n",
      "Number of features: 9\n",
      "Number of classes: 2\n"
     ]
    }
   ],
   "source": [
    "print()\n",
    "print(f'Dataset: {dataset}:')\n",
    "print('====================')\n",
    "print(f'Number of graphs: {len(dataset)}')\n",
    "print(f'Number of features: {dataset.num_features}')\n",
    "print(f'Number of classes: {dataset.num_classes}')\n",
    "\n",
    "data0 = dataset[0]  # Get the first graph object.\n",
    "\n",
    "# print()\n",
    "# print(data)\n",
    "# print('=============================================================')\n",
    "\n",
    "# # Gather some statistics about the first graph.\n",
    "# print(f'Number of nodes: {data.num_nodes}')\n",
    "# print(f'Number of edges: {data.num_edges}')\n",
    "# print(f'Average node degree: {data.num_edges / data.num_nodes:.2f}')\n",
    "# print(f'Contains isolated nodes: {data.contains_isolated_nodes()}')\n",
    "# print(f'Contains self-loops: {data.contains_self_loops()}')\n",
    "# print(f'Is undirected: {data.is_undirected()}')"
   ]
  },
  {
   "cell_type": "code",
   "execution_count": 16,
   "metadata": {},
   "outputs": [
    {
     "data": {
      "text/plain": [
       "PairData(edge_attr_a=[52, 3], edge_attr_b=[22, 3], edge_index_a=[2, 52], edge_index_b=[2, 22], id=[1], x_a=[24, 9], x_b=[12, 9], y=[1])"
      ]
     },
     "execution_count": 16,
     "metadata": {},
     "output_type": "execute_result"
    }
   ],
   "source": [
    "data0"
   ]
  },
  {
   "cell_type": "code",
   "execution_count": 17,
   "metadata": {},
   "outputs": [
    {
     "data": {
      "text/plain": [
       "149878"
      ]
     },
     "execution_count": 17,
     "metadata": {},
     "output_type": "execute_result"
    }
   ],
   "source": [
    "len(dataset)"
   ]
  },
  {
   "cell_type": "code",
   "execution_count": 18,
   "metadata": {},
   "outputs": [],
   "source": [
    "used_dataset = dataset\n",
    "\n",
    "smaller_dataset_len = int(len(dataset)/5)\n",
    "used_dataset = dataset[:smaller_dataset_len]"
   ]
  },
  {
   "cell_type": "code",
   "execution_count": 19,
   "metadata": {},
   "outputs": [],
   "source": [
    "train_val_test_frac = [0.7, 0.1, 0.2]\n",
    "assert sum(train_val_test_frac) == 1\n",
    "\n",
    "torch.manual_seed(42)\n",
    "used_dataset = used_dataset.shuffle()\n",
    "\n",
    "num_train = round(train_val_test_frac[0] * len(used_dataset)) \n",
    "num_trainval = round((train_val_test_frac[0]+train_val_test_frac[1]) * len(used_dataset))\n",
    "\n",
    "train_dataset = used_dataset[:num_train]\n",
    "val_dataset = used_dataset[num_train:num_trainval]\n",
    "test_dataset = used_dataset[num_trainval:]"
   ]
  },
  {
   "cell_type": "code",
   "execution_count": 20,
   "metadata": {},
   "outputs": [
    {
     "name": "stdout",
     "output_type": "stream",
     "text": [
      "Number of training graphs: 20982\n",
      "Number of val graphs: 2998\n",
      "Number of test graphs: 5995\n"
     ]
    }
   ],
   "source": [
    "print(f'Number of training graphs: {len(train_dataset)}')\n",
    "print(f'Number of val graphs: {len(val_dataset)}')\n",
    "print(f'Number of test graphs: {len(test_dataset)}')"
   ]
  },
  {
   "cell_type": "code",
   "execution_count": 21,
   "metadata": {},
   "outputs": [
    {
     "data": {
      "text/plain": [
       "PairData(edge_attr_a=[66, 3], edge_attr_b=[66, 3], edge_index_a=[2, 66], edge_index_b=[2, 66], id=[1], x_a=[29, 9], x_b=[30, 9], y=[1])"
      ]
     },
     "execution_count": 21,
     "metadata": {},
     "output_type": "execute_result"
    }
   ],
   "source": [
    "train_dataset[3]"
   ]
  },
  {
   "cell_type": "code",
   "execution_count": 22,
   "metadata": {},
   "outputs": [],
   "source": [
    "batch_size=32\n",
    "\n",
    "train_loader = DataLoader(train_dataset, batch_size=batch_size, shuffle=True, follow_batch=['x_a', 'x_b'])\n",
    "valid_loader = DataLoader(val_dataset, batch_size=batch_size, shuffle=False, follow_batch=['x_a', 'x_b'])\n",
    "test_loader = DataLoader(test_dataset, batch_size=batch_size, shuffle=False, follow_batch=['x_a', 'x_b'])"
   ]
  },
  {
   "cell_type": "code",
   "execution_count": 23,
   "metadata": {},
   "outputs": [
    {
     "name": "stdout",
     "output_type": "stream",
     "text": [
      "2\n"
     ]
    }
   ],
   "source": [
    "print(dataset.num_classes)"
   ]
  },
  {
   "cell_type": "code",
   "execution_count": 24,
   "metadata": {},
   "outputs": [],
   "source": [
    "# model_intermediate_dimension = 64\n",
    "emb_dim = 300"
   ]
  },
  {
   "cell_type": "code",
   "execution_count": 25,
   "metadata": {},
   "outputs": [],
   "source": [
    "# model_name = \"testGCN\"\n",
    "\n",
    "# deepadr_model = testGCN(num_node_features=dataset.num_node_features, \n",
    "#             hidden_channels=64, \n",
    "#             num_classes=model_intermediate_dimension)\n",
    "# print(deepadr_model)"
   ]
  },
  {
   "cell_type": "code",
   "execution_count": 26,
   "metadata": {},
   "outputs": [],
   "source": [
    "model_name = \"ogb\"\n",
    "\n",
    "gnn_model = GNN(gnn_type = 'gcn', \n",
    "                    num_tasks = dataset.num_classes, \n",
    "                    num_layer = 5, \n",
    "                    emb_dim = emb_dim, \n",
    "                    drop_ratio = 0.5, \n",
    "                    virtual_node = False,\n",
    "                    with_edge_attr=False,\n",
    "                    return_multilayer = True).to(device_gpu)\n",
    "#print(deepadr_model)"
   ]
  },
  {
   "cell_type": "code",
   "execution_count": 27,
   "metadata": {},
   "outputs": [],
   "source": [
    "input_embed_dim = None\n",
    "num_attn_heads = 2\n",
    "num_transformer_units = 1\n",
    "p_dropout = 0.3\n",
    "nonlin_func = nn.ReLU()\n",
    "mlp_embed_factor = 2\n",
    "pooling_mode = 'attn'\n",
    "\n",
    "dist_opt = 'cosine'\n",
    "l2_reg = 1e-6\n",
    "batch_size = 1000\n",
    "num_epochs = 100\n",
    "loss_w = 0.05\n",
    "margin_v = 1.\n",
    "\n",
    "transformer_model = DeepAdr_Transformer(input_size=emb_dim,\n",
    "                                        input_embed_dim=input_embed_dim,\n",
    "                                        num_attn_heads=num_attn_heads,\n",
    "                                        mlp_embed_factor=mlp_embed_factor,\n",
    "                                        nonlin_func=nonlin_func,\n",
    "                                        pdropout=p_dropout,\n",
    "                                        num_transformer_units=num_transformer_units,\n",
    "                                        pooling_mode=pooling_mode).to(device_gpu)"
   ]
  },
  {
   "cell_type": "code",
   "execution_count": 28,
   "metadata": {},
   "outputs": [
    {
     "name": "stdout",
     "output_type": "stream",
     "text": [
      "updated\n"
     ]
    }
   ],
   "source": [
    "deepadr_siamese = DeepAdr_SiameseTrf(input_dim=emb_dim,\n",
    "                                   dist=dist_opt,\n",
    "                                   num_classes=dataset.num_classes).to(device_gpu)"
   ]
  },
  {
   "cell_type": "code",
   "execution_count": 29,
   "metadata": {},
   "outputs": [],
   "source": [
    "models_param = list(gnn_model.parameters()) + list(transformer_model.parameters()) + list(deepadr_siamese.parameters())\n",
    "\n",
    "models = [(gnn_model, f'{model_name}_GNN'),\n",
    "          (transformer_model, f'{model_name}_Transformer'),\n",
    "          (deepadr_siamese, f'{model_name}_Siamese')]\n",
    "#models"
   ]
  },
  {
   "cell_type": "code",
   "execution_count": null,
   "metadata": {},
   "outputs": [],
   "source": []
  },
  {
   "cell_type": "code",
   "execution_count": null,
   "metadata": {},
   "outputs": [],
   "source": []
  },
  {
   "cell_type": "code",
   "execution_count": 30,
   "metadata": {},
   "outputs": [],
   "source": [
    "# from IPython.display import Javascript\n",
    "# display(Javascript('''google.colab.output.setIframeHeight(0, true, {maxHeight: 300})'''))\n",
    "\n",
    "optimizer = torch.optim.Adam(models_param, lr=0.001)\n",
    "# criterion = torch.nn.CrossEntropyLoss()\n",
    "\n",
    "# loss_nlll = torch.nn.NLLLoss(weight=class_weights, reduction='mean')  # negative log likelihood loss\n",
    "loss_nlll = torch.nn.NLLLoss(reduction='mean')  # negative log likelihood loss\n",
    "loss_contrastive = ContrastiveLoss(0.5, reduction='mean')\n",
    "fdtype = torch.float32\n",
    "loss_w = 0.1\n",
    "\n",
    "# evaluator = Evaluator(DSdataset_name)"
   ]
  },
  {
   "cell_type": "code",
   "execution_count": 31,
   "metadata": {},
   "outputs": [],
   "source": [
    "def train():\n",
    "    for m, m_name in models:\n",
    "        m.train()\n",
    "\n",
    "        #            for i_batch, samples_batch in enumerate(data_loader):\n",
    "\n",
    "#     for data in train_loader:  # Iterate in batches over the training dataset.\n",
    "    for i_batch, batch in enumerate(tqdm(train_loader, desc=\"Iteration\")):\n",
    "        batch = batch.to(device_gpu)\n",
    "#         print(\"running batch:\", i_batch)\n",
    "        # x, edge_index, edge_attr, batch\n",
    "        h_a = gnn_model(batch.x_a, batch.edge_index_a, batch.edge_attr_a, batch.x_a_batch)\n",
    "        h_b = gnn_model(batch.x_b, batch.edge_index_b, batch.edge_attr_b, batch.x_b_batch)\n",
    "        \n",
    "        z_a, fattn_w_scores_a = transformer_model(h_a)\n",
    "        z_b, fattn_w_scores_b = transformer_model(h_b)\n",
    "        \n",
    "#         print(\"h_a shape:\", h_a.shape)\n",
    "#         print(\"z_a shape:\", z_a.shape)\n",
    "        \n",
    "        logsoftmax_scores, dist = deepadr_siamese(z_a, z_b)\n",
    "#         out = model(data.x, data.edge_index, data.batch)  # Perform a single forward pass.\n",
    "#         loss = criterion(out, samples_batch.y)  # Compute the loss.\n",
    "        cl = loss_nlll(logsoftmax_scores, batch.y)            \n",
    "        dl = loss_contrastive(dist.reshape(-1), batch.y.type(fdtype))          \n",
    "        loss = loss_w*cl + (1-loss_w)*dl\n",
    "        loss.backward()  # Derive gradients.\n",
    "        optimizer.step()  # Update parameters based on gradients.\n",
    "        optimizer.zero_grad()  # Clear gradients.\n",
    "\n",
    "def eval(loader, dsettype):\n",
    "    for m, m_name in models:\n",
    "        m.eval()\n",
    "        \n",
    "    pred_class = []\n",
    "    ref_class = []\n",
    "    prob_scores = []\n",
    "    \n",
    "#     for data in loader:  # Iterate in batches over the training/test dataset.\n",
    "    for i_batch, batch in enumerate(tqdm(loader, desc=\"Iteration\")):\n",
    "        batch = batch.to(device_gpu)\n",
    "#         out = model(data.x, data.edge_index, data.batch)  \n",
    "        h_a = gnn_model(batch.x_a, batch.edge_index_a, batch.edge_attr_a, batch.x_a_batch)\n",
    "        h_b = gnn_model(batch.x_b, batch.edge_index_b, batch.edge_attr_b, batch.x_b_batch)\n",
    "        \n",
    "        z_a, fattn_w_scores_a = transformer_model(h_a)\n",
    "        z_b, fattn_w_scores_b = transformer_model(h_b)\n",
    "        \n",
    "#         logsoftmax_scores, dist = deepadr_siamese(z_a, z_b)\n",
    "        \n",
    "#         __, y_pred_clss = torch.max(logsoftmax_scores, -1)\n",
    "#         y_pred_prob  = torch.exp(logsoftmax_scores.detach().cpu()).numpy()\n",
    "\n",
    "#         pred_class.extend(y_pred_clss.view(-1).tolist())\n",
    "#         ref_class.extend(batch.y.view(-1).tolist())\n",
    "# #         prob_scores.append(y_pred_prob)\n",
    "#         prob_scores.extend(y_pred_prob.view(-1).tolist())\n",
    "    \n",
    "        logsoftmax_scores, dist = deepadr_siamese(z_a, z_b)\n",
    "\n",
    "        __, y_pred_clss = torch.max(logsoftmax_scores, -1)\n",
    "\n",
    "        y_pred_prob  = torch.exp(logsoftmax_scores.detach().cpu()).numpy()\n",
    "\n",
    "        pred_class.extend(y_pred_clss.view(-1).tolist())\n",
    "        ref_class.extend(batch.y.view(-1).tolist())\n",
    "        prob_scores.append(y_pred_prob)\n",
    "\n",
    "    prob_scores_arr = np.concatenate(prob_scores, axis=0)\n",
    "    modelscore = perfmetric_report(pred_class, ref_class, prob_scores_arr[:,1], epoch,\n",
    "                                  outlog = os.path.join(targetdata_dir_processed, dsettype + \".log\"))\n",
    "#     modelscore = perfmetric_report(pred_class, ref_class, prob_scores, epoch, \"\")        \n",
    "    \n",
    "#         pred = out.argmax(dim=1)  # Use the class with highest probability.\n",
    "#         correct += int((pred == samples_batch.y).sum())  # Check against ground-truth labels.\n",
    "#     return correct / len(loader.dataset)  # Derive ratio of correct predictions.\n",
    "    return modelscore"
   ]
  },
  {
   "cell_type": "code",
   "execution_count": 32,
   "metadata": {},
   "outputs": [
    {
     "name": "stderr",
     "output_type": "stream",
     "text": [
      "\r",
      "Iteration:   0%|          | 0/656 [00:00<?, ?it/s]"
     ]
    },
    {
     "name": "stdout",
     "output_type": "stream",
     "text": [
      "=====Epoch 0\n",
      "Training...\n"
     ]
    },
    {
     "name": "stderr",
     "output_type": "stream",
     "text": [
      "Iteration: 100%|██████████| 656/656 [00:43<00:00, 15.23it/s]\n",
      "Iteration:   1%|          | 4/656 [00:00<00:18, 34.61it/s]"
     ]
    },
    {
     "name": "stdout",
     "output_type": "stream",
     "text": [
      "Evaluating...\n"
     ]
    },
    {
     "name": "stderr",
     "output_type": "stream",
     "text": [
      "Iteration: 100%|██████████| 656/656 [00:14<00:00, 43.93it/s]\n",
      "Iteration: 100%|██████████| 94/94 [00:02<00:00, 35.02it/s]\n",
      "Iteration: 100%|██████████| 188/188 [00:05<00:00, 37.27it/s]\n",
      "Iteration:   0%|          | 2/656 [00:00<00:35, 18.45it/s]"
     ]
    },
    {
     "name": "stdout",
     "output_type": "stream",
     "text": [
      "{'Train':  best_epoch_indx:0\n",
      " auc:0.7239938572596067 \n",
      " apur:0.5626187708097994 \n",
      " f1:0.06587166382737081 \n",
      " precision:0.8592592592592593 \n",
      " recall:0.03424859757897845 \n",
      ", 'Validation':  best_epoch_indx:0\n",
      " auc:0.7170739103618421 \n",
      " apur:0.5530545218546217 \n",
      " f1:0.07459677419354839 \n",
      " precision:0.8809523809523809 \n",
      " recall:0.03894736842105263 \n",
      ", 'Test':  best_epoch_indx:0\n",
      " auc:0.7236368001846109 \n",
      " apur:0.5563653985428311 \n",
      " f1:0.05633802816901408 \n",
      " precision:0.7887323943661971 \n",
      " recall:0.029212310902451747 \n",
      "}\n",
      "=====Epoch 1\n",
      "Training...\n"
     ]
    },
    {
     "name": "stderr",
     "output_type": "stream",
     "text": [
      "Iteration: 100%|██████████| 656/656 [00:41<00:00, 15.65it/s]\n",
      "Iteration:   1%|          | 5/656 [00:00<00:14, 43.71it/s]"
     ]
    },
    {
     "name": "stdout",
     "output_type": "stream",
     "text": [
      "Evaluating...\n"
     ]
    },
    {
     "name": "stderr",
     "output_type": "stream",
     "text": [
      "Iteration: 100%|██████████| 656/656 [00:14<00:00, 44.11it/s]\n",
      "Iteration: 100%|██████████| 94/94 [00:02<00:00, 43.85it/s]\n",
      "Iteration: 100%|██████████| 188/188 [00:04<00:00, 43.98it/s]\n",
      "Iteration:   0%|          | 2/656 [00:00<00:40, 16.34it/s]"
     ]
    },
    {
     "name": "stdout",
     "output_type": "stream",
     "text": [
      "{'Train':  best_epoch_indx:1\n",
      " auc:0.7646985777711945 \n",
      " apur:0.6290206465210082 \n",
      " f1:0.5696608274319791 \n",
      " precision:0.5753651558500226 \n",
      " recall:0.564068497195158 \n",
      ", 'Validation':  best_epoch_indx:1\n",
      " auc:0.7601567639802631 \n",
      " apur:0.6177804370146909 \n",
      " f1:0.5612565445026179 \n",
      " precision:0.5583333333333333 \n",
      " recall:0.5642105263157895 \n",
      ", 'Test':  best_epoch_indx:1\n",
      " auc:0.7602261892061504 \n",
      " apur:0.6144503080764749 \n",
      " f1:0.5602503912363067 \n",
      " precision:0.5602503912363067 \n",
      " recall:0.5602503912363067 \n",
      "}\n",
      "=====Epoch 2\n",
      "Training...\n"
     ]
    },
    {
     "name": "stderr",
     "output_type": "stream",
     "text": [
      "Iteration: 100%|██████████| 656/656 [00:41<00:00, 15.87it/s]\n",
      "Iteration:   1%|          | 4/656 [00:00<00:20, 32.34it/s]"
     ]
    },
    {
     "name": "stdout",
     "output_type": "stream",
     "text": [
      "Evaluating...\n"
     ]
    },
    {
     "name": "stderr",
     "output_type": "stream",
     "text": [
      "Iteration: 100%|██████████| 656/656 [00:14<00:00, 43.84it/s]\n",
      "Iteration: 100%|██████████| 94/94 [00:02<00:00, 44.24it/s]\n",
      "Iteration: 100%|██████████| 188/188 [00:04<00:00, 44.29it/s]\n",
      "Iteration:   0%|          | 2/656 [00:00<00:33, 19.40it/s]"
     ]
    },
    {
     "name": "stdout",
     "output_type": "stream",
     "text": [
      "{'Train':  best_epoch_indx:2\n",
      " auc:0.7842549147907873 \n",
      " apur:0.644415580386077 \n",
      " f1:0.29133284777858703 \n",
      " precision:0.819672131147541 \n",
      " recall:0.1771479185119575 \n",
      ", 'Validation':  best_epoch_indx:2\n",
      " auc:0.769439761513158 \n",
      " apur:0.620403291025811 \n",
      " f1:0.29838022165387895 \n",
      " precision:0.7847533632286996 \n",
      " recall:0.18421052631578946 \n",
      ", 'Test':  best_epoch_indx:2\n",
      " auc:0.7726222464754194 \n",
      " apur:0.6266325232185169 \n",
      " f1:0.2888888888888889 \n",
      " precision:0.7990543735224587 \n",
      " recall:0.1763171622326552 \n",
      "}\n",
      "=====Epoch 3\n",
      "Training...\n"
     ]
    },
    {
     "name": "stderr",
     "output_type": "stream",
     "text": [
      "Iteration: 100%|██████████| 656/656 [00:43<00:00, 15.19it/s]\n",
      "Iteration:   1%|          | 4/656 [00:00<00:20, 32.59it/s]"
     ]
    },
    {
     "name": "stdout",
     "output_type": "stream",
     "text": [
      "Evaluating...\n"
     ]
    },
    {
     "name": "stderr",
     "output_type": "stream",
     "text": [
      "Iteration: 100%|██████████| 656/656 [00:14<00:00, 44.05it/s]\n",
      "Iteration: 100%|██████████| 94/94 [00:02<00:00, 44.31it/s]\n",
      "Iteration: 100%|██████████| 188/188 [00:04<00:00, 44.25it/s]\n",
      "Iteration:   0%|          | 2/656 [00:00<00:35, 18.19it/s]"
     ]
    },
    {
     "name": "stdout",
     "output_type": "stream",
     "text": [
      "{'Train':  best_epoch_indx:3\n",
      " auc:0.8196880207543681 \n",
      " apur:0.6896740825324781 \n",
      " f1:0.49006490264603103 \n",
      " precision:0.7571737118173403 \n",
      " recall:0.3622674933569531 \n",
      ", 'Validation':  best_epoch_indx:3\n",
      " auc:0.8092521587171053 \n",
      " apur:0.6691814411818275 \n",
      " f1:0.4869809992962702 \n",
      " precision:0.7346072186836518 \n",
      " recall:0.3642105263157895 \n",
      ", 'Test':  best_epoch_indx:3\n",
      " auc:0.8020166482337251 \n",
      " apur:0.6667781882920664 \n",
      " f1:0.48510339992989837 \n",
      " precision:0.7393162393162394 \n",
      " recall:0.36098069900886803 \n",
      "}\n",
      "=====Epoch 4\n",
      "Training...\n"
     ]
    },
    {
     "name": "stderr",
     "output_type": "stream",
     "text": [
      "Iteration: 100%|██████████| 656/656 [00:41<00:00, 15.73it/s]\n",
      "Iteration:   1%|          | 5/656 [00:00<00:14, 43.99it/s]"
     ]
    },
    {
     "name": "stdout",
     "output_type": "stream",
     "text": [
      "Evaluating...\n"
     ]
    },
    {
     "name": "stderr",
     "output_type": "stream",
     "text": [
      "Iteration: 100%|██████████| 656/656 [00:14<00:00, 44.27it/s]\n",
      "Iteration: 100%|██████████| 94/94 [00:02<00:00, 44.30it/s]\n",
      "Iteration: 100%|██████████| 188/188 [00:04<00:00, 44.38it/s]\n",
      "Iteration:   0%|          | 2/656 [00:00<00:34, 18.77it/s]"
     ]
    },
    {
     "name": "stdout",
     "output_type": "stream",
     "text": [
      "{'Train':  best_epoch_indx:4\n",
      " auc:0.8117965971673622 \n",
      " apur:0.676742075770887 \n",
      " f1:0.5432459585350261 \n",
      " precision:0.7123353293413174 \n",
      " recall:0.4390315913788013 \n",
      ", 'Validation':  best_epoch_indx:4\n",
      " auc:0.8090666118421053 \n",
      " apur:0.6709805570221987 \n",
      " f1:0.532051282051282 \n",
      " precision:0.680327868852459 \n",
      " recall:0.4368421052631579 \n",
      ", 'Test':  best_epoch_indx:4\n",
      " auc:0.8060390205290011 \n",
      " apur:0.6694156816553305 \n",
      " f1:0.5412814791201785 \n",
      " precision:0.6959016393442623 \n",
      " recall:0.4428794992175274 \n",
      "}\n",
      "=====Epoch 5\n",
      "Training...\n"
     ]
    },
    {
     "name": "stderr",
     "output_type": "stream",
     "text": [
      "Iteration: 100%|██████████| 656/656 [00:42<00:00, 15.28it/s]\n",
      "Iteration:   1%|          | 5/656 [00:00<00:14, 44.10it/s]"
     ]
    },
    {
     "name": "stdout",
     "output_type": "stream",
     "text": [
      "Evaluating...\n"
     ]
    },
    {
     "name": "stderr",
     "output_type": "stream",
     "text": [
      "Iteration: 100%|██████████| 656/656 [00:14<00:00, 44.28it/s]\n",
      "Iteration: 100%|██████████| 94/94 [00:02<00:00, 44.22it/s]\n",
      "Iteration: 100%|██████████| 188/188 [00:04<00:00, 44.44it/s]\n",
      "Iteration:   0%|          | 2/656 [00:00<00:34, 18.72it/s]"
     ]
    },
    {
     "name": "stdout",
     "output_type": "stream",
     "text": [
      "{'Train':  best_epoch_indx:5\n",
      " auc:0.8284349797649733 \n",
      " apur:0.7109357319845102 \n",
      " f1:0.5188383045525903 \n",
      " precision:0.7735517846693973 \n",
      " recall:0.390315913788013 \n",
      ", 'Validation':  best_epoch_indx:5\n",
      " auc:0.8198982319078947 \n",
      " apur:0.6922216052406206 \n",
      " f1:0.5110497237569062 \n",
      " precision:0.7429718875502008 \n",
      " recall:0.3894736842105263 \n",
      ", 'Test':  best_epoch_indx:5\n",
      " auc:0.814426840409613 \n",
      " apur:0.6915532083780316 \n",
      " f1:0.5170998632010945 \n",
      " precision:0.7507447864945382 \n",
      " recall:0.39436619718309857 \n",
      "}\n",
      "=====Epoch 6\n",
      "Training...\n"
     ]
    },
    {
     "name": "stderr",
     "output_type": "stream",
     "text": [
      "Iteration: 100%|██████████| 656/656 [00:42<00:00, 15.35it/s]\n",
      "Iteration:   1%|          | 4/656 [00:00<00:20, 31.87it/s]"
     ]
    },
    {
     "name": "stdout",
     "output_type": "stream",
     "text": [
      "Evaluating...\n"
     ]
    },
    {
     "name": "stderr",
     "output_type": "stream",
     "text": [
      "Iteration: 100%|██████████| 656/656 [00:15<00:00, 43.68it/s]\n",
      "Iteration: 100%|██████████| 94/94 [00:02<00:00, 44.30it/s]\n",
      "Iteration: 100%|██████████| 188/188 [00:04<00:00, 44.33it/s]\n",
      "Iteration:   0%|          | 2/656 [00:00<00:34, 19.19it/s]"
     ]
    },
    {
     "name": "stdout",
     "output_type": "stream",
     "text": [
      "{'Train':  best_epoch_indx:6\n",
      " auc:0.8008830267241334 \n",
      " apur:0.6653739019619931 \n",
      " f1:0.6058659217877095 \n",
      " precision:0.5748741054863504 \n",
      " recall:0.6403897254207263 \n",
      ", 'Validation':  best_epoch_indx:6\n",
      " auc:0.7989083059210527 \n",
      " apur:0.6659904533085552 \n",
      " f1:0.5959142999501744 \n",
      " precision:0.565752128666036 \n",
      " recall:0.6294736842105263 \n",
      ", 'Test':  best_epoch_indx:6\n",
      " auc:0.7907634077584136 \n",
      " apur:0.6501261353679061 \n",
      " f1:0.6017655713585092 \n",
      " precision:0.5677926885701065 \n",
      " recall:0.6400625978090767 \n",
      "}\n",
      "=====Epoch 7\n",
      "Training...\n"
     ]
    },
    {
     "name": "stderr",
     "output_type": "stream",
     "text": [
      "Iteration: 100%|██████████| 656/656 [00:41<00:00, 15.92it/s]\n",
      "Iteration:   1%|          | 5/656 [00:00<00:14, 44.01it/s]"
     ]
    },
    {
     "name": "stdout",
     "output_type": "stream",
     "text": [
      "Evaluating...\n"
     ]
    },
    {
     "name": "stderr",
     "output_type": "stream",
     "text": [
      "Iteration: 100%|██████████| 656/656 [00:15<00:00, 43.72it/s]\n",
      "Iteration: 100%|██████████| 94/94 [00:02<00:00, 43.91it/s]\n",
      "Iteration: 100%|██████████| 188/188 [00:04<00:00, 44.41it/s]\n",
      "Iteration:   0%|          | 2/656 [00:00<00:34, 19.18it/s]"
     ]
    },
    {
     "name": "stdout",
     "output_type": "stream",
     "text": [
      "{'Train':  best_epoch_indx:7\n",
      " auc:0.8393815441327066 \n",
      " apur:0.7216903712445242 \n",
      " f1:0.6079931972789115 \n",
      " precision:0.7170076213397513 \n",
      " recall:0.5277531739002067 \n",
      ", 'Validation':  best_epoch_indx:7\n",
      " auc:0.8266606702302631 \n",
      " apur:0.7005747673801299 \n",
      " f1:0.5942647956070775 \n",
      " precision:0.706821480406386 \n",
      " recall:0.5126315789473684 \n",
      ", 'Test':  best_epoch_indx:7\n",
      " auc:0.82462226540724 \n",
      " apur:0.7050226112739909 \n",
      " f1:0.6101393418321969 \n",
      " precision:0.7067307692307693 \n",
      " recall:0.5367762128325508 \n",
      "}\n",
      "=====Epoch 8\n",
      "Training...\n"
     ]
    },
    {
     "name": "stderr",
     "output_type": "stream",
     "text": [
      "Iteration: 100%|██████████| 656/656 [00:40<00:00, 16.02it/s]\n",
      "Iteration:   1%|          | 5/656 [00:00<00:14, 44.16it/s]"
     ]
    },
    {
     "name": "stdout",
     "output_type": "stream",
     "text": [
      "Evaluating...\n"
     ]
    },
    {
     "name": "stderr",
     "output_type": "stream",
     "text": [
      "Iteration: 100%|██████████| 656/656 [00:14<00:00, 44.26it/s]\n",
      "Iteration: 100%|██████████| 94/94 [00:02<00:00, 44.30it/s]\n",
      "Iteration: 100%|██████████| 188/188 [00:04<00:00, 44.43it/s]\n",
      "Iteration:   0%|          | 2/656 [00:00<00:33, 19.36it/s]"
     ]
    },
    {
     "name": "stdout",
     "output_type": "stream",
     "text": [
      "{'Train':  best_epoch_indx:8\n",
      " auc:0.8419765934418696 \n",
      " apur:0.7329552783779127 \n",
      " f1:0.6632476162958683 \n",
      " precision:0.6493635077793494 \n",
      " recall:0.677738411573664 \n",
      ", 'Validation':  best_epoch_indx:8\n",
      " auc:0.829072265625 \n",
      " apur:0.7088764731083742 \n",
      " f1:0.64 \n",
      " precision:0.6165853658536585 \n",
      " recall:0.6652631578947369 \n",
      ", 'Test':  best_epoch_indx:8\n",
      " auc:0.8281389790069135 \n",
      " apur:0.7172994510531454 \n",
      " f1:0.6521850242780475 \n",
      " precision:0.6392785571142284 \n",
      " recall:0.665623369848722 \n",
      "}\n",
      "=====Epoch 9\n",
      "Training...\n"
     ]
    },
    {
     "name": "stderr",
     "output_type": "stream",
     "text": [
      "Iteration: 100%|██████████| 656/656 [00:40<00:00, 16.15it/s]\n",
      "Iteration:   1%|          | 4/656 [00:00<00:20, 32.47it/s]"
     ]
    },
    {
     "name": "stdout",
     "output_type": "stream",
     "text": [
      "Evaluating...\n"
     ]
    },
    {
     "name": "stderr",
     "output_type": "stream",
     "text": [
      "Iteration: 100%|██████████| 656/656 [00:14<00:00, 43.87it/s]\n",
      "Iteration: 100%|██████████| 94/94 [00:02<00:00, 44.27it/s]\n",
      "Iteration: 100%|██████████| 188/188 [00:04<00:00, 44.32it/s]\n",
      "Iteration:   0%|          | 2/656 [00:00<00:38, 16.97it/s]"
     ]
    },
    {
     "name": "stdout",
     "output_type": "stream",
     "text": [
      "{'Train':  best_epoch_indx:9\n",
      " auc:0.840761719840966 \n",
      " apur:0.7292300284899254 \n",
      " f1:0.5662415045154083 \n",
      " precision:0.7665742374590371 \n",
      " recall:0.4489223501623856 \n",
      ", 'Validation':  best_epoch_indx:9\n",
      " auc:0.831823087993421 \n",
      " apur:0.7142524987518571 \n",
      " f1:0.5476510067114094 \n",
      " precision:0.7555555555555555 \n",
      " recall:0.42947368421052634 \n",
      ", 'Test':  best_epoch_indx:9\n",
      " auc:0.8235246035638384 \n",
      " apur:0.7082885459178848 \n",
      " f1:0.5559210526315789 \n",
      " precision:0.7524487978628673 \n",
      " recall:0.440792905581638 \n",
      "}\n",
      "=====Epoch 10\n",
      "Training...\n"
     ]
    },
    {
     "name": "stderr",
     "output_type": "stream",
     "text": [
      "Iteration: 100%|██████████| 656/656 [00:41<00:00, 15.62it/s]\n",
      "Iteration:   1%|          | 4/656 [00:00<00:19, 32.68it/s]"
     ]
    },
    {
     "name": "stdout",
     "output_type": "stream",
     "text": [
      "Evaluating...\n"
     ]
    },
    {
     "name": "stderr",
     "output_type": "stream",
     "text": [
      "Iteration: 100%|██████████| 656/656 [00:14<00:00, 44.09it/s]\n",
      "Iteration: 100%|██████████| 94/94 [00:02<00:00, 44.22it/s]\n",
      "Iteration: 100%|██████████| 188/188 [00:04<00:00, 44.36it/s]\n",
      "Iteration:   0%|          | 2/656 [00:00<00:36, 18.01it/s]"
     ]
    },
    {
     "name": "stdout",
     "output_type": "stream",
     "text": [
      "{'Train':  best_epoch_indx:10\n",
      " auc:0.8432577614012373 \n",
      " apur:0.7318165773186545 \n",
      " f1:0.5135162295246709 \n",
      " precision:0.8042178155492603 \n",
      " recall:0.3771774431650428 \n",
      ", 'Validation':  best_epoch_indx:10\n",
      " auc:0.8373992598684211 \n",
      " apur:0.7218122856214642 \n",
      " f1:0.516949152542373 \n",
      " precision:0.7854077253218884 \n",
      " recall:0.38526315789473686 \n",
      ", 'Test':  best_epoch_indx:10\n",
      " auc:0.8323953127882145 \n",
      " apur:0.7165882425073656 \n",
      " f1:0.5147887323943662 \n",
      " precision:0.7919826652221018 \n",
      " recall:0.3813249869587898 \n",
      "}\n",
      "=====Epoch 11\n",
      "Training...\n"
     ]
    },
    {
     "name": "stderr",
     "output_type": "stream",
     "text": [
      "Iteration: 100%|██████████| 656/656 [00:40<00:00, 16.03it/s]\n",
      "Iteration:   1%|          | 4/656 [00:00<00:19, 32.64it/s]"
     ]
    },
    {
     "name": "stdout",
     "output_type": "stream",
     "text": [
      "Evaluating...\n"
     ]
    },
    {
     "name": "stderr",
     "output_type": "stream",
     "text": [
      "Iteration: 100%|██████████| 656/656 [00:14<00:00, 44.17it/s]\n",
      "Iteration: 100%|██████████| 94/94 [00:02<00:00, 44.46it/s]\n",
      "Iteration: 100%|██████████| 188/188 [00:04<00:00, 44.43it/s]\n",
      "Iteration:   0%|          | 2/656 [00:00<00:34, 18.99it/s]"
     ]
    },
    {
     "name": "stdout",
     "output_type": "stream",
     "text": [
      "{'Train':  best_epoch_indx:11\n",
      " auc:0.8506772331593109 \n",
      " apur:0.7516517880207177 \n",
      " f1:0.6437273625288114 \n",
      " precision:0.7275772236695199 \n",
      " recall:0.5772069678181282 \n",
      ", 'Validation':  best_epoch_indx:11\n",
      " auc:0.8431337376644737 \n",
      " apur:0.7238356815051978 \n",
      " f1:0.6139425893380199 \n",
      " precision:0.6922060766182299 \n",
      " recall:0.5515789473684211 \n",
      ", 'Test':  best_epoch_indx:11\n",
      " auc:0.833917405583301 \n",
      " apur:0.7291610655742383 \n",
      " f1:0.6264919941775836 \n",
      " precision:0.7088274044795784 \n",
      " recall:0.5612936880542514 \n",
      "}\n",
      "=====Epoch 12\n",
      "Training...\n"
     ]
    },
    {
     "name": "stderr",
     "output_type": "stream",
     "text": [
      "Iteration: 100%|██████████| 656/656 [00:41<00:00, 15.66it/s]\n",
      "Iteration:   1%|          | 4/656 [00:00<00:19, 32.76it/s]"
     ]
    },
    {
     "name": "stdout",
     "output_type": "stream",
     "text": [
      "Evaluating...\n"
     ]
    },
    {
     "name": "stderr",
     "output_type": "stream",
     "text": [
      "Iteration: 100%|██████████| 656/656 [00:14<00:00, 44.02it/s]\n",
      "Iteration: 100%|██████████| 94/94 [00:02<00:00, 44.27it/s]\n",
      "Iteration: 100%|██████████| 188/188 [00:04<00:00, 44.47it/s]\n",
      "Iteration:   0%|          | 2/656 [00:00<00:35, 18.35it/s]"
     ]
    },
    {
     "name": "stdout",
     "output_type": "stream",
     "text": [
      "{'Train':  best_epoch_indx:12\n",
      " auc:0.846007759032283 \n",
      " apur:0.7438592202038243 \n",
      " f1:0.6367743014890413 \n",
      " precision:0.7347490347490347 \n",
      " recall:0.5618541482137585 \n",
      ", 'Validation':  best_epoch_indx:12\n",
      " auc:0.8295934416118421 \n",
      " apur:0.7171416283877733 \n",
      " f1:0.6069711538461539 \n",
      " precision:0.7072829131652661 \n",
      " recall:0.531578947368421 \n",
      ", 'Test':  best_epoch_indx:12\n",
      " auc:0.833463425641309 \n",
      " apur:0.7281111044391178 \n",
      " f1:0.6290274903931422 \n",
      " precision:0.7257844474761255 \n",
      " recall:0.5550339071465832 \n",
      "}\n",
      "=====Epoch 13\n",
      "Training...\n"
     ]
    },
    {
     "name": "stderr",
     "output_type": "stream",
     "text": [
      "Iteration: 100%|██████████| 656/656 [00:41<00:00, 15.72it/s]\n",
      "Iteration:   1%|          | 4/656 [00:00<00:19, 32.82it/s]"
     ]
    },
    {
     "name": "stdout",
     "output_type": "stream",
     "text": [
      "Evaluating...\n"
     ]
    },
    {
     "name": "stderr",
     "output_type": "stream",
     "text": [
      "Iteration: 100%|██████████| 656/656 [00:14<00:00, 44.18it/s]\n",
      "Iteration: 100%|██████████| 94/94 [00:02<00:00, 44.09it/s]\n",
      "Iteration: 100%|██████████| 188/188 [00:04<00:00, 44.45it/s]\n",
      "Iteration:   0%|          | 2/656 [00:00<00:39, 16.36it/s]"
     ]
    },
    {
     "name": "stdout",
     "output_type": "stream",
     "text": [
      "{'Train':  best_epoch_indx:13\n",
      " auc:0.8482380309200919 \n",
      " apur:0.7498754169752189 \n",
      " f1:0.6016260162601627 \n",
      " precision:0.7751396648044693 \n",
      " recall:0.491585473870682 \n",
      ", 'Validation':  best_epoch_indx:13\n",
      " auc:0.8325200452302631 \n",
      " apur:0.7254297026055383 \n",
      " f1:0.5816525699414443 \n",
      " precision:0.7614991482112436 \n",
      " recall:0.4705263157894737 \n",
      ", 'Test':  best_epoch_indx:13\n",
      " auc:0.8287236908454159 \n",
      " apur:0.7253216895674102 \n",
      " f1:0.5769854132901134 \n",
      " precision:0.761986301369863 \n",
      " recall:0.46426708398539385 \n",
      "}\n",
      "=====Epoch 14\n",
      "Training...\n"
     ]
    },
    {
     "name": "stderr",
     "output_type": "stream",
     "text": [
      "Iteration: 100%|██████████| 656/656 [00:41<00:00, 15.74it/s]\n",
      "Iteration:   1%|          | 4/656 [00:00<00:20, 32.38it/s]"
     ]
    },
    {
     "name": "stdout",
     "output_type": "stream",
     "text": [
      "Evaluating...\n"
     ]
    },
    {
     "name": "stderr",
     "output_type": "stream",
     "text": [
      "Iteration: 100%|██████████| 656/656 [00:14<00:00, 44.12it/s]\n",
      "Iteration: 100%|██████████| 94/94 [00:02<00:00, 41.10it/s]\n",
      "Iteration: 100%|██████████| 188/188 [00:04<00:00, 44.43it/s]\n",
      "Iteration:   0%|          | 3/656 [00:00<00:32, 20.14it/s]"
     ]
    },
    {
     "name": "stdout",
     "output_type": "stream",
     "text": [
      "{'Train':  best_epoch_indx:14\n",
      " auc:0.8666801021709264 \n",
      " apur:0.7725221396611139 \n",
      " f1:0.6778096147723655 \n",
      " precision:0.735405872193437 \n",
      " recall:0.6285798641865958 \n",
      ", 'Validation':  best_epoch_indx:14\n",
      " auc:0.8549043996710526 \n",
      " apur:0.7425543820689906 \n",
      " f1:0.6456422018348624 \n",
      " precision:0.7090680100755667 \n",
      " recall:0.5926315789473684 \n",
      ", 'Test':  best_epoch_indx:14\n",
      " auc:0.8524505706792661 \n",
      " apur:0.7516766495331544 \n",
      " f1:0.660281690140845 \n",
      " precision:0.7176974892835273 \n",
      " recall:0.6113719353155973 \n",
      "}\n",
      "=====Epoch 15\n",
      "Training...\n"
     ]
    },
    {
     "name": "stderr",
     "output_type": "stream",
     "text": [
      "Iteration: 100%|██████████| 656/656 [00:40<00:00, 16.07it/s]\n",
      "Iteration:   1%|          | 4/656 [00:00<00:19, 32.68it/s]"
     ]
    },
    {
     "name": "stdout",
     "output_type": "stream",
     "text": [
      "Evaluating...\n"
     ]
    },
    {
     "name": "stderr",
     "output_type": "stream",
     "text": [
      "Iteration: 100%|██████████| 656/656 [00:14<00:00, 44.11it/s]\n",
      "Iteration: 100%|██████████| 94/94 [00:02<00:00, 44.39it/s]\n",
      "Iteration: 100%|██████████| 188/188 [00:04<00:00, 44.54it/s]\n",
      "Iteration:   0%|          | 3/656 [00:00<00:31, 20.80it/s]"
     ]
    },
    {
     "name": "stdout",
     "output_type": "stream",
     "text": [
      "{'Train':  best_epoch_indx:15\n",
      " auc:0.8732877810411164 \n",
      " apur:0.7869797282500954 \n",
      " f1:0.6864158415841586 \n",
      " precision:0.7405571697145787 \n",
      " recall:0.6396516090935932 \n",
      ", 'Validation':  best_epoch_indx:15\n",
      " auc:0.8548514597039474 \n",
      " apur:0.74815258456109 \n",
      " f1:0.6460481099656357 \n",
      " precision:0.7085427135678392 \n",
      " recall:0.5936842105263158 \n",
      ", 'Test':  best_epoch_indx:15\n",
      " auc:0.8568284262821767 \n",
      " apur:0.7643420610641338 \n",
      " f1:0.6666666666666667 \n",
      " precision:0.7375079063883618 \n",
      " recall:0.6082420448617631 \n",
      "}\n",
      "=====Epoch 16\n",
      "Training...\n"
     ]
    },
    {
     "name": "stderr",
     "output_type": "stream",
     "text": [
      "Iteration: 100%|██████████| 656/656 [00:41<00:00, 15.68it/s]\n",
      "Iteration:   1%|          | 4/656 [00:00<00:20, 32.50it/s]"
     ]
    },
    {
     "name": "stdout",
     "output_type": "stream",
     "text": [
      "Evaluating...\n"
     ]
    },
    {
     "name": "stderr",
     "output_type": "stream",
     "text": [
      "Iteration: 100%|██████████| 656/656 [00:14<00:00, 43.79it/s]\n",
      "Iteration: 100%|██████████| 94/94 [00:02<00:00, 44.47it/s]\n",
      "Iteration: 100%|██████████| 188/188 [00:04<00:00, 44.47it/s]\n",
      "Iteration:   0%|          | 2/656 [00:00<00:33, 19.34it/s]"
     ]
    },
    {
     "name": "stdout",
     "output_type": "stream",
     "text": [
      "{'Train':  best_epoch_indx:16\n",
      " auc:0.8638959936741435 \n",
      " apur:0.767015895646455 \n",
      " f1:0.6775234049248683 \n",
      " precision:0.7252821290213912 \n",
      " recall:0.6356657809270742 \n",
      ", 'Validation':  best_epoch_indx:16\n",
      " auc:0.8609642269736844 \n",
      " apur:0.7500056611903787 \n",
      " f1:0.6553672316384181 \n",
      " precision:0.7073170731707317 \n",
      " recall:0.6105263157894737 \n",
      ", 'Test':  best_epoch_indx:16\n",
      " auc:0.8540032997651686 \n",
      " apur:0.7536839068326191 \n",
      " f1:0.6784628144871441 \n",
      " precision:0.721764705882353 \n",
      " recall:0.6400625978090767 \n",
      "}\n",
      "=====Epoch 17\n",
      "Training...\n"
     ]
    },
    {
     "name": "stderr",
     "output_type": "stream",
     "text": [
      "Iteration: 100%|██████████| 656/656 [00:41<00:00, 15.67it/s]\n",
      "Iteration:   1%|          | 4/656 [00:00<00:20, 31.22it/s]"
     ]
    },
    {
     "name": "stdout",
     "output_type": "stream",
     "text": [
      "Evaluating...\n"
     ]
    },
    {
     "name": "stderr",
     "output_type": "stream",
     "text": [
      "Iteration: 100%|██████████| 656/656 [00:15<00:00, 43.66it/s]\n",
      "Iteration: 100%|██████████| 94/94 [00:02<00:00, 44.24it/s]\n",
      "Iteration: 100%|██████████| 188/188 [00:04<00:00, 44.37it/s]\n",
      "Iteration:   0%|          | 2/656 [00:00<00:33, 19.59it/s]"
     ]
    },
    {
     "name": "stdout",
     "output_type": "stream",
     "text": [
      "{'Train':  best_epoch_indx:17\n",
      " auc:0.8806169623869884 \n",
      " apur:0.7960763066912295 \n",
      " f1:0.6581084621430443 \n",
      " precision:0.8056446440025657 \n",
      " recall:0.5562444641275465 \n",
      ", 'Validation':  best_epoch_indx:17\n",
      " auc:0.8651757812499998 \n",
      " apur:0.7602224912594011 \n",
      " f1:0.6322339763534537 \n",
      " precision:0.7732115677321156 \n",
      " recall:0.5347368421052632 \n",
      ", 'Test':  best_epoch_indx:17\n",
      " auc:0.8660667070374949 \n",
      " apur:0.7778115079436995 \n",
      " f1:0.6528336946423041 \n",
      " precision:0.8033536585365854 \n",
      " recall:0.5498174230568597 \n",
      "}\n",
      "=====Epoch 18\n",
      "Training...\n"
     ]
    },
    {
     "name": "stderr",
     "output_type": "stream",
     "text": [
      "Iteration: 100%|██████████| 656/656 [00:41<00:00, 15.93it/s]\n",
      "Iteration:   1%|          | 5/656 [00:00<00:14, 44.20it/s]"
     ]
    },
    {
     "name": "stdout",
     "output_type": "stream",
     "text": [
      "Evaluating...\n"
     ]
    },
    {
     "name": "stderr",
     "output_type": "stream",
     "text": [
      "Iteration: 100%|██████████| 656/656 [00:14<00:00, 44.31it/s]\n",
      "Iteration: 100%|██████████| 94/94 [00:02<00:00, 44.30it/s]\n",
      "Iteration: 100%|██████████| 188/188 [00:04<00:00, 44.33it/s]\n",
      "Iteration:   0%|          | 2/656 [00:00<00:34, 19.19it/s]"
     ]
    },
    {
     "name": "stdout",
     "output_type": "stream",
     "text": [
      "{'Train':  best_epoch_indx:18\n",
      " auc:0.8765914178682668 \n",
      " apur:0.7871244146018673 \n",
      " f1:0.6678365505139131 \n",
      " precision:0.7694974003466204 \n",
      " recall:0.5899025686448184 \n",
      ", 'Validation':  best_epoch_indx:18\n",
      " auc:0.8650082236842106 \n",
      " apur:0.7656500469722932 \n",
      " f1:0.6528681253696038 \n",
      " precision:0.7449392712550608 \n",
      " recall:0.5810526315789474 \n",
      ", 'Test':  best_epoch_indx:18\n",
      " auc:0.8611455849331362 \n",
      " apur:0.7669290313544251 \n",
      " f1:0.6540284360189573 \n",
      " precision:0.7566826593557231 \n",
      " recall:0.5758998435054773 \n",
      "}\n",
      "=====Epoch 19\n",
      "Training...\n"
     ]
    },
    {
     "name": "stderr",
     "output_type": "stream",
     "text": [
      "Iteration: 100%|██████████| 656/656 [00:41<00:00, 15.85it/s]\n",
      "Iteration:   1%|          | 4/656 [00:00<00:20, 32.27it/s]"
     ]
    },
    {
     "name": "stdout",
     "output_type": "stream",
     "text": [
      "Evaluating...\n"
     ]
    },
    {
     "name": "stderr",
     "output_type": "stream",
     "text": [
      "Iteration: 100%|██████████| 656/656 [00:14<00:00, 43.78it/s]\n",
      "Iteration: 100%|██████████| 94/94 [00:02<00:00, 44.21it/s]\n",
      "Iteration: 100%|██████████| 188/188 [00:04<00:00, 44.28it/s]\n",
      "Iteration:   0%|          | 2/656 [00:00<00:33, 19.33it/s]"
     ]
    },
    {
     "name": "stdout",
     "output_type": "stream",
     "text": [
      "{'Train':  best_epoch_indx:19\n",
      " auc:0.8679494461384547 \n",
      " apur:0.7734894972272083 \n",
      " f1:0.6916917652244179 \n",
      " precision:0.6884047375347273 \n",
      " recall:0.6950103336285799 \n",
      ", 'Validation':  best_epoch_indx:19\n",
      " auc:0.8608403577302632 \n",
      " apur:0.7562171320613399 \n",
      " f1:0.672650475184794 \n",
      " precision:0.6747881355932204 \n",
      " recall:0.6705263157894736 \n",
      ", 'Test':  best_epoch_indx:19\n",
      " auc:0.8528689255398704 \n",
      " apur:0.7545339031952947 \n",
      " f1:0.6802401461759332 \n",
      " precision:0.680773249738767 \n",
      " recall:0.6797078768909754 \n",
      "}\n",
      "=====Epoch 20\n",
      "Training...\n"
     ]
    },
    {
     "name": "stderr",
     "output_type": "stream",
     "text": [
      "Iteration: 100%|██████████| 656/656 [00:41<00:00, 15.64it/s]\n",
      "Iteration:   1%|          | 5/656 [00:00<00:14, 44.15it/s]"
     ]
    },
    {
     "name": "stdout",
     "output_type": "stream",
     "text": [
      "Evaluating...\n"
     ]
    },
    {
     "name": "stderr",
     "output_type": "stream",
     "text": [
      "Iteration: 100%|██████████| 656/656 [00:14<00:00, 44.37it/s]\n",
      "Iteration: 100%|██████████| 94/94 [00:02<00:00, 44.26it/s]\n",
      "Iteration: 100%|██████████| 188/188 [00:04<00:00, 44.43it/s]\n",
      "Iteration:   0%|          | 2/656 [00:00<00:32, 19.86it/s]"
     ]
    },
    {
     "name": "stdout",
     "output_type": "stream",
     "text": [
      "{'Train':  best_epoch_indx:20\n",
      " auc:0.8844895275174423 \n",
      " apur:0.8043718808927958 \n",
      " f1:0.7134627046694967 \n",
      " precision:0.7332502337176691 \n",
      " recall:0.6947150870977266 \n",
      ", 'Validation':  best_epoch_indx:20\n",
      " auc:0.8709359580592106 \n",
      " apur:0.7704188807243276 \n",
      " f1:0.6865509761388287 \n",
      " precision:0.7080536912751678 \n",
      " recall:0.6663157894736842 \n",
      ", 'Test':  best_epoch_indx:20\n",
      " auc:0.8713951191208064 \n",
      " apur:0.7884350890195015 \n",
      " f1:0.7031963470319634 \n",
      " precision:0.7248062015503876 \n",
      " recall:0.6828377673448096 \n",
      "}\n",
      "=====Epoch 21\n",
      "Training...\n"
     ]
    },
    {
     "name": "stderr",
     "output_type": "stream",
     "text": [
      "Iteration: 100%|██████████| 656/656 [00:40<00:00, 16.23it/s]\n",
      "Iteration:   1%|          | 5/656 [00:00<00:14, 44.32it/s]"
     ]
    },
    {
     "name": "stdout",
     "output_type": "stream",
     "text": [
      "Evaluating...\n"
     ]
    },
    {
     "name": "stderr",
     "output_type": "stream",
     "text": [
      "Iteration: 100%|██████████| 656/656 [00:14<00:00, 44.46it/s]\n",
      "Iteration: 100%|██████████| 94/94 [00:02<00:00, 44.16it/s]\n",
      "Iteration: 100%|██████████| 188/188 [00:04<00:00, 44.39it/s]\n",
      "Iteration:   0%|          | 2/656 [00:00<00:35, 18.32it/s]"
     ]
    },
    {
     "name": "stdout",
     "output_type": "stream",
     "text": [
      "{'Train':  best_epoch_indx:21\n",
      " auc:0.8818169001458278 \n",
      " apur:0.7959938079452403 \n",
      " f1:0.674702829398962 \n",
      " precision:0.7791956689868523 \n",
      " recall:0.5949217596693239 \n",
      ", 'Validation':  best_epoch_indx:21\n",
      " auc:0.8717141241776316 \n",
      " apur:0.7707368651392185 \n",
      " f1:0.6506890353505094 \n",
      " precision:0.7552155771905424 \n",
      " recall:0.5715789473684211 \n",
      ", 'Test':  best_epoch_indx:21\n",
      " auc:0.8709146602134742 \n",
      " apur:0.78248894638225 \n",
      " f1:0.6637010676156584 \n",
      " precision:0.7690721649484537 \n",
      " recall:0.5837245696400626 \n",
      "}\n",
      "=====Epoch 22\n",
      "Training...\n"
     ]
    },
    {
     "name": "stderr",
     "output_type": "stream",
     "text": [
      "Iteration: 100%|██████████| 656/656 [00:42<00:00, 15.34it/s]\n",
      "Iteration:   1%|          | 4/656 [00:00<00:19, 32.73it/s]"
     ]
    },
    {
     "name": "stdout",
     "output_type": "stream",
     "text": [
      "Evaluating...\n"
     ]
    },
    {
     "name": "stderr",
     "output_type": "stream",
     "text": [
      "Iteration: 100%|██████████| 656/656 [00:14<00:00, 44.10it/s]\n",
      "Iteration: 100%|██████████| 94/94 [00:02<00:00, 44.51it/s]\n",
      "Iteration: 100%|██████████| 188/188 [00:04<00:00, 44.48it/s]\n",
      "Iteration:   0%|          | 2/656 [00:00<00:32, 19.94it/s]"
     ]
    },
    {
     "name": "stdout",
     "output_type": "stream",
     "text": [
      "{'Train':  best_epoch_indx:22\n",
      " auc:0.8753610577472956 \n",
      " apur:0.7874253451169861 \n",
      " f1:0.6866959648421894 \n",
      " precision:0.7484758752830517 \n",
      " recall:0.6343371715382344 \n",
      ", 'Validation':  best_epoch_indx:22\n",
      " auc:0.860052425986842 \n",
      " apur:0.75478461653854 \n",
      " f1:0.6563573883161512 \n",
      " precision:0.7198492462311558 \n",
      " recall:0.6031578947368421 \n",
      ", 'Test':  best_epoch_indx:22\n",
      " auc:0.8606051965800945 \n",
      " apur:0.7654306763954017 \n",
      " f1:0.684816166152119 \n",
      " precision:0.741190765492102 \n",
      " recall:0.6364110589462703 \n",
      "}\n",
      "=====Epoch 23\n",
      "Training...\n"
     ]
    },
    {
     "name": "stderr",
     "output_type": "stream",
     "text": [
      "Iteration: 100%|██████████| 656/656 [00:43<00:00, 15.12it/s]\n",
      "Iteration:   1%|          | 4/656 [00:00<00:20, 32.43it/s]"
     ]
    },
    {
     "name": "stdout",
     "output_type": "stream",
     "text": [
      "Evaluating...\n"
     ]
    },
    {
     "name": "stderr",
     "output_type": "stream",
     "text": [
      "Iteration: 100%|██████████| 656/656 [00:14<00:00, 44.20it/s]\n",
      "Iteration: 100%|██████████| 94/94 [00:02<00:00, 44.43it/s]\n",
      "Iteration: 100%|██████████| 188/188 [00:04<00:00, 44.51it/s]\n",
      "Iteration:   0%|          | 2/656 [00:00<00:35, 18.67it/s]"
     ]
    },
    {
     "name": "stdout",
     "output_type": "stream",
     "text": [
      "{'Train':  best_epoch_indx:23\n",
      " auc:0.8854811219684031 \n",
      " apur:0.8072613253678287 \n",
      " f1:0.7228445472284455 \n",
      " precision:0.7080560668271273 \n",
      " recall:0.7382639503985828 \n",
      ", 'Validation':  best_epoch_indx:23\n",
      " auc:0.870217927631579 \n",
      " apur:0.776472840748874 \n",
      " f1:0.6995841995841996 \n",
      " precision:0.6909650924024641 \n",
      " recall:0.708421052631579 \n",
      ", 'Test':  best_epoch_indx:23\n",
      " auc:0.8673382090446519 \n",
      " apur:0.7817914918497145 \n",
      " f1:0.6905132192846035 \n",
      " precision:0.6862442040185471 \n",
      " recall:0.6948356807511737 \n",
      "}\n",
      "=====Epoch 24\n",
      "Training...\n"
     ]
    },
    {
     "name": "stderr",
     "output_type": "stream",
     "text": [
      "Iteration: 100%|██████████| 656/656 [00:41<00:00, 15.89it/s]\n",
      "Iteration:   1%|          | 5/656 [00:00<00:14, 43.92it/s]"
     ]
    },
    {
     "name": "stdout",
     "output_type": "stream",
     "text": [
      "Evaluating...\n"
     ]
    },
    {
     "name": "stderr",
     "output_type": "stream",
     "text": [
      "Iteration: 100%|██████████| 656/656 [00:14<00:00, 44.42it/s]\n",
      "Iteration: 100%|██████████| 94/94 [00:02<00:00, 44.50it/s]\n",
      "Iteration: 100%|██████████| 188/188 [00:04<00:00, 44.50it/s]\n",
      "Iteration:   0%|          | 2/656 [00:00<00:33, 19.55it/s]"
     ]
    },
    {
     "name": "stdout",
     "output_type": "stream",
     "text": [
      "{'Train':  best_epoch_indx:24\n",
      " auc:0.8833529333141822 \n",
      " apur:0.802611580112065 \n",
      " f1:0.6832173110794263 \n",
      " precision:0.7910273839580501 \n",
      " recall:0.6012695600826691 \n",
      ", 'Validation':  best_epoch_indx:24\n",
      " auc:0.8657658305921053 \n",
      " apur:0.7572670472357728 \n",
      " f1:0.6476190476190475 \n",
      " precision:0.7452054794520548 \n",
      " recall:0.5726315789473684 \n",
      ", 'Test':  best_epoch_indx:24\n",
      " auc:0.8709178581561481 \n",
      " apur:0.7853714660825202 \n",
      " f1:0.6738095238095239 \n",
      " precision:0.7844767844767845 \n",
      " recall:0.5905059989567032 \n",
      "}\n",
      "=====Epoch 25\n",
      "Training...\n"
     ]
    },
    {
     "name": "stderr",
     "output_type": "stream",
     "text": [
      "Iteration: 100%|██████████| 656/656 [00:41<00:00, 15.71it/s]\n",
      "Iteration:   1%|          | 4/656 [00:00<00:20, 32.13it/s]"
     ]
    },
    {
     "name": "stdout",
     "output_type": "stream",
     "text": [
      "Evaluating...\n"
     ]
    },
    {
     "name": "stderr",
     "output_type": "stream",
     "text": [
      "Iteration: 100%|██████████| 656/656 [00:14<00:00, 44.00it/s]\n",
      "Iteration: 100%|██████████| 94/94 [00:02<00:00, 44.46it/s]\n",
      "Iteration: 100%|██████████| 188/188 [00:04<00:00, 44.50it/s]\n",
      "Iteration:   0%|          | 2/656 [00:00<00:39, 16.74it/s]"
     ]
    },
    {
     "name": "stdout",
     "output_type": "stream",
     "text": [
      "{'Train':  best_epoch_indx:25\n",
      " auc:0.881343919691946 \n",
      " apur:0.7981185654626811 \n",
      " f1:0.7111549253052247 \n",
      " precision:0.7311710587868392 \n",
      " recall:0.6922054915854738 \n",
      ", 'Validation':  best_epoch_indx:25\n",
      " auc:0.8673591694078946 \n",
      " apur:0.7695911383961418 \n",
      " f1:0.6768392370572206 \n",
      " precision:0.7016949152542373 \n",
      " recall:0.6536842105263158 \n",
      ", 'Test':  best_epoch_indx:25\n",
      " auc:0.868557136874249 \n",
      " apur:0.7795000501478442 \n",
      " f1:0.6980010804970287 \n",
      " precision:0.7238095238095238 \n",
      " recall:0.6739697443922796 \n",
      "}\n",
      "=====Epoch 26\n",
      "Training...\n"
     ]
    },
    {
     "name": "stderr",
     "output_type": "stream",
     "text": [
      "Iteration: 100%|██████████| 656/656 [00:40<00:00, 16.11it/s]\n",
      "Iteration:   1%|          | 4/656 [00:00<00:19, 32.66it/s]"
     ]
    },
    {
     "name": "stdout",
     "output_type": "stream",
     "text": [
      "Evaluating...\n"
     ]
    },
    {
     "name": "stderr",
     "output_type": "stream",
     "text": [
      "Iteration: 100%|██████████| 656/656 [00:14<00:00, 43.99it/s]\n",
      "Iteration: 100%|██████████| 94/94 [00:02<00:00, 44.45it/s]\n",
      "Iteration: 100%|██████████| 188/188 [00:04<00:00, 44.21it/s]\n",
      "Iteration:   0%|          | 2/656 [00:00<00:34, 18.82it/s]"
     ]
    },
    {
     "name": "stdout",
     "output_type": "stream",
     "text": [
      "{'Train':  best_epoch_indx:26\n",
      " auc:0.8812086866815885 \n",
      " apur:0.8000600839492881 \n",
      " f1:0.7116501286291804 \n",
      " precision:0.7086810130288391 \n",
      " recall:0.7146442279303218 \n",
      ", 'Validation':  best_epoch_indx:26\n",
      " auc:0.8697933799342107 \n",
      " apur:0.7768286465556291 \n",
      " f1:0.6909667194928685 \n",
      " precision:0.6935312831389183 \n",
      " recall:0.6884210526315789 \n",
      ", 'Test':  best_epoch_indx:26\n",
      " auc:0.8675019437095571 \n",
      " apur:0.7818545084278661 \n",
      " f1:0.6958803463657832 \n",
      " precision:0.7001055966209081 \n",
      " recall:0.6917057902973396 \n",
      "}\n",
      "=====Epoch 27\n",
      "Training...\n"
     ]
    },
    {
     "name": "stderr",
     "output_type": "stream",
     "text": [
      "Iteration: 100%|██████████| 656/656 [00:40<00:00, 16.35it/s]\n",
      "Iteration:   1%|          | 5/656 [00:00<00:14, 44.15it/s]"
     ]
    },
    {
     "name": "stdout",
     "output_type": "stream",
     "text": [
      "Evaluating...\n"
     ]
    },
    {
     "name": "stderr",
     "output_type": "stream",
     "text": [
      "Iteration: 100%|██████████| 656/656 [00:14<00:00, 44.43it/s]\n",
      "Iteration: 100%|██████████| 94/94 [00:02<00:00, 44.14it/s]\n",
      "Iteration: 100%|██████████| 188/188 [00:04<00:00, 44.38it/s]\n",
      "Iteration:   0%|          | 2/656 [00:00<00:34, 18.71it/s]"
     ]
    },
    {
     "name": "stdout",
     "output_type": "stream",
     "text": [
      "{'Train':  best_epoch_indx:27\n",
      " auc:0.8852857611542012 \n",
      " apur:0.8110045543237117 \n",
      " f1:0.713744881403075 \n",
      " precision:0.7487437185929648 \n",
      " recall:0.6818718630056096 \n",
      ", 'Validation':  best_epoch_indx:27\n",
      " auc:0.8736600534539474 \n",
      " apur:0.7751452596372217 \n",
      " f1:0.6879471656576776 \n",
      " precision:0.720876585928489 \n",
      " recall:0.6578947368421053 \n",
      ", 'Test':  best_epoch_indx:27\n",
      " auc:0.8738449990444548 \n",
      " apur:0.7906626789691309 \n",
      " f1:0.6956040917887751 \n",
      " precision:0.74 \n",
      " recall:0.6562336984872196 \n",
      "}\n",
      "=====Epoch 28\n",
      "Training...\n"
     ]
    },
    {
     "name": "stderr",
     "output_type": "stream",
     "text": [
      "Iteration: 100%|██████████| 656/656 [00:40<00:00, 16.13it/s]\n",
      "Iteration:   1%|          | 5/656 [00:00<00:14, 44.19it/s]"
     ]
    },
    {
     "name": "stdout",
     "output_type": "stream",
     "text": [
      "Evaluating...\n"
     ]
    },
    {
     "name": "stderr",
     "output_type": "stream",
     "text": [
      "Iteration: 100%|██████████| 656/656 [00:14<00:00, 44.41it/s]\n",
      "Iteration: 100%|██████████| 94/94 [00:02<00:00, 44.37it/s]\n",
      "Iteration: 100%|██████████| 188/188 [00:04<00:00, 44.42it/s]\n",
      "Iteration:   0%|          | 2/656 [00:00<00:35, 18.62it/s]"
     ]
    },
    {
     "name": "stdout",
     "output_type": "stream",
     "text": [
      "{'Train':  best_epoch_indx:28\n",
      " auc:0.8780263029166235 \n",
      " apur:0.7875426632932645 \n",
      " f1:0.7159026598754952 \n",
      " precision:0.6873132301005161 \n",
      " recall:0.7469737230587541 \n",
      ", 'Validation':  best_epoch_indx:28\n",
      " auc:0.8657303659539474 \n",
      " apur:0.7548853275896812 \n",
      " f1:0.6960000000000001 \n",
      " precision:0.6628571428571428 \n",
      " recall:0.7326315789473684 \n",
      ", 'Test':  best_epoch_indx:28\n",
      " auc:0.8654812916516043 \n",
      " apur:0.7643257820414617 \n",
      " f1:0.7009533366783742 \n",
      " precision:0.6752054132431126 \n",
      " recall:0.7287428273343767 \n",
      "}\n",
      "=====Epoch 29\n",
      "Training...\n"
     ]
    },
    {
     "name": "stderr",
     "output_type": "stream",
     "text": [
      "Iteration: 100%|██████████| 656/656 [00:43<00:00, 15.17it/s]\n",
      "Iteration:   1%|          | 4/656 [00:00<00:19, 32.77it/s]"
     ]
    },
    {
     "name": "stdout",
     "output_type": "stream",
     "text": [
      "Evaluating...\n"
     ]
    },
    {
     "name": "stderr",
     "output_type": "stream",
     "text": [
      "Iteration: 100%|██████████| 656/656 [00:14<00:00, 44.31it/s]\n",
      "Iteration: 100%|██████████| 94/94 [00:02<00:00, 44.06it/s]\n",
      "Iteration: 100%|██████████| 188/188 [00:04<00:00, 44.50it/s]\n",
      "Iteration:   0%|          | 2/656 [00:00<00:32, 19.89it/s]"
     ]
    },
    {
     "name": "stdout",
     "output_type": "stream",
     "text": [
      "{'Train':  best_epoch_indx:29\n",
      " auc:0.8864123548371222 \n",
      " apur:0.8106169881390701 \n",
      " f1:0.6877630028614711 \n",
      " precision:0.7999216914643696 \n",
      " recall:0.6031886625332152 \n",
      ", 'Validation':  best_epoch_indx:29\n",
      " auc:0.8706172902960527 \n",
      " apur:0.7747543138359464 \n",
      " f1:0.6538692261547691 \n",
      " precision:0.7601115760111576 \n",
      " recall:0.5736842105263158 \n",
      ", 'Test':  best_epoch_indx:29\n",
      " auc:0.8665943036198409 \n",
      " apur:0.7830200496966214 \n",
      " f1:0.6590499098015634 \n",
      " precision:0.7778566359119943 \n",
      " recall:0.5717266562336984 \n",
      "}\n",
      "=====Epoch 30\n",
      "Training...\n"
     ]
    },
    {
     "name": "stderr",
     "output_type": "stream",
     "text": [
      "Iteration: 100%|██████████| 656/656 [00:43<00:00, 15.09it/s]\n",
      "Iteration:   1%|          | 4/656 [00:00<00:20, 31.32it/s]"
     ]
    },
    {
     "name": "stdout",
     "output_type": "stream",
     "text": [
      "Evaluating...\n"
     ]
    },
    {
     "name": "stderr",
     "output_type": "stream",
     "text": [
      "Iteration: 100%|██████████| 656/656 [00:14<00:00, 43.99it/s]\n",
      "Iteration: 100%|██████████| 94/94 [00:02<00:00, 44.06it/s]\n",
      "Iteration: 100%|██████████| 188/188 [00:04<00:00, 44.46it/s]\n",
      "Iteration:   0%|          | 2/656 [00:00<00:32, 19.93it/s]"
     ]
    },
    {
     "name": "stdout",
     "output_type": "stream",
     "text": [
      "{'Train':  best_epoch_indx:30\n",
      " auc:0.8649942274399067 \n",
      " apur:0.7863572163413506 \n",
      " f1:0.7024383617469266 \n",
      " precision:0.6505220782488363 \n",
      " recall:0.7633599055211101 \n",
      ", 'Validation':  best_epoch_indx:30\n",
      " auc:0.8487160773026315 \n",
      " apur:0.7557323790049149 \n",
      " f1:0.6825473991249392 \n",
      " precision:0.6341463414634146 \n",
      " recall:0.7389473684210527 \n",
      ", 'Test':  best_epoch_indx:30\n",
      " auc:0.8502506419550123 \n",
      " apur:0.7697117510805233 \n",
      " f1:0.6816100265124125 \n",
      " precision:0.6335125448028673 \n",
      " recall:0.7376108502869066 \n",
      "}\n",
      "=====Epoch 31\n",
      "Training...\n"
     ]
    },
    {
     "name": "stderr",
     "output_type": "stream",
     "text": [
      "Iteration: 100%|██████████| 656/656 [00:42<00:00, 15.37it/s]\n",
      "Iteration:   1%|          | 4/656 [00:00<00:20, 31.24it/s]"
     ]
    },
    {
     "name": "stdout",
     "output_type": "stream",
     "text": [
      "Evaluating...\n"
     ]
    },
    {
     "name": "stderr",
     "output_type": "stream",
     "text": [
      "Iteration: 100%|██████████| 656/656 [00:14<00:00, 43.98it/s]\n",
      "Iteration: 100%|██████████| 94/94 [00:02<00:00, 44.36it/s]\n",
      "Iteration: 100%|██████████| 188/188 [00:04<00:00, 44.50it/s]\n",
      "Iteration:   0%|          | 2/656 [00:00<00:34, 18.82it/s]"
     ]
    },
    {
     "name": "stdout",
     "output_type": "stream",
     "text": [
      "{'Train':  best_epoch_indx:31\n",
      " auc:0.8959889829904085 \n",
      " apur:0.8215515157233071 \n",
      " f1:0.7302219273022192 \n",
      " precision:0.7294152305199587 \n",
      " recall:0.7310304103926779 \n",
      ", 'Validation':  best_epoch_indx:31\n",
      " auc:0.8875986842105263 \n",
      " apur:0.7953426280593978 \n",
      " f1:0.7034482758620689 \n",
      " precision:0.7090909090909091 \n",
      " recall:0.6978947368421052 \n",
      ", 'Test':  best_epoch_indx:31\n",
      " auc:0.8815746823227707 \n",
      " apur:0.7982135949216838 \n",
      " f1:0.7111228255139695 \n",
      " precision:0.7187000532765051 \n",
      " recall:0.7037037037037037 \n",
      "}\n",
      "=====Epoch 32\n",
      "Training...\n"
     ]
    },
    {
     "name": "stderr",
     "output_type": "stream",
     "text": [
      "Iteration: 100%|██████████| 656/656 [00:42<00:00, 15.27it/s]\n",
      "Iteration:   1%|          | 4/656 [00:00<00:20, 31.33it/s]"
     ]
    },
    {
     "name": "stdout",
     "output_type": "stream",
     "text": [
      "Evaluating...\n"
     ]
    },
    {
     "name": "stderr",
     "output_type": "stream",
     "text": [
      "Iteration: 100%|██████████| 656/656 [00:14<00:00, 43.96it/s]\n",
      "Iteration: 100%|██████████| 94/94 [00:02<00:00, 44.57it/s]\n",
      "Iteration: 100%|██████████| 188/188 [00:04<00:00, 44.69it/s]\n",
      "Iteration:   0%|          | 3/656 [00:00<00:33, 19.64it/s]"
     ]
    },
    {
     "name": "stdout",
     "output_type": "stream",
     "text": [
      "{'Train':  best_epoch_indx:32\n",
      " auc:0.8895086146404375 \n",
      " apur:0.8132161563611391 \n",
      " f1:0.6914036265950303 \n",
      " precision:0.8014791747761775 \n",
      " recall:0.6079126070268674 \n",
      ", 'Validation':  best_epoch_indx:32\n",
      " auc:0.872991879111842 \n",
      " apur:0.7755226296000163 \n",
      " f1:0.660205935796487 \n",
      " precision:0.7774607703281027 \n",
      " recall:0.5736842105263158 \n",
      ", 'Test':  best_epoch_indx:32\n",
      " auc:0.8699633362268318 \n",
      " apur:0.784814713934841 \n",
      " f1:0.6648697214734952 \n",
      " precision:0.7805907172995781 \n",
      " recall:0.5790297339593115 \n",
      "}\n",
      "=====Epoch 33\n",
      "Training...\n"
     ]
    },
    {
     "name": "stderr",
     "output_type": "stream",
     "text": [
      "Iteration: 100%|██████████| 656/656 [00:41<00:00, 15.94it/s]\n",
      "Iteration:   1%|          | 5/656 [00:00<00:14, 43.75it/s]"
     ]
    },
    {
     "name": "stdout",
     "output_type": "stream",
     "text": [
      "Evaluating...\n"
     ]
    },
    {
     "name": "stderr",
     "output_type": "stream",
     "text": [
      "Iteration: 100%|██████████| 656/656 [00:14<00:00, 44.17it/s]\n",
      "Iteration: 100%|██████████| 94/94 [00:02<00:00, 44.24it/s]\n",
      "Iteration: 100%|██████████| 188/188 [00:04<00:00, 44.34it/s]\n",
      "Iteration:   0%|          | 2/656 [00:00<00:35, 18.45it/s]"
     ]
    },
    {
     "name": "stdout",
     "output_type": "stream",
     "text": [
      "{'Train':  best_epoch_indx:33\n",
      " auc:0.8917877462133301 \n",
      " apur:0.818179080457024 \n",
      " f1:0.6536207052033547 \n",
      " precision:0.8398609501738122 \n",
      " recall:0.5349867139061116 \n",
      ", 'Validation':  best_epoch_indx:33\n",
      " auc:0.8712366365131579 \n",
      " apur:0.7756966588308012 \n",
      " f1:0.6096605744125326 \n",
      " precision:0.802405498281787 \n",
      " recall:0.49157894736842106 \n",
      ", 'Test':  best_epoch_indx:33\n",
      " auc:0.8747699719834638 \n",
      " apur:0.7968626988199494 \n",
      " f1:0.6394557823129252 \n",
      " precision:0.8435897435897436 \n",
      " recall:0.514866979655712 \n",
      "}\n",
      "=====Epoch 34\n",
      "Training...\n"
     ]
    },
    {
     "name": "stderr",
     "output_type": "stream",
     "text": [
      "Iteration: 100%|██████████| 656/656 [00:40<00:00, 16.15it/s]\n",
      "Iteration:   1%|          | 4/656 [00:00<00:20, 32.34it/s]"
     ]
    },
    {
     "name": "stdout",
     "output_type": "stream",
     "text": [
      "Evaluating...\n"
     ]
    },
    {
     "name": "stderr",
     "output_type": "stream",
     "text": [
      "Iteration: 100%|██████████| 656/656 [00:14<00:00, 43.90it/s]\n",
      "Iteration: 100%|██████████| 94/94 [00:02<00:00, 44.42it/s]\n",
      "Iteration: 100%|██████████| 188/188 [00:04<00:00, 44.46it/s]\n",
      "Iteration:   0%|          | 2/656 [00:00<00:32, 19.85it/s]"
     ]
    },
    {
     "name": "stdout",
     "output_type": "stream",
     "text": [
      "{'Train':  best_epoch_indx:34\n",
      " auc:0.8973591010324986 \n",
      " apur:0.828348625802103 \n",
      " f1:0.7371208109539299 \n",
      " precision:0.7559348332040341 \n",
      " recall:0.7192205491585474 \n",
      ", 'Validation':  best_epoch_indx:34\n",
      " auc:0.8826341488486843 \n",
      " apur:0.7920278249855117 \n",
      " f1:0.7053034445051941 \n",
      " precision:0.7337883959044369 \n",
      " recall:0.6789473684210526 \n",
      ", 'Test':  best_epoch_indx:34\n",
      " auc:0.8826091528189353 \n",
      " apur:0.8071060397419872 \n",
      " f1:0.7181136120042871 \n",
      " precision:0.7382920110192838 \n",
      " recall:0.6990088680229525 \n",
      "}\n",
      "=====Epoch 35\n",
      "Training...\n"
     ]
    },
    {
     "name": "stderr",
     "output_type": "stream",
     "text": [
      "Iteration: 100%|██████████| 656/656 [00:42<00:00, 15.46it/s]\n",
      "Iteration:   1%|          | 5/656 [00:00<00:14, 44.28it/s]"
     ]
    },
    {
     "name": "stdout",
     "output_type": "stream",
     "text": [
      "Evaluating...\n"
     ]
    },
    {
     "name": "stderr",
     "output_type": "stream",
     "text": [
      "Iteration: 100%|██████████| 656/656 [00:14<00:00, 44.49it/s]\n",
      "Iteration: 100%|██████████| 94/94 [00:02<00:00, 44.30it/s]\n",
      "Iteration: 100%|██████████| 188/188 [00:04<00:00, 44.51it/s]\n",
      "Iteration:   0%|          | 3/656 [00:00<00:31, 20.85it/s]"
     ]
    },
    {
     "name": "stdout",
     "output_type": "stream",
     "text": [
      "{'Train':  best_epoch_indx:35\n",
      " auc:0.897719753563905 \n",
      " apur:0.830233877652742 \n",
      " f1:0.7331091409354938 \n",
      " precision:0.7600633914421553 \n",
      " recall:0.7080011809861234 \n",
      ", 'Validation':  best_epoch_indx:35\n",
      " auc:0.8812294407894737 \n",
      " apur:0.7914333606855796 \n",
      " f1:0.6987951807228915 \n",
      " precision:0.728310502283105 \n",
      " recall:0.671578947368421 \n",
      ", 'Test':  best_epoch_indx:35\n",
      " auc:0.8864648483420459 \n",
      " apur:0.8150191855808879 \n",
      " f1:0.7248908296943231 \n",
      " precision:0.7601602747567258 \n",
      " recall:0.6927490871152843 \n",
      "}\n",
      "=====Epoch 36\n",
      "Training...\n"
     ]
    },
    {
     "name": "stderr",
     "output_type": "stream",
     "text": [
      "Iteration: 100%|██████████| 656/656 [00:41<00:00, 15.96it/s]\n",
      "Iteration:   1%|          | 4/656 [00:00<00:20, 31.30it/s]"
     ]
    },
    {
     "name": "stdout",
     "output_type": "stream",
     "text": [
      "Evaluating...\n"
     ]
    },
    {
     "name": "stderr",
     "output_type": "stream",
     "text": [
      "Iteration: 100%|██████████| 656/656 [00:14<00:00, 43.89it/s]\n",
      "Iteration: 100%|██████████| 94/94 [00:02<00:00, 44.47it/s]\n",
      "Iteration: 100%|██████████| 188/188 [00:04<00:00, 44.41it/s]\n",
      "Iteration:   0%|          | 2/656 [00:00<00:33, 19.33it/s]"
     ]
    },
    {
     "name": "stdout",
     "output_type": "stream",
     "text": [
      "{'Train':  best_epoch_indx:36\n",
      " auc:0.8969580152284702 \n",
      " apur:0.8257409709631078 \n",
      " f1:0.7284335334802766 \n",
      " precision:0.7507441641861193 \n",
      " recall:0.7074106879244169 \n",
      ", 'Validation':  best_epoch_indx:36\n",
      " auc:0.8847938939144737 \n",
      " apur:0.7947874190338575 \n",
      " f1:0.6951813752030319 \n",
      " precision:0.7157190635451505 \n",
      " recall:0.6757894736842105 \n",
      ", 'Test':  best_epoch_indx:36\n",
      " auc:0.884853852740624 \n",
      " apur:0.8086397131193992 \n",
      " f1:0.7174500270124258 \n",
      " precision:0.7439775910364146 \n",
      " recall:0.6927490871152843 \n",
      "}\n",
      "=====Epoch 37\n",
      "Training...\n"
     ]
    },
    {
     "name": "stderr",
     "output_type": "stream",
     "text": [
      "Iteration: 100%|██████████| 656/656 [00:43<00:00, 15.15it/s]\n",
      "Iteration:   1%|          | 4/656 [00:00<00:19, 32.78it/s]"
     ]
    },
    {
     "name": "stdout",
     "output_type": "stream",
     "text": [
      "Evaluating...\n"
     ]
    },
    {
     "name": "stderr",
     "output_type": "stream",
     "text": [
      "Iteration: 100%|██████████| 656/656 [00:15<00:00, 43.52it/s]\n",
      "Iteration: 100%|██████████| 94/94 [00:02<00:00, 44.44it/s]\n",
      "Iteration: 100%|██████████| 188/188 [00:04<00:00, 44.39it/s]\n",
      "Iteration:   0%|          | 2/656 [00:00<00:34, 18.71it/s]"
     ]
    },
    {
     "name": "stdout",
     "output_type": "stream",
     "text": [
      "{'Train':  best_epoch_indx:37\n",
      " auc:0.902427790736374 \n",
      " apur:0.8368058398395504 \n",
      " f1:0.7494877748941402 \n",
      " precision:0.6973817996949669 \n",
      " recall:0.8100088573959257 \n",
      ", 'Validation':  best_epoch_indx:37\n",
      " auc:0.8882334498355264 \n",
      " apur:0.8024896165885808 \n",
      " f1:0.7174975562072337 \n",
      " precision:0.6697080291970803 \n",
      " recall:0.7726315789473684 \n",
      ", 'Test':  best_epoch_indx:37\n",
      " auc:0.8894825549668782 \n",
      " apur:0.8196051068152342 \n",
      " f1:0.7301433082341511 \n",
      " precision:0.6831818181818182 \n",
      " recall:0.784037558685446 \n",
      "}\n",
      "=====Epoch 38\n",
      "Training...\n"
     ]
    },
    {
     "name": "stderr",
     "output_type": "stream",
     "text": [
      "Iteration: 100%|██████████| 656/656 [00:39<00:00, 16.41it/s]\n",
      "Iteration:   1%|          | 5/656 [00:00<00:14, 44.54it/s]"
     ]
    },
    {
     "name": "stdout",
     "output_type": "stream",
     "text": [
      "Evaluating...\n"
     ]
    },
    {
     "name": "stderr",
     "output_type": "stream",
     "text": [
      "Iteration: 100%|██████████| 656/656 [00:14<00:00, 44.52it/s]\n",
      "Iteration: 100%|██████████| 94/94 [00:02<00:00, 44.55it/s]\n",
      "Iteration: 100%|██████████| 188/188 [00:04<00:00, 44.32it/s]\n",
      "Iteration:   0%|          | 2/656 [00:00<00:35, 18.47it/s]"
     ]
    },
    {
     "name": "stdout",
     "output_type": "stream",
     "text": [
      "{'Train':  best_epoch_indx:38\n",
      " auc:0.9026809415704456 \n",
      " apur:0.8373997375465818 \n",
      " f1:0.7473433094773368 \n",
      " precision:0.7322566935826604 \n",
      " recall:0.7630646589902569 \n",
      ", 'Validation':  best_epoch_indx:38\n",
      " auc:0.8877184416118421 \n",
      " apur:0.8012839869885039 \n",
      " f1:0.721277691911386 \n",
      " precision:0.7063572149344097 \n",
      " recall:0.7368421052631579 \n",
      ", 'Test':  best_epoch_indx:38\n",
      " auc:0.8861060391740303 \n",
      " apur:0.8153598115400973 \n",
      " f1:0.7208408100487054 \n",
      " precision:0.7086693548387096 \n",
      " recall:0.7334376630151278 \n",
      "}\n",
      "=====Epoch 39\n",
      "Training...\n"
     ]
    },
    {
     "name": "stderr",
     "output_type": "stream",
     "text": [
      "Iteration: 100%|██████████| 656/656 [00:42<00:00, 15.32it/s]\n",
      "Iteration:   1%|          | 4/656 [00:00<00:19, 32.68it/s]"
     ]
    },
    {
     "name": "stdout",
     "output_type": "stream",
     "text": [
      "Evaluating...\n"
     ]
    },
    {
     "name": "stderr",
     "output_type": "stream",
     "text": [
      "Iteration: 100%|██████████| 656/656 [00:14<00:00, 44.15it/s]\n",
      "Iteration: 100%|██████████| 94/94 [00:02<00:00, 44.39it/s]\n",
      "Iteration: 100%|██████████| 188/188 [00:04<00:00, 44.52it/s]\n",
      "Iteration:   0%|          | 2/656 [00:00<00:34, 18.77it/s]"
     ]
    },
    {
     "name": "stdout",
     "output_type": "stream",
     "text": [
      "{'Train':  best_epoch_indx:39\n",
      " auc:0.8921897983014017 \n",
      " apur:0.8176268874411587 \n",
      " f1:0.7178690688825037 \n",
      " precision:0.757332459446174 \n",
      " recall:0.6823147328018896 \n",
      ", 'Validation':  best_epoch_indx:39\n",
      " auc:0.8774419202302632 \n",
      " apur:0.7810814524122778 \n",
      " f1:0.6923076923076923 \n",
      " precision:0.7241379310344828 \n",
      " recall:0.6631578947368421 \n",
      ", 'Test':  best_epoch_indx:39\n",
      " auc:0.8785569756979381 \n",
      " apur:0.7957328487168397 \n",
      " f1:0.7059800664451826 \n",
      " precision:0.7522123893805309 \n",
      " recall:0.6651017214397497 \n",
      "}\n",
      "=====Epoch 40\n",
      "Training...\n"
     ]
    },
    {
     "name": "stderr",
     "output_type": "stream",
     "text": [
      "Iteration: 100%|██████████| 656/656 [00:41<00:00, 15.85it/s]\n",
      "Iteration:   1%|          | 4/656 [00:00<00:19, 32.82it/s]"
     ]
    },
    {
     "name": "stdout",
     "output_type": "stream",
     "text": [
      "Evaluating...\n"
     ]
    },
    {
     "name": "stderr",
     "output_type": "stream",
     "text": [
      "Iteration: 100%|██████████| 656/656 [00:14<00:00, 44.02it/s]\n",
      "Iteration: 100%|██████████| 94/94 [00:02<00:00, 44.33it/s]\n",
      "Iteration: 100%|██████████| 188/188 [00:04<00:00, 44.58it/s]\n",
      "Iteration:   0%|          | 2/656 [00:00<00:34, 19.01it/s]"
     ]
    },
    {
     "name": "stdout",
     "output_type": "stream",
     "text": [
      "{'Train':  best_epoch_indx:40\n",
      " auc:0.9008967084749718 \n",
      " apur:0.8349702207431917 \n",
      " f1:0.7451390966198025 \n",
      " precision:0.7550772961503486 \n",
      " recall:0.7354591083554768 \n",
      ", 'Validation':  best_epoch_indx:40\n",
      " auc:0.8852138157894738 \n",
      " apur:0.8053527124036218 \n",
      " f1:0.7135250266240682 \n",
      " precision:0.7219827586206896 \n",
      " recall:0.7052631578947368 \n",
      ", 'Test':  best_epoch_indx:40\n",
      " auc:0.8908476927355279 \n",
      " apur:0.8194866720656532 \n",
      " f1:0.7208366854384554 \n",
      " precision:0.7417218543046358 \n",
      " recall:0.701095461658842 \n",
      "}\n",
      "=====Epoch 41\n",
      "Training...\n"
     ]
    },
    {
     "name": "stderr",
     "output_type": "stream",
     "text": [
      "Iteration: 100%|██████████| 656/656 [00:41<00:00, 15.81it/s]\n",
      "Iteration:   1%|          | 4/656 [00:00<00:19, 32.77it/s]"
     ]
    },
    {
     "name": "stdout",
     "output_type": "stream",
     "text": [
      "Evaluating...\n"
     ]
    },
    {
     "name": "stderr",
     "output_type": "stream",
     "text": [
      "Iteration: 100%|██████████| 656/656 [00:14<00:00, 44.15it/s]\n",
      "Iteration: 100%|██████████| 94/94 [00:02<00:00, 44.45it/s]\n",
      "Iteration: 100%|██████████| 188/188 [00:04<00:00, 44.52it/s]\n",
      "Iteration:   0%|          | 2/656 [00:00<00:39, 16.56it/s]"
     ]
    },
    {
     "name": "stdout",
     "output_type": "stream",
     "text": [
      "{'Train':  best_epoch_indx:41\n",
      " auc:0.8995013579511751 \n",
      " apur:0.833787338469603 \n",
      " f1:0.7079394294319418 \n",
      " precision:0.8169530797451245 \n",
      " recall:0.6245940360200768 \n",
      ", 'Validation':  best_epoch_indx:41\n",
      " auc:0.8864031661184212 \n",
      " apur:0.8064434410925745 \n",
      " f1:0.676737160120846 \n",
      " precision:0.7943262411347518 \n",
      " recall:0.5894736842105263 \n",
      ", 'Test':  best_epoch_indx:41\n",
      " auc:0.8831746130425406 \n",
      " apur:0.812024935040143 \n",
      " f1:0.6885637503732458 \n",
      " precision:0.8051675977653632 \n",
      " recall:0.6014606155451225 \n",
      "}\n",
      "=====Epoch 42\n",
      "Training...\n"
     ]
    },
    {
     "name": "stderr",
     "output_type": "stream",
     "text": [
      "Iteration: 100%|██████████| 656/656 [00:41<00:00, 15.82it/s]\n",
      "Iteration:   1%|          | 4/656 [00:00<00:19, 32.84it/s]"
     ]
    },
    {
     "name": "stdout",
     "output_type": "stream",
     "text": [
      "Evaluating...\n"
     ]
    },
    {
     "name": "stderr",
     "output_type": "stream",
     "text": [
      "Iteration: 100%|██████████| 656/656 [00:14<00:00, 44.10it/s]\n",
      "Iteration: 100%|██████████| 94/94 [00:02<00:00, 44.56it/s]\n",
      "Iteration: 100%|██████████| 188/188 [00:04<00:00, 44.66it/s]\n",
      "Iteration:   0%|          | 2/656 [00:00<00:35, 18.24it/s]"
     ]
    },
    {
     "name": "stdout",
     "output_type": "stream",
     "text": [
      "{'Train':  best_epoch_indx:42\n",
      " auc:0.9078964077424413 \n",
      " apur:0.8476452047466239 \n",
      " f1:0.7346246973365617 \n",
      " precision:0.8103632478632479 \n",
      " recall:0.6718334809565988 \n",
      ", 'Validation':  best_epoch_indx:42\n",
      " auc:0.8953322882401314 \n",
      " apur:0.8149107156018809 \n",
      " f1:0.7011627906976743 \n",
      " precision:0.7831168831168831 \n",
      " recall:0.6347368421052632 \n",
      ", 'Test':  best_epoch_indx:42\n",
      " auc:0.8903059612465631 \n",
      " apur:0.8233471714723598 \n",
      " f1:0.7105868814729575 \n",
      " precision:0.7921744708146248 \n",
      " recall:0.6442357850808555 \n",
      "}\n",
      "=====Epoch 43\n",
      "Training...\n"
     ]
    },
    {
     "name": "stderr",
     "output_type": "stream",
     "text": [
      "Iteration: 100%|██████████| 656/656 [00:42<00:00, 15.57it/s]\n",
      "Iteration:   1%|          | 4/656 [00:00<00:20, 31.44it/s]"
     ]
    },
    {
     "name": "stdout",
     "output_type": "stream",
     "text": [
      "Evaluating...\n"
     ]
    },
    {
     "name": "stderr",
     "output_type": "stream",
     "text": [
      "Iteration: 100%|██████████| 656/656 [00:14<00:00, 43.97it/s]\n",
      "Iteration: 100%|██████████| 94/94 [00:02<00:00, 44.47it/s]\n",
      "Iteration: 100%|██████████| 188/188 [00:04<00:00, 44.50it/s]\n",
      "Iteration:   0%|          | 3/656 [00:00<00:33, 19.58it/s]"
     ]
    },
    {
     "name": "stdout",
     "output_type": "stream",
     "text": [
      "{'Train':  best_epoch_indx:43\n",
      " auc:0.901990947227675 \n",
      " apur:0.8366603187254589 \n",
      " f1:0.6848152731129574 \n",
      " precision:0.8533039647577092 \n",
      " recall:0.5718925302627694 \n",
      ", 'Validation':  best_epoch_indx:43\n",
      " auc:0.8888355777138158 \n",
      " apur:0.8063162517494041 \n",
      " f1:0.6666666666666667 \n",
      " precision:0.8145896656534954 \n",
      " recall:0.5642105263157895 \n",
      ", 'Test':  best_epoch_indx:43\n",
      " auc:0.8863475478047659 \n",
      " apur:0.8162711908507231 \n",
      " f1:0.6712543009071005 \n",
      " precision:0.83828125 \n",
      " recall:0.5597287428273344 \n",
      "}\n",
      "=====Epoch 44\n",
      "Training...\n"
     ]
    },
    {
     "name": "stderr",
     "output_type": "stream",
     "text": [
      "Iteration: 100%|██████████| 656/656 [00:40<00:00, 16.04it/s]\n",
      "Iteration:   1%|          | 5/656 [00:00<00:14, 44.63it/s]"
     ]
    },
    {
     "name": "stdout",
     "output_type": "stream",
     "text": [
      "Evaluating...\n"
     ]
    },
    {
     "name": "stderr",
     "output_type": "stream",
     "text": [
      "Iteration: 100%|██████████| 656/656 [00:14<00:00, 43.99it/s]\n",
      "Iteration: 100%|██████████| 94/94 [00:02<00:00, 44.43it/s]\n",
      "Iteration: 100%|██████████| 188/188 [00:04<00:00, 44.38it/s]\n",
      "Iteration:   0%|          | 3/656 [00:00<00:32, 20.41it/s]"
     ]
    },
    {
     "name": "stdout",
     "output_type": "stream",
     "text": [
      "{'Train':  best_epoch_indx:44\n",
      " auc:0.9054999401942908 \n",
      " apur:0.8405553110442993 \n",
      " f1:0.7452743902439024 \n",
      " precision:0.7704065553104318 \n",
      " recall:0.7217301446708001 \n",
      ", 'Validation':  best_epoch_indx:44\n",
      " auc:0.8911528577302631 \n",
      " apur:0.8038580921834279 \n",
      " f1:0.7168576104746317 \n",
      " precision:0.7440543601359003 \n",
      " recall:0.6915789473684211 \n",
      ", 'Test':  best_epoch_indx:44\n",
      " auc:0.8881440880401293 \n",
      " apur:0.8176945653466929 \n",
      " f1:0.7217391304347827 \n",
      " precision:0.7532614861032332 \n",
      " recall:0.6927490871152843 \n",
      "}\n",
      "=====Epoch 45\n",
      "Training...\n"
     ]
    },
    {
     "name": "stderr",
     "output_type": "stream",
     "text": [
      "Iteration: 100%|██████████| 656/656 [00:40<00:00, 16.23it/s]\n",
      "Iteration:   1%|          | 5/656 [00:00<00:14, 44.47it/s]"
     ]
    },
    {
     "name": "stdout",
     "output_type": "stream",
     "text": [
      "Evaluating...\n"
     ]
    },
    {
     "name": "stderr",
     "output_type": "stream",
     "text": [
      "Iteration: 100%|██████████| 656/656 [00:14<00:00, 44.43it/s]\n",
      "Iteration: 100%|██████████| 94/94 [00:02<00:00, 44.35it/s]\n",
      "Iteration: 100%|██████████| 188/188 [00:04<00:00, 44.22it/s]\n",
      "Iteration:   0%|          | 2/656 [00:00<00:34, 18.94it/s]"
     ]
    },
    {
     "name": "stdout",
     "output_type": "stream",
     "text": [
      "{'Train':  best_epoch_indx:45\n",
      " auc:0.8885280493347643 \n",
      " apur:0.8168614752792983 \n",
      " f1:0.7017658600392414 \n",
      " precision:0.786368633198974 \n",
      " recall:0.6335990552111013 \n",
      ", 'Validation':  best_epoch_indx:45\n",
      " auc:0.8796186266447369 \n",
      " apur:0.7910947773099636 \n",
      " f1:0.6948955916473318 \n",
      " precision:0.7739018087855297 \n",
      " recall:0.6305263157894737 \n",
      ", 'Test':  best_epoch_indx:45\n",
      " auc:0.8724295896169709 \n",
      " apur:0.7952568447243302 \n",
      " f1:0.6882473024205307 \n",
      " precision:0.7804232804232805 \n",
      " recall:0.6155451225873761 \n",
      "}\n",
      "=====Epoch 46\n",
      "Training...\n"
     ]
    },
    {
     "name": "stderr",
     "output_type": "stream",
     "text": [
      "Iteration: 100%|██████████| 656/656 [00:42<00:00, 15.39it/s]\n",
      "Iteration:   1%|          | 4/656 [00:00<00:20, 31.43it/s]"
     ]
    },
    {
     "name": "stdout",
     "output_type": "stream",
     "text": [
      "Evaluating...\n"
     ]
    },
    {
     "name": "stderr",
     "output_type": "stream",
     "text": [
      "Iteration: 100%|██████████| 656/656 [00:14<00:00, 44.00it/s]\n",
      "Iteration: 100%|██████████| 94/94 [00:02<00:00, 44.26it/s]\n",
      "Iteration: 100%|██████████| 188/188 [00:04<00:00, 44.54it/s]\n",
      "Iteration:   0%|          | 2/656 [00:00<00:35, 18.50it/s]"
     ]
    },
    {
     "name": "stdout",
     "output_type": "stream",
     "text": [
      "{'Train':  best_epoch_indx:46\n",
      " auc:0.9021945786020743 \n",
      " apur:0.834296708720761 \n",
      " f1:0.7400894413704238 \n",
      " precision:0.7605546035207976 \n",
      " recall:0.7206967818128137 \n",
      ", 'Validation':  best_epoch_indx:46\n",
      " auc:0.8949342105263157 \n",
      " apur:0.8142681950852848 \n",
      " f1:0.7193548387096776 \n",
      " precision:0.7351648351648352 \n",
      " recall:0.7042105263157895 \n",
      ", 'Test':  best_epoch_indx:46\n",
      " auc:0.8858142588844604 \n",
      " apur:0.8105584777887705 \n",
      " f1:0.7143628509719221 \n",
      " precision:0.7403469501958589 \n",
      " recall:0.6901408450704225 \n",
      "}\n",
      "=====Epoch 47\n",
      "Training...\n"
     ]
    },
    {
     "name": "stderr",
     "output_type": "stream",
     "text": [
      "Iteration: 100%|██████████| 656/656 [00:41<00:00, 15.97it/s]\n",
      "Iteration:   1%|          | 5/656 [00:00<00:14, 44.03it/s]"
     ]
    },
    {
     "name": "stdout",
     "output_type": "stream",
     "text": [
      "Evaluating...\n"
     ]
    },
    {
     "name": "stderr",
     "output_type": "stream",
     "text": [
      "Iteration: 100%|██████████| 656/656 [00:14<00:00, 44.49it/s]\n",
      "Iteration: 100%|██████████| 94/94 [00:02<00:00, 44.49it/s]\n",
      "Iteration: 100%|██████████| 188/188 [00:04<00:00, 44.48it/s]\n",
      "Iteration:   0%|          | 2/656 [00:00<00:35, 18.50it/s]"
     ]
    },
    {
     "name": "stdout",
     "output_type": "stream",
     "text": [
      "{'Train':  best_epoch_indx:47\n",
      " auc:0.9072474856665789 \n",
      " apur:0.8446048158778918 \n",
      " f1:0.7489413188142771 \n",
      " precision:0.7677519379844961 \n",
      " recall:0.7310304103926779 \n",
      ", 'Validation':  best_epoch_indx:47\n",
      " auc:0.8905268297697368 \n",
      " apur:0.8100227260425014 \n",
      " f1:0.7225527312060572 \n",
      " precision:0.743047830923248 \n",
      " recall:0.7031578947368421 \n",
      ", 'Test':  best_epoch_indx:47\n",
      " auc:0.8894032459885647 \n",
      " apur:0.8192572799217628 \n",
      " f1:0.7299703264094956 \n",
      " precision:0.7558659217877095 \n",
      " recall:0.7057902973395931 \n",
      "}\n",
      "=====Epoch 48\n",
      "Training...\n"
     ]
    },
    {
     "name": "stderr",
     "output_type": "stream",
     "text": [
      "Iteration: 100%|██████████| 656/656 [00:44<00:00, 14.89it/s]\n",
      "Iteration:   1%|          | 4/656 [00:00<00:20, 31.27it/s]"
     ]
    },
    {
     "name": "stdout",
     "output_type": "stream",
     "text": [
      "Evaluating...\n"
     ]
    },
    {
     "name": "stderr",
     "output_type": "stream",
     "text": [
      "Iteration: 100%|██████████| 656/656 [00:14<00:00, 43.80it/s]\n",
      "Iteration: 100%|██████████| 94/94 [00:02<00:00, 44.47it/s]\n",
      "Iteration: 100%|██████████| 188/188 [00:04<00:00, 44.48it/s]\n",
      "Iteration:   0%|          | 2/656 [00:00<00:40, 16.26it/s]"
     ]
    },
    {
     "name": "stdout",
     "output_type": "stream",
     "text": [
      "{'Train':  best_epoch_indx:48\n",
      " auc:0.9108656947054451 \n",
      " apur:0.8520786766797952 \n",
      " f1:0.7600735190159763 \n",
      " precision:0.7292457948996202 \n",
      " recall:0.7936226749335695 \n",
      ", 'Validation':  best_epoch_indx:48\n",
      " auc:0.8986353824013158 \n",
      " apur:0.8225812220203106 \n",
      " f1:0.7391304347826088 \n",
      " precision:0.7110894941634242 \n",
      " recall:0.7694736842105263 \n",
      ", 'Test':  best_epoch_indx:48\n",
      " auc:0.8968955140027676 \n",
      " apur:0.8325787897958223 \n",
      " f1:0.7378296146044624 \n",
      " precision:0.7178095707942772 \n",
      " recall:0.758998435054773 \n",
      "}\n",
      "=====Epoch 49\n",
      "Training...\n"
     ]
    },
    {
     "name": "stderr",
     "output_type": "stream",
     "text": [
      "Iteration: 100%|██████████| 656/656 [00:42<00:00, 15.56it/s]\n",
      "Iteration:   1%|          | 5/656 [00:00<00:14, 43.59it/s]"
     ]
    },
    {
     "name": "stdout",
     "output_type": "stream",
     "text": [
      "Evaluating...\n"
     ]
    },
    {
     "name": "stderr",
     "output_type": "stream",
     "text": [
      "Iteration: 100%|██████████| 656/656 [00:14<00:00, 44.41it/s]\n",
      "Iteration: 100%|██████████| 94/94 [00:02<00:00, 44.39it/s]\n",
      "Iteration: 100%|██████████| 188/188 [00:04<00:00, 44.53it/s]\n",
      "Iteration:   0%|          | 2/656 [00:00<00:33, 19.47it/s]"
     ]
    },
    {
     "name": "stdout",
     "output_type": "stream",
     "text": [
      "{'Train':  best_epoch_indx:49\n",
      " auc:0.9050150370421352 \n",
      " apur:0.8415786343961493 \n",
      " f1:0.7421724004638578 \n",
      " precision:0.7790943028729103 \n",
      " recall:0.70859167404783 \n",
      ", 'Validation':  best_epoch_indx:49\n",
      " auc:0.8884719366776317 \n",
      " apur:0.8085870611030628 \n",
      " f1:0.7082405345211581 \n",
      " precision:0.75177304964539 \n",
      " recall:0.6694736842105263 \n",
      ", 'Test':  best_epoch_indx:49\n",
      " auc:0.8886539040612081 \n",
      " apur:0.8213356585166418 \n",
      " f1:0.7239366138448707 \n",
      " precision:0.775 \n",
      " recall:0.6791862284820032 \n",
      "}\n",
      "=====Epoch 50\n",
      "Training...\n"
     ]
    },
    {
     "name": "stderr",
     "output_type": "stream",
     "text": [
      "Iteration: 100%|██████████| 656/656 [00:41<00:00, 15.66it/s]\n",
      "Iteration:   1%|          | 5/656 [00:00<00:14, 44.17it/s]"
     ]
    },
    {
     "name": "stdout",
     "output_type": "stream",
     "text": [
      "Evaluating...\n"
     ]
    },
    {
     "name": "stderr",
     "output_type": "stream",
     "text": [
      "Iteration: 100%|██████████| 656/656 [00:14<00:00, 44.37it/s]\n",
      "Iteration: 100%|██████████| 94/94 [00:02<00:00, 44.40it/s]\n",
      "Iteration: 100%|██████████| 188/188 [00:04<00:00, 44.55it/s]\n",
      "Iteration:   0%|          | 2/656 [00:00<00:36, 17.96it/s]"
     ]
    },
    {
     "name": "stdout",
     "output_type": "stream",
     "text": [
      "{'Train':  best_epoch_indx:50\n",
      " auc:0.9094383840771684 \n",
      " apur:0.8483519300034644 \n",
      " f1:0.7561242644039962 \n",
      " precision:0.704719387755102 \n",
      " recall:0.8156185414821376 \n",
      ", 'Validation':  best_epoch_indx:50\n",
      " auc:0.8924146792763157 \n",
      " apur:0.8132020696784681 \n",
      " f1:0.7233220666344761 \n",
      " precision:0.6681534344335415 \n",
      " recall:0.7884210526315789 \n",
      ", 'Test':  best_epoch_indx:50\n",
      " auc:0.8936478113408258 \n",
      " apur:0.8258647055830627 \n",
      " f1:0.7367910809500726 \n",
      " precision:0.6880941602535083 \n",
      " recall:0.792905581637976 \n",
      "}\n",
      "=====Epoch 51\n",
      "Training...\n"
     ]
    },
    {
     "name": "stderr",
     "output_type": "stream",
     "text": [
      "Iteration: 100%|██████████| 656/656 [00:40<00:00, 16.15it/s]\n",
      "Iteration:   1%|          | 4/656 [00:00<00:20, 32.08it/s]"
     ]
    },
    {
     "name": "stdout",
     "output_type": "stream",
     "text": [
      "Evaluating...\n"
     ]
    },
    {
     "name": "stderr",
     "output_type": "stream",
     "text": [
      "Iteration: 100%|██████████| 656/656 [00:15<00:00, 43.63it/s]\n",
      "Iteration: 100%|██████████| 94/94 [00:02<00:00, 44.12it/s]\n",
      "Iteration: 100%|██████████| 188/188 [00:04<00:00, 44.23it/s]\n",
      "Iteration:   0%|          | 2/656 [00:00<00:34, 19.12it/s]"
     ]
    },
    {
     "name": "stdout",
     "output_type": "stream",
     "text": [
      "{'Train':  best_epoch_indx:51\n",
      " auc:0.8955270680473432 \n",
      " apur:0.8190551208144523 \n",
      " f1:0.7327835970581681 \n",
      " precision:0.7375504710632571 \n",
      " recall:0.7280779450841453 \n",
      ", 'Validation':  best_epoch_indx:51\n",
      " auc:0.8798776726973683 \n",
      " apur:0.7860621877126724 \n",
      " f1:0.720464135021097 \n",
      " precision:0.7219873150105708 \n",
      " recall:0.7189473684210527 \n",
      ", 'Test':  best_epoch_indx:51\n",
      " auc:0.8786238126998235 \n",
      " apur:0.7968006146206731 \n",
      " f1:0.708673872923807 \n",
      " precision:0.7164179104477612 \n",
      " recall:0.701095461658842 \n",
      "}\n",
      "=====Epoch 52\n",
      "Training...\n"
     ]
    },
    {
     "name": "stderr",
     "output_type": "stream",
     "text": [
      "Iteration: 100%|██████████| 656/656 [00:39<00:00, 16.45it/s]\n",
      "Iteration:   1%|          | 4/656 [00:00<00:20, 32.40it/s]"
     ]
    },
    {
     "name": "stdout",
     "output_type": "stream",
     "text": [
      "Evaluating...\n"
     ]
    },
    {
     "name": "stderr",
     "output_type": "stream",
     "text": [
      "Iteration: 100%|██████████| 656/656 [00:15<00:00, 43.08it/s]\n",
      "Iteration: 100%|██████████| 94/94 [00:02<00:00, 43.99it/s]\n",
      "Iteration: 100%|██████████| 188/188 [00:04<00:00, 44.04it/s]\n",
      "Iteration:   0%|          | 2/656 [00:00<00:33, 19.38it/s]"
     ]
    },
    {
     "name": "stdout",
     "output_type": "stream",
     "text": [
      "{'Train':  best_epoch_indx:52\n",
      " auc:0.908032149870198 \n",
      " apur:0.8485349153537571 \n",
      " f1:0.7493403693931399 \n",
      " precision:0.7656755507625944 \n",
      " recall:0.7336876291703572 \n",
      ", 'Validation':  best_epoch_indx:52\n",
      " auc:0.8952061060855263 \n",
      " apur:0.8199932103761798 \n",
      " f1:0.7290322580645161 \n",
      " precision:0.7450549450549451 \n",
      " recall:0.7136842105263158 \n",
      ", 'Test':  best_epoch_indx:52\n",
      " auc:0.8932302879453166 \n",
      " apur:0.8288494103078584 \n",
      " f1:0.7314987977558108 \n",
      " precision:0.7497261774370209 \n",
      " recall:0.7141366718831508 \n",
      "}\n",
      "=====Epoch 53\n",
      "Training...\n"
     ]
    },
    {
     "name": "stderr",
     "output_type": "stream",
     "text": [
      "Iteration: 100%|██████████| 656/656 [00:38<00:00, 16.83it/s]\n",
      "Iteration:   1%|          | 4/656 [00:00<00:19, 32.91it/s]"
     ]
    },
    {
     "name": "stdout",
     "output_type": "stream",
     "text": [
      "Evaluating...\n"
     ]
    },
    {
     "name": "stderr",
     "output_type": "stream",
     "text": [
      "Iteration: 100%|██████████| 656/656 [00:15<00:00, 43.54it/s]\n",
      "Iteration: 100%|██████████| 94/94 [00:02<00:00, 44.39it/s]\n",
      "Iteration: 100%|██████████| 188/188 [00:04<00:00, 44.51it/s]\n",
      "Iteration:   0%|          | 2/656 [00:00<00:39, 16.64it/s]"
     ]
    },
    {
     "name": "stdout",
     "output_type": "stream",
     "text": [
      "{'Train':  best_epoch_indx:53\n",
      " auc:0.8891940476237974 \n",
      " apur:0.8078546082432941 \n",
      " f1:0.726642240251243 \n",
      " precision:0.6525264394829612 \n",
      " recall:0.8197519929140833 \n",
      ", 'Validation':  best_epoch_indx:53\n",
      " auc:0.8780026726973684 \n",
      " apur:0.7813293356477052 \n",
      " f1:0.7160957297043641 \n",
      " precision:0.6460626587637596 \n",
      " recall:0.8031578947368421 \n",
      ", 'Test':  best_epoch_indx:53\n",
      " auc:0.8779859510540803 \n",
      " apur:0.7955582654913033 \n",
      " f1:0.7082467082467081 \n",
      " precision:0.6355721393034826 \n",
      " recall:0.7996870109546166 \n",
      "}\n",
      "=====Epoch 54\n",
      "Training...\n"
     ]
    },
    {
     "name": "stderr",
     "output_type": "stream",
     "text": [
      "Iteration: 100%|██████████| 656/656 [00:41<00:00, 15.68it/s]\n",
      "Iteration:   1%|          | 5/656 [00:00<00:14, 44.39it/s]"
     ]
    },
    {
     "name": "stdout",
     "output_type": "stream",
     "text": [
      "Evaluating...\n"
     ]
    },
    {
     "name": "stderr",
     "output_type": "stream",
     "text": [
      "Iteration: 100%|██████████| 656/656 [00:14<00:00, 44.64it/s]\n",
      "Iteration: 100%|██████████| 94/94 [00:02<00:00, 44.46it/s]\n",
      "Iteration: 100%|██████████| 188/188 [00:04<00:00, 44.56it/s]\n",
      "Iteration:   0%|          | 2/656 [00:00<00:35, 18.67it/s]"
     ]
    },
    {
     "name": "stdout",
     "output_type": "stream",
     "text": [
      "{'Train':  best_epoch_indx:54\n",
      " auc:0.9066453816111284 \n",
      " apur:0.8447824895028702 \n",
      " f1:0.7533333333333333 \n",
      " precision:0.739823512667236 \n",
      " recall:0.7673457336876292 \n",
      ", 'Validation':  best_epoch_indx:54\n",
      " auc:0.8896186266447368 \n",
      " apur:0.8078439273902339 \n",
      " f1:0.7104446742502585 \n",
      " precision:0.698170731707317 \n",
      " recall:0.7231578947368421 \n",
      ", 'Test':  best_epoch_indx:54\n",
      " auc:0.8925667787993286 \n",
      " apur:0.824237573831265 \n",
      " f1:0.7392535392535393 \n",
      " precision:0.7296747967479674 \n",
      " recall:0.7490871152842984 \n",
      "}\n",
      "=====Epoch 55\n",
      "Training...\n"
     ]
    },
    {
     "name": "stderr",
     "output_type": "stream",
     "text": [
      "Iteration: 100%|██████████| 656/656 [00:41<00:00, 15.96it/s]\n",
      "Iteration:   1%|          | 4/656 [00:00<00:19, 32.75it/s]"
     ]
    },
    {
     "name": "stdout",
     "output_type": "stream",
     "text": [
      "Evaluating...\n"
     ]
    },
    {
     "name": "stderr",
     "output_type": "stream",
     "text": [
      "Iteration: 100%|██████████| 656/656 [00:14<00:00, 44.46it/s]\n",
      "Iteration: 100%|██████████| 94/94 [00:02<00:00, 44.68it/s]\n",
      "Iteration: 100%|██████████| 188/188 [00:04<00:00, 44.50it/s]\n",
      "Iteration:   0%|          | 2/656 [00:00<00:35, 18.61it/s]"
     ]
    },
    {
     "name": "stdout",
     "output_type": "stream",
     "text": [
      "{'Train':  best_epoch_indx:55\n",
      " auc:0.906003285864474 \n",
      " apur:0.8450948275726049 \n",
      " f1:0.7486297198538368 \n",
      " precision:0.7728701666142722 \n",
      " recall:0.7258635961027458 \n",
      ", 'Validation':  best_epoch_indx:55\n",
      " auc:0.8891786595394737 \n",
      " apur:0.8078808395917442 \n",
      " f1:0.7143643368189322 \n",
      " precision:0.748558246828143 \n",
      " recall:0.6831578947368421 \n",
      ", 'Test':  best_epoch_indx:55\n",
      " auc:0.890715873538508 \n",
      " apur:0.8242209838656067 \n",
      " f1:0.7224500957068637 \n",
      " precision:0.7591954022988506 \n",
      " recall:0.6890975482524778 \n",
      "}\n",
      "=====Epoch 56\n",
      "Training...\n"
     ]
    },
    {
     "name": "stderr",
     "output_type": "stream",
     "text": [
      "Iteration: 100%|██████████| 656/656 [00:41<00:00, 15.75it/s]\n",
      "Iteration:   1%|          | 5/656 [00:00<00:15, 43.19it/s]"
     ]
    },
    {
     "name": "stdout",
     "output_type": "stream",
     "text": [
      "Evaluating...\n"
     ]
    },
    {
     "name": "stderr",
     "output_type": "stream",
     "text": [
      "Iteration: 100%|██████████| 656/656 [00:14<00:00, 44.56it/s]\n",
      "Iteration: 100%|██████████| 94/94 [00:02<00:00, 44.56it/s]\n",
      "Iteration: 100%|██████████| 188/188 [00:04<00:00, 44.67it/s]\n",
      "Iteration:   0%|          | 2/656 [00:00<00:35, 18.63it/s]"
     ]
    },
    {
     "name": "stdout",
     "output_type": "stream",
     "text": [
      "{'Train':  best_epoch_indx:56\n",
      " auc:0.9067237856905842 \n",
      " apur:0.8470225247480524 \n",
      " f1:0.7576898486893513 \n",
      " precision:0.7302478433520471 \n",
      " recall:0.7872748745202244 \n",
      ", 'Validation':  best_epoch_indx:56\n",
      " auc:0.8940604440789475 \n",
      " apur:0.8165007945437087 \n",
      " f1:0.7349643221202854 \n",
      " precision:0.7124505928853755 \n",
      " recall:0.7589473684210526 \n",
      ", 'Test':  best_epoch_indx:56\n",
      " auc:0.8911275766783507 \n",
      " apur:0.8253591899711344 \n",
      " f1:0.7275949367088609 \n",
      " precision:0.706837186424004 \n",
      " recall:0.7496087636932708 \n",
      "}\n",
      "=====Epoch 57\n",
      "Training...\n"
     ]
    },
    {
     "name": "stderr",
     "output_type": "stream",
     "text": [
      "Iteration: 100%|██████████| 656/656 [00:41<00:00, 15.67it/s]\n",
      "Iteration:   1%|          | 4/656 [00:00<00:20, 32.54it/s]"
     ]
    },
    {
     "name": "stdout",
     "output_type": "stream",
     "text": [
      "Evaluating...\n"
     ]
    },
    {
     "name": "stderr",
     "output_type": "stream",
     "text": [
      "Iteration: 100%|██████████| 656/656 [00:14<00:00, 44.01it/s]\n",
      "Iteration: 100%|██████████| 94/94 [00:02<00:00, 44.65it/s]\n",
      "Iteration: 100%|██████████| 188/188 [00:04<00:00, 44.65it/s]\n",
      "Iteration:   0%|          | 2/656 [00:00<00:34, 18.72it/s]"
     ]
    },
    {
     "name": "stdout",
     "output_type": "stream",
     "text": [
      "{'Train':  best_epoch_indx:57\n",
      " auc:0.910884973630628 \n",
      " apur:0.8535094258378049 \n",
      " f1:0.7587484561547961 \n",
      " precision:0.7088461538461538 \n",
      " recall:0.8162090345438441 \n",
      ", 'Validation':  best_epoch_indx:57\n",
      " auc:0.8934853001644736 \n",
      " apur:0.8162966749236611 \n",
      " f1:0.7219753086419755 \n",
      " precision:0.68 \n",
      " recall:0.7694736842105263 \n",
      ", 'Test':  best_epoch_indx:57\n",
      " auc:0.893026578996987 \n",
      " apur:0.8278365452698897 \n",
      " f1:0.7362745098039214 \n",
      " precision:0.6944059177068885 \n",
      " recall:0.7835159102764736 \n",
      "}\n",
      "=====Epoch 58\n",
      "Training...\n"
     ]
    },
    {
     "name": "stderr",
     "output_type": "stream",
     "text": [
      "Iteration: 100%|██████████| 656/656 [00:40<00:00, 16.36it/s]\n",
      "Iteration:   1%|          | 4/656 [00:00<00:19, 32.71it/s]"
     ]
    },
    {
     "name": "stdout",
     "output_type": "stream",
     "text": [
      "Evaluating...\n"
     ]
    },
    {
     "name": "stderr",
     "output_type": "stream",
     "text": [
      "Iteration: 100%|██████████| 656/656 [00:14<00:00, 44.35it/s]\n",
      "Iteration: 100%|██████████| 94/94 [00:02<00:00, 44.49it/s]\n",
      "Iteration: 100%|██████████| 188/188 [00:04<00:00, 44.65it/s]\n",
      "Iteration:   0%|          | 2/656 [00:00<00:51, 12.73it/s]"
     ]
    },
    {
     "name": "stdout",
     "output_type": "stream",
     "text": [
      "{'Train':  best_epoch_indx:58\n",
      " auc:0.908864463306309 \n",
      " apur:0.8486572153217133 \n",
      " f1:0.7539650264335096 \n",
      " precision:0.6969924812030075 \n",
      " recall:0.8210806023029229 \n",
      ", 'Validation':  best_epoch_indx:58\n",
      " auc:0.8972717927631578 \n",
      " apur:0.8224870371947712 \n",
      " f1:0.7340787554691299 \n",
      " precision:0.6820234869015357 \n",
      " recall:0.7947368421052632 \n",
      ", 'Test':  best_epoch_indx:58\n",
      " auc:0.8921967128731008 \n",
      " apur:0.824394237743579 \n",
      " f1:0.7336055729041556 \n",
      " precision:0.6798753339269813 \n",
      " recall:0.7965571205007824 \n",
      "}\n",
      "=====Epoch 59\n",
      "Training...\n"
     ]
    },
    {
     "name": "stderr",
     "output_type": "stream",
     "text": [
      "Iteration: 100%|██████████| 656/656 [00:41<00:00, 15.89it/s]\n",
      "Iteration:   1%|          | 4/656 [00:00<00:20, 31.28it/s]"
     ]
    },
    {
     "name": "stdout",
     "output_type": "stream",
     "text": [
      "Evaluating...\n"
     ]
    },
    {
     "name": "stderr",
     "output_type": "stream",
     "text": [
      "Iteration: 100%|██████████| 656/656 [00:15<00:00, 43.70it/s]\n",
      "Iteration: 100%|██████████| 94/94 [00:02<00:00, 40.94it/s]\n",
      "Iteration: 100%|██████████| 188/188 [00:04<00:00, 44.41it/s]\n",
      "Iteration:   0%|          | 2/656 [00:00<00:39, 16.67it/s]"
     ]
    },
    {
     "name": "stdout",
     "output_type": "stream",
     "text": [
      "{'Train':  best_epoch_indx:59\n",
      " auc:0.900371346074817 \n",
      " apur:0.8379276777246453 \n",
      " f1:0.7469812630117973 \n",
      " precision:0.7048192771084337 \n",
      " recall:0.7945084145261293 \n",
      ", 'Validation':  best_epoch_indx:59\n",
      " auc:0.8854091282894736 \n",
      " apur:0.8059656161099689 \n",
      " f1:0.716148445336008 \n",
      " precision:0.6839080459770115 \n",
      " recall:0.751578947368421 \n",
      ", 'Test':  best_epoch_indx:59\n",
      " auc:0.886016624696867 \n",
      " apur:0.8161101511028999 \n",
      " f1:0.7213114754098361 \n",
      " precision:0.6884779516358464 \n",
      " recall:0.7574334898278561 \n",
      "}\n",
      "=====Epoch 60\n",
      "Training...\n"
     ]
    },
    {
     "name": "stderr",
     "output_type": "stream",
     "text": [
      "Iteration: 100%|██████████| 656/656 [00:39<00:00, 16.64it/s]\n",
      "Iteration:   1%|          | 4/656 [00:00<00:20, 31.37it/s]"
     ]
    },
    {
     "name": "stdout",
     "output_type": "stream",
     "text": [
      "Evaluating...\n"
     ]
    },
    {
     "name": "stderr",
     "output_type": "stream",
     "text": [
      "Iteration: 100%|██████████| 656/656 [00:15<00:00, 43.36it/s]\n",
      "Iteration: 100%|██████████| 94/94 [00:02<00:00, 44.37it/s]\n",
      "Iteration: 100%|██████████| 188/188 [00:04<00:00, 44.27it/s]\n",
      "Iteration:   0%|          | 2/656 [00:00<00:32, 19.90it/s]"
     ]
    },
    {
     "name": "stdout",
     "output_type": "stream",
     "text": [
      "{'Train':  best_epoch_indx:60\n",
      " auc:0.904007327466971 \n",
      " apur:0.8424959938471976 \n",
      " f1:0.7434983698536659 \n",
      " precision:0.7643024162120031 \n",
      " recall:0.723796870386773 \n",
      ", 'Validation':  best_epoch_indx:60\n",
      " auc:0.8872661389802632 \n",
      " apur:0.8028680071144549 \n",
      " f1:0.7028788701792504 \n",
      " precision:0.7261503928170595 \n",
      " recall:0.6810526315789474 \n",
      ", 'Test':  best_epoch_indx:60\n",
      " auc:0.8903552095637418 \n",
      " apur:0.8241800881553797 \n",
      " f1:0.7296573875802997 \n",
      " precision:0.7493128092358439 \n",
      " recall:0.7110067814293166 \n",
      "}\n",
      "=====Epoch 61\n",
      "Training...\n"
     ]
    },
    {
     "name": "stderr",
     "output_type": "stream",
     "text": [
      "Iteration: 100%|██████████| 656/656 [00:41<00:00, 15.62it/s]\n",
      "Iteration:   1%|          | 4/656 [00:00<00:20, 32.52it/s]"
     ]
    },
    {
     "name": "stdout",
     "output_type": "stream",
     "text": [
      "Evaluating...\n"
     ]
    },
    {
     "name": "stderr",
     "output_type": "stream",
     "text": [
      "Iteration: 100%|██████████| 656/656 [00:14<00:00, 43.96it/s]\n",
      "Iteration: 100%|██████████| 94/94 [00:02<00:00, 44.46it/s]\n",
      "Iteration: 100%|██████████| 188/188 [00:04<00:00, 44.56it/s]\n",
      "Iteration:   0%|          | 2/656 [00:00<00:35, 18.66it/s]"
     ]
    },
    {
     "name": "stdout",
     "output_type": "stream",
     "text": [
      "{'Train':  best_epoch_indx:61\n",
      " auc:0.906543043818841 \n",
      " apur:0.8435836045533793 \n",
      " f1:0.751219512195122 \n",
      " precision:0.6862409962153583 \n",
      " recall:0.8297903749630942 \n",
      ", 'Validation':  best_epoch_indx:61\n",
      " auc:0.8946335320723684 \n",
      " apur:0.813719108117888 \n",
      " f1:0.7308970099667774 \n",
      " precision:0.665514261019879 \n",
      " recall:0.8105263157894737 \n",
      ", 'Test':  best_epoch_indx:61\n",
      " auc:0.889489590440761 \n",
      " apur:0.8163118150837587 \n",
      " f1:0.7254575707154742 \n",
      " precision:0.6663755458515284 \n",
      " recall:0.7960354720918101 \n",
      "}\n",
      "=====Epoch 62\n",
      "Training...\n"
     ]
    },
    {
     "name": "stderr",
     "output_type": "stream",
     "text": [
      "Iteration: 100%|██████████| 656/656 [00:41<00:00, 15.65it/s]\n",
      "Iteration:   1%|          | 4/656 [00:00<00:20, 31.44it/s]"
     ]
    },
    {
     "name": "stdout",
     "output_type": "stream",
     "text": [
      "Evaluating...\n"
     ]
    },
    {
     "name": "stderr",
     "output_type": "stream",
     "text": [
      "Iteration: 100%|██████████| 656/656 [00:14<00:00, 44.10it/s]\n",
      "Iteration: 100%|██████████| 94/94 [00:02<00:00, 44.73it/s]\n",
      "Iteration: 100%|██████████| 188/188 [00:04<00:00, 44.48it/s]\n",
      "Iteration:   0%|          | 2/656 [00:00<00:35, 18.68it/s]"
     ]
    },
    {
     "name": "stdout",
     "output_type": "stream",
     "text": [
      "{'Train':  best_epoch_indx:62\n",
      " auc:0.910891519425759 \n",
      " apur:0.8539188074412977 \n",
      " f1:0.76477240599378 \n",
      " precision:0.7336588011933821 \n",
      " recall:0.798641865958075 \n",
      ", 'Validation':  best_epoch_indx:62\n",
      " auc:0.8987628495065789 \n",
      " apur:0.8274470627436998 \n",
      " f1:0.7315333672949568 \n",
      " precision:0.7087857847976308 \n",
      " recall:0.7557894736842106 \n",
      ", 'Test':  best_epoch_indx:62\n",
      " auc:0.898997201928078 \n",
      " apur:0.8373040632820077 \n",
      " f1:0.7459266802443991 \n",
      " precision:0.7284932869219294 \n",
      " recall:0.7642149191444966 \n",
      "}\n",
      "=====Epoch 63\n",
      "Training...\n"
     ]
    },
    {
     "name": "stderr",
     "output_type": "stream",
     "text": [
      "Iteration: 100%|██████████| 656/656 [00:40<00:00, 16.00it/s]\n",
      "Iteration:   1%|          | 4/656 [00:00<00:19, 32.70it/s]"
     ]
    },
    {
     "name": "stdout",
     "output_type": "stream",
     "text": [
      "Evaluating...\n"
     ]
    },
    {
     "name": "stderr",
     "output_type": "stream",
     "text": [
      "Iteration: 100%|██████████| 656/656 [00:14<00:00, 44.41it/s]\n",
      "Iteration: 100%|██████████| 94/94 [00:02<00:00, 44.52it/s]\n",
      "Iteration: 100%|██████████| 188/188 [00:04<00:00, 44.72it/s]\n",
      "Iteration:   0%|          | 2/656 [00:00<00:32, 19.97it/s]"
     ]
    },
    {
     "name": "stdout",
     "output_type": "stream",
     "text": [
      "{'Train':  best_epoch_indx:63\n",
      " auc:0.9101537251933066 \n",
      " apur:0.8506529339954907 \n",
      " f1:0.7541555977229601 \n",
      " precision:0.7761287298859553 \n",
      " recall:0.733392382639504 \n",
      ", 'Validation':  best_epoch_indx:63\n",
      " auc:0.8908968955592105 \n",
      " apur:0.8164937722009543 \n",
      " f1:0.7172489082969432 \n",
      " precision:0.7448979591836735 \n",
      " recall:0.6915789473684211 \n",
      ", 'Test':  best_epoch_indx:63\n",
      " auc:0.890878584861758 \n",
      " apur:0.8235556146990237 \n",
      " f1:0.7269772481040087 \n",
      " precision:0.756056338028169 \n",
      " recall:0.7000521648408973 \n",
      "}\n",
      "=====Epoch 64\n",
      "Training...\n"
     ]
    },
    {
     "name": "stderr",
     "output_type": "stream",
     "text": [
      "Iteration: 100%|██████████| 656/656 [00:43<00:00, 15.22it/s]\n",
      "Iteration:   1%|          | 4/656 [00:00<00:19, 32.67it/s]"
     ]
    },
    {
     "name": "stdout",
     "output_type": "stream",
     "text": [
      "Evaluating...\n"
     ]
    },
    {
     "name": "stderr",
     "output_type": "stream",
     "text": [
      "Iteration: 100%|██████████| 656/656 [00:14<00:00, 44.42it/s]\n",
      "Iteration: 100%|██████████| 94/94 [00:02<00:00, 44.58it/s]\n",
      "Iteration: 100%|██████████| 188/188 [00:04<00:00, 44.66it/s]\n",
      "Iteration:   0%|          | 3/656 [00:00<00:31, 20.85it/s]"
     ]
    },
    {
     "name": "stdout",
     "output_type": "stream",
     "text": [
      "{'Train':  best_epoch_indx:64\n",
      " auc:0.9086503690498513 \n",
      " apur:0.8476251212979051 \n",
      " f1:0.7542168674698795 \n",
      " precision:0.7697509990777743 \n",
      " recall:0.7392973132565692 \n",
      ", 'Validation':  best_epoch_indx:64\n",
      " auc:0.8955915912828948 \n",
      " apur:0.8166622610865556 \n",
      " f1:0.7215601300108342 \n",
      " precision:0.7433035714285714 \n",
      " recall:0.7010526315789474 \n",
      ", 'Test':  best_epoch_indx:64\n",
      " auc:0.8935892250310392 \n",
      " apur:0.8245077248260194 \n",
      " f1:0.7256972650961278 \n",
      " precision:0.7545045045045045 \n",
      " recall:0.6990088680229525 \n",
      "}\n",
      "=====Epoch 65\n",
      "Training...\n"
     ]
    },
    {
     "name": "stderr",
     "output_type": "stream",
     "text": [
      "Iteration: 100%|██████████| 656/656 [00:41<00:00, 15.83it/s]\n",
      "Iteration:   1%|          | 4/656 [00:00<00:20, 32.57it/s]"
     ]
    },
    {
     "name": "stdout",
     "output_type": "stream",
     "text": [
      "Evaluating...\n"
     ]
    },
    {
     "name": "stderr",
     "output_type": "stream",
     "text": [
      "Iteration: 100%|██████████| 656/656 [00:14<00:00, 44.19it/s]\n",
      "Iteration: 100%|██████████| 94/94 [00:02<00:00, 44.38it/s]\n",
      "Iteration: 100%|██████████| 188/188 [00:04<00:00, 44.51it/s]\n",
      "Iteration:   0%|          | 2/656 [00:00<00:35, 18.60it/s]"
     ]
    },
    {
     "name": "stdout",
     "output_type": "stream",
     "text": [
      "{'Train':  best_epoch_indx:65\n",
      " auc:0.9079245390762773 \n",
      " apur:0.8470882613847781 \n",
      " f1:0.7420414350682163 \n",
      " precision:0.6484875248399206 \n",
      " recall:0.8671390611160319 \n",
      ", 'Validation':  best_epoch_indx:65\n",
      " auc:0.8896833881578947 \n",
      " apur:0.8096910190500639 \n",
      " f1:0.7180417044424297 \n",
      " precision:0.6305732484076433 \n",
      " recall:0.8336842105263158 \n",
      ", 'Test':  best_epoch_indx:65\n",
      " auc:0.8936714761166128 \n",
      " apur:0.8224136699173769 \n",
      " f1:0.7219468228931952 \n",
      " precision:0.6354621182070607 \n",
      " recall:0.8356807511737089 \n",
      "}\n",
      "=====Epoch 66\n",
      "Training...\n"
     ]
    },
    {
     "name": "stderr",
     "output_type": "stream",
     "text": [
      "Iteration: 100%|██████████| 656/656 [00:43<00:00, 15.10it/s]\n",
      "Iteration:   1%|          | 4/656 [00:00<00:19, 32.66it/s]"
     ]
    },
    {
     "name": "stdout",
     "output_type": "stream",
     "text": [
      "Evaluating...\n"
     ]
    },
    {
     "name": "stderr",
     "output_type": "stream",
     "text": [
      "Iteration: 100%|██████████| 656/656 [00:14<00:00, 44.03it/s]\n",
      "Iteration: 100%|██████████| 94/94 [00:02<00:00, 44.28it/s]\n",
      "Iteration: 100%|██████████| 188/188 [00:04<00:00, 44.53it/s]\n",
      "Iteration:   0%|          | 3/656 [00:00<00:32, 20.07it/s]"
     ]
    },
    {
     "name": "stdout",
     "output_type": "stream",
     "text": [
      "{'Train':  best_epoch_indx:66\n",
      " auc:0.9062942984087942 \n",
      " apur:0.8443571160991876 \n",
      " f1:0.7525110195823398 \n",
      " precision:0.7370134465675867 \n",
      " recall:0.7686743430764689 \n",
      ", 'Validation':  best_epoch_indx:66\n",
      " auc:0.890640933388158 \n",
      " apur:0.8059895534313198 \n",
      " f1:0.7191709844559586 \n",
      " precision:0.7081632653061225 \n",
      " recall:0.7305263157894737 \n",
      ", 'Test':  best_epoch_indx:66\n",
      " auc:0.890080570246904 \n",
      " apur:0.8179673307077818 \n",
      " f1:0.7277419354838708 \n",
      " precision:0.7201225740551583 \n",
      " recall:0.7355242566510172 \n",
      "}\n",
      "=====Epoch 67\n",
      "Training...\n"
     ]
    },
    {
     "name": "stderr",
     "output_type": "stream",
     "text": [
      "Iteration: 100%|██████████| 656/656 [00:39<00:00, 16.48it/s]\n",
      "Iteration:   1%|          | 4/656 [00:00<00:19, 32.72it/s]"
     ]
    },
    {
     "name": "stdout",
     "output_type": "stream",
     "text": [
      "Evaluating...\n"
     ]
    },
    {
     "name": "stderr",
     "output_type": "stream",
     "text": [
      "Iteration: 100%|██████████| 656/656 [00:14<00:00, 44.07it/s]\n",
      "Iteration: 100%|██████████| 94/94 [00:02<00:00, 44.35it/s]\n",
      "Iteration: 100%|██████████| 188/188 [00:04<00:00, 44.40it/s]\n",
      "Iteration:   0%|          | 2/656 [00:00<00:34, 18.93it/s]"
     ]
    },
    {
     "name": "stdout",
     "output_type": "stream",
     "text": [
      "{'Train':  best_epoch_indx:67\n",
      " auc:0.9077855863918612 \n",
      " apur:0.8466916898269604 \n",
      " f1:0.7546082949308757 \n",
      " precision:0.7365757660950238 \n",
      " recall:0.7735459108355477 \n",
      ", 'Validation':  best_epoch_indx:67\n",
      " auc:0.8891395970394738 \n",
      " apur:0.8129563964742557 \n",
      " f1:0.734020618556701 \n",
      " precision:0.7191919191919192 \n",
      " recall:0.7494736842105263 \n",
      ", 'Test':  best_epoch_indx:67\n",
      " auc:0.8898327936485276 \n",
      " apur:0.8208145575185133 \n",
      " f1:0.7284939292172564 \n",
      " precision:0.721596724667349 \n",
      " recall:0.7355242566510172 \n",
      "}\n",
      "=====Epoch 68\n",
      "Training...\n"
     ]
    },
    {
     "name": "stderr",
     "output_type": "stream",
     "text": [
      "Iteration: 100%|██████████| 656/656 [00:40<00:00, 16.24it/s]\n",
      "Iteration:   1%|          | 4/656 [00:00<00:20, 31.35it/s]"
     ]
    },
    {
     "name": "stdout",
     "output_type": "stream",
     "text": [
      "Evaluating...\n"
     ]
    },
    {
     "name": "stderr",
     "output_type": "stream",
     "text": [
      "Iteration: 100%|██████████| 656/656 [00:14<00:00, 43.81it/s]\n",
      "Iteration: 100%|██████████| 94/94 [00:02<00:00, 44.42it/s]\n",
      "Iteration: 100%|██████████| 188/188 [00:04<00:00, 44.28it/s]\n",
      "Iteration:   0%|          | 2/656 [00:00<00:32, 19.83it/s]"
     ]
    },
    {
     "name": "stdout",
     "output_type": "stream",
     "text": [
      "{'Train':  best_epoch_indx:68\n",
      " auc:0.911012024397072 \n",
      " apur:0.8528958586844826 \n",
      " f1:0.7593974175035867 \n",
      " precision:0.7386268490092102 \n",
      " recall:0.7813699439031592 \n",
      ", 'Validation':  best_epoch_indx:68\n",
      " auc:0.8917511307565791 \n",
      " apur:0.8141491240219758 \n",
      " f1:0.7265221878224974 \n",
      " precision:0.7125506072874493 \n",
      " recall:0.7410526315789474 \n",
      ", 'Test':  best_epoch_indx:68\n",
      " auc:0.8917573155497021 \n",
      " apur:0.8262739750564979 \n",
      " f1:0.7301833204234444 \n",
      " precision:0.7229038854805726 \n",
      " recall:0.7376108502869066 \n",
      "}\n",
      "=====Epoch 69\n",
      "Training...\n"
     ]
    },
    {
     "name": "stderr",
     "output_type": "stream",
     "text": [
      "Iteration: 100%|██████████| 656/656 [00:40<00:00, 16.08it/s]\n",
      "Iteration:   1%|          | 5/656 [00:00<00:14, 44.60it/s]"
     ]
    },
    {
     "name": "stdout",
     "output_type": "stream",
     "text": [
      "Evaluating...\n"
     ]
    },
    {
     "name": "stderr",
     "output_type": "stream",
     "text": [
      "Iteration: 100%|██████████| 656/656 [00:14<00:00, 44.47it/s]\n",
      "Iteration: 100%|██████████| 94/94 [00:02<00:00, 44.29it/s]\n",
      "Iteration: 100%|██████████| 188/188 [00:04<00:00, 44.50it/s]\n",
      "Iteration:   0%|          | 2/656 [00:00<00:35, 18.59it/s]"
     ]
    },
    {
     "name": "stdout",
     "output_type": "stream",
     "text": [
      "{'Train':  best_epoch_indx:69\n",
      " auc:0.9006831285309888 \n",
      " apur:0.8381297121043243 \n",
      " f1:0.7420208854243271 \n",
      " precision:0.7393024618991794 \n",
      " recall:0.7447593740773546 \n",
      ", 'Validation':  best_epoch_indx:69\n",
      " auc:0.8882080078125001 \n",
      " apur:0.8134053461118629 \n",
      " f1:0.7139079851930196 \n",
      " precision:0.7173219978746015 \n",
      " recall:0.7105263157894737 \n",
      ", 'Test':  best_epoch_indx:69\n",
      " auc:0.8848544283703054 \n",
      " apur:0.8131869271380149 \n",
      " f1:0.7215356297659742 \n",
      " precision:0.7274655355249204 \n",
      " recall:0.7157016171100679 \n",
      "}\n",
      "=====Epoch 70\n",
      "Training...\n"
     ]
    },
    {
     "name": "stderr",
     "output_type": "stream",
     "text": [
      "Iteration: 100%|██████████| 656/656 [00:44<00:00, 14.78it/s]\n",
      "Iteration:   1%|          | 4/656 [00:00<00:19, 32.83it/s]"
     ]
    },
    {
     "name": "stdout",
     "output_type": "stream",
     "text": [
      "Evaluating...\n"
     ]
    },
    {
     "name": "stderr",
     "output_type": "stream",
     "text": [
      "Iteration: 100%|██████████| 656/656 [00:14<00:00, 44.08it/s]\n",
      "Iteration: 100%|██████████| 94/94 [00:02<00:00, 44.20it/s]\n",
      "Iteration: 100%|██████████| 188/188 [00:04<00:00, 44.47it/s]\n",
      "Iteration:   0%|          | 3/656 [00:00<00:33, 19.44it/s]"
     ]
    },
    {
     "name": "stdout",
     "output_type": "stream",
     "text": [
      "{'Train':  best_epoch_indx:70\n",
      " auc:0.899765158690023 \n",
      " apur:0.8317370844198732 \n",
      " f1:0.7208654318964105 \n",
      " precision:0.8102431834929993 \n",
      " recall:0.6492471213463242 \n",
      ", 'Validation':  best_epoch_indx:70\n",
      " auc:0.8878531044407897 \n",
      " apur:0.8058651416826071 \n",
      " f1:0.7018160515524311 \n",
      " precision:0.7912813738441216 \n",
      " recall:0.6305263157894737 \n",
      ", 'Test':  best_epoch_indx:70\n",
      " auc:0.8807105982122733 \n",
      " apur:0.8086339003701646 \n",
      " f1:0.6850439882697946 \n",
      " precision:0.78231748158071 \n",
      " recall:0.6092853416797078 \n",
      "}\n",
      "=====Epoch 71\n",
      "Training...\n"
     ]
    },
    {
     "name": "stderr",
     "output_type": "stream",
     "text": [
      "Iteration: 100%|██████████| 656/656 [00:41<00:00, 15.85it/s]\n",
      "Iteration:   1%|          | 5/656 [00:00<00:14, 44.08it/s]"
     ]
    },
    {
     "name": "stdout",
     "output_type": "stream",
     "text": [
      "Evaluating...\n"
     ]
    },
    {
     "name": "stderr",
     "output_type": "stream",
     "text": [
      "Iteration: 100%|██████████| 656/656 [00:14<00:00, 44.54it/s]\n",
      "Iteration: 100%|██████████| 94/94 [00:02<00:00, 44.57it/s]\n",
      "Iteration: 100%|██████████| 188/188 [00:04<00:00, 44.52it/s]\n",
      "Iteration:   0%|          | 2/656 [00:00<00:34, 19.14it/s]"
     ]
    },
    {
     "name": "stdout",
     "output_type": "stream",
     "text": [
      "{'Train':  best_epoch_indx:71\n",
      " auc:0.9149193341924742 \n",
      " apur:0.8560433988982169 \n",
      " f1:0.766454817736869 \n",
      " precision:0.7586406362979031 \n",
      " recall:0.7744316504281075 \n",
      ", 'Validation':  best_epoch_indx:71\n",
      " auc:0.8983506373355263 \n",
      " apur:0.8226652659010123 \n",
      " f1:0.7379958246346555 \n",
      " precision:0.7318840579710145 \n",
      " recall:0.7442105263157894 \n",
      ", 'Test':  best_epoch_indx:71\n",
      " auc:0.8950266363041197 \n",
      " apur:0.8277026628788042 \n",
      " f1:0.739539748953975 \n",
      " precision:0.7414787624541164 \n",
      " recall:0.7376108502869066 \n",
      "}\n",
      "=====Epoch 72\n",
      "Training...\n"
     ]
    },
    {
     "name": "stderr",
     "output_type": "stream",
     "text": [
      "Iteration: 100%|██████████| 656/656 [00:42<00:00, 15.26it/s]\n",
      "Iteration:   1%|          | 4/656 [00:00<00:20, 32.57it/s]"
     ]
    },
    {
     "name": "stdout",
     "output_type": "stream",
     "text": [
      "Evaluating...\n"
     ]
    },
    {
     "name": "stderr",
     "output_type": "stream",
     "text": [
      "Iteration: 100%|██████████| 656/656 [00:14<00:00, 43.97it/s]\n",
      "Iteration: 100%|██████████| 94/94 [00:02<00:00, 44.43it/s]\n",
      "Iteration: 100%|██████████| 188/188 [00:04<00:00, 44.52it/s]\n",
      "Iteration:   0%|          | 3/656 [00:00<00:32, 20.34it/s]"
     ]
    },
    {
     "name": "stdout",
     "output_type": "stream",
     "text": [
      "{'Train':  best_epoch_indx:72\n",
      " auc:0.91578220506268 \n",
      " apur:0.8607853252260662 \n",
      " f1:0.7672770644776539 \n",
      " precision:0.7311137852654098 \n",
      " recall:0.8072040153528196 \n",
      ", 'Validation':  best_epoch_indx:72\n",
      " auc:0.9012520559210526 \n",
      " apur:0.8323866243055641 \n",
      " f1:0.743114672008012 \n",
      " precision:0.708691499522445 \n",
      " recall:0.7810526315789473 \n",
      ", 'Test':  best_epoch_indx:72\n",
      " auc:0.901088016848297 \n",
      " apur:0.8387874184770154 \n",
      " f1:0.7469818913480886 \n",
      " precision:0.7212238950947062 \n",
      " recall:0.7746478873239436 \n",
      "}\n",
      "=====Epoch 73\n",
      "Training...\n"
     ]
    },
    {
     "name": "stderr",
     "output_type": "stream",
     "text": [
      "Iteration: 100%|██████████| 656/656 [00:42<00:00, 15.60it/s]\n",
      "Iteration:   1%|          | 5/656 [00:00<00:14, 43.97it/s]"
     ]
    },
    {
     "name": "stdout",
     "output_type": "stream",
     "text": [
      "Evaluating...\n"
     ]
    },
    {
     "name": "stderr",
     "output_type": "stream",
     "text": [
      "Iteration: 100%|██████████| 656/656 [00:14<00:00, 43.82it/s]\n",
      "Iteration: 100%|██████████| 94/94 [00:02<00:00, 44.49it/s]\n",
      "Iteration: 100%|██████████| 188/188 [00:04<00:00, 44.55it/s]\n",
      "Iteration:   0%|          | 2/656 [00:00<00:33, 19.46it/s]"
     ]
    },
    {
     "name": "stdout",
     "output_type": "stream",
     "text": [
      "{'Train':  best_epoch_indx:73\n",
      " auc:0.9116423117371136 \n",
      " apur:0.8531605169388538 \n",
      " f1:0.7580589013437304 \n",
      " precision:0.7173540650942153 \n",
      " recall:0.8036610569825805 \n",
      ", 'Validation':  best_epoch_indx:73\n",
      " auc:0.8966324013157895 \n",
      " apur:0.8216798334046584 \n",
      " f1:0.7283582089552239 \n",
      " precision:0.690566037735849 \n",
      " recall:0.7705263157894737 \n",
      ", 'Test':  best_epoch_indx:73\n",
      " auc:0.8958352041297977 \n",
      " apur:0.8315825533614389 \n",
      " f1:0.7316222277597806 \n",
      " precision:0.700381679389313 \n",
      " recall:0.7657798643714137 \n",
      "}\n",
      "=====Epoch 74\n",
      "Training...\n"
     ]
    },
    {
     "name": "stderr",
     "output_type": "stream",
     "text": [
      "Iteration: 100%|██████████| 656/656 [00:40<00:00, 16.01it/s]\n",
      "Iteration:   1%|          | 4/656 [00:00<00:19, 33.09it/s]"
     ]
    },
    {
     "name": "stdout",
     "output_type": "stream",
     "text": [
      "Evaluating...\n"
     ]
    },
    {
     "name": "stderr",
     "output_type": "stream",
     "text": [
      "Iteration: 100%|██████████| 656/656 [00:14<00:00, 44.15it/s]\n",
      "Iteration: 100%|██████████| 94/94 [00:02<00:00, 44.25it/s]\n",
      "Iteration: 100%|██████████| 188/188 [00:04<00:00, 44.40it/s]\n",
      "Iteration:   0%|          | 2/656 [00:00<00:35, 18.41it/s]"
     ]
    },
    {
     "name": "stdout",
     "output_type": "stream",
     "text": [
      "{'Train':  best_epoch_indx:74\n",
      " auc:0.8961312761083713 \n",
      " apur:0.832312548109224 \n",
      " f1:0.7404557561408701 \n",
      " precision:0.7422129931770988 \n",
      " recall:0.7387068201948627 \n",
      ", 'Validation':  best_epoch_indx:74\n",
      " auc:0.8837278988486842 \n",
      " apur:0.8059767832392322 \n",
      " f1:0.7217254076801684 \n",
      " precision:0.7213459516298633 \n",
      " recall:0.7221052631578947 \n",
      ", 'Test':  best_epoch_indx:74\n",
      " auc:0.8832601260296415 \n",
      " apur:0.8114952987096791 \n",
      " f1:0.7159450897571278 \n",
      " precision:0.7247461250668092 \n",
      " recall:0.7073552425665102 \n",
      "}\n",
      "=====Epoch 75\n",
      "Training...\n"
     ]
    },
    {
     "name": "stderr",
     "output_type": "stream",
     "text": [
      "Iteration: 100%|██████████| 656/656 [00:42<00:00, 15.54it/s]\n",
      "Iteration:   1%|          | 5/656 [00:00<00:14, 43.86it/s]"
     ]
    },
    {
     "name": "stdout",
     "output_type": "stream",
     "text": [
      "Evaluating...\n"
     ]
    },
    {
     "name": "stderr",
     "output_type": "stream",
     "text": [
      "Iteration: 100%|██████████| 656/656 [00:14<00:00, 44.28it/s]\n",
      "Iteration: 100%|██████████| 94/94 [00:02<00:00, 44.20it/s]\n",
      "Iteration: 100%|██████████| 188/188 [00:04<00:00, 44.36it/s]\n",
      "Iteration:   0%|          | 2/656 [00:00<00:39, 16.41it/s]"
     ]
    },
    {
     "name": "stdout",
     "output_type": "stream",
     "text": [
      "{'Train':  best_epoch_indx:75\n",
      " auc:0.9133294644567065 \n",
      " apur:0.8560190103635352 \n",
      " f1:0.7600854929201175 \n",
      " precision:0.6940717248109295 \n",
      " recall:0.8399763802775317 \n",
      ", 'Validation':  best_epoch_indx:75\n",
      " auc:0.8997049753289473 \n",
      " apur:0.8290640255114028 \n",
      " f1:0.7387559808612439 \n",
      " precision:0.6771929824561403 \n",
      " recall:0.8126315789473684 \n",
      ", 'Test':  best_epoch_indx:75\n",
      " auc:0.9005299118928418 \n",
      " apur:0.8385261378817861 \n",
      " f1:0.7421800947867299 \n",
      " precision:0.6799826313504125 \n",
      " recall:0.8169014084507042 \n",
      "}\n",
      "=====Epoch 76\n",
      "Training...\n"
     ]
    },
    {
     "name": "stderr",
     "output_type": "stream",
     "text": [
      "Iteration: 100%|██████████| 656/656 [00:42<00:00, 15.59it/s]\n",
      "Iteration:   1%|          | 4/656 [00:00<00:20, 31.31it/s]"
     ]
    },
    {
     "name": "stdout",
     "output_type": "stream",
     "text": [
      "Evaluating...\n"
     ]
    },
    {
     "name": "stderr",
     "output_type": "stream",
     "text": [
      "Iteration: 100%|██████████| 656/656 [00:14<00:00, 43.81it/s]\n",
      "Iteration: 100%|██████████| 94/94 [00:02<00:00, 44.14it/s]\n",
      "Iteration: 100%|██████████| 188/188 [00:04<00:00, 44.22it/s]\n",
      "Iteration:   0%|          | 2/656 [00:00<00:32, 19.86it/s]"
     ]
    },
    {
     "name": "stdout",
     "output_type": "stream",
     "text": [
      "{'Train':  best_epoch_indx:76\n",
      " auc:0.9123453976701459 \n",
      " apur:0.8544819542184529 \n",
      " f1:0.7595940587405068 \n",
      " precision:0.6972239358420728 \n",
      " recall:0.8342190729258931 \n",
      ", 'Validation':  best_epoch_indx:76\n",
      " auc:0.8985737047697369 \n",
      " apur:0.8235212442258255 \n",
      " f1:0.7335573691790687 \n",
      " precision:0.6743159752868491 \n",
      " recall:0.8042105263157895 \n",
      ", 'Test':  best_epoch_indx:76\n",
      " auc:0.8953647228036083 \n",
      " apur:0.827829698613037 \n",
      " f1:0.7330143540669856 \n",
      " precision:0.6769774635439681 \n",
      " recall:0.7991653625456442 \n",
      "}\n",
      "=====Epoch 77\n",
      "Training...\n"
     ]
    },
    {
     "name": "stderr",
     "output_type": "stream",
     "text": [
      "Iteration: 100%|██████████| 656/656 [00:42<00:00, 15.61it/s]\n",
      "Iteration:   1%|          | 4/656 [00:00<00:20, 31.40it/s]"
     ]
    },
    {
     "name": "stdout",
     "output_type": "stream",
     "text": [
      "Evaluating...\n"
     ]
    },
    {
     "name": "stderr",
     "output_type": "stream",
     "text": [
      "Iteration: 100%|██████████| 656/656 [00:14<00:00, 43.89it/s]\n",
      "Iteration: 100%|██████████| 94/94 [00:02<00:00, 44.43it/s]\n",
      "Iteration: 100%|██████████| 188/188 [00:04<00:00, 44.42it/s]\n",
      "Iteration:   0%|          | 2/656 [00:00<00:34, 18.80it/s]"
     ]
    },
    {
     "name": "stdout",
     "output_type": "stream",
     "text": [
      "{'Train':  best_epoch_indx:77\n",
      " auc:0.909371741648646 \n",
      " apur:0.8484009043621886 \n",
      " f1:0.7565986692988228 \n",
      " precision:0.7495291902071564 \n",
      " recall:0.76380277531739 \n",
      ", 'Validation':  best_epoch_indx:77\n",
      " auc:0.8954147820723684 \n",
      " apur:0.8206831465652815 \n",
      " f1:0.7270833333333333 \n",
      " precision:0.7195876288659794 \n",
      " recall:0.7347368421052631 \n",
      ", 'Test':  best_epoch_indx:77\n",
      " auc:0.895004634458523 \n",
      " apur:0.8310499590956733 \n",
      " f1:0.7326578332034295 \n",
      " precision:0.7298136645962733 \n",
      " recall:0.7355242566510172 \n",
      "}\n",
      "=====Epoch 78\n",
      "Training...\n"
     ]
    },
    {
     "name": "stderr",
     "output_type": "stream",
     "text": [
      "Iteration: 100%|██████████| 656/656 [00:40<00:00, 16.32it/s]\n",
      "Iteration:   1%|          | 5/656 [00:00<00:14, 44.09it/s]"
     ]
    },
    {
     "name": "stdout",
     "output_type": "stream",
     "text": [
      "Evaluating...\n"
     ]
    },
    {
     "name": "stderr",
     "output_type": "stream",
     "text": [
      "Iteration: 100%|██████████| 656/656 [00:15<00:00, 43.73it/s]\n",
      "Iteration: 100%|██████████| 94/94 [00:02<00:00, 44.35it/s]\n",
      "Iteration: 100%|██████████| 188/188 [00:04<00:00, 44.41it/s]\n",
      "Iteration:   0%|          | 2/656 [00:00<00:32, 19.88it/s]"
     ]
    },
    {
     "name": "stdout",
     "output_type": "stream",
     "text": [
      "{'Train':  best_epoch_indx:78\n",
      " auc:0.91847880770773 \n",
      " apur:0.8660048626364467 \n",
      " f1:0.7747353048557868 \n",
      " precision:0.7665077300968068 \n",
      " recall:0.7831414230882787 \n",
      ", 'Validation':  best_epoch_indx:78\n",
      " auc:0.9027729235197368 \n",
      " apur:0.8363402140253615 \n",
      " f1:0.7389265242313705 \n",
      " precision:0.7316821465428277 \n",
      " recall:0.7463157894736843 \n",
      ", 'Test':  best_epoch_indx:78\n",
      " auc:0.899354859836731 \n",
      " apur:0.8382755611983137 \n",
      " f1:0.7333507443196656 \n",
      " precision:0.7343096234309623 \n",
      " recall:0.7323943661971831 \n",
      "}\n",
      "=====Epoch 79\n",
      "Training...\n"
     ]
    },
    {
     "name": "stderr",
     "output_type": "stream",
     "text": [
      "Iteration: 100%|██████████| 656/656 [00:40<00:00, 16.20it/s]\n",
      "Iteration:   1%|          | 4/656 [00:00<00:20, 32.43it/s]"
     ]
    },
    {
     "name": "stdout",
     "output_type": "stream",
     "text": [
      "Evaluating...\n"
     ]
    },
    {
     "name": "stderr",
     "output_type": "stream",
     "text": [
      "Iteration: 100%|██████████| 656/656 [00:14<00:00, 44.08it/s]\n",
      "Iteration: 100%|██████████| 94/94 [00:02<00:00, 44.57it/s]\n",
      "Iteration: 100%|██████████| 188/188 [00:04<00:00, 44.44it/s]\n",
      "Iteration:   0%|          | 3/656 [00:00<00:32, 20.38it/s]"
     ]
    },
    {
     "name": "stdout",
     "output_type": "stream",
     "text": [
      "{'Train':  best_epoch_indx:79\n",
      " auc:0.9137207679335669 \n",
      " apur:0.8572812591029866 \n",
      " f1:0.7592090470206997 \n",
      " precision:0.6876722175631964 \n",
      " recall:0.8473575435488633 \n",
      ", 'Validation':  best_epoch_indx:79\n",
      " auc:0.8993122944078947 \n",
      " apur:0.8258711678872519 \n",
      " f1:0.7460992907801418 \n",
      " precision:0.6772532188841202 \n",
      " recall:0.8305263157894737 \n",
      ", 'Test':  best_epoch_indx:79\n",
      " auc:0.8999524913636361 \n",
      " apur:0.8373790393162094 \n",
      " f1:0.7334433184067876 \n",
      " precision:0.6689595872742906 \n",
      " recall:0.8116849243609807 \n",
      "}\n",
      "=====Epoch 80\n",
      "Training...\n"
     ]
    },
    {
     "name": "stderr",
     "output_type": "stream",
     "text": [
      "Iteration: 100%|██████████| 656/656 [00:42<00:00, 15.49it/s]\n",
      "Iteration:   1%|          | 4/656 [00:00<00:19, 32.69it/s]"
     ]
    },
    {
     "name": "stdout",
     "output_type": "stream",
     "text": [
      "Evaluating...\n"
     ]
    },
    {
     "name": "stderr",
     "output_type": "stream",
     "text": [
      "Iteration: 100%|██████████| 656/656 [00:14<00:00, 44.10it/s]\n",
      "Iteration: 100%|██████████| 94/94 [00:02<00:00, 44.45it/s]\n",
      "Iteration: 100%|██████████| 188/188 [00:04<00:00, 44.58it/s]\n",
      "Iteration:   0%|          | 2/656 [00:00<00:35, 18.64it/s]"
     ]
    },
    {
     "name": "stdout",
     "output_type": "stream",
     "text": [
      "{'Train':  best_epoch_indx:80\n",
      " auc:0.9145709472343246 \n",
      " apur:0.8601435128639963 \n",
      " f1:0.7633894547218182 \n",
      " precision:0.7192845018931976 \n",
      " recall:0.8132565692353115 \n",
      ", 'Validation':  best_epoch_indx:80\n",
      " auc:0.8996273643092106 \n",
      " apur:0.828894149068813 \n",
      " f1:0.7456271864067966 \n",
      " precision:0.7098001902949572 \n",
      " recall:0.7852631578947369 \n",
      ", 'Test':  best_epoch_indx:80\n",
      " auc:0.9001428329115886 \n",
      " apur:0.8341148501031707 \n",
      " f1:0.7491985203452528 \n",
      " precision:0.7104770813844715 \n",
      " recall:0.7923839332290037 \n",
      "}\n",
      "=====Epoch 81\n",
      "Training...\n"
     ]
    },
    {
     "name": "stderr",
     "output_type": "stream",
     "text": [
      "Iteration: 100%|██████████| 656/656 [00:42<00:00, 15.47it/s]\n",
      "Iteration:   1%|          | 4/656 [00:00<00:20, 31.29it/s]"
     ]
    },
    {
     "name": "stdout",
     "output_type": "stream",
     "text": [
      "Evaluating...\n"
     ]
    },
    {
     "name": "stderr",
     "output_type": "stream",
     "text": [
      "Iteration: 100%|██████████| 656/656 [00:14<00:00, 43.84it/s]\n",
      "Iteration: 100%|██████████| 94/94 [00:02<00:00, 44.37it/s]\n",
      "Iteration: 100%|██████████| 188/188 [00:04<00:00, 44.60it/s]\n",
      "Iteration:   0%|          | 2/656 [00:00<00:39, 16.55it/s]"
     ]
    },
    {
     "name": "stdout",
     "output_type": "stream",
     "text": [
      "{'Train':  best_epoch_indx:81\n",
      " auc:0.9181466449703689 \n",
      " apur:0.8643641882977715 \n",
      " f1:0.7686279808146997 \n",
      " precision:0.7085564827500311 \n",
      " recall:0.8398287570121051 \n",
      ", 'Validation':  best_epoch_indx:81\n",
      " auc:0.9039766652960526 \n",
      " apur:0.8339508203144019 \n",
      " f1:0.7433284813197476 \n",
      " precision:0.6894689468946895 \n",
      " recall:0.8063157894736842 \n",
      ", 'Test':  best_epoch_indx:81\n",
      " auc:0.9019931625427278 \n",
      " apur:0.8407066725368425 \n",
      " f1:0.7383065483329335 \n",
      " precision:0.683392539964476 \n",
      " recall:0.8028169014084507 \n",
      "}\n",
      "=====Epoch 82\n",
      "Training...\n"
     ]
    },
    {
     "name": "stderr",
     "output_type": "stream",
     "text": [
      "Iteration: 100%|██████████| 656/656 [00:40<00:00, 16.06it/s]\n",
      "Iteration:   1%|          | 4/656 [00:00<00:19, 32.69it/s]"
     ]
    },
    {
     "name": "stdout",
     "output_type": "stream",
     "text": [
      "Evaluating...\n"
     ]
    },
    {
     "name": "stderr",
     "output_type": "stream",
     "text": [
      "Iteration: 100%|██████████| 656/656 [00:15<00:00, 43.47it/s]\n",
      "Iteration: 100%|██████████| 94/94 [00:02<00:00, 43.07it/s]\n",
      "Iteration: 100%|██████████| 188/188 [00:04<00:00, 44.69it/s]\n",
      "Iteration:   0%|          | 2/656 [00:00<00:34, 19.13it/s]"
     ]
    },
    {
     "name": "stdout",
     "output_type": "stream",
     "text": [
      "{'Train':  best_epoch_indx:82\n",
      " auc:0.9138468887814962 \n",
      " apur:0.8561464179603429 \n",
      " f1:0.7626184080305386 \n",
      " precision:0.7316874660879001 \n",
      " recall:0.7962798937112489 \n",
      ", 'Validation':  best_epoch_indx:82\n",
      " auc:0.8991000205592106 \n",
      " apur:0.8252276002216453 \n",
      " f1:0.7381799694966954 \n",
      " precision:0.7138643067846607 \n",
      " recall:0.7642105263157895 \n",
      ", 'Test':  best_epoch_indx:82\n",
      " auc:0.8960348836703582 \n",
      " apur:0.8282260172059623 \n",
      " f1:0.7313997477931904 \n",
      " precision:0.7080078125 \n",
      " recall:0.7563901930099113 \n",
      "}\n",
      "=====Epoch 83\n",
      "Training...\n"
     ]
    },
    {
     "name": "stderr",
     "output_type": "stream",
     "text": [
      "Iteration: 100%|██████████| 656/656 [00:41<00:00, 15.91it/s]\n",
      "Iteration:   1%|          | 4/656 [00:00<00:20, 31.73it/s]"
     ]
    },
    {
     "name": "stdout",
     "output_type": "stream",
     "text": [
      "Evaluating...\n"
     ]
    },
    {
     "name": "stderr",
     "output_type": "stream",
     "text": [
      "Iteration: 100%|██████████| 656/656 [00:14<00:00, 44.06it/s]\n",
      "Iteration: 100%|██████████| 94/94 [00:02<00:00, 44.56it/s]\n",
      "Iteration: 100%|██████████| 188/188 [00:04<00:00, 44.30it/s]\n",
      "Iteration:   0%|          | 2/656 [00:00<00:35, 18.51it/s]"
     ]
    },
    {
     "name": "stdout",
     "output_type": "stream",
     "text": [
      "{'Train':  best_epoch_indx:83\n",
      " auc:0.91617080710028 \n",
      " apur:0.8623099360967686 \n",
      " f1:0.76541408245166 \n",
      " precision:0.7567450584331266 \n",
      " recall:0.7742840271626809 \n",
      ", 'Validation':  best_epoch_indx:83\n",
      " auc:0.9039221833881579 \n",
      " apur:0.8355296763622337 \n",
      " f1:0.7448711204629143 \n",
      " precision:0.7444794952681388 \n",
      " recall:0.7452631578947368 \n",
      ", 'Test':  best_epoch_indx:83\n",
      " auc:0.8988971702812374 \n",
      " apur:0.838195773858055 \n",
      " f1:0.7505888510861031 \n",
      " precision:0.7531512605042017 \n",
      " recall:0.7480438184663537 \n",
      "}\n",
      "=====Epoch 84\n",
      "Training...\n"
     ]
    },
    {
     "name": "stderr",
     "output_type": "stream",
     "text": [
      "Iteration: 100%|██████████| 656/656 [00:41<00:00, 15.89it/s]\n",
      "Iteration:   1%|          | 5/656 [00:00<00:14, 43.73it/s]"
     ]
    },
    {
     "name": "stdout",
     "output_type": "stream",
     "text": [
      "Evaluating...\n"
     ]
    },
    {
     "name": "stderr",
     "output_type": "stream",
     "text": [
      "Iteration: 100%|██████████| 656/656 [00:14<00:00, 44.49it/s]\n",
      "Iteration: 100%|██████████| 94/94 [00:02<00:00, 41.04it/s]\n",
      "Iteration: 100%|██████████| 188/188 [00:04<00:00, 44.37it/s]\n",
      "Iteration:   0%|          | 2/656 [00:00<00:34, 19.10it/s]"
     ]
    },
    {
     "name": "stdout",
     "output_type": "stream",
     "text": [
      "{'Train':  best_epoch_indx:84\n",
      " auc:0.9170058063904251 \n",
      " apur:0.8605162585966946 \n",
      " f1:0.7625755864177022 \n",
      " precision:0.6934138972809668 \n",
      " recall:0.8470622970180101 \n",
      ", 'Validation':  best_epoch_indx:84\n",
      " auc:0.904430509868421 \n",
      " apur:0.835244161032577 \n",
      " f1:0.7447817836812144 \n",
      " precision:0.6778929188255614 \n",
      " recall:0.8263157894736842 \n",
      ", 'Test':  best_epoch_indx:84\n",
      " auc:0.9013948914272879 \n",
      " apur:0.8375066187015836 \n",
      " f1:0.7465721040189126 \n",
      " precision:0.6826632079550368 \n",
      " recall:0.8236828377673449 \n",
      "}\n",
      "=====Epoch 85\n",
      "Training...\n"
     ]
    },
    {
     "name": "stderr",
     "output_type": "stream",
     "text": [
      "Iteration: 100%|██████████| 656/656 [00:39<00:00, 16.54it/s]\n",
      "Iteration:   1%|          | 5/656 [00:00<00:14, 44.39it/s]"
     ]
    },
    {
     "name": "stdout",
     "output_type": "stream",
     "text": [
      "Evaluating...\n"
     ]
    },
    {
     "name": "stderr",
     "output_type": "stream",
     "text": [
      "Iteration: 100%|██████████| 656/656 [00:14<00:00, 44.54it/s]\n",
      "Iteration: 100%|██████████| 94/94 [00:02<00:00, 44.50it/s]\n",
      "Iteration: 100%|██████████| 188/188 [00:04<00:00, 44.53it/s]\n",
      "Iteration:   0%|          | 2/656 [00:00<00:35, 18.47it/s]"
     ]
    },
    {
     "name": "stdout",
     "output_type": "stream",
     "text": [
      "{'Train':  best_epoch_indx:85\n",
      " auc:0.9133344725094892 \n",
      " apur:0.8554576434950251 \n",
      " f1:0.7614095107765996 \n",
      " precision:0.709603366917485 \n",
      " recall:0.8213758488337762 \n",
      ", 'Validation':  best_epoch_indx:85\n",
      " auc:0.8990758634868421 \n",
      " apur:0.8251529145275134 \n",
      " f1:0.7365328109696376 \n",
      " precision:0.6886446886446886 \n",
      " recall:0.791578947368421 \n",
      ", 'Test':  best_epoch_indx:85\n",
      " auc:0.8969276853060675 \n",
      " apur:0.8344155572319819 \n",
      " f1:0.739545121056493 \n",
      " precision:0.6961325966850829 \n",
      " recall:0.7887323943661971 \n",
      "}\n",
      "=====Epoch 86\n",
      "Training...\n"
     ]
    },
    {
     "name": "stderr",
     "output_type": "stream",
     "text": [
      "Iteration: 100%|██████████| 656/656 [00:41<00:00, 15.88it/s]\n",
      "Iteration:   1%|          | 4/656 [00:00<00:20, 31.69it/s]"
     ]
    },
    {
     "name": "stdout",
     "output_type": "stream",
     "text": [
      "Evaluating...\n"
     ]
    },
    {
     "name": "stderr",
     "output_type": "stream",
     "text": [
      "Iteration: 100%|██████████| 656/656 [00:14<00:00, 44.08it/s]\n",
      "Iteration: 100%|██████████| 94/94 [00:02<00:00, 44.21it/s]\n",
      "Iteration: 100%|██████████| 188/188 [00:04<00:00, 44.64it/s]\n",
      "Iteration:   0%|          | 2/656 [00:00<00:34, 19.02it/s]"
     ]
    },
    {
     "name": "stdout",
     "output_type": "stream",
     "text": [
      "{'Train':  best_epoch_indx:86\n",
      " auc:0.9189931513527478 \n",
      " apur:0.8664577691100466 \n",
      " f1:0.7657754010695187 \n",
      " precision:0.6997312484730027 \n",
      " recall:0.8455860643637437 \n",
      ", 'Validation':  best_epoch_indx:86\n",
      " auc:0.9060844983552632 \n",
      " apur:0.8407950651472387 \n",
      " f1:0.7471374045801528 \n",
      " precision:0.6832460732984293 \n",
      " recall:0.8242105263157895 \n",
      ", 'Test':  best_epoch_indx:86\n",
      " auc:0.9003441753823397 \n",
      " apur:0.8398318044510515 \n",
      " f1:0.7405469678953627 \n",
      " precision:0.680506993006993 \n",
      " recall:0.812206572769953 \n",
      "}\n",
      "=====Epoch 87\n",
      "Training...\n"
     ]
    },
    {
     "name": "stderr",
     "output_type": "stream",
     "text": [
      "Iteration: 100%|██████████| 656/656 [00:41<00:00, 15.79it/s]\n",
      "Iteration:   1%|          | 5/656 [00:00<00:14, 44.42it/s]"
     ]
    },
    {
     "name": "stdout",
     "output_type": "stream",
     "text": [
      "Evaluating...\n"
     ]
    },
    {
     "name": "stderr",
     "output_type": "stream",
     "text": [
      "Iteration: 100%|██████████| 656/656 [00:14<00:00, 44.36it/s]\n",
      "Iteration: 100%|██████████| 94/94 [00:02<00:00, 40.80it/s]\n",
      "Iteration: 100%|██████████| 188/188 [00:04<00:00, 44.28it/s]\n",
      "Iteration:   0%|          | 2/656 [00:00<00:33, 19.33it/s]"
     ]
    },
    {
     "name": "stdout",
     "output_type": "stream",
     "text": [
      "{'Train':  best_epoch_indx:87\n",
      " auc:0.9199191787558152 \n",
      " apur:0.8681441514083065 \n",
      " f1:0.7673606447280054 \n",
      " precision:0.7039181862986693 \n",
      " recall:0.8433717153823442 \n",
      ", 'Validation':  best_epoch_indx:87\n",
      " auc:0.9052271792763158 \n",
      " apur:0.8387648946156758 \n",
      " f1:0.7403525488327777 \n",
      " precision:0.6762402088772846 \n",
      " recall:0.8178947368421052 \n",
      ", 'Test':  best_epoch_indx:87\n",
      " auc:0.9039481288581579 \n",
      " apur:0.8439986342024426 \n",
      " f1:0.7491686460807601 \n",
      " precision:0.6877453118185782 \n",
      " recall:0.8226395409494001 \n",
      "}\n",
      "=====Epoch 88\n",
      "Training...\n"
     ]
    },
    {
     "name": "stderr",
     "output_type": "stream",
     "text": [
      "Iteration: 100%|██████████| 656/656 [00:41<00:00, 15.65it/s]\n",
      "Iteration:   1%|          | 5/656 [00:00<00:14, 44.20it/s]"
     ]
    },
    {
     "name": "stdout",
     "output_type": "stream",
     "text": [
      "Evaluating...\n"
     ]
    },
    {
     "name": "stderr",
     "output_type": "stream",
     "text": [
      "Iteration: 100%|██████████| 656/656 [00:14<00:00, 44.27it/s]\n",
      "Iteration: 100%|██████████| 94/94 [00:02<00:00, 40.72it/s]\n",
      "Iteration: 100%|██████████| 188/188 [00:04<00:00, 44.44it/s]\n",
      "Iteration:   0%|          | 2/656 [00:00<00:35, 18.63it/s]"
     ]
    },
    {
     "name": "stdout",
     "output_type": "stream",
     "text": [
      "{'Train':  best_epoch_indx:88\n",
      " auc:0.9199119108451898 \n",
      " apur:0.8682535571381464 \n",
      " f1:0.7703190848886212 \n",
      " precision:0.7856923549278477 \n",
      " recall:0.7555358724534986 \n",
      ", 'Validation':  best_epoch_indx:88\n",
      " auc:0.9054759457236842 \n",
      " apur:0.8355636549703558 \n",
      " f1:0.7337278106508877 \n",
      " precision:0.7502750275027503 \n",
      " recall:0.7178947368421053 \n",
      ", 'Test':  best_epoch_indx:88\n",
      " auc:0.9049980773968644 \n",
      " apur:0.8440617373706646 \n",
      " f1:0.7498658078368223 \n",
      " precision:0.7722498618021006 \n",
      " recall:0.7287428273343767 \n",
      "}\n",
      "=====Epoch 89\n",
      "Training...\n"
     ]
    },
    {
     "name": "stderr",
     "output_type": "stream",
     "text": [
      "Iteration: 100%|██████████| 656/656 [00:42<00:00, 15.44it/s]\n",
      "Iteration:   1%|          | 4/656 [00:00<00:16, 38.86it/s]"
     ]
    },
    {
     "name": "stdout",
     "output_type": "stream",
     "text": [
      "Evaluating...\n"
     ]
    },
    {
     "name": "stderr",
     "output_type": "stream",
     "text": [
      "Iteration: 100%|██████████| 656/656 [00:14<00:00, 44.22it/s]\n",
      "Iteration: 100%|██████████| 94/94 [00:02<00:00, 44.26it/s]\n",
      "Iteration: 100%|██████████| 188/188 [00:04<00:00, 44.49it/s]\n",
      "Iteration:   0%|          | 2/656 [00:00<00:34, 18.98it/s]"
     ]
    },
    {
     "name": "stdout",
     "output_type": "stream",
     "text": [
      "{'Train':  best_epoch_indx:89\n",
      " auc:0.9149391689907356 \n",
      " apur:0.8582844389631079 \n",
      " f1:0.7619992369324684 \n",
      " precision:0.788658979624072 \n",
      " recall:0.7370829642751697 \n",
      ", 'Validation':  best_epoch_indx:89\n",
      " auc:0.9008449835526318 \n",
      " apur:0.8313469367518947 \n",
      " f1:0.7346938775510203 \n",
      " precision:0.7717265353418308 \n",
      " recall:0.7010526315789474 \n",
      ", 'Test':  best_epoch_indx:89\n",
      " auc:0.8986861060647575 \n",
      " apur:0.834440020708752 \n",
      " f1:0.7340599455040872 \n",
      " precision:0.7683970336565887 \n",
      " recall:0.702660406885759 \n",
      "}\n",
      "=====Epoch 90\n",
      "Training...\n"
     ]
    },
    {
     "name": "stderr",
     "output_type": "stream",
     "text": [
      "Iteration: 100%|██████████| 656/656 [00:40<00:00, 16.35it/s]\n",
      "Iteration:   1%|          | 4/656 [00:00<00:20, 32.34it/s]"
     ]
    },
    {
     "name": "stdout",
     "output_type": "stream",
     "text": [
      "Evaluating...\n"
     ]
    },
    {
     "name": "stderr",
     "output_type": "stream",
     "text": [
      "Iteration: 100%|██████████| 656/656 [00:14<00:00, 43.79it/s]\n",
      "Iteration: 100%|██████████| 94/94 [00:02<00:00, 44.34it/s]\n",
      "Iteration: 100%|██████████| 188/188 [00:04<00:00, 44.51it/s]\n",
      "Iteration:   0%|          | 2/656 [00:00<00:33, 19.32it/s]"
     ]
    },
    {
     "name": "stdout",
     "output_type": "stream",
     "text": [
      "{'Train':  best_epoch_indx:90\n",
      " auc:0.9136582815654449 \n",
      " apur:0.8570666314348726 \n",
      " f1:0.7532059670243391 \n",
      " precision:0.6763807285546416 \n",
      " recall:0.8497195157956894 \n",
      ", 'Validation':  best_epoch_indx:90\n",
      " auc:0.8971140008223685 \n",
      " apur:0.8250230203125686 \n",
      " f1:0.7281191806331471 \n",
      " precision:0.6527545909849749 \n",
      " recall:0.8231578947368421 \n",
      ", 'Test':  best_epoch_indx:90\n",
      " auc:0.8973466797552063 \n",
      " apur:0.8352773771330377 \n",
      " f1:0.7356643356643356 \n",
      " precision:0.6649810366624526 \n",
      " recall:0.8231611893583725 \n",
      "}\n",
      "=====Epoch 91\n",
      "Training...\n"
     ]
    },
    {
     "name": "stderr",
     "output_type": "stream",
     "text": [
      "Iteration: 100%|██████████| 656/656 [00:40<00:00, 16.13it/s]\n",
      "Iteration:   1%|          | 5/656 [00:00<00:14, 43.65it/s]"
     ]
    },
    {
     "name": "stdout",
     "output_type": "stream",
     "text": [
      "Evaluating...\n"
     ]
    },
    {
     "name": "stderr",
     "output_type": "stream",
     "text": [
      "Iteration: 100%|██████████| 656/656 [00:14<00:00, 44.19it/s]\n",
      "Iteration: 100%|██████████| 94/94 [00:02<00:00, 44.17it/s]\n",
      "Iteration: 100%|██████████| 188/188 [00:04<00:00, 44.21it/s]\n",
      "Iteration:   0%|          | 2/656 [00:00<00:34, 18.69it/s]"
     ]
    },
    {
     "name": "stdout",
     "output_type": "stream",
     "text": [
      "{'Train':  best_epoch_indx:91\n",
      " auc:0.9109652427421887 \n",
      " apur:0.8525046354797341 \n",
      " f1:0.7499417385224889 \n",
      " precision:0.7914412198721101 \n",
      " recall:0.712577502214349 \n",
      ", 'Validation':  best_epoch_indx:91\n",
      " auc:0.8995672286184211 \n",
      " apur:0.829472485241026 \n",
      " f1:0.7369601794727987 \n",
      " precision:0.7887154861944778 \n",
      " recall:0.6915789473684211 \n",
      ", 'Test':  best_epoch_indx:91\n",
      " auc:0.8926199925654229 \n",
      " apur:0.8234904829893542 \n",
      " f1:0.7156477846326417 \n",
      " precision:0.7738023044269254 \n",
      " recall:0.665623369848722 \n",
      "}\n",
      "=====Epoch 92\n",
      "Training...\n"
     ]
    },
    {
     "name": "stderr",
     "output_type": "stream",
     "text": [
      "Iteration: 100%|██████████| 656/656 [00:41<00:00, 15.83it/s]\n",
      "Iteration:   1%|          | 4/656 [00:00<00:19, 32.68it/s]"
     ]
    },
    {
     "name": "stdout",
     "output_type": "stream",
     "text": [
      "Evaluating...\n"
     ]
    },
    {
     "name": "stderr",
     "output_type": "stream",
     "text": [
      "Iteration: 100%|██████████| 656/656 [00:14<00:00, 44.12it/s]\n",
      "Iteration: 100%|██████████| 94/94 [00:02<00:00, 44.46it/s]\n",
      "Iteration: 100%|██████████| 188/188 [00:04<00:00, 44.44it/s]\n",
      "Iteration:   0%|          | 2/656 [00:00<00:33, 19.67it/s]"
     ]
    },
    {
     "name": "stdout",
     "output_type": "stream",
     "text": [
      "{'Train':  best_epoch_indx:92\n",
      " auc:0.9156832180940906 \n",
      " apur:0.8595708929917856 \n",
      " f1:0.750622009569378 \n",
      " precision:0.6609369733737782 \n",
      " recall:0.8684676705048716 \n",
      ", 'Validation':  best_epoch_indx:92\n",
      " auc:0.9016293174342105 \n",
      " apur:0.8359999247771805 \n",
      " f1:0.7257844474761256 \n",
      " precision:0.6389111289031225 \n",
      " recall:0.84 \n",
      ", 'Test':  best_epoch_indx:92\n",
      " auc:0.9000578315953155 \n",
      " apur:0.8390252810798572 \n",
      " f1:0.7367703838292073 \n",
      " precision:0.6524537409493162 \n",
      " recall:0.8461137193531559 \n",
      "}\n",
      "=====Epoch 93\n",
      "Training...\n"
     ]
    },
    {
     "name": "stderr",
     "output_type": "stream",
     "text": [
      "Iteration: 100%|██████████| 656/656 [00:41<00:00, 15.89it/s]\n",
      "Iteration:   1%|          | 5/656 [00:00<00:14, 44.03it/s]"
     ]
    },
    {
     "name": "stdout",
     "output_type": "stream",
     "text": [
      "Evaluating...\n"
     ]
    },
    {
     "name": "stderr",
     "output_type": "stream",
     "text": [
      "Iteration: 100%|██████████| 656/656 [00:14<00:00, 44.32it/s]\n",
      "Iteration: 100%|██████████| 94/94 [00:02<00:00, 44.37it/s]\n",
      "Iteration: 100%|██████████| 188/188 [00:04<00:00, 44.45it/s]\n",
      "Iteration:   0%|          | 2/656 [00:00<00:33, 19.59it/s]"
     ]
    },
    {
     "name": "stdout",
     "output_type": "stream",
     "text": [
      "{'Train':  best_epoch_indx:93\n",
      " auc:0.9153059621013839 \n",
      " apur:0.8602322217700048 \n",
      " f1:0.7627403112602991 \n",
      " precision:0.7892327123460688 \n",
      " recall:0.7379687038677295 \n",
      ", 'Validation':  best_epoch_indx:93\n",
      " auc:0.9001737253289472 \n",
      " apur:0.8330479529023178 \n",
      " f1:0.7314095449500555 \n",
      " precision:0.7734741784037559 \n",
      " recall:0.6936842105263158 \n",
      ", 'Test':  best_epoch_indx:93\n",
      " auc:0.8940741610581148 \n",
      " apur:0.829797154789406 \n",
      " f1:0.7348277747402951 \n",
      " precision:0.7719701321079839 \n",
      " recall:0.701095461658842 \n",
      "}\n",
      "=====Epoch 94\n",
      "Training...\n"
     ]
    },
    {
     "name": "stderr",
     "output_type": "stream",
     "text": [
      "Iteration: 100%|██████████| 656/656 [00:41<00:00, 15.72it/s]\n",
      "Iteration:   1%|          | 4/656 [00:00<00:16, 39.03it/s]"
     ]
    },
    {
     "name": "stdout",
     "output_type": "stream",
     "text": [
      "Evaluating...\n"
     ]
    },
    {
     "name": "stderr",
     "output_type": "stream",
     "text": [
      "Iteration: 100%|██████████| 656/656 [00:14<00:00, 44.44it/s]\n",
      "Iteration: 100%|██████████| 94/94 [00:02<00:00, 41.20it/s]\n",
      "Iteration: 100%|██████████| 188/188 [00:04<00:00, 44.44it/s]\n",
      "Iteration:   0%|          | 2/656 [00:00<00:36, 18.03it/s]"
     ]
    },
    {
     "name": "stdout",
     "output_type": "stream",
     "text": [
      "{'Train':  best_epoch_indx:94\n",
      " auc:0.9175445824755225 \n",
      " apur:0.8616374237480809 \n",
      " f1:0.7688651218062982 \n",
      " precision:0.7736920777279521 \n",
      " recall:0.7640980218482433 \n",
      ", 'Validation':  best_epoch_indx:94\n",
      " auc:0.9014052220394737 \n",
      " apur:0.8314093456810795 \n",
      " f1:0.740701381509033 \n",
      " precision:0.7478540772532188 \n",
      " recall:0.7336842105263158 \n",
      ", 'Test':  best_epoch_indx:94\n",
      " auc:0.8969340172325618 \n",
      " apur:0.8330401121630279 \n",
      " f1:0.7370655346245688 \n",
      " precision:0.75 \n",
      " recall:0.7245696400625978 \n",
      "}\n",
      "=====Epoch 95\n",
      "Training...\n"
     ]
    },
    {
     "name": "stderr",
     "output_type": "stream",
     "text": [
      "Iteration: 100%|██████████| 656/656 [00:43<00:00, 15.10it/s]\n",
      "Iteration:   1%|          | 4/656 [00:00<00:19, 32.63it/s]"
     ]
    },
    {
     "name": "stdout",
     "output_type": "stream",
     "text": [
      "Evaluating...\n"
     ]
    },
    {
     "name": "stderr",
     "output_type": "stream",
     "text": [
      "Iteration: 100%|██████████| 656/656 [00:14<00:00, 44.05it/s]\n",
      "Iteration: 100%|██████████| 94/94 [00:02<00:00, 44.26it/s]\n",
      "Iteration: 100%|██████████| 188/188 [00:04<00:00, 44.55it/s]\n",
      "Iteration:   0%|          | 2/656 [00:00<00:34, 18.72it/s]"
     ]
    },
    {
     "name": "stdout",
     "output_type": "stream",
     "text": [
      "{'Train':  best_epoch_indx:95\n",
      " auc:0.9182771504620209 \n",
      " apur:0.8655477760393488 \n",
      " f1:0.7697966548684849 \n",
      " precision:0.7263916175507531 \n",
      " recall:0.8187186300560968 \n",
      ", 'Validation':  best_epoch_indx:95\n",
      " auc:0.9007545230263159 \n",
      " apur:0.8298527562010284 \n",
      " f1:0.7378351539225423 \n",
      " precision:0.6983082706766918 \n",
      " recall:0.7821052631578947 \n",
      ", 'Test':  best_epoch_indx:95\n",
      " auc:0.9004034012806608 \n",
      " apur:0.8410862105723672 \n",
      " f1:0.7480198019801979 \n",
      " precision:0.71172868582195 \n",
      " recall:0.7882107459572248 \n",
      "}\n",
      "=====Epoch 96\n",
      "Training...\n"
     ]
    },
    {
     "name": "stderr",
     "output_type": "stream",
     "text": [
      "Iteration: 100%|██████████| 656/656 [00:43<00:00, 15.10it/s]\n",
      "Iteration:   1%|          | 5/656 [00:00<00:14, 44.28it/s]"
     ]
    },
    {
     "name": "stdout",
     "output_type": "stream",
     "text": [
      "Evaluating...\n"
     ]
    },
    {
     "name": "stderr",
     "output_type": "stream",
     "text": [
      "Iteration: 100%|██████████| 656/656 [00:14<00:00, 44.48it/s]\n",
      "Iteration: 100%|██████████| 94/94 [00:02<00:00, 44.47it/s]\n",
      "Iteration: 100%|██████████| 188/188 [00:04<00:00, 44.54it/s]\n",
      "Iteration:   0%|          | 2/656 [00:00<00:35, 18.49it/s]"
     ]
    },
    {
     "name": "stdout",
     "output_type": "stream",
     "text": [
      "{'Train':  best_epoch_indx:96\n",
      " auc:0.9189228567861485 \n",
      " apur:0.8637083605512235 \n",
      " f1:0.7696606242333378 \n",
      " precision:0.7148101265822785 \n",
      " recall:0.8336285798641866 \n",
      ", 'Validation':  best_epoch_indx:96\n",
      " auc:0.8999794407894737 \n",
      " apur:0.8335480048830246 \n",
      " f1:0.732421875 \n",
      " precision:0.6830601092896175 \n",
      " recall:0.7894736842105263 \n",
      ", 'Test':  best_epoch_indx:96\n",
      " auc:0.9025121246798539 \n",
      " apur:0.8428381644432498 \n",
      " f1:0.7443334145747014 \n",
      " precision:0.6985361390667887 \n",
      " recall:0.7965571205007824 \n",
      "}\n",
      "=====Epoch 97\n",
      "Training...\n"
     ]
    },
    {
     "name": "stderr",
     "output_type": "stream",
     "text": [
      "Iteration: 100%|██████████| 656/656 [00:42<00:00, 15.35it/s]\n",
      "Iteration:   1%|          | 4/656 [00:00<00:20, 32.60it/s]"
     ]
    },
    {
     "name": "stdout",
     "output_type": "stream",
     "text": [
      "Evaluating...\n"
     ]
    },
    {
     "name": "stderr",
     "output_type": "stream",
     "text": [
      "Iteration: 100%|██████████| 656/656 [00:14<00:00, 43.96it/s]\n",
      "Iteration: 100%|██████████| 94/94 [00:02<00:00, 44.50it/s]\n",
      "Iteration: 100%|██████████| 188/188 [00:04<00:00, 44.60it/s]\n",
      "Iteration:   0%|          | 2/656 [00:00<00:33, 19.77it/s]"
     ]
    },
    {
     "name": "stdout",
     "output_type": "stream",
     "text": [
      "{'Train':  best_epoch_indx:97\n",
      " auc:0.9226766728808081 \n",
      " apur:0.871879416366867 \n",
      " f1:0.77661418961093 \n",
      " precision:0.7323741007194244 \n",
      " recall:0.8265426631237083 \n",
      ", 'Validation':  best_epoch_indx:97\n",
      " auc:0.907981599506579 \n",
      " apur:0.8444122500511186 \n",
      " f1:0.749379652605459 \n",
      " precision:0.7089201877934272 \n",
      " recall:0.7947368421052632 \n",
      ", 'Test':  best_epoch_indx:97\n",
      " auc:0.9073339826436139 \n",
      " apur:0.8487556385360425 \n",
      " f1:0.7573200992555831 \n",
      " precision:0.7221959299574066 \n",
      " recall:0.7960354720918101 \n",
      "}\n",
      "=====Epoch 98\n",
      "Training...\n"
     ]
    },
    {
     "name": "stderr",
     "output_type": "stream",
     "text": [
      "Iteration: 100%|██████████| 656/656 [00:41<00:00, 15.85it/s]\n",
      "Iteration:   1%|          | 4/656 [00:00<00:19, 32.73it/s]"
     ]
    },
    {
     "name": "stdout",
     "output_type": "stream",
     "text": [
      "Evaluating...\n"
     ]
    },
    {
     "name": "stderr",
     "output_type": "stream",
     "text": [
      "Iteration: 100%|██████████| 656/656 [00:14<00:00, 44.08it/s]\n",
      "Iteration: 100%|██████████| 94/94 [00:02<00:00, 44.42it/s]\n",
      "Iteration: 100%|██████████| 188/188 [00:04<00:00, 44.57it/s]\n",
      "Iteration:   0%|          | 2/656 [00:00<00:33, 19.41it/s]"
     ]
    },
    {
     "name": "stdout",
     "output_type": "stream",
     "text": [
      "{'Train':  best_epoch_indx:98\n",
      " auc:0.9209303482512627 \n",
      " apur:0.8705094050610918 \n",
      " f1:0.7765661748984393 \n",
      " precision:0.7507234394377842 \n",
      " recall:0.804251550044287 \n",
      ", 'Validation':  best_epoch_indx:98\n",
      " auc:0.9052379728618422 \n",
      " apur:0.8390271900890486 \n",
      " f1:0.7401812688821753 \n",
      " precision:0.7094594594594594 \n",
      " recall:0.7736842105263158 \n",
      ", 'Test':  best_epoch_indx:98\n",
      " auc:0.9044894765940017 \n",
      " apur:0.8458389661083103 \n",
      " f1:0.7489775051124744 \n",
      " precision:0.7343358395989975 \n",
      " recall:0.7642149191444966 \n",
      "}\n",
      "=====Epoch 99\n",
      "Training...\n"
     ]
    },
    {
     "name": "stderr",
     "output_type": "stream",
     "text": [
      "Iteration: 100%|██████████| 656/656 [00:40<00:00, 16.00it/s]\n",
      "Iteration:   1%|          | 4/656 [00:00<00:19, 32.73it/s]"
     ]
    },
    {
     "name": "stdout",
     "output_type": "stream",
     "text": [
      "Evaluating...\n"
     ]
    },
    {
     "name": "stderr",
     "output_type": "stream",
     "text": [
      "Iteration: 100%|██████████| 656/656 [00:14<00:00, 44.04it/s]\n",
      "Iteration: 100%|██████████| 94/94 [00:02<00:00, 44.31it/s]\n",
      "Iteration: 100%|██████████| 188/188 [00:04<00:00, 44.41it/s]\n"
     ]
    },
    {
     "name": "stdout",
     "output_type": "stream",
     "text": [
      "{'Train':  best_epoch_indx:99\n",
      " auc:0.9216198594520116 \n",
      " apur:0.8710481045172249 \n",
      " f1:0.7597344567853951 \n",
      " precision:0.6692532613585245 \n",
      " recall:0.8785060525538825 \n",
      ", 'Validation':  best_epoch_indx:99\n",
      " auc:0.9051431435032895 \n",
      " apur:0.8413828568293344 \n",
      " f1:0.7304582210242587 \n",
      " precision:0.6371473354231975 \n",
      " recall:0.8557894736842105 \n",
      ", 'Test':  best_epoch_indx:99\n",
      " auc:0.90546830288764 \n",
      " apur:0.8468818527789856 \n",
      " f1:0.7356997513000226 \n",
      " precision:0.6492418196328811 \n",
      " recall:0.8487219613980177 \n",
      "}\n",
      "Finished training!\n",
      "Best validation score: 0.8444122500511186\n",
      "Test score: 0.8487556385360425\n",
      "CPU times: user 1h 44min 46s, sys: 53.3 s, total: 1h 45min 39s\n",
      "Wall time: 1h 45min 16s\n"
     ]
    }
   ],
   "source": [
    "%%time\n",
    "\n",
    "valid_curve = []\n",
    "test_curve = []\n",
    "train_curve = []\n",
    "\n",
    "for epoch in range(100):\n",
    "    print(\"=====Epoch {}\".format(epoch))\n",
    "    print('Training...')\n",
    "#     train(model, device, train_loader, optimizer, dataset.task_type)\n",
    "    train()\n",
    "\n",
    "    print('Evaluating...')\n",
    "#     train_perf = eval(model, device, train_loader, evaluator)\n",
    "#     valid_perf = eval(model, device, valid_loader, evaluator)\n",
    "#     test_perf = eval(model, device, test_loader, evaluator)\n",
    "    train_perf = eval(train_loader, dsettype=\"train\")\n",
    "    valid_perf = eval(valid_loader, dsettype=\"valid\")\n",
    "    test_perf = eval(test_loader, dsettype=\"test\")\n",
    "\n",
    "    print({'Train': train_perf, 'Validation': valid_perf, 'Test': test_perf})\n",
    "\n",
    "    train_curve.append(train_perf.s_aupr)\n",
    "    valid_curve.append(valid_perf.s_aupr)\n",
    "    test_curve.append(test_perf.s_aupr)\n",
    "\n",
    "# if 'classification' in dataset.task_type:\n",
    "best_val_epoch = np.argmax(np.array(valid_curve))\n",
    "best_train = max(train_curve)\n",
    "# else:\n",
    "#     best_val_epoch = np.argmin(np.array(valid_curve))\n",
    "#     best_train = min(train_curve)\n",
    "\n",
    "print('Finished training!')\n",
    "print('Best validation score: {}'.format(valid_curve[best_val_epoch]))\n",
    "print('Test score: {}'.format(test_curve[best_val_epoch]))"
   ]
  },
  {
   "cell_type": "code",
   "execution_count": 37,
   "metadata": {},
   "outputs": [
    {
     "data": {
      "text/plain": [
       "[0.5563653985428311,\n",
       " 0.6144503080764749,\n",
       " 0.6266325232185169,\n",
       " 0.6667781882920664,\n",
       " 0.6694156816553305,\n",
       " 0.6915532083780316,\n",
       " 0.6501261353679061,\n",
       " 0.7050226112739909,\n",
       " 0.7172994510531454,\n",
       " 0.7082885459178848,\n",
       " 0.7165882425073656,\n",
       " 0.7291610655742383,\n",
       " 0.7281111044391178,\n",
       " 0.7253216895674102,\n",
       " 0.7516766495331544,\n",
       " 0.7643420610641338,\n",
       " 0.7536839068326191,\n",
       " 0.7778115079436995,\n",
       " 0.7669290313544251,\n",
       " 0.7545339031952947,\n",
       " 0.7884350890195015,\n",
       " 0.78248894638225,\n",
       " 0.7654306763954017,\n",
       " 0.7817914918497145,\n",
       " 0.7853714660825202,\n",
       " 0.7795000501478442,\n",
       " 0.7818545084278661,\n",
       " 0.7906626789691309,\n",
       " 0.7643257820414617,\n",
       " 0.7830200496966214,\n",
       " 0.7697117510805233,\n",
       " 0.7982135949216838,\n",
       " 0.784814713934841,\n",
       " 0.7968626988199494,\n",
       " 0.8071060397419872,\n",
       " 0.8150191855808879,\n",
       " 0.8086397131193992,\n",
       " 0.8196051068152342,\n",
       " 0.8153598115400973,\n",
       " 0.7957328487168397,\n",
       " 0.8194866720656532,\n",
       " 0.812024935040143,\n",
       " 0.8233471714723598,\n",
       " 0.8162711908507231,\n",
       " 0.8176945653466929,\n",
       " 0.7952568447243302,\n",
       " 0.8105584777887705,\n",
       " 0.8192572799217628,\n",
       " 0.8325787897958223,\n",
       " 0.8213356585166418,\n",
       " 0.8258647055830627,\n",
       " 0.7968006146206731,\n",
       " 0.8288494103078584,\n",
       " 0.7955582654913033,\n",
       " 0.824237573831265,\n",
       " 0.8242209838656067,\n",
       " 0.8253591899711344,\n",
       " 0.8278365452698897,\n",
       " 0.824394237743579,\n",
       " 0.8161101511028999,\n",
       " 0.8241800881553797,\n",
       " 0.8163118150837587,\n",
       " 0.8373040632820077,\n",
       " 0.8235556146990237,\n",
       " 0.8245077248260194,\n",
       " 0.8224136699173769,\n",
       " 0.8179673307077818,\n",
       " 0.8208145575185133,\n",
       " 0.8262739750564979,\n",
       " 0.8131869271380149,\n",
       " 0.8086339003701646,\n",
       " 0.8277026628788042,\n",
       " 0.8387874184770154,\n",
       " 0.8315825533614389,\n",
       " 0.8114952987096791,\n",
       " 0.8385261378817861,\n",
       " 0.827829698613037,\n",
       " 0.8310499590956733,\n",
       " 0.8382755611983137,\n",
       " 0.8373790393162094,\n",
       " 0.8341148501031707,\n",
       " 0.8407066725368425,\n",
       " 0.8282260172059623,\n",
       " 0.838195773858055,\n",
       " 0.8375066187015836,\n",
       " 0.8344155572319819,\n",
       " 0.8398318044510515,\n",
       " 0.8439986342024426,\n",
       " 0.8440617373706646,\n",
       " 0.834440020708752,\n",
       " 0.8352773771330377,\n",
       " 0.8234904829893542,\n",
       " 0.8390252810798572,\n",
       " 0.829797154789406,\n",
       " 0.8330401121630279,\n",
       " 0.8410862105723672,\n",
       " 0.8428381644432498,\n",
       " 0.8487556385360425,\n",
       " 0.8458389661083103,\n",
       " 0.8468818527789856]"
      ]
     },
     "execution_count": 37,
     "metadata": {},
     "output_type": "execute_result"
    }
   ],
   "source": [
    "test_curve"
   ]
  },
  {
   "cell_type": "code",
   "execution_count": 34,
   "metadata": {},
   "outputs": [],
   "source": [
    "df_curves = pd.DataFrame(np.array([train_curve, valid_curve, test_curve]).T)\n",
    "df_curves.columns = ['train', 'valid', 'test']\n",
    "df_curves.index.name = \"epoch\""
   ]
  },
  {
   "cell_type": "code",
   "execution_count": 35,
   "metadata": {},
   "outputs": [
    {
     "data": {
      "text/html": [
       "<div>\n",
       "<style scoped>\n",
       "    .dataframe tbody tr th:only-of-type {\n",
       "        vertical-align: middle;\n",
       "    }\n",
       "\n",
       "    .dataframe tbody tr th {\n",
       "        vertical-align: top;\n",
       "    }\n",
       "\n",
       "    .dataframe thead th {\n",
       "        text-align: right;\n",
       "    }\n",
       "</style>\n",
       "<table border=\"1\" class=\"dataframe\">\n",
       "  <thead>\n",
       "    <tr style=\"text-align: right;\">\n",
       "      <th></th>\n",
       "      <th>train</th>\n",
       "      <th>valid</th>\n",
       "      <th>test</th>\n",
       "    </tr>\n",
       "    <tr>\n",
       "      <th>epoch</th>\n",
       "      <th></th>\n",
       "      <th></th>\n",
       "      <th></th>\n",
       "    </tr>\n",
       "  </thead>\n",
       "  <tbody>\n",
       "    <tr>\n",
       "      <th>0</th>\n",
       "      <td>0.562619</td>\n",
       "      <td>0.553055</td>\n",
       "      <td>0.556365</td>\n",
       "    </tr>\n",
       "    <tr>\n",
       "      <th>1</th>\n",
       "      <td>0.629021</td>\n",
       "      <td>0.617780</td>\n",
       "      <td>0.614450</td>\n",
       "    </tr>\n",
       "    <tr>\n",
       "      <th>2</th>\n",
       "      <td>0.644416</td>\n",
       "      <td>0.620403</td>\n",
       "      <td>0.626633</td>\n",
       "    </tr>\n",
       "    <tr>\n",
       "      <th>3</th>\n",
       "      <td>0.689674</td>\n",
       "      <td>0.669181</td>\n",
       "      <td>0.666778</td>\n",
       "    </tr>\n",
       "    <tr>\n",
       "      <th>4</th>\n",
       "      <td>0.676742</td>\n",
       "      <td>0.670981</td>\n",
       "      <td>0.669416</td>\n",
       "    </tr>\n",
       "    <tr>\n",
       "      <th>...</th>\n",
       "      <td>...</td>\n",
       "      <td>...</td>\n",
       "      <td>...</td>\n",
       "    </tr>\n",
       "    <tr>\n",
       "      <th>95</th>\n",
       "      <td>0.865548</td>\n",
       "      <td>0.829853</td>\n",
       "      <td>0.841086</td>\n",
       "    </tr>\n",
       "    <tr>\n",
       "      <th>96</th>\n",
       "      <td>0.863708</td>\n",
       "      <td>0.833548</td>\n",
       "      <td>0.842838</td>\n",
       "    </tr>\n",
       "    <tr>\n",
       "      <th>97</th>\n",
       "      <td>0.871879</td>\n",
       "      <td>0.844412</td>\n",
       "      <td>0.848756</td>\n",
       "    </tr>\n",
       "    <tr>\n",
       "      <th>98</th>\n",
       "      <td>0.870509</td>\n",
       "      <td>0.839027</td>\n",
       "      <td>0.845839</td>\n",
       "    </tr>\n",
       "    <tr>\n",
       "      <th>99</th>\n",
       "      <td>0.871048</td>\n",
       "      <td>0.841383</td>\n",
       "      <td>0.846882</td>\n",
       "    </tr>\n",
       "  </tbody>\n",
       "</table>\n",
       "<p>100 rows × 3 columns</p>\n",
       "</div>"
      ],
      "text/plain": [
       "          train     valid      test\n",
       "epoch                              \n",
       "0      0.562619  0.553055  0.556365\n",
       "1      0.629021  0.617780  0.614450\n",
       "2      0.644416  0.620403  0.626633\n",
       "3      0.689674  0.669181  0.666778\n",
       "4      0.676742  0.670981  0.669416\n",
       "...         ...       ...       ...\n",
       "95     0.865548  0.829853  0.841086\n",
       "96     0.863708  0.833548  0.842838\n",
       "97     0.871879  0.844412  0.848756\n",
       "98     0.870509  0.839027  0.845839\n",
       "99     0.871048  0.841383  0.846882\n",
       "\n",
       "[100 rows x 3 columns]"
      ]
     },
     "execution_count": 35,
     "metadata": {},
     "output_type": "execute_result"
    }
   ],
   "source": [
    "df_curves"
   ]
  },
  {
   "cell_type": "code",
   "execution_count": 36,
   "metadata": {},
   "outputs": [
    {
     "data": {
      "text/plain": [
       "<AxesSubplot:xlabel='epoch'>"
      ]
     },
     "execution_count": 36,
     "metadata": {},
     "output_type": "execute_result"
    },
    {
     "data": {
      "image/png": "[encoded data removed]",
      "text/plain": [
       "<Figure size 432x288 with 1 Axes>"
      ]
     },
     "metadata": {
      "needs_background": "light"
     },
     "output_type": "display_data"
    }
   ],
   "source": [
    "sns.lineplot(data=df_curves)"
   ]
  },
  {
   "cell_type": "code",
   "execution_count": null,
   "metadata": {},
   "outputs": [],
   "source": []
  },
  {
   "cell_type": "code",
   "execution_count": 37,
   "metadata": {},
   "outputs": [],
   "source": [
    "b = torch.tensor([[1, 1,1,1,2,2,2,2], [3,3,3,3, 4,4,4,4], [5,5,5,5, 6,6,6,6]])"
   ]
  },
  {
   "cell_type": "code",
   "execution_count": 38,
   "metadata": {},
   "outputs": [
    {
     "data": {
      "text/plain": [
       "tensor([[1, 1, 1, 1, 2, 2, 2, 2],\n",
       "        [3, 3, 3, 3, 4, 4, 4, 4],\n",
       "        [5, 5, 5, 5, 6, 6, 6, 6]])"
      ]
     },
     "execution_count": 38,
     "metadata": {},
     "output_type": "execute_result"
    }
   ],
   "source": [
    "b"
   ]
  },
  {
   "cell_type": "code",
   "execution_count": 43,
   "metadata": {},
   "outputs": [
    {
     "data": {
      "text/plain": [
       "2.0"
      ]
     },
     "execution_count": 43,
     "metadata": {},
     "output_type": "execute_result"
    }
   ],
   "source": [
    "\n"
   ]
  },
  {
   "cell_type": "code",
   "execution_count": 45,
   "metadata": {},
   "outputs": [
    {
     "data": {
      "text/plain": [
       "tensor([[[1, 1],\n",
       "         [1, 1],\n",
       "         [2, 2],\n",
       "         [2, 2]],\n",
       "\n",
       "        [[3, 3],\n",
       "         [3, 3],\n",
       "         [4, 4],\n",
       "         [4, 4]],\n",
       "\n",
       "        [[5, 5],\n",
       "         [5, 5],\n",
       "         [6, 6],\n",
       "         [6, 6]]])"
      ]
     },
     "execution_count": 45,
     "metadata": {},
     "output_type": "execute_result"
    }
   ],
   "source": [
    "b.reshape(b.shape[0],4,b.shape[1] //4)"
   ]
  },
  {
   "cell_type": "code",
   "execution_count": null,
   "metadata": {},
   "outputs": [],
   "source": []
  },
  {
   "cell_type": "code",
   "execution_count": null,
   "metadata": {},
   "outputs": [],
   "source": []
  },
  {
   "cell_type": "code",
   "execution_count": null,
   "metadata": {},
   "outputs": [],
   "source": []
  },
  {
   "cell_type": "code",
   "execution_count": null,
   "metadata": {},
   "outputs": [],
   "source": []
  },
  {
   "cell_type": "code",
   "execution_count": null,
   "metadata": {},
   "outputs": [],
   "source": [
    "print(\"h_graph_cat shape:\", h_graph_cat.shape)"
   ]
  },
  {
   "cell_type": "code",
   "execution_count": null,
   "metadata": {},
   "outputs": [],
   "source": []
  },
  {
   "cell_type": "code",
   "execution_count": null,
   "metadata": {},
   "outputs": [],
   "source": []
  },
  {
   "cell_type": "code",
   "execution_count": null,
   "metadata": {},
   "outputs": [],
   "source": []
  },
  {
   "cell_type": "markdown",
   "metadata": {},
   "source": [
    "### Generate datapartitions (i.e. train/val, test indices)"
   ]
  },
  {
   "cell_type": "code",
   "execution_count": null,
   "metadata": {
    "scrolled": true
   },
   "outputs": [],
   "source": [
    "dpartitions = get_stratified_partitions(y, num_folds=5, valid_set_portion=0.1, random_state=42)"
   ]
  },
  {
   "cell_type": "code",
   "execution_count": null,
   "metadata": {},
   "outputs": [],
   "source": [
    "# dump data on disk\n",
    "# targetdata_dir = create_directory(os.path.join(processed_dir, DSdataset_name, data_fname))\n",
    "ReaderWriter.dump_data(dpartitions, os.path.join(targetdata_dir, 'data_partitions.pkl'))"
   ]
  },
  {
   "cell_type": "code",
   "execution_count": null,
   "metadata": {},
   "outputs": [],
   "source": []
  },
  {
   "cell_type": "code",
   "execution_count": null,
   "metadata": {},
   "outputs": [],
   "source": []
  },
  {
   "cell_type": "code",
   "execution_count": null,
   "metadata": {},
   "outputs": [],
   "source": []
  },
  {
   "cell_type": "code",
   "execution_count": null,
   "metadata": {},
   "outputs": [],
   "source": []
  },
  {
   "cell_type": "code",
   "execution_count": null,
   "metadata": {},
   "outputs": [],
   "source": []
  },
  {
   "cell_type": "markdown",
   "metadata": {},
   "source": [
    "### Create Tensors"
   ]
  },
  {
   "cell_type": "code",
   "execution_count": null,
   "metadata": {},
   "outputs": [],
   "source": [
    "device_cpu = get_device(to_gpu=False)\n",
    "device_gpu = get_device(True, index=0)"
   ]
  },
  {
   "cell_type": "code",
   "execution_count": null,
   "metadata": {},
   "outputs": [],
   "source": []
  },
  {
   "cell_type": "code",
   "execution_count": null,
   "metadata": {},
   "outputs": [],
   "source": []
  },
  {
   "cell_type": "code",
   "execution_count": null,
   "metadata": {},
   "outputs": [],
   "source": []
  },
  {
   "cell_type": "code",
   "execution_count": null,
   "metadata": {},
   "outputs": [],
   "source": []
  },
  {
   "cell_type": "code",
   "execution_count": null,
   "metadata": {},
   "outputs": [],
   "source": []
  },
  {
   "cell_type": "code",
   "execution_count": null,
   "metadata": {},
   "outputs": [],
   "source": []
  },
  {
   "cell_type": "markdown",
   "metadata": {},
   "source": [
    "### Using masking and inference with gip computation"
   ]
  },
  {
   "cell_type": "code",
   "execution_count": null,
   "metadata": {},
   "outputs": [],
   "source": [
    "gip_perfold = {}\n",
    "for fold_id in dpartitions:\n",
    "    masked_intermat = interaction_mat.copy()\n",
    "    masked_intermat = masked_intermat.astype(np.float)\n",
    "    for dsettype in ('validation', 'test'):\n",
    "        # get validation/test ddi pair indices\n",
    "        sids = dpartitions[fold_id][dsettype]\n",
    "        a = [sid_ddipairs_map[sid][0] for sid in sids]\n",
    "        b = [sid_ddipairs_map[sid][1] for sid in sids]\n",
    "        # set to nan\n",
    "        masked_intermat[tuple([a,b])] = np.nan\n",
    "        masked_intermat[tuple([b,a])] = np.nan\n",
    "        \n",
    "    intermat_infer_lst = []\n",
    "    nanw_mat_lst = []\n",
    "    for similarity_type in similarity_types:\n",
    "        print('similarity_type', similarity_type)\n",
    "        siminput_feat_pth = os.path.join(up_dir, rawdata_dir, DSdataset_name, '{}{}'.format(similarity_type, fname_suffix))\n",
    "        sim_mat = get_similarity_matrix(siminput_feat_pth, DSdataset_name)\n",
    "        imat_infer, nanw_m = impute_nan(masked_intermat, sim_mat, k=15)\n",
    "        intermat_infer_lst.append(imat_infer)\n",
    "        nanw_mat_lst.append(nanw_m)\n",
    "        \n",
    "    infer_mat_fus = weight_inferred_mat(nanw_mat_lst, intermat_infer_lst)\n",
    "\n",
    "    print('norm(infer_mat-interaction_mat)', np.linalg.norm(infer_mat_fus - interaction_mat))\n",
    "\n",
    "    # compute GIP here\n",
    "    gip_kernel = compute_gip_kernel(infer_mat_fus, 1., kernel_option)\n",
    "    print('norm(gip_kernel-interaction_mat)',np.linalg.norm(gip_kernel - interaction_mat))\n",
    "    t = gip_kernel-interaction_mat\n",
    "    print(np.sum(np.abs(t) > 0.5)/(t.size - t.shape[0]))\n",
    "    gip_perfold[fold_id] = gip_kernel"
   ]
  },
  {
   "cell_type": "markdown",
   "metadata": {},
   "source": [
    "### Compute features from similarity matrices"
   ]
  },
  {
   "cell_type": "markdown",
   "metadata": {},
   "source": [
    "#### check if similarity matrix is symmetric"
   ]
  },
  {
   "cell_type": "code",
   "execution_count": null,
   "metadata": {},
   "outputs": [],
   "source": [
    "num_sim_types = len(similarity_types)\n",
    "for similarity_type in similarity_types:\n",
    "    siminput_feat_pth = os.path.join(up_dir, rawdata_dir, DSdataset_name, '{}{}'.format(similarity_type, fname_suffix))\n",
    "    sim_mat = get_similarity_matrix(siminput_feat_pth, DSdataset_name)   \n",
    "    print(np.allclose(sim_mat, np.transpose(sim_mat)))"
   ]
  },
  {
   "cell_type": "code",
   "execution_count": null,
   "metadata": {},
   "outputs": [],
   "source": [
    "num_sim_types = len(similarity_types)\n",
    "X_feats = []\n",
    "for similarity_type in similarity_types:\n",
    "    siminput_feat_pth = os.path.join(up_dir, rawdata_dir, DSdataset_name, '{}{}'.format(similarity_type, fname_suffix))\n",
    "    X_feat = preprocess_features(siminput_feat_pth, DSdataset_name, fill_diag=None)   \n",
    "    X_feats.append(X_feat)\n",
    "X_feat_cat = np.concatenate(X_feats, axis=1)\n",
    "print(\"X_feat_cat\", X_feat_cat.shape)"
   ]
  },
  {
   "cell_type": "code",
   "execution_count": null,
   "metadata": {},
   "outputs": [],
   "source": [
    "X = create_setvector_features(X_feat_cat, 2*num_sim_types)\n",
    "X.shape"
   ]
  },
  {
   "cell_type": "code",
   "execution_count": null,
   "metadata": {},
   "outputs": [],
   "source": [
    "X_a = X[:,list(range(0,2*num_sim_types,2))].copy()\n",
    "X_b = X[:,list(range(1,2*num_sim_types,2))].copy()"
   ]
  },
  {
   "cell_type": "code",
   "execution_count": null,
   "metadata": {},
   "outputs": [],
   "source": [
    "from ddi.utilities import format_bytes\n",
    "print(format_bytes(X_feat_cat.size * X_feat_cat.itemsize))\n",
    "print(format_bytes(y.size * y.itemsize))"
   ]
  },
  {
   "cell_type": "code",
   "execution_count": null,
   "metadata": {},
   "outputs": [],
   "source": [
    "# clear unused objects\n",
    "del X_feats\n",
    "del X_feat_cat\n",
    "del X_feat"
   ]
  },
  {
   "cell_type": "code",
   "execution_count": null,
   "metadata": {},
   "outputs": [],
   "source": [
    "device_cpu = get_device(to_gpu=False)\n",
    "device_gpu = get_device(True, index=0)"
   ]
  },
  {
   "cell_type": "code",
   "execution_count": null,
   "metadata": {},
   "outputs": [],
   "source": [
    "# dtype is float32 since we will use sigmoid (binary outcome)\n",
    "y_tensor = torch.tensor(y, dtype = torch.int64, device = device_cpu) \n",
    "X_a = torch.tensor(X_a, dtype = torch.float32, device = device_cpu)\n",
    "X_b = torch.tensor(X_b, dtype = torch.float32, device = device_cpu)\n",
    "ddi_datatensor = DDIDataTensor(X_a, X_b, y_tensor)"
   ]
  },
  {
   "cell_type": "code",
   "execution_count": null,
   "metadata": {},
   "outputs": [],
   "source": [
    "targetdata_dir"
   ]
  },
  {
   "cell_type": "code",
   "execution_count": null,
   "metadata": {},
   "outputs": [],
   "source": [
    "# dump data on disk\n",
    "ReaderWriter.dump_tensor(X_a, os.path.join(targetdata_dir, 'X_a.torch'))\n",
    "ReaderWriter.dump_tensor(X_b, os.path.join(targetdata_dir, 'X_b.torch'))\n",
    "ReaderWriter.dump_tensor(y_tensor, os.path.join(targetdata_dir, 'y_tensor.torch'))"
   ]
  },
  {
   "cell_type": "markdown",
   "metadata": {},
   "source": [
    "### Construct GIP datatensor for each fold"
   ]
  },
  {
   "cell_type": "code",
   "execution_count": null,
   "metadata": {
    "scrolled": true
   },
   "outputs": [],
   "source": [
    "gip_dtensor_perfold = {}\n",
    "for fold_id in gip_perfold:\n",
    "    print('fold_id:', fold_id)\n",
    "    gip_mat = gip_perfold[fold_id]\n",
    "    print('gip_mat:', gip_mat.shape)\n",
    "    gip_feat = get_features_from_simmatrix(gip_mat)\n",
    "    gip_all = create_setvector_features(gip_feat, 2)\n",
    "    print('gip_all:', gip_all.shape)\n",
    "    X_a_gip = gip_all[:,list(range(0,2*1,2))].copy()\n",
    "    X_b_gip = gip_all[:,list(range(1,2*1,2))].copy()\n",
    "    print('X_a_gip:', X_a_gip.shape)\n",
    "    X_a_gip = torch.tensor(X_a_gip, dtype = torch.float32, device = device_cpu)\n",
    "    X_b_gip = torch.tensor(X_b_gip, dtype = torch.float32, device = device_cpu)\n",
    "    gip_datatensor = GIPDataTensor(X_a_gip, X_b_gip)\n",
    "    gip_dtensor_perfold[fold_id] = gip_datatensor"
   ]
  },
  {
   "cell_type": "code",
   "execution_count": null,
   "metadata": {},
   "outputs": [],
   "source": [
    "# dump data on disk\n",
    "ReaderWriter.dump_tensor(gip_dtensor_perfold, os.path.join(targetdata_dir, 'gip_dtensor_perfold.torch'))"
   ]
  }
 ],
 "metadata": {
  "kernelspec": {
   "display_name": "Python 3",
   "language": "python",
   "name": "python3"
  },
  "language_info": {
   "codemirror_mode": {
    "name": "ipython",
    "version": 3
   },
   "file_extension": ".py",
   "mimetype": "text/x-python",
   "name": "python",
   "nbconvert_exporter": "python",
   "pygments_lexer": "ipython3",
   "version": "3.8.8"
  }
 },
 "nbformat": 4,
 "nbformat_minor": 4
}
