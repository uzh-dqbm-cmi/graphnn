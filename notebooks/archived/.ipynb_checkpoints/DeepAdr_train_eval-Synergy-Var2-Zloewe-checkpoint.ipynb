{
 "cells": [
  {
   "cell_type": "code",
   "execution_count": 1,
   "metadata": {
    "scrolled": false
   },
   "outputs": [],
   "source": [
    "%load_ext autoreload\n",
    "%autoreload 2"
   ]
  },
  {
   "cell_type": "code",
   "execution_count": 2,
   "metadata": {},
   "outputs": [],
   "source": [
    "import os\n",
    "import sys\n",
    "import numpy as np\n",
    "import pandas as pd\n",
    "import datetime\n",
    "import seaborn as sns\n",
    "import ogb\n",
    "from tqdm import tqdm\n",
    "import hiplot as hip\n",
    "import gc"
   ]
  },
  {
   "cell_type": "code",
   "execution_count": 3,
   "metadata": {},
   "outputs": [],
   "source": [
    "import torch\n",
    "from torch_geometric.data import Data\n",
    "from torch_geometric.loader import DataLoader\n",
    "from torch.utils.data import Subset"
   ]
  },
  {
   "cell_type": "code",
   "execution_count": 4,
   "metadata": {},
   "outputs": [
    {
     "name": "stdout",
     "output_type": "stream",
     "text": [
      "/cluster/home/skyriakos/chemprop_run/git/notebooks\n"
     ]
    }
   ],
   "source": [
    "cwd = os.getcwd()\n",
    "print(cwd)"
   ]
  },
  {
   "cell_type": "code",
   "execution_count": 5,
   "metadata": {},
   "outputs": [],
   "source": [
    "os.chdir('..')\n",
    "import deepadr\n",
    "from deepadr.dataset import *\n",
    "from deepadr.utilities import *\n",
    "from deepadr.run_workflow import *\n",
    "from deepadr.chemfeatures import *\n",
    "# from deepadr.model_gnn import GCN as testGCN\n",
    "from deepadr.model_gnn_ogb import GNN, DeepAdr_SiameseTrf, ExpressionNN\n",
    "# from deepadr.model_attn_siamese import *\n",
    "from ogb.graphproppred import Evaluator\n",
    "os.chdir(cwd)"
   ]
  },
  {
   "cell_type": "code",
   "execution_count": 6,
   "metadata": {},
   "outputs": [],
   "source": [
    "from rdkit.Chem.Draw import IPythonConsole\n",
    "from rdkit.Chem import Draw"
   ]
  },
  {
   "cell_type": "code",
   "execution_count": 7,
   "metadata": {},
   "outputs": [],
   "source": [
    "# from tdc.single_pred import Tox\n",
    "# from tdc.multi_pred import DDI"
   ]
  },
  {
   "cell_type": "code",
   "execution_count": 8,
   "metadata": {},
   "outputs": [],
   "source": [
    "rawdata_dir = '../data/raw/'\n",
    "processed_dir = '../data/processed/'\n",
    "up_dir = '..'"
   ]
  },
  {
   "cell_type": "code",
   "execution_count": 9,
   "metadata": {
    "scrolled": true
   },
   "outputs": [
    {
     "name": "stdout",
     "output_type": "stream",
     "text": [
      "number of GPUs available: 8\n",
      "cuda:0, name:GeForce GTX 1080 Ti\n",
      "total memory available: 10.91650390625 GB\n",
      "total memory allocated on device: 0.0 GB\n",
      "max memory allocated on device: 0.0 GB\n",
      "total memory cached on device: 0.0 GB\n",
      "max memory cached  on device: 0.0 GB\n",
      "\n",
      "cuda:1, name:GeForce GTX 1080 Ti\n",
      "total memory available: 10.91650390625 GB\n",
      "total memory allocated on device: 0.0 GB\n",
      "max memory allocated on device: 0.0 GB\n",
      "total memory cached on device: 0.0 GB\n",
      "max memory cached  on device: 0.0 GB\n",
      "\n",
      "cuda:2, name:GeForce GTX 1080 Ti\n",
      "total memory available: 10.91650390625 GB\n",
      "total memory allocated on device: 0.0 GB\n",
      "max memory allocated on device: 0.0 GB\n",
      "total memory cached on device: 0.0 GB\n",
      "max memory cached  on device: 0.0 GB\n",
      "\n",
      "cuda:3, name:GeForce GTX 1080 Ti\n",
      "total memory available: 10.91650390625 GB\n",
      "total memory allocated on device: 0.0 GB\n",
      "max memory allocated on device: 0.0 GB\n",
      "total memory cached on device: 0.0 GB\n",
      "max memory cached  on device: 0.0 GB\n",
      "\n",
      "cuda:4, name:GeForce GTX 1080 Ti\n",
      "total memory available: 10.91650390625 GB\n",
      "total memory allocated on device: 0.0 GB\n",
      "max memory allocated on device: 0.0 GB\n",
      "total memory cached on device: 0.0 GB\n",
      "max memory cached  on device: 0.0 GB\n",
      "\n",
      "cuda:5, name:GeForce GTX 1080 Ti\n",
      "total memory available: 10.91650390625 GB\n",
      "total memory allocated on device: 0.0 GB\n",
      "max memory allocated on device: 0.0 GB\n",
      "total memory cached on device: 0.0 GB\n",
      "max memory cached  on device: 0.0 GB\n",
      "\n",
      "cuda:6, name:GeForce GTX 1080 Ti\n",
      "total memory available: 10.91650390625 GB\n",
      "total memory allocated on device: 0.0 GB\n",
      "max memory allocated on device: 0.0 GB\n",
      "total memory cached on device: 0.0 GB\n",
      "max memory cached  on device: 0.0 GB\n",
      "\n",
      "cuda:7, name:GeForce GTX 1080 Ti\n",
      "total memory available: 10.91650390625 GB\n",
      "total memory allocated on device: 0.0 GB\n",
      "max memory allocated on device: 0.0 GB\n",
      "total memory cached on device: 0.0 GB\n",
      "max memory cached  on device: 0.0 GB\n",
      "\n"
     ]
    }
   ],
   "source": [
    "report_available_cuda_devices()"
   ]
  },
  {
   "cell_type": "code",
   "execution_count": 10,
   "metadata": {},
   "outputs": [
    {
     "data": {
      "text/plain": [
       "8"
      ]
     },
     "execution_count": 10,
     "metadata": {},
     "output_type": "execute_result"
    }
   ],
   "source": [
    "n_gpu = torch.cuda.device_count()\n",
    "n_gpu"
   ]
  },
  {
   "cell_type": "code",
   "execution_count": 11,
   "metadata": {},
   "outputs": [],
   "source": [
    "device_cpu = get_device(to_gpu=False)\n",
    "device_gpu = get_device(True, index=0)\n",
    "\n",
    "fdtype = torch.float32"
   ]
  },
  {
   "cell_type": "code",
   "execution_count": 12,
   "metadata": {},
   "outputs": [
    {
     "name": "stdout",
     "output_type": "stream",
     "text": [
      "torch: 1.9.1\n",
      "CUDA: 11.1\n"
     ]
    }
   ],
   "source": [
    "print(\"torch:\", torch.__version__)\n",
    "print(\"CUDA:\", torch.version.cuda)"
   ]
  },
  {
   "cell_type": "code",
   "execution_count": 13,
   "metadata": {},
   "outputs": [],
   "source": [
    "# print(torch.cuda.memory_summary(device=device_gpu))"
   ]
  },
  {
   "cell_type": "markdown",
   "metadata": {},
   "source": [
    "### Preparing dataset "
   ]
  },
  {
   "cell_type": "code",
   "execution_count": 14,
   "metadata": {},
   "outputs": [],
   "source": [
    "# TDC Tox\n",
    "DSdataset_name = 'SynergxZloewe' #'OncoPolyPharmacology' #'DrugComb'\n",
    "\n",
    "#fname_suffix = ds_config[\"fname_suffix\"]\n",
    "similarity_types = ['chem']\n",
    "kernel_option = 'sqeuclidean'\n",
    "data_fname = 'data_v1'\n",
    "# interact_matfname = ds_config[\"interact_matfname\"]\n",
    "# exp_iden = 'simtypeall'\n",
    "# ddi_interaction_labels_pth = ds_config[\"ddi_interaction_labels_pth\"]\n",
    "\n",
    "# up_dir, processed_dir, DSdataset_name, data_fname"
   ]
  },
  {
   "cell_type": "code",
   "execution_count": 15,
   "metadata": {
    "scrolled": true
   },
   "outputs": [
    {
     "name": "stdout",
     "output_type": "stream",
     "text": [
      "path_current_dir /cluster/home/skyriakos/chemprop_run/git/deepadr\n",
      "path_current_dir /cluster/home/skyriakos/chemprop_run/git/deepadr\n",
      "path_current_dir /cluster/home/skyriakos/chemprop_run/git/deepadr\n",
      "/cluster/home/skyriakos/chemprop_run/git/data/processed/SynergxZloewe/data_v1\n"
     ]
    }
   ],
   "source": [
    "targetdata_dir = create_directory(os.path.join(processed_dir, DSdataset_name, data_fname))\n",
    "targetdata_dir_raw = create_directory(os.path.join(targetdata_dir, \"raw\"))\n",
    "targetdata_dir_processed = create_directory(os.path.join(targetdata_dir, \"processed\"))\n",
    "# # ReaderWriter.dump_data(dpartitions, os.path.join(targetdata_dir, 'data_partitions.pkl'))\n",
    "print(targetdata_dir)"
   ]
  },
  {
   "cell_type": "code",
   "execution_count": 16,
   "metadata": {},
   "outputs": [
    {
     "name": "stdout",
     "output_type": "stream",
     "text": [
      "CPU times: user 12.4 ms, sys: 420 ms, total: 433 ms\n",
      "Wall time: 424 ms\n"
     ]
    }
   ],
   "source": [
    "%%time\n",
    "\n",
    "# Make sure to first run the \"data_generation\" notebook first\n",
    "\n",
    "dataset = MoleculeDataset(root=targetdata_dir)"
   ]
  },
  {
   "cell_type": "code",
   "execution_count": 17,
   "metadata": {},
   "outputs": [
    {
     "name": "stdout",
     "output_type": "stream",
     "text": [
      "\n",
      "Dataset: MoleculeDataset(75960):\n",
      "====================\n",
      "Number of graphs: 75960\n",
      "Number of features: 9\n",
      "Number of classes: 2\n"
     ]
    }
   ],
   "source": [
    "print()\n",
    "print(f'Dataset: {dataset}:')\n",
    "print('====================')\n",
    "print(f'Number of graphs: {len(dataset)}')\n",
    "print(f'Number of features: {dataset.num_features}')\n",
    "print(f'Number of classes: {dataset.num_classes}')\n",
    "\n",
    "data0 = dataset[0]  # Get the first graph object.\n",
    "\n",
    "# print()\n",
    "# print(data)\n",
    "# print('=============================================================')\n",
    "\n",
    "# # Gather some statistics about the first graph.\n",
    "# print(f'Number of nodes: {data.num_nodes}')\n",
    "# print(f'Number of edges: {data.num_edges}')\n",
    "# print(f'Average node degree: {data.num_edges / data.num_nodes:.2f}')\n",
    "# print(f'Contains isolated nodes: {data.contains_isolated_nodes()}')\n",
    "# print(f'Contains self-loops: {data.contains_self_loops()}')\n",
    "# print(f'Is undirected: {data.is_undirected()}')"
   ]
  },
  {
   "cell_type": "code",
   "execution_count": 18,
   "metadata": {
    "scrolled": true
   },
   "outputs": [
    {
     "data": {
      "text/plain": [
       "PairData(edge_index_a=[2, 44], x_a=[22, 9], edge_attr_a=[44, 3], edge_index_b=[2, 18], x_b=[9, 9], edge_attr_b=[18, 3], id=[1], y=[1], expression=[1, 908])"
      ]
     },
     "execution_count": 18,
     "metadata": {},
     "output_type": "execute_result"
    }
   ],
   "source": [
    "data0"
   ]
  },
  {
   "cell_type": "code",
   "execution_count": 19,
   "metadata": {},
   "outputs": [
    {
     "data": {
      "text/plain": [
       "torch.Size([1, 908])"
      ]
     },
     "execution_count": 19,
     "metadata": {},
     "output_type": "execute_result"
    }
   ],
   "source": [
    "data0.expression.shape"
   ]
  },
  {
   "cell_type": "code",
   "execution_count": 20,
   "metadata": {},
   "outputs": [
    {
     "data": {
      "text/plain": [
       "tensor([0], dtype=torch.int32)"
      ]
     },
     "execution_count": 20,
     "metadata": {},
     "output_type": "execute_result"
    }
   ],
   "source": [
    "data0.y"
   ]
  },
  {
   "cell_type": "code",
   "execution_count": 21,
   "metadata": {},
   "outputs": [
    {
     "data": {
      "text/plain": [
       "75960"
      ]
     },
     "execution_count": 21,
     "metadata": {},
     "output_type": "execute_result"
    }
   ],
   "source": [
    "len(dataset)"
   ]
  },
  {
   "cell_type": "code",
   "execution_count": 22,
   "metadata": {},
   "outputs": [],
   "source": [
    "# used_dataset = dataset\n",
    "\n",
    "# If you want to use a smaller subset of the dataset for testing\n",
    "smaller_dataset_len = int(len(dataset)/1)\n",
    "used_dataset = dataset[:smaller_dataset_len]"
   ]
  },
  {
   "cell_type": "code",
   "execution_count": 23,
   "metadata": {},
   "outputs": [
    {
     "name": "stdout",
     "output_type": "stream",
     "text": [
      "fold_num: 0\n",
      "train data\n",
      "class: 0 norm count: 0.4793293229233329\n",
      "class: 1 norm count: 0.5206706770766671\n",
      "validation data\n",
      "class: 0 norm count: 0.4793483626789534\n",
      "class: 1 norm count: 0.5206516373210466\n",
      "test data\n",
      "class: 0 norm count: 0.4793312269615587\n",
      "class: 1 norm count: 0.5206687730384413\n",
      "\n",
      "-------------------------\n",
      "fold_num: 1\n",
      "train data\n",
      "class: 0 norm count: 0.4793293229233329\n",
      "class: 1 norm count: 0.5206706770766671\n",
      "validation data\n",
      "class: 0 norm count: 0.4793483626789534\n",
      "class: 1 norm count: 0.5206516373210466\n",
      "test data\n",
      "class: 0 norm count: 0.4793312269615587\n",
      "class: 1 norm count: 0.5206687730384413\n",
      "\n",
      "-------------------------\n",
      "fold_num: 2\n",
      "train data\n",
      "class: 0 norm count: 0.4793293229233329\n",
      "class: 1 norm count: 0.5206706770766671\n",
      "validation data\n",
      "class: 0 norm count: 0.4793483626789534\n",
      "class: 1 norm count: 0.5206516373210466\n",
      "test data\n",
      "class: 0 norm count: 0.4793312269615587\n",
      "class: 1 norm count: 0.5206687730384413\n",
      "\n",
      "-------------------------\n",
      "fold_num: 3\n",
      "train data\n",
      "class: 0 norm count: 0.4793293229233329\n",
      "class: 1 norm count: 0.5206706770766671\n",
      "validation data\n",
      "class: 0 norm count: 0.4793483626789534\n",
      "class: 1 norm count: 0.5206516373210466\n",
      "test data\n",
      "class: 0 norm count: 0.4793312269615587\n",
      "class: 1 norm count: 0.5206687730384413\n",
      "\n",
      "-------------------------\n",
      "fold_num: 4\n",
      "train data\n",
      "class: 0 norm count: 0.4793293229233329\n",
      "class: 1 norm count: 0.5206706770766671\n",
      "validation data\n",
      "class: 0 norm count: 0.4793483626789534\n",
      "class: 1 norm count: 0.5206516373210466\n",
      "test data\n",
      "class: 0 norm count: 0.4793312269615587\n",
      "class: 1 norm count: 0.5206687730384413\n",
      "\n",
      "-------------------------\n"
     ]
    }
   ],
   "source": [
    "fold_partitions = get_stratified_partitions(used_dataset.data.y[:smaller_dataset_len],\n",
    "                                            num_folds=5, valid_set_portion=0.1, random_state=42)"
   ]
  },
  {
   "cell_type": "code",
   "execution_count": 24,
   "metadata": {},
   "outputs": [],
   "source": [
    "# train_val_test_frac = [0.7, 0.1, 0.2]\n",
    "# assert sum(train_val_test_frac) == 1\n",
    "\n",
    "# torch.manual_seed(42)\n",
    "# used_dataset = used_dataset.shuffle()\n",
    "\n",
    "# num_train = round(train_val_test_frac[0] * len(used_dataset)) \n",
    "# num_trainval = round((train_val_test_frac[0]+train_val_test_frac[1]) * len(used_dataset))\n",
    "\n",
    "# train_dataset = used_dataset[:num_train]\n",
    "# val_dataset = used_dataset[num_train:num_trainval]\n",
    "# test_dataset = used_dataset[num_trainval:]"
   ]
  },
  {
   "cell_type": "code",
   "execution_count": 25,
   "metadata": {},
   "outputs": [],
   "source": [
    "train_dataset = Subset(used_dataset, fold_partitions[0]['train'])\n",
    "val_dataset = Subset(used_dataset, fold_partitions[0]['validation'])\n",
    "test_dataset = Subset(used_dataset, fold_partitions[0]['test'])"
   ]
  },
  {
   "cell_type": "code",
   "execution_count": 26,
   "metadata": {},
   "outputs": [
    {
     "name": "stdout",
     "output_type": "stream",
     "text": [
      "Number of training graphs: 54691\n",
      "Number of val graphs: 6077\n",
      "Number of test graphs: 15192\n"
     ]
    }
   ],
   "source": [
    "print(f'Number of training graphs: {len(train_dataset)}')\n",
    "print(f'Number of val graphs: {len(val_dataset)}')\n",
    "print(f'Number of test graphs: {len(test_dataset)}')"
   ]
  },
  {
   "cell_type": "code",
   "execution_count": 27,
   "metadata": {},
   "outputs": [
    {
     "name": "stdout",
     "output_type": "stream",
     "text": [
      "2\n"
     ]
    }
   ],
   "source": [
    "print(dataset.num_classes)"
   ]
  },
  {
   "cell_type": "code",
   "execution_count": 28,
   "metadata": {},
   "outputs": [],
   "source": [
    "# train_dataset[3]"
   ]
  },
  {
   "cell_type": "code",
   "execution_count": 29,
   "metadata": {},
   "outputs": [],
   "source": [
    "# training params\n",
    "tp = {\n",
    "    \"batch_size\" : 300,\n",
    "    \"num_epochs\" : 10,\n",
    "    \n",
    "    \"emb_dim\" : 300,\n",
    "    \"gnn_type\" : \"gatv2\",\n",
    "    \"num_layer\" : 5,\n",
    "    \"graph_pooling\" : \"mean\", #attention\n",
    "    \n",
    "    \"input_embed_dim\" : None,\n",
    "    \"gene_embed_dim\": 1,\n",
    "    \"num_attn_heads\" : 2,\n",
    "    \"num_transformer_units\" : 1,\n",
    "    \"p_dropout\" : 0.3,\n",
    "    \"nonlin_func\" : nn.ReLU(),\n",
    "    \"mlp_embed_factor\" : 2,\n",
    "    \"pooling_mode\" : 'attn',\n",
    "    \"dist_opt\" : 'cosine',\n",
    "\n",
    "    \"base_lr\" : 3e-5, #3e-4\n",
    "    \"max_lr_mul\": 5,\n",
    "    \"l2_reg\" : 1e-7,\n",
    "    \"loss_w\" : 0.1,\n",
    "    \"margin_v\" : 1.,\n",
    "\n",
    "    \"expression_dim\" : 64,\n",
    "    \"expression_input_size\" : 908,\n",
    "    \"exp_H1\" : 500,\n",
    "    \"exp_H2\" : 400\n",
    "}"
   ]
  },
  {
   "cell_type": "code",
   "execution_count": 30,
   "metadata": {},
   "outputs": [],
   "source": [
    "train_loader = DataLoader(train_dataset, batch_size=tp[\"batch_size\"], shuffle=True, follow_batch=['x_a', 'x_b'])\n",
    "valid_loader = DataLoader(val_dataset, batch_size=tp[\"batch_size\"], shuffle=False, follow_batch=['x_a', 'x_b'])\n",
    "test_loader = DataLoader(test_dataset, batch_size=tp[\"batch_size\"], shuffle=False, follow_batch=['x_a', 'x_b'])"
   ]
  },
  {
   "cell_type": "code",
   "execution_count": 31,
   "metadata": {},
   "outputs": [],
   "source": [
    "gnn_model = GNN(gnn_type = tp[\"gnn_type\"], \n",
    "#                 num_tasks = dataset.num_classes, \n",
    "                num_layer = tp[\"num_layer\"], \n",
    "                emb_dim = tp[\"emb_dim\"], \n",
    "                drop_ratio = 0.5, \n",
    "                JK = \"multilayer\", #last\n",
    "                graph_pooling = tp[\"graph_pooling\"],\n",
    "                virtual_node = False,\n",
    "                with_edge_attr=False).to(device=device_gpu, dtype=fdtype)"
   ]
  },
  {
   "cell_type": "code",
   "execution_count": 32,
   "metadata": {},
   "outputs": [
    {
     "name": "stdout",
     "output_type": "stream",
     "text": [
      "GeneEmbAttention pooling, gene_embed_dim: 1\n"
     ]
    }
   ],
   "source": [
    "transformer_model = DeepAdr_Transformer(input_size=tp[\"expression_input_size\"],\n",
    "                                        input_embed_dim=tp[\"input_embed_dim\"],\n",
    "                                        num_attn_heads=tp[\"num_attn_heads\"],\n",
    "                                        mlp_embed_factor=tp[\"mlp_embed_factor\"],\n",
    "                                        nonlin_func=tp[\"nonlin_func\"],\n",
    "                                        pdropout=tp[\"p_dropout\"],\n",
    "                                        num_transformer_units=tp[\"num_transformer_units\"],\n",
    "                                        pooling_mode=tp[\"pooling_mode\"],\n",
    "                                        gene_embed_dim=tp['gene_embed_dim']).to(device=device_gpu, dtype=fdtype)\n",
    "\n",
    "# get_cuda_device_stats(0)"
   ]
  },
  {
   "cell_type": "code",
   "execution_count": 33,
   "metadata": {},
   "outputs": [],
   "source": [
    "# expression_model = ExpressionNN(D_in=tp[\"expression_input_size\"],\n",
    "#                                 H1=tp[\"exp_H1\"], H2=tp[\"exp_H2\"],\n",
    "#                                 D_out=tp[\"expression_dim\"], drop=0.5).to(device=device_gpu, dtype=fdtype)"
   ]
  },
  {
   "cell_type": "code",
   "execution_count": 34,
   "metadata": {},
   "outputs": [
    {
     "name": "stdout",
     "output_type": "stream",
     "text": [
      "updated\n",
      "num classes: 2\n"
     ]
    }
   ],
   "source": [
    "siamese_model = DeepAdr_SiameseTrf(input_dim=tp[\"emb_dim\"],\n",
    "                                   dist=tp[\"dist_opt\"],\n",
    "                                   expression_dim=tp[\"expression_input_size\"],\n",
    "                                   gene_embed_dim=tp['gene_embed_dim'],\n",
    "                                   num_classes=dataset.num_classes).to(device=device_gpu, dtype=fdtype)\n",
    "\n",
    "# get_cuda_device_stats(0)"
   ]
  },
  {
   "cell_type": "code",
   "execution_count": 35,
   "metadata": {},
   "outputs": [],
   "source": [
    "# lasso_input_dim = 2*tp[\"emb_dim\"]+1+expression_input_size\n",
    "# lasso_out_dim = dataset.num_classes\n",
    "\n",
    "# lassonet_model = LassoNet(lasso_input_dim, lasso_out_dim)"
   ]
  },
  {
   "cell_type": "code",
   "execution_count": 36,
   "metadata": {},
   "outputs": [],
   "source": [
    "# models_param = list(gnn_model.parameters()) + list(transformer_model.parameters()) + list(siamese_model.parameters()) + list(expression_model.parameters())\n",
    "models_param = list(gnn_model.parameters()) + list(transformer_model.parameters()) + list(siamese_model.parameters())\n",
    "\n",
    "\n",
    "model_name = \"ogb\"\n",
    "models = [(gnn_model, f'{model_name}_GNN'),\n",
    "          (transformer_model, f'{model_name}_Transformer'),\n",
    "          (siamese_model, f'{model_name}_Siamese'),\n",
    "#           (expression_model, f'{model_name}_Expression'),\n",
    "#           (lassonet_model, f'{model_name}_LassoNet')\n",
    "         ]\n",
    "#models\n",
    "\n",
    "# get_cuda_device_stats(0)"
   ]
  },
  {
   "cell_type": "code",
   "execution_count": 37,
   "metadata": {},
   "outputs": [
    {
     "data": {
      "text/plain": [
       "tensor([1.0431, 0.9603], device='cuda:0')"
      ]
     },
     "execution_count": 37,
     "metadata": {},
     "output_type": "execute_result"
    }
   ],
   "source": [
    "y_weights = ReaderWriter.read_data(os.path.join(targetdata_dir_raw, 'y_weights.pkl'))\n",
    "class_weights = torch.tensor(y_weights).type(fdtype).to(device_gpu)\n",
    "class_weights"
   ]
  },
  {
   "cell_type": "code",
   "execution_count": 38,
   "metadata": {},
   "outputs": [],
   "source": [
    "# from IPython.display import Javascript\n",
    "# display(Javascript('''google.colab.output.setIframeHeight(0, true, {maxHeight: 300})'''))\n",
    "\n",
    "num_iter = len(train_loader)  # num_train_samples/batch_size\n",
    "c_step_size = int(np.ceil(5*num_iter))  # this should be 2-10 times num_iter\n",
    "\n",
    "base_lr = tp['base_lr']\n",
    "max_lr = tp['max_lr_mul']*base_lr  # 3-5 times base_lr\n",
    "optimizer = torch.optim.Adam(models_param, weight_decay=tp[\"l2_reg\"], lr=base_lr)\n",
    "cyc_scheduler = torch.optim.lr_scheduler.CyclicLR(optimizer, base_lr, max_lr, step_size_up=c_step_size,\n",
    "                                                mode='triangular', cycle_momentum=False)\n",
    "# optimizer = torch.optim.Adam(models_param, lr=0.001)\n",
    "# criterion = torch.nn.CrossEntropyLoss()\n",
    "\n",
    "# loss_nlll = torch.nn.NLLLoss(weight=class_weights, reduction='mean')  # negative log likelihood loss\n",
    "loss_nlll = torch.nn.NLLLoss(weight=class_weights, reduction='mean')  # negative log likelihood loss\n",
    "loss_contrastive = ContrastiveLoss(0.5, reduction='mean')\n",
    "# loss_mse = torch.nn.MSELoss()  # this is for regression mean squared loss\n",
    "\n",
    "\n",
    "# evaluator = Evaluator(DSdataset_name)"
   ]
  },
  {
   "cell_type": "code",
   "execution_count": 39,
   "metadata": {},
   "outputs": [],
   "source": [
    "def train():\n",
    "    \n",
    "#     print(\"train cuda sum:\", torch.cuda.memory_summary())\n",
    "\n",
    "#     get_cuda_device_stats(0)\n",
    "    \n",
    "    for m, m_name in models:\n",
    "        m.train()\n",
    "\n",
    "        #            for i_batch, samples_batch in enumerate(data_loader):\n",
    "\n",
    "#     for data in train_loader:  # Iterate in batches over the training dataset.\n",
    "    for i_batch, batch in enumerate(tqdm(train_loader, desc=\"Iteration\")):\n",
    "        batch = batch.to(device_gpu)\n",
    "\n",
    "#         print(\"running batch:\", i_batch)\n",
    "        # x, edge_index, edge_attr, batch\n",
    "        h_a = gnn_model(batch.x_a, batch.edge_index_a, batch.edge_attr_a, batch.x_a_batch)\n",
    "        h_b = gnn_model(batch.x_b, batch.edge_index_b, batch.edge_attr_b, batch.x_b_batch)\n",
    "        \n",
    "#         print(\"h_a shape:\", h_a.shape)\n",
    "        \n",
    "#         z_a, fattn_w_scores_a = transformer_model(h_a)\n",
    "#         z_b, fattn_w_scores_b = transformer_model(h_b)\n",
    "        \n",
    "#         z_e = expression_model(batch.expression.type(fdtype))\n",
    "        \n",
    "        z_e, _ = transformer_model(torch.unsqueeze(batch.expression.type(fdtype), dim=1))\n",
    "        \n",
    "#         print(\"h_a shape:\", h_a.shape)\n",
    "#         print(\"h_b shape:\", h_b.shape)\n",
    "#         print(\"transformer_input shape:\", transformer_input.shape)\n",
    "#         print(\"z_e shape:\", z_e.shape)\n",
    "#         print(\"fattn_w_scores_e shape:\", fattn_w_scores_e.shape)\n",
    "        \n",
    "#         print(\"h_a dtype:\", h_a.dtype)\n",
    "#         print(\"h_b dtype:\", h_b.dtype)\n",
    "#         print(\"z_e dtype:\", z_e.dtype)\n",
    "        \n",
    "#         if (i_batch == 0):\n",
    "#             print(torch.cuda.memory_summary(device=device_gpu))\n",
    "        \n",
    "        logsoftmax_scores, dist = siamese_model(h_a, h_b, z_e)\n",
    "#         out = model(data.x, data.edge_index, data.batch)  # Perform a single forward pass.\n",
    "#         loss = criterion(out, samples_batch.y)  # Compute the loss.\n",
    "#         print(pd.Series(batch.y.cpu()).value_counts())\n",
    "        cl = loss_nlll(logsoftmax_scores, batch.y.type(torch.long))            \n",
    "        dl = loss_contrastive(dist.reshape(-1), batch.y.type(fdtype))          \n",
    "        loss = tp[\"loss_w\"]*cl + (1-tp[\"loss_w\"])*dl\n",
    "        loss.backward()  # Derive gradients.\n",
    "        optimizer.step()  # Update parameters based on gradients.\n",
    "        cyc_scheduler.step() # after each batch step the scheduler\n",
    "        optimizer.zero_grad()  # Clear gradients.\n",
    "        \n",
    "\n",
    "        \n",
    "#     print(\"deleting objects...\")\n",
    "#     del batch, h_a, h_b, z_e, logsoftmax_scores, dist, cl, dl    \n",
    "#     gc.collect() # CUDA out of memory...\n",
    "#     torch.cuda.empty_cache()\n",
    "    \n",
    "#     get_cuda_device_stats(0)\n",
    "\n",
    "\n",
    "def eval(loader, dsettype):\n",
    "    \n",
    "#     print(\"eval cuda sum (\" + dsettype + \"):\", torch.cuda.memory_summary())\n",
    "#     print(\"mem stat:\", torch.cuda.memory_stats())\n",
    "#     get_cuda_device_stats(0)\n",
    "    \n",
    "    for m, m_name in models:\n",
    "        m.eval()\n",
    "        \n",
    "    pred_class = []\n",
    "    ref_class = []\n",
    "    prob_scores = []\n",
    "    \n",
    "    fattn_w_scores_e_ids = []\n",
    "    \n",
    "#     for data in loader:  # Iterate in batches over the training/test dataset.\n",
    "    for i_batch, batch in enumerate(tqdm(loader, desc=\"Iteration\")):\n",
    "        batch = batch.to(device_gpu)\n",
    "#         out = model(data.x, data.edge_index, data.batch)  \n",
    "        h_a = gnn_model(batch.x_a, batch.edge_index_a, batch.edge_attr_a, batch.x_a_batch)\n",
    "        h_b = gnn_model(batch.x_b, batch.edge_index_b, batch.edge_attr_b, batch.x_b_batch)\n",
    "        \n",
    "#         z_a, fattn_w_scores_a = transformer_model(h_a)\n",
    "#         z_b, fattn_w_scores_b = transformer_model(h_b)\n",
    "        \n",
    "#         z_e = expression_model(batch.expression.type(fdtype))\n",
    "\n",
    "        z_e, fattn_w_scores_e = transformer_model(torch.unsqueeze(batch.expression.type(fdtype), dim=1))\n",
    "        \n",
    "        if (dsettype==\"test\"):\n",
    "#             print(\"fattn_w_scores_e shape:\", fattn_w_scores_e.shape)\n",
    "#             print(\"batch id shape:\", batch.id.shape)\n",
    "            \n",
    "            fattn_w_scores_e_ids.append(torch.cat((batch.id.unsqueeze(1), fattn_w_scores_e), 1))\n",
    "\n",
    "        \n",
    "#         logsoftmax_scores, dist = deepadr_siamese(z_a, z_b)\n",
    "        \n",
    "#         __, y_pred_clss = torch.max(logsoftmax_scores, -1)\n",
    "#         y_pred_prob  = torch.exp(logsoftmax_scores.detach().cpu()).numpy()\n",
    "\n",
    "#         pred_class.extend(y_pred_clss.view(-1).tolist())\n",
    "#         ref_class.extend(batch.y.view(-1).tolist())\n",
    "# #         prob_scores.append(y_pred_prob)\n",
    "#         prob_scores.extend(y_pred_prob.view(-1).tolist())\n",
    "    \n",
    "        logsoftmax_scores, dist = siamese_model(h_a, h_b, z_e)\n",
    "\n",
    "        __, y_pred_clss = torch.max(logsoftmax_scores, -1)\n",
    "\n",
    "        y_pred_prob  = torch.exp(logsoftmax_scores.detach().cpu()).numpy()\n",
    "\n",
    "        pred_class.extend(y_pred_clss.view(-1).tolist())\n",
    "        ref_class.extend(batch.y.view(-1).tolist())\n",
    "        prob_scores.append(y_pred_prob)\n",
    "\n",
    "    prob_scores_arr = np.concatenate(prob_scores, axis=0)\n",
    "#     print(\"pred_class\", pred_class)\n",
    "#     print(\"ref_class\", ref_class)\n",
    "    modelscore = perfmetric_report(pred_class, ref_class, prob_scores_arr[:,1], epoch,\n",
    "                                  outlog = os.path.join(targetdata_dir_processed, dsettype + \".log\"))\n",
    "#     modelscore = perfmetric_report(pred_class, ref_class, prob_scores, epoch, \"\")        \n",
    "    \n",
    "#         pred = out.argmax(dim=1)  # Use the class with highest probability.\n",
    "#         correct += int((pred == samples_batch.y).sum())  # Check against ground-truth labels.\n",
    "#     return correct / len(loader.dataset)  # Derive ratio of correct predictions.\n",
    "\n",
    "    if (dsettype==\"test\"):\n",
    "        fattn_w_scores_e_ids_np = torch.cat(fattn_w_scores_e_ids).detach().cpu().numpy()\n",
    "        df_fattn_w_scores_e_ids = pd.DataFrame(fattn_w_scores_e_ids_np)\n",
    "        df_fattn_w_scores_e_ids.columns = [\"id\"] + [\"gex\"+str(i) for i in range(int(tp['expression_input_size']))]\n",
    "        df_fattn_w_scores_e_ids.to_csv(os.path.join(targetdata_dir_processed, \"fattn_w_scores_e_ids_test\" + \".csv\"))\n",
    "        \n",
    "#         del fattn_w_scores_e_ids, fattn_w_scores_e_ids_np\n",
    "\n",
    "    \n",
    "#     print(\"deleting objects...\")\n",
    "#     del batch, h_a, h_b, z_e, logsoftmax_scores, dist, y_pred_clss, y_pred_prob, prob_scores_arr\n",
    "#     gc.collect() # CUDA out of memory...\n",
    "#     torch.cuda.empty_cache()\n",
    "    \n",
    "#     get_cuda_device_stats(0)\n",
    "    \n",
    "    return modelscore"
   ]
  },
  {
   "cell_type": "code",
   "execution_count": 40,
   "metadata": {},
   "outputs": [],
   "source": [
    "valid_curve = []\n",
    "test_curve = []\n",
    "train_curve = []"
   ]
  },
  {
   "cell_type": "code",
   "execution_count": 41,
   "metadata": {
    "scrolled": false
   },
   "outputs": [
    {
     "name": "stdout",
     "output_type": "stream",
     "text": [
      "=====Epoch 0\n",
      "Training...\n"
     ]
    },
    {
     "name": "stderr",
     "output_type": "stream",
     "text": [
      "Iteration: 100%|████████████████████████████████████████████████████████████████████████████████████████████████████████████████████████████████████████████████████████████████████████████████████████████| 183/183 [00:52<00:00,  3.47it/s]\n"
     ]
    },
    {
     "name": "stdout",
     "output_type": "stream",
     "text": [
      "Evaluating...\n"
     ]
    },
    {
     "name": "stderr",
     "output_type": "stream",
     "text": [
      "Iteration: 100%|████████████████████████████████████████████████████████████████████████████████████████████████████████████████████████████████████████████████████████████████████████████████████████████| 183/183 [00:11<00:00, 16.52it/s]\n",
      "Iteration: 100%|██████████████████████████████████████████████████████████████████████████████████████████████████████████████████████████████████████████████████████████████████████████████████████████████| 21/21 [00:01<00:00, 11.96it/s]\n",
      "Iteration: 100%|██████████████████████████████████████████████████████████████████████████████████████████████████████████████████████████████████████████████████████████████████████████████████████████████| 51/51 [00:04<00:00, 10.91it/s]\n"
     ]
    },
    {
     "name": "stdout",
     "output_type": "stream",
     "text": [
      "{'Train':  best_epoch_indx:0\n",
      " auc:0.6346731340353684 \n",
      " apur:0.6440263211356342 \n",
      " f1:0.3932458549486319 \n",
      " precision:0.7127581120943953 \n",
      " recall:0.2715268998454839 \n",
      ", 'Validation':  best_epoch_indx:0\n",
      " auc:0.6360523990499019 \n",
      " apur:0.6436508539543127 \n",
      " f1:0.39256198347107435 \n",
      " precision:0.7172818791946308 \n",
      " recall:0.2702275600505689 \n",
      ", 'Test':  best_epoch_indx:0\n",
      " auc:0.6355348779231891 \n",
      " apur:0.6422062474039572 \n",
      " f1:0.3881035432348081 \n",
      " precision:0.7084450402144772 \n",
      " recall:0.2672566371681416 \n",
      "}\n",
      "=====Epoch 1\n",
      "Training...\n"
     ]
    },
    {
     "name": "stderr",
     "output_type": "stream",
     "text": [
      "Iteration: 100%|████████████████████████████████████████████████████████████████████████████████████████████████████████████████████████████████████████████████████████████████████████████████████████████| 183/183 [00:29<00:00,  6.29it/s]\n"
     ]
    },
    {
     "name": "stdout",
     "output_type": "stream",
     "text": [
      "Evaluating...\n"
     ]
    },
    {
     "name": "stderr",
     "output_type": "stream",
     "text": [
      "Iteration: 100%|████████████████████████████████████████████████████████████████████████████████████████████████████████████████████████████████████████████████████████████████████████████████████████████| 183/183 [00:10<00:00, 16.69it/s]\n",
      "Iteration: 100%|██████████████████████████████████████████████████████████████████████████████████████████████████████████████████████████████████████████████████████████████████████████████████████████████| 21/21 [00:01<00:00, 17.50it/s]\n",
      "Iteration: 100%|██████████████████████████████████████████████████████████████████████████████████████████████████████████████████████████████████████████████████████████████████████████████████████████████| 51/51 [00:02<00:00, 17.27it/s]\n"
     ]
    },
    {
     "name": "stdout",
     "output_type": "stream",
     "text": [
      "{'Train':  best_epoch_indx:1\n",
      " auc:0.6901018138901689 \n",
      " apur:0.7018585662384004 \n",
      " f1:0.5730984490200532 \n",
      " precision:0.695663073451993 \n",
      " recall:0.48725242309313105 \n",
      ", 'Validation':  best_epoch_indx:1\n",
      " auc:0.6872107163363327 \n",
      " apur:0.6980836432875088 \n",
      " f1:0.5679150363331469 \n",
      " precision:0.6917839310031775 \n",
      " recall:0.48166877370417194 \n",
      ", 'Test':  best_epoch_indx:1\n",
      " auc:0.6914158128853474 \n",
      " apur:0.7006673217529658 \n",
      " f1:0.5713433725957954 \n",
      " precision:0.6962209302325582 \n",
      " recall:0.48445006321112516 \n",
      "}\n",
      "=====Epoch 2\n",
      "Training...\n"
     ]
    },
    {
     "name": "stderr",
     "output_type": "stream",
     "text": [
      "Iteration: 100%|████████████████████████████████████████████████████████████████████████████████████████████████████████████████████████████████████████████████████████████████████████████████████████████| 183/183 [00:29<00:00,  6.23it/s]\n"
     ]
    },
    {
     "name": "stdout",
     "output_type": "stream",
     "text": [
      "Evaluating...\n"
     ]
    },
    {
     "name": "stderr",
     "output_type": "stream",
     "text": [
      "Iteration: 100%|████████████████████████████████████████████████████████████████████████████████████████████████████████████████████████████████████████████████████████████████████████████████████████████| 183/183 [00:10<00:00, 16.74it/s]\n",
      "Iteration: 100%|██████████████████████████████████████████████████████████████████████████████████████████████████████████████████████████████████████████████████████████████████████████████████████████████| 21/21 [00:01<00:00, 17.52it/s]\n",
      "Iteration: 100%|██████████████████████████████████████████████████████████████████████████████████████████████████████████████████████████████████████████████████████████████████████████████████████████████| 51/51 [00:02<00:00, 17.31it/s]\n"
     ]
    },
    {
     "name": "stdout",
     "output_type": "stream",
     "text": [
      "{'Train':  best_epoch_indx:2\n",
      " auc:0.7015973813150074 \n",
      " apur:0.7078254482351236 \n",
      " f1:0.6013787746383144 \n",
      " precision:0.6726617142360659 \n",
      " recall:0.543756145526057 \n",
      ", 'Validation':  best_epoch_indx:2\n",
      " auc:0.6942677187532413 \n",
      " apur:0.7005615992890446 \n",
      " f1:0.596931659693166 \n",
      " precision:0.6656298600311042 \n",
      " recall:0.5410872313527181 \n",
      ", 'Test':  best_epoch_indx:2\n",
      " auc:0.7043627047764417 \n",
      " apur:0.7092759809743632 \n",
      " f1:0.604966771598461 \n",
      " precision:0.6772122161315584 \n",
      " recall:0.5466498103666245 \n",
      "}\n",
      "=====Epoch 3\n",
      "Training...\n"
     ]
    },
    {
     "name": "stderr",
     "output_type": "stream",
     "text": [
      "Iteration: 100%|████████████████████████████████████████████████████████████████████████████████████████████████████████████████████████████████████████████████████████████████████████████████████████████| 183/183 [00:28<00:00,  6.35it/s]\n"
     ]
    },
    {
     "name": "stdout",
     "output_type": "stream",
     "text": [
      "Evaluating...\n"
     ]
    },
    {
     "name": "stderr",
     "output_type": "stream",
     "text": [
      "Iteration: 100%|████████████████████████████████████████████████████████████████████████████████████████████████████████████████████████████████████████████████████████████████████████████████████████████| 183/183 [00:10<00:00, 16.92it/s]\n",
      "Iteration: 100%|██████████████████████████████████████████████████████████████████████████████████████████████████████████████████████████████████████████████████████████████████████████████████████████████| 21/21 [00:01<00:00, 17.53it/s]\n",
      "Iteration: 100%|██████████████████████████████████████████████████████████████████████████████████████████████████████████████████████████████████████████████████████████████████████████████████████████████| 51/51 [00:03<00:00, 15.74it/s]\n"
     ]
    },
    {
     "name": "stdout",
     "output_type": "stream",
     "text": [
      "{'Train':  best_epoch_indx:3\n",
      " auc:0.7612902602033917 \n",
      " apur:0.7798730781724321 \n",
      " f1:0.6065180102915951 \n",
      " precision:0.7786831094472583 \n",
      " recall:0.4966989745750808 \n",
      ", 'Validation':  best_epoch_indx:3\n",
      " auc:0.752068195104295 \n",
      " apur:0.7683593489889344 \n",
      " f1:0.6007283879624306 \n",
      " precision:0.763273258645884 \n",
      " recall:0.4952591656131479 \n",
      ", 'Test':  best_epoch_indx:3\n",
      " auc:0.7674731105324908 \n",
      " apur:0.786064218318174 \n",
      " f1:0.6110552763819095 \n",
      " precision:0.7864676616915423 \n",
      " recall:0.4996207332490518 \n",
      "}\n",
      "=====Epoch 4\n",
      "Training...\n"
     ]
    },
    {
     "name": "stderr",
     "output_type": "stream",
     "text": [
      "Iteration: 100%|████████████████████████████████████████████████████████████████████████████████████████████████████████████████████████████████████████████████████████████████████████████████████████████| 183/183 [00:27<00:00,  6.73it/s]\n"
     ]
    },
    {
     "name": "stdout",
     "output_type": "stream",
     "text": [
      "Evaluating...\n"
     ]
    },
    {
     "name": "stderr",
     "output_type": "stream",
     "text": [
      "Iteration: 100%|████████████████████████████████████████████████████████████████████████████████████████████████████████████████████████████████████████████████████████████████████████████████████████████| 183/183 [00:10<00:00, 16.72it/s]\n",
      "Iteration: 100%|██████████████████████████████████████████████████████████████████████████████████████████████████████████████████████████████████████████████████████████████████████████████████████████████| 21/21 [00:01<00:00, 17.45it/s]\n",
      "Iteration: 100%|██████████████████████████████████████████████████████████████████████████████████████████████████████████████████████████████████████████████████████████████████████████████████████████████| 51/51 [00:02<00:00, 17.30it/s]\n"
     ]
    },
    {
     "name": "stdout",
     "output_type": "stream",
     "text": [
      "{'Train':  best_epoch_indx:4\n",
      " auc:0.791750977637807 \n",
      " apur:0.806956265673358 \n",
      " f1:0.7013938460382463 \n",
      " precision:0.7540592939655869 \n",
      " recall:0.6556047197640118 \n",
      ", 'Validation':  best_epoch_indx:4\n",
      " auc:0.7837681512275718 \n",
      " apur:0.7969937844093519 \n",
      " f1:0.69575511584644 \n",
      " precision:0.748272098945071 \n",
      " recall:0.650126422250316 \n",
      ", 'Test':  best_epoch_indx:4\n",
      " auc:0.7972654547815631 \n",
      " apur:0.8121948865905241 \n",
      " f1:0.7096469954190244 \n",
      " precision:0.7595904239976925 \n",
      " recall:0.6658659924146649 \n",
      "}\n",
      "=====Epoch 5\n",
      "Training...\n"
     ]
    },
    {
     "name": "stderr",
     "output_type": "stream",
     "text": [
      "Iteration: 100%|████████████████████████████████████████████████████████████████████████████████████████████████████████████████████████████████████████████████████████████████████████████████████████████| 183/183 [00:28<00:00,  6.32it/s]\n"
     ]
    },
    {
     "name": "stdout",
     "output_type": "stream",
     "text": [
      "Evaluating...\n"
     ]
    },
    {
     "name": "stderr",
     "output_type": "stream",
     "text": [
      "Iteration: 100%|████████████████████████████████████████████████████████████████████████████████████████████████████████████████████████████████████████████████████████████████████████████████████████████| 183/183 [00:10<00:00, 16.73it/s]\n",
      "Iteration: 100%|██████████████████████████████████████████████████████████████████████████████████████████████████████████████████████████████████████████████████████████████████████████████████████████████| 21/21 [00:01<00:00, 17.47it/s]\n",
      "Iteration: 100%|██████████████████████████████████████████████████████████████████████████████████████████████████████████████████████████████████████████████████████████████████████████████████████████████| 51/51 [00:03<00:00, 15.60it/s]\n"
     ]
    },
    {
     "name": "stdout",
     "output_type": "stream",
     "text": [
      "{'Train':  best_epoch_indx:5\n",
      " auc:0.8086028429748418 \n",
      " apur:0.8256723407044804 \n",
      " f1:0.7111995560743192 \n",
      " precision:0.7813327727559386 \n",
      " recall:0.6526197499648827 \n",
      ", 'Validation':  best_epoch_indx:5\n",
      " auc:0.7991403569074158 \n",
      " apur:0.8155221403416587 \n",
      " f1:0.7022664835164835 \n",
      " precision:0.768796992481203 \n",
      " recall:0.6463337547408344 \n",
      ", 'Test':  best_epoch_indx:5\n",
      " auc:0.8131089561188751 \n",
      " apur:0.8302895955541542 \n",
      " f1:0.7159629248197734 \n",
      " precision:0.7834710743801653 \n",
      " recall:0.659165613147914 \n",
      "}\n",
      "=====Epoch 6\n",
      "Training...\n"
     ]
    },
    {
     "name": "stderr",
     "output_type": "stream",
     "text": [
      "Iteration: 100%|████████████████████████████████████████████████████████████████████████████████████████████████████████████████████████████████████████████████████████████████████████████████████████████| 183/183 [00:28<00:00,  6.34it/s]\n"
     ]
    },
    {
     "name": "stdout",
     "output_type": "stream",
     "text": [
      "Evaluating...\n"
     ]
    },
    {
     "name": "stderr",
     "output_type": "stream",
     "text": [
      "Iteration: 100%|████████████████████████████████████████████████████████████████████████████████████████████████████████████████████████████████████████████████████████████████████████████████████████████| 183/183 [00:10<00:00, 16.76it/s]\n",
      "Iteration: 100%|██████████████████████████████████████████████████████████████████████████████████████████████████████████████████████████████████████████████████████████████████████████████████████████████| 21/21 [00:01<00:00, 17.45it/s]\n",
      "Iteration: 100%|██████████████████████████████████████████████████████████████████████████████████████████████████████████████████████████████████████████████████████████████████████████████████████████████| 51/51 [00:02<00:00, 17.25it/s]\n"
     ]
    },
    {
     "name": "stdout",
     "output_type": "stream",
     "text": [
      "{'Train':  best_epoch_indx:6\n",
      " auc:0.8166938736930078 \n",
      " apur:0.8323747890172516 \n",
      " f1:0.7328185185867783 \n",
      " precision:0.7710894775627352 \n",
      " recall:0.6981668773704172 \n",
      ", 'Validation':  best_epoch_indx:6\n",
      " auc:0.8108643063506674 \n",
      " apur:0.8250815010239732 \n",
      " f1:0.7279058199303599 \n",
      " precision:0.7656086501569584 \n",
      " recall:0.6937420986093552 \n",
      ", 'Test':  best_epoch_indx:6\n",
      " auc:0.8210872382970877 \n",
      " apur:0.8365956291449436 \n",
      " f1:0.7386640342217835 \n",
      " precision:0.7703500343170899 \n",
      " recall:0.7094816687737042 \n",
      "}\n",
      "=====Epoch 7\n",
      "Training...\n"
     ]
    },
    {
     "name": "stderr",
     "output_type": "stream",
     "text": [
      "Iteration: 100%|████████████████████████████████████████████████████████████████████████████████████████████████████████████████████████████████████████████████████████████████████████████████████████████| 183/183 [00:28<00:00,  6.32it/s]\n"
     ]
    },
    {
     "name": "stdout",
     "output_type": "stream",
     "text": [
      "Evaluating...\n"
     ]
    },
    {
     "name": "stderr",
     "output_type": "stream",
     "text": [
      "Iteration: 100%|████████████████████████████████████████████████████████████████████████████████████████████████████████████████████████████████████████████████████████████████████████████████████████████| 183/183 [00:10<00:00, 16.81it/s]\n",
      "Iteration: 100%|██████████████████████████████████████████████████████████████████████████████████████████████████████████████████████████████████████████████████████████████████████████████████████████████| 21/21 [00:01<00:00, 17.39it/s]\n",
      "Iteration: 100%|██████████████████████████████████████████████████████████████████████████████████████████████████████████████████████████████████████████████████████████████████████████████████████████████| 51/51 [00:02<00:00, 17.25it/s]\n"
     ]
    },
    {
     "name": "stdout",
     "output_type": "stream",
     "text": [
      "{'Train':  best_epoch_indx:7\n",
      " auc:0.8277704823831222 \n",
      " apur:0.8421185304250277 \n",
      " f1:0.7447219006669974 \n",
      " precision:0.7810151462596832 \n",
      " recall:0.7116519174041298 \n",
      ", 'Validation':  best_epoch_indx:7\n",
      " auc:0.8195383678292913 \n",
      " apur:0.8336265652881371 \n",
      " f1:0.7297431648715824 \n",
      " precision:0.7669801462904912 \n",
      " recall:0.6959544879898862 \n",
      ", 'Test':  best_epoch_indx:7\n",
      " auc:0.8310204299884272 \n",
      " apur:0.8454458604976854 \n",
      " f1:0.7503782148260212 \n",
      " precision:0.7821198409433704 \n",
      " recall:0.7211125158027812 \n",
      "}\n",
      "=====Epoch 8\n",
      "Training...\n"
     ]
    },
    {
     "name": "stderr",
     "output_type": "stream",
     "text": [
      "Iteration: 100%|████████████████████████████████████████████████████████████████████████████████████████████████████████████████████████████████████████████████████████████████████████████████████████████| 183/183 [00:29<00:00,  6.23it/s]\n"
     ]
    },
    {
     "name": "stdout",
     "output_type": "stream",
     "text": [
      "Evaluating...\n"
     ]
    },
    {
     "name": "stderr",
     "output_type": "stream",
     "text": [
      "Iteration: 100%|████████████████████████████████████████████████████████████████████████████████████████████████████████████████████████████████████████████████████████████████████████████████████████████| 183/183 [00:10<00:00, 16.74it/s]\n",
      "Iteration: 100%|██████████████████████████████████████████████████████████████████████████████████████████████████████████████████████████████████████████████████████████████████████████████████████████████| 21/21 [00:01<00:00, 17.42it/s]\n",
      "Iteration: 100%|██████████████████████████████████████████████████████████████████████████████████████████████████████████████████████████████████████████████████████████████████████████████████████████████| 51/51 [00:02<00:00, 17.29it/s]\n"
     ]
    },
    {
     "name": "stdout",
     "output_type": "stream",
     "text": [
      "{'Train':  best_epoch_indx:8\n",
      " auc:0.8307038371980839 \n",
      " apur:0.8460981725628124 \n",
      " f1:0.7455994138657387 \n",
      " precision:0.7792411654351239 \n",
      " recall:0.7147422390785223 \n",
      ", 'Validation':  best_epoch_indx:8\n",
      " auc:0.8235857351607924 \n",
      " apur:0.8389317074752022 \n",
      " f1:0.7405209363666336 \n",
      " precision:0.7739490006891798 \n",
      " recall:0.7098609355246523 \n",
      ", 'Test':  best_epoch_indx:8\n",
      " auc:0.8347250515706255 \n",
      " apur:0.8500481615903748 \n",
      " f1:0.751852094669901 \n",
      " precision:0.7808797494212175 \n",
      " recall:0.724905183312263 \n",
      "}\n",
      "=====Epoch 9\n",
      "Training...\n"
     ]
    },
    {
     "name": "stderr",
     "output_type": "stream",
     "text": [
      "Iteration: 100%|████████████████████████████████████████████████████████████████████████████████████████████████████████████████████████████████████████████████████████████████████████████████████████████| 183/183 [00:28<00:00,  6.31it/s]\n"
     ]
    },
    {
     "name": "stdout",
     "output_type": "stream",
     "text": [
      "Evaluating...\n"
     ]
    },
    {
     "name": "stderr",
     "output_type": "stream",
     "text": [
      "Iteration: 100%|████████████████████████████████████████████████████████████████████████████████████████████████████████████████████████████████████████████████████████████████████████████████████████████| 183/183 [00:10<00:00, 16.73it/s]\n",
      "Iteration: 100%|██████████████████████████████████████████████████████████████████████████████████████████████████████████████████████████████████████████████████████████████████████████████████████████████| 21/21 [00:01<00:00, 17.50it/s]\n",
      "Iteration: 100%|██████████████████████████████████████████████████████████████████████████████████████████████████████████████████████████████████████████████████████████████████████████████████████████████| 51/51 [00:03<00:00, 15.72it/s]\n"
     ]
    },
    {
     "name": "stdout",
     "output_type": "stream",
     "text": [
      "{'Train':  best_epoch_indx:9\n",
      " auc:0.8324717929044557 \n",
      " apur:0.8473632085401576 \n",
      " f1:0.7212935904928892 \n",
      " precision:0.8100113765642776 \n",
      " recall:0.6500913049585616 \n",
      ", 'Validation':  best_epoch_indx:9\n",
      " auc:0.8267406495057034 \n",
      " apur:0.8419957088542935 \n",
      " f1:0.7191287546109258 \n",
      " precision:0.8094108343218663 \n",
      " recall:0.6469658659924147 \n",
      ", 'Test':  best_epoch_indx:9\n",
      " auc:0.8365267943296443 \n",
      " apur:0.8523912462203451 \n",
      " f1:0.7257019438444924 \n",
      " precision:0.8083191060065187 \n",
      " recall:0.6584070796460177 \n",
      "}\n",
      "Finished training!\n",
      "Best validation score: 0.8419957088542935\n",
      "Test score: 0.8523912462203451\n",
      "CPU times: user 8min 57s, sys: 49.7 s, total: 9min 47s\n",
      "Wall time: 9min 46s\n"
     ]
    }
   ],
   "source": [
    "%%time\n",
    "\n",
    "for epoch in range(tp[\"num_epochs\"]):\n",
    "# for epoch in range(60,70):\n",
    "    print(\"=====Epoch {}\".format(epoch))\n",
    "    print('Training...')\n",
    "#     train(model, device, train_loader, optimizer, dataset.task_type)\n",
    "    train()\n",
    "\n",
    "    print('Evaluating...')\n",
    "#     train_perf = eval(model, device, train_loader, evaluator)\n",
    "#     valid_perf = eval(model, device, valid_loader, evaluator)\n",
    "#     test_perf = eval(model, device, test_loader, evaluator)\n",
    "    train_perf = eval(train_loader, dsettype=\"train\")\n",
    "    valid_perf = eval(valid_loader, dsettype=\"valid\")\n",
    "    test_perf = eval(test_loader, dsettype=\"test\")\n",
    "\n",
    "    print({'Train': train_perf, 'Validation': valid_perf, 'Test': test_perf})\n",
    "\n",
    "    train_curve.append(train_perf.s_aupr)\n",
    "    valid_curve.append(valid_perf.s_aupr)\n",
    "    test_curve.append(test_perf.s_aupr)\n",
    "\n",
    "# if 'classification' in dataset.task_type:\n",
    "best_val_epoch = np.argmax(np.array(valid_curve))\n",
    "best_train = max(train_curve)\n",
    "# else:\n",
    "#     best_val_epoch = np.argmin(np.array(valid_curve))\n",
    "#     best_train = min(train_curve)\n",
    "\n",
    "print('Finished training!')\n",
    "print('Best validation score: {}'.format(valid_curve[best_val_epoch]))\n",
    "print('Test score: {}'.format(test_curve[best_val_epoch]))"
   ]
  },
  {
   "cell_type": "code",
   "execution_count": 42,
   "metadata": {},
   "outputs": [],
   "source": [
    "df_curves = pd.DataFrame(np.array([train_curve, valid_curve, test_curve]).T)\n",
    "df_curves.columns = ['train', 'valid', 'test']\n",
    "df_curves.index.name = \"epoch\""
   ]
  },
  {
   "cell_type": "code",
   "execution_count": 43,
   "metadata": {
    "scrolled": false
   },
   "outputs": [
    {
     "data": {
      "text/plain": [
       "<AxesSubplot:xlabel='epoch'>"
      ]
     },
     "execution_count": 43,
     "metadata": {},
     "output_type": "execute_result"
    },
    {
     "data": {
      "image/png": "[encoded data removed]",
      "text/plain": [
       "<Figure size 432x288 with 1 Axes>"
      ]
     },
     "metadata": {
      "needs_background": "light"
     },
     "output_type": "display_data"
    }
   ],
   "source": [
    "sns.lineplot(data=df_curves)#.figure.savefig(\"testfig.png\")"
   ]
  },
  {
   "cell_type": "code",
   "execution_count": 44,
   "metadata": {
    "scrolled": true
   },
   "outputs": [
    {
     "data": {
      "text/plain": [
       "[0.6422062474039572,\n",
       " 0.7006673217529658,\n",
       " 0.7092759809743632,\n",
       " 0.786064218318174,\n",
       " 0.8121948865905241,\n",
       " 0.8302895955541542,\n",
       " 0.8365956291449436,\n",
       " 0.8454458604976854,\n",
       " 0.8500481615903748,\n",
       " 0.8523912462203451]"
      ]
     },
     "execution_count": 44,
     "metadata": {},
     "output_type": "execute_result"
    }
   ],
   "source": [
    "test_curve"
   ]
  },
  {
   "cell_type": "code",
   "execution_count": 45,
   "metadata": {},
   "outputs": [
    {
     "data": {
      "text/html": [
       "<div>\n",
       "<style scoped>\n",
       "    .dataframe tbody tr th:only-of-type {\n",
       "        vertical-align: middle;\n",
       "    }\n",
       "\n",
       "    .dataframe tbody tr th {\n",
       "        vertical-align: top;\n",
       "    }\n",
       "\n",
       "    .dataframe thead th {\n",
       "        text-align: right;\n",
       "    }\n",
       "</style>\n",
       "<table border=\"1\" class=\"dataframe\">\n",
       "  <thead>\n",
       "    <tr style=\"text-align: right;\">\n",
       "      <th></th>\n",
       "      <th>train</th>\n",
       "      <th>valid</th>\n",
       "      <th>test</th>\n",
       "    </tr>\n",
       "    <tr>\n",
       "      <th>epoch</th>\n",
       "      <th></th>\n",
       "      <th></th>\n",
       "      <th></th>\n",
       "    </tr>\n",
       "  </thead>\n",
       "  <tbody>\n",
       "    <tr>\n",
       "      <th>0</th>\n",
       "      <td>0.644026</td>\n",
       "      <td>0.643651</td>\n",
       "      <td>0.642206</td>\n",
       "    </tr>\n",
       "    <tr>\n",
       "      <th>1</th>\n",
       "      <td>0.701859</td>\n",
       "      <td>0.698084</td>\n",
       "      <td>0.700667</td>\n",
       "    </tr>\n",
       "    <tr>\n",
       "      <th>2</th>\n",
       "      <td>0.707825</td>\n",
       "      <td>0.700562</td>\n",
       "      <td>0.709276</td>\n",
       "    </tr>\n",
       "    <tr>\n",
       "      <th>3</th>\n",
       "      <td>0.779873</td>\n",
       "      <td>0.768359</td>\n",
       "      <td>0.786064</td>\n",
       "    </tr>\n",
       "    <tr>\n",
       "      <th>4</th>\n",
       "      <td>0.806956</td>\n",
       "      <td>0.796994</td>\n",
       "      <td>0.812195</td>\n",
       "    </tr>\n",
       "    <tr>\n",
       "      <th>5</th>\n",
       "      <td>0.825672</td>\n",
       "      <td>0.815522</td>\n",
       "      <td>0.830290</td>\n",
       "    </tr>\n",
       "    <tr>\n",
       "      <th>6</th>\n",
       "      <td>0.832375</td>\n",
       "      <td>0.825082</td>\n",
       "      <td>0.836596</td>\n",
       "    </tr>\n",
       "    <tr>\n",
       "      <th>7</th>\n",
       "      <td>0.842119</td>\n",
       "      <td>0.833627</td>\n",
       "      <td>0.845446</td>\n",
       "    </tr>\n",
       "    <tr>\n",
       "      <th>8</th>\n",
       "      <td>0.846098</td>\n",
       "      <td>0.838932</td>\n",
       "      <td>0.850048</td>\n",
       "    </tr>\n",
       "    <tr>\n",
       "      <th>9</th>\n",
       "      <td>0.847363</td>\n",
       "      <td>0.841996</td>\n",
       "      <td>0.852391</td>\n",
       "    </tr>\n",
       "  </tbody>\n",
       "</table>\n",
       "</div>"
      ],
      "text/plain": [
       "          train     valid      test\n",
       "epoch                              \n",
       "0      0.644026  0.643651  0.642206\n",
       "1      0.701859  0.698084  0.700667\n",
       "2      0.707825  0.700562  0.709276\n",
       "3      0.779873  0.768359  0.786064\n",
       "4      0.806956  0.796994  0.812195\n",
       "5      0.825672  0.815522  0.830290\n",
       "6      0.832375  0.825082  0.836596\n",
       "7      0.842119  0.833627  0.845446\n",
       "8      0.846098  0.838932  0.850048\n",
       "9      0.847363  0.841996  0.852391"
      ]
     },
     "execution_count": 45,
     "metadata": {},
     "output_type": "execute_result"
    }
   ],
   "source": [
    "df_curves"
   ]
  }
 ],
 "metadata": {
  "kernelspec": {
   "display_name": "Python 3 (ipykernel)",
   "language": "python",
   "name": "python3"
  },
  "language_info": {
   "codemirror_mode": {
    "name": "ipython",
    "version": 3
   },
   "file_extension": ".py",
   "mimetype": "text/x-python",
   "name": "python",
   "nbconvert_exporter": "python",
   "pygments_lexer": "ipython3",
   "version": "3.9.9"
  }
 },
 "nbformat": 4,
 "nbformat_minor": 4
}
