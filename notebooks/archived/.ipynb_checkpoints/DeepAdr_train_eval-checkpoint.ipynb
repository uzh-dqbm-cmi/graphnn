{
 "cells": [
  {
   "cell_type": "code",
   "execution_count": 1,
   "metadata": {
    "scrolled": false
   },
   "outputs": [],
   "source": [
    "%load_ext autoreload\n",
    "%autoreload 2"
   ]
  },
  {
   "cell_type": "code",
   "execution_count": 2,
   "metadata": {},
   "outputs": [],
   "source": [
    "import os\n",
    "import sys\n",
    "import numpy as np\n",
    "import pandas as pd\n",
    "import datetime\n",
    "import seaborn as sns\n",
    "import ogb\n",
    "from tqdm import tqdm"
   ]
  },
  {
   "cell_type": "code",
   "execution_count": 3,
   "metadata": {},
   "outputs": [],
   "source": [
    "import torch\n",
    "from torch_geometric.data import Data\n",
    "from torch_geometric.loader import DataLoader\n",
    "from torch.utils.data.sampler import WeightedRandomSampler\n",
    "\n",
    "from torch.utils.data import Subset"
   ]
  },
  {
   "cell_type": "code",
   "execution_count": 4,
   "metadata": {},
   "outputs": [
    {
     "name": "stdout",
     "output_type": "stream",
     "text": [
      "/cluster/home/skyriakos/chemprop_run/git/notebooks\n"
     ]
    }
   ],
   "source": [
    "cwd = os.getcwd()\n",
    "print(cwd)"
   ]
  },
  {
   "cell_type": "code",
   "execution_count": 5,
   "metadata": {},
   "outputs": [],
   "source": [
    "os.chdir('..')\n",
    "import deepadr\n",
    "from deepadr.dataset import *\n",
    "from deepadr.utilities import *\n",
    "from deepadr.run_workflow import *\n",
    "from deepadr.chemfeatures import *\n",
    "# from deepadr.model_gnn import GCN as testGCN\n",
    "from deepadr.model_gnn_ogb import GNN, DeepAdr_SiameseTrf\n",
    "# from deepadr.model_attn_siamese import *\n",
    "from ogb.graphproppred import Evaluator\n",
    "os.chdir(cwd)"
   ]
  },
  {
   "cell_type": "code",
   "execution_count": 6,
   "metadata": {},
   "outputs": [],
   "source": [
    "from rdkit.Chem.Draw import IPythonConsole\n",
    "from rdkit.Chem import Draw"
   ]
  },
  {
   "cell_type": "code",
   "execution_count": 7,
   "metadata": {},
   "outputs": [],
   "source": [
    "# from tdc.single_pred import Tox\n",
    "from tdc.multi_pred import DDI"
   ]
  },
  {
   "cell_type": "code",
   "execution_count": 8,
   "metadata": {},
   "outputs": [],
   "source": [
    "rawdata_dir = '../data/raw/'\n",
    "processed_dir = '../data/processed/'\n",
    "up_dir = '..'"
   ]
  },
  {
   "cell_type": "code",
   "execution_count": 9,
   "metadata": {
    "scrolled": true
   },
   "outputs": [
    {
     "name": "stdout",
     "output_type": "stream",
     "text": [
      "number of GPUs available: 1\n",
      "cuda:0, name:GeForce GTX 1080 Ti\n",
      "total memory available: 10.91650390625 GB\n",
      "total memory allocated on device: 0.0 GB\n",
      "max memory allocated on device: 0.0 GB\n",
      "total memory cached on device: 0.0 GB\n",
      "max memory cached  on device: 0.0 GB\n",
      "\n"
     ]
    }
   ],
   "source": [
    "report_available_cuda_devices()"
   ]
  },
  {
   "cell_type": "code",
   "execution_count": 10,
   "metadata": {},
   "outputs": [
    {
     "data": {
      "text/plain": [
       "1"
      ]
     },
     "execution_count": 10,
     "metadata": {},
     "output_type": "execute_result"
    }
   ],
   "source": [
    "n_gpu = torch.cuda.device_count()\n",
    "n_gpu"
   ]
  },
  {
   "cell_type": "code",
   "execution_count": 11,
   "metadata": {},
   "outputs": [],
   "source": [
    "device_cpu = get_device(to_gpu=False)\n",
    "device_gpu = get_device(True, index=0)"
   ]
  },
  {
   "cell_type": "code",
   "execution_count": 12,
   "metadata": {},
   "outputs": [
    {
     "name": "stdout",
     "output_type": "stream",
     "text": [
      "torch: 1.9.1\n",
      "CUDA: 11.1\n"
     ]
    }
   ],
   "source": [
    "print(\"torch:\", torch.__version__)\n",
    "print(\"CUDA:\", torch.version.cuda)"
   ]
  },
  {
   "cell_type": "markdown",
   "metadata": {},
   "source": [
    "### Preparing dataset "
   ]
  },
  {
   "cell_type": "code",
   "execution_count": 13,
   "metadata": {},
   "outputs": [],
   "source": [
    "# TDC Tox\n",
    "DSdataset_name = 'DrugBank' #'TWOSIDES' #'DrugBank'\n",
    "\n",
    "#fname_suffix = ds_config[\"fname_suffix\"]\n",
    "similarity_types = ['chem']\n",
    "kernel_option = 'sqeuclidean'\n",
    "data_fname = 'data_v1'\n",
    "# interact_matfname = ds_config[\"interact_matfname\"]\n",
    "# exp_iden = 'simtypeall'\n",
    "# ddi_interaction_labels_pth = ds_config[\"ddi_interaction_labels_pth\"]\n",
    "\n",
    "# up_dir, processed_dir, DSdataset_name, data_fname"
   ]
  },
  {
   "cell_type": "code",
   "execution_count": 14,
   "metadata": {
    "scrolled": true
   },
   "outputs": [
    {
     "name": "stdout",
     "output_type": "stream",
     "text": [
      "path_current_dir /cluster/home/skyriakos/chemprop_run/git/deepadr\n",
      "path_current_dir /cluster/home/skyriakos/chemprop_run/git/deepadr\n",
      "path_current_dir /cluster/home/skyriakos/chemprop_run/git/deepadr\n",
      "/cluster/home/skyriakos/chemprop_run/git/data/processed/DrugBank/data_v1\n"
     ]
    }
   ],
   "source": [
    "targetdata_dir = create_directory(os.path.join(processed_dir, DSdataset_name, data_fname))\n",
    "targetdata_dir_raw = create_directory(os.path.join(targetdata_dir, \"raw\"))\n",
    "targetdata_dir_processed = create_directory(os.path.join(targetdata_dir, \"processed\"))\n",
    "# # ReaderWriter.dump_data(dpartitions, os.path.join(targetdata_dir, 'data_partitions.pkl'))\n",
    "print(targetdata_dir)"
   ]
  },
  {
   "cell_type": "code",
   "execution_count": 15,
   "metadata": {},
   "outputs": [
    {
     "data": {
      "text/plain": [
       "'/cluster/home/skyriakos/chemprop_run/git/data/processed/DrugBank/data_v1'"
      ]
     },
     "execution_count": 15,
     "metadata": {},
     "output_type": "execute_result"
    }
   ],
   "source": [
    "targetdata_dir"
   ]
  },
  {
   "cell_type": "code",
   "execution_count": 16,
   "metadata": {},
   "outputs": [
    {
     "name": "stdout",
     "output_type": "stream",
     "text": [
      "CPU times: user 0 ns, sys: 1.18 s, total: 1.18 s\n",
      "Wall time: 1.18 s\n"
     ]
    }
   ],
   "source": [
    "%%time\n",
    "dataset = MoleculeDataset(root=targetdata_dir)"
   ]
  },
  {
   "cell_type": "code",
   "execution_count": 17,
   "metadata": {},
   "outputs": [
    {
     "name": "stdout",
     "output_type": "stream",
     "text": [
      "\n",
      "Dataset: MoleculeDataset(446985):\n",
      "====================\n",
      "Number of graphs: 446985\n",
      "Number of features: 9\n",
      "Number of classes: 12\n"
     ]
    }
   ],
   "source": [
    "print()\n",
    "print(f'Dataset: {dataset}:')\n",
    "print('====================')\n",
    "print(f'Number of graphs: {len(dataset)}')\n",
    "print(f'Number of features: {dataset.num_features}')\n",
    "print(f'Number of classes: {dataset.num_classes}')\n",
    "\n",
    "data0 = dataset[0]  # Get the first graph object.\n",
    "\n",
    "# print()\n",
    "# print(data)\n",
    "# print('=============================================================')\n",
    "\n",
    "# # Gather some statistics about the first graph.\n",
    "# print(f'Number of nodes: {data.num_nodes}')\n",
    "# print(f'Number of edges: {data.num_edges}')\n",
    "# print(f'Average node degree: {data.num_edges / data.num_nodes:.2f}')\n",
    "# print(f'Contains isolated nodes: {data.contains_isolated_nodes()}')\n",
    "# print(f'Contains self-loops: {data.contains_self_loops()}')\n",
    "# print(f'Is undirected: {data.is_undirected()}')"
   ]
  },
  {
   "cell_type": "code",
   "execution_count": 18,
   "metadata": {
    "scrolled": false
   },
   "outputs": [
    {
     "data": {
      "text/plain": [
       "PairData(edge_index_a=[2, 38], x_a=[17, 9], edge_attr_a=[38, 3], edge_index_b=[2, 16], x_b=[9, 9], edge_attr_b=[16, 3], id=[1], y=[1])"
      ]
     },
     "execution_count": 18,
     "metadata": {},
     "output_type": "execute_result"
    }
   ],
   "source": [
    "data0"
   ]
  },
  {
   "cell_type": "code",
   "execution_count": 19,
   "metadata": {},
   "outputs": [
    {
     "data": {
      "text/plain": [
       "446985"
      ]
     },
     "execution_count": 19,
     "metadata": {},
     "output_type": "execute_result"
    }
   ],
   "source": [
    "len(dataset)"
   ]
  },
  {
   "cell_type": "code",
   "execution_count": 20,
   "metadata": {},
   "outputs": [],
   "source": [
    "torch.manual_seed(42)\n",
    "dataset = dataset.shuffle()"
   ]
  },
  {
   "cell_type": "code",
   "execution_count": 21,
   "metadata": {},
   "outputs": [],
   "source": [
    "# used_dataset = dataset\n",
    "\n",
    "smaller_dataset_len = int(len(dataset)/10)\n",
    "used_dataset = dataset[:smaller_dataset_len]"
   ]
  },
  {
   "cell_type": "code",
   "execution_count": 22,
   "metadata": {},
   "outputs": [
    {
     "data": {
      "text/plain": [
       "44698"
      ]
     },
     "execution_count": 22,
     "metadata": {},
     "output_type": "execute_result"
    }
   ],
   "source": [
    "smaller_dataset_len"
   ]
  },
  {
   "cell_type": "code",
   "execution_count": 23,
   "metadata": {},
   "outputs": [
    {
     "data": {
      "text/plain": [
       "44698"
      ]
     },
     "execution_count": 23,
     "metadata": {},
     "output_type": "execute_result"
    }
   ],
   "source": [
    "len(used_dataset)"
   ]
  },
  {
   "cell_type": "code",
   "execution_count": 24,
   "metadata": {},
   "outputs": [
    {
     "name": "stdout",
     "output_type": "stream",
     "text": [
      "fold_num: 0\n",
      "train data\n",
      "class: 0 norm count: 0.9336555724347466\n",
      "class: 1 norm count: 0.0013810247203424942\n",
      "class: 2 norm count: 0.00464024306035078\n",
      "class: 3 norm count: 0.00936334760392211\n",
      "class: 4 norm count: 0.005993647286286425\n",
      "class: 5 norm count: 0.0075956359618837175\n",
      "class: 6 norm count: 0.0036459052617041844\n",
      "class: 7 norm count: 0.011241541223587902\n",
      "class: 8 norm count: 0.004253556138654882\n",
      "class: 9 norm count: 0.0006076508769506974\n",
      "class: 10 norm count: 0.017373290981908575\n",
      "class: 11 norm count: 0.00024858444966164894\n",
      "validation data\n",
      "class: 0 norm count: 0.9336316181953765\n",
      "class: 1 norm count: 0.0012428535918468805\n",
      "class: 2 norm count: 0.004722843649018146\n",
      "class: 3 norm count: 0.009445687298036291\n",
      "class: 4 norm count: 0.005965697240865026\n",
      "class: 5 norm count: 0.007705692269450659\n",
      "class: 6 norm count: 0.0037285607755406414\n",
      "class: 7 norm count: 0.011185682326621925\n",
      "class: 8 norm count: 0.004225702212279393\n",
      "class: 9 norm count: 0.0004971414367387521\n",
      "class: 10 norm count: 0.017399950285856326\n",
      "class: 11 norm count: 0.00024857071836937607\n",
      "test data\n",
      "class: 0 norm count: 0.9337807606263983\n",
      "class: 1 norm count: 0.0013422818791946308\n",
      "class: 2 norm count: 0.0044742729306487695\n",
      "class: 3 norm count: 0.009172259507829978\n",
      "class: 4 norm count: 0.006040268456375839\n",
      "class: 5 norm count: 0.007606263982102908\n",
      "class: 6 norm count: 0.003803131991051454\n",
      "class: 7 norm count: 0.011185682326621925\n",
      "class: 8 norm count: 0.004250559284116331\n",
      "class: 9 norm count: 0.00044742729306487697\n",
      "class: 10 norm count: 0.0174496644295302\n",
      "class: 11 norm count: 0.00044742729306487697\n",
      "\n",
      "-------------------------\n",
      "fold_num: 1\n",
      "train data\n",
      "class: 0 norm count: 0.9336555724347466\n",
      "class: 1 norm count: 0.0013810247203424942\n",
      "class: 2 norm count: 0.00461262256594393\n",
      "class: 3 norm count: 0.00933572710951526\n",
      "class: 4 norm count: 0.006021267780693274\n",
      "class: 5 norm count: 0.0075956359618837175\n",
      "class: 6 norm count: 0.0036459052617041844\n",
      "class: 7 norm count: 0.011241541223587902\n",
      "class: 8 norm count: 0.004253556138654882\n",
      "class: 9 norm count: 0.0006076508769506974\n",
      "class: 10 norm count: 0.017400911476315426\n",
      "class: 11 norm count: 0.00024858444966164894\n",
      "validation data\n",
      "class: 0 norm count: 0.9336316181953765\n",
      "class: 1 norm count: 0.0012428535918468805\n",
      "class: 2 norm count: 0.004722843649018146\n",
      "class: 3 norm count: 0.009445687298036291\n",
      "class: 4 norm count: 0.005965697240865026\n",
      "class: 5 norm count: 0.007705692269450659\n",
      "class: 6 norm count: 0.0037285607755406414\n",
      "class: 7 norm count: 0.011185682326621925\n",
      "class: 8 norm count: 0.004225702212279393\n",
      "class: 9 norm count: 0.0004971414367387521\n",
      "class: 10 norm count: 0.017399950285856326\n",
      "class: 11 norm count: 0.00024857071836937607\n",
      "test data\n",
      "class: 0 norm count: 0.9337807606263983\n",
      "class: 1 norm count: 0.0013422818791946308\n",
      "class: 2 norm count: 0.004697986577181208\n",
      "class: 3 norm count: 0.009395973154362415\n",
      "class: 4 norm count: 0.0058165548098434005\n",
      "class: 5 norm count: 0.007606263982102908\n",
      "class: 6 norm count: 0.003803131991051454\n",
      "class: 7 norm count: 0.011185682326621925\n",
      "class: 8 norm count: 0.004250559284116331\n",
      "class: 9 norm count: 0.00044742729306487697\n",
      "class: 10 norm count: 0.017225950782997764\n",
      "class: 11 norm count: 0.00044742729306487697\n",
      "\n",
      "-------------------------\n",
      "fold_num: 2\n",
      "train data\n",
      "class: 0 norm count: 0.9336555724347466\n",
      "class: 1 norm count: 0.0013810247203424942\n",
      "class: 2 norm count: 0.00461262256594393\n",
      "class: 3 norm count: 0.00933572710951526\n",
      "class: 4 norm count: 0.006021267780693274\n",
      "class: 5 norm count: 0.0075956359618837175\n",
      "class: 6 norm count: 0.0036459052617041844\n",
      "class: 7 norm count: 0.011241541223587902\n",
      "class: 8 norm count: 0.004253556138654882\n",
      "class: 9 norm count: 0.0005800303825438476\n",
      "class: 10 norm count: 0.017400911476315426\n",
      "class: 11 norm count: 0.00027620494406849883\n",
      "validation data\n",
      "class: 0 norm count: 0.9336316181953765\n",
      "class: 1 norm count: 0.0012428535918468805\n",
      "class: 2 norm count: 0.004722843649018146\n",
      "class: 3 norm count: 0.009445687298036291\n",
      "class: 4 norm count: 0.005965697240865026\n",
      "class: 5 norm count: 0.007705692269450659\n",
      "class: 6 norm count: 0.0037285607755406414\n",
      "class: 7 norm count: 0.011185682326621925\n",
      "class: 8 norm count: 0.004225702212279393\n",
      "class: 9 norm count: 0.0004971414367387521\n",
      "class: 10 norm count: 0.017399950285856326\n",
      "class: 11 norm count: 0.00024857071836937607\n",
      "test data\n",
      "class: 0 norm count: 0.9337807606263983\n",
      "class: 1 norm count: 0.0013422818791946308\n",
      "class: 2 norm count: 0.004697986577181208\n",
      "class: 3 norm count: 0.009395973154362415\n",
      "class: 4 norm count: 0.0058165548098434005\n",
      "class: 5 norm count: 0.007606263982102908\n",
      "class: 6 norm count: 0.003803131991051454\n",
      "class: 7 norm count: 0.011185682326621925\n",
      "class: 8 norm count: 0.004250559284116331\n",
      "class: 9 norm count: 0.0006711409395973154\n",
      "class: 10 norm count: 0.017225950782997764\n",
      "class: 11 norm count: 0.00022371364653243848\n",
      "\n",
      "-------------------------\n",
      "fold_num: 3\n",
      "train data\n",
      "class: 0 norm count: 0.9336831929291535\n",
      "class: 1 norm count: 0.0013810247203424942\n",
      "class: 2 norm count: 0.00461262256594393\n",
      "class: 3 norm count: 0.00933572710951526\n",
      "class: 4 norm count: 0.005993647286286425\n",
      "class: 5 norm count: 0.0075956359618837175\n",
      "class: 6 norm count: 0.0036459052617041844\n",
      "class: 7 norm count: 0.011241541223587902\n",
      "class: 8 norm count: 0.004253556138654882\n",
      "class: 9 norm count: 0.0005800303825438476\n",
      "class: 10 norm count: 0.017400911476315426\n",
      "class: 11 norm count: 0.00027620494406849883\n",
      "validation data\n",
      "class: 0 norm count: 0.9336316181953765\n",
      "class: 1 norm count: 0.0012428535918468805\n",
      "class: 2 norm count: 0.004722843649018146\n",
      "class: 3 norm count: 0.009445687298036291\n",
      "class: 4 norm count: 0.005965697240865026\n",
      "class: 5 norm count: 0.007705692269450659\n",
      "class: 6 norm count: 0.0037285607755406414\n",
      "class: 7 norm count: 0.011185682326621925\n",
      "class: 8 norm count: 0.004225702212279393\n",
      "class: 9 norm count: 0.0004971414367387521\n",
      "class: 10 norm count: 0.017399950285856326\n",
      "class: 11 norm count: 0.00024857071836937607\n",
      "test data\n",
      "class: 0 norm count: 0.9335570469798657\n",
      "class: 1 norm count: 0.0013422818791946308\n",
      "class: 2 norm count: 0.004697986577181208\n",
      "class: 3 norm count: 0.009395973154362415\n",
      "class: 4 norm count: 0.006040268456375839\n",
      "class: 5 norm count: 0.007606263982102908\n",
      "class: 6 norm count: 0.003803131991051454\n",
      "class: 7 norm count: 0.011185682326621925\n",
      "class: 8 norm count: 0.004250559284116331\n",
      "class: 9 norm count: 0.0006711409395973154\n",
      "class: 10 norm count: 0.017225950782997764\n",
      "class: 11 norm count: 0.00022371364653243848\n",
      "\n",
      "-------------------------\n",
      "fold_num: 4\n",
      "train data\n",
      "class: 0 norm count: 0.9336831929291535\n",
      "class: 1 norm count: 0.0013810247203424942\n",
      "class: 2 norm count: 0.00461262256594393\n",
      "class: 3 norm count: 0.00933572710951526\n",
      "class: 4 norm count: 0.005993647286286425\n",
      "class: 5 norm count: 0.0075956359618837175\n",
      "class: 6 norm count: 0.0036735257561110344\n",
      "class: 7 norm count: 0.011241541223587902\n",
      "class: 8 norm count: 0.004253556138654882\n",
      "class: 9 norm count: 0.0005800303825438476\n",
      "class: 10 norm count: 0.017373290981908575\n",
      "class: 11 norm count: 0.00027620494406849883\n",
      "validation data\n",
      "class: 0 norm count: 0.9336316181953765\n",
      "class: 1 norm count: 0.0012428535918468805\n",
      "class: 2 norm count: 0.004722843649018146\n",
      "class: 3 norm count: 0.009445687298036291\n",
      "class: 4 norm count: 0.005965697240865026\n",
      "class: 5 norm count: 0.007705692269450659\n",
      "class: 6 norm count: 0.0037285607755406414\n",
      "class: 7 norm count: 0.011185682326621925\n",
      "class: 8 norm count: 0.004225702212279393\n",
      "class: 9 norm count: 0.0004971414367387521\n",
      "class: 10 norm count: 0.017399950285856326\n",
      "class: 11 norm count: 0.00024857071836937607\n",
      "test data\n",
      "class: 0 norm count: 0.9335570469798657\n",
      "class: 1 norm count: 0.0013422818791946308\n",
      "class: 2 norm count: 0.004697986577181208\n",
      "class: 3 norm count: 0.009395973154362415\n",
      "class: 4 norm count: 0.006040268456375839\n",
      "class: 5 norm count: 0.007606263982102908\n",
      "class: 6 norm count: 0.0035794183445190158\n",
      "class: 7 norm count: 0.011185682326621925\n",
      "class: 8 norm count: 0.004250559284116331\n",
      "class: 9 norm count: 0.0006711409395973154\n",
      "class: 10 norm count: 0.0174496644295302\n",
      "class: 11 norm count: 0.00022371364653243848\n",
      "\n",
      "-------------------------\n",
      "fold_num: 5\n",
      "train data\n",
      "class: 0 norm count: 0.9336831929291535\n",
      "class: 1 norm count: 0.0013810247203424942\n",
      "class: 2 norm count: 0.00461262256594393\n",
      "class: 3 norm count: 0.00933572710951526\n",
      "class: 4 norm count: 0.005993647286286425\n",
      "class: 5 norm count: 0.0075956359618837175\n",
      "class: 6 norm count: 0.0036735257561110344\n",
      "class: 7 norm count: 0.011241541223587902\n",
      "class: 8 norm count: 0.004253556138654882\n",
      "class: 9 norm count: 0.0005800303825438476\n",
      "class: 10 norm count: 0.017373290981908575\n",
      "class: 11 norm count: 0.00027620494406849883\n",
      "validation data\n",
      "class: 0 norm count: 0.9336316181953765\n",
      "class: 1 norm count: 0.0012428535918468805\n",
      "class: 2 norm count: 0.004722843649018146\n",
      "class: 3 norm count: 0.009445687298036291\n",
      "class: 4 norm count: 0.005965697240865026\n",
      "class: 5 norm count: 0.007705692269450659\n",
      "class: 6 norm count: 0.0037285607755406414\n",
      "class: 7 norm count: 0.011185682326621925\n",
      "class: 8 norm count: 0.004225702212279393\n",
      "class: 9 norm count: 0.0004971414367387521\n",
      "class: 10 norm count: 0.017399950285856326\n",
      "class: 11 norm count: 0.00024857071836937607\n",
      "test data\n",
      "class: 0 norm count: 0.9335570469798657\n",
      "class: 1 norm count: 0.0013422818791946308\n",
      "class: 2 norm count: 0.004697986577181208\n",
      "class: 3 norm count: 0.009395973154362415\n",
      "class: 4 norm count: 0.006040268456375839\n",
      "class: 5 norm count: 0.007606263982102908\n",
      "class: 6 norm count: 0.0035794183445190158\n",
      "class: 7 norm count: 0.011185682326621925\n",
      "class: 8 norm count: 0.004250559284116331\n",
      "class: 9 norm count: 0.0006711409395973154\n",
      "class: 10 norm count: 0.0174496644295302\n",
      "class: 11 norm count: 0.00022371364653243848\n",
      "\n",
      "-------------------------\n"
     ]
    },
    {
     "name": "stdout",
     "output_type": "stream",
     "text": [
      "fold_num: 6\n",
      "train data\n",
      "class: 0 norm count: 0.9336831929291535\n",
      "class: 1 norm count: 0.0013810247203424942\n",
      "class: 2 norm count: 0.00461262256594393\n",
      "class: 3 norm count: 0.00933572710951526\n",
      "class: 4 norm count: 0.005993647286286425\n",
      "class: 5 norm count: 0.0075956359618837175\n",
      "class: 6 norm count: 0.0036735257561110344\n",
      "class: 7 norm count: 0.011241541223587902\n",
      "class: 8 norm count: 0.004253556138654882\n",
      "class: 9 norm count: 0.0005800303825438476\n",
      "class: 10 norm count: 0.017373290981908575\n",
      "class: 11 norm count: 0.00027620494406849883\n",
      "validation data\n",
      "class: 0 norm count: 0.9336316181953765\n",
      "class: 1 norm count: 0.0012428535918468805\n",
      "class: 2 norm count: 0.004722843649018146\n",
      "class: 3 norm count: 0.009445687298036291\n",
      "class: 4 norm count: 0.005965697240865026\n",
      "class: 5 norm count: 0.007705692269450659\n",
      "class: 6 norm count: 0.0037285607755406414\n",
      "class: 7 norm count: 0.011185682326621925\n",
      "class: 8 norm count: 0.004225702212279393\n",
      "class: 9 norm count: 0.0004971414367387521\n",
      "class: 10 norm count: 0.017399950285856326\n",
      "class: 11 norm count: 0.00024857071836937607\n",
      "test data\n",
      "class: 0 norm count: 0.9335570469798657\n",
      "class: 1 norm count: 0.0013422818791946308\n",
      "class: 2 norm count: 0.004697986577181208\n",
      "class: 3 norm count: 0.009395973154362415\n",
      "class: 4 norm count: 0.006040268456375839\n",
      "class: 5 norm count: 0.007606263982102908\n",
      "class: 6 norm count: 0.0035794183445190158\n",
      "class: 7 norm count: 0.011185682326621925\n",
      "class: 8 norm count: 0.004250559284116331\n",
      "class: 9 norm count: 0.0006711409395973154\n",
      "class: 10 norm count: 0.0174496644295302\n",
      "class: 11 norm count: 0.00022371364653243848\n",
      "\n",
      "-------------------------\n",
      "fold_num: 7\n",
      "train data\n",
      "class: 0 norm count: 0.9336831929291535\n",
      "class: 1 norm count: 0.0013810247203424942\n",
      "class: 2 norm count: 0.00461262256594393\n",
      "class: 3 norm count: 0.00933572710951526\n",
      "class: 4 norm count: 0.005993647286286425\n",
      "class: 5 norm count: 0.0075956359618837175\n",
      "class: 6 norm count: 0.0036735257561110344\n",
      "class: 7 norm count: 0.011241541223587902\n",
      "class: 8 norm count: 0.004253556138654882\n",
      "class: 9 norm count: 0.0005800303825438476\n",
      "class: 10 norm count: 0.017373290981908575\n",
      "class: 11 norm count: 0.00027620494406849883\n",
      "validation data\n",
      "class: 0 norm count: 0.9336316181953765\n",
      "class: 1 norm count: 0.0012428535918468805\n",
      "class: 2 norm count: 0.004722843649018146\n",
      "class: 3 norm count: 0.009445687298036291\n",
      "class: 4 norm count: 0.005965697240865026\n",
      "class: 5 norm count: 0.007705692269450659\n",
      "class: 6 norm count: 0.0037285607755406414\n",
      "class: 7 norm count: 0.011185682326621925\n",
      "class: 8 norm count: 0.004225702212279393\n",
      "class: 9 norm count: 0.0004971414367387521\n",
      "class: 10 norm count: 0.017399950285856326\n",
      "class: 11 norm count: 0.00024857071836937607\n",
      "test data\n",
      "class: 0 norm count: 0.9335570469798657\n",
      "class: 1 norm count: 0.0013422818791946308\n",
      "class: 2 norm count: 0.004697986577181208\n",
      "class: 3 norm count: 0.009395973154362415\n",
      "class: 4 norm count: 0.006040268456375839\n",
      "class: 5 norm count: 0.007606263982102908\n",
      "class: 6 norm count: 0.0035794183445190158\n",
      "class: 7 norm count: 0.011185682326621925\n",
      "class: 8 norm count: 0.004250559284116331\n",
      "class: 9 norm count: 0.0006711409395973154\n",
      "class: 10 norm count: 0.0174496644295302\n",
      "class: 11 norm count: 0.00022371364653243848\n",
      "\n",
      "-------------------------\n",
      "fold_num: 8\n",
      "train data\n",
      "class: 0 norm count: 0.9336574048500249\n",
      "class: 1 norm count: 0.0013809865768104734\n",
      "class: 2 norm count: 0.004640114898083191\n",
      "class: 3 norm count: 0.0093354692592388\n",
      "class: 4 norm count: 0.005993481743357455\n",
      "class: 5 norm count: 0.0075954261724576035\n",
      "class: 6 norm count: 0.0036734242943158592\n",
      "class: 7 norm count: 0.011213611003701045\n",
      "class: 8 norm count: 0.004253438656576258\n",
      "class: 9 norm count: 0.0006076340937966083\n",
      "class: 10 norm count: 0.017372811136275756\n",
      "class: 11 norm count: 0.00027619731536209467\n",
      "validation data\n",
      "class: 0 norm count: 0.9336316181953765\n",
      "class: 1 norm count: 0.0012428535918468805\n",
      "class: 2 norm count: 0.004722843649018146\n",
      "class: 3 norm count: 0.009445687298036291\n",
      "class: 4 norm count: 0.005965697240865026\n",
      "class: 5 norm count: 0.007705692269450659\n",
      "class: 6 norm count: 0.0037285607755406414\n",
      "class: 7 norm count: 0.011185682326621925\n",
      "class: 8 norm count: 0.004225702212279393\n",
      "class: 9 norm count: 0.0004971414367387521\n",
      "class: 10 norm count: 0.017399950285856326\n",
      "class: 11 norm count: 0.00024857071836937607\n",
      "test data\n",
      "class: 0 norm count: 0.9337659431640188\n",
      "class: 1 norm count: 0.0013425822331617813\n",
      "class: 2 norm count: 0.004475274110539271\n",
      "class: 3 norm count: 0.009398075632132468\n",
      "class: 4 norm count: 0.006041620049228015\n",
      "class: 5 norm count: 0.00760796598791676\n",
      "class: 6 norm count: 0.0035802192884314163\n",
      "class: 7 norm count: 0.01141194898187514\n",
      "class: 8 norm count: 0.004251510405012307\n",
      "class: 9 norm count: 0.00044752741105392703\n",
      "class: 10 norm count: 0.017453569031103153\n",
      "class: 11 norm count: 0.00022376370552696352\n",
      "\n",
      "-------------------------\n",
      "fold_num: 9\n",
      "train data\n",
      "class: 0 norm count: 0.9336574048500249\n",
      "class: 1 norm count: 0.001353366845274264\n",
      "class: 2 norm count: 0.004640114898083191\n",
      "class: 3 norm count: 0.00936308899077501\n",
      "class: 4 norm count: 0.005993481743357455\n",
      "class: 5 norm count: 0.0075954261724576035\n",
      "class: 6 norm count: 0.0036734242943158592\n",
      "class: 7 norm count: 0.011213611003701045\n",
      "class: 8 norm count: 0.004253438656576258\n",
      "class: 9 norm count: 0.0006076340937966083\n",
      "class: 10 norm count: 0.017372811136275756\n",
      "class: 11 norm count: 0.00027619731536209467\n",
      "validation data\n",
      "class: 0 norm count: 0.9336316181953765\n",
      "class: 1 norm count: 0.0012428535918468805\n",
      "class: 2 norm count: 0.004722843649018146\n",
      "class: 3 norm count: 0.009445687298036291\n",
      "class: 4 norm count: 0.005965697240865026\n",
      "class: 5 norm count: 0.007705692269450659\n",
      "class: 6 norm count: 0.0037285607755406414\n",
      "class: 7 norm count: 0.011185682326621925\n",
      "class: 8 norm count: 0.004225702212279393\n",
      "class: 9 norm count: 0.0004971414367387521\n",
      "class: 10 norm count: 0.017399950285856326\n",
      "class: 11 norm count: 0.00024857071836937607\n",
      "test data\n",
      "class: 0 norm count: 0.9337659431640188\n",
      "class: 1 norm count: 0.0015663459386887446\n",
      "class: 2 norm count: 0.004475274110539271\n",
      "class: 3 norm count: 0.009174311926605505\n",
      "class: 4 norm count: 0.006041620049228015\n",
      "class: 5 norm count: 0.00760796598791676\n",
      "class: 6 norm count: 0.0035802192884314163\n",
      "class: 7 norm count: 0.01141194898187514\n",
      "class: 8 norm count: 0.004251510405012307\n",
      "class: 9 norm count: 0.00044752741105392703\n",
      "class: 10 norm count: 0.017453569031103153\n",
      "class: 11 norm count: 0.00022376370552696352\n",
      "\n",
      "-------------------------\n"
     ]
    }
   ],
   "source": [
    "fold_partitions = get_stratified_partitions(used_dataset.data.y[:smaller_dataset_len], num_folds=10, valid_set_portion=0.1, random_state=42)"
   ]
  },
  {
   "cell_type": "code",
   "execution_count": 25,
   "metadata": {},
   "outputs": [
    {
     "data": {
      "text/plain": [
       "{'train': array([41053, 27202, 35291, ..., 36574, 30929, 20872]),\n",
       " 'validation': array([40073, 10928, 37256, ..., 38730, 35492, 25467]),\n",
       " 'test': array([   19,    22,    25, ..., 44686, 44687, 44696])}"
      ]
     },
     "execution_count": 25,
     "metadata": {},
     "output_type": "execute_result"
    }
   ],
   "source": [
    "fold_partitions[0]"
   ]
  },
  {
   "cell_type": "code",
   "execution_count": 26,
   "metadata": {},
   "outputs": [],
   "source": [
    "# train_val_test_frac = [0.7, 0.1, 0.2]\n",
    "# assert sum(train_val_test_frac) == 1\n",
    "\n",
    "# torch.manual_seed(42)\n",
    "# used_dataset = used_dataset.shuffle()\n",
    "\n",
    "# num_train = round(train_val_test_frac[0] * len(used_dataset)) \n",
    "# num_trainval = round((train_val_test_frac[0]+train_val_test_frac[1]) * len(used_dataset))\n",
    "\n",
    "# train_dataset = used_dataset[:num_train]\n",
    "# val_dataset = used_dataset[num_train:num_trainval]\n",
    "# test_dataset = used_dataset[num_trainval:]"
   ]
  },
  {
   "cell_type": "code",
   "execution_count": 27,
   "metadata": {},
   "outputs": [],
   "source": [
    "train_dataset = Subset(used_dataset, fold_partitions[0]['train'])\n",
    "val_dataset = Subset(used_dataset, fold_partitions[0]['validation'])\n",
    "test_dataset = Subset(used_dataset, fold_partitions[0]['test'])"
   ]
  },
  {
   "cell_type": "code",
   "execution_count": 28,
   "metadata": {},
   "outputs": [
    {
     "name": "stdout",
     "output_type": "stream",
     "text": [
      "Number of training graphs: 36205\n",
      "Number of val graphs: 4023\n",
      "Number of test graphs: 4470\n"
     ]
    }
   ],
   "source": [
    "print(f'Number of training graphs: {len(train_dataset)}')\n",
    "print(f'Number of val graphs: {len(val_dataset)}')\n",
    "print(f'Number of test graphs: {len(test_dataset)}')"
   ]
  },
  {
   "cell_type": "code",
   "execution_count": 29,
   "metadata": {},
   "outputs": [],
   "source": [
    "# train_dataset[3]"
   ]
  },
  {
   "cell_type": "code",
   "execution_count": 30,
   "metadata": {},
   "outputs": [
    {
     "name": "stdout",
     "output_type": "stream",
     "text": [
      "12\n"
     ]
    }
   ],
   "source": [
    "print(dataset.num_classes)"
   ]
  },
  {
   "cell_type": "code",
   "execution_count": 31,
   "metadata": {},
   "outputs": [],
   "source": [
    "# training params\n",
    "tp = {\n",
    "    \"batch_size\" : 128,\n",
    "    \n",
    "    \"emb_dim\" : 300,\n",
    "    \"gnn_type\" : \"gatv2\",\n",
    "    \"num_layer\" : 5,\n",
    "    \"graph_pooling\" : \"mean\", #attention\n",
    "    \n",
    "    \"input_embed_dim\" : None,\n",
    "    \"num_attn_heads\" : 2,\n",
    "    \"num_transformer_units\" : 1,\n",
    "    \"p_dropout\" : 0.3,\n",
    "    \"nonlin_func\" : nn.ReLU(),\n",
    "    \"mlp_embed_factor\" : 2,\n",
    "    \"pooling_mode\" : 'attn',\n",
    "    \"dist_opt\" : 'cosine',\n",
    "\n",
    "    \"num_epochs\" : 100,\n",
    "    \"l2_reg\" : 1e-6,\n",
    "    \"loss_w\" : 0.05,\n",
    "    \"margin_v\" : 1.,\n",
    "\n",
    "    \"expression_dim\" : 0,\n",
    "    \"expression_input_size\" : 8785,\n",
    "    \"exp_H1\" : 500,\n",
    "    \"exp_H2\" : 300\n",
    "\n",
    "}"
   ]
  },
  {
   "cell_type": "code",
   "execution_count": 32,
   "metadata": {},
   "outputs": [],
   "source": [
    "fdtype = torch.float32"
   ]
  },
  {
   "cell_type": "code",
   "execution_count": 33,
   "metadata": {},
   "outputs": [
    {
     "data": {
      "text/plain": [
       "tensor([8.8831e-02, 3.6843e+01, 1.2059e+01, 1.1788e+01, 1.7662e+01, 5.9219e+01,\n",
       "        3.0938e+01, 6.0666e+00, 5.6098e+01, 3.9796e+01, 4.4360e+00, 1.1497e+02],\n",
       "       device='cuda:0')"
      ]
     },
     "execution_count": 33,
     "metadata": {},
     "output_type": "execute_result"
    }
   ],
   "source": [
    "y_weights = ReaderWriter.read_data(os.path.join(targetdata_dir_raw, 'y_weights.pkl'))\n",
    "class_weights = torch.tensor(y_weights).type(fdtype).to(device_gpu)\n",
    "class_weights"
   ]
  },
  {
   "cell_type": "code",
   "execution_count": 34,
   "metadata": {},
   "outputs": [],
   "source": [
    "# def make_weights_for_balanced_classes(images, nclasses):                        \n",
    "#     count = [0] * nclasses                                                      \n",
    "#     for item in images:                                                         \n",
    "#         count[item[1]] += 1                                                     \n",
    "#     weight_per_class = [0.] * nclasses                                      \n",
    "#     N = float(sum(count))                                                   \n",
    "#     for i in range(nclasses):                                                   \n",
    "#         weight_per_class[i] = N/float(count[i])                                 \n",
    "#     weight = [0] * len(images)                                              \n",
    "#     for idx, val in enumerate(images):                                          \n",
    "#         weight[idx] = weight_per_class[val[1]]                                  \n",
    "#     return weight"
   ]
  },
  {
   "cell_type": "code",
   "execution_count": 35,
   "metadata": {},
   "outputs": [],
   "source": [
    "# sampler = WeightedRandomSampler(class_weights, tp[\"batch_size\"])                     "
   ]
  },
  {
   "cell_type": "code",
   "execution_count": 36,
   "metadata": {},
   "outputs": [],
   "source": [
    "# with Sampler\n",
    "\n",
    "# train_loader = DataLoader(train_dataset, batch_size=tp[\"batch_size\"], shuffle=False, sampler = WeightedRandomSampler(class_weights, len(train_dataset)), follow_batch=['x_a', 'x_b'])\n",
    "# valid_loader = DataLoader(val_dataset, batch_size=tp[\"batch_size\"], shuffle=False, sampler = sampler, follow_batch=['x_a', 'x_b'])\n",
    "# test_loader = DataLoader(test_dataset, batch_size=tp[\"batch_size\"], shuffle=False, sampler = sampler, follow_batch=['x_a', 'x_b'])"
   ]
  },
  {
   "cell_type": "code",
   "execution_count": 37,
   "metadata": {},
   "outputs": [
    {
     "data": {
      "text/plain": [
       "36205"
      ]
     },
     "execution_count": 37,
     "metadata": {},
     "output_type": "execute_result"
    }
   ],
   "source": [
    "len(train_dataset)"
   ]
  },
  {
   "cell_type": "code",
   "execution_count": 38,
   "metadata": {},
   "outputs": [],
   "source": [
    "# without Sampler\n",
    "\n",
    "train_loader = DataLoader(train_dataset, batch_size=tp[\"batch_size\"], shuffle=True, follow_batch=['x_a', 'x_b'])\n",
    "valid_loader = DataLoader(val_dataset, batch_size=tp[\"batch_size\"], shuffle=False, follow_batch=['x_a', 'x_b'])\n",
    "test_loader = DataLoader(test_dataset, batch_size=tp[\"batch_size\"], shuffle=False, follow_batch=['x_a', 'x_b'])"
   ]
  },
  {
   "cell_type": "code",
   "execution_count": 39,
   "metadata": {},
   "outputs": [],
   "source": [
    "# for batch in train_loader:\n",
    "#     print(batch.y)"
   ]
  },
  {
   "cell_type": "code",
   "execution_count": 40,
   "metadata": {},
   "outputs": [],
   "source": [
    "gnn_model = GNN(gnn_type = tp[\"gnn_type\"], \n",
    "#                 num_tasks = dataset.num_classes, \n",
    "                num_layer = tp[\"num_layer\"], \n",
    "                emb_dim = tp[\"emb_dim\"], \n",
    "                drop_ratio = 0.5, \n",
    "                JK = \"last\",\n",
    "                graph_pooling = tp[\"graph_pooling\"],\n",
    "                virtual_node = False,\n",
    "                with_edge_attr=False).to(device_gpu)"
   ]
  },
  {
   "cell_type": "code",
   "execution_count": 41,
   "metadata": {},
   "outputs": [],
   "source": [
    "# transformer_model = DeepAdr_Transformer(input_size=tp[\"emb_dim\"],\n",
    "#                                         input_embed_dim=tp[\"input_embed_dim\"],\n",
    "#                                         num_attn_heads=tp[\"num_attn_heads\"],\n",
    "#                                         mlp_embed_factor=tp[\"mlp_embed_factor\"],\n",
    "#                                         nonlin_func=tp[\"nonlin_func\"],\n",
    "#                                         pdropout=tp[\"p_dropout\"],\n",
    "#                                         num_transformer_units=tp[\"num_transformer_units\"],\n",
    "#                                         pooling_mode=tp[\"pooling_mode\"]).to(device_gpu)"
   ]
  },
  {
   "cell_type": "code",
   "execution_count": 42,
   "metadata": {},
   "outputs": [
    {
     "name": "stdout",
     "output_type": "stream",
     "text": [
      "updated\n",
      "num classes: 12\n"
     ]
    }
   ],
   "source": [
    "siamese_model = DeepAdr_SiameseTrf(input_dim=tp[\"emb_dim\"],\n",
    "                                   dist=tp[\"dist_opt\"],\n",
    "                                   expression_dim=tp[\"expression_dim\"],\n",
    "                                   num_classes=dataset.num_classes).to(device_gpu)"
   ]
  },
  {
   "cell_type": "code",
   "execution_count": 43,
   "metadata": {},
   "outputs": [],
   "source": [
    "# models_param = list(gnn_model.parameters()) + list(transformer_model.parameters()) + list(siamese_model.parameters()) + list(expression_model.parameters())\n",
    "models_param = list(gnn_model.parameters()) + list(siamese_model.parameters())\n",
    "\n",
    "\n",
    "model_name = \"ogb\"\n",
    "models = [(gnn_model, f'{model_name}_GNN'),\n",
    "#           (transformer_model, f'{model_name}_Transformer'),\n",
    "          (siamese_model, f'{model_name}_Siamese'),\n",
    "#           (expression_model, f'{model_name}_Expression'),\n",
    "#           (lassonet_model, f'{model_name}_LassoNet')\n",
    "         ]\n",
    "#models"
   ]
  },
  {
   "cell_type": "code",
   "execution_count": null,
   "metadata": {},
   "outputs": [],
   "source": []
  },
  {
   "cell_type": "code",
   "execution_count": null,
   "metadata": {},
   "outputs": [],
   "source": []
  },
  {
   "cell_type": "code",
   "execution_count": 44,
   "metadata": {},
   "outputs": [],
   "source": [
    "# model_name = \"ogb\"\n",
    "\n",
    "# gnn_model = GNN(gnn_type = 'gatv2', \n",
    "# #                     num_tasks = dataset.num_classes, \n",
    "#                     num_layer = 5, \n",
    "#                     emb_dim = emb_dim, \n",
    "#                     drop_ratio = 0.5, \n",
    "#                     virtual_node = False,\n",
    "#                     with_edge_attr=False,\n",
    "#                     JK = \"last\"\n",
    "#                    ).to(device_gpu)\n",
    "# #print(deepadr_model)"
   ]
  },
  {
   "cell_type": "code",
   "execution_count": 45,
   "metadata": {},
   "outputs": [],
   "source": [
    "# input_embed_dim = None\n",
    "# num_attn_heads = 2\n",
    "# num_transformer_units = 1\n",
    "# p_dropout = 0.3\n",
    "# nonlin_func = nn.ReLU()\n",
    "# mlp_embed_factor = 2\n",
    "# pooling_mode = 'attn'\n",
    "\n",
    "# dist_opt = 'cosine'\n",
    "# l2_reg = 1e-6\n",
    "# batch_size = 1000\n",
    "# num_epochs = 100\n",
    "# loss_w = 0.05\n",
    "# margin_v = 1.\n",
    "\n",
    "# transformer_model = DeepAdr_Transformer(input_size=emb_dim,\n",
    "#                                         input_embed_dim=input_embed_dim,\n",
    "#                                         num_attn_heads=num_attn_heads,\n",
    "#                                         mlp_embed_factor=mlp_embed_factor,\n",
    "#                                         nonlin_func=nonlin_func,\n",
    "#                                         pdropout=p_dropout,\n",
    "#                                         num_transformer_units=num_transformer_units,\n",
    "#                                         pooling_mode=pooling_mode).to(device_gpu)"
   ]
  },
  {
   "cell_type": "code",
   "execution_count": 46,
   "metadata": {},
   "outputs": [],
   "source": [
    "# deepadr_siamese = DeepAdr_SiameseTrf(input_dim=emb_dim,\n",
    "#                                      expression_dim=0,\n",
    "#                                    dist=dist_opt,\n",
    "#                                    num_classes=dataset.num_classes).to(device_gpu)"
   ]
  },
  {
   "cell_type": "code",
   "execution_count": 47,
   "metadata": {},
   "outputs": [],
   "source": [
    "# models_param = list(gnn_model.parameters()) + list(transformer_model.parameters()) + list(deepadr_siamese.parameters())\n",
    "# # models_param = list(gnn_model.parameters()) + list(deepadr_siamese.parameters())\n",
    "\n",
    "\n",
    "# models = [(gnn_model, f'{model_name}_GNN'),\n",
    "# #           (transformer_model, f'{model_name}_Transformer'),\n",
    "#           (deepadr_siamese, f'{model_name}_Siamese')]\n",
    "# #models"
   ]
  },
  {
   "cell_type": "code",
   "execution_count": null,
   "metadata": {},
   "outputs": [],
   "source": []
  },
  {
   "cell_type": "code",
   "execution_count": null,
   "metadata": {},
   "outputs": [],
   "source": []
  },
  {
   "cell_type": "code",
   "execution_count": 48,
   "metadata": {},
   "outputs": [],
   "source": [
    "# # from IPython.display import Javascript\n",
    "# # display(Javascript('''google.colab.output.setIframeHeight(0, true, {maxHeight: 300})'''))\n",
    "\n",
    "# optimizer = torch.optim.Adam(models_param, lr=0.001)\n",
    "# # criterion = torch.nn.CrossEntropyLoss()\n",
    "\n",
    "# # loss_nlll = torch.nn.NLLLoss(weight=class_weights, reduction='mean')  # negative log likelihood loss\n",
    "# loss_nlll = torch.nn.NLLLoss(reduction='mean')  # negative log likelihood loss\n",
    "# loss_contrastive = ContrastiveLoss(0.5, reduction='mean')\n",
    "# fdtype = torch.float32\n",
    "# loss_w = 0.1\n",
    "\n",
    "# # evaluator = Evaluator(DSdataset_name)"
   ]
  },
  {
   "cell_type": "code",
   "execution_count": 49,
   "metadata": {},
   "outputs": [],
   "source": [
    "# from IPython.display import Javascript\n",
    "# display(Javascript('''google.colab.output.setIframeHeight(0, true, {maxHeight: 300})'''))\n",
    "\n",
    "num_iter = len(train_loader)  # num_train_samples/batch_size\n",
    "c_step_size = int(np.ceil(5*num_iter))  # this should be 2-10 times num_iter\n",
    "\n",
    "base_lr = 3e-4\n",
    "max_lr = 5*base_lr  # 3-5 times base_lr\n",
    "optimizer = torch.optim.Adam(models_param, weight_decay=tp[\"l2_reg\"], lr=base_lr)\n",
    "cyc_scheduler = torch.optim.lr_scheduler.CyclicLR(optimizer, base_lr, max_lr, step_size_up=c_step_size,\n",
    "                                                mode='triangular', cycle_momentum=False)\n",
    "# optimizer = torch.optim.Adam(models_param, lr=0.001)\n",
    "# criterion = torch.nn.CrossEntropyLoss()\n",
    "\n",
    "# loss_nlll = torch.nn.NLLLoss(weight=class_weights, reduction='mean')  # negative log likelihood loss\n",
    "loss_nlll = torch.nn.NLLLoss(weight=class_weights, reduction='mean')  # negative log likelihood loss\n",
    "loss_contrastive = ContrastiveLoss(0.5, reduction='mean')\n",
    "# loss_mse = torch.nn.MSELoss()  # this is for regression mean squared loss\n",
    "\n",
    "\n",
    "# evaluator = Evaluator(DSdataset_name)"
   ]
  },
  {
   "cell_type": "code",
   "execution_count": 50,
   "metadata": {},
   "outputs": [],
   "source": [
    "def train():\n",
    "    for m, m_name in models:\n",
    "        m.train()\n",
    "\n",
    "        #            for i_batch, samples_batch in enumerate(data_loader):\n",
    "\n",
    "#     for data in train_loader:  # Iterate in batches over the training dataset.\n",
    "    for i_batch, batch in enumerate(tqdm(train_loader, desc=\"Iteration\")):\n",
    "#         print(\"batch len:\", len(batch))\n",
    "        \n",
    "        batch = batch.to(device_gpu)\n",
    "#         print(\"running batch:\", i_batch)\n",
    "        # x, edge_index, edge_attr, batch\n",
    "        h_a = gnn_model(batch.x_a, batch.edge_index_a, batch.edge_attr_a, batch.x_a_batch)\n",
    "        h_b = gnn_model(batch.x_b, batch.edge_index_b, batch.edge_attr_b, batch.x_b_batch)\n",
    "        \n",
    "#         z_a, fattn_w_scores_a = transformer_model(h_a)\n",
    "#         z_b, fattn_w_scores_b = transformer_model(h_b)\n",
    "        \n",
    "#         print(\"h_a shape:\", h_a.shape)\n",
    "#         print(\"z_a shape:\", z_a.shape)\n",
    "        \n",
    "        logsoftmax_scores, dist = siamese_model(h_a, h_b)\n",
    "#         out = model(data.x, data.edge_index, data.batch)  # Perform a single forward pass.\n",
    "#         loss = criterion(out, samples_batch.y)  # Compute the loss.\n",
    "        cl = loss_nlll(logsoftmax_scores, batch.y)            \n",
    "        dl = loss_contrastive(dist.reshape(-1), batch.y.type(fdtype))          \n",
    "        loss = tp[\"loss_w\"]*cl + (1-tp[\"loss_w\"])*dl\n",
    "        loss.backward()  # Derive gradients.\n",
    "        optimizer.step()  # Update parameters based on gradients.\n",
    "        optimizer.zero_grad()  # Clear gradients.\n",
    "\n",
    "def eval(loader, dsettype):\n",
    "    for m, m_name in models:\n",
    "        m.eval()\n",
    "        \n",
    "    pred_class = []\n",
    "    ref_class = []\n",
    "    prob_scores = []\n",
    "    \n",
    "#     for data in loader:  # Iterate in batches over the training/test dataset.\n",
    "    for i_batch, batch in enumerate(tqdm(loader, desc=\"Iteration\")):\n",
    "        batch = batch.to(device_gpu)\n",
    "#         out = model(data.x, data.edge_index, data.batch)  \n",
    "        h_a = gnn_model(batch.x_a, batch.edge_index_a, batch.edge_attr_a, batch.x_a_batch)\n",
    "        h_b = gnn_model(batch.x_b, batch.edge_index_b, batch.edge_attr_b, batch.x_b_batch)\n",
    "        \n",
    "#         z_a, fattn_w_scores_a = transformer_model(h_a)\n",
    "#         z_b, fattn_w_scores_b = transformer_model(h_b)\n",
    "        \n",
    "#         logsoftmax_scores, dist = deepadr_siamese(z_a, z_b)\n",
    "        \n",
    "#         __, y_pred_clss = torch.max(logsoftmax_scores, -1)\n",
    "#         y_pred_prob  = torch.exp(logsoftmax_scores.detach().cpu()).numpy()\n",
    "\n",
    "#         pred_class.extend(y_pred_clss.view(-1).tolist())\n",
    "#         ref_class.extend(batch.y.view(-1).tolist())\n",
    "# #         prob_scores.append(y_pred_prob)\n",
    "#         prob_scores.extend(y_pred_prob.view(-1).tolist())\n",
    "    \n",
    "        logsoftmax_scores, dist = siamese_model(h_a, h_b)\n",
    "\n",
    "        __, y_pred_clss = torch.max(logsoftmax_scores, -1)\n",
    "\n",
    "        y_pred_prob  = torch.exp(logsoftmax_scores.detach().cpu()).numpy()\n",
    "\n",
    "        pred_class.extend(y_pred_clss.view(-1).tolist())\n",
    "        ref_class.extend(batch.y.view(-1).tolist())\n",
    "        prob_scores.append(y_pred_prob)\n",
    "\n",
    "    prob_scores_arr = np.concatenate(prob_scores, axis=0)\n",
    "#     modelscore = perfmetric_report(pred_class, ref_class, prob_scores_arr[:,1], epoch,\n",
    "#                                   outlog = os.path.join(targetdata_dir_processed, dsettype + \".log\"))\n",
    "\n",
    "    print(\"Number of classes in y_true:\", len(np.unique(ref_class)))\n",
    "    print(\"number of columns in y_score:\", prob_scores_arr.shape[1])\n",
    "    modelscore = perfmetric_report(pred_class, ref_class, prob_scores_arr, epoch,\n",
    "                                  outlog = os.path.join(targetdata_dir_processed, dsettype + \".log\"),\n",
    "                                  multi_class=\"ovo\")\n",
    "    \n",
    "#     modelscore = perfmetric_report(pred_class, ref_class, prob_scores, epoch, \"\")        \n",
    "    \n",
    "#         pred = out.argmax(dim=1)  # Use the class with highest probability.\n",
    "#         correct += int((pred == samples_batch.y).sum())  # Check against ground-truth labels.\n",
    "#     return correct / len(loader.dataset)  # Derive ratio of correct predictions.\n",
    "    return modelscore"
   ]
  },
  {
   "cell_type": "code",
   "execution_count": 51,
   "metadata": {},
   "outputs": [],
   "source": [
    "# np.array(ref_class).value_counts()"
   ]
  },
  {
   "cell_type": "code",
   "execution_count": 52,
   "metadata": {},
   "outputs": [],
   "source": [
    "valid_curve = []\n",
    "test_curve = []\n",
    "train_curve = []"
   ]
  },
  {
   "cell_type": "code",
   "execution_count": 53,
   "metadata": {
    "scrolled": false
   },
   "outputs": [
    {
     "name": "stdout",
     "output_type": "stream",
     "text": [
      "=====Epoch 0\n",
      "Training...\n"
     ]
    },
    {
     "name": "stderr",
     "output_type": "stream",
     "text": [
      "Iteration: 100%|████████████████████████████████████████████████████████████████████████████████████████████████████████████████████████████████████████████████████████████████████████████████████████████| 283/283 [00:48<00:00,  5.86it/s]\n"
     ]
    },
    {
     "name": "stdout",
     "output_type": "stream",
     "text": [
      "Evaluating...\n"
     ]
    },
    {
     "name": "stderr",
     "output_type": "stream",
     "text": [
      "Iteration: 100%|████████████████████████████████████████████████████████████████████████████████████████████████████████████████████████████████████████████████████████████████████████████████████████████| 283/283 [00:07<00:00, 39.56it/s]\n"
     ]
    },
    {
     "name": "stdout",
     "output_type": "stream",
     "text": [
      "Number of classes in y_true: 12\n",
      "number of columns in y_score: 12\n"
     ]
    },
    {
     "name": "stderr",
     "output_type": "stream",
     "text": [
      "Iteration: 100%|██████████████████████████████████████████████████████████████████████████████████████████████████████████████████████████████████████████████████████████████████████████████████████████████| 32/32 [00:01<00:00, 24.29it/s]\n"
     ]
    },
    {
     "name": "stdout",
     "output_type": "stream",
     "text": [
      "Number of classes in y_true: 12\n",
      "number of columns in y_score: 12\n"
     ]
    },
    {
     "name": "stderr",
     "output_type": "stream",
     "text": [
      "Iteration: 100%|██████████████████████████████████████████████████████████████████████████████████████████████████████████████████████████████████████████████████████████████████████████████████████████████| 35/35 [00:01<00:00, 23.77it/s]\n"
     ]
    },
    {
     "name": "stdout",
     "output_type": "stream",
     "text": [
      "Number of classes in y_true: 12\n",
      "number of columns in y_score: 12\n",
      "{'Train':  best_epoch_indx:0\n",
      " auc:0.6682769937228117 \n",
      " f1_micro:0.020052478939373015 \n",
      " f1_macro:0.01699494124546671 \n",
      " precision_micro:0.020052478939373015 \n",
      " precision_macro:0.0858683047279623 \n",
      " recall_micro:0.020052478939373015 \n",
      " recall_macro:0.21629175439184226 \n",
      ", 'Validation':  best_epoch_indx:0\n",
      " auc:0.6140110427334351 \n",
      " f1_micro:0.01963708675118071 \n",
      " f1_macro:0.014754800760390265 \n",
      " precision_micro:0.01963708675118071 \n",
      " precision_macro:0.08732178450454893 \n",
      " recall_micro:0.01963708675118071 \n",
      " recall_macro:0.18352853681623602 \n",
      ", 'Test':  best_epoch_indx:0\n",
      " auc:0.6201666326615611 \n",
      " f1_micro:0.01901565995525727 \n",
      " f1_macro:0.012982637211613988 \n",
      " precision_micro:0.01901565995525727 \n",
      " precision_macro:0.08434370253369523 \n",
      " recall_micro:0.01901565995525727 \n",
      " recall_macro:0.13356544779068485 \n",
      "}\n",
      "=====Epoch 1\n",
      "Training...\n"
     ]
    },
    {
     "name": "stderr",
     "output_type": "stream",
     "text": [
      "Iteration: 100%|████████████████████████████████████████████████████████████████████████████████████████████████████████████████████████████████████████████████████████████████████████████████████████████| 283/283 [00:22<00:00, 12.61it/s]\n"
     ]
    },
    {
     "name": "stdout",
     "output_type": "stream",
     "text": [
      "Evaluating...\n"
     ]
    },
    {
     "name": "stderr",
     "output_type": "stream",
     "text": [
      "Iteration: 100%|████████████████████████████████████████████████████████████████████████████████████████████████████████████████████████████████████████████████████████████████████████████████████████████| 283/283 [00:07<00:00, 37.58it/s]\n"
     ]
    },
    {
     "name": "stdout",
     "output_type": "stream",
     "text": [
      "Number of classes in y_true: 12\n",
      "number of columns in y_score: 12\n"
     ]
    },
    {
     "name": "stderr",
     "output_type": "stream",
     "text": [
      "Iteration: 100%|██████████████████████████████████████████████████████████████████████████████████████████████████████████████████████████████████████████████████████████████████████████████████████████████| 32/32 [00:00<00:00, 39.65it/s]\n"
     ]
    },
    {
     "name": "stdout",
     "output_type": "stream",
     "text": [
      "Number of classes in y_true: 12\n",
      "number of columns in y_score: 12\n"
     ]
    },
    {
     "name": "stderr",
     "output_type": "stream",
     "text": [
      "Iteration: 100%|██████████████████████████████████████████████████████████████████████████████████████████████████████████████████████████████████████████████████████████████████████████████████████████████| 35/35 [00:00<00:00, 39.20it/s]\n"
     ]
    },
    {
     "name": "stdout",
     "output_type": "stream",
     "text": [
      "Number of classes in y_true: 12\n",
      "number of columns in y_score: 12\n",
      "{'Train':  best_epoch_indx:1\n",
      " auc:0.6959212815037628 \n",
      " f1_micro:0.02085347327717166 \n",
      " f1_macro:0.020193959979607864 \n",
      " precision_micro:0.02085347327717166 \n",
      " precision_macro:0.09119258171037099 \n",
      " recall_micro:0.02085347327717166 \n",
      " recall_macro:0.20800640069364193 \n",
      ", 'Validation':  best_epoch_indx:1\n",
      " auc:0.6497333284653183 \n",
      " f1_micro:0.019139945314441957 \n",
      " f1_macro:0.018132327982485475 \n",
      " precision_micro:0.019139945314441957 \n",
      " precision_macro:0.09283881507790022 \n",
      " recall_micro:0.019139945314441957 \n",
      " recall_macro:0.2002462348548324 \n",
      ", 'Test':  best_epoch_indx:1\n",
      " auc:0.6921055491966996 \n",
      " f1_micro:0.017897091722595078 \n",
      " f1_macro:0.017463183100487018 \n",
      " precision_micro:0.017897091722595078 \n",
      " precision_macro:0.0842890212134071 \n",
      " recall_micro:0.017897091722595078 \n",
      " recall_macro:0.1648849569774544 \n",
      "}\n",
      "=====Epoch 2\n",
      "Training...\n"
     ]
    },
    {
     "name": "stderr",
     "output_type": "stream",
     "text": [
      "Iteration: 100%|████████████████████████████████████████████████████████████████████████████████████████████████████████████████████████████████████████████████████████████████████████████████████████████| 283/283 [00:23<00:00, 11.83it/s]\n"
     ]
    },
    {
     "name": "stdout",
     "output_type": "stream",
     "text": [
      "Evaluating...\n"
     ]
    },
    {
     "name": "stderr",
     "output_type": "stream",
     "text": [
      "Iteration: 100%|████████████████████████████████████████████████████████████████████████████████████████████████████████████████████████████████████████████████████████████████████████████████████████████| 283/283 [00:07<00:00, 36.71it/s]\n"
     ]
    },
    {
     "name": "stdout",
     "output_type": "stream",
     "text": [
      "Number of classes in y_true: 12\n",
      "number of columns in y_score: 12\n"
     ]
    },
    {
     "name": "stderr",
     "output_type": "stream",
     "text": [
      "Iteration: 100%|██████████████████████████████████████████████████████████████████████████████████████████████████████████████████████████████████████████████████████████████████████████████████████████████| 32/32 [00:00<00:00, 36.20it/s]\n"
     ]
    },
    {
     "name": "stdout",
     "output_type": "stream",
     "text": [
      "Number of classes in y_true: 12\n",
      "number of columns in y_score: 12\n"
     ]
    },
    {
     "name": "stderr",
     "output_type": "stream",
     "text": [
      "Iteration: 100%|██████████████████████████████████████████████████████████████████████████████████████████████████████████████████████████████████████████████████████████████████████████████████████████████| 35/35 [00:00<00:00, 36.57it/s]\n"
     ]
    },
    {
     "name": "stdout",
     "output_type": "stream",
     "text": [
      "Number of classes in y_true: 12\n",
      "number of columns in y_score: 12\n",
      "{'Train':  best_epoch_indx:2\n",
      " auc:0.72621565081911 \n",
      " f1_micro:0.045463333793674905 \n",
      " f1_macro:0.033634559372359145 \n",
      " precision_micro:0.045463333793674905 \n",
      " precision_macro:0.09583480828036955 \n",
      " recall_micro:0.045463333793674905 \n",
      " recall_macro:0.27231282133283924 \n",
      ", 'Validation':  best_epoch_indx:2\n",
      " auc:0.676972334556104 \n",
      " f1_micro:0.04822271936365897 \n",
      " f1_macro:0.023552818860154683 \n",
      " precision_micro:0.04822271936365896 \n",
      " precision_macro:0.08951746143585111 \n",
      " recall_micro:0.04822271936365896 \n",
      " recall_macro:0.23750590311288552 \n",
      ", 'Test':  best_epoch_indx:2\n",
      " auc:0.7063420445619417 \n",
      " f1_micro:0.04854586129753915 \n",
      " f1_macro:0.026987797658265183 \n",
      " precision_micro:0.04854586129753915 \n",
      " precision_macro:0.09292726239011806 \n",
      " recall_micro:0.04854586129753915 \n",
      " recall_macro:0.20493365016301776 \n",
      "}\n",
      "=====Epoch 3\n",
      "Training...\n"
     ]
    },
    {
     "name": "stderr",
     "output_type": "stream",
     "text": [
      "Iteration: 100%|████████████████████████████████████████████████████████████████████████████████████████████████████████████████████████████████████████████████████████████████████████████████████████████| 283/283 [00:15<00:00, 18.63it/s]\n"
     ]
    },
    {
     "name": "stdout",
     "output_type": "stream",
     "text": [
      "Evaluating...\n"
     ]
    },
    {
     "name": "stderr",
     "output_type": "stream",
     "text": [
      "Iteration: 100%|████████████████████████████████████████████████████████████████████████████████████████████████████████████████████████████████████████████████████████████████████████████████████████████| 283/283 [00:06<00:00, 42.04it/s]\n"
     ]
    },
    {
     "name": "stdout",
     "output_type": "stream",
     "text": [
      "Number of classes in y_true: 12\n",
      "number of columns in y_score: 12\n"
     ]
    },
    {
     "name": "stderr",
     "output_type": "stream",
     "text": [
      "Iteration: 100%|██████████████████████████████████████████████████████████████████████████████████████████████████████████████████████████████████████████████████████████████████████████████████████████████| 32/32 [00:00<00:00, 42.36it/s]\n"
     ]
    },
    {
     "name": "stdout",
     "output_type": "stream",
     "text": [
      "Number of classes in y_true: 12\n",
      "number of columns in y_score: 12\n"
     ]
    },
    {
     "name": "stderr",
     "output_type": "stream",
     "text": [
      "Iteration: 100%|██████████████████████████████████████████████████████████████████████████████████████████████████████████████████████████████████████████████████████████████████████████████████████████████| 35/35 [00:00<00:00, 41.93it/s]\n"
     ]
    },
    {
     "name": "stdout",
     "output_type": "stream",
     "text": [
      "Number of classes in y_true: 12\n",
      "number of columns in y_score: 12\n",
      "{'Train':  best_epoch_indx:3\n",
      " auc:0.7305332097957027 \n",
      " f1_micro:0.02154398563734291 \n",
      " f1_macro:0.02823036808731473 \n",
      " precision_micro:0.02154398563734291 \n",
      " precision_macro:0.095055603438903 \n",
      " recall_micro:0.02154398563734291 \n",
      " recall_macro:0.24094212608801321 \n",
      ", 'Validation':  best_epoch_indx:3\n",
      " auc:0.6771530454953613 \n",
      " f1_micro:0.018891374596072583 \n",
      " f1_macro:0.02044969431790623 \n",
      " precision_micro:0.018891374596072583 \n",
      " precision_macro:0.09578763079045376 \n",
      " recall_micro:0.018891374596072583 \n",
      " recall_macro:0.1790876943608581 \n",
      ", 'Test':  best_epoch_indx:3\n",
      " auc:0.7015367707185584 \n",
      " f1_micro:0.022147651006711407 \n",
      " f1_macro:0.026056396508972218 \n",
      " precision_micro:0.02214765100671141 \n",
      " precision_macro:0.09983552528125471 \n",
      " recall_micro:0.02214765100671141 \n",
      " recall_macro:0.20554109566232048 \n",
      "}\n",
      "=====Epoch 4\n",
      "Training...\n"
     ]
    },
    {
     "name": "stderr",
     "output_type": "stream",
     "text": [
      "Iteration: 100%|████████████████████████████████████████████████████████████████████████████████████████████████████████████████████████████████████████████████████████████████████████████████████████████| 283/283 [00:18<00:00, 14.93it/s]\n"
     ]
    },
    {
     "name": "stdout",
     "output_type": "stream",
     "text": [
      "Evaluating...\n"
     ]
    },
    {
     "name": "stderr",
     "output_type": "stream",
     "text": [
      "Iteration: 100%|████████████████████████████████████████████████████████████████████████████████████████████████████████████████████████████████████████████████████████████████████████████████████████████| 283/283 [00:06<00:00, 41.16it/s]\n"
     ]
    },
    {
     "name": "stdout",
     "output_type": "stream",
     "text": [
      "Number of classes in y_true: 12\n",
      "number of columns in y_score: 12\n"
     ]
    },
    {
     "name": "stderr",
     "output_type": "stream",
     "text": [
      "Iteration: 100%|██████████████████████████████████████████████████████████████████████████████████████████████████████████████████████████████████████████████████████████████████████████████████████████████| 32/32 [00:00<00:00, 42.28it/s]\n"
     ]
    },
    {
     "name": "stdout",
     "output_type": "stream",
     "text": [
      "Number of classes in y_true: 12\n",
      "number of columns in y_score: 12\n"
     ]
    },
    {
     "name": "stderr",
     "output_type": "stream",
     "text": [
      "Iteration: 100%|██████████████████████████████████████████████████████████████████████████████████████████████████████████████████████████████████████████████████████████████████████████████████████████████| 35/35 [00:00<00:00, 41.91it/s]\n"
     ]
    },
    {
     "name": "stdout",
     "output_type": "stream",
     "text": [
      "Number of classes in y_true: 12\n",
      "number of columns in y_score: 12\n",
      "{'Train':  best_epoch_indx:4\n",
      " auc:0.740659620645218 \n",
      " f1_micro:0.11169727938130093 \n",
      " f1_macro:0.04181572354430225 \n",
      " precision_micro:0.11169727938130093 \n",
      " precision_macro:0.09451908703178054 \n",
      " recall_micro:0.11169727938130093 \n",
      " recall_macro:0.24088526529118168 \n",
      ", 'Validation':  best_epoch_indx:4\n",
      " auc:0.6735729568087255 \n",
      " f1_micro:0.10912254536415611 \n",
      " f1_macro:0.0414990502697842 \n",
      " precision_micro:0.1091225453641561 \n",
      " precision_macro:0.09492251608282624 \n",
      " recall_micro:0.1091225453641561 \n",
      " recall_macro:0.24265388978824987 \n",
      ", 'Test':  best_epoch_indx:4\n",
      " auc:0.712048524910686 \n",
      " f1_micro:0.1116331096196868 \n",
      " f1_macro:0.040458280144770105 \n",
      " precision_micro:0.1116331096196868 \n",
      " precision_macro:0.09174892840749366 \n",
      " recall_micro:0.1116331096196868 \n",
      " recall_macro:0.22664063166095202 \n",
      "}\n",
      "=====Epoch 5\n",
      "Training...\n"
     ]
    },
    {
     "name": "stderr",
     "output_type": "stream",
     "text": [
      "Iteration: 100%|████████████████████████████████████████████████████████████████████████████████████████████████████████████████████████████████████████████████████████████████████████████████████████████| 283/283 [00:22<00:00, 12.61it/s]\n"
     ]
    },
    {
     "name": "stdout",
     "output_type": "stream",
     "text": [
      "Evaluating...\n"
     ]
    },
    {
     "name": "stderr",
     "output_type": "stream",
     "text": [
      "Iteration: 100%|████████████████████████████████████████████████████████████████████████████████████████████████████████████████████████████████████████████████████████████████████████████████████████████| 283/283 [00:06<00:00, 40.79it/s]\n"
     ]
    },
    {
     "name": "stdout",
     "output_type": "stream",
     "text": [
      "Number of classes in y_true: 12\n",
      "number of columns in y_score: 12\n"
     ]
    },
    {
     "name": "stderr",
     "output_type": "stream",
     "text": [
      "Iteration: 100%|██████████████████████████████████████████████████████████████████████████████████████████████████████████████████████████████████████████████████████████████████████████████████████████████| 32/32 [00:00<00:00, 42.07it/s]\n"
     ]
    },
    {
     "name": "stdout",
     "output_type": "stream",
     "text": [
      "Number of classes in y_true: 12\n",
      "number of columns in y_score: 12\n"
     ]
    },
    {
     "name": "stderr",
     "output_type": "stream",
     "text": [
      "Iteration: 100%|██████████████████████████████████████████████████████████████████████████████████████████████████████████████████████████████████████████████████████████████████████████████████████████████| 35/35 [00:00<00:00, 41.29it/s]\n"
     ]
    },
    {
     "name": "stdout",
     "output_type": "stream",
     "text": [
      "Number of classes in y_true: 12\n",
      "number of columns in y_score: 12\n",
      "{'Train':  best_epoch_indx:5\n",
      " auc:0.7294792943164172 \n",
      " f1_micro:0.07208949040187819 \n",
      " f1_macro:0.03382834805047013 \n",
      " precision_micro:0.07208949040187819 \n",
      " precision_macro:0.10032079080431894 \n",
      " recall_micro:0.07208949040187819 \n",
      " recall_macro:0.24893690163520407 \n",
      ", 'Validation':  best_epoch_indx:5\n",
      " auc:0.6943943162325816 \n",
      " f1_micro:0.06935123042505593 \n",
      " f1_macro:0.03141004702575544 \n",
      " precision_micro:0.06935123042505593 \n",
      " precision_macro:0.09155558168751345 \n",
      " recall_micro:0.06935123042505593 \n",
      " recall_macro:0.2961149505801068 \n",
      ", 'Test':  best_epoch_indx:5\n",
      " auc:0.693518360784919 \n",
      " f1_micro:0.06465324384787471 \n",
      " f1_macro:0.024708399857158603 \n",
      " precision_micro:0.06465324384787471 \n",
      " precision_macro:0.08604404023650554 \n",
      " recall_micro:0.06465324384787471 \n",
      " recall_macro:0.16627770138209216 \n",
      "}\n",
      "=====Epoch 6\n",
      "Training...\n"
     ]
    },
    {
     "name": "stderr",
     "output_type": "stream",
     "text": [
      "Iteration: 100%|████████████████████████████████████████████████████████████████████████████████████████████████████████████████████████████████████████████████████████████████████████████████████████████| 283/283 [00:22<00:00, 12.59it/s]\n"
     ]
    },
    {
     "name": "stdout",
     "output_type": "stream",
     "text": [
      "Evaluating...\n"
     ]
    },
    {
     "name": "stderr",
     "output_type": "stream",
     "text": [
      "Iteration: 100%|████████████████████████████████████████████████████████████████████████████████████████████████████████████████████████████████████████████████████████████████████████████████████████████| 283/283 [00:07<00:00, 36.64it/s]\n"
     ]
    },
    {
     "name": "stdout",
     "output_type": "stream",
     "text": [
      "Number of classes in y_true: 12\n",
      "number of columns in y_score: 12\n"
     ]
    },
    {
     "name": "stderr",
     "output_type": "stream",
     "text": [
      "Iteration: 100%|██████████████████████████████████████████████████████████████████████████████████████████████████████████████████████████████████████████████████████████████████████████████████████████████| 32/32 [00:00<00:00, 36.75it/s]\n"
     ]
    },
    {
     "name": "stdout",
     "output_type": "stream",
     "text": [
      "Number of classes in y_true: 12\n",
      "number of columns in y_score: 12\n"
     ]
    },
    {
     "name": "stderr",
     "output_type": "stream",
     "text": [
      "Iteration: 100%|██████████████████████████████████████████████████████████████████████████████████████████████████████████████████████████████████████████████████████████████████████████████████████████████| 35/35 [00:00<00:00, 42.11it/s]\n"
     ]
    },
    {
     "name": "stdout",
     "output_type": "stream",
     "text": [
      "Number of classes in y_true: 12\n",
      "number of columns in y_score: 12\n",
      "{'Train':  best_epoch_indx:6\n",
      " auc:0.7294765596318937 \n",
      " f1_micro:0.11622704046402431 \n",
      " f1_macro:0.04428106111190086 \n",
      " precision_micro:0.11622704046402431 \n",
      " precision_macro:0.09505842602821685 \n",
      " recall_micro:0.11622704046402431 \n",
      " recall_macro:0.2642827257458072 \n",
      ", 'Validation':  best_epoch_indx:6\n",
      " auc:0.6791857978192335 \n",
      " f1_micro:0.12428535918468804 \n",
      " f1_macro:0.04017688643460648 \n",
      " precision_micro:0.12428535918468804 \n",
      " precision_macro:0.09219337392336835 \n",
      " recall_micro:0.12428535918468804 \n",
      " recall_macro:0.23036404532845187 \n",
      ", 'Test':  best_epoch_indx:6\n",
      " auc:0.704824676403148 \n",
      " f1_micro:0.11230425055928411 \n",
      " f1_macro:0.035337364436197824 \n",
      " precision_micro:0.11230425055928411 \n",
      " precision_macro:0.08865842103783361 \n",
      " recall_micro:0.11230425055928411 \n",
      " recall_macro:0.2278387912596814 \n",
      "}\n",
      "=====Epoch 7\n",
      "Training...\n"
     ]
    },
    {
     "name": "stderr",
     "output_type": "stream",
     "text": [
      "Iteration: 100%|████████████████████████████████████████████████████████████████████████████████████████████████████████████████████████████████████████████████████████████████████████████████████████████| 283/283 [00:22<00:00, 12.69it/s]\n"
     ]
    },
    {
     "name": "stdout",
     "output_type": "stream",
     "text": [
      "Evaluating...\n"
     ]
    },
    {
     "name": "stderr",
     "output_type": "stream",
     "text": [
      "Iteration: 100%|████████████████████████████████████████████████████████████████████████████████████████████████████████████████████████████████████████████████████████████████████████████████████████████| 283/283 [00:06<00:00, 40.95it/s]\n"
     ]
    },
    {
     "name": "stdout",
     "output_type": "stream",
     "text": [
      "Number of classes in y_true: 12\n",
      "number of columns in y_score: 12\n"
     ]
    },
    {
     "name": "stderr",
     "output_type": "stream",
     "text": [
      "Iteration: 100%|██████████████████████████████████████████████████████████████████████████████████████████████████████████████████████████████████████████████████████████████████████████████████████████████| 32/32 [00:00<00:00, 42.15it/s]\n"
     ]
    },
    {
     "name": "stdout",
     "output_type": "stream",
     "text": [
      "Number of classes in y_true: 12\n",
      "number of columns in y_score: 12\n"
     ]
    },
    {
     "name": "stderr",
     "output_type": "stream",
     "text": [
      "Iteration: 100%|██████████████████████████████████████████████████████████████████████████████████████████████████████████████████████████████████████████████████████████████████████████████████████████████| 35/35 [00:00<00:00, 41.80it/s]\n"
     ]
    },
    {
     "name": "stdout",
     "output_type": "stream",
     "text": [
      "Number of classes in y_true: 12\n",
      "number of columns in y_score: 12\n",
      "{'Train':  best_epoch_indx:7\n",
      " auc:0.7183575897465944 \n",
      " f1_micro:0.404971688993233 \n",
      " f1_macro:0.07026206744174351 \n",
      " precision_micro:0.404971688993233 \n",
      " precision_macro:0.09200664676028614 \n",
      " recall_micro:0.404971688993233 \n",
      " recall_macro:0.24816533490872975 \n",
      ", 'Validation':  best_epoch_indx:7\n",
      " auc:0.6781209736168251 \n",
      " f1_micro:0.4185930897340293 \n",
      " f1_macro:0.06466112189856907 \n",
      " precision_micro:0.4185930897340293 \n",
      " precision_macro:0.08783138777125475 \n",
      " recall_micro:0.4185930897340293 \n",
      " recall_macro:0.21844049257582585 \n",
      ", 'Test':  best_epoch_indx:7\n",
      " auc:0.6921966986192579 \n",
      " f1_micro:0.41230425055928416 \n",
      " f1_macro:0.06389537452636494 \n",
      " precision_micro:0.4123042505592841 \n",
      " precision_macro:0.08692967340720821 \n",
      " recall_micro:0.4123042505592841 \n",
      " recall_macro:0.2055782002339829 \n",
      "}\n",
      "=====Epoch 8\n",
      "Training...\n"
     ]
    },
    {
     "name": "stderr",
     "output_type": "stream",
     "text": [
      "Iteration: 100%|████████████████████████████████████████████████████████████████████████████████████████████████████████████████████████████████████████████████████████████████████████████████████████████| 283/283 [00:23<00:00, 11.94it/s]\n"
     ]
    },
    {
     "name": "stdout",
     "output_type": "stream",
     "text": [
      "Evaluating...\n"
     ]
    },
    {
     "name": "stderr",
     "output_type": "stream",
     "text": [
      "Iteration: 100%|████████████████████████████████████████████████████████████████████████████████████████████████████████████████████████████████████████████████████████████████████████████████████████████| 283/283 [00:07<00:00, 39.52it/s]\n"
     ]
    },
    {
     "name": "stdout",
     "output_type": "stream",
     "text": [
      "Number of classes in y_true: 12\n",
      "number of columns in y_score: 12\n"
     ]
    },
    {
     "name": "stderr",
     "output_type": "stream",
     "text": [
      "Iteration: 100%|██████████████████████████████████████████████████████████████████████████████████████████████████████████████████████████████████████████████████████████████████████████████████████████████| 32/32 [00:00<00:00, 41.80it/s]\n"
     ]
    },
    {
     "name": "stdout",
     "output_type": "stream",
     "text": [
      "Number of classes in y_true: 12\n",
      "number of columns in y_score: 12\n"
     ]
    },
    {
     "name": "stderr",
     "output_type": "stream",
     "text": [
      "Iteration: 100%|██████████████████████████████████████████████████████████████████████████████████████████████████████████████████████████████████████████████████████████████████████████████████████████████| 35/35 [00:00<00:00, 42.15it/s]\n"
     ]
    },
    {
     "name": "stdout",
     "output_type": "stream",
     "text": [
      "Number of classes in y_true: 12\n",
      "number of columns in y_score: 12\n",
      "{'Train':  best_epoch_indx:8\n",
      " auc:0.7487358029993302 \n",
      " f1_micro:0.024333655572434748 \n",
      " f1_macro:0.024668688065583855 \n",
      " precision_micro:0.024333655572434748 \n",
      " precision_macro:0.09336946241753345 \n",
      " recall_micro:0.024333655572434748 \n",
      " recall_macro:0.3010273406833975 \n",
      ", 'Validation':  best_epoch_indx:8\n",
      " auc:0.707329916626058 \n",
      " f1_micro:0.02162565249813572 \n",
      " f1_macro:0.01811431883371103 \n",
      " precision_micro:0.02162565249813572 \n",
      " precision_macro:0.0920295102182951 \n",
      " recall_micro:0.02162565249813572 \n",
      " recall_macro:0.27085032484658605 \n",
      ", 'Test':  best_epoch_indx:8\n",
      " auc:0.7121921693281211 \n",
      " f1_micro:0.020134228187919462 \n",
      " f1_macro:0.018462881985415205 \n",
      " precision_micro:0.020134228187919462 \n",
      " precision_macro:0.088204245211908 \n",
      " recall_micro:0.020134228187919462 \n",
      " recall_macro:0.24769307078920066 \n",
      "}\n",
      "=====Epoch 9\n",
      "Training...\n"
     ]
    },
    {
     "name": "stderr",
     "output_type": "stream",
     "text": [
      "Iteration: 100%|████████████████████████████████████████████████████████████████████████████████████████████████████████████████████████████████████████████████████████████████████████████████████████████| 283/283 [00:22<00:00, 12.63it/s]\n"
     ]
    },
    {
     "name": "stdout",
     "output_type": "stream",
     "text": [
      "Evaluating...\n"
     ]
    },
    {
     "name": "stderr",
     "output_type": "stream",
     "text": [
      "Iteration: 100%|████████████████████████████████████████████████████████████████████████████████████████████████████████████████████████████████████████████████████████████████████████████████████████████| 283/283 [00:06<00:00, 41.01it/s]\n"
     ]
    },
    {
     "name": "stdout",
     "output_type": "stream",
     "text": [
      "Number of classes in y_true: 12\n",
      "number of columns in y_score: 12\n"
     ]
    },
    {
     "name": "stderr",
     "output_type": "stream",
     "text": [
      "Iteration: 100%|██████████████████████████████████████████████████████████████████████████████████████████████████████████████████████████████████████████████████████████████████████████████████████████████| 32/32 [00:00<00:00, 42.21it/s]\n"
     ]
    },
    {
     "name": "stdout",
     "output_type": "stream",
     "text": [
      "Number of classes in y_true: 12\n",
      "number of columns in y_score: 12\n"
     ]
    },
    {
     "name": "stderr",
     "output_type": "stream",
     "text": [
      "Iteration: 100%|██████████████████████████████████████████████████████████████████████████████████████████████████████████████████████████████████████████████████████████████████████████████████████████████| 35/35 [00:00<00:00, 41.77it/s]\n"
     ]
    },
    {
     "name": "stdout",
     "output_type": "stream",
     "text": [
      "Number of classes in y_true: 12\n",
      "number of columns in y_score: 12\n",
      "{'Train':  best_epoch_indx:9\n",
      " auc:0.7461970880602886 \n",
      " f1_micro:0.06236707637066703 \n",
      " f1_macro:0.03187024434674487 \n",
      " precision_micro:0.06236707637066703 \n",
      " precision_macro:0.0922387752341849 \n",
      " recall_micro:0.06236707637066703 \n",
      " recall_macro:0.30714906631513345 \n",
      ", 'Validation':  best_epoch_indx:9\n",
      " auc:0.6983569504530622 \n",
      " f1_micro:0.06089982600049714 \n",
      " f1_macro:0.022588971585706153 \n",
      " precision_micro:0.06089982600049714 \n",
      " precision_macro:0.08608385225877462 \n",
      " recall_micro:0.06089982600049714 \n",
      " recall_macro:0.1994638854632024 \n",
      ", 'Test':  best_epoch_indx:9\n",
      " auc:0.7233887423606844 \n",
      " f1_micro:0.060850111856823264 \n",
      " f1_macro:0.026251232863105392 \n",
      " precision_micro:0.060850111856823264 \n",
      " precision_macro:0.08788822069692241 \n",
      " recall_micro:0.060850111856823264 \n",
      " recall_macro:0.23357104481779092 \n",
      "}\n",
      "=====Epoch 10\n",
      "Training...\n"
     ]
    },
    {
     "name": "stderr",
     "output_type": "stream",
     "text": [
      "Iteration: 100%|████████████████████████████████████████████████████████████████████████████████████████████████████████████████████████████████████████████████████████████████████████████████████████████| 283/283 [00:22<00:00, 12.42it/s]\n"
     ]
    },
    {
     "name": "stdout",
     "output_type": "stream",
     "text": [
      "Evaluating...\n"
     ]
    },
    {
     "name": "stderr",
     "output_type": "stream",
     "text": [
      "Iteration: 100%|████████████████████████████████████████████████████████████████████████████████████████████████████████████████████████████████████████████████████████████████████████████████████████████| 283/283 [00:06<00:00, 41.02it/s]\n"
     ]
    },
    {
     "name": "stdout",
     "output_type": "stream",
     "text": [
      "Number of classes in y_true: 12\n",
      "number of columns in y_score: 12\n"
     ]
    },
    {
     "name": "stderr",
     "output_type": "stream",
     "text": [
      "Iteration: 100%|██████████████████████████████████████████████████████████████████████████████████████████████████████████████████████████████████████████████████████████████████████████████████████████████| 32/32 [00:00<00:00, 42.36it/s]\n"
     ]
    },
    {
     "name": "stdout",
     "output_type": "stream",
     "text": [
      "Number of classes in y_true: 12\n",
      "number of columns in y_score: 12\n"
     ]
    },
    {
     "name": "stderr",
     "output_type": "stream",
     "text": [
      "Iteration: 100%|██████████████████████████████████████████████████████████████████████████████████████████████████████████████████████████████████████████████████████████████████████████████████████████████| 35/35 [00:00<00:00, 41.97it/s]\n"
     ]
    },
    {
     "name": "stdout",
     "output_type": "stream",
     "text": [
      "Number of classes in y_true: 12\n",
      "number of columns in y_score: 12\n",
      "{'Train':  best_epoch_indx:10\n",
      " auc:0.7556413166350548 \n",
      " f1_micro:0.013313078304101644 \n",
      " f1_macro:0.02152971578796666 \n",
      " precision_micro:0.013313078304101644 \n",
      " precision_macro:0.0916608309827236 \n",
      " recall_micro:0.013313078304101644 \n",
      " recall_macro:0.30937976558355273 \n",
      ", 'Validation':  best_epoch_indx:10\n",
      " auc:0.6856430775582959 \n",
      " f1_micro:0.010439970171513796 \n",
      " f1_macro:0.013979760618099557 \n",
      " precision_micro:0.010439970171513796 \n",
      " precision_macro:0.09051880578088561 \n",
      " recall_micro:0.010439970171513796 \n",
      " recall_macro:0.24660896498983 \n",
      ", 'Test':  best_epoch_indx:10\n",
      " auc:0.7215607995562768 \n",
      " f1_micro:0.010961968680089485 \n",
      " f1_macro:0.01607676613748286 \n",
      " precision_micro:0.010961968680089485 \n",
      " precision_macro:0.09442174359320225 \n",
      " recall_micro:0.010961968680089485 \n",
      " recall_macro:0.263080918345282 \n",
      "}\n",
      "=====Epoch 11\n",
      "Training...\n"
     ]
    },
    {
     "name": "stderr",
     "output_type": "stream",
     "text": [
      "Iteration: 100%|████████████████████████████████████████████████████████████████████████████████████████████████████████████████████████████████████████████████████████████████████████████████████████████| 283/283 [00:22<00:00, 12.42it/s]\n"
     ]
    },
    {
     "name": "stdout",
     "output_type": "stream",
     "text": [
      "Evaluating...\n"
     ]
    },
    {
     "name": "stderr",
     "output_type": "stream",
     "text": [
      "Iteration: 100%|████████████████████████████████████████████████████████████████████████████████████████████████████████████████████████████████████████████████████████████████████████████████████████████| 283/283 [00:06<00:00, 40.96it/s]\n"
     ]
    },
    {
     "name": "stdout",
     "output_type": "stream",
     "text": [
      "Number of classes in y_true: 12\n",
      "number of columns in y_score: 12\n"
     ]
    },
    {
     "name": "stderr",
     "output_type": "stream",
     "text": [
      "Iteration: 100%|██████████████████████████████████████████████████████████████████████████████████████████████████████████████████████████████████████████████████████████████████████████████████████████████| 32/32 [00:00<00:00, 42.15it/s]\n"
     ]
    },
    {
     "name": "stdout",
     "output_type": "stream",
     "text": [
      "Number of classes in y_true: 12\n",
      "number of columns in y_score: 12\n"
     ]
    },
    {
     "name": "stderr",
     "output_type": "stream",
     "text": [
      "Iteration: 100%|██████████████████████████████████████████████████████████████████████████████████████████████████████████████████████████████████████████████████████████████████████████████████████████████| 35/35 [00:00<00:00, 41.68it/s]\n"
     ]
    },
    {
     "name": "stdout",
     "output_type": "stream",
     "text": [
      "Number of classes in y_true: 12\n",
      "number of columns in y_score: 12\n",
      "{'Train':  best_epoch_indx:11\n",
      " auc:0.7623342923272484 \n",
      " f1_micro:0.052561800856235324 \n",
      " f1_macro:0.03334111805653594 \n",
      " precision_micro:0.052561800856235324 \n",
      " precision_macro:0.09922094041766806 \n",
      " recall_micro:0.052561800856235324 \n",
      " recall_macro:0.35748853206453773 \n",
      ", 'Validation':  best_epoch_indx:11\n",
      " auc:0.7080434771843686 \n",
      " f1_micro:0.053691275167785234 \n",
      " f1_macro:0.025611145071370103 \n",
      " precision_micro:0.053691275167785234 \n",
      " precision_macro:0.08925964174030038 \n",
      " recall_micro:0.053691275167785234 \n",
      " recall_macro:0.28932326261864244 \n",
      ", 'Test':  best_epoch_indx:11\n",
      " auc:0.7521447264940164 \n",
      " f1_micro:0.046308724832214765 \n",
      " f1_macro:0.023498262725502903 \n",
      " precision_micro:0.046308724832214765 \n",
      " precision_macro:0.08856669316551723 \n",
      " recall_micro:0.046308724832214765 \n",
      " recall_macro:0.2594395080066249 \n",
      "}\n",
      "=====Epoch 12\n",
      "Training...\n"
     ]
    },
    {
     "name": "stderr",
     "output_type": "stream",
     "text": [
      "Iteration: 100%|████████████████████████████████████████████████████████████████████████████████████████████████████████████████████████████████████████████████████████████████████████████████████████████| 283/283 [00:23<00:00, 12.28it/s]\n"
     ]
    },
    {
     "name": "stdout",
     "output_type": "stream",
     "text": [
      "Evaluating...\n"
     ]
    },
    {
     "name": "stderr",
     "output_type": "stream",
     "text": [
      "Iteration: 100%|████████████████████████████████████████████████████████████████████████████████████████████████████████████████████████████████████████████████████████████████████████████████████████████| 283/283 [00:07<00:00, 38.98it/s]\n"
     ]
    },
    {
     "name": "stdout",
     "output_type": "stream",
     "text": [
      "Number of classes in y_true: 12\n",
      "number of columns in y_score: 12\n"
     ]
    },
    {
     "name": "stderr",
     "output_type": "stream",
     "text": [
      "Iteration: 100%|██████████████████████████████████████████████████████████████████████████████████████████████████████████████████████████████████████████████████████████████████████████████████████████████| 32/32 [00:00<00:00, 39.89it/s]\n"
     ]
    },
    {
     "name": "stdout",
     "output_type": "stream",
     "text": [
      "Number of classes in y_true: 12\n",
      "number of columns in y_score: 12\n"
     ]
    },
    {
     "name": "stderr",
     "output_type": "stream",
     "text": [
      "Iteration: 100%|██████████████████████████████████████████████████████████████████████████████████████████████████████████████████████████████████████████████████████████████████████████████████████████████| 35/35 [00:00<00:00, 40.05it/s]\n"
     ]
    },
    {
     "name": "stdout",
     "output_type": "stream",
     "text": [
      "Number of classes in y_true: 12\n",
      "number of columns in y_score: 12\n",
      "{'Train':  best_epoch_indx:12\n",
      " auc:0.7565345946603275 \n",
      " f1_micro:0.02773097638447728 \n",
      " f1_macro:0.03423604507429464 \n",
      " precision_micro:0.02773097638447728 \n",
      " precision_macro:0.09817841195573822 \n",
      " recall_micro:0.02773097638447728 \n",
      " recall_macro:0.3315437509670871 \n",
      ", 'Validation':  best_epoch_indx:12\n",
      " auc:0.6972357938265656 \n",
      " f1_micro:0.026845637583892617 \n",
      " f1_macro:0.035024393823591224 \n",
      " precision_micro:0.026845637583892617 \n",
      " precision_macro:0.09802990473404787 \n",
      " recall_micro:0.026845637583892617 \n",
      " recall_macro:0.27292481053664736 \n",
      ", 'Test':  best_epoch_indx:12\n",
      " auc:0.7268348493577887 \n",
      " f1_micro:0.024832214765100672 \n",
      " f1_macro:0.027393057770933708 \n",
      " precision_micro:0.024832214765100672 \n",
      " precision_macro:0.0929459408028352 \n",
      " recall_micro:0.024832214765100672 \n",
      " recall_macro:0.26749718871169453 \n",
      "}\n",
      "=====Epoch 13\n",
      "Training...\n"
     ]
    },
    {
     "name": "stderr",
     "output_type": "stream",
     "text": [
      "Iteration: 100%|████████████████████████████████████████████████████████████████████████████████████████████████████████████████████████████████████████████████████████████████████████████████████████████| 283/283 [00:22<00:00, 12.81it/s]\n"
     ]
    },
    {
     "name": "stdout",
     "output_type": "stream",
     "text": [
      "Evaluating...\n"
     ]
    },
    {
     "name": "stderr",
     "output_type": "stream",
     "text": [
      "Iteration: 100%|████████████████████████████████████████████████████████████████████████████████████████████████████████████████████████████████████████████████████████████████████████████████████████████| 283/283 [00:06<00:00, 40.76it/s]\n"
     ]
    },
    {
     "name": "stdout",
     "output_type": "stream",
     "text": [
      "Number of classes in y_true: 12\n",
      "number of columns in y_score: 12\n"
     ]
    },
    {
     "name": "stderr",
     "output_type": "stream",
     "text": [
      "Iteration: 100%|██████████████████████████████████████████████████████████████████████████████████████████████████████████████████████████████████████████████████████████████████████████████████████████████| 32/32 [00:00<00:00, 42.35it/s]\n"
     ]
    },
    {
     "name": "stdout",
     "output_type": "stream",
     "text": [
      "Number of classes in y_true: 12\n",
      "number of columns in y_score: 12\n"
     ]
    },
    {
     "name": "stderr",
     "output_type": "stream",
     "text": [
      "Iteration: 100%|██████████████████████████████████████████████████████████████████████████████████████████████████████████████████████████████████████████████████████████████████████████████████████████████| 35/35 [00:00<00:00, 42.04it/s]\n"
     ]
    },
    {
     "name": "stdout",
     "output_type": "stream",
     "text": [
      "Number of classes in y_true: 12\n",
      "number of columns in y_score: 12\n",
      "{'Train':  best_epoch_indx:13\n",
      " auc:0.7749472563980689 \n",
      " f1_micro:0.06267090180914238 \n",
      " f1_macro:0.03571698002743884 \n",
      " precision_micro:0.06267090180914238 \n",
      " precision_macro:0.09593244615875239 \n",
      " recall_micro:0.06267090180914238 \n",
      " recall_macro:0.370711673369343 \n",
      ", 'Validation':  best_epoch_indx:13\n",
      " auc:0.7060467038783725 \n",
      " f1_micro:0.05965697240865026 \n",
      " f1_macro:0.02766223106228817 \n",
      " precision_micro:0.05965697240865026 \n",
      " precision_macro:0.09003291108891077 \n",
      " recall_micro:0.05965697240865026 \n",
      " recall_macro:0.2667567101063747 \n",
      ", 'Test':  best_epoch_indx:13\n",
      " auc:0.7549661394085596 \n",
      " f1_micro:0.05861297539149888 \n",
      " f1_macro:0.034653930737883705 \n",
      " precision_micro:0.05861297539149888 \n",
      " precision_macro:0.09890633595357107 \n",
      " recall_micro:0.05861297539149888 \n",
      " recall_macro:0.35726827960355867 \n",
      "}\n",
      "=====Epoch 14\n",
      "Training...\n"
     ]
    },
    {
     "name": "stderr",
     "output_type": "stream",
     "text": [
      "Iteration: 100%|████████████████████████████████████████████████████████████████████████████████████████████████████████████████████████████████████████████████████████████████████████████████████████████| 283/283 [00:23<00:00, 12.08it/s]\n"
     ]
    },
    {
     "name": "stdout",
     "output_type": "stream",
     "text": [
      "Evaluating...\n"
     ]
    },
    {
     "name": "stderr",
     "output_type": "stream",
     "text": [
      "Iteration: 100%|████████████████████████████████████████████████████████████████████████████████████████████████████████████████████████████████████████████████████████████████████████████████████████████| 283/283 [00:07<00:00, 36.70it/s]\n"
     ]
    },
    {
     "name": "stdout",
     "output_type": "stream",
     "text": [
      "Number of classes in y_true: 12\n",
      "number of columns in y_score: 12\n"
     ]
    },
    {
     "name": "stderr",
     "output_type": "stream",
     "text": [
      "Iteration: 100%|██████████████████████████████████████████████████████████████████████████████████████████████████████████████████████████████████████████████████████████████████████████████████████████████| 32/32 [00:00<00:00, 35.37it/s]\n"
     ]
    },
    {
     "name": "stdout",
     "output_type": "stream",
     "text": [
      "Number of classes in y_true: 12\n",
      "number of columns in y_score: 12\n"
     ]
    },
    {
     "name": "stderr",
     "output_type": "stream",
     "text": [
      "Iteration: 100%|██████████████████████████████████████████████████████████████████████████████████████████████████████████████████████████████████████████████████████████████████████████████████████████████| 35/35 [00:00<00:00, 39.38it/s]\n"
     ]
    },
    {
     "name": "stdout",
     "output_type": "stream",
     "text": [
      "Number of classes in y_true: 12\n",
      "number of columns in y_score: 12\n",
      "{'Train':  best_epoch_indx:14\n",
      " auc:0.7824256801288891 \n",
      " f1_micro:0.07788979422731666 \n",
      " f1_macro:0.03835586922500798 \n",
      " precision_micro:0.07788979422731666 \n",
      " precision_macro:0.09433895227811034 \n",
      " recall_micro:0.07788979422731666 \n",
      " recall_macro:0.3784133493179686 \n",
      ", 'Validation':  best_epoch_indx:14\n",
      " auc:0.7045067066162078 \n",
      " f1_micro:0.07407407407407407 \n",
      " f1_macro:0.03475822182971134 \n",
      " precision_micro:0.07407407407407407 \n",
      " precision_macro:0.09227465087525956 \n",
      " recall_micro:0.07407407407407407 \n",
      " recall_macro:0.3185676854343844 \n",
      ", 'Test':  best_epoch_indx:14\n",
      " auc:0.7588931253347071 \n",
      " f1_micro:0.07024608501118568 \n",
      " f1_macro:0.034442813894213616 \n",
      " precision_micro:0.07024608501118568 \n",
      " precision_macro:0.09282306551190499 \n",
      " recall_micro:0.07024608501118568 \n",
      " recall_macro:0.3550401995532086 \n",
      "}\n",
      "=====Epoch 15\n",
      "Training...\n"
     ]
    },
    {
     "name": "stderr",
     "output_type": "stream",
     "text": [
      "Iteration: 100%|████████████████████████████████████████████████████████████████████████████████████████████████████████████████████████████████████████████████████████████████████████████████████████████| 283/283 [00:24<00:00, 11.37it/s]\n"
     ]
    },
    {
     "name": "stdout",
     "output_type": "stream",
     "text": [
      "Evaluating...\n"
     ]
    },
    {
     "name": "stderr",
     "output_type": "stream",
     "text": [
      "Iteration: 100%|████████████████████████████████████████████████████████████████████████████████████████████████████████████████████████████████████████████████████████████████████████████████████████████| 283/283 [00:07<00:00, 39.62it/s]\n"
     ]
    },
    {
     "name": "stdout",
     "output_type": "stream",
     "text": [
      "Number of classes in y_true: 12\n",
      "number of columns in y_score: 12\n"
     ]
    },
    {
     "name": "stderr",
     "output_type": "stream",
     "text": [
      "Iteration: 100%|██████████████████████████████████████████████████████████████████████████████████████████████████████████████████████████████████████████████████████████████████████████████████████████████| 32/32 [00:00<00:00, 42.36it/s]\n"
     ]
    },
    {
     "name": "stdout",
     "output_type": "stream",
     "text": [
      "Number of classes in y_true: 12\n",
      "number of columns in y_score: 12\n"
     ]
    },
    {
     "name": "stderr",
     "output_type": "stream",
     "text": [
      "Iteration: 100%|██████████████████████████████████████████████████████████████████████████████████████████████████████████████████████████████████████████████████████████████████████████████████████████████| 35/35 [00:00<00:00, 42.17it/s]\n"
     ]
    },
    {
     "name": "stdout",
     "output_type": "stream",
     "text": [
      "Number of classes in y_true: 12\n",
      "number of columns in y_score: 12\n",
      "{'Train':  best_epoch_indx:15\n",
      " auc:0.787520265057464 \n",
      " f1_micro:0.0712608755696727 \n",
      " f1_macro:0.04057858174822857 \n",
      " precision_micro:0.0712608755696727 \n",
      " precision_macro:0.09793796602909875 \n",
      " recall_micro:0.0712608755696727 \n",
      " recall_macro:0.38746138268543673 \n",
      ", 'Validation':  best_epoch_indx:15\n",
      " auc:0.7302829346924203 \n",
      " f1_micro:0.06562266964951528 \n",
      " f1_macro:0.03204041816057746 \n",
      " precision_micro:0.06562266964951528 \n",
      " precision_macro:0.09186302325290124 \n",
      " recall_micro:0.06562266964951528 \n",
      " recall_macro:0.31424784650126364 \n",
      ", 'Test':  best_epoch_indx:15\n",
      " auc:0.7698741205016929 \n",
      " f1_micro:0.06375838926174497 \n",
      " f1_macro:0.03361442246531163 \n",
      " precision_micro:0.06375838926174497 \n",
      " precision_macro:0.09096618322625837 \n",
      " recall_micro:0.06375838926174497 \n",
      " recall_macro:0.3551800254321371 \n",
      "}\n",
      "=====Epoch 16\n",
      "Training...\n"
     ]
    },
    {
     "name": "stderr",
     "output_type": "stream",
     "text": [
      "Iteration: 100%|████████████████████████████████████████████████████████████████████████████████████████████████████████████████████████████████████████████████████████████████████████████████████████████| 283/283 [00:24<00:00, 11.67it/s]\n"
     ]
    },
    {
     "name": "stdout",
     "output_type": "stream",
     "text": [
      "Evaluating...\n"
     ]
    },
    {
     "name": "stderr",
     "output_type": "stream",
     "text": [
      "Iteration: 100%|████████████████████████████████████████████████████████████████████████████████████████████████████████████████████████████████████████████████████████████████████████████████████████████| 283/283 [00:07<00:00, 39.57it/s]\n"
     ]
    },
    {
     "name": "stdout",
     "output_type": "stream",
     "text": [
      "Number of classes in y_true: 12\n",
      "number of columns in y_score: 12\n"
     ]
    },
    {
     "name": "stderr",
     "output_type": "stream",
     "text": [
      "Iteration: 100%|██████████████████████████████████████████████████████████████████████████████████████████████████████████████████████████████████████████████████████████████████████████████████████████████| 32/32 [00:00<00:00, 39.26it/s]\n"
     ]
    },
    {
     "name": "stdout",
     "output_type": "stream",
     "text": [
      "Number of classes in y_true: 12\n",
      "number of columns in y_score: 12\n"
     ]
    },
    {
     "name": "stderr",
     "output_type": "stream",
     "text": [
      "Iteration: 100%|██████████████████████████████████████████████████████████████████████████████████████████████████████████████████████████████████████████████████████████████████████████████████████████████| 35/35 [00:00<00:00, 39.92it/s]\n"
     ]
    },
    {
     "name": "stdout",
     "output_type": "stream",
     "text": [
      "Number of classes in y_true: 12\n",
      "number of columns in y_score: 12\n",
      "{'Train':  best_epoch_indx:16\n",
      " auc:0.7903873961398606 \n",
      " f1_micro:0.03101781521889242 \n",
      " f1_macro:0.030337563960848576 \n",
      " precision_micro:0.03101781521889242 \n",
      " precision_macro:0.09688767285076773 \n",
      " recall_micro:0.03101781521889242 \n",
      " recall_macro:0.38669211576657664 \n",
      ", 'Validation':  best_epoch_indx:16\n",
      " auc:0.7030426472074727 \n",
      " f1_micro:0.025602783992045738 \n",
      " f1_macro:0.023800449222202254 \n",
      " precision_micro:0.025602783992045738 \n",
      " precision_macro:0.08692456404322328 \n",
      " recall_micro:0.025602783992045738 \n",
      " recall_macro:0.2945867534771676 \n",
      ", 'Test':  best_epoch_indx:16\n",
      " auc:0.7543264529527942 \n",
      " f1_micro:0.02930648769574944 \n",
      " f1_macro:0.023770909424534675 \n",
      " precision_micro:0.02930648769574944 \n",
      " precision_macro:0.09253560696567799 \n",
      " recall_micro:0.02930648769574944 \n",
      " recall_macro:0.3168901595205484 \n",
      "}\n",
      "=====Epoch 17\n",
      "Training...\n"
     ]
    },
    {
     "name": "stderr",
     "output_type": "stream",
     "text": [
      "Iteration: 100%|████████████████████████████████████████████████████████████████████████████████████████████████████████████████████████████████████████████████████████████████████████████████████████████| 283/283 [00:22<00:00, 12.53it/s]\n"
     ]
    },
    {
     "name": "stdout",
     "output_type": "stream",
     "text": [
      "Evaluating...\n"
     ]
    },
    {
     "name": "stderr",
     "output_type": "stream",
     "text": [
      "Iteration: 100%|████████████████████████████████████████████████████████████████████████████████████████████████████████████████████████████████████████████████████████████████████████████████████████████| 283/283 [00:06<00:00, 41.01it/s]\n"
     ]
    },
    {
     "name": "stdout",
     "output_type": "stream",
     "text": [
      "Number of classes in y_true: 12\n",
      "number of columns in y_score: 12\n"
     ]
    },
    {
     "name": "stderr",
     "output_type": "stream",
     "text": [
      "Iteration: 100%|██████████████████████████████████████████████████████████████████████████████████████████████████████████████████████████████████████████████████████████████████████████████████████████████| 32/32 [00:00<00:00, 42.43it/s]\n"
     ]
    },
    {
     "name": "stdout",
     "output_type": "stream",
     "text": [
      "Number of classes in y_true: 12\n",
      "number of columns in y_score: 12\n"
     ]
    },
    {
     "name": "stderr",
     "output_type": "stream",
     "text": [
      "Iteration: 100%|██████████████████████████████████████████████████████████████████████████████████████████████████████████████████████████████████████████████████████████████████████████████████████████████| 35/35 [00:00<00:00, 41.92it/s]\n"
     ]
    },
    {
     "name": "stdout",
     "output_type": "stream",
     "text": [
      "Number of classes in y_true: 12\n",
      "number of columns in y_score: 12\n",
      "{'Train':  best_epoch_indx:17\n",
      " auc:0.8004811709717728 \n",
      " f1_micro:0.023007871840905948 \n",
      " f1_macro:0.03196222317891157 \n",
      " precision_micro:0.02300787184090595 \n",
      " precision_macro:0.09817808165136864 \n",
      " recall_micro:0.02300787184090595 \n",
      " recall_macro:0.3921730277253963 \n",
      ", 'Validation':  best_epoch_indx:17\n",
      " auc:0.7303335396454829 \n",
      " f1_micro:0.018145662440964456 \n",
      " f1_macro:0.022691342451279187 \n",
      " precision_micro:0.018145662440964456 \n",
      " precision_macro:0.08896747661269977 \n",
      " recall_micro:0.018145662440964456 \n",
      " recall_macro:0.2927252058800615 \n",
      ", 'Test':  best_epoch_indx:17\n",
      " auc:0.7661150745130291 \n",
      " f1_micro:0.017897091722595078 \n",
      " f1_macro:0.0246101778710504 \n",
      " precision_micro:0.017897091722595078 \n",
      " precision_macro:0.09624326271259954 \n",
      " recall_micro:0.017897091722595078 \n",
      " recall_macro:0.32419076402063096 \n",
      "}\n",
      "=====Epoch 18\n",
      "Training...\n"
     ]
    },
    {
     "name": "stderr",
     "output_type": "stream",
     "text": [
      "Iteration: 100%|████████████████████████████████████████████████████████████████████████████████████████████████████████████████████████████████████████████████████████████████████████████████████████████| 283/283 [00:22<00:00, 12.40it/s]\n"
     ]
    },
    {
     "name": "stdout",
     "output_type": "stream",
     "text": [
      "Evaluating...\n"
     ]
    },
    {
     "name": "stderr",
     "output_type": "stream",
     "text": [
      "Iteration: 100%|████████████████████████████████████████████████████████████████████████████████████████████████████████████████████████████████████████████████████████████████████████████████████████████| 283/283 [00:06<00:00, 40.97it/s]\n"
     ]
    },
    {
     "name": "stdout",
     "output_type": "stream",
     "text": [
      "Number of classes in y_true: 12\n",
      "number of columns in y_score: 12\n"
     ]
    },
    {
     "name": "stderr",
     "output_type": "stream",
     "text": [
      "Iteration: 100%|██████████████████████████████████████████████████████████████████████████████████████████████████████████████████████████████████████████████████████████████████████████████████████████████| 32/32 [00:00<00:00, 42.11it/s]\n"
     ]
    },
    {
     "name": "stdout",
     "output_type": "stream",
     "text": [
      "Number of classes in y_true: 12\n",
      "number of columns in y_score: 12\n"
     ]
    },
    {
     "name": "stderr",
     "output_type": "stream",
     "text": [
      "Iteration: 100%|██████████████████████████████████████████████████████████████████████████████████████████████████████████████████████████████████████████████████████████████████████████████████████████████| 35/35 [00:00<00:00, 42.01it/s]\n"
     ]
    },
    {
     "name": "stdout",
     "output_type": "stream",
     "text": [
      "Number of classes in y_true: 12\n",
      "number of columns in y_score: 12\n",
      "{'Train':  best_epoch_indx:18\n",
      " auc:0.8038730613677801 \n",
      " f1_micro:0.026791879574644382 \n",
      " f1_macro:0.032456527266798846 \n",
      " precision_micro:0.026791879574644385 \n",
      " precision_macro:0.09813951624237538 \n",
      " recall_micro:0.026791879574644385 \n",
      " recall_macro:0.40431593396349336 \n",
      ", 'Validation':  best_epoch_indx:18\n",
      " auc:0.707824379090135 \n",
      " f1_micro:0.019139945314441957 \n",
      " f1_macro:0.02691109261167407 \n",
      " precision_micro:0.019139945314441957 \n",
      " precision_macro:0.08870923519810019 \n",
      " recall_micro:0.019139945314441957 \n",
      " recall_macro:0.30899672175613285 \n",
      ", 'Test':  best_epoch_indx:18\n",
      " auc:0.7685634927668105 \n",
      " f1_micro:0.023266219239373602 \n",
      " f1_macro:0.0288955013651887 \n",
      " precision_micro:0.023266219239373602 \n",
      " precision_macro:0.09142940981766405 \n",
      " recall_micro:0.023266219239373602 \n",
      " recall_macro:0.34612419892455487 \n",
      "}\n",
      "=====Epoch 19\n",
      "Training...\n"
     ]
    },
    {
     "name": "stderr",
     "output_type": "stream",
     "text": [
      "Iteration: 100%|████████████████████████████████████████████████████████████████████████████████████████████████████████████████████████████████████████████████████████████████████████████████████████████| 283/283 [00:22<00:00, 12.61it/s]\n"
     ]
    },
    {
     "name": "stdout",
     "output_type": "stream",
     "text": [
      "Evaluating...\n"
     ]
    },
    {
     "name": "stderr",
     "output_type": "stream",
     "text": [
      "Iteration: 100%|████████████████████████████████████████████████████████████████████████████████████████████████████████████████████████████████████████████████████████████████████████████████████████████| 283/283 [00:06<00:00, 40.95it/s]\n"
     ]
    },
    {
     "name": "stdout",
     "output_type": "stream",
     "text": [
      "Number of classes in y_true: 12\n",
      "number of columns in y_score: 12\n"
     ]
    },
    {
     "name": "stderr",
     "output_type": "stream",
     "text": [
      "Iteration: 100%|██████████████████████████████████████████████████████████████████████████████████████████████████████████████████████████████████████████████████████████████████████████████████████████████| 32/32 [00:00<00:00, 42.02it/s]\n"
     ]
    },
    {
     "name": "stdout",
     "output_type": "stream",
     "text": [
      "Number of classes in y_true: 12\n",
      "number of columns in y_score: 12\n"
     ]
    },
    {
     "name": "stderr",
     "output_type": "stream",
     "text": [
      "Iteration: 100%|██████████████████████████████████████████████████████████████████████████████████████████████████████████████████████████████████████████████████████████████████████████████████████████████| 35/35 [00:00<00:00, 42.06it/s]\n"
     ]
    },
    {
     "name": "stdout",
     "output_type": "stream",
     "text": [
      "Number of classes in y_true: 12\n",
      "number of columns in y_score: 12\n",
      "{'Train':  best_epoch_indx:19\n",
      " auc:0.8060032952113014 \n",
      " f1_micro:0.027924319845325233 \n",
      " f1_macro:0.030657643772923886 \n",
      " precision_micro:0.027924319845325233 \n",
      " precision_macro:0.09632049445031278 \n",
      " recall_micro:0.027924319845325233 \n",
      " recall_macro:0.4030497441930822 \n",
      ", 'Validation':  best_epoch_indx:19\n",
      " auc:0.7244874044908693 \n",
      " f1_micro:0.022619935371613224 \n",
      " f1_macro:0.023449599649679947 \n",
      " precision_micro:0.022619935371613224 \n",
      " precision_macro:0.0926710752355681 \n",
      " recall_micro:0.022619935371613224 \n",
      " recall_macro:0.30782437779939703 \n",
      ", 'Test':  best_epoch_indx:19\n",
      " auc:0.7648143052796611 \n",
      " f1_micro:0.024384787472035794 \n",
      " f1_macro:0.025749601327141245 \n",
      " precision_micro:0.024384787472035794 \n",
      " precision_macro:0.09236069921537027 \n",
      " recall_micro:0.024384787472035794 \n",
      " recall_macro:0.37430376227441736 \n",
      "}\n",
      "=====Epoch 20\n",
      "Training...\n"
     ]
    },
    {
     "name": "stderr",
     "output_type": "stream",
     "text": [
      "Iteration: 100%|████████████████████████████████████████████████████████████████████████████████████████████████████████████████████████████████████████████████████████████████████████████████████████████| 283/283 [00:21<00:00, 13.01it/s]\n"
     ]
    },
    {
     "name": "stdout",
     "output_type": "stream",
     "text": [
      "Evaluating...\n"
     ]
    },
    {
     "name": "stderr",
     "output_type": "stream",
     "text": [
      "Iteration: 100%|████████████████████████████████████████████████████████████████████████████████████████████████████████████████████████████████████████████████████████████████████████████████████████████| 283/283 [00:07<00:00, 37.45it/s]\n"
     ]
    },
    {
     "name": "stdout",
     "output_type": "stream",
     "text": [
      "Number of classes in y_true: 12\n",
      "number of columns in y_score: 12\n"
     ]
    },
    {
     "name": "stderr",
     "output_type": "stream",
     "text": [
      "Iteration: 100%|██████████████████████████████████████████████████████████████████████████████████████████████████████████████████████████████████████████████████████████████████████████████████████████████| 32/32 [00:00<00:00, 42.09it/s]\n"
     ]
    },
    {
     "name": "stdout",
     "output_type": "stream",
     "text": [
      "Number of classes in y_true: 12\n",
      "number of columns in y_score: 12\n"
     ]
    },
    {
     "name": "stderr",
     "output_type": "stream",
     "text": [
      "Iteration: 100%|██████████████████████████████████████████████████████████████████████████████████████████████████████████████████████████████████████████████████████████████████████████████████████████████| 35/35 [00:00<00:00, 41.66it/s]\n"
     ]
    },
    {
     "name": "stdout",
     "output_type": "stream",
     "text": [
      "Number of classes in y_true: 12\n",
      "number of columns in y_score: 12\n",
      "{'Train':  best_epoch_indx:20\n",
      " auc:0.8099634676503615 \n",
      " f1_micro:0.05131887860792708 \n",
      " f1_macro:0.03773803283637716 \n",
      " precision_micro:0.05131887860792708 \n",
      " precision_macro:0.09666901043993892 \n",
      " recall_micro:0.05131887860792708 \n",
      " recall_macro:0.40646374188501116 \n",
      ", 'Validation':  best_epoch_indx:20\n",
      " auc:0.7268770362648804 \n",
      " f1_micro:0.049217002237136466 \n",
      " f1_macro:0.03311111631744967 \n",
      " precision_micro:0.049217002237136466 \n",
      " precision_macro:0.09613262250360148 \n",
      " recall_micro:0.049217002237136466 \n",
      " recall_macro:0.3126143791324764 \n",
      ", 'Test':  best_epoch_indx:20\n",
      " auc:0.7753776908164396 \n",
      " f1_micro:0.04541387024608501 \n",
      " f1_macro:0.03190386174300009 \n",
      " precision_micro:0.04541387024608501 \n",
      " precision_macro:0.09321357992542084 \n",
      " recall_micro:0.04541387024608501 \n",
      " recall_macro:0.3594073101696551 \n",
      "}\n",
      "=====Epoch 21\n",
      "Training...\n"
     ]
    },
    {
     "name": "stderr",
     "output_type": "stream",
     "text": [
      "Iteration: 100%|████████████████████████████████████████████████████████████████████████████████████████████████████████████████████████████████████████████████████████████████████████████████████████████| 283/283 [00:22<00:00, 12.51it/s]\n"
     ]
    },
    {
     "name": "stdout",
     "output_type": "stream",
     "text": [
      "Evaluating...\n"
     ]
    },
    {
     "name": "stderr",
     "output_type": "stream",
     "text": [
      "Iteration: 100%|████████████████████████████████████████████████████████████████████████████████████████████████████████████████████████████████████████████████████████████████████████████████████████████| 283/283 [00:06<00:00, 41.05it/s]\n"
     ]
    },
    {
     "name": "stdout",
     "output_type": "stream",
     "text": [
      "Number of classes in y_true: 12\n",
      "number of columns in y_score: 12\n"
     ]
    },
    {
     "name": "stderr",
     "output_type": "stream",
     "text": [
      "Iteration: 100%|██████████████████████████████████████████████████████████████████████████████████████████████████████████████████████████████████████████████████████████████████████████████████████████████| 32/32 [00:00<00:00, 42.26it/s]\n"
     ]
    },
    {
     "name": "stdout",
     "output_type": "stream",
     "text": [
      "Number of classes in y_true: 12\n",
      "number of columns in y_score: 12\n"
     ]
    },
    {
     "name": "stderr",
     "output_type": "stream",
     "text": [
      "Iteration: 100%|██████████████████████████████████████████████████████████████████████████████████████████████████████████████████████████████████████████████████████████████████████████████████████████████| 35/35 [00:00<00:00, 42.06it/s]\n"
     ]
    },
    {
     "name": "stdout",
     "output_type": "stream",
     "text": [
      "Number of classes in y_true: 12\n",
      "number of columns in y_score: 12\n",
      "{'Train':  best_epoch_indx:21\n",
      " auc:0.816248911088429 \n",
      " f1_micro:0.06849882612898771 \n",
      " f1_macro:0.04051995206899174 \n",
      " precision_micro:0.06849882612898771 \n",
      " precision_macro:0.09762986877751932 \n",
      " recall_micro:0.06849882612898771 \n",
      " recall_macro:0.42980583894997704 \n",
      ", 'Validation':  best_epoch_indx:21\n",
      " auc:0.7525133239598543 \n",
      " f1_micro:0.06263982102908278 \n",
      " f1_macro:0.029792485218918308 \n",
      " precision_micro:0.06263982102908278 \n",
      " precision_macro:0.0916224395609036 \n",
      " recall_micro:0.06263982102908278 \n",
      " recall_macro:0.2884776723363293 \n",
      ", 'Test':  best_epoch_indx:21\n",
      " auc:0.7713512059510862 \n",
      " f1_micro:0.0621923937360179 \n",
      " f1_macro:0.031263629602678894 \n",
      " precision_micro:0.0621923937360179 \n",
      " precision_macro:0.0919753942217893 \n",
      " recall_micro:0.0621923937360179 \n",
      " recall_macro:0.3054662519951919 \n",
      "}\n",
      "=====Epoch 22\n",
      "Training...\n"
     ]
    },
    {
     "name": "stderr",
     "output_type": "stream",
     "text": [
      "Iteration: 100%|████████████████████████████████████████████████████████████████████████████████████████████████████████████████████████████████████████████████████████████████████████████████████████████| 283/283 [00:19<00:00, 14.20it/s]\n"
     ]
    },
    {
     "name": "stdout",
     "output_type": "stream",
     "text": [
      "Evaluating...\n"
     ]
    },
    {
     "name": "stderr",
     "output_type": "stream",
     "text": [
      "Iteration: 100%|████████████████████████████████████████████████████████████████████████████████████████████████████████████████████████████████████████████████████████████████████████████████████████████| 283/283 [00:07<00:00, 38.40it/s]\n"
     ]
    },
    {
     "name": "stdout",
     "output_type": "stream",
     "text": [
      "Number of classes in y_true: 12\n",
      "number of columns in y_score: 12\n"
     ]
    },
    {
     "name": "stderr",
     "output_type": "stream",
     "text": [
      "Iteration: 100%|██████████████████████████████████████████████████████████████████████████████████████████████████████████████████████████████████████████████████████████████████████████████████████████████| 32/32 [00:00<00:00, 41.86it/s]\n"
     ]
    },
    {
     "name": "stdout",
     "output_type": "stream",
     "text": [
      "Number of classes in y_true: 12\n",
      "number of columns in y_score: 12\n"
     ]
    },
    {
     "name": "stderr",
     "output_type": "stream",
     "text": [
      "Iteration: 100%|██████████████████████████████████████████████████████████████████████████████████████████████████████████████████████████████████████████████████████████████████████████████████████████████| 35/35 [00:00<00:00, 41.75it/s]\n"
     ]
    },
    {
     "name": "stdout",
     "output_type": "stream",
     "text": [
      "Number of classes in y_true: 12\n",
      "number of columns in y_score: 12\n",
      "{'Train':  best_epoch_indx:22\n",
      " auc:0.8242614969478602 \n",
      " f1_micro:0.07714404087833172 \n",
      " f1_macro:0.048900339517348186 \n",
      " precision_micro:0.07714404087833172 \n",
      " precision_macro:0.10075371198462797 \n",
      " recall_micro:0.07714404087833172 \n",
      " recall_macro:0.4393759711589491 \n",
      ", 'Validation':  best_epoch_indx:22\n",
      " auc:0.7432802355893599 \n",
      " f1_micro:0.0633855331841909 \n",
      " f1_macro:0.0379493088750817 \n",
      " precision_micro:0.0633855331841909 \n",
      " precision_macro:0.09491061050492154 \n",
      " recall_micro:0.0633855331841909 \n",
      " recall_macro:0.33205483015604614 \n",
      ", 'Test':  best_epoch_indx:22\n",
      " auc:0.7867469622620132 \n",
      " f1_micro:0.07248322147651007 \n",
      " f1_macro:0.04905859474598215 \n",
      " precision_micro:0.07248322147651007 \n",
      " precision_macro:0.09890388538872512 \n",
      " recall_micro:0.07248322147651007 \n",
      " recall_macro:0.4354407974044001 \n",
      "}\n",
      "=====Epoch 23\n",
      "Training...\n"
     ]
    },
    {
     "name": "stderr",
     "output_type": "stream",
     "text": [
      "Iteration: 100%|████████████████████████████████████████████████████████████████████████████████████████████████████████████████████████████████████████████████████████████████████████████████████████████| 283/283 [00:22<00:00, 12.62it/s]\n"
     ]
    },
    {
     "name": "stdout",
     "output_type": "stream",
     "text": [
      "Evaluating...\n"
     ]
    },
    {
     "name": "stderr",
     "output_type": "stream",
     "text": [
      "Iteration: 100%|████████████████████████████████████████████████████████████████████████████████████████████████████████████████████████████████████████████████████████████████████████████████████████████| 283/283 [00:06<00:00, 40.99it/s]\n"
     ]
    },
    {
     "name": "stdout",
     "output_type": "stream",
     "text": [
      "Number of classes in y_true: 12\n",
      "number of columns in y_score: 12\n"
     ]
    },
    {
     "name": "stderr",
     "output_type": "stream",
     "text": [
      "Iteration: 100%|██████████████████████████████████████████████████████████████████████████████████████████████████████████████████████████████████████████████████████████████████████████████████████████████| 32/32 [00:00<00:00, 42.23it/s]\n"
     ]
    },
    {
     "name": "stdout",
     "output_type": "stream",
     "text": [
      "Number of classes in y_true: 12\n",
      "number of columns in y_score: 12\n"
     ]
    },
    {
     "name": "stderr",
     "output_type": "stream",
     "text": [
      "Iteration: 100%|██████████████████████████████████████████████████████████████████████████████████████████████████████████████████████████████████████████████████████████████████████████████████████████████| 35/35 [00:00<00:00, 42.47it/s]\n"
     ]
    },
    {
     "name": "stdout",
     "output_type": "stream",
     "text": [
      "Number of classes in y_true: 12\n",
      "number of columns in y_score: 12\n",
      "{'Train':  best_epoch_indx:23\n",
      " auc:0.8194027222420511 \n",
      " f1_micro:0.04822538323435989 \n",
      " f1_macro:0.03971736117120972 \n",
      " precision_micro:0.048225383234359896 \n",
      " precision_macro:0.0973158167363282 \n",
      " recall_micro:0.048225383234359896 \n",
      " recall_macro:0.428899112166712 \n",
      ", 'Validation':  best_epoch_indx:23\n",
      " auc:0.7423875315393967 \n",
      " f1_micro:0.04548844146159582 \n",
      " f1_macro:0.03396490744002808 \n",
      " precision_micro:0.04548844146159582 \n",
      " precision_macro:0.09020496646117619 \n",
      " recall_micro:0.04548844146159582 \n",
      " recall_macro:0.325287070160184 \n",
      ", 'Test':  best_epoch_indx:23\n",
      " auc:0.793220595924783 \n",
      " f1_micro:0.04384787472035794 \n",
      " f1_macro:0.035649268673564695 \n",
      " precision_micro:0.04384787472035794 \n",
      " precision_macro:0.09426274667384106 \n",
      " recall_micro:0.04384787472035794 \n",
      " recall_macro:0.4090487767017437 \n",
      "}\n",
      "=====Epoch 24\n",
      "Training...\n"
     ]
    },
    {
     "name": "stderr",
     "output_type": "stream",
     "text": [
      "Iteration: 100%|████████████████████████████████████████████████████████████████████████████████████████████████████████████████████████████████████████████████████████████████████████████████████████████| 283/283 [00:22<00:00, 12.49it/s]\n"
     ]
    },
    {
     "name": "stdout",
     "output_type": "stream",
     "text": [
      "Evaluating...\n"
     ]
    },
    {
     "name": "stderr",
     "output_type": "stream",
     "text": [
      "Iteration: 100%|████████████████████████████████████████████████████████████████████████████████████████████████████████████████████████████████████████████████████████████████████████████████████████████| 283/283 [00:07<00:00, 39.93it/s]\n"
     ]
    },
    {
     "name": "stdout",
     "output_type": "stream",
     "text": [
      "Number of classes in y_true: 12\n",
      "number of columns in y_score: 12\n"
     ]
    },
    {
     "name": "stderr",
     "output_type": "stream",
     "text": [
      "Iteration: 100%|██████████████████████████████████████████████████████████████████████████████████████████████████████████████████████████████████████████████████████████████████████████████████████████████| 32/32 [00:00<00:00, 41.59it/s]\n"
     ]
    },
    {
     "name": "stdout",
     "output_type": "stream",
     "text": [
      "Number of classes in y_true: 12\n",
      "number of columns in y_score: 12\n"
     ]
    },
    {
     "name": "stderr",
     "output_type": "stream",
     "text": [
      "Iteration: 100%|██████████████████████████████████████████████████████████████████████████████████████████████████████████████████████████████████████████████████████████████████████████████████████████████| 35/35 [00:00<00:00, 41.70it/s]\n"
     ]
    },
    {
     "name": "stdout",
     "output_type": "stream",
     "text": [
      "Number of classes in y_true: 12\n",
      "number of columns in y_score: 12\n",
      "{'Train':  best_epoch_indx:24\n",
      " auc:0.8279116707944099 \n",
      " f1_micro:0.023007871840905948 \n",
      " f1_macro:0.0303203096298979 \n",
      " precision_micro:0.02300787184090595 \n",
      " precision_macro:0.09738659892851874 \n",
      " recall_micro:0.02300787184090595 \n",
      " recall_macro:0.4272321769015139 \n",
      ", 'Validation':  best_epoch_indx:24\n",
      " auc:0.7215605650905346 \n",
      " f1_micro:0.016902808849117573 \n",
      " f1_macro:0.02523084993740345 \n",
      " precision_micro:0.016902808849117573 \n",
      " precision_macro:0.0893204347337636 \n",
      " recall_micro:0.016902808849117573 \n",
      " recall_macro:0.30801785742883186 \n",
      ", 'Test':  best_epoch_indx:24\n",
      " auc:0.7935378146757677 \n",
      " f1_micro:0.02080536912751678 \n",
      " f1_macro:0.02916557424884345 \n",
      " precision_micro:0.02080536912751678 \n",
      " precision_macro:0.09622970622958081 \n",
      " recall_micro:0.02080536912751678 \n",
      " recall_macro:0.42584742367460776 \n",
      "}\n",
      "=====Epoch 25\n",
      "Training...\n"
     ]
    },
    {
     "name": "stderr",
     "output_type": "stream",
     "text": [
      "Iteration: 100%|████████████████████████████████████████████████████████████████████████████████████████████████████████████████████████████████████████████████████████████████████████████████████████████| 283/283 [00:22<00:00, 12.40it/s]\n"
     ]
    },
    {
     "name": "stdout",
     "output_type": "stream",
     "text": [
      "Evaluating...\n"
     ]
    },
    {
     "name": "stderr",
     "output_type": "stream",
     "text": [
      "Iteration: 100%|████████████████████████████████████████████████████████████████████████████████████████████████████████████████████████████████████████████████████████████████████████████████████████████| 283/283 [00:06<00:00, 41.21it/s]\n"
     ]
    },
    {
     "name": "stdout",
     "output_type": "stream",
     "text": [
      "Number of classes in y_true: 12\n",
      "number of columns in y_score: 12\n"
     ]
    },
    {
     "name": "stderr",
     "output_type": "stream",
     "text": [
      "Iteration: 100%|██████████████████████████████████████████████████████████████████████████████████████████████████████████████████████████████████████████████████████████████████████████████████████████████| 32/32 [00:00<00:00, 42.54it/s]\n"
     ]
    },
    {
     "name": "stdout",
     "output_type": "stream",
     "text": [
      "Number of classes in y_true: 12\n",
      "number of columns in y_score: 12\n"
     ]
    },
    {
     "name": "stderr",
     "output_type": "stream",
     "text": [
      "Iteration: 100%|██████████████████████████████████████████████████████████████████████████████████████████████████████████████████████████████████████████████████████████████████████████████████████████████| 35/35 [00:00<00:00, 42.41it/s]\n"
     ]
    },
    {
     "name": "stdout",
     "output_type": "stream",
     "text": [
      "Number of classes in y_true: 12\n",
      "number of columns in y_score: 12\n",
      "{'Train':  best_epoch_indx:25\n",
      " auc:0.826681284089522 \n",
      " f1_micro:0.06722828338627261 \n",
      " f1_macro:0.043927346624387714 \n",
      " precision_micro:0.06722828338627261 \n",
      " precision_macro:0.09984807114947229 \n",
      " recall_micro:0.06722828338627261 \n",
      " recall_macro:0.44652130432953197 \n",
      ", 'Validation':  best_epoch_indx:25\n",
      " auc:0.7478885282930805 \n",
      " f1_micro:0.05766840666169525 \n",
      " f1_macro:0.033807543395796544 \n",
      " precision_micro:0.05766840666169525 \n",
      " precision_macro:0.09093832720368551 \n",
      " recall_micro:0.05766840666169525 \n",
      " recall_macro:0.3467643627280003 \n",
      ", 'Test':  best_epoch_indx:25\n",
      " auc:0.7966652579224917 \n",
      " f1_micro:0.0610738255033557 \n",
      " f1_macro:0.03540575206386199 \n",
      " precision_micro:0.0610738255033557 \n",
      " precision_macro:0.09155215337640975 \n",
      " recall_micro:0.0610738255033557 \n",
      " recall_macro:0.38301530438735926 \n",
      "}\n",
      "=====Epoch 26\n",
      "Training...\n"
     ]
    },
    {
     "name": "stderr",
     "output_type": "stream",
     "text": [
      "Iteration: 100%|████████████████████████████████████████████████████████████████████████████████████████████████████████████████████████████████████████████████████████████████████████████████████████████| 283/283 [00:20<00:00, 13.61it/s]\n"
     ]
    },
    {
     "name": "stdout",
     "output_type": "stream",
     "text": [
      "Evaluating...\n"
     ]
    },
    {
     "name": "stderr",
     "output_type": "stream",
     "text": [
      "Iteration: 100%|████████████████████████████████████████████████████████████████████████████████████████████████████████████████████████████████████████████████████████████████████████████████████████████| 283/283 [00:07<00:00, 37.95it/s]\n"
     ]
    },
    {
     "name": "stdout",
     "output_type": "stream",
     "text": [
      "Number of classes in y_true: 12\n",
      "number of columns in y_score: 12\n"
     ]
    },
    {
     "name": "stderr",
     "output_type": "stream",
     "text": [
      "Iteration: 100%|██████████████████████████████████████████████████████████████████████████████████████████████████████████████████████████████████████████████████████████████████████████████████████████████| 32/32 [00:00<00:00, 41.38it/s]\n"
     ]
    },
    {
     "name": "stdout",
     "output_type": "stream",
     "text": [
      "Number of classes in y_true: 12\n",
      "number of columns in y_score: 12\n"
     ]
    },
    {
     "name": "stderr",
     "output_type": "stream",
     "text": [
      "Iteration: 100%|██████████████████████████████████████████████████████████████████████████████████████████████████████████████████████████████████████████████████████████████████████████████████████████████| 35/35 [00:00<00:00, 41.42it/s]\n"
     ]
    },
    {
     "name": "stdout",
     "output_type": "stream",
     "text": [
      "Number of classes in y_true: 12\n",
      "number of columns in y_score: 12\n",
      "{'Train':  best_epoch_indx:26\n",
      " auc:0.8301492541381785 \n",
      " f1_micro:0.023228835796160748 \n",
      " f1_macro:0.03610166141365735 \n",
      " precision_micro:0.02322883579616075 \n",
      " precision_macro:0.10073880964256869 \n",
      " recall_micro:0.02322883579616075 \n",
      " recall_macro:0.4395750631940238 \n",
      ", 'Validation':  best_epoch_indx:26\n",
      " auc:0.7389783602878113 \n",
      " f1_micro:0.016902808849117573 \n",
      " f1_macro:0.023407631020652308 \n",
      " precision_micro:0.016902808849117573 \n",
      " precision_macro:0.0956261999535593 \n",
      " recall_micro:0.016902808849117573 \n",
      " recall_macro:0.30444293414385065 \n",
      ", 'Test':  best_epoch_indx:26\n",
      " auc:0.7739997031108046 \n",
      " f1_micro:0.021476510067114093 \n",
      " f1_macro:0.02841257092844969 \n",
      " precision_micro:0.021476510067114093 \n",
      " precision_macro:0.09961395234104592 \n",
      " recall_micro:0.021476510067114093 \n",
      " recall_macro:0.3468645752473149 \n",
      "}\n",
      "=====Epoch 27\n",
      "Training...\n"
     ]
    },
    {
     "name": "stderr",
     "output_type": "stream",
     "text": [
      "Iteration: 100%|████████████████████████████████████████████████████████████████████████████████████████████████████████████████████████████████████████████████████████████████████████████████████████████| 283/283 [00:22<00:00, 12.57it/s]\n"
     ]
    },
    {
     "name": "stdout",
     "output_type": "stream",
     "text": [
      "Evaluating...\n"
     ]
    },
    {
     "name": "stderr",
     "output_type": "stream",
     "text": [
      "Iteration: 100%|████████████████████████████████████████████████████████████████████████████████████████████████████████████████████████████████████████████████████████████████████████████████████████████| 283/283 [00:06<00:00, 41.18it/s]\n"
     ]
    },
    {
     "name": "stdout",
     "output_type": "stream",
     "text": [
      "Number of classes in y_true: 12\n",
      "number of columns in y_score: 12\n"
     ]
    },
    {
     "name": "stderr",
     "output_type": "stream",
     "text": [
      "Iteration: 100%|██████████████████████████████████████████████████████████████████████████████████████████████████████████████████████████████████████████████████████████████████████████████████████████████| 32/32 [00:00<00:00, 42.60it/s]\n"
     ]
    },
    {
     "name": "stdout",
     "output_type": "stream",
     "text": [
      "Number of classes in y_true: 12\n",
      "number of columns in y_score: 12\n"
     ]
    },
    {
     "name": "stderr",
     "output_type": "stream",
     "text": [
      "Iteration: 100%|██████████████████████████████████████████████████████████████████████████████████████████████████████████████████████████████████████████████████████████████████████████████████████████████| 35/35 [00:00<00:00, 42.44it/s]\n"
     ]
    },
    {
     "name": "stdout",
     "output_type": "stream",
     "text": [
      "Number of classes in y_true: 12\n",
      "number of columns in y_score: 12\n",
      "{'Train':  best_epoch_indx:27\n",
      " auc:0.8293869237054052 \n",
      " f1_micro:0.12028725314183124 \n",
      " f1_macro:0.054868233086175056 \n",
      " precision_micro:0.12028725314183124 \n",
      " precision_macro:0.10035122867891466 \n",
      " recall_micro:0.12028725314183124 \n",
      " recall_macro:0.4498350371230428 \n",
      ", 'Validation':  best_epoch_indx:27\n",
      " auc:0.7563192113780752 \n",
      " f1_micro:0.1153368133233905 \n",
      " f1_macro:0.044910870615820726 \n",
      " precision_micro:0.1153368133233905 \n",
      " precision_macro:0.09385225659568658 \n",
      " recall_micro:0.1153368133233905 \n",
      " recall_macro:0.31293875214739203 \n",
      ", 'Test':  best_epoch_indx:27\n",
      " auc:0.7903543148677471 \n",
      " f1_micro:0.11521252796420582 \n",
      " f1_macro:0.04593837300411499 \n",
      " precision_micro:0.11521252796420582 \n",
      " precision_macro:0.09455604626778784 \n",
      " recall_micro:0.11521252796420582 \n",
      " recall_macro:0.33569074586336917 \n",
      "}\n",
      "=====Epoch 28\n",
      "Training...\n"
     ]
    },
    {
     "name": "stderr",
     "output_type": "stream",
     "text": [
      "Iteration: 100%|████████████████████████████████████████████████████████████████████████████████████████████████████████████████████████████████████████████████████████████████████████████████████████████| 283/283 [00:22<00:00, 12.60it/s]\n"
     ]
    },
    {
     "name": "stdout",
     "output_type": "stream",
     "text": [
      "Evaluating...\n"
     ]
    },
    {
     "name": "stderr",
     "output_type": "stream",
     "text": [
      "Iteration: 100%|████████████████████████████████████████████████████████████████████████████████████████████████████████████████████████████████████████████████████████████████████████████████████████████| 283/283 [00:06<00:00, 40.80it/s]\n"
     ]
    },
    {
     "name": "stdout",
     "output_type": "stream",
     "text": [
      "Number of classes in y_true: 12\n",
      "number of columns in y_score: 12\n"
     ]
    },
    {
     "name": "stderr",
     "output_type": "stream",
     "text": [
      "Iteration: 100%|██████████████████████████████████████████████████████████████████████████████████████████████████████████████████████████████████████████████████████████████████████████████████████████████| 32/32 [00:00<00:00, 41.93it/s]\n"
     ]
    },
    {
     "name": "stdout",
     "output_type": "stream",
     "text": [
      "Number of classes in y_true: 12\n",
      "number of columns in y_score: 12\n"
     ]
    },
    {
     "name": "stderr",
     "output_type": "stream",
     "text": [
      "Iteration: 100%|██████████████████████████████████████████████████████████████████████████████████████████████████████████████████████████████████████████████████████████████████████████████████████████████| 35/35 [00:00<00:00, 41.68it/s]\n"
     ]
    },
    {
     "name": "stdout",
     "output_type": "stream",
     "text": [
      "Number of classes in y_true: 12\n",
      "number of columns in y_score: 12\n",
      "{'Train':  best_epoch_indx:28\n",
      " auc:0.8425958646961239 \n",
      " f1_micro:0.04214887446485292 \n",
      " f1_macro:0.03890433154257649 \n",
      " precision_micro:0.04214887446485292 \n",
      " precision_macro:0.09974458087689247 \n",
      " recall_micro:0.04214887446485292 \n",
      " recall_macro:0.4837826257185167 \n",
      ", 'Validation':  best_epoch_indx:28\n",
      " auc:0.7400974900606024 \n",
      " f1_micro:0.035794183445190156 \n",
      " f1_macro:0.033165338541603306 \n",
      " precision_micro:0.035794183445190156 \n",
      " precision_macro:0.09218659875040841 \n",
      " recall_micro:0.035794183445190156 \n",
      " recall_macro:0.37576598385602283 \n",
      ", 'Test':  best_epoch_indx:28\n",
      " auc:0.8070027668753672 \n",
      " f1_micro:0.03825503355704698 \n",
      " f1_macro:0.032928787194678545 \n",
      " precision_micro:0.03825503355704698 \n",
      " precision_macro:0.09309098579971908 \n",
      " recall_micro:0.03825503355704698 \n",
      " recall_macro:0.44625603617588366 \n",
      "}\n",
      "=====Epoch 29\n",
      "Training...\n"
     ]
    },
    {
     "name": "stderr",
     "output_type": "stream",
     "text": [
      "Iteration: 100%|████████████████████████████████████████████████████████████████████████████████████████████████████████████████████████████████████████████████████████████████████████████████████████████| 283/283 [00:22<00:00, 12.72it/s]\n"
     ]
    },
    {
     "name": "stdout",
     "output_type": "stream",
     "text": [
      "Evaluating...\n"
     ]
    },
    {
     "name": "stderr",
     "output_type": "stream",
     "text": [
      "Iteration: 100%|████████████████████████████████████████████████████████████████████████████████████████████████████████████████████████████████████████████████████████████████████████████████████████████| 283/283 [00:07<00:00, 39.54it/s]\n"
     ]
    },
    {
     "name": "stdout",
     "output_type": "stream",
     "text": [
      "Number of classes in y_true: 12\n",
      "number of columns in y_score: 12\n"
     ]
    },
    {
     "name": "stderr",
     "output_type": "stream",
     "text": [
      "Iteration: 100%|██████████████████████████████████████████████████████████████████████████████████████████████████████████████████████████████████████████████████████████████████████████████████████████████| 32/32 [00:01<00:00, 30.47it/s]\n"
     ]
    },
    {
     "name": "stdout",
     "output_type": "stream",
     "text": [
      "Number of classes in y_true: 12\n",
      "number of columns in y_score: 12\n"
     ]
    },
    {
     "name": "stderr",
     "output_type": "stream",
     "text": [
      "Iteration: 100%|██████████████████████████████████████████████████████████████████████████████████████████████████████████████████████████████████████████████████████████████████████████████████████████████| 35/35 [00:00<00:00, 40.37it/s]\n"
     ]
    },
    {
     "name": "stdout",
     "output_type": "stream",
     "text": [
      "Number of classes in y_true: 12\n",
      "number of columns in y_score: 12\n",
      "{'Train':  best_epoch_indx:29\n",
      " auc:0.8389360465673296 \n",
      " f1_micro:0.027786217373290983 \n",
      " f1_macro:0.03621559802671375 \n",
      " precision_micro:0.027786217373290983 \n",
      " precision_macro:0.09924548938134171 \n",
      " recall_micro:0.027786217373290983 \n",
      " recall_macro:0.4811525423854732 \n",
      ", 'Validation':  best_epoch_indx:29\n",
      " auc:0.7536025915687897 \n",
      " f1_micro:0.022122793934874475 \n",
      " f1_macro:0.030547725050417165 \n",
      " precision_micro:0.02212279393487447 \n",
      " precision_macro:0.09664288711703639 \n",
      " recall_micro:0.02212279393487447 \n",
      " recall_macro:0.36964867105647975 \n",
      ", 'Test':  best_epoch_indx:29\n",
      " auc:0.8099161411249234 \n",
      " f1_micro:0.025279642058165547 \n",
      " f1_macro:0.028622623171199197 \n",
      " precision_micro:0.025279642058165547 \n",
      " precision_macro:0.09416728139930292 \n",
      " recall_micro:0.025279642058165547 \n",
      " recall_macro:0.39183690617403794 \n",
      "}\n",
      "=====Epoch 30\n",
      "Training...\n"
     ]
    },
    {
     "name": "stderr",
     "output_type": "stream",
     "text": [
      "Iteration: 100%|████████████████████████████████████████████████████████████████████████████████████████████████████████████████████████████████████████████████████████████████████████████████████████████| 283/283 [00:22<00:00, 12.51it/s]\n"
     ]
    },
    {
     "name": "stdout",
     "output_type": "stream",
     "text": [
      "Evaluating...\n"
     ]
    },
    {
     "name": "stderr",
     "output_type": "stream",
     "text": [
      "Iteration: 100%|████████████████████████████████████████████████████████████████████████████████████████████████████████████████████████████████████████████████████████████████████████████████████████████| 283/283 [00:06<00:00, 40.84it/s]\n"
     ]
    },
    {
     "name": "stdout",
     "output_type": "stream",
     "text": [
      "Number of classes in y_true: 12\n",
      "number of columns in y_score: 12\n"
     ]
    },
    {
     "name": "stderr",
     "output_type": "stream",
     "text": [
      "Iteration: 100%|██████████████████████████████████████████████████████████████████████████████████████████████████████████████████████████████████████████████████████████████████████████████████████████████| 32/32 [00:00<00:00, 41.98it/s]\n"
     ]
    },
    {
     "name": "stdout",
     "output_type": "stream",
     "text": [
      "Number of classes in y_true: 12\n",
      "number of columns in y_score: 12\n"
     ]
    },
    {
     "name": "stderr",
     "output_type": "stream",
     "text": [
      "Iteration: 100%|██████████████████████████████████████████████████████████████████████████████████████████████████████████████████████████████████████████████████████████████████████████████████████████████| 35/35 [00:00<00:00, 41.78it/s]\n"
     ]
    },
    {
     "name": "stdout",
     "output_type": "stream",
     "text": [
      "Number of classes in y_true: 12\n",
      "number of columns in y_score: 12\n",
      "{'Train':  best_epoch_indx:30\n",
      " auc:0.8380026917759288 \n",
      " f1_micro:0.07413340698798508 \n",
      " f1_macro:0.04524996744176402 \n",
      " precision_micro:0.07413340698798508 \n",
      " precision_macro:0.09963836122648777 \n",
      " recall_micro:0.07413340698798508 \n",
      " recall_macro:0.46651313578279113 \n",
      ", 'Validation':  best_epoch_indx:30\n",
      " auc:0.7376465582684368 \n",
      " f1_micro:0.06214267959234402 \n",
      " f1_macro:0.034168207918239 \n",
      " precision_micro:0.06214267959234402 \n",
      " precision_macro:0.09179848851854443 \n",
      " recall_micro:0.06214267959234402 \n",
      " recall_macro:0.3456071804413828 \n",
      ", 'Test':  best_epoch_indx:30\n",
      " auc:0.7948400954625705 \n",
      " f1_micro:0.06845637583892618 \n",
      " f1_macro:0.038681177340187105 \n",
      " precision_micro:0.06845637583892618 \n",
      " precision_macro:0.093532131003062 \n",
      " recall_micro:0.06845637583892618 \n",
      " recall_macro:0.4110574563768046 \n",
      "}\n",
      "=====Epoch 31\n",
      "Training...\n"
     ]
    },
    {
     "name": "stderr",
     "output_type": "stream",
     "text": [
      "Iteration: 100%|████████████████████████████████████████████████████████████████████████████████████████████████████████████████████████████████████████████████████████████████████████████████████████████| 283/283 [00:20<00:00, 13.53it/s]\n"
     ]
    },
    {
     "name": "stdout",
     "output_type": "stream",
     "text": [
      "Evaluating...\n"
     ]
    },
    {
     "name": "stderr",
     "output_type": "stream",
     "text": [
      "Iteration: 100%|████████████████████████████████████████████████████████████████████████████████████████████████████████████████████████████████████████████████████████████████████████████████████████████| 283/283 [00:07<00:00, 37.94it/s]\n"
     ]
    },
    {
     "name": "stdout",
     "output_type": "stream",
     "text": [
      "Number of classes in y_true: 12\n",
      "number of columns in y_score: 12\n"
     ]
    },
    {
     "name": "stderr",
     "output_type": "stream",
     "text": [
      "Iteration: 100%|██████████████████████████████████████████████████████████████████████████████████████████████████████████████████████████████████████████████████████████████████████████████████████████████| 32/32 [00:00<00:00, 42.12it/s]\n"
     ]
    },
    {
     "name": "stdout",
     "output_type": "stream",
     "text": [
      "Number of classes in y_true: 12\n",
      "number of columns in y_score: 12\n"
     ]
    },
    {
     "name": "stderr",
     "output_type": "stream",
     "text": [
      "Iteration: 100%|██████████████████████████████████████████████████████████████████████████████████████████████████████████████████████████████████████████████████████████████████████████████████████████████| 35/35 [00:00<00:00, 41.96it/s]\n"
     ]
    },
    {
     "name": "stdout",
     "output_type": "stream",
     "text": [
      "Number of classes in y_true: 12\n",
      "number of columns in y_score: 12\n",
      "{'Train':  best_epoch_indx:31\n",
      " auc:0.852442515638916 \n",
      " f1_micro:0.034415136030934955 \n",
      " f1_macro:0.03848812217234236 \n",
      " precision_micro:0.034415136030934955 \n",
      " precision_macro:0.10053651176386978 \n",
      " recall_micro:0.034415136030934955 \n",
      " recall_macro:0.5014580766058214 \n",
      ", 'Validation':  best_epoch_indx:31\n",
      " auc:0.7728457711204683 \n",
      " f1_micro:0.02734277902063137 \n",
      " f1_macro:0.02908704173954015 \n",
      " precision_micro:0.02734277902063137 \n",
      " precision_macro:0.09429380345963438 \n",
      " recall_micro:0.02734277902063137 \n",
      " recall_macro:0.383963745535024 \n",
      ", 'Test':  best_epoch_indx:31\n",
      " auc:0.8216003378762108 \n",
      " f1_micro:0.032214765100671144 \n",
      " f1_macro:0.03553881801775522 \n",
      " precision_micro:0.032214765100671144 \n",
      " precision_macro:0.09855260811973489 \n",
      " recall_micro:0.032214765100671144 \n",
      " recall_macro:0.4785343159898238 \n",
      "}\n",
      "=====Epoch 32\n",
      "Training...\n"
     ]
    },
    {
     "name": "stderr",
     "output_type": "stream",
     "text": [
      "Iteration: 100%|████████████████████████████████████████████████████████████████████████████████████████████████████████████████████████████████████████████████████████████████████████████████████████████| 283/283 [00:22<00:00, 12.58it/s]\n"
     ]
    },
    {
     "name": "stdout",
     "output_type": "stream",
     "text": [
      "Evaluating...\n"
     ]
    },
    {
     "name": "stderr",
     "output_type": "stream",
     "text": [
      "Iteration: 100%|████████████████████████████████████████████████████████████████████████████████████████████████████████████████████████████████████████████████████████████████████████████████████████████| 283/283 [00:06<00:00, 40.87it/s]\n"
     ]
    },
    {
     "name": "stdout",
     "output_type": "stream",
     "text": [
      "Number of classes in y_true: 12\n",
      "number of columns in y_score: 12\n"
     ]
    },
    {
     "name": "stderr",
     "output_type": "stream",
     "text": [
      "Iteration: 100%|██████████████████████████████████████████████████████████████████████████████████████████████████████████████████████████████████████████████████████████████████████████████████████████████| 32/32 [00:00<00:00, 41.88it/s]\n"
     ]
    },
    {
     "name": "stdout",
     "output_type": "stream",
     "text": [
      "Number of classes in y_true: 12\n",
      "number of columns in y_score: 12\n"
     ]
    },
    {
     "name": "stderr",
     "output_type": "stream",
     "text": [
      "Iteration: 100%|██████████████████████████████████████████████████████████████████████████████████████████████████████████████████████████████████████████████████████████████████████████████████████████████| 35/35 [00:00<00:00, 41.47it/s]\n"
     ]
    },
    {
     "name": "stdout",
     "output_type": "stream",
     "text": [
      "Number of classes in y_true: 12\n",
      "number of columns in y_score: 12\n",
      "{'Train':  best_epoch_indx:32\n",
      " auc:0.8471908694993924 \n",
      " f1_micro:0.03314459328821986 \n",
      " f1_macro:0.035759538569292766 \n",
      " precision_micro:0.03314459328821986 \n",
      " precision_macro:0.10092227827494832 \n",
      " recall_micro:0.03314459328821986 \n",
      " recall_macro:0.4886823067869804 \n",
      ", 'Validation':  best_epoch_indx:32\n",
      " auc:0.7558208875438778 \n",
      " f1_micro:0.026597066865523242 \n",
      " f1_macro:0.025037327388534966 \n",
      " precision_micro:0.026597066865523242 \n",
      " precision_macro:0.09374440771917042 \n",
      " recall_micro:0.026597066865523242 \n",
      " recall_macro:0.34483659591765 \n",
      ", 'Test':  best_epoch_indx:32\n",
      " auc:0.8175267439843888 \n",
      " f1_micro:0.03445190156599553 \n",
      " f1_macro:0.0327993175210542 \n",
      " precision_micro:0.03445190156599553 \n",
      " precision_macro:0.09298358513691272 \n",
      " recall_micro:0.03445190156599553 \n",
      " recall_macro:0.494806598615169 \n",
      "}\n",
      "=====Epoch 33\n",
      "Training...\n"
     ]
    },
    {
     "name": "stderr",
     "output_type": "stream",
     "text": [
      "Iteration: 100%|████████████████████████████████████████████████████████████████████████████████████████████████████████████████████████████████████████████████████████████████████████████████████████████| 283/283 [00:22<00:00, 12.54it/s]\n"
     ]
    },
    {
     "name": "stdout",
     "output_type": "stream",
     "text": [
      "Evaluating...\n"
     ]
    },
    {
     "name": "stderr",
     "output_type": "stream",
     "text": [
      "Iteration: 100%|████████████████████████████████████████████████████████████████████████████████████████████████████████████████████████████████████████████████████████████████████████████████████████████| 283/283 [00:06<00:00, 41.14it/s]\n"
     ]
    },
    {
     "name": "stdout",
     "output_type": "stream",
     "text": [
      "Number of classes in y_true: 12\n",
      "number of columns in y_score: 12\n"
     ]
    },
    {
     "name": "stderr",
     "output_type": "stream",
     "text": [
      "Iteration: 100%|██████████████████████████████████████████████████████████████████████████████████████████████████████████████████████████████████████████████████████████████████████████████████████████████| 32/32 [00:00<00:00, 42.48it/s]\n"
     ]
    },
    {
     "name": "stdout",
     "output_type": "stream",
     "text": [
      "Number of classes in y_true: 12\n",
      "number of columns in y_score: 12\n"
     ]
    },
    {
     "name": "stderr",
     "output_type": "stream",
     "text": [
      "Iteration: 100%|██████████████████████████████████████████████████████████████████████████████████████████████████████████████████████████████████████████████████████████████████████████████████████████████| 35/35 [00:00<00:00, 42.20it/s]\n"
     ]
    },
    {
     "name": "stdout",
     "output_type": "stream",
     "text": [
      "Number of classes in y_true: 12\n",
      "number of columns in y_score: 12\n",
      "{'Train':  best_epoch_indx:33\n",
      " auc:0.8421216920268153 \n",
      " f1_micro:0.040629747272476174 \n",
      " f1_macro:0.04062468249244228 \n",
      " precision_micro:0.040629747272476174 \n",
      " precision_macro:0.10105481531984138 \n",
      " recall_micro:0.040629747272476174 \n",
      " recall_macro:0.47179279207531905 \n",
      ", 'Validation':  best_epoch_indx:33\n",
      " auc:0.742788809283833 \n",
      " f1_micro:0.033805617698235146 \n",
      " f1_macro:0.026597832514340548 \n",
      " precision_micro:0.033805617698235146 \n",
      " precision_macro:0.08966083083087334 \n",
      " recall_micro:0.033805617698235146 \n",
      " recall_macro:0.33085148597903224 \n",
      ", 'Test':  best_epoch_indx:33\n",
      " auc:0.8096406997573911 \n",
      " f1_micro:0.03646532438478747 \n",
      " f1_macro:0.03465786823117716 \n",
      " precision_micro:0.03646532438478747 \n",
      " precision_macro:0.098811884000648 \n",
      " recall_micro:0.03646532438478747 \n",
      " recall_macro:0.337087707742242 \n",
      "}\n",
      "=====Epoch 34\n",
      "Training...\n"
     ]
    },
    {
     "name": "stderr",
     "output_type": "stream",
     "text": [
      "Iteration: 100%|████████████████████████████████████████████████████████████████████████████████████████████████████████████████████████████████████████████████████████████████████████████████████████████| 283/283 [00:21<00:00, 13.39it/s]\n"
     ]
    },
    {
     "name": "stdout",
     "output_type": "stream",
     "text": [
      "Evaluating...\n"
     ]
    },
    {
     "name": "stderr",
     "output_type": "stream",
     "text": [
      "Iteration: 100%|████████████████████████████████████████████████████████████████████████████████████████████████████████████████████████████████████████████████████████████████████████████████████████████| 283/283 [00:07<00:00, 37.16it/s]\n"
     ]
    },
    {
     "name": "stdout",
     "output_type": "stream",
     "text": [
      "Number of classes in y_true: 12\n",
      "number of columns in y_score: 12\n"
     ]
    },
    {
     "name": "stderr",
     "output_type": "stream",
     "text": [
      "Iteration: 100%|██████████████████████████████████████████████████████████████████████████████████████████████████████████████████████████████████████████████████████████████████████████████████████████████| 32/32 [00:00<00:00, 42.29it/s]\n"
     ]
    },
    {
     "name": "stdout",
     "output_type": "stream",
     "text": [
      "Number of classes in y_true: 12\n",
      "number of columns in y_score: 12\n"
     ]
    },
    {
     "name": "stderr",
     "output_type": "stream",
     "text": [
      "Iteration: 100%|██████████████████████████████████████████████████████████████████████████████████████████████████████████████████████████████████████████████████████████████████████████████████████████████| 35/35 [00:00<00:00, 42.01it/s]\n"
     ]
    },
    {
     "name": "stdout",
     "output_type": "stream",
     "text": [
      "Number of classes in y_true: 12\n",
      "number of columns in y_score: 12\n",
      "{'Train':  best_epoch_indx:34\n",
      " auc:0.8553298742875456 \n",
      " f1_micro:0.027233807485153985 \n",
      " f1_macro:0.04104800420992151 \n",
      " precision_micro:0.027233807485153985 \n",
      " precision_macro:0.1045293606300472 \n",
      " recall_micro:0.027233807485153985 \n",
      " recall_macro:0.49062999831004367 \n",
      ", 'Validation':  best_epoch_indx:34\n",
      " auc:0.7706285305552801 \n",
      " f1_micro:0.02162565249813572 \n",
      " f1_macro:0.02867413462885071 \n",
      " precision_micro:0.02162565249813572 \n",
      " precision_macro:0.09834164466790864 \n",
      " recall_micro:0.02162565249813572 \n",
      " recall_macro:0.3633444099320422 \n",
      ", 'Test':  best_epoch_indx:34\n",
      " auc:0.8162603930975142 \n",
      " f1_micro:0.028187919463087248 \n",
      " f1_macro:0.03498181077930613 \n",
      " precision_micro:0.028187919463087248 \n",
      " precision_macro:0.101770561977419 \n",
      " recall_micro:0.028187919463087248 \n",
      " recall_macro:0.4308668127217746 \n",
      "}\n",
      "=====Epoch 35\n",
      "Training...\n"
     ]
    },
    {
     "name": "stderr",
     "output_type": "stream",
     "text": [
      "Iteration: 100%|████████████████████████████████████████████████████████████████████████████████████████████████████████████████████████████████████████████████████████████████████████████████████████████| 283/283 [00:22<00:00, 12.38it/s]\n"
     ]
    },
    {
     "name": "stdout",
     "output_type": "stream",
     "text": [
      "Evaluating...\n"
     ]
    },
    {
     "name": "stderr",
     "output_type": "stream",
     "text": [
      "Iteration: 100%|████████████████████████████████████████████████████████████████████████████████████████████████████████████████████████████████████████████████████████████████████████████████████████████| 283/283 [00:06<00:00, 41.15it/s]\n"
     ]
    },
    {
     "name": "stdout",
     "output_type": "stream",
     "text": [
      "Number of classes in y_true: 12\n",
      "number of columns in y_score: 12\n"
     ]
    },
    {
     "name": "stderr",
     "output_type": "stream",
     "text": [
      "Iteration: 100%|██████████████████████████████████████████████████████████████████████████████████████████████████████████████████████████████████████████████████████████████████████████████████████████████| 32/32 [00:00<00:00, 36.50it/s]\n"
     ]
    },
    {
     "name": "stdout",
     "output_type": "stream",
     "text": [
      "Number of classes in y_true: 12\n",
      "number of columns in y_score: 12\n"
     ]
    },
    {
     "name": "stderr",
     "output_type": "stream",
     "text": [
      "Iteration: 100%|██████████████████████████████████████████████████████████████████████████████████████████████████████████████████████████████████████████████████████████████████████████████████████████████| 35/35 [00:00<00:00, 42.12it/s]\n"
     ]
    },
    {
     "name": "stdout",
     "output_type": "stream",
     "text": [
      "Number of classes in y_true: 12\n",
      "number of columns in y_score: 12\n",
      "{'Train':  best_epoch_indx:35\n",
      " auc:0.8628101792931843 \n",
      " f1_micro:0.034056069603645905 \n",
      " f1_macro:0.04303192846231135 \n",
      " precision_micro:0.034056069603645905 \n",
      " precision_macro:0.10389696691467398 \n",
      " recall_micro:0.034056069603645905 \n",
      " recall_macro:0.506166668321292 \n",
      ", 'Validation':  best_epoch_indx:35\n",
      " auc:0.7663557503803256 \n",
      " f1_micro:0.028834203330847626 \n",
      " f1_macro:0.031467820210829583 \n",
      " precision_micro:0.028834203330847626 \n",
      " precision_macro:0.0994573987361365 \n",
      " recall_micro:0.028834203330847626 \n",
      " recall_macro:0.36569133443923474 \n",
      ", 'Test':  best_epoch_indx:35\n",
      " auc:0.8136747049001718 \n",
      " f1_micro:0.02930648769574944 \n",
      " f1_macro:0.03270205059322403 \n",
      " precision_micro:0.02930648769574944 \n",
      " precision_macro:0.09823887205536498 \n",
      " recall_micro:0.02930648769574944 \n",
      " recall_macro:0.35164326078326535 \n",
      "}\n",
      "=====Epoch 36\n",
      "Training...\n"
     ]
    },
    {
     "name": "stderr",
     "output_type": "stream",
     "text": [
      "Iteration: 100%|████████████████████████████████████████████████████████████████████████████████████████████████████████████████████████████████████████████████████████████████████████████████████████████| 283/283 [00:22<00:00, 12.62it/s]\n"
     ]
    },
    {
     "name": "stdout",
     "output_type": "stream",
     "text": [
      "Evaluating...\n"
     ]
    },
    {
     "name": "stderr",
     "output_type": "stream",
     "text": [
      "Iteration: 100%|████████████████████████████████████████████████████████████████████████████████████████████████████████████████████████████████████████████████████████████████████████████████████████████| 283/283 [00:06<00:00, 40.82it/s]\n"
     ]
    },
    {
     "name": "stdout",
     "output_type": "stream",
     "text": [
      "Number of classes in y_true: 12\n",
      "number of columns in y_score: 12\n"
     ]
    },
    {
     "name": "stderr",
     "output_type": "stream",
     "text": [
      "Iteration: 100%|██████████████████████████████████████████████████████████████████████████████████████████████████████████████████████████████████████████████████████████████████████████████████████████████| 32/32 [00:00<00:00, 42.35it/s]\n"
     ]
    },
    {
     "name": "stdout",
     "output_type": "stream",
     "text": [
      "Number of classes in y_true: 12\n",
      "number of columns in y_score: 12\n"
     ]
    },
    {
     "name": "stderr",
     "output_type": "stream",
     "text": [
      "Iteration: 100%|██████████████████████████████████████████████████████████████████████████████████████████████████████████████████████████████████████████████████████████████████████████████████████████████| 35/35 [00:00<00:00, 41.84it/s]\n"
     ]
    },
    {
     "name": "stdout",
     "output_type": "stream",
     "text": [
      "Number of classes in y_true: 12\n",
      "number of columns in y_score: 12\n",
      "{'Train':  best_epoch_indx:36\n",
      " auc:0.856406942275523 \n",
      " f1_micro:0.06507388482253833 \n",
      " f1_macro:0.05191086919164559 \n",
      " precision_micro:0.06507388482253833 \n",
      " precision_macro:0.1049422987979504 \n",
      " recall_micro:0.06507388482253833 \n",
      " recall_macro:0.4955769782767559 \n",
      ", 'Validation':  best_epoch_indx:36\n",
      " auc:0.7718943534811946 \n",
      " f1_micro:0.054436987322893364 \n",
      " f1_macro:0.039067924341027294 \n",
      " precision_micro:0.054436987322893364 \n",
      " precision_macro:0.09688062212243742 \n",
      " recall_micro:0.054436987322893364 \n",
      " recall_macro:0.3732102130684663 \n",
      ", 'Test':  best_epoch_indx:36\n",
      " auc:0.7994968897076383 \n",
      " f1_micro:0.060626398210290824 \n",
      " f1_macro:0.0415265517443908 \n",
      " precision_micro:0.060626398210290824 \n",
      " precision_macro:0.09715235215440798 \n",
      " recall_micro:0.060626398210290824 \n",
      " recall_macro:0.33462355413623107 \n",
      "}\n",
      "=====Epoch 37\n",
      "Training...\n"
     ]
    },
    {
     "name": "stderr",
     "output_type": "stream",
     "text": [
      "Iteration: 100%|████████████████████████████████████████████████████████████████████████████████████████████████████████████████████████████████████████████████████████████████████████████████████████████| 283/283 [00:22<00:00, 12.31it/s]\n"
     ]
    },
    {
     "name": "stdout",
     "output_type": "stream",
     "text": [
      "Evaluating...\n"
     ]
    },
    {
     "name": "stderr",
     "output_type": "stream",
     "text": [
      "Iteration: 100%|████████████████████████████████████████████████████████████████████████████████████████████████████████████████████████████████████████████████████████████████████████████████████████████| 283/283 [00:07<00:00, 39.09it/s]\n"
     ]
    },
    {
     "name": "stdout",
     "output_type": "stream",
     "text": [
      "Number of classes in y_true: 12\n",
      "number of columns in y_score: 12\n"
     ]
    },
    {
     "name": "stderr",
     "output_type": "stream",
     "text": [
      "Iteration: 100%|██████████████████████████████████████████████████████████████████████████████████████████████████████████████████████████████████████████████████████████████████████████████████████████████| 32/32 [00:00<00:00, 40.03it/s]\n"
     ]
    },
    {
     "name": "stdout",
     "output_type": "stream",
     "text": [
      "Number of classes in y_true: 12\n",
      "number of columns in y_score: 12\n"
     ]
    },
    {
     "name": "stderr",
     "output_type": "stream",
     "text": [
      "Iteration: 100%|██████████████████████████████████████████████████████████████████████████████████████████████████████████████████████████████████████████████████████████████████████████████████████████████| 35/35 [00:00<00:00, 39.94it/s]\n"
     ]
    },
    {
     "name": "stdout",
     "output_type": "stream",
     "text": [
      "Number of classes in y_true: 12\n",
      "number of columns in y_score: 12\n",
      "{'Train':  best_epoch_indx:37\n",
      " auc:0.860731420461234 \n",
      " f1_micro:0.05165032454080928 \n",
      " f1_macro:0.04504826742386583 \n",
      " precision_micro:0.051650324540809284 \n",
      " precision_macro:0.10408760980336847 \n",
      " recall_micro:0.051650324540809284 \n",
      " recall_macro:0.49084942305924967 \n",
      ", 'Validation':  best_epoch_indx:37\n",
      " auc:0.7680422967225411 \n",
      " f1_micro:0.046979865771812075 \n",
      " f1_macro:0.035183610194965104 \n",
      " precision_micro:0.04697986577181208 \n",
      " precision_macro:0.09601844905396556 \n",
      " recall_micro:0.04697986577181208 \n",
      " recall_macro:0.37543084201061977 \n",
      ", 'Test':  best_epoch_indx:37\n",
      " auc:0.811631866436674 \n",
      " f1_micro:0.04541387024608501 \n",
      " f1_macro:0.03403657110889235 \n",
      " precision_micro:0.04541387024608501 \n",
      " precision_macro:0.09411682319035371 \n",
      " recall_micro:0.04541387024608501 \n",
      " recall_macro:0.36261271910975074 \n",
      "}\n",
      "=====Epoch 38\n",
      "Training...\n"
     ]
    },
    {
     "name": "stderr",
     "output_type": "stream",
     "text": [
      "Iteration: 100%|████████████████████████████████████████████████████████████████████████████████████████████████████████████████████████████████████████████████████████████████████████████████████████████| 283/283 [00:22<00:00, 12.50it/s]\n"
     ]
    },
    {
     "name": "stdout",
     "output_type": "stream",
     "text": [
      "Evaluating...\n"
     ]
    },
    {
     "name": "stderr",
     "output_type": "stream",
     "text": [
      "Iteration: 100%|████████████████████████████████████████████████████████████████████████████████████████████████████████████████████████████████████████████████████████████████████████████████████████████| 283/283 [00:06<00:00, 40.84it/s]\n"
     ]
    },
    {
     "name": "stdout",
     "output_type": "stream",
     "text": [
      "Number of classes in y_true: 12\n",
      "number of columns in y_score: 12\n"
     ]
    },
    {
     "name": "stderr",
     "output_type": "stream",
     "text": [
      "Iteration: 100%|██████████████████████████████████████████████████████████████████████████████████████████████████████████████████████████████████████████████████████████████████████████████████████████████| 32/32 [00:00<00:00, 36.39it/s]\n"
     ]
    },
    {
     "name": "stdout",
     "output_type": "stream",
     "text": [
      "Number of classes in y_true: 12\n",
      "number of columns in y_score: 12\n"
     ]
    },
    {
     "name": "stderr",
     "output_type": "stream",
     "text": [
      "Iteration: 100%|██████████████████████████████████████████████████████████████████████████████████████████████████████████████████████████████████████████████████████████████████████████████████████████████| 35/35 [00:00<00:00, 42.14it/s]\n"
     ]
    },
    {
     "name": "stdout",
     "output_type": "stream",
     "text": [
      "Number of classes in y_true: 12\n",
      "number of columns in y_score: 12\n",
      "{'Train':  best_epoch_indx:38\n",
      " auc:0.8560696916205296 \n",
      " f1_micro:0.08844082309073333 \n",
      " f1_macro:0.06008338054311672 \n",
      " precision_micro:0.08844082309073333 \n",
      " precision_macro:0.10729062737929564 \n",
      " recall_micro:0.08844082309073333 \n",
      " recall_macro:0.47608963205497185 \n",
      ", 'Validation':  best_epoch_indx:38\n",
      " auc:0.7854410780336073 \n",
      " f1_micro:0.07407407407407407 \n",
      " f1_macro:0.0426822587658443 \n",
      " precision_micro:0.07407407407407407 \n",
      " precision_macro:0.09655744872138096 \n",
      " recall_micro:0.07407407407407407 \n",
      " recall_macro:0.34277134803656156 \n",
      ", 'Test':  best_epoch_indx:38\n",
      " auc:0.803005091537526 \n",
      " f1_micro:0.08053691275167785 \n",
      " f1_macro:0.043933410341991164 \n",
      " precision_micro:0.08053691275167785 \n",
      " precision_macro:0.09650873791767654 \n",
      " recall_micro:0.08053691275167785 \n",
      " recall_macro:0.2850079465238044 \n",
      "}\n",
      "=====Epoch 39\n",
      "Training...\n"
     ]
    },
    {
     "name": "stderr",
     "output_type": "stream",
     "text": [
      "Iteration: 100%|████████████████████████████████████████████████████████████████████████████████████████████████████████████████████████████████████████████████████████████████████████████████████████████| 283/283 [00:23<00:00, 12.25it/s]\n"
     ]
    },
    {
     "name": "stdout",
     "output_type": "stream",
     "text": [
      "Evaluating...\n"
     ]
    },
    {
     "name": "stderr",
     "output_type": "stream",
     "text": [
      "Iteration: 100%|████████████████████████████████████████████████████████████████████████████████████████████████████████████████████████████████████████████████████████████████████████████████████████████| 283/283 [00:06<00:00, 41.02it/s]\n"
     ]
    },
    {
     "name": "stdout",
     "output_type": "stream",
     "text": [
      "Number of classes in y_true: 12\n",
      "number of columns in y_score: 12\n"
     ]
    },
    {
     "name": "stderr",
     "output_type": "stream",
     "text": [
      "Iteration: 100%|██████████████████████████████████████████████████████████████████████████████████████████████████████████████████████████████████████████████████████████████████████████████████████████████| 32/32 [00:00<00:00, 41.85it/s]\n"
     ]
    },
    {
     "name": "stdout",
     "output_type": "stream",
     "text": [
      "Number of classes in y_true: 12\n",
      "number of columns in y_score: 12\n"
     ]
    },
    {
     "name": "stderr",
     "output_type": "stream",
     "text": [
      "Iteration: 100%|██████████████████████████████████████████████████████████████████████████████████████████████████████████████████████████████████████████████████████████████████████████████████████████████| 35/35 [00:00<00:00, 41.93it/s]\n"
     ]
    },
    {
     "name": "stdout",
     "output_type": "stream",
     "text": [
      "Number of classes in y_true: 12\n",
      "number of columns in y_score: 12\n",
      "{'Train':  best_epoch_indx:39\n",
      " auc:0.8633199721085698 \n",
      " f1_micro:0.07584587764120977 \n",
      " f1_macro:0.054309085148022344 \n",
      " precision_micro:0.07584587764120977 \n",
      " precision_macro:0.10381528595403217 \n",
      " recall_micro:0.07584587764120977 \n",
      " recall_macro:0.5191399734308012 \n",
      ", 'Validation':  best_epoch_indx:39\n",
      " auc:0.7695591015625356 \n",
      " f1_micro:0.07133979617201093 \n",
      " f1_macro:0.04328099426531315 \n",
      " precision_micro:0.07133979617201093 \n",
      " precision_macro:0.09859778761913075 \n",
      " recall_micro:0.07133979617201093 \n",
      " recall_macro:0.40087610668078394 \n",
      ", 'Test':  best_epoch_indx:39\n",
      " auc:0.8123921173021944 \n",
      " f1_micro:0.07046979865771812 \n",
      " f1_macro:0.04285469832655572 \n",
      " precision_micro:0.07046979865771812 \n",
      " precision_macro:0.09540762085354083 \n",
      " recall_micro:0.07046979865771812 \n",
      " recall_macro:0.3358698610503203 \n",
      "}\n",
      "=====Epoch 40\n",
      "Training...\n"
     ]
    },
    {
     "name": "stderr",
     "output_type": "stream",
     "text": [
      "Iteration: 100%|████████████████████████████████████████████████████████████████████████████████████████████████████████████████████████████████████████████████████████████████████████████████████████████| 283/283 [00:22<00:00, 12.71it/s]\n"
     ]
    },
    {
     "name": "stdout",
     "output_type": "stream",
     "text": [
      "Evaluating...\n"
     ]
    },
    {
     "name": "stderr",
     "output_type": "stream",
     "text": [
      "Iteration: 100%|████████████████████████████████████████████████████████████████████████████████████████████████████████████████████████████████████████████████████████████████████████████████████████████| 283/283 [00:07<00:00, 38.22it/s]\n"
     ]
    },
    {
     "name": "stdout",
     "output_type": "stream",
     "text": [
      "Number of classes in y_true: 12\n",
      "number of columns in y_score: 12\n"
     ]
    },
    {
     "name": "stderr",
     "output_type": "stream",
     "text": [
      "Iteration: 100%|██████████████████████████████████████████████████████████████████████████████████████████████████████████████████████████████████████████████████████████████████████████████████████████████| 32/32 [00:00<00:00, 40.00it/s]\n"
     ]
    },
    {
     "name": "stdout",
     "output_type": "stream",
     "text": [
      "Number of classes in y_true: 12\n",
      "number of columns in y_score: 12\n"
     ]
    },
    {
     "name": "stderr",
     "output_type": "stream",
     "text": [
      "Iteration: 100%|██████████████████████████████████████████████████████████████████████████████████████████████████████████████████████████████████████████████████████████████████████████████████████████████| 35/35 [00:00<00:00, 42.04it/s]\n"
     ]
    },
    {
     "name": "stdout",
     "output_type": "stream",
     "text": [
      "Number of classes in y_true: 12\n",
      "number of columns in y_score: 12\n",
      "{'Train':  best_epoch_indx:40\n",
      " auc:0.8687706642565312 \n",
      " f1_micro:0.037094323988399396 \n",
      " f1_macro:0.045574860701204645 \n",
      " precision_micro:0.037094323988399396 \n",
      " precision_macro:0.10454552422308498 \n",
      " recall_micro:0.037094323988399396 \n",
      " recall_macro:0.5038911241615925 \n",
      ", 'Validation':  best_epoch_indx:40\n",
      " auc:0.7819406602713038 \n",
      " f1_micro:0.0333084762614964 \n",
      " f1_macro:0.03188453966677727 \n",
      " precision_micro:0.0333084762614964 \n",
      " precision_macro:0.0960562217457897 \n",
      " recall_micro:0.0333084762614964 \n",
      " recall_macro:0.3542056037576112 \n",
      ", 'Test':  best_epoch_indx:40\n",
      " auc:0.8143728718122826 \n",
      " f1_micro:0.032214765100671144 \n",
      " f1_macro:0.0339003466810026 \n",
      " precision_micro:0.032214765100671144 \n",
      " precision_macro:0.09737604620143431 \n",
      " recall_micro:0.032214765100671144 \n",
      " recall_macro:0.3332324636987027 \n",
      "}\n",
      "=====Epoch 41\n",
      "Training...\n"
     ]
    },
    {
     "name": "stderr",
     "output_type": "stream",
     "text": [
      "Iteration: 100%|████████████████████████████████████████████████████████████████████████████████████████████████████████████████████████████████████████████████████████████████████████████████████████████| 283/283 [00:22<00:00, 12.49it/s]\n"
     ]
    },
    {
     "name": "stdout",
     "output_type": "stream",
     "text": [
      "Evaluating...\n"
     ]
    },
    {
     "name": "stderr",
     "output_type": "stream",
     "text": [
      "Iteration: 100%|████████████████████████████████████████████████████████████████████████████████████████████████████████████████████████████████████████████████████████████████████████████████████████████| 283/283 [00:06<00:00, 40.99it/s]\n"
     ]
    },
    {
     "name": "stdout",
     "output_type": "stream",
     "text": [
      "Number of classes in y_true: 12\n",
      "number of columns in y_score: 12\n"
     ]
    },
    {
     "name": "stderr",
     "output_type": "stream",
     "text": [
      "Iteration: 100%|██████████████████████████████████████████████████████████████████████████████████████████████████████████████████████████████████████████████████████████████████████████████████████████████| 32/32 [00:00<00:00, 41.86it/s]\n"
     ]
    },
    {
     "name": "stdout",
     "output_type": "stream",
     "text": [
      "Number of classes in y_true: 12\n",
      "number of columns in y_score: 12\n"
     ]
    },
    {
     "name": "stderr",
     "output_type": "stream",
     "text": [
      "Iteration: 100%|██████████████████████████████████████████████████████████████████████████████████████████████████████████████████████████████████████████████████████████████████████████████████████████████| 35/35 [00:00<00:00, 41.97it/s]\n"
     ]
    },
    {
     "name": "stdout",
     "output_type": "stream",
     "text": [
      "Number of classes in y_true: 12\n",
      "number of columns in y_score: 12\n",
      "{'Train':  best_epoch_indx:41\n",
      " auc:0.8704859788926659 \n",
      " f1_micro:0.05789255627675735 \n",
      " f1_macro:0.0502388792269571 \n",
      " precision_micro:0.05789255627675735 \n",
      " precision_macro:0.10485270381722488 \n",
      " recall_micro:0.05789255627675735 \n",
      " recall_macro:0.5222365620638926 \n",
      ", 'Validation':  best_epoch_indx:41\n",
      " auc:0.7715779451058494 \n",
      " f1_micro:0.048471290082028336 \n",
      " f1_macro:0.039062243129901426 \n",
      " precision_micro:0.048471290082028336 \n",
      " precision_macro:0.09535045146879749 \n",
      " recall_micro:0.048471290082028336 \n",
      " recall_macro:0.3783919945830907 \n",
      ", 'Test':  best_epoch_indx:41\n",
      " auc:0.8303521487476782 \n",
      " f1_micro:0.05413870246085011 \n",
      " f1_macro:0.040082749974627775 \n",
      " precision_micro:0.05413870246085011 \n",
      " precision_macro:0.09628344111184656 \n",
      " recall_micro:0.05413870246085011 \n",
      " recall_macro:0.41003013886161943 \n",
      "}\n",
      "=====Epoch 42\n",
      "Training...\n"
     ]
    },
    {
     "name": "stderr",
     "output_type": "stream",
     "text": [
      "Iteration: 100%|████████████████████████████████████████████████████████████████████████████████████████████████████████████████████████████████████████████████████████████████████████████████████████████| 283/283 [00:21<00:00, 13.15it/s]\n"
     ]
    },
    {
     "name": "stdout",
     "output_type": "stream",
     "text": [
      "Evaluating...\n"
     ]
    },
    {
     "name": "stderr",
     "output_type": "stream",
     "text": [
      "Iteration: 100%|████████████████████████████████████████████████████████████████████████████████████████████████████████████████████████████████████████████████████████████████████████████████████████████| 283/283 [00:07<00:00, 40.32it/s]\n"
     ]
    },
    {
     "name": "stdout",
     "output_type": "stream",
     "text": [
      "Number of classes in y_true: 12\n",
      "number of columns in y_score: 12\n"
     ]
    },
    {
     "name": "stderr",
     "output_type": "stream",
     "text": [
      "Iteration: 100%|██████████████████████████████████████████████████████████████████████████████████████████████████████████████████████████████████████████████████████████████████████████████████████████████| 32/32 [00:00<00:00, 42.24it/s]\n"
     ]
    },
    {
     "name": "stdout",
     "output_type": "stream",
     "text": [
      "Number of classes in y_true: 12\n",
      "number of columns in y_score: 12\n"
     ]
    },
    {
     "name": "stderr",
     "output_type": "stream",
     "text": [
      "Iteration: 100%|██████████████████████████████████████████████████████████████████████████████████████████████████████████████████████████████████████████████████████████████████████████████████████████████| 35/35 [00:00<00:00, 42.21it/s]\n"
     ]
    },
    {
     "name": "stdout",
     "output_type": "stream",
     "text": [
      "Number of classes in y_true: 12\n",
      "number of columns in y_score: 12\n",
      "{'Train':  best_epoch_indx:42\n",
      " auc:0.8718242276289764 \n",
      " f1_micro:0.04397182709570501 \n",
      " f1_macro:0.04718070269123567 \n",
      " precision_micro:0.04397182709570501 \n",
      " precision_macro:0.10348209879028374 \n",
      " recall_micro:0.04397182709570501 \n",
      " recall_macro:0.5287060133595837 \n",
      ", 'Validation':  best_epoch_indx:42\n",
      " auc:0.7819134166480562 \n",
      " f1_micro:0.0343027591349739 \n",
      " f1_macro:0.03381567983535528 \n",
      " precision_micro:0.0343027591349739 \n",
      " precision_macro:0.09743612383994109 \n",
      " recall_micro:0.0343027591349739 \n",
      " recall_macro:0.3785451617134378 \n",
      ", 'Test':  best_epoch_indx:42\n",
      " auc:0.8257459693671945 \n",
      " f1_micro:0.036017897091722595 \n",
      " f1_macro:0.037803500200260874 \n",
      " precision_micro:0.036017897091722595 \n",
      " precision_macro:0.09521900963691826 \n",
      " recall_micro:0.036017897091722595 \n",
      " recall_macro:0.41920459646755903 \n",
      "}\n",
      "=====Epoch 43\n",
      "Training...\n"
     ]
    },
    {
     "name": "stderr",
     "output_type": "stream",
     "text": [
      "Iteration: 100%|████████████████████████████████████████████████████████████████████████████████████████████████████████████████████████████████████████████████████████████████████████████████████████████| 283/283 [00:22<00:00, 12.47it/s]\n"
     ]
    },
    {
     "name": "stdout",
     "output_type": "stream",
     "text": [
      "Evaluating...\n"
     ]
    },
    {
     "name": "stderr",
     "output_type": "stream",
     "text": [
      "Iteration: 100%|████████████████████████████████████████████████████████████████████████████████████████████████████████████████████████████████████████████████████████████████████████████████████████████| 283/283 [00:06<00:00, 40.72it/s]\n"
     ]
    },
    {
     "name": "stdout",
     "output_type": "stream",
     "text": [
      "Number of classes in y_true: 12\n",
      "number of columns in y_score: 12\n"
     ]
    },
    {
     "name": "stderr",
     "output_type": "stream",
     "text": [
      "Iteration: 100%|██████████████████████████████████████████████████████████████████████████████████████████████████████████████████████████████████████████████████████████████████████████████████████████████| 32/32 [00:00<00:00, 42.15it/s]\n"
     ]
    },
    {
     "name": "stdout",
     "output_type": "stream",
     "text": [
      "Number of classes in y_true: 12\n",
      "number of columns in y_score: 12\n"
     ]
    },
    {
     "name": "stderr",
     "output_type": "stream",
     "text": [
      "Iteration: 100%|██████████████████████████████████████████████████████████████████████████████████████████████████████████████████████████████████████████████████████████████████████████████████████████████| 35/35 [00:01<00:00, 32.80it/s]\n"
     ]
    },
    {
     "name": "stdout",
     "output_type": "stream",
     "text": [
      "Number of classes in y_true: 12\n",
      "number of columns in y_score: 12\n",
      "{'Train':  best_epoch_indx:43\n",
      " auc:0.8741322419849082 \n",
      " f1_micro:0.06167656401049579 \n",
      " f1_macro:0.05131278756785338 \n",
      " precision_micro:0.06167656401049579 \n",
      " precision_macro:0.1040271454854918 \n",
      " recall_micro:0.06167656401049579 \n",
      " recall_macro:0.5122444189118145 \n",
      ", 'Validation':  best_epoch_indx:43\n",
      " auc:0.8022838896912396 \n",
      " f1_micro:0.05244842157593836 \n",
      " f1_macro:0.04013073537247895 \n",
      " precision_micro:0.052448421575938355 \n",
      " precision_macro:0.09581525813854645 \n",
      " recall_micro:0.052448421575938355 \n",
      " recall_macro:0.4218915999208612 \n",
      ", 'Test':  best_epoch_indx:43\n",
      " auc:0.8194991881516982 \n",
      " f1_micro:0.05883668903803132 \n",
      " f1_macro:0.043562722503216085 \n",
      " precision_micro:0.05883668903803132 \n",
      " precision_macro:0.09767875866401528 \n",
      " recall_micro:0.05883668903803132 \n",
      " recall_macro:0.38946643574867595 \n",
      "}\n",
      "=====Epoch 44\n",
      "Training...\n"
     ]
    },
    {
     "name": "stderr",
     "output_type": "stream",
     "text": [
      "Iteration: 100%|████████████████████████████████████████████████████████████████████████████████████████████████████████████████████████████████████████████████████████████████████████████████████████████| 283/283 [00:22<00:00, 12.52it/s]\n"
     ]
    },
    {
     "name": "stdout",
     "output_type": "stream",
     "text": [
      "Evaluating...\n"
     ]
    },
    {
     "name": "stderr",
     "output_type": "stream",
     "text": [
      "Iteration: 100%|████████████████████████████████████████████████████████████████████████████████████████████████████████████████████████████████████████████████████████████████████████████████████████████| 283/283 [00:06<00:00, 41.02it/s]\n"
     ]
    },
    {
     "name": "stdout",
     "output_type": "stream",
     "text": [
      "Number of classes in y_true: 12\n",
      "number of columns in y_score: 12\n"
     ]
    },
    {
     "name": "stderr",
     "output_type": "stream",
     "text": [
      "Iteration: 100%|██████████████████████████████████████████████████████████████████████████████████████████████████████████████████████████████████████████████████████████████████████████████████████████████| 32/32 [00:00<00:00, 42.46it/s]\n"
     ]
    },
    {
     "name": "stdout",
     "output_type": "stream",
     "text": [
      "Number of classes in y_true: 12\n",
      "number of columns in y_score: 12\n"
     ]
    },
    {
     "name": "stderr",
     "output_type": "stream",
     "text": [
      "Iteration: 100%|██████████████████████████████████████████████████████████████████████████████████████████████████████████████████████████████████████████████████████████████████████████████████████████████| 35/35 [00:00<00:00, 42.30it/s]\n"
     ]
    },
    {
     "name": "stdout",
     "output_type": "stream",
     "text": [
      "Number of classes in y_true: 12\n",
      "number of columns in y_score: 12\n",
      "{'Train':  best_epoch_indx:44\n",
      " auc:0.8785760403645619 \n",
      " f1_micro:0.04692721999723796 \n",
      " f1_macro:0.04682019620828944 \n",
      " precision_micro:0.04692721999723795 \n",
      " precision_macro:0.10330956094049076 \n",
      " recall_micro:0.04692721999723795 \n",
      " recall_macro:0.5382652677124634 \n",
      ", 'Validation':  best_epoch_indx:44\n",
      " auc:0.7858042337881627 \n",
      " f1_micro:0.036539895600298286 \n",
      " f1_macro:0.03263844483508505 \n",
      " precision_micro:0.036539895600298286 \n",
      " precision_macro:0.09016055296371801 \n",
      " recall_micro:0.036539895600298286 \n",
      " recall_macro:0.36953510526666405 \n",
      ", 'Test':  best_epoch_indx:44\n",
      " auc:0.827430126247811 \n",
      " f1_micro:0.042281879194630875 \n",
      " f1_macro:0.03977591244195629 \n",
      " precision_micro:0.042281879194630875 \n",
      " precision_macro:0.09973761506533861 \n",
      " recall_micro:0.042281879194630875 \n",
      " recall_macro:0.435298938099626 \n",
      "}\n",
      "=====Epoch 45\n",
      "Training...\n"
     ]
    },
    {
     "name": "stderr",
     "output_type": "stream",
     "text": [
      "Iteration: 100%|████████████████████████████████████████████████████████████████████████████████████████████████████████████████████████████████████████████████████████████████████████████████████████████| 283/283 [00:22<00:00, 12.46it/s]\n"
     ]
    },
    {
     "name": "stdout",
     "output_type": "stream",
     "text": [
      "Evaluating...\n"
     ]
    },
    {
     "name": "stderr",
     "output_type": "stream",
     "text": [
      "Iteration: 100%|████████████████████████████████████████████████████████████████████████████████████████████████████████████████████████████████████████████████████████████████████████████████████████████| 283/283 [00:06<00:00, 40.93it/s]\n"
     ]
    },
    {
     "name": "stdout",
     "output_type": "stream",
     "text": [
      "Number of classes in y_true: 12\n",
      "number of columns in y_score: 12\n"
     ]
    },
    {
     "name": "stderr",
     "output_type": "stream",
     "text": [
      "Iteration: 100%|██████████████████████████████████████████████████████████████████████████████████████████████████████████████████████████████████████████████████████████████████████████████████████████████| 32/32 [00:00<00:00, 41.92it/s]\n"
     ]
    },
    {
     "name": "stdout",
     "output_type": "stream",
     "text": [
      "Number of classes in y_true: 12\n",
      "number of columns in y_score: 12\n"
     ]
    },
    {
     "name": "stderr",
     "output_type": "stream",
     "text": [
      "Iteration: 100%|██████████████████████████████████████████████████████████████████████████████████████████████████████████████████████████████████████████████████████████████████████████████████████████████| 35/35 [00:00<00:00, 41.70it/s]\n"
     ]
    },
    {
     "name": "stdout",
     "output_type": "stream",
     "text": [
      "Number of classes in y_true: 12\n",
      "number of columns in y_score: 12\n",
      "{'Train':  best_epoch_indx:45\n",
      " auc:0.8727381298479907 \n",
      " f1_micro:0.06714542190305206 \n",
      " f1_macro:0.05488434746226333 \n",
      " precision_micro:0.06714542190305206 \n",
      " precision_macro:0.1054188514084688 \n",
      " recall_micro:0.06714542190305206 \n",
      " recall_macro:0.520375377290865 \n",
      ", 'Validation':  best_epoch_indx:45\n",
      " auc:0.7810234383925412 \n",
      " f1_micro:0.05468555804126274 \n",
      " f1_macro:0.03708377460407317 \n",
      " precision_micro:0.05468555804126274 \n",
      " precision_macro:0.09142796267162877 \n",
      " recall_micro:0.05468555804126274 \n",
      " recall_macro:0.34272857942290846 \n",
      ", 'Test':  best_epoch_indx:45\n",
      " auc:0.8337816272858531 \n",
      " f1_micro:0.05861297539149888 \n",
      " f1_macro:0.042500062467173055 \n",
      " precision_micro:0.05861297539149888 \n",
      " precision_macro:0.09637791253221022 \n",
      " recall_micro:0.05861297539149888 \n",
      " recall_macro:0.3711422891091922 \n",
      "}\n",
      "=====Epoch 46\n",
      "Training...\n"
     ]
    },
    {
     "name": "stderr",
     "output_type": "stream",
     "text": [
      "Iteration: 100%|████████████████████████████████████████████████████████████████████████████████████████████████████████████████████████████████████████████████████████████████████████████████████████████| 283/283 [00:23<00:00, 11.82it/s]\n"
     ]
    },
    {
     "name": "stdout",
     "output_type": "stream",
     "text": [
      "Evaluating...\n"
     ]
    },
    {
     "name": "stderr",
     "output_type": "stream",
     "text": [
      "Iteration: 100%|████████████████████████████████████████████████████████████████████████████████████████████████████████████████████████████████████████████████████████████████████████████████████████████| 283/283 [00:07<00:00, 39.30it/s]\n"
     ]
    },
    {
     "name": "stdout",
     "output_type": "stream",
     "text": [
      "Number of classes in y_true: 12\n",
      "number of columns in y_score: 12\n"
     ]
    },
    {
     "name": "stderr",
     "output_type": "stream",
     "text": [
      "Iteration: 100%|██████████████████████████████████████████████████████████████████████████████████████████████████████████████████████████████████████████████████████████████████████████████████████████████| 32/32 [00:00<00:00, 40.37it/s]\n"
     ]
    },
    {
     "name": "stdout",
     "output_type": "stream",
     "text": [
      "Number of classes in y_true: 12\n",
      "number of columns in y_score: 12\n"
     ]
    },
    {
     "name": "stderr",
     "output_type": "stream",
     "text": [
      "Iteration: 100%|██████████████████████████████████████████████████████████████████████████████████████████████████████████████████████████████████████████████████████████████████████████████████████████████| 35/35 [00:00<00:00, 40.43it/s]\n"
     ]
    },
    {
     "name": "stdout",
     "output_type": "stream",
     "text": [
      "Number of classes in y_true: 12\n",
      "number of columns in y_score: 12\n",
      "{'Train':  best_epoch_indx:46\n",
      " auc:0.8862223565633318 \n",
      " f1_micro:0.0850987432675045 \n",
      " f1_macro:0.058435858870023366 \n",
      " precision_micro:0.0850987432675045 \n",
      " precision_macro:0.10622217910489447 \n",
      " recall_micro:0.0850987432675045 \n",
      " recall_macro:0.5508207319064904 \n",
      ", 'Validation':  best_epoch_indx:46\n",
      " auc:0.7955517171498908 \n",
      " f1_micro:0.07183693760874969 \n",
      " f1_macro:0.044293845618048354 \n",
      " precision_micro:0.07183693760874969 \n",
      " precision_macro:0.09634267191960598 \n",
      " recall_micro:0.07183693760874969 \n",
      " recall_macro:0.42266931623179077 \n",
      ", 'Test':  best_epoch_indx:46\n",
      " auc:0.8421692229793436 \n",
      " f1_micro:0.07628635346756152 \n",
      " f1_macro:0.0439078211419896 \n",
      " precision_micro:0.07628635346756152 \n",
      " precision_macro:0.09457272727643268 \n",
      " recall_micro:0.07628635346756152 \n",
      " recall_macro:0.37154035736160473 \n",
      "}\n",
      "=====Epoch 47\n",
      "Training...\n"
     ]
    },
    {
     "name": "stderr",
     "output_type": "stream",
     "text": [
      "Iteration: 100%|████████████████████████████████████████████████████████████████████████████████████████████████████████████████████████████████████████████████████████████████████████████████████████████| 283/283 [00:22<00:00, 12.46it/s]\n"
     ]
    },
    {
     "name": "stdout",
     "output_type": "stream",
     "text": [
      "Evaluating...\n"
     ]
    },
    {
     "name": "stderr",
     "output_type": "stream",
     "text": [
      "Iteration: 100%|████████████████████████████████████████████████████████████████████████████████████████████████████████████████████████████████████████████████████████████████████████████████████████████| 283/283 [00:06<00:00, 40.63it/s]\n"
     ]
    },
    {
     "name": "stdout",
     "output_type": "stream",
     "text": [
      "Number of classes in y_true: 12\n",
      "number of columns in y_score: 12\n"
     ]
    },
    {
     "name": "stderr",
     "output_type": "stream",
     "text": [
      "Iteration: 100%|██████████████████████████████████████████████████████████████████████████████████████████████████████████████████████████████████████████████████████████████████████████████████████████████| 32/32 [00:00<00:00, 41.68it/s]\n"
     ]
    },
    {
     "name": "stdout",
     "output_type": "stream",
     "text": [
      "Number of classes in y_true: 12\n",
      "number of columns in y_score: 12\n"
     ]
    },
    {
     "name": "stderr",
     "output_type": "stream",
     "text": [
      "Iteration: 100%|██████████████████████████████████████████████████████████████████████████████████████████████████████████████████████████████████████████████████████████████████████████████████████████████| 35/35 [00:00<00:00, 41.44it/s]\n"
     ]
    },
    {
     "name": "stdout",
     "output_type": "stream",
     "text": [
      "Number of classes in y_true: 12\n",
      "number of columns in y_score: 12\n",
      "{'Train':  best_epoch_indx:47\n",
      " auc:0.8824474564231733 \n",
      " f1_micro:0.06717304239745892 \n",
      " f1_macro:0.05332966579839132 \n",
      " precision_micro:0.06717304239745892 \n",
      " precision_macro:0.10609295211155217 \n",
      " recall_micro:0.06717304239745892 \n",
      " recall_macro:0.5377958017652548 \n",
      ", 'Validation':  best_epoch_indx:47\n",
      " auc:0.795110777209937 \n",
      " f1_micro:0.06388267462092966 \n",
      " f1_macro:0.04130823125460228 \n",
      " precision_micro:0.06388267462092966 \n",
      " precision_macro:0.09811449272963646 \n",
      " recall_micro:0.06388267462092966 \n",
      " recall_macro:0.41427041955308863 \n",
      ", 'Test':  best_epoch_indx:47\n",
      " auc:0.836605309403596 \n",
      " f1_micro:0.0610738255033557 \n",
      " f1_macro:0.045234920855696505 \n",
      " precision_micro:0.0610738255033557 \n",
      " precision_macro:0.10189823673503068 \n",
      " recall_micro:0.0610738255033557 \n",
      " recall_macro:0.48142230389188984 \n",
      "}\n",
      "=====Epoch 48\n",
      "Training...\n"
     ]
    },
    {
     "name": "stderr",
     "output_type": "stream",
     "text": [
      "Iteration: 100%|████████████████████████████████████████████████████████████████████████████████████████████████████████████████████████████████████████████████████████████████████████████████████████████| 283/283 [00:22<00:00, 12.75it/s]\n"
     ]
    },
    {
     "name": "stdout",
     "output_type": "stream",
     "text": [
      "Evaluating...\n"
     ]
    },
    {
     "name": "stderr",
     "output_type": "stream",
     "text": [
      "Iteration: 100%|████████████████████████████████████████████████████████████████████████████████████████████████████████████████████████████████████████████████████████████████████████████████████████████| 283/283 [00:07<00:00, 38.76it/s]\n"
     ]
    },
    {
     "name": "stdout",
     "output_type": "stream",
     "text": [
      "Number of classes in y_true: 12\n",
      "number of columns in y_score: 12\n"
     ]
    },
    {
     "name": "stderr",
     "output_type": "stream",
     "text": [
      "Iteration: 100%|██████████████████████████████████████████████████████████████████████████████████████████████████████████████████████████████████████████████████████████████████████████████████████████████| 32/32 [00:00<00:00, 42.84it/s]\n"
     ]
    },
    {
     "name": "stdout",
     "output_type": "stream",
     "text": [
      "Number of classes in y_true: 12\n",
      "number of columns in y_score: 12\n"
     ]
    },
    {
     "name": "stderr",
     "output_type": "stream",
     "text": [
      "Iteration: 100%|██████████████████████████████████████████████████████████████████████████████████████████████████████████████████████████████████████████████████████████████████████████████████████████████| 35/35 [00:00<00:00, 42.26it/s]\n"
     ]
    },
    {
     "name": "stdout",
     "output_type": "stream",
     "text": [
      "Number of classes in y_true: 12\n",
      "number of columns in y_score: 12\n",
      "{'Train':  best_epoch_indx:48\n",
      " auc:0.8835270836390933 \n",
      " f1_micro:0.06314045021405883 \n",
      " f1_macro:0.04914043905798099 \n",
      " precision_micro:0.06314045021405883 \n",
      " precision_macro:0.10239732570364933 \n",
      " recall_micro:0.06314045021405883 \n",
      " recall_macro:0.5432097487409998 \n",
      ", 'Validation':  best_epoch_indx:48\n",
      " auc:0.7955567803169524 \n",
      " f1_micro:0.05667412378821775 \n",
      " f1_macro:0.036269993954073786 \n",
      " precision_micro:0.05667412378821775 \n",
      " precision_macro:0.09361210438184796 \n",
      " recall_micro:0.05667412378821775 \n",
      " recall_macro:0.4164146828387029 \n",
      ", 'Test':  best_epoch_indx:48\n",
      " auc:0.8326457400115506 \n",
      " f1_micro:0.06129753914988814 \n",
      " f1_macro:0.037588313080890744 \n",
      " precision_micro:0.06129753914988814 \n",
      " precision_macro:0.0956392267469738 \n",
      " recall_micro:0.06129753914988814 \n",
      " recall_macro:0.41303787916798246 \n",
      "}\n",
      "=====Epoch 49\n",
      "Training...\n"
     ]
    },
    {
     "name": "stderr",
     "output_type": "stream",
     "text": [
      "Iteration: 100%|████████████████████████████████████████████████████████████████████████████████████████████████████████████████████████████████████████████████████████████████████████████████████████████| 283/283 [00:22<00:00, 12.49it/s]\n"
     ]
    },
    {
     "name": "stdout",
     "output_type": "stream",
     "text": [
      "Evaluating...\n"
     ]
    },
    {
     "name": "stderr",
     "output_type": "stream",
     "text": [
      "Iteration: 100%|████████████████████████████████████████████████████████████████████████████████████████████████████████████████████████████████████████████████████████████████████████████████████████████| 283/283 [00:06<00:00, 40.57it/s]\n"
     ]
    },
    {
     "name": "stdout",
     "output_type": "stream",
     "text": [
      "Number of classes in y_true: 12\n",
      "number of columns in y_score: 12\n"
     ]
    },
    {
     "name": "stderr",
     "output_type": "stream",
     "text": [
      "Iteration: 100%|██████████████████████████████████████████████████████████████████████████████████████████████████████████████████████████████████████████████████████████████████████████████████████████████| 32/32 [00:00<00:00, 39.28it/s]\n"
     ]
    },
    {
     "name": "stdout",
     "output_type": "stream",
     "text": [
      "Number of classes in y_true: 12\n",
      "number of columns in y_score: 12\n"
     ]
    },
    {
     "name": "stderr",
     "output_type": "stream",
     "text": [
      "Iteration: 100%|██████████████████████████████████████████████████████████████████████████████████████████████████████████████████████████████████████████████████████████████████████████████████████████████| 35/35 [00:00<00:00, 39.08it/s]\n"
     ]
    },
    {
     "name": "stdout",
     "output_type": "stream",
     "text": [
      "Number of classes in y_true: 12\n",
      "number of columns in y_score: 12\n",
      "{'Train':  best_epoch_indx:49\n",
      " auc:0.8846080327339325 \n",
      " f1_micro:0.05988123187405055 \n",
      " f1_macro:0.0536413984789846 \n",
      " precision_micro:0.05988123187405055 \n",
      " precision_macro:0.10631713508312497 \n",
      " recall_micro:0.05988123187405055 \n",
      " recall_macro:0.5389582226612656 \n",
      ", 'Validation':  best_epoch_indx:49\n",
      " auc:0.7823667848745421 \n",
      " f1_micro:0.049714143673875215 \n",
      " f1_macro:0.04217207413516583 \n",
      " precision_micro:0.049714143673875215 \n",
      " precision_macro:0.09778907308804852 \n",
      " recall_micro:0.049714143673875215 \n",
      " recall_macro:0.4194176439228816 \n",
      ", 'Test':  best_epoch_indx:49\n",
      " auc:0.8407584164817923 \n",
      " f1_micro:0.05525727069351231 \n",
      " f1_macro:0.04371182101150004 \n",
      " precision_micro:0.05525727069351231 \n",
      " precision_macro:0.09840291389302784 \n",
      " recall_micro:0.05525727069351231 \n",
      " recall_macro:0.426025733979057 \n",
      "}\n",
      "=====Epoch 50\n",
      "Training...\n"
     ]
    },
    {
     "name": "stderr",
     "output_type": "stream",
     "text": [
      "Iteration: 100%|████████████████████████████████████████████████████████████████████████████████████████████████████████████████████████████████████████████████████████████████████████████████████████████| 283/283 [00:24<00:00, 11.70it/s]\n"
     ]
    },
    {
     "name": "stdout",
     "output_type": "stream",
     "text": [
      "Evaluating...\n"
     ]
    },
    {
     "name": "stderr",
     "output_type": "stream",
     "text": [
      "Iteration: 100%|████████████████████████████████████████████████████████████████████████████████████████████████████████████████████████████████████████████████████████████████████████████████████████████| 283/283 [00:06<00:00, 40.57it/s]\n"
     ]
    },
    {
     "name": "stdout",
     "output_type": "stream",
     "text": [
      "Number of classes in y_true: 12\n",
      "number of columns in y_score: 12\n"
     ]
    },
    {
     "name": "stderr",
     "output_type": "stream",
     "text": [
      "Iteration: 100%|██████████████████████████████████████████████████████████████████████████████████████████████████████████████████████████████████████████████████████████████████████████████████████████████| 32/32 [00:00<00:00, 42.74it/s]\n"
     ]
    },
    {
     "name": "stdout",
     "output_type": "stream",
     "text": [
      "Number of classes in y_true: 12\n",
      "number of columns in y_score: 12\n"
     ]
    },
    {
     "name": "stderr",
     "output_type": "stream",
     "text": [
      "Iteration: 100%|██████████████████████████████████████████████████████████████████████████████████████████████████████████████████████████████████████████████████████████████████████████████████████████████| 35/35 [00:00<00:00, 42.31it/s]\n"
     ]
    },
    {
     "name": "stdout",
     "output_type": "stream",
     "text": [
      "Number of classes in y_true: 12\n",
      "number of columns in y_score: 12\n",
      "{'Train':  best_epoch_indx:50\n",
      " auc:0.8857132517869939 \n",
      " f1_micro:0.04869493163927634 \n",
      " f1_macro:0.049946268202841544 \n",
      " precision_micro:0.048694931639276344 \n",
      " precision_macro:0.10481302781835751 \n",
      " recall_micro:0.048694931639276344 \n",
      " recall_macro:0.5579961460830801 \n",
      ", 'Validation':  best_epoch_indx:50\n",
      " auc:0.7874049960855244 \n",
      " f1_micro:0.038279890628883914 \n",
      " f1_macro:0.03845190657671203 \n",
      " precision_micro:0.038279890628883914 \n",
      " precision_macro:0.09605376764595532 \n",
      " recall_micro:0.038279890628883914 \n",
      " recall_macro:0.4211230570161329 \n",
      ", 'Test':  best_epoch_indx:50\n",
      " auc:0.8220788906653717 \n",
      " f1_micro:0.043176733780760625 \n",
      " f1_macro:0.04016968821731913 \n",
      " precision_micro:0.043176733780760625 \n",
      " precision_macro:0.10048553771088366 \n",
      " recall_micro:0.043176733780760625 \n",
      " recall_macro:0.4228722361120029 \n",
      "}\n",
      "=====Epoch 51\n",
      "Training...\n"
     ]
    },
    {
     "name": "stderr",
     "output_type": "stream",
     "text": [
      "Iteration: 100%|████████████████████████████████████████████████████████████████████████████████████████████████████████████████████████████████████████████████████████████████████████████████████████████| 283/283 [00:22<00:00, 12.56it/s]\n"
     ]
    },
    {
     "name": "stdout",
     "output_type": "stream",
     "text": [
      "Evaluating...\n"
     ]
    },
    {
     "name": "stderr",
     "output_type": "stream",
     "text": [
      "Iteration: 100%|████████████████████████████████████████████████████████████████████████████████████████████████████████████████████████████████████████████████████████████████████████████████████████████| 283/283 [00:06<00:00, 40.61it/s]\n"
     ]
    },
    {
     "name": "stdout",
     "output_type": "stream",
     "text": [
      "Number of classes in y_true: 12\n",
      "number of columns in y_score: 12\n"
     ]
    },
    {
     "name": "stderr",
     "output_type": "stream",
     "text": [
      "Iteration: 100%|██████████████████████████████████████████████████████████████████████████████████████████████████████████████████████████████████████████████████████████████████████████████████████████████| 32/32 [00:00<00:00, 41.94it/s]\n"
     ]
    },
    {
     "name": "stdout",
     "output_type": "stream",
     "text": [
      "Number of classes in y_true: 12\n",
      "number of columns in y_score: 12\n"
     ]
    },
    {
     "name": "stderr",
     "output_type": "stream",
     "text": [
      "Iteration: 100%|██████████████████████████████████████████████████████████████████████████████████████████████████████████████████████████████████████████████████████████████████████████████████████████████| 35/35 [00:00<00:00, 41.62it/s]\n"
     ]
    },
    {
     "name": "stdout",
     "output_type": "stream",
     "text": [
      "Number of classes in y_true: 12\n",
      "number of columns in y_score: 12\n",
      "{'Train':  best_epoch_indx:51\n",
      " auc:0.8905174464361013 \n",
      " f1_micro:0.055489573263361416 \n",
      " f1_macro:0.052114534266194834 \n",
      " precision_micro:0.055489573263361416 \n",
      " precision_macro:0.1047701600516628 \n",
      " recall_micro:0.055489573263361416 \n",
      " recall_macro:0.559118527895841 \n",
      ", 'Validation':  best_epoch_indx:51\n",
      " auc:0.8075763110677917 \n",
      " f1_micro:0.04871986080039771 \n",
      " f1_macro:0.039559826417523446 \n",
      " precision_micro:0.04871986080039771 \n",
      " precision_macro:0.09382481429036969 \n",
      " recall_micro:0.04871986080039771 \n",
      " recall_macro:0.44520352951504555 \n",
      ", 'Test':  best_epoch_indx:51\n",
      " auc:0.8231177568925008 \n",
      " f1_micro:0.050111856823266215 \n",
      " f1_macro:0.04321528926859125 \n",
      " precision_micro:0.05011185682326622 \n",
      " precision_macro:0.09951817549111665 \n",
      " recall_micro:0.05011185682326622 \n",
      " recall_macro:0.43327260798208017 \n",
      "}\n",
      "=====Epoch 52\n",
      "Training...\n"
     ]
    },
    {
     "name": "stderr",
     "output_type": "stream",
     "text": [
      "Iteration: 100%|████████████████████████████████████████████████████████████████████████████████████████████████████████████████████████████████████████████████████████████████████████████████████████████| 283/283 [00:22<00:00, 12.60it/s]\n"
     ]
    },
    {
     "name": "stdout",
     "output_type": "stream",
     "text": [
      "Evaluating...\n"
     ]
    },
    {
     "name": "stderr",
     "output_type": "stream",
     "text": [
      "Iteration: 100%|████████████████████████████████████████████████████████████████████████████████████████████████████████████████████████████████████████████████████████████████████████████████████████████| 283/283 [00:06<00:00, 40.99it/s]\n"
     ]
    },
    {
     "name": "stdout",
     "output_type": "stream",
     "text": [
      "Number of classes in y_true: 12\n",
      "number of columns in y_score: 12\n"
     ]
    },
    {
     "name": "stderr",
     "output_type": "stream",
     "text": [
      "Iteration: 100%|██████████████████████████████████████████████████████████████████████████████████████████████████████████████████████████████████████████████████████████████████████████████████████████████| 32/32 [00:00<00:00, 42.77it/s]\n"
     ]
    },
    {
     "name": "stdout",
     "output_type": "stream",
     "text": [
      "Number of classes in y_true: 12\n",
      "number of columns in y_score: 12\n"
     ]
    },
    {
     "name": "stderr",
     "output_type": "stream",
     "text": [
      "Iteration: 100%|██████████████████████████████████████████████████████████████████████████████████████████████████████████████████████████████████████████████████████████████████████████████████████████████| 35/35 [00:00<00:00, 42.29it/s]\n"
     ]
    },
    {
     "name": "stdout",
     "output_type": "stream",
     "text": [
      "Number of classes in y_true: 12\n",
      "number of columns in y_score: 12\n",
      "{'Train':  best_epoch_indx:52\n",
      " auc:0.8932686581712045 \n",
      " f1_micro:0.059743129402016294 \n",
      " f1_macro:0.05203185519337882 \n",
      " precision_micro:0.059743129402016294 \n",
      " precision_macro:0.10485965063856738 \n",
      " recall_micro:0.059743129402016294 \n",
      " recall_macro:0.5635766011755233 \n",
      ", 'Validation':  best_epoch_indx:52\n",
      " auc:0.8041136007216502 \n",
      " f1_micro:0.05493412875963211 \n",
      " f1_macro:0.04116475049353193 \n",
      " precision_micro:0.05493412875963211 \n",
      " precision_macro:0.09627213444836019 \n",
      " recall_micro:0.05493412875963211 \n",
      " recall_macro:0.4353504476021859 \n",
      ", 'Test':  best_epoch_indx:52\n",
      " auc:0.8320276953006935 \n",
      " f1_micro:0.05279642058165549 \n",
      " f1_macro:0.040120890269977144 \n",
      " precision_micro:0.052796420581655484 \n",
      " precision_macro:0.09697234653362823 \n",
      " recall_micro:0.052796420581655484 \n",
      " recall_macro:0.4071877209653792 \n",
      "}\n",
      "=====Epoch 53\n",
      "Training...\n"
     ]
    },
    {
     "name": "stderr",
     "output_type": "stream",
     "text": [
      "Iteration: 100%|████████████████████████████████████████████████████████████████████████████████████████████████████████████████████████████████████████████████████████████████████████████████████████████| 283/283 [00:22<00:00, 12.30it/s]\n"
     ]
    },
    {
     "name": "stdout",
     "output_type": "stream",
     "text": [
      "Evaluating...\n"
     ]
    },
    {
     "name": "stderr",
     "output_type": "stream",
     "text": [
      "Iteration: 100%|████████████████████████████████████████████████████████████████████████████████████████████████████████████████████████████████████████████████████████████████████████████████████████████| 283/283 [00:06<00:00, 40.68it/s]\n"
     ]
    },
    {
     "name": "stdout",
     "output_type": "stream",
     "text": [
      "Number of classes in y_true: 12\n",
      "number of columns in y_score: 12\n"
     ]
    },
    {
     "name": "stderr",
     "output_type": "stream",
     "text": [
      "Iteration: 100%|██████████████████████████████████████████████████████████████████████████████████████████████████████████████████████████████████████████████████████████████████████████████████████████████| 32/32 [00:00<00:00, 41.55it/s]\n"
     ]
    },
    {
     "name": "stdout",
     "output_type": "stream",
     "text": [
      "Number of classes in y_true: 12\n",
      "number of columns in y_score: 12\n"
     ]
    },
    {
     "name": "stderr",
     "output_type": "stream",
     "text": [
      "Iteration: 100%|██████████████████████████████████████████████████████████████████████████████████████████████████████████████████████████████████████████████████████████████████████████████████████████████| 35/35 [00:00<00:00, 41.50it/s]\n"
     ]
    },
    {
     "name": "stdout",
     "output_type": "stream",
     "text": [
      "Number of classes in y_true: 12\n",
      "number of columns in y_score: 12\n",
      "{'Train':  best_epoch_indx:53\n",
      " auc:0.8921937851980949 \n",
      " f1_micro:0.04764535285181605 \n",
      " f1_macro:0.05177299858110609 \n",
      " precision_micro:0.04764535285181605 \n",
      " precision_macro:0.10636687893562051 \n",
      " recall_micro:0.04764535285181605 \n",
      " recall_macro:0.5588130301550752 \n",
      ", 'Validation':  best_epoch_indx:53\n",
      " auc:0.8069407067384499 \n",
      " f1_micro:0.04300273427790206 \n",
      " f1_macro:0.03937744808981514 \n",
      " precision_micro:0.04300273427790206 \n",
      " precision_macro:0.09689757615442084 \n",
      " recall_micro:0.04300273427790206 \n",
      " recall_macro:0.4140250350526636 \n",
      ", 'Test':  best_epoch_indx:53\n",
      " auc:0.8393986582910962 \n",
      " f1_micro:0.0447427293064877 \n",
      " f1_macro:0.04233234449303052 \n",
      " precision_micro:0.0447427293064877 \n",
      " precision_macro:0.10059601354892235 \n",
      " recall_micro:0.0447427293064877 \n",
      " recall_macro:0.39296732424023445 \n",
      "}\n",
      "=====Epoch 54\n",
      "Training...\n"
     ]
    },
    {
     "name": "stderr",
     "output_type": "stream",
     "text": [
      "Iteration: 100%|████████████████████████████████████████████████████████████████████████████████████████████████████████████████████████████████████████████████████████████████████████████████████████████| 283/283 [00:20<00:00, 13.52it/s]\n"
     ]
    },
    {
     "name": "stdout",
     "output_type": "stream",
     "text": [
      "Evaluating...\n"
     ]
    },
    {
     "name": "stderr",
     "output_type": "stream",
     "text": [
      "Iteration: 100%|████████████████████████████████████████████████████████████████████████████████████████████████████████████████████████████████████████████████████████████████████████████████████████████| 283/283 [00:07<00:00, 39.39it/s]\n"
     ]
    },
    {
     "name": "stdout",
     "output_type": "stream",
     "text": [
      "Number of classes in y_true: 12\n",
      "number of columns in y_score: 12\n"
     ]
    },
    {
     "name": "stderr",
     "output_type": "stream",
     "text": [
      "Iteration: 100%|██████████████████████████████████████████████████████████████████████████████████████████████████████████████████████████████████████████████████████████████████████████████████████████████| 32/32 [00:00<00:00, 42.47it/s]\n"
     ]
    },
    {
     "name": "stdout",
     "output_type": "stream",
     "text": [
      "Number of classes in y_true: 12\n",
      "number of columns in y_score: 12\n"
     ]
    },
    {
     "name": "stderr",
     "output_type": "stream",
     "text": [
      "Iteration: 100%|██████████████████████████████████████████████████████████████████████████████████████████████████████████████████████████████████████████████████████████████████████████████████████████████| 35/35 [00:00<00:00, 42.53it/s]\n"
     ]
    },
    {
     "name": "stdout",
     "output_type": "stream",
     "text": [
      "Number of classes in y_true: 12\n",
      "number of columns in y_score: 12\n",
      "{'Train':  best_epoch_indx:54\n",
      " auc:0.9006748036530896 \n",
      " f1_micro:0.11222206877503109 \n",
      " f1_macro:0.060640082060425086 \n",
      " precision_micro:0.11222206877503108 \n",
      " precision_macro:0.10715513037957501 \n",
      " recall_micro:0.11222206877503108 \n",
      " recall_macro:0.5699909707551344 \n",
      ", 'Validation':  best_epoch_indx:54\n",
      " auc:0.817893140927347 \n",
      " f1_micro:0.09868257519264231 \n",
      " f1_macro:0.04312819886088013 \n",
      " precision_micro:0.09868257519264231 \n",
      " precision_macro:0.09447849898643479 \n",
      " recall_micro:0.09868257519264231 \n",
      " recall_macro:0.39541339452765123 \n",
      ", 'Test':  best_epoch_indx:54\n",
      " auc:0.8520033640220891 \n",
      " f1_micro:0.09753914988814318 \n",
      " f1_macro:0.047418918211658445 \n",
      " precision_micro:0.09753914988814318 \n",
      " precision_macro:0.09570542184040827 \n",
      " recall_micro:0.09753914988814318 \n",
      " recall_macro:0.4446758767790325 \n",
      "}\n",
      "=====Epoch 55\n",
      "Training...\n"
     ]
    },
    {
     "name": "stderr",
     "output_type": "stream",
     "text": [
      "Iteration: 100%|████████████████████████████████████████████████████████████████████████████████████████████████████████████████████████████████████████████████████████████████████████████████████████████| 283/283 [00:22<00:00, 12.39it/s]\n"
     ]
    },
    {
     "name": "stdout",
     "output_type": "stream",
     "text": [
      "Evaluating...\n"
     ]
    },
    {
     "name": "stderr",
     "output_type": "stream",
     "text": [
      "Iteration: 100%|████████████████████████████████████████████████████████████████████████████████████████████████████████████████████████████████████████████████████████████████████████████████████████████| 283/283 [00:07<00:00, 40.40it/s]\n"
     ]
    },
    {
     "name": "stdout",
     "output_type": "stream",
     "text": [
      "Number of classes in y_true: 12\n",
      "number of columns in y_score: 12\n"
     ]
    },
    {
     "name": "stderr",
     "output_type": "stream",
     "text": [
      "Iteration: 100%|██████████████████████████████████████████████████████████████████████████████████████████████████████████████████████████████████████████████████████████████████████████████████████████████| 32/32 [00:00<00:00, 41.88it/s]\n"
     ]
    },
    {
     "name": "stdout",
     "output_type": "stream",
     "text": [
      "Number of classes in y_true: 12\n",
      "number of columns in y_score: 12\n"
     ]
    },
    {
     "name": "stderr",
     "output_type": "stream",
     "text": [
      "Iteration: 100%|██████████████████████████████████████████████████████████████████████████████████████████████████████████████████████████████████████████████████████████████████████████████████████████████| 35/35 [00:00<00:00, 41.76it/s]\n"
     ]
    },
    {
     "name": "stdout",
     "output_type": "stream",
     "text": [
      "Number of classes in y_true: 12\n",
      "number of columns in y_score: 12\n",
      "{'Train':  best_epoch_indx:55\n",
      " auc:0.8989139072288088 \n",
      " f1_micro:0.05455047645352852 \n",
      " f1_macro:0.053422378271352856 \n",
      " precision_micro:0.05455047645352852 \n",
      " precision_macro:0.10558666123626918 \n",
      " recall_micro:0.05455047645352852 \n",
      " recall_macro:0.564732506510816 \n",
      ", 'Validation':  best_epoch_indx:55\n",
      " auc:0.8195173335527575 \n",
      " f1_micro:0.04300273427790206 \n",
      " f1_macro:0.03931043054133985 \n",
      " precision_micro:0.04300273427790206 \n",
      " precision_macro:0.09616730312082034 \n",
      " recall_micro:0.04300273427790206 \n",
      " recall_macro:0.42350473940939376 \n",
      ", 'Test':  best_epoch_indx:55\n",
      " auc:0.8414109203643876 \n",
      " f1_micro:0.04451901565995526 \n",
      " f1_macro:0.04116536313274579 \n",
      " precision_micro:0.04451901565995526 \n",
      " precision_macro:0.09633721366725186 \n",
      " recall_micro:0.04451901565995526 \n",
      " recall_macro:0.42904804145905695 \n",
      "}\n",
      "=====Epoch 56\n",
      "Training...\n"
     ]
    },
    {
     "name": "stderr",
     "output_type": "stream",
     "text": [
      "Iteration: 100%|████████████████████████████████████████████████████████████████████████████████████████████████████████████████████████████████████████████████████████████████████████████████████████████| 283/283 [00:24<00:00, 11.47it/s]\n"
     ]
    },
    {
     "name": "stdout",
     "output_type": "stream",
     "text": [
      "Evaluating...\n"
     ]
    },
    {
     "name": "stderr",
     "output_type": "stream",
     "text": [
      "Iteration: 100%|████████████████████████████████████████████████████████████████████████████████████████████████████████████████████████████████████████████████████████████████████████████████████████████| 283/283 [00:07<00:00, 40.32it/s]\n"
     ]
    },
    {
     "name": "stdout",
     "output_type": "stream",
     "text": [
      "Number of classes in y_true: 12\n",
      "number of columns in y_score: 12\n"
     ]
    },
    {
     "name": "stderr",
     "output_type": "stream",
     "text": [
      "Iteration: 100%|██████████████████████████████████████████████████████████████████████████████████████████████████████████████████████████████████████████████████████████████████████████████████████████████| 32/32 [00:00<00:00, 42.53it/s]\n"
     ]
    },
    {
     "name": "stdout",
     "output_type": "stream",
     "text": [
      "Number of classes in y_true: 12\n",
      "number of columns in y_score: 12\n"
     ]
    },
    {
     "name": "stderr",
     "output_type": "stream",
     "text": [
      "Iteration: 100%|██████████████████████████████████████████████████████████████████████████████████████████████████████████████████████████████████████████████████████████████████████████████████████████████| 35/35 [00:00<00:00, 42.46it/s]\n"
     ]
    },
    {
     "name": "stdout",
     "output_type": "stream",
     "text": [
      "Number of classes in y_true: 12\n",
      "number of columns in y_score: 12\n",
      "{'Train':  best_epoch_indx:56\n",
      " auc:0.8981496091715248 \n",
      " f1_micro:0.07134373705289325 \n",
      " f1_macro:0.05634577679251369 \n",
      " precision_micro:0.07134373705289325 \n",
      " precision_macro:0.10673741124049219 \n",
      " recall_micro:0.07134373705289325 \n",
      " recall_macro:0.5614634745253229 \n",
      ", 'Validation':  best_epoch_indx:56\n",
      " auc:0.8144887124600858 \n",
      " f1_micro:0.06810837683320904 \n",
      " f1_macro:0.04598202722672893 \n",
      " precision_micro:0.06810837683320904 \n",
      " precision_macro:0.10046044499932273 \n",
      " recall_micro:0.06810837683320904 \n",
      " recall_macro:0.439330130308708 \n",
      ", 'Test':  best_epoch_indx:56\n",
      " auc:0.8448819556436937 \n",
      " f1_micro:0.06666666666666667 \n",
      " f1_macro:0.04548208303269794 \n",
      " precision_micro:0.06666666666666667 \n",
      " precision_macro:0.09796394113626013 \n",
      " recall_micro:0.06666666666666667 \n",
      " recall_macro:0.4520397727173832 \n",
      "}\n",
      "=====Epoch 57\n",
      "Training...\n"
     ]
    },
    {
     "name": "stderr",
     "output_type": "stream",
     "text": [
      "Iteration: 100%|████████████████████████████████████████████████████████████████████████████████████████████████████████████████████████████████████████████████████████████████████████████████████████████| 283/283 [00:24<00:00, 11.46it/s]\n"
     ]
    },
    {
     "name": "stdout",
     "output_type": "stream",
     "text": [
      "Evaluating...\n"
     ]
    },
    {
     "name": "stderr",
     "output_type": "stream",
     "text": [
      "Iteration: 100%|████████████████████████████████████████████████████████████████████████████████████████████████████████████████████████████████████████████████████████████████████████████████████████████| 283/283 [00:06<00:00, 40.49it/s]\n"
     ]
    },
    {
     "name": "stdout",
     "output_type": "stream",
     "text": [
      "Number of classes in y_true: 12\n",
      "number of columns in y_score: 12\n"
     ]
    },
    {
     "name": "stderr",
     "output_type": "stream",
     "text": [
      "Iteration: 100%|██████████████████████████████████████████████████████████████████████████████████████████████████████████████████████████████████████████████████████████████████████████████████████████████| 32/32 [00:00<00:00, 42.06it/s]\n"
     ]
    },
    {
     "name": "stdout",
     "output_type": "stream",
     "text": [
      "Number of classes in y_true: 12\n",
      "number of columns in y_score: 12\n"
     ]
    },
    {
     "name": "stderr",
     "output_type": "stream",
     "text": [
      "Iteration: 100%|██████████████████████████████████████████████████████████████████████████████████████████████████████████████████████████████████████████████████████████████████████████████████████████████| 35/35 [00:00<00:00, 41.51it/s]\n"
     ]
    },
    {
     "name": "stdout",
     "output_type": "stream",
     "text": [
      "Number of classes in y_true: 12\n",
      "number of columns in y_score: 12\n",
      "{'Train':  best_epoch_indx:57\n",
      " auc:0.9043865961297557 \n",
      " f1_micro:0.061704184504902636 \n",
      " f1_macro:0.056757379530915246 \n",
      " precision_micro:0.061704184504902636 \n",
      " precision_macro:0.10785788305832705 \n",
      " recall_micro:0.061704184504902636 \n",
      " recall_macro:0.5918069546672448 \n",
      ", 'Validation':  best_epoch_indx:57\n",
      " auc:0.8210482511576657 \n",
      " f1_micro:0.059159830971911506 \n",
      " f1_macro:0.046044301708242724 \n",
      " precision_micro:0.059159830971911506 \n",
      " precision_macro:0.10039337336682352 \n",
      " recall_micro:0.059159830971911506 \n",
      " recall_macro:0.4635775652846314 \n",
      ", 'Test':  best_epoch_indx:57\n",
      " auc:0.8483470247918524 \n",
      " f1_micro:0.06263982102908278 \n",
      " f1_macro:0.04881203253295315 \n",
      " precision_micro:0.06263982102908278 \n",
      " precision_macro:0.10144347040948591 \n",
      " recall_micro:0.06263982102908278 \n",
      " recall_macro:0.4771082363609657 \n",
      "}\n",
      "=====Epoch 58\n",
      "Training...\n"
     ]
    },
    {
     "name": "stderr",
     "output_type": "stream",
     "text": [
      "Iteration: 100%|████████████████████████████████████████████████████████████████████████████████████████████████████████████████████████████████████████████████████████████████████████████████████████████| 283/283 [00:23<00:00, 11.88it/s]\n"
     ]
    },
    {
     "name": "stdout",
     "output_type": "stream",
     "text": [
      "Evaluating...\n"
     ]
    },
    {
     "name": "stderr",
     "output_type": "stream",
     "text": [
      "Iteration: 100%|████████████████████████████████████████████████████████████████████████████████████████████████████████████████████████████████████████████████████████████████████████████████████████████| 283/283 [00:07<00:00, 39.53it/s]\n"
     ]
    },
    {
     "name": "stdout",
     "output_type": "stream",
     "text": [
      "Number of classes in y_true: 12\n",
      "number of columns in y_score: 12\n"
     ]
    },
    {
     "name": "stderr",
     "output_type": "stream",
     "text": [
      "Iteration: 100%|██████████████████████████████████████████████████████████████████████████████████████████████████████████████████████████████████████████████████████████████████████████████████████████████| 32/32 [00:00<00:00, 40.25it/s]\n"
     ]
    },
    {
     "name": "stdout",
     "output_type": "stream",
     "text": [
      "Number of classes in y_true: 12\n",
      "number of columns in y_score: 12\n"
     ]
    },
    {
     "name": "stderr",
     "output_type": "stream",
     "text": [
      "Iteration: 100%|██████████████████████████████████████████████████████████████████████████████████████████████████████████████████████████████████████████████████████████████████████████████████████████████| 35/35 [00:00<00:00, 40.50it/s]\n"
     ]
    },
    {
     "name": "stdout",
     "output_type": "stream",
     "text": [
      "Number of classes in y_true: 12\n",
      "number of columns in y_score: 12\n",
      "{'Train':  best_epoch_indx:58\n",
      " auc:0.9049769420482803 \n",
      " f1_micro:0.08004419279105096 \n",
      " f1_macro:0.05820061881636703 \n",
      " precision_micro:0.08004419279105096 \n",
      " precision_macro:0.10699242362302754 \n",
      " recall_micro:0.08004419279105096 \n",
      " recall_macro:0.59417512194268 \n",
      ", 'Validation':  best_epoch_indx:58\n",
      " auc:0.8171086376927368 \n",
      " f1_micro:0.06885408898831717 \n",
      " f1_macro:0.04432780161028909 \n",
      " precision_micro:0.06885408898831717 \n",
      " precision_macro:0.09696478023634826 \n",
      " recall_micro:0.06885408898831717 \n",
      " recall_macro:0.44625720994096013 \n",
      ", 'Test':  best_epoch_indx:58\n",
      " auc:0.8488007928231125 \n",
      " f1_micro:0.07919463087248323 \n",
      " f1_macro:0.049457454575772254 \n",
      " precision_micro:0.07919463087248323 \n",
      " precision_macro:0.10130450296396502 \n",
      " recall_micro:0.07919463087248323 \n",
      " recall_macro:0.4393407324424404 \n",
      "}\n",
      "=====Epoch 59\n",
      "Training...\n"
     ]
    },
    {
     "name": "stderr",
     "output_type": "stream",
     "text": [
      "Iteration: 100%|████████████████████████████████████████████████████████████████████████████████████████████████████████████████████████████████████████████████████████████████████████████████████████████| 283/283 [00:22<00:00, 12.40it/s]\n"
     ]
    },
    {
     "name": "stdout",
     "output_type": "stream",
     "text": [
      "Evaluating...\n"
     ]
    },
    {
     "name": "stderr",
     "output_type": "stream",
     "text": [
      "Iteration: 100%|████████████████████████████████████████████████████████████████████████████████████████████████████████████████████████████████████████████████████████████████████████████████████████████| 283/283 [00:06<00:00, 40.54it/s]\n"
     ]
    },
    {
     "name": "stdout",
     "output_type": "stream",
     "text": [
      "Number of classes in y_true: 12\n",
      "number of columns in y_score: 12\n"
     ]
    },
    {
     "name": "stderr",
     "output_type": "stream",
     "text": [
      "Iteration: 100%|██████████████████████████████████████████████████████████████████████████████████████████████████████████████████████████████████████████████████████████████████████████████████████████████| 32/32 [00:00<00:00, 42.06it/s]\n"
     ]
    },
    {
     "name": "stdout",
     "output_type": "stream",
     "text": [
      "Number of classes in y_true: 12\n",
      "number of columns in y_score: 12\n"
     ]
    },
    {
     "name": "stderr",
     "output_type": "stream",
     "text": [
      "Iteration: 100%|██████████████████████████████████████████████████████████████████████████████████████████████████████████████████████████████████████████████████████████████████████████████████████████████| 35/35 [00:00<00:00, 41.77it/s]\n"
     ]
    },
    {
     "name": "stdout",
     "output_type": "stream",
     "text": [
      "Number of classes in y_true: 12\n",
      "number of columns in y_score: 12\n",
      "{'Train':  best_epoch_indx:59\n",
      " auc:0.9036607298926647 \n",
      " f1_micro:0.10490263775721585 \n",
      " f1_macro:0.07219901236099545 \n",
      " precision_micro:0.10490263775721585 \n",
      " precision_macro:0.11189579150366076 \n",
      " recall_micro:0.10490263775721585 \n",
      " recall_macro:0.5898846292581242 \n",
      ", 'Validation':  best_epoch_indx:59\n",
      " auc:0.8221350051157373 \n",
      " f1_micro:0.09594829729057917 \n",
      " f1_macro:0.05214259747287717 \n",
      " precision_micro:0.09594829729057917 \n",
      " precision_macro:0.09910302985480228 \n",
      " recall_micro:0.09594829729057917 \n",
      " recall_macro:0.42941552223974416 \n",
      ", 'Test':  best_epoch_indx:59\n",
      " auc:0.8405023426314967 \n",
      " f1_micro:0.09619686800894856 \n",
      " f1_macro:0.05562638395618758 \n",
      " precision_micro:0.09619686800894854 \n",
      " precision_macro:0.1010739169388068 \n",
      " recall_micro:0.09619686800894854 \n",
      " recall_macro:0.3974140642616882 \n",
      "}\n",
      "=====Epoch 60\n",
      "Training...\n"
     ]
    },
    {
     "name": "stderr",
     "output_type": "stream",
     "text": [
      "Iteration: 100%|████████████████████████████████████████████████████████████████████████████████████████████████████████████████████████████████████████████████████████████████████████████████████████████| 283/283 [00:22<00:00, 12.46it/s]\n"
     ]
    },
    {
     "name": "stdout",
     "output_type": "stream",
     "text": [
      "Evaluating...\n"
     ]
    },
    {
     "name": "stderr",
     "output_type": "stream",
     "text": [
      "Iteration: 100%|████████████████████████████████████████████████████████████████████████████████████████████████████████████████████████████████████████████████████████████████████████████████████████████| 283/283 [00:06<00:00, 41.26it/s]\n"
     ]
    },
    {
     "name": "stdout",
     "output_type": "stream",
     "text": [
      "Number of classes in y_true: 12\n",
      "number of columns in y_score: 12\n"
     ]
    },
    {
     "name": "stderr",
     "output_type": "stream",
     "text": [
      "Iteration: 100%|██████████████████████████████████████████████████████████████████████████████████████████████████████████████████████████████████████████████████████████████████████████████████████████████| 32/32 [00:00<00:00, 42.57it/s]\n"
     ]
    },
    {
     "name": "stdout",
     "output_type": "stream",
     "text": [
      "Number of classes in y_true: 12\n",
      "number of columns in y_score: 12\n"
     ]
    },
    {
     "name": "stderr",
     "output_type": "stream",
     "text": [
      "Iteration: 100%|██████████████████████████████████████████████████████████████████████████████████████████████████████████████████████████████████████████████████████████████████████████████████████████████| 35/35 [00:00<00:00, 41.83it/s]\n"
     ]
    },
    {
     "name": "stdout",
     "output_type": "stream",
     "text": [
      "Number of classes in y_true: 12\n",
      "number of columns in y_score: 12\n",
      "{'Train':  best_epoch_indx:60\n",
      " auc:0.9092255560362348 \n",
      " f1_micro:0.04217649495925977 \n",
      " f1_macro:0.05525123238289404 \n",
      " precision_micro:0.04217649495925977 \n",
      " precision_macro:0.1100146757113406 \n",
      " recall_micro:0.04217649495925977 \n",
      " recall_macro:0.5876378448230004 \n",
      ", 'Validation':  best_epoch_indx:60\n",
      " auc:0.8218387669174051 \n",
      " f1_micro:0.03753417847377579 \n",
      " f1_macro:0.042817656717416754 \n",
      " precision_micro:0.03753417847377579 \n",
      " precision_macro:0.10095848581758139 \n",
      " recall_micro:0.03753417847377579 \n",
      " recall_macro:0.4623928451133941 \n",
      ", 'Test':  best_epoch_indx:60\n",
      " auc:0.8550722908175957 \n",
      " f1_micro:0.0407158836689038 \n",
      " f1_macro:0.04385432044675706 \n",
      " precision_micro:0.0407158836689038 \n",
      " precision_macro:0.10143527611154703 \n",
      " recall_micro:0.0407158836689038 \n",
      " recall_macro:0.42465793904006116 \n",
      "}\n",
      "=====Epoch 61\n",
      "Training...\n"
     ]
    },
    {
     "name": "stderr",
     "output_type": "stream",
     "text": [
      "Iteration: 100%|████████████████████████████████████████████████████████████████████████████████████████████████████████████████████████████████████████████████████████████████████████████████████████████| 283/283 [00:23<00:00, 12.01it/s]\n"
     ]
    },
    {
     "name": "stdout",
     "output_type": "stream",
     "text": [
      "Evaluating...\n"
     ]
    },
    {
     "name": "stderr",
     "output_type": "stream",
     "text": [
      "Iteration: 100%|████████████████████████████████████████████████████████████████████████████████████████████████████████████████████████████████████████████████████████████████████████████████████████████| 283/283 [00:07<00:00, 38.30it/s]\n"
     ]
    },
    {
     "name": "stdout",
     "output_type": "stream",
     "text": [
      "Number of classes in y_true: 12\n",
      "number of columns in y_score: 12\n"
     ]
    },
    {
     "name": "stderr",
     "output_type": "stream",
     "text": [
      "Iteration: 100%|██████████████████████████████████████████████████████████████████████████████████████████████████████████████████████████████████████████████████████████████████████████████████████████████| 32/32 [00:00<00:00, 39.84it/s]\n"
     ]
    },
    {
     "name": "stdout",
     "output_type": "stream",
     "text": [
      "Number of classes in y_true: 12\n",
      "number of columns in y_score: 12\n"
     ]
    },
    {
     "name": "stderr",
     "output_type": "stream",
     "text": [
      "Iteration: 100%|██████████████████████████████████████████████████████████████████████████████████████████████████████████████████████████████████████████████████████████████████████████████████████████████| 35/35 [00:00<00:00, 39.31it/s]\n"
     ]
    },
    {
     "name": "stdout",
     "output_type": "stream",
     "text": [
      "Number of classes in y_true: 12\n",
      "number of columns in y_score: 12\n",
      "{'Train':  best_epoch_indx:61\n",
      " auc:0.9065268428551425 \n",
      " f1_micro:0.050296920314873636 \n",
      " f1_macro:0.05646564389016628 \n",
      " precision_micro:0.050296920314873636 \n",
      " precision_macro:0.10959808970481073 \n",
      " recall_micro:0.050296920314873636 \n",
      " recall_macro:0.5839272754257429 \n",
      ", 'Validation':  best_epoch_indx:61\n",
      " auc:0.8135608643215078 \n",
      " f1_micro:0.04325130499627144 \n",
      " f1_macro:0.041931467361761364 \n",
      " precision_micro:0.04325130499627144 \n",
      " precision_macro:0.10301377518627507 \n",
      " recall_micro:0.04325130499627144 \n",
      " recall_macro:0.4416441578266923 \n",
      ", 'Test':  best_epoch_indx:61\n",
      " auc:0.8538830437655438 \n",
      " f1_micro:0.04541387024608501 \n",
      " f1_macro:0.04361980026764856 \n",
      " precision_micro:0.04541387024608501 \n",
      " precision_macro:0.10112868459775846 \n",
      " recall_micro:0.04541387024608501 \n",
      " recall_macro:0.4072568069212888 \n",
      "}\n",
      "=====Epoch 62\n",
      "Training...\n"
     ]
    },
    {
     "name": "stderr",
     "output_type": "stream",
     "text": [
      "Iteration: 100%|████████████████████████████████████████████████████████████████████████████████████████████████████████████████████████████████████████████████████████████████████████████████████████████| 283/283 [00:22<00:00, 12.31it/s]\n"
     ]
    },
    {
     "name": "stdout",
     "output_type": "stream",
     "text": [
      "Evaluating...\n"
     ]
    },
    {
     "name": "stderr",
     "output_type": "stream",
     "text": [
      "Iteration: 100%|████████████████████████████████████████████████████████████████████████████████████████████████████████████████████████████████████████████████████████████████████████████████████████████| 283/283 [00:07<00:00, 39.88it/s]\n"
     ]
    },
    {
     "name": "stdout",
     "output_type": "stream",
     "text": [
      "Number of classes in y_true: 12\n",
      "number of columns in y_score: 12\n"
     ]
    },
    {
     "name": "stderr",
     "output_type": "stream",
     "text": [
      "Iteration: 100%|██████████████████████████████████████████████████████████████████████████████████████████████████████████████████████████████████████████████████████████████████████████████████████████████| 32/32 [00:00<00:00, 42.53it/s]\n"
     ]
    },
    {
     "name": "stdout",
     "output_type": "stream",
     "text": [
      "Number of classes in y_true: 12\n",
      "number of columns in y_score: 12\n"
     ]
    },
    {
     "name": "stderr",
     "output_type": "stream",
     "text": [
      "Iteration: 100%|██████████████████████████████████████████████████████████████████████████████████████████████████████████████████████████████████████████████████████████████████████████████████████████████| 35/35 [00:00<00:00, 41.78it/s]\n"
     ]
    },
    {
     "name": "stdout",
     "output_type": "stream",
     "text": [
      "Number of classes in y_true: 12\n",
      "number of columns in y_score: 12\n",
      "{'Train':  best_epoch_indx:62\n",
      " auc:0.9067744805917908 \n",
      " f1_micro:0.10352161303687336 \n",
      " f1_macro:0.06733965310431152 \n",
      " precision_micro:0.10352161303687336 \n",
      " precision_macro:0.10952116343313822 \n",
      " recall_micro:0.10352161303687336 \n",
      " recall_macro:0.5953454701758824 \n",
      ", 'Validation':  best_epoch_indx:62\n",
      " auc:0.8174166544250693 \n",
      " f1_micro:0.09246830723340792 \n",
      " f1_macro:0.05221717971324392 \n",
      " precision_micro:0.0924683072334079 \n",
      " precision_macro:0.10031381560744344 \n",
      " recall_micro:0.0924683072334079 \n",
      " recall_macro:0.44145742743762373 \n",
      ", 'Test':  best_epoch_indx:62\n",
      " auc:0.8557618384530449 \n",
      " f1_micro:0.0935123042505593 \n",
      " f1_macro:0.055015592170729787 \n",
      " precision_micro:0.09351230425055929 \n",
      " precision_macro:0.10104957049476132 \n",
      " recall_micro:0.09351230425055929 \n",
      " recall_macro:0.4299680559553525 \n",
      "}\n",
      "=====Epoch 63\n",
      "Training...\n"
     ]
    },
    {
     "name": "stderr",
     "output_type": "stream",
     "text": [
      "Iteration: 100%|████████████████████████████████████████████████████████████████████████████████████████████████████████████████████████████████████████████████████████████████████████████████████████████| 283/283 [00:22<00:00, 12.51it/s]\n"
     ]
    },
    {
     "name": "stdout",
     "output_type": "stream",
     "text": [
      "Evaluating...\n"
     ]
    },
    {
     "name": "stderr",
     "output_type": "stream",
     "text": [
      "Iteration: 100%|████████████████████████████████████████████████████████████████████████████████████████████████████████████████████████████████████████████████████████████████████████████████████████████| 283/283 [00:07<00:00, 38.71it/s]\n"
     ]
    },
    {
     "name": "stdout",
     "output_type": "stream",
     "text": [
      "Number of classes in y_true: 12\n",
      "number of columns in y_score: 12\n"
     ]
    },
    {
     "name": "stderr",
     "output_type": "stream",
     "text": [
      "Iteration: 100%|██████████████████████████████████████████████████████████████████████████████████████████████████████████████████████████████████████████████████████████████████████████████████████████████| 32/32 [00:00<00:00, 41.22it/s]\n"
     ]
    },
    {
     "name": "stdout",
     "output_type": "stream",
     "text": [
      "Number of classes in y_true: 12\n",
      "number of columns in y_score: 12\n"
     ]
    },
    {
     "name": "stderr",
     "output_type": "stream",
     "text": [
      "Iteration: 100%|██████████████████████████████████████████████████████████████████████████████████████████████████████████████████████████████████████████████████████████████████████████████████████████████| 35/35 [00:00<00:00, 41.75it/s]\n"
     ]
    },
    {
     "name": "stdout",
     "output_type": "stream",
     "text": [
      "Number of classes in y_true: 12\n",
      "number of columns in y_score: 12\n",
      "{'Train':  best_epoch_indx:63\n",
      " auc:0.9097925166408378 \n",
      " f1_micro:0.060709846706256045 \n",
      " f1_macro:0.05272521839239483 \n",
      " precision_micro:0.060709846706256045 \n",
      " precision_macro:0.10490190905464881 \n",
      " recall_micro:0.060709846706256045 \n",
      " recall_macro:0.5897639951988546 \n",
      ", 'Validation':  best_epoch_indx:63\n",
      " auc:0.8222717804464332 \n",
      " f1_micro:0.05418841660452399 \n",
      " f1_macro:0.040271497698275614 \n",
      " precision_micro:0.05418841660452399 \n",
      " precision_macro:0.09706350832155818 \n",
      " recall_micro:0.05418841660452399 \n",
      " recall_macro:0.4569194860535189 \n",
      ", 'Test':  best_epoch_indx:63\n",
      " auc:0.8720559113077629 \n",
      " f1_micro:0.056375838926174496 \n",
      " f1_macro:0.048776682758386446 \n",
      " precision_micro:0.056375838926174496 \n",
      " precision_macro:0.10213838387724132 \n",
      " recall_micro:0.056375838926174496 \n",
      " recall_macro:0.550527216656988 \n",
      "}\n",
      "=====Epoch 64\n",
      "Training...\n"
     ]
    },
    {
     "name": "stderr",
     "output_type": "stream",
     "text": [
      "Iteration: 100%|████████████████████████████████████████████████████████████████████████████████████████████████████████████████████████████████████████████████████████████████████████████████████████████| 283/283 [00:22<00:00, 12.47it/s]\n"
     ]
    },
    {
     "name": "stdout",
     "output_type": "stream",
     "text": [
      "Evaluating...\n"
     ]
    },
    {
     "name": "stderr",
     "output_type": "stream",
     "text": [
      "Iteration: 100%|████████████████████████████████████████████████████████████████████████████████████████████████████████████████████████████████████████████████████████████████████████████████████████████| 283/283 [00:06<00:00, 41.36it/s]\n"
     ]
    },
    {
     "name": "stdout",
     "output_type": "stream",
     "text": [
      "Number of classes in y_true: 12\n",
      "number of columns in y_score: 12\n"
     ]
    },
    {
     "name": "stderr",
     "output_type": "stream",
     "text": [
      "Iteration: 100%|██████████████████████████████████████████████████████████████████████████████████████████████████████████████████████████████████████████████████████████████████████████████████████████████| 32/32 [00:00<00:00, 42.43it/s]\n"
     ]
    },
    {
     "name": "stdout",
     "output_type": "stream",
     "text": [
      "Number of classes in y_true: 12\n",
      "number of columns in y_score: 12\n"
     ]
    },
    {
     "name": "stderr",
     "output_type": "stream",
     "text": [
      "Iteration: 100%|██████████████████████████████████████████████████████████████████████████████████████████████████████████████████████████████████████████████████████████████████████████████████████████████| 35/35 [00:00<00:00, 42.42it/s]\n"
     ]
    },
    {
     "name": "stdout",
     "output_type": "stream",
     "text": [
      "Number of classes in y_true: 12\n",
      "number of columns in y_score: 12\n",
      "{'Train':  best_epoch_indx:64\n",
      " auc:0.9102286735614519 \n",
      " f1_micro:0.0476177323574092 \n",
      " f1_macro:0.05487582321125667 \n",
      " precision_micro:0.047617732357409195 \n",
      " precision_macro:0.10792066333128346 \n",
      " recall_micro:0.047617732357409195 \n",
      " recall_macro:0.614919216543032 \n",
      ", 'Validation':  best_epoch_indx:64\n",
      " auc:0.8228916435722686 \n",
      " f1_micro:0.04151130996768581 \n",
      " f1_macro:0.04133931041511909 \n",
      " precision_micro:0.04151130996768581 \n",
      " precision_macro:0.09926153513445357 \n",
      " recall_micro:0.04151130996768581 \n",
      " recall_macro:0.45105470772862816 \n",
      ", 'Test':  best_epoch_indx:64\n",
      " auc:0.8638478775031995 \n",
      " f1_micro:0.042729306487695747 \n",
      " f1_macro:0.044293505010747046 \n",
      " precision_micro:0.042729306487695747 \n",
      " precision_macro:0.10118597475435508 \n",
      " recall_micro:0.042729306487695747 \n",
      " recall_macro:0.4712207043752386 \n",
      "}\n",
      "=====Epoch 65\n",
      "Training...\n"
     ]
    },
    {
     "name": "stderr",
     "output_type": "stream",
     "text": [
      "Iteration: 100%|████████████████████████████████████████████████████████████████████████████████████████████████████████████████████████████████████████████████████████████████████████████████████████████| 283/283 [00:22<00:00, 12.56it/s]\n"
     ]
    },
    {
     "name": "stdout",
     "output_type": "stream",
     "text": [
      "Evaluating...\n"
     ]
    },
    {
     "name": "stderr",
     "output_type": "stream",
     "text": [
      "Iteration: 100%|████████████████████████████████████████████████████████████████████████████████████████████████████████████████████████████████████████████████████████████████████████████████████████████| 283/283 [00:06<00:00, 40.89it/s]\n"
     ]
    },
    {
     "name": "stdout",
     "output_type": "stream",
     "text": [
      "Number of classes in y_true: 12\n",
      "number of columns in y_score: 12\n"
     ]
    },
    {
     "name": "stderr",
     "output_type": "stream",
     "text": [
      "Iteration: 100%|██████████████████████████████████████████████████████████████████████████████████████████████████████████████████████████████████████████████████████████████████████████████████████████████| 32/32 [00:00<00:00, 41.77it/s]\n"
     ]
    },
    {
     "name": "stdout",
     "output_type": "stream",
     "text": [
      "Number of classes in y_true: 12\n",
      "number of columns in y_score: 12\n"
     ]
    },
    {
     "name": "stderr",
     "output_type": "stream",
     "text": [
      "Iteration: 100%|██████████████████████████████████████████████████████████████████████████████████████████████████████████████████████████████████████████████████████████████████████████████████████████████| 35/35 [00:00<00:00, 41.72it/s]\n"
     ]
    },
    {
     "name": "stdout",
     "output_type": "stream",
     "text": [
      "Number of classes in y_true: 12\n",
      "number of columns in y_score: 12\n",
      "{'Train':  best_epoch_indx:65\n",
      " auc:0.9069918814603765 \n",
      " f1_micro:0.07051512222068775 \n",
      " f1_macro:0.05965892386672869 \n",
      " precision_micro:0.07051512222068775 \n",
      " precision_macro:0.10866977567051535 \n",
      " recall_micro:0.07051512222068775 \n",
      " recall_macro:0.60292647582672 \n",
      ", 'Validation':  best_epoch_indx:65\n",
      " auc:0.8068580939580012 \n",
      " f1_micro:0.062391250310713395 \n",
      " f1_macro:0.0447362241956837 \n",
      " precision_micro:0.062391250310713395 \n",
      " precision_macro:0.0977707865288427 \n",
      " recall_micro:0.062391250310713395 \n",
      " recall_macro:0.4192153782859884 \n",
      ", 'Test':  best_epoch_indx:65\n",
      " auc:0.850254050387268 \n",
      " f1_micro:0.06510067114093959 \n",
      " f1_macro:0.047028797469811486 \n",
      " precision_micro:0.06510067114093959 \n",
      " precision_macro:0.10182329118236173 \n",
      " recall_micro:0.06510067114093959 \n",
      " recall_macro:0.39567839321521553 \n",
      "}\n",
      "=====Epoch 66\n",
      "Training...\n"
     ]
    },
    {
     "name": "stderr",
     "output_type": "stream",
     "text": [
      "Iteration: 100%|████████████████████████████████████████████████████████████████████████████████████████████████████████████████████████████████████████████████████████████████████████████████████████████| 283/283 [00:22<00:00, 12.58it/s]\n"
     ]
    },
    {
     "name": "stdout",
     "output_type": "stream",
     "text": [
      "Evaluating...\n"
     ]
    },
    {
     "name": "stderr",
     "output_type": "stream",
     "text": [
      "Iteration: 100%|████████████████████████████████████████████████████████████████████████████████████████████████████████████████████████████████████████████████████████████████████████████████████████████| 283/283 [00:06<00:00, 41.23it/s]\n"
     ]
    },
    {
     "name": "stdout",
     "output_type": "stream",
     "text": [
      "Number of classes in y_true: 12\n",
      "number of columns in y_score: 12\n"
     ]
    },
    {
     "name": "stderr",
     "output_type": "stream",
     "text": [
      "Iteration: 100%|██████████████████████████████████████████████████████████████████████████████████████████████████████████████████████████████████████████████████████████████████████████████████████████████| 32/32 [00:00<00:00, 42.42it/s]\n"
     ]
    },
    {
     "name": "stdout",
     "output_type": "stream",
     "text": [
      "Number of classes in y_true: 12\n",
      "number of columns in y_score: 12\n"
     ]
    },
    {
     "name": "stderr",
     "output_type": "stream",
     "text": [
      "Iteration: 100%|██████████████████████████████████████████████████████████████████████████████████████████████████████████████████████████████████████████████████████████████████████████████████████████████| 35/35 [00:00<00:00, 42.13it/s]\n"
     ]
    },
    {
     "name": "stdout",
     "output_type": "stream",
     "text": [
      "Number of classes in y_true: 12\n",
      "number of columns in y_score: 12\n",
      "{'Train':  best_epoch_indx:66\n",
      " auc:0.9084661336827936 \n",
      " f1_micro:0.07744786631680707 \n",
      " f1_macro:0.061911930169662045 \n",
      " precision_micro:0.07744786631680707 \n",
      " precision_macro:0.10852169959756035 \n",
      " recall_micro:0.07744786631680707 \n",
      " recall_macro:0.5950258020825728 \n",
      ", 'Validation':  best_epoch_indx:66\n",
      " auc:0.8192112817193071 \n",
      " f1_micro:0.06810837683320904 \n",
      " f1_macro:0.04889728549913302 \n",
      " precision_micro:0.06810837683320904 \n",
      " precision_macro:0.09932776740410414 \n",
      " recall_micro:0.06810837683320904 \n",
      " recall_macro:0.4680080147324867 \n",
      ", 'Test':  best_epoch_indx:66\n",
      " auc:0.8507445957661949 \n",
      " f1_micro:0.07046979865771812 \n",
      " f1_macro:0.049536830973147296 \n",
      " precision_micro:0.07046979865771812 \n",
      " precision_macro:0.1005297485798462 \n",
      " recall_micro:0.07046979865771812 \n",
      " recall_macro:0.4519436504662751 \n",
      "}\n",
      "=====Epoch 67\n",
      "Training...\n"
     ]
    },
    {
     "name": "stderr",
     "output_type": "stream",
     "text": [
      "Iteration: 100%|████████████████████████████████████████████████████████████████████████████████████████████████████████████████████████████████████████████████████████████████████████████████████████████| 283/283 [00:23<00:00, 12.07it/s]\n"
     ]
    },
    {
     "name": "stdout",
     "output_type": "stream",
     "text": [
      "Evaluating...\n"
     ]
    },
    {
     "name": "stderr",
     "output_type": "stream",
     "text": [
      "Iteration: 100%|████████████████████████████████████████████████████████████████████████████████████████████████████████████████████████████████████████████████████████████████████████████████████████████| 283/283 [00:07<00:00, 39.22it/s]\n"
     ]
    },
    {
     "name": "stdout",
     "output_type": "stream",
     "text": [
      "Number of classes in y_true: 12\n",
      "number of columns in y_score: 12\n"
     ]
    },
    {
     "name": "stderr",
     "output_type": "stream",
     "text": [
      "Iteration: 100%|██████████████████████████████████████████████████████████████████████████████████████████████████████████████████████████████████████████████████████████████████████████████████████████████| 32/32 [00:00<00:00, 39.48it/s]\n"
     ]
    },
    {
     "name": "stdout",
     "output_type": "stream",
     "text": [
      "Number of classes in y_true: 12\n",
      "number of columns in y_score: 12\n"
     ]
    },
    {
     "name": "stderr",
     "output_type": "stream",
     "text": [
      "Iteration: 100%|██████████████████████████████████████████████████████████████████████████████████████████████████████████████████████████████████████████████████████████████████████████████████████████████| 35/35 [00:00<00:00, 39.67it/s]\n"
     ]
    },
    {
     "name": "stdout",
     "output_type": "stream",
     "text": [
      "Number of classes in y_true: 12\n",
      "number of columns in y_score: 12\n",
      "{'Train':  best_epoch_indx:67\n",
      " auc:0.9172196561649409 \n",
      " f1_micro:0.06869216958983566 \n",
      " f1_macro:0.06472871003050716 \n",
      " precision_micro:0.06869216958983566 \n",
      " precision_macro:0.1122255817079778 \n",
      " recall_micro:0.06869216958983566 \n",
      " recall_macro:0.6151152242018546 \n",
      ", 'Validation':  best_epoch_indx:67\n",
      " auc:0.8291794087787067 \n",
      " f1_micro:0.062391250310713395 \n",
      " f1_macro:0.05033933883642854 \n",
      " precision_micro:0.062391250310713395 \n",
      " precision_macro:0.10354178862058387 \n",
      " recall_micro:0.062391250310713395 \n",
      " recall_macro:0.4694619083858997 \n",
      ", 'Test':  best_epoch_indx:67\n",
      " auc:0.8588652483183322 \n",
      " f1_micro:0.06040268456375839 \n",
      " f1_macro:0.05174255218956233 \n",
      " precision_micro:0.06040268456375839 \n",
      " precision_macro:0.10240389613590405 \n",
      " recall_micro:0.06040268456375839 \n",
      " recall_macro:0.4639692473706472 \n",
      "}\n",
      "=====Epoch 68\n",
      "Training...\n"
     ]
    },
    {
     "name": "stderr",
     "output_type": "stream",
     "text": [
      "Iteration: 100%|████████████████████████████████████████████████████████████████████████████████████████████████████████████████████████████████████████████████████████████████████████████████████████████| 283/283 [00:22<00:00, 12.31it/s]\n"
     ]
    },
    {
     "name": "stdout",
     "output_type": "stream",
     "text": [
      "Evaluating...\n"
     ]
    },
    {
     "name": "stderr",
     "output_type": "stream",
     "text": [
      "Iteration: 100%|████████████████████████████████████████████████████████████████████████████████████████████████████████████████████████████████████████████████████████████████████████████████████████████| 283/283 [00:06<00:00, 41.23it/s]\n"
     ]
    },
    {
     "name": "stdout",
     "output_type": "stream",
     "text": [
      "Number of classes in y_true: 12\n",
      "number of columns in y_score: 12\n"
     ]
    },
    {
     "name": "stderr",
     "output_type": "stream",
     "text": [
      "Iteration: 100%|██████████████████████████████████████████████████████████████████████████████████████████████████████████████████████████████████████████████████████████████████████████████████████████████| 32/32 [00:00<00:00, 42.38it/s]\n"
     ]
    },
    {
     "name": "stdout",
     "output_type": "stream",
     "text": [
      "Number of classes in y_true: 12\n",
      "number of columns in y_score: 12\n"
     ]
    },
    {
     "name": "stderr",
     "output_type": "stream",
     "text": [
      "Iteration: 100%|██████████████████████████████████████████████████████████████████████████████████████████████████████████████████████████████████████████████████████████████████████████████████████████████| 35/35 [00:00<00:00, 42.25it/s]\n"
     ]
    },
    {
     "name": "stdout",
     "output_type": "stream",
     "text": [
      "Number of classes in y_true: 12\n",
      "number of columns in y_score: 12\n",
      "{'Train':  best_epoch_indx:68\n",
      " auc:0.9168973290182045 \n",
      " f1_micro:0.07965750586935506 \n",
      " f1_macro:0.06462472212763681 \n",
      " precision_micro:0.07965750586935506 \n",
      " precision_macro:0.11100676352751963 \n",
      " recall_micro:0.07965750586935506 \n",
      " recall_macro:0.6173229350106602 \n",
      ", 'Validation':  best_epoch_indx:68\n",
      " auc:0.8333503253785489 \n",
      " f1_micro:0.06835694755157842 \n",
      " f1_macro:0.04577289647416619 \n",
      " precision_micro:0.06835694755157842 \n",
      " precision_macro:0.09919961607535617 \n",
      " recall_micro:0.06835694755157842 \n",
      " recall_macro:0.45354731302106505 \n",
      ", 'Test':  best_epoch_indx:68\n",
      " auc:0.8601011724496295 \n",
      " f1_micro:0.07606263982102908 \n",
      " f1_macro:0.05372192476716716 \n",
      " precision_micro:0.07606263982102908 \n",
      " precision_macro:0.10349211111300928 \n",
      " recall_micro:0.07606263982102908 \n",
      " recall_macro:0.4709131447495394 \n",
      "}\n",
      "=====Epoch 69\n",
      "Training...\n"
     ]
    },
    {
     "name": "stderr",
     "output_type": "stream",
     "text": [
      "Iteration: 100%|████████████████████████████████████████████████████████████████████████████████████████████████████████████████████████████████████████████████████████████████████████████████████████████| 283/283 [00:22<00:00, 12.62it/s]\n"
     ]
    },
    {
     "name": "stdout",
     "output_type": "stream",
     "text": [
      "Evaluating...\n"
     ]
    },
    {
     "name": "stderr",
     "output_type": "stream",
     "text": [
      "Iteration: 100%|████████████████████████████████████████████████████████████████████████████████████████████████████████████████████████████████████████████████████████████████████████████████████████████| 283/283 [00:06<00:00, 40.77it/s]\n"
     ]
    },
    {
     "name": "stdout",
     "output_type": "stream",
     "text": [
      "Number of classes in y_true: 12\n",
      "number of columns in y_score: 12\n"
     ]
    },
    {
     "name": "stderr",
     "output_type": "stream",
     "text": [
      "Iteration: 100%|██████████████████████████████████████████████████████████████████████████████████████████████████████████████████████████████████████████████████████████████████████████████████████████████| 32/32 [00:00<00:00, 42.02it/s]\n"
     ]
    },
    {
     "name": "stdout",
     "output_type": "stream",
     "text": [
      "Number of classes in y_true: 12\n",
      "number of columns in y_score: 12\n"
     ]
    },
    {
     "name": "stderr",
     "output_type": "stream",
     "text": [
      "Iteration: 100%|██████████████████████████████████████████████████████████████████████████████████████████████████████████████████████████████████████████████████████████████████████████████████████████████| 35/35 [00:00<00:00, 41.89it/s]\n"
     ]
    },
    {
     "name": "stdout",
     "output_type": "stream",
     "text": [
      "Number of classes in y_true: 12\n",
      "number of columns in y_score: 12\n",
      "{'Train':  best_epoch_indx:69\n",
      " auc:0.9159190274659537 \n",
      " f1_micro:0.11824333655572435 \n",
      " f1_macro:0.06961190003976495 \n",
      " precision_micro:0.11824333655572435 \n",
      " precision_macro:0.10987647403391719 \n",
      " recall_micro:0.11824333655572435 \n",
      " recall_macro:0.6115746066302016 \n",
      ", 'Validation':  best_epoch_indx:69\n",
      " auc:0.8377644486028655 \n",
      " f1_micro:0.10290827740492171 \n",
      " f1_macro:0.05026067258855942 \n",
      " precision_micro:0.1029082774049217 \n",
      " precision_macro:0.09832606159709506 \n",
      " recall_micro:0.1029082774049217 \n",
      " recall_macro:0.43870390932516173 \n",
      ", 'Test':  best_epoch_indx:69\n",
      " auc:0.8601748496669952 \n",
      " f1_micro:0.1076062639821029 \n",
      " f1_macro:0.058207094162813215 \n",
      " precision_micro:0.1076062639821029 \n",
      " precision_macro:0.1019462262727968 \n",
      " recall_micro:0.1076062639821029 \n",
      " recall_macro:0.5272248531676573 \n",
      "}\n",
      "=====Epoch 70\n",
      "Training...\n"
     ]
    },
    {
     "name": "stderr",
     "output_type": "stream",
     "text": [
      "Iteration: 100%|████████████████████████████████████████████████████████████████████████████████████████████████████████████████████████████████████████████████████████████████████████████████████████████| 283/283 [00:22<00:00, 12.60it/s]\n"
     ]
    },
    {
     "name": "stdout",
     "output_type": "stream",
     "text": [
      "Evaluating...\n"
     ]
    },
    {
     "name": "stderr",
     "output_type": "stream",
     "text": [
      "Iteration: 100%|████████████████████████████████████████████████████████████████████████████████████████████████████████████████████████████████████████████████████████████████████████████████████████████| 283/283 [00:06<00:00, 41.09it/s]\n"
     ]
    },
    {
     "name": "stdout",
     "output_type": "stream",
     "text": [
      "Number of classes in y_true: 12\n",
      "number of columns in y_score: 12\n"
     ]
    },
    {
     "name": "stderr",
     "output_type": "stream",
     "text": [
      "Iteration: 100%|██████████████████████████████████████████████████████████████████████████████████████████████████████████████████████████████████████████████████████████████████████████████████████████████| 32/32 [00:00<00:00, 42.33it/s]\n"
     ]
    },
    {
     "name": "stdout",
     "output_type": "stream",
     "text": [
      "Number of classes in y_true: 12\n",
      "number of columns in y_score: 12\n"
     ]
    },
    {
     "name": "stderr",
     "output_type": "stream",
     "text": [
      "Iteration: 100%|██████████████████████████████████████████████████████████████████████████████████████████████████████████████████████████████████████████████████████████████████████████████████████████████| 35/35 [00:00<00:00, 41.89it/s]\n"
     ]
    },
    {
     "name": "stdout",
     "output_type": "stream",
     "text": [
      "Number of classes in y_true: 12\n",
      "number of columns in y_score: 12\n",
      "{'Train':  best_epoch_indx:70\n",
      " auc:0.9179303090941453 \n",
      " f1_micro:0.06543295124982737 \n",
      " f1_macro:0.06697524255205069 \n",
      " precision_micro:0.06543295124982737 \n",
      " precision_macro:0.11466763245476132 \n",
      " recall_micro:0.06543295124982737 \n",
      " recall_macro:0.6061581598685487 \n",
      ", 'Validation':  best_epoch_indx:70\n",
      " auc:0.8442352225299385 \n",
      " f1_micro:0.0571712652249565 \n",
      " f1_macro:0.047500709050664065 \n",
      " precision_micro:0.0571712652249565 \n",
      " precision_macro:0.1025003119032194 \n",
      " recall_micro:0.0571712652249565 \n",
      " recall_macro:0.45712572698712367 \n",
      ", 'Test':  best_epoch_indx:70\n",
      " auc:0.863974544564814 \n",
      " f1_micro:0.056823266219239374 \n",
      " f1_macro:0.052288432409886974 \n",
      " precision_micro:0.056823266219239374 \n",
      " precision_macro:0.10551834029123767 \n",
      " recall_micro:0.056823266219239374 \n",
      " recall_macro:0.45721671225778465 \n",
      "}\n",
      "=====Epoch 71\n",
      "Training...\n"
     ]
    },
    {
     "name": "stderr",
     "output_type": "stream",
     "text": [
      "Iteration: 100%|████████████████████████████████████████████████████████████████████████████████████████████████████████████████████████████████████████████████████████████████████████████████████████████| 283/283 [00:22<00:00, 12.82it/s]\n"
     ]
    },
    {
     "name": "stdout",
     "output_type": "stream",
     "text": [
      "Evaluating...\n"
     ]
    },
    {
     "name": "stderr",
     "output_type": "stream",
     "text": [
      "Iteration: 100%|████████████████████████████████████████████████████████████████████████████████████████████████████████████████████████████████████████████████████████████████████████████████████████████| 283/283 [00:07<00:00, 38.78it/s]\n"
     ]
    },
    {
     "name": "stdout",
     "output_type": "stream",
     "text": [
      "Number of classes in y_true: 12\n",
      "number of columns in y_score: 12\n"
     ]
    },
    {
     "name": "stderr",
     "output_type": "stream",
     "text": [
      "Iteration: 100%|██████████████████████████████████████████████████████████████████████████████████████████████████████████████████████████████████████████████████████████████████████████████████████████████| 32/32 [00:00<00:00, 39.75it/s]\n"
     ]
    },
    {
     "name": "stdout",
     "output_type": "stream",
     "text": [
      "Number of classes in y_true: 12\n",
      "number of columns in y_score: 12\n"
     ]
    },
    {
     "name": "stderr",
     "output_type": "stream",
     "text": [
      "Iteration: 100%|██████████████████████████████████████████████████████████████████████████████████████████████████████████████████████████████████████████████████████████████████████████████████████████████| 35/35 [00:00<00:00, 39.32it/s]\n"
     ]
    },
    {
     "name": "stdout",
     "output_type": "stream",
     "text": [
      "Number of classes in y_true: 12\n",
      "number of columns in y_score: 12\n",
      "{'Train':  best_epoch_indx:71\n",
      " auc:0.9209395607482076 \n",
      " f1_micro:0.06554343322745478 \n",
      " f1_macro:0.06680110723488536 \n",
      " precision_micro:0.06554343322745478 \n",
      " precision_macro:0.11425828219216404 \n",
      " recall_micro:0.06554343322745478 \n",
      " recall_macro:0.6181773877744389 \n",
      ", 'Validation':  best_epoch_indx:71\n",
      " auc:0.8354105798859782 \n",
      " f1_micro:0.055431270196370876 \n",
      " f1_macro:0.046513969141060894 \n",
      " precision_micro:0.05543127019637087 \n",
      " precision_macro:0.1036264094143481 \n",
      " recall_micro:0.05543127019637087 \n",
      " recall_macro:0.4381892710483956 \n",
      ", 'Test':  best_epoch_indx:71\n",
      " auc:0.8658683074861662 \n",
      " f1_micro:0.05615212527964206 \n",
      " f1_macro:0.046517227870185286 \n",
      " precision_micro:0.05615212527964206 \n",
      " precision_macro:0.10274478580820295 \n",
      " recall_micro:0.05615212527964206 \n",
      " recall_macro:0.4048186889143672 \n",
      "}\n",
      "=====Epoch 72\n",
      "Training...\n"
     ]
    },
    {
     "name": "stderr",
     "output_type": "stream",
     "text": [
      "Iteration: 100%|████████████████████████████████████████████████████████████████████████████████████████████████████████████████████████████████████████████████████████████████████████████████████████████| 283/283 [00:25<00:00, 11.21it/s]\n"
     ]
    },
    {
     "name": "stdout",
     "output_type": "stream",
     "text": [
      "Evaluating...\n"
     ]
    },
    {
     "name": "stderr",
     "output_type": "stream",
     "text": [
      "Iteration: 100%|████████████████████████████████████████████████████████████████████████████████████████████████████████████████████████████████████████████████████████████████████████████████████████████| 283/283 [00:07<00:00, 36.92it/s]\n"
     ]
    },
    {
     "name": "stdout",
     "output_type": "stream",
     "text": [
      "Number of classes in y_true: 12\n",
      "number of columns in y_score: 12\n"
     ]
    },
    {
     "name": "stderr",
     "output_type": "stream",
     "text": [
      "Iteration: 100%|██████████████████████████████████████████████████████████████████████████████████████████████████████████████████████████████████████████████████████████████████████████████████████████████| 32/32 [00:00<00:00, 36.47it/s]\n"
     ]
    },
    {
     "name": "stdout",
     "output_type": "stream",
     "text": [
      "Number of classes in y_true: 12\n",
      "number of columns in y_score: 12\n"
     ]
    },
    {
     "name": "stderr",
     "output_type": "stream",
     "text": [
      "Iteration: 100%|██████████████████████████████████████████████████████████████████████████████████████████████████████████████████████████████████████████████████████████████████████████████████████████████| 35/35 [00:00<00:00, 42.02it/s]\n"
     ]
    },
    {
     "name": "stdout",
     "output_type": "stream",
     "text": [
      "Number of classes in y_true: 12\n",
      "number of columns in y_score: 12\n",
      "{'Train':  best_epoch_indx:72\n",
      " auc:0.9188315855766988 \n",
      " f1_micro:0.08741886479767988 \n",
      " f1_macro:0.06350413510679338 \n",
      " precision_micro:0.08741886479767988 \n",
      " precision_macro:0.10989005000789077 \n",
      " recall_micro:0.08741886479767988 \n",
      " recall_macro:0.6196475035561757 \n",
      ", 'Validation':  best_epoch_indx:72\n",
      " auc:0.8376462983636177 \n",
      " f1_micro:0.07655978125776783 \n",
      " f1_macro:0.046269848658608614 \n",
      " precision_micro:0.07655978125776783 \n",
      " precision_macro:0.09818201108527923 \n",
      " recall_micro:0.07655978125776783 \n",
      " recall_macro:0.4430353577667023 \n",
      ", 'Test':  best_epoch_indx:72\n",
      " auc:0.8714887034543874 \n",
      " f1_micro:0.07337807606263982 \n",
      " f1_macro:0.050100437892189965 \n",
      " precision_micro:0.07337807606263982 \n",
      " precision_macro:0.1000564183910932 \n",
      " recall_micro:0.07337807606263982 \n",
      " recall_macro:0.48335412302826714 \n",
      "}\n",
      "=====Epoch 73\n",
      "Training...\n"
     ]
    },
    {
     "name": "stderr",
     "output_type": "stream",
     "text": [
      "Iteration: 100%|████████████████████████████████████████████████████████████████████████████████████████████████████████████████████████████████████████████████████████████████████████████████████████████| 283/283 [00:22<00:00, 12.58it/s]\n"
     ]
    },
    {
     "name": "stdout",
     "output_type": "stream",
     "text": [
      "Evaluating...\n"
     ]
    },
    {
     "name": "stderr",
     "output_type": "stream",
     "text": [
      "Iteration: 100%|████████████████████████████████████████████████████████████████████████████████████████████████████████████████████████████████████████████████████████████████████████████████████████████| 283/283 [00:06<00:00, 40.70it/s]\n"
     ]
    },
    {
     "name": "stdout",
     "output_type": "stream",
     "text": [
      "Number of classes in y_true: 12\n",
      "number of columns in y_score: 12\n"
     ]
    },
    {
     "name": "stderr",
     "output_type": "stream",
     "text": [
      "Iteration: 100%|██████████████████████████████████████████████████████████████████████████████████████████████████████████████████████████████████████████████████████████████████████████████████████████████| 32/32 [00:00<00:00, 42.14it/s]\n"
     ]
    },
    {
     "name": "stdout",
     "output_type": "stream",
     "text": [
      "Number of classes in y_true: 12\n",
      "number of columns in y_score: 12\n"
     ]
    },
    {
     "name": "stderr",
     "output_type": "stream",
     "text": [
      "Iteration: 100%|██████████████████████████████████████████████████████████████████████████████████████████████████████████████████████████████████████████████████████████████████████████████████████████████| 35/35 [00:00<00:00, 41.86it/s]\n"
     ]
    },
    {
     "name": "stdout",
     "output_type": "stream",
     "text": [
      "Number of classes in y_true: 12\n",
      "number of columns in y_score: 12\n",
      "{'Train':  best_epoch_indx:73\n",
      " auc:0.9122749171242535 \n",
      " f1_micro:0.06645490954288082 \n",
      " f1_macro:0.06438773104009475 \n",
      " precision_micro:0.06645490954288082 \n",
      " precision_macro:0.11252905105211515 \n",
      " recall_micro:0.06645490954288082 \n",
      " recall_macro:0.6104618741842621 \n",
      ", 'Validation':  best_epoch_indx:73\n",
      " auc:0.8287309970457042 \n",
      " f1_micro:0.055182699478001494 \n",
      " f1_macro:0.046956776875850675 \n",
      " precision_micro:0.055182699478001494 \n",
      " precision_macro:0.09972938063142839 \n",
      " recall_micro:0.055182699478001494 \n",
      " recall_macro:0.4564258676522697 \n",
      ", 'Test':  best_epoch_indx:73\n",
      " auc:0.8475233317825346 \n",
      " f1_micro:0.05413870246085011 \n",
      " f1_macro:0.04507279544827005 \n",
      " precision_micro:0.05413870246085011 \n",
      " precision_macro:0.10038862179049984 \n",
      " recall_micro:0.05413870246085011 \n",
      " recall_macro:0.3902368798657015 \n",
      "}\n",
      "=====Epoch 74\n",
      "Training...\n"
     ]
    },
    {
     "name": "stderr",
     "output_type": "stream",
     "text": [
      "Iteration: 100%|████████████████████████████████████████████████████████████████████████████████████████████████████████████████████████████████████████████████████████████████████████████████████████████| 283/283 [00:21<00:00, 12.90it/s]\n"
     ]
    },
    {
     "name": "stdout",
     "output_type": "stream",
     "text": [
      "Evaluating...\n"
     ]
    },
    {
     "name": "stderr",
     "output_type": "stream",
     "text": [
      "Iteration: 100%|████████████████████████████████████████████████████████████████████████████████████████████████████████████████████████████████████████████████████████████████████████████████████████████| 283/283 [00:07<00:00, 39.03it/s]\n"
     ]
    },
    {
     "name": "stdout",
     "output_type": "stream",
     "text": [
      "Number of classes in y_true: 12\n",
      "number of columns in y_score: 12\n"
     ]
    },
    {
     "name": "stderr",
     "output_type": "stream",
     "text": [
      "Iteration: 100%|██████████████████████████████████████████████████████████████████████████████████████████████████████████████████████████████████████████████████████████████████████████████████████████████| 32/32 [00:00<00:00, 39.75it/s]\n"
     ]
    },
    {
     "name": "stdout",
     "output_type": "stream",
     "text": [
      "Number of classes in y_true: 12\n",
      "number of columns in y_score: 12\n"
     ]
    },
    {
     "name": "stderr",
     "output_type": "stream",
     "text": [
      "Iteration: 100%|██████████████████████████████████████████████████████████████████████████████████████████████████████████████████████████████████████████████████████████████████████████████████████████████| 35/35 [00:00<00:00, 39.25it/s]\n"
     ]
    },
    {
     "name": "stdout",
     "output_type": "stream",
     "text": [
      "Number of classes in y_true: 12\n",
      "number of columns in y_score: 12\n",
      "{'Train':  best_epoch_indx:74\n",
      " auc:0.9247925499184739 \n",
      " f1_micro:0.07081894765916309 \n",
      " f1_macro:0.0655658220466033 \n",
      " precision_micro:0.07081894765916309 \n",
      " precision_macro:0.11307272226008376 \n",
      " recall_micro:0.07081894765916309 \n",
      " recall_macro:0.6495057808243296 \n",
      ", 'Validation':  best_epoch_indx:74\n",
      " auc:0.8430141861863513 \n",
      " f1_micro:0.06065125528212777 \n",
      " f1_macro:0.04789457145033252 \n",
      " precision_micro:0.06065125528212777 \n",
      " precision_macro:0.10286592353584119 \n",
      " recall_micro:0.06065125528212777 \n",
      " recall_macro:0.48614890434562597 \n",
      ", 'Test':  best_epoch_indx:74\n",
      " auc:0.8627484383630563 \n",
      " f1_micro:0.05838926174496644 \n",
      " f1_macro:0.04953894520686076 \n",
      " precision_micro:0.05838926174496644 \n",
      " precision_macro:0.10248418047045625 \n",
      " recall_micro:0.05838926174496644 \n",
      " recall_macro:0.45733936217889126 \n",
      "}\n",
      "=====Epoch 75\n",
      "Training...\n"
     ]
    },
    {
     "name": "stderr",
     "output_type": "stream",
     "text": [
      "Iteration: 100%|████████████████████████████████████████████████████████████████████████████████████████████████████████████████████████████████████████████████████████████████████████████████████████████| 283/283 [00:22<00:00, 12.74it/s]\n"
     ]
    },
    {
     "name": "stdout",
     "output_type": "stream",
     "text": [
      "Evaluating...\n"
     ]
    },
    {
     "name": "stderr",
     "output_type": "stream",
     "text": [
      "Iteration: 100%|████████████████████████████████████████████████████████████████████████████████████████████████████████████████████████████████████████████████████████████████████████████████████████████| 283/283 [00:06<00:00, 40.96it/s]\n"
     ]
    },
    {
     "name": "stdout",
     "output_type": "stream",
     "text": [
      "Number of classes in y_true: 12\n",
      "number of columns in y_score: 12\n"
     ]
    },
    {
     "name": "stderr",
     "output_type": "stream",
     "text": [
      "Iteration: 100%|██████████████████████████████████████████████████████████████████████████████████████████████████████████████████████████████████████████████████████████████████████████████████████████████| 32/32 [00:00<00:00, 42.26it/s]\n"
     ]
    },
    {
     "name": "stdout",
     "output_type": "stream",
     "text": [
      "Number of classes in y_true: 12\n",
      "number of columns in y_score: 12\n"
     ]
    },
    {
     "name": "stderr",
     "output_type": "stream",
     "text": [
      "Iteration: 100%|██████████████████████████████████████████████████████████████████████████████████████████████████████████████████████████████████████████████████████████████████████████████████████████████| 35/35 [00:00<00:00, 42.05it/s]\n"
     ]
    },
    {
     "name": "stdout",
     "output_type": "stream",
     "text": [
      "Number of classes in y_true: 12\n",
      "number of columns in y_score: 12\n",
      "{'Train':  best_epoch_indx:75\n",
      " auc:0.9240225709003377 \n",
      " f1_micro:0.0713161165584864 \n",
      " f1_macro:0.06786624638088304 \n",
      " precision_micro:0.0713161165584864 \n",
      " precision_macro:0.11420625031263615 \n",
      " recall_micro:0.0713161165584864 \n",
      " recall_macro:0.6333092960161184 \n",
      ", 'Validation':  best_epoch_indx:75\n",
      " auc:0.8418793125065706 \n",
      " f1_micro:0.06164553815560527 \n",
      " f1_macro:0.05183482090060192 \n",
      " precision_micro:0.06164553815560527 \n",
      " precision_macro:0.1061169685478821 \n",
      " recall_micro:0.06164553815560527 \n",
      " recall_macro:0.48171240387048364 \n",
      ", 'Test':  best_epoch_indx:75\n",
      " auc:0.8682511332589091 \n",
      " f1_micro:0.0621923937360179 \n",
      " f1_macro:0.05292306086458503 \n",
      " precision_micro:0.0621923937360179 \n",
      " precision_macro:0.10427348496529172 \n",
      " recall_micro:0.0621923937360179 \n",
      " recall_macro:0.5226073265732799 \n",
      "}\n",
      "=====Epoch 76\n",
      "Training...\n"
     ]
    },
    {
     "name": "stderr",
     "output_type": "stream",
     "text": [
      "Iteration: 100%|████████████████████████████████████████████████████████████████████████████████████████████████████████████████████████████████████████████████████████████████████████████████████████████| 283/283 [00:21<00:00, 13.08it/s]\n"
     ]
    },
    {
     "name": "stdout",
     "output_type": "stream",
     "text": [
      "Evaluating...\n"
     ]
    },
    {
     "name": "stderr",
     "output_type": "stream",
     "text": [
      "Iteration: 100%|████████████████████████████████████████████████████████████████████████████████████████████████████████████████████████████████████████████████████████████████████████████████████████████| 283/283 [00:07<00:00, 37.55it/s]\n"
     ]
    },
    {
     "name": "stdout",
     "output_type": "stream",
     "text": [
      "Number of classes in y_true: 12\n",
      "number of columns in y_score: 12\n"
     ]
    },
    {
     "name": "stderr",
     "output_type": "stream",
     "text": [
      "Iteration: 100%|██████████████████████████████████████████████████████████████████████████████████████████████████████████████████████████████████████████████████████████████████████████████████████████████| 32/32 [00:00<00:00, 42.24it/s]\n"
     ]
    },
    {
     "name": "stdout",
     "output_type": "stream",
     "text": [
      "Number of classes in y_true: 12\n",
      "number of columns in y_score: 12\n"
     ]
    },
    {
     "name": "stderr",
     "output_type": "stream",
     "text": [
      "Iteration: 100%|██████████████████████████████████████████████████████████████████████████████████████████████████████████████████████████████████████████████████████████████████████████████████████████████| 35/35 [00:00<00:00, 42.13it/s]\n"
     ]
    },
    {
     "name": "stdout",
     "output_type": "stream",
     "text": [
      "Number of classes in y_true: 12\n",
      "number of columns in y_score: 12\n",
      "{'Train':  best_epoch_indx:76\n",
      " auc:0.926604067762375 \n",
      " f1_micro:0.07918795746443862 \n",
      " f1_macro:0.06971179645821864 \n",
      " precision_micro:0.07918795746443862 \n",
      " precision_macro:0.11446193551238888 \n",
      " recall_micro:0.07918795746443862 \n",
      " recall_macro:0.643602926658147 \n",
      ", 'Validation':  best_epoch_indx:76\n",
      " auc:0.8542635417573219 \n",
      " f1_micro:0.06636838180462341 \n",
      " f1_macro:0.05269284730429669 \n",
      " precision_micro:0.06636838180462341 \n",
      " precision_macro:0.10282892707812753 \n",
      " recall_micro:0.06636838180462341 \n",
      " recall_macro:0.49575649778684494 \n",
      ", 'Test':  best_epoch_indx:76\n",
      " auc:0.8725313285162425 \n",
      " f1_micro:0.07002237136465324 \n",
      " f1_macro:0.05850289276607803 \n",
      " precision_micro:0.07002237136465324 \n",
      " precision_macro:0.10611758922646695 \n",
      " recall_micro:0.07002237136465324 \n",
      " recall_macro:0.526786116527331 \n",
      "}\n",
      "=====Epoch 77\n",
      "Training...\n"
     ]
    },
    {
     "name": "stderr",
     "output_type": "stream",
     "text": [
      "Iteration: 100%|████████████████████████████████████████████████████████████████████████████████████████████████████████████████████████████████████████████████████████████████████████████████████████████| 283/283 [00:22<00:00, 12.60it/s]\n"
     ]
    },
    {
     "name": "stdout",
     "output_type": "stream",
     "text": [
      "Evaluating...\n"
     ]
    },
    {
     "name": "stderr",
     "output_type": "stream",
     "text": [
      "Iteration: 100%|████████████████████████████████████████████████████████████████████████████████████████████████████████████████████████████████████████████████████████████████████████████████████████████| 283/283 [00:06<00:00, 41.04it/s]\n"
     ]
    },
    {
     "name": "stdout",
     "output_type": "stream",
     "text": [
      "Number of classes in y_true: 12\n",
      "number of columns in y_score: 12\n"
     ]
    },
    {
     "name": "stderr",
     "output_type": "stream",
     "text": [
      "Iteration: 100%|██████████████████████████████████████████████████████████████████████████████████████████████████████████████████████████████████████████████████████████████████████████████████████████████| 32/32 [00:00<00:00, 42.25it/s]\n"
     ]
    },
    {
     "name": "stdout",
     "output_type": "stream",
     "text": [
      "Number of classes in y_true: 12\n",
      "number of columns in y_score: 12\n"
     ]
    },
    {
     "name": "stderr",
     "output_type": "stream",
     "text": [
      "Iteration: 100%|██████████████████████████████████████████████████████████████████████████████████████████████████████████████████████████████████████████████████████████████████████████████████████████████| 35/35 [00:00<00:00, 42.11it/s]\n"
     ]
    },
    {
     "name": "stdout",
     "output_type": "stream",
     "text": [
      "Number of classes in y_true: 12\n",
      "number of columns in y_score: 12\n",
      "{'Train':  best_epoch_indx:77\n",
      " auc:0.9290275463777508 \n",
      " f1_micro:0.0951802237260047 \n",
      " f1_macro:0.07139962033859384 \n",
      " precision_micro:0.0951802237260047 \n",
      " precision_macro:0.11366197644756075 \n",
      " recall_micro:0.0951802237260047 \n",
      " recall_macro:0.6516961847116136 \n",
      ", 'Validation':  best_epoch_indx:77\n",
      " auc:0.8538530025184987 \n",
      " f1_micro:0.09346259010688542 \n",
      " f1_macro:0.05785636789372769 \n",
      " precision_micro:0.09346259010688542 \n",
      " precision_macro:0.1055812555523797 \n",
      " recall_micro:0.09346259010688542 \n",
      " recall_macro:0.5096842724512438 \n",
      ", 'Test':  best_epoch_indx:77\n",
      " auc:0.8759693868008318 \n",
      " f1_micro:0.08322147651006712 \n",
      " f1_macro:0.05671094438001096 \n",
      " precision_micro:0.08322147651006712 \n",
      " precision_macro:0.10475611831368974 \n",
      " recall_micro:0.08322147651006712 \n",
      " recall_macro:0.49621749727169817 \n",
      "}\n",
      "=====Epoch 78\n",
      "Training...\n"
     ]
    },
    {
     "name": "stderr",
     "output_type": "stream",
     "text": [
      "Iteration: 100%|████████████████████████████████████████████████████████████████████████████████████████████████████████████████████████████████████████████████████████████████████████████████████████████| 283/283 [00:22<00:00, 12.48it/s]\n"
     ]
    },
    {
     "name": "stdout",
     "output_type": "stream",
     "text": [
      "Evaluating...\n"
     ]
    },
    {
     "name": "stderr",
     "output_type": "stream",
     "text": [
      "Iteration: 100%|████████████████████████████████████████████████████████████████████████████████████████████████████████████████████████████████████████████████████████████████████████████████████████████| 283/283 [00:06<00:00, 40.77it/s]\n"
     ]
    },
    {
     "name": "stdout",
     "output_type": "stream",
     "text": [
      "Number of classes in y_true: 12\n",
      "number of columns in y_score: 12\n"
     ]
    },
    {
     "name": "stderr",
     "output_type": "stream",
     "text": [
      "Iteration: 100%|██████████████████████████████████████████████████████████████████████████████████████████████████████████████████████████████████████████████████████████████████████████████████████████████| 32/32 [00:00<00:00, 41.61it/s]\n"
     ]
    },
    {
     "name": "stdout",
     "output_type": "stream",
     "text": [
      "Number of classes in y_true: 12\n",
      "number of columns in y_score: 12\n"
     ]
    },
    {
     "name": "stderr",
     "output_type": "stream",
     "text": [
      "Iteration: 100%|██████████████████████████████████████████████████████████████████████████████████████████████████████████████████████████████████████████████████████████████████████████████████████████████| 35/35 [00:00<00:00, 41.26it/s]\n"
     ]
    },
    {
     "name": "stdout",
     "output_type": "stream",
     "text": [
      "Number of classes in y_true: 12\n",
      "number of columns in y_score: 12\n",
      "{'Train':  best_epoch_indx:78\n",
      " auc:0.9277326875142858 \n",
      " f1_micro:0.08714265985361137 \n",
      " f1_macro:0.0714885360426151 \n",
      " precision_micro:0.08714265985361137 \n",
      " precision_macro:0.11556607202962693 \n",
      " recall_micro:0.08714265985361137 \n",
      " recall_macro:0.6438719208766762 \n",
      ", 'Validation':  best_epoch_indx:78\n",
      " auc:0.8550406279482494 \n",
      " f1_micro:0.08202833706189411 \n",
      " f1_macro:0.056261486883464606 \n",
      " precision_micro:0.08202833706189411 \n",
      " precision_macro:0.10617993893552408 \n",
      " recall_micro:0.08202833706189411 \n",
      " recall_macro:0.5071608904364111 \n",
      ", 'Test':  best_epoch_indx:78\n",
      " auc:0.8729447829981158 \n",
      " f1_micro:0.07919463087248323 \n",
      " f1_macro:0.05951302485997962 \n",
      " precision_micro:0.07919463087248323 \n",
      " precision_macro:0.1074327183434108 \n",
      " recall_micro:0.07919463087248323 \n",
      " recall_macro:0.5375698582028103 \n",
      "}\n",
      "=====Epoch 79\n",
      "Training...\n"
     ]
    },
    {
     "name": "stderr",
     "output_type": "stream",
     "text": [
      "Iteration: 100%|████████████████████████████████████████████████████████████████████████████████████████████████████████████████████████████████████████████████████████████████████████████████████████████| 283/283 [00:20<00:00, 13.81it/s]\n"
     ]
    },
    {
     "name": "stdout",
     "output_type": "stream",
     "text": [
      "Evaluating...\n"
     ]
    },
    {
     "name": "stderr",
     "output_type": "stream",
     "text": [
      "Iteration: 100%|████████████████████████████████████████████████████████████████████████████████████████████████████████████████████████████████████████████████████████████████████████████████████████████| 283/283 [00:07<00:00, 38.93it/s]\n"
     ]
    },
    {
     "name": "stdout",
     "output_type": "stream",
     "text": [
      "Number of classes in y_true: 12\n",
      "number of columns in y_score: 12\n"
     ]
    },
    {
     "name": "stderr",
     "output_type": "stream",
     "text": [
      "Iteration: 100%|██████████████████████████████████████████████████████████████████████████████████████████████████████████████████████████████████████████████████████████████████████████████████████████████| 32/32 [00:00<00:00, 40.05it/s]\n"
     ]
    },
    {
     "name": "stdout",
     "output_type": "stream",
     "text": [
      "Number of classes in y_true: 12\n",
      "number of columns in y_score: 12\n"
     ]
    },
    {
     "name": "stderr",
     "output_type": "stream",
     "text": [
      "Iteration: 100%|██████████████████████████████████████████████████████████████████████████████████████████████████████████████████████████████████████████████████████████████████████████████████████████████| 35/35 [00:00<00:00, 40.02it/s]\n"
     ]
    },
    {
     "name": "stdout",
     "output_type": "stream",
     "text": [
      "Number of classes in y_true: 12\n",
      "number of columns in y_score: 12\n",
      "{'Train':  best_epoch_indx:79\n",
      " auc:0.9307703860742929 \n",
      " f1_micro:0.08625880403259219 \n",
      " f1_macro:0.0719978826520787 \n",
      " precision_micro:0.08625880403259219 \n",
      " precision_macro:0.11530812710041483 \n",
      " recall_micro:0.08625880403259219 \n",
      " recall_macro:0.6543023621804714 \n",
      ", 'Validation':  best_epoch_indx:79\n",
      " auc:0.8555941812692236 \n",
      " f1_micro:0.08153119562515536 \n",
      " f1_macro:0.05621924071933476 \n",
      " precision_micro:0.08153119562515536 \n",
      " precision_macro:0.1051212752693707 \n",
      " recall_micro:0.08153119562515536 \n",
      " recall_macro:0.5180899355842937 \n",
      ", 'Test':  best_epoch_indx:79\n",
      " auc:0.8769076302366582 \n",
      " f1_micro:0.07919463087248323 \n",
      " f1_macro:0.05991118648851784 \n",
      " precision_micro:0.07919463087248323 \n",
      " precision_macro:0.1069957663119795 \n",
      " recall_micro:0.07919463087248323 \n",
      " recall_macro:0.5380253614585035 \n",
      "}\n",
      "=====Epoch 80\n",
      "Training...\n"
     ]
    },
    {
     "name": "stderr",
     "output_type": "stream",
     "text": [
      "Iteration: 100%|████████████████████████████████████████████████████████████████████████████████████████████████████████████████████████████████████████████████████████████████████████████████████████████| 283/283 [00:22<00:00, 12.36it/s]\n"
     ]
    },
    {
     "name": "stdout",
     "output_type": "stream",
     "text": [
      "Evaluating...\n"
     ]
    },
    {
     "name": "stderr",
     "output_type": "stream",
     "text": [
      "Iteration: 100%|████████████████████████████████████████████████████████████████████████████████████████████████████████████████████████████████████████████████████████████████████████████████████████████| 283/283 [00:07<00:00, 36.64it/s]\n"
     ]
    },
    {
     "name": "stdout",
     "output_type": "stream",
     "text": [
      "Number of classes in y_true: 12\n",
      "number of columns in y_score: 12\n"
     ]
    },
    {
     "name": "stderr",
     "output_type": "stream",
     "text": [
      "Iteration: 100%|██████████████████████████████████████████████████████████████████████████████████████████████████████████████████████████████████████████████████████████████████████████████████████████████| 32/32 [00:00<00:00, 36.37it/s]\n"
     ]
    },
    {
     "name": "stdout",
     "output_type": "stream",
     "text": [
      "Number of classes in y_true: 12\n",
      "number of columns in y_score: 12\n"
     ]
    },
    {
     "name": "stderr",
     "output_type": "stream",
     "text": [
      "Iteration: 100%|██████████████████████████████████████████████████████████████████████████████████████████████████████████████████████████████████████████████████████████████████████████████████████████████| 35/35 [00:00<00:00, 41.60it/s]\n"
     ]
    },
    {
     "name": "stdout",
     "output_type": "stream",
     "text": [
      "Number of classes in y_true: 12\n",
      "number of columns in y_score: 12\n",
      "{'Train':  best_epoch_indx:80\n",
      " auc:0.9273203140632678 \n",
      " f1_micro:0.07863554757630162 \n",
      " f1_macro:0.06440085656205112 \n",
      " precision_micro:0.07863554757630162 \n",
      " precision_macro:0.11186990881927045 \n",
      " recall_micro:0.07863554757630162 \n",
      " recall_macro:0.6420921177583648 \n",
      ", 'Validation':  best_epoch_indx:80\n",
      " auc:0.8413034680113831 \n",
      " f1_micro:0.07034551329853343 \n",
      " f1_macro:0.04970447356797968 \n",
      " precision_micro:0.07034551329853343 \n",
      " precision_macro:0.10337280746437753 \n",
      " recall_micro:0.07034551329853343 \n",
      " recall_macro:0.4781199944758685 \n",
      ", 'Test':  best_epoch_indx:80\n",
      " auc:0.8880069901531316 \n",
      " f1_micro:0.07427293064876958 \n",
      " f1_macro:0.05717346718804078 \n",
      " precision_micro:0.07427293064876958 \n",
      " precision_macro:0.10568019341240892 \n",
      " recall_micro:0.07427293064876958 \n",
      " recall_macro:0.5575310414703328 \n",
      "}\n",
      "=====Epoch 81\n",
      "Training...\n"
     ]
    },
    {
     "name": "stderr",
     "output_type": "stream",
     "text": [
      "Iteration: 100%|████████████████████████████████████████████████████████████████████████████████████████████████████████████████████████████████████████████████████████████████████████████████████████████| 283/283 [00:22<00:00, 12.71it/s]\n"
     ]
    },
    {
     "name": "stdout",
     "output_type": "stream",
     "text": [
      "Evaluating...\n"
     ]
    },
    {
     "name": "stderr",
     "output_type": "stream",
     "text": [
      "Iteration: 100%|████████████████████████████████████████████████████████████████████████████████████████████████████████████████████████████████████████████████████████████████████████████████████████████| 283/283 [00:07<00:00, 39.57it/s]\n"
     ]
    },
    {
     "name": "stdout",
     "output_type": "stream",
     "text": [
      "Number of classes in y_true: 12\n",
      "number of columns in y_score: 12\n"
     ]
    },
    {
     "name": "stderr",
     "output_type": "stream",
     "text": [
      "Iteration: 100%|██████████████████████████████████████████████████████████████████████████████████████████████████████████████████████████████████████████████████████████████████████████████████████████████| 32/32 [00:00<00:00, 42.53it/s]\n"
     ]
    },
    {
     "name": "stdout",
     "output_type": "stream",
     "text": [
      "Number of classes in y_true: 12\n",
      "number of columns in y_score: 12\n"
     ]
    },
    {
     "name": "stderr",
     "output_type": "stream",
     "text": [
      "Iteration: 100%|██████████████████████████████████████████████████████████████████████████████████████████████████████████████████████████████████████████████████████████████████████████████████████████████| 35/35 [00:00<00:00, 41.93it/s]\n"
     ]
    },
    {
     "name": "stdout",
     "output_type": "stream",
     "text": [
      "Number of classes in y_true: 12\n",
      "number of columns in y_score: 12\n",
      "{'Train':  best_epoch_indx:81\n",
      " auc:0.9303851225327678 \n",
      " f1_micro:0.10352161303687336 \n",
      " f1_macro:0.07314877959991539 \n",
      " precision_micro:0.10352161303687336 \n",
      " precision_macro:0.11385280994871916 \n",
      " recall_micro:0.10352161303687336 \n",
      " recall_macro:0.6552618043482612 \n",
      ", 'Validation':  best_epoch_indx:81\n",
      " auc:0.8578391285154264 \n",
      " f1_micro:0.09072831220482228 \n",
      " f1_macro:0.059334550540067636 \n",
      " precision_micro:0.09072831220482228 \n",
      " precision_macro:0.10514203691577317 \n",
      " recall_micro:0.09072831220482228 \n",
      " recall_macro:0.5117156605812482 \n",
      ", 'Test':  best_epoch_indx:81\n",
      " auc:0.8667524518717025 \n",
      " f1_micro:0.09463087248322148 \n",
      " f1_macro:0.05872410184598342 \n",
      " precision_micro:0.09463087248322148 \n",
      " precision_macro:0.1045301270093828 \n",
      " recall_micro:0.09463087248322148 \n",
      " recall_macro:0.47226428891020356 \n",
      "}\n",
      "=====Epoch 82\n",
      "Training...\n"
     ]
    },
    {
     "name": "stderr",
     "output_type": "stream",
     "text": [
      "Iteration: 100%|████████████████████████████████████████████████████████████████████████████████████████████████████████████████████████████████████████████████████████████████████████████████████████████| 283/283 [00:22<00:00, 12.86it/s]\n"
     ]
    },
    {
     "name": "stdout",
     "output_type": "stream",
     "text": [
      "Evaluating...\n"
     ]
    },
    {
     "name": "stderr",
     "output_type": "stream",
     "text": [
      "Iteration: 100%|████████████████████████████████████████████████████████████████████████████████████████████████████████████████████████████████████████████████████████████████████████████████████████████| 283/283 [00:07<00:00, 38.76it/s]\n"
     ]
    },
    {
     "name": "stdout",
     "output_type": "stream",
     "text": [
      "Number of classes in y_true: 12\n",
      "number of columns in y_score: 12\n"
     ]
    },
    {
     "name": "stderr",
     "output_type": "stream",
     "text": [
      "Iteration: 100%|██████████████████████████████████████████████████████████████████████████████████████████████████████████████████████████████████████████████████████████████████████████████████████████████| 32/32 [00:00<00:00, 39.81it/s]\n"
     ]
    },
    {
     "name": "stdout",
     "output_type": "stream",
     "text": [
      "Number of classes in y_true: 12\n",
      "number of columns in y_score: 12\n"
     ]
    },
    {
     "name": "stderr",
     "output_type": "stream",
     "text": [
      "Iteration: 100%|██████████████████████████████████████████████████████████████████████████████████████████████████████████████████████████████████████████████████████████████████████████████████████████████| 35/35 [00:00<00:00, 39.44it/s]\n"
     ]
    },
    {
     "name": "stdout",
     "output_type": "stream",
     "text": [
      "Number of classes in y_true: 12\n",
      "number of columns in y_score: 12\n",
      "{'Train':  best_epoch_indx:82\n",
      " auc:0.9308086678352316 \n",
      " f1_micro:0.059908852368457395 \n",
      " f1_macro:0.06341107952640863 \n",
      " precision_micro:0.059908852368457395 \n",
      " precision_macro:0.1123467195773309 \n",
      " recall_micro:0.059908852368457395 \n",
      " recall_macro:0.6567417898096649 \n",
      ", 'Validation':  best_epoch_indx:82\n",
      " auc:0.8599641272070961 \n",
      " f1_micro:0.051702709420830224 \n",
      " f1_macro:0.05149839901416731 \n",
      " precision_micro:0.051702709420830224 \n",
      " precision_macro:0.10686400559352405 \n",
      " recall_micro:0.051702709420830224 \n",
      " recall_macro:0.524288280935173 \n",
      ", 'Test':  best_epoch_indx:82\n",
      " auc:0.8811960334949749 \n",
      " f1_micro:0.053020134228187916 \n",
      " f1_macro:0.05153645539933513 \n",
      " precision_micro:0.053020134228187916 \n",
      " precision_macro:0.10496857623291701 \n",
      " recall_micro:0.053020134228187916 \n",
      " recall_macro:0.5272991465873701 \n",
      "}\n",
      "=====Epoch 83\n",
      "Training...\n"
     ]
    },
    {
     "name": "stderr",
     "output_type": "stream",
     "text": [
      "Iteration: 100%|████████████████████████████████████████████████████████████████████████████████████████████████████████████████████████████████████████████████████████████████████████████████████████████| 283/283 [00:22<00:00, 12.56it/s]\n"
     ]
    },
    {
     "name": "stdout",
     "output_type": "stream",
     "text": [
      "Evaluating...\n"
     ]
    },
    {
     "name": "stderr",
     "output_type": "stream",
     "text": [
      "Iteration: 100%|████████████████████████████████████████████████████████████████████████████████████████████████████████████████████████████████████████████████████████████████████████████████████████████| 283/283 [00:06<00:00, 41.14it/s]\n"
     ]
    },
    {
     "name": "stdout",
     "output_type": "stream",
     "text": [
      "Number of classes in y_true: 12\n",
      "number of columns in y_score: 12\n"
     ]
    },
    {
     "name": "stderr",
     "output_type": "stream",
     "text": [
      "Iteration: 100%|██████████████████████████████████████████████████████████████████████████████████████████████████████████████████████████████████████████████████████████████████████████████████████████████| 32/32 [00:00<00:00, 42.68it/s]\n"
     ]
    },
    {
     "name": "stdout",
     "output_type": "stream",
     "text": [
      "Number of classes in y_true: 12\n",
      "number of columns in y_score: 12\n"
     ]
    },
    {
     "name": "stderr",
     "output_type": "stream",
     "text": [
      "Iteration: 100%|██████████████████████████████████████████████████████████████████████████████████████████████████████████████████████████████████████████████████████████████████████████████████████████████| 35/35 [00:00<00:00, 42.44it/s]\n"
     ]
    },
    {
     "name": "stdout",
     "output_type": "stream",
     "text": [
      "Number of classes in y_true: 12\n",
      "number of columns in y_score: 12\n",
      "{'Train':  best_epoch_indx:83\n",
      " auc:0.9345934801746546 \n",
      " f1_micro:0.11851954149979285 \n",
      " f1_macro:0.07545381174241118 \n",
      " precision_micro:0.11851954149979285 \n",
      " precision_macro:0.11356587746131201 \n",
      " recall_micro:0.11851954149979285 \n",
      " recall_macro:0.6699369709560955 \n",
      ", 'Validation':  best_epoch_indx:83\n",
      " auc:0.868479004717841 \n",
      " f1_micro:0.11086254039274175 \n",
      " f1_macro:0.061621278441826466 \n",
      " precision_micro:0.11086254039274174 \n",
      " precision_macro:0.10581784402661548 \n",
      " recall_micro:0.11086254039274174 \n",
      " recall_macro:0.5442753622718032 \n",
      ", 'Test':  best_epoch_indx:83\n",
      " auc:0.8818396746573305 \n",
      " f1_micro:0.10738255033557047 \n",
      " f1_macro:0.057972167728178786 \n",
      " precision_micro:0.10738255033557047 \n",
      " precision_macro:0.10132593018005155 \n",
      " recall_micro:0.10738255033557047 \n",
      " recall_macro:0.49125529289254155 \n",
      "}\n",
      "=====Epoch 84\n",
      "Training...\n"
     ]
    },
    {
     "name": "stderr",
     "output_type": "stream",
     "text": [
      "Iteration: 100%|████████████████████████████████████████████████████████████████████████████████████████████████████████████████████████████████████████████████████████████████████████████████████████████| 283/283 [00:22<00:00, 12.48it/s]\n"
     ]
    },
    {
     "name": "stdout",
     "output_type": "stream",
     "text": [
      "Evaluating...\n"
     ]
    },
    {
     "name": "stderr",
     "output_type": "stream",
     "text": [
      "Iteration: 100%|████████████████████████████████████████████████████████████████████████████████████████████████████████████████████████████████████████████████████████████████████████████████████████████| 283/283 [00:06<00:00, 40.52it/s]\n"
     ]
    },
    {
     "name": "stdout",
     "output_type": "stream",
     "text": [
      "Number of classes in y_true: 12\n",
      "number of columns in y_score: 12\n"
     ]
    },
    {
     "name": "stderr",
     "output_type": "stream",
     "text": [
      "Iteration: 100%|██████████████████████████████████████████████████████████████████████████████████████████████████████████████████████████████████████████████████████████████████████████████████████████████| 32/32 [00:00<00:00, 41.73it/s]\n"
     ]
    },
    {
     "name": "stdout",
     "output_type": "stream",
     "text": [
      "Number of classes in y_true: 12\n",
      "number of columns in y_score: 12\n"
     ]
    },
    {
     "name": "stderr",
     "output_type": "stream",
     "text": [
      "Iteration: 100%|██████████████████████████████████████████████████████████████████████████████████████████████████████████████████████████████████████████████████████████████████████████████████████████████| 35/35 [00:00<00:00, 41.65it/s]\n"
     ]
    },
    {
     "name": "stdout",
     "output_type": "stream",
     "text": [
      "Number of classes in y_true: 12\n",
      "number of columns in y_score: 12\n",
      "{'Train':  best_epoch_indx:84\n",
      " auc:0.9344497312384324 \n",
      " f1_micro:0.14647148183952494 \n",
      " f1_macro:0.08561870170181729 \n",
      " precision_micro:0.14647148183952494 \n",
      " precision_macro:0.1169160794753532 \n",
      " recall_micro:0.14647148183952494 \n",
      " recall_macro:0.66782230591541 \n",
      ", 'Validation':  best_epoch_indx:84\n",
      " auc:0.8613955722419449 \n",
      " f1_micro:0.13944817300521997 \n",
      " f1_macro:0.06939872292787393 \n",
      " precision_micro:0.13944817300521997 \n",
      " precision_macro:0.10689091952559308 \n",
      " recall_micro:0.13944817300521997 \n",
      " recall_macro:0.5095451500036997 \n",
      ", 'Test':  best_epoch_indx:84\n",
      " auc:0.8731526299065018 \n",
      " f1_micro:0.1360178970917226 \n",
      " f1_macro:0.06599816041135144 \n",
      " precision_micro:0.1360178970917226 \n",
      " precision_macro:0.10477673839067302 \n",
      " recall_micro:0.1360178970917226 \n",
      " recall_macro:0.46562127328523056 \n",
      "}\n",
      "=====Epoch 85\n",
      "Training...\n"
     ]
    },
    {
     "name": "stderr",
     "output_type": "stream",
     "text": [
      "Iteration: 100%|████████████████████████████████████████████████████████████████████████████████████████████████████████████████████████████████████████████████████████████████████████████████████████████| 283/283 [00:22<00:00, 12.71it/s]\n"
     ]
    },
    {
     "name": "stdout",
     "output_type": "stream",
     "text": [
      "Evaluating...\n"
     ]
    },
    {
     "name": "stderr",
     "output_type": "stream",
     "text": [
      "Iteration: 100%|████████████████████████████████████████████████████████████████████████████████████████████████████████████████████████████████████████████████████████████████████████████████████████████| 283/283 [00:07<00:00, 38.85it/s]\n"
     ]
    },
    {
     "name": "stdout",
     "output_type": "stream",
     "text": [
      "Number of classes in y_true: 12\n",
      "number of columns in y_score: 12\n"
     ]
    },
    {
     "name": "stderr",
     "output_type": "stream",
     "text": [
      "Iteration: 100%|██████████████████████████████████████████████████████████████████████████████████████████████████████████████████████████████████████████████████████████████████████████████████████████████| 32/32 [00:00<00:00, 40.37it/s]\n"
     ]
    },
    {
     "name": "stdout",
     "output_type": "stream",
     "text": [
      "Number of classes in y_true: 12\n",
      "number of columns in y_score: 12\n"
     ]
    },
    {
     "name": "stderr",
     "output_type": "stream",
     "text": [
      "Iteration: 100%|██████████████████████████████████████████████████████████████████████████████████████████████████████████████████████████████████████████████████████████████████████████████████████████████| 35/35 [00:00<00:00, 42.25it/s]\n"
     ]
    },
    {
     "name": "stdout",
     "output_type": "stream",
     "text": [
      "Number of classes in y_true: 12\n",
      "number of columns in y_score: 12\n",
      "{'Train':  best_epoch_indx:85\n",
      " auc:0.9344109600124099 \n",
      " f1_micro:0.16442480320397734 \n",
      " f1_macro:0.08971139704209673 \n",
      " precision_micro:0.16442480320397734 \n",
      " precision_macro:0.11776920342430658 \n",
      " recall_micro:0.16442480320397734 \n",
      " recall_macro:0.674537849942869 \n",
      ", 'Validation':  best_epoch_indx:85\n",
      " auc:0.8602903774114711 \n",
      " f1_micro:0.14715386527467064 \n",
      " f1_macro:0.0661313664366571 \n",
      " precision_micro:0.14715386527467064 \n",
      " precision_macro:0.10422839168718832 \n",
      " recall_micro:0.14715386527467064 \n",
      " recall_macro:0.47905447405438534 \n",
      ", 'Test':  best_epoch_indx:85\n",
      " auc:0.872275291551793 \n",
      " f1_micro:0.1476510067114094 \n",
      " f1_macro:0.06556128649486946 \n",
      " precision_micro:0.1476510067114094 \n",
      " precision_macro:0.10301763899131579 \n",
      " recall_micro:0.1476510067114094 \n",
      " recall_macro:0.42090115217655266 \n",
      "}\n",
      "=====Epoch 86\n",
      "Training...\n"
     ]
    },
    {
     "name": "stderr",
     "output_type": "stream",
     "text": [
      "Iteration: 100%|████████████████████████████████████████████████████████████████████████████████████████████████████████████████████████████████████████████████████████████████████████████████████████████| 283/283 [00:22<00:00, 12.45it/s]\n"
     ]
    },
    {
     "name": "stdout",
     "output_type": "stream",
     "text": [
      "Evaluating...\n"
     ]
    },
    {
     "name": "stderr",
     "output_type": "stream",
     "text": [
      "Iteration: 100%|████████████████████████████████████████████████████████████████████████████████████████████████████████████████████████████████████████████████████████████████████████████████████████████| 283/283 [00:06<00:00, 40.63it/s]\n"
     ]
    },
    {
     "name": "stdout",
     "output_type": "stream",
     "text": [
      "Number of classes in y_true: 12\n",
      "number of columns in y_score: 12\n"
     ]
    },
    {
     "name": "stderr",
     "output_type": "stream",
     "text": [
      "Iteration: 100%|██████████████████████████████████████████████████████████████████████████████████████████████████████████████████████████████████████████████████████████████████████████████████████████████| 32/32 [00:00<00:00, 42.02it/s]\n"
     ]
    },
    {
     "name": "stdout",
     "output_type": "stream",
     "text": [
      "Number of classes in y_true: 12\n",
      "number of columns in y_score: 12\n"
     ]
    },
    {
     "name": "stderr",
     "output_type": "stream",
     "text": [
      "Iteration: 100%|██████████████████████████████████████████████████████████████████████████████████████████████████████████████████████████████████████████████████████████████████████████████████████████████| 35/35 [00:00<00:00, 41.48it/s]\n"
     ]
    },
    {
     "name": "stdout",
     "output_type": "stream",
     "text": [
      "Number of classes in y_true: 12\n",
      "number of columns in y_score: 12\n",
      "{'Train':  best_epoch_indx:86\n",
      " auc:0.9351606492641086 \n",
      " f1_micro:0.10705703632095015 \n",
      " f1_macro:0.07489971654766918 \n",
      " precision_micro:0.10705703632095015 \n",
      " precision_macro:0.11466282698379804 \n",
      " recall_micro:0.10705703632095015 \n",
      " recall_macro:0.6633570919435171 \n",
      ", 'Validation':  best_epoch_indx:86\n",
      " auc:0.8645172634596878 \n",
      " f1_micro:0.10042257022122794 \n",
      " f1_macro:0.058202072319833875 \n",
      " precision_micro:0.10042257022122794 \n",
      " precision_macro:0.10414445079231255 \n",
      " recall_micro:0.10042257022122794 \n",
      " recall_macro:0.5184510870940133 \n",
      ", 'Test':  best_epoch_indx:86\n",
      " auc:0.8902461122210312 \n",
      " f1_micro:0.09776286353467561 \n",
      " f1_macro:0.06556049345093674 \n",
      " precision_micro:0.09776286353467561 \n",
      " precision_macro:0.1068364244174061 \n",
      " recall_micro:0.09776286353467561 \n",
      " recall_macro:0.5801278426967392 \n",
      "}\n",
      "=====Epoch 87\n",
      "Training...\n"
     ]
    },
    {
     "name": "stderr",
     "output_type": "stream",
     "text": [
      "Iteration: 100%|████████████████████████████████████████████████████████████████████████████████████████████████████████████████████████████████████████████████████████████████████████████████████████████| 283/283 [00:22<00:00, 12.71it/s]\n"
     ]
    },
    {
     "name": "stdout",
     "output_type": "stream",
     "text": [
      "Evaluating...\n"
     ]
    },
    {
     "name": "stderr",
     "output_type": "stream",
     "text": [
      "Iteration: 100%|████████████████████████████████████████████████████████████████████████████████████████████████████████████████████████████████████████████████████████████████████████████████████████████| 283/283 [00:06<00:00, 41.22it/s]\n"
     ]
    },
    {
     "name": "stdout",
     "output_type": "stream",
     "text": [
      "Number of classes in y_true: 12\n",
      "number of columns in y_score: 12\n"
     ]
    },
    {
     "name": "stderr",
     "output_type": "stream",
     "text": [
      "Iteration: 100%|██████████████████████████████████████████████████████████████████████████████████████████████████████████████████████████████████████████████████████████████████████████████████████████████| 32/32 [00:00<00:00, 42.57it/s]\n"
     ]
    },
    {
     "name": "stdout",
     "output_type": "stream",
     "text": [
      "Number of classes in y_true: 12\n",
      "number of columns in y_score: 12\n"
     ]
    },
    {
     "name": "stderr",
     "output_type": "stream",
     "text": [
      "Iteration: 100%|██████████████████████████████████████████████████████████████████████████████████████████████████████████████████████████████████████████████████████████████████████████████████████████████| 35/35 [00:00<00:00, 42.31it/s]\n"
     ]
    },
    {
     "name": "stdout",
     "output_type": "stream",
     "text": [
      "Number of classes in y_true: 12\n",
      "number of columns in y_score: 12\n",
      "{'Train':  best_epoch_indx:87\n",
      " auc:0.9376684465283329 \n",
      " f1_micro:0.10567601160060765 \n",
      " f1_macro:0.07845196872802103 \n",
      " precision_micro:0.10567601160060765 \n",
      " precision_macro:0.11668990534084626 \n",
      " recall_micro:0.10567601160060765 \n",
      " recall_macro:0.6845148630907074 \n",
      ", 'Validation':  best_epoch_indx:87\n",
      " auc:0.8738178694639315 \n",
      " f1_micro:0.09793686303753418 \n",
      " f1_macro:0.05948070600103771 \n",
      " precision_micro:0.09793686303753418 \n",
      " precision_macro:0.1058310433405852 \n",
      " recall_micro:0.09793686303753418 \n",
      " recall_macro:0.5298419061336136 \n",
      ", 'Test':  best_epoch_indx:87\n",
      " auc:0.8879913963466799 \n",
      " f1_micro:0.09463087248322148 \n",
      " f1_macro:0.060372929144034505 \n",
      " precision_micro:0.09463087248322148 \n",
      " precision_macro:0.1059641763075944 \n",
      " recall_micro:0.09463087248322148 \n",
      " recall_macro:0.4863851470946658 \n",
      "}\n",
      "=====Epoch 88\n",
      "Training...\n"
     ]
    },
    {
     "name": "stderr",
     "output_type": "stream",
     "text": [
      "Iteration: 100%|████████████████████████████████████████████████████████████████████████████████████████████████████████████████████████████████████████████████████████████████████████████████████████████| 283/283 [00:22<00:00, 12.83it/s]\n"
     ]
    },
    {
     "name": "stdout",
     "output_type": "stream",
     "text": [
      "Evaluating...\n"
     ]
    },
    {
     "name": "stderr",
     "output_type": "stream",
     "text": [
      "Iteration: 100%|████████████████████████████████████████████████████████████████████████████████████████████████████████████████████████████████████████████████████████████████████████████████████████████| 283/283 [00:07<00:00, 39.15it/s]\n"
     ]
    },
    {
     "name": "stdout",
     "output_type": "stream",
     "text": [
      "Number of classes in y_true: 12\n",
      "number of columns in y_score: 12\n"
     ]
    },
    {
     "name": "stderr",
     "output_type": "stream",
     "text": [
      "Iteration: 100%|██████████████████████████████████████████████████████████████████████████████████████████████████████████████████████████████████████████████████████████████████████████████████████████████| 32/32 [00:00<00:00, 42.14it/s]\n"
     ]
    },
    {
     "name": "stdout",
     "output_type": "stream",
     "text": [
      "Number of classes in y_true: 12\n",
      "number of columns in y_score: 12\n"
     ]
    },
    {
     "name": "stderr",
     "output_type": "stream",
     "text": [
      "Iteration: 100%|██████████████████████████████████████████████████████████████████████████████████████████████████████████████████████████████████████████████████████████████████████████████████████████████| 35/35 [00:00<00:00, 41.72it/s]\n"
     ]
    },
    {
     "name": "stdout",
     "output_type": "stream",
     "text": [
      "Number of classes in y_true: 12\n",
      "number of columns in y_score: 12\n",
      "{'Train':  best_epoch_indx:88\n",
      " auc:0.938612011856188 \n",
      " f1_micro:0.11039911614417898 \n",
      " f1_macro:0.07789441598930028 \n",
      " precision_micro:0.11039911614417898 \n",
      " precision_macro:0.11634763043098405 \n",
      " recall_micro:0.11039911614417898 \n",
      " recall_macro:0.6757783619572764 \n",
      ", 'Validation':  best_epoch_indx:88\n",
      " auc:0.862349722592133 \n",
      " f1_micro:0.09942828734775043 \n",
      " f1_macro:0.06044027729718398 \n",
      " precision_micro:0.09942828734775043 \n",
      " precision_macro:0.1066263002545292 \n",
      " recall_micro:0.09942828734775043 \n",
      " recall_macro:0.5242063419190478 \n",
      ", 'Test':  best_epoch_indx:88\n",
      " auc:0.8820750985131837 \n",
      " f1_micro:0.09932885906040269 \n",
      " f1_macro:0.06586045850519724 \n",
      " precision_micro:0.09932885906040269 \n",
      " precision_macro:0.10747124239049972 \n",
      " recall_micro:0.09932885906040269 \n",
      " recall_macro:0.5348149852423102 \n",
      "}\n",
      "=====Epoch 89\n",
      "Training...\n"
     ]
    },
    {
     "name": "stderr",
     "output_type": "stream",
     "text": [
      "Iteration: 100%|████████████████████████████████████████████████████████████████████████████████████████████████████████████████████████████████████████████████████████████████████████████████████████████| 283/283 [00:22<00:00, 12.48it/s]\n"
     ]
    },
    {
     "name": "stdout",
     "output_type": "stream",
     "text": [
      "Evaluating...\n"
     ]
    },
    {
     "name": "stderr",
     "output_type": "stream",
     "text": [
      "Iteration: 100%|████████████████████████████████████████████████████████████████████████████████████████████████████████████████████████████████████████████████████████████████████████████████████████████| 283/283 [00:06<00:00, 41.25it/s]\n"
     ]
    },
    {
     "name": "stdout",
     "output_type": "stream",
     "text": [
      "Number of classes in y_true: 12\n",
      "number of columns in y_score: 12\n"
     ]
    },
    {
     "name": "stderr",
     "output_type": "stream",
     "text": [
      "Iteration: 100%|██████████████████████████████████████████████████████████████████████████████████████████████████████████████████████████████████████████████████████████████████████████████████████████████| 32/32 [00:00<00:00, 42.15it/s]\n"
     ]
    },
    {
     "name": "stdout",
     "output_type": "stream",
     "text": [
      "Number of classes in y_true: 12\n",
      "number of columns in y_score: 12\n"
     ]
    },
    {
     "name": "stderr",
     "output_type": "stream",
     "text": [
      "Iteration: 100%|██████████████████████████████████████████████████████████████████████████████████████████████████████████████████████████████████████████████████████████████████████████████████████████████| 35/35 [00:00<00:00, 42.40it/s]\n"
     ]
    },
    {
     "name": "stdout",
     "output_type": "stream",
     "text": [
      "Number of classes in y_true: 12\n",
      "number of columns in y_score: 12\n",
      "{'Train':  best_epoch_indx:89\n",
      " auc:0.9376555962570468 \n",
      " f1_micro:0.13244027068084518 \n",
      " f1_macro:0.08456262501095507 \n",
      " precision_micro:0.13244027068084518 \n",
      " precision_macro:0.11784198891289716 \n",
      " recall_micro:0.13244027068084518 \n",
      " recall_macro:0.6786983918010338 \n",
      ", 'Validation':  best_epoch_indx:89\n",
      " auc:0.8672419521666652 \n",
      " f1_micro:0.11285110613969675 \n",
      " f1_macro:0.06569421863004986 \n",
      " precision_micro:0.11285110613969675 \n",
      " precision_macro:0.10708141614333115 \n",
      " recall_micro:0.11285110613969675 \n",
      " recall_macro:0.5236217498227947 \n",
      ", 'Test':  best_epoch_indx:89\n",
      " auc:0.8882640904680857 \n",
      " f1_micro:0.12237136465324384 \n",
      " f1_macro:0.071175599107993 \n",
      " precision_micro:0.12237136465324384 \n",
      " precision_macro:0.10900004234440974 \n",
      " recall_micro:0.12237136465324384 \n",
      " recall_macro:0.5426349223862971 \n",
      "}\n",
      "=====Epoch 90\n",
      "Training...\n"
     ]
    },
    {
     "name": "stderr",
     "output_type": "stream",
     "text": [
      "Iteration: 100%|████████████████████████████████████████████████████████████████████████████████████████████████████████████████████████████████████████████████████████████████████████████████████████████| 283/283 [00:22<00:00, 12.54it/s]\n"
     ]
    },
    {
     "name": "stdout",
     "output_type": "stream",
     "text": [
      "Evaluating...\n"
     ]
    },
    {
     "name": "stderr",
     "output_type": "stream",
     "text": [
      "Iteration: 100%|████████████████████████████████████████████████████████████████████████████████████████████████████████████████████████████████████████████████████████████████████████████████████████████| 283/283 [00:07<00:00, 39.25it/s]\n"
     ]
    },
    {
     "name": "stdout",
     "output_type": "stream",
     "text": [
      "Number of classes in y_true: 12\n",
      "number of columns in y_score: 12\n"
     ]
    },
    {
     "name": "stderr",
     "output_type": "stream",
     "text": [
      "Iteration: 100%|██████████████████████████████████████████████████████████████████████████████████████████████████████████████████████████████████████████████████████████████████████████████████████████████| 32/32 [00:00<00:00, 41.95it/s]\n"
     ]
    },
    {
     "name": "stdout",
     "output_type": "stream",
     "text": [
      "Number of classes in y_true: 12\n",
      "number of columns in y_score: 12\n"
     ]
    },
    {
     "name": "stderr",
     "output_type": "stream",
     "text": [
      "Iteration: 100%|██████████████████████████████████████████████████████████████████████████████████████████████████████████████████████████████████████████████████████████████████████████████████████████████| 35/35 [00:00<00:00, 41.79it/s]\n"
     ]
    },
    {
     "name": "stdout",
     "output_type": "stream",
     "text": [
      "Number of classes in y_true: 12\n",
      "number of columns in y_score: 12\n",
      "{'Train':  best_epoch_indx:90\n",
      " auc:0.9354993430467162 \n",
      " f1_micro:0.13462228973898632 \n",
      " f1_macro:0.07944363164797129 \n",
      " precision_micro:0.13462228973898632 \n",
      " precision_macro:0.11482324689480423 \n",
      " recall_micro:0.13462228973898632 \n",
      " recall_macro:0.6732407760119954 \n",
      ", 'Validation':  best_epoch_indx:90\n",
      " auc:0.8698744460583111 \n",
      " f1_micro:0.12428535918468804 \n",
      " f1_macro:0.06735180103108912 \n",
      " precision_micro:0.12428535918468804 \n",
      " precision_macro:0.10761883941666149 \n",
      " recall_micro:0.12428535918468804 \n",
      " recall_macro:0.5623642478197138 \n",
      ", 'Test':  best_epoch_indx:90\n",
      " auc:0.8833073890079957 \n",
      " f1_micro:0.13243847874720358 \n",
      " f1_macro:0.06611730544031857 \n",
      " precision_micro:0.13243847874720358 \n",
      " precision_macro:0.10539776526835087 \n",
      " recall_micro:0.13243847874720358 \n",
      " recall_macro:0.5131927743960244 \n",
      "}\n",
      "=====Epoch 91\n",
      "Training...\n"
     ]
    },
    {
     "name": "stderr",
     "output_type": "stream",
     "text": [
      "Iteration: 100%|████████████████████████████████████████████████████████████████████████████████████████████████████████████████████████████████████████████████████████████████████████████████████████████| 283/283 [00:22<00:00, 12.49it/s]\n"
     ]
    },
    {
     "name": "stdout",
     "output_type": "stream",
     "text": [
      "Evaluating...\n"
     ]
    },
    {
     "name": "stderr",
     "output_type": "stream",
     "text": [
      "Iteration: 100%|████████████████████████████████████████████████████████████████████████████████████████████████████████████████████████████████████████████████████████████████████████████████████████████| 283/283 [00:06<00:00, 41.19it/s]\n"
     ]
    },
    {
     "name": "stdout",
     "output_type": "stream",
     "text": [
      "Number of classes in y_true: 12\n",
      "number of columns in y_score: 12\n"
     ]
    },
    {
     "name": "stderr",
     "output_type": "stream",
     "text": [
      "Iteration: 100%|██████████████████████████████████████████████████████████████████████████████████████████████████████████████████████████████████████████████████████████████████████████████████████████████| 32/32 [00:00<00:00, 42.49it/s]\n"
     ]
    },
    {
     "name": "stdout",
     "output_type": "stream",
     "text": [
      "Number of classes in y_true: 12\n",
      "number of columns in y_score: 12\n"
     ]
    },
    {
     "name": "stderr",
     "output_type": "stream",
     "text": [
      "Iteration: 100%|██████████████████████████████████████████████████████████████████████████████████████████████████████████████████████████████████████████████████████████████████████████████████████████████| 35/35 [00:00<00:00, 42.24it/s]\n"
     ]
    },
    {
     "name": "stdout",
     "output_type": "stream",
     "text": [
      "Number of classes in y_true: 12\n",
      "number of columns in y_score: 12\n",
      "{'Train':  best_epoch_indx:91\n",
      " auc:0.9337136887225793 \n",
      " f1_micro:0.07753072780002762 \n",
      " f1_macro:0.06594421583633207 \n",
      " precision_micro:0.07753072780002762 \n",
      " precision_macro:0.1126025235475082 \n",
      " recall_micro:0.07753072780002762 \n",
      " recall_macro:0.664734905374696 \n",
      ", 'Validation':  best_epoch_indx:91\n",
      " auc:0.8586368101924217 \n",
      " f1_micro:0.06910265970668655 \n",
      " f1_macro:0.052978902227815955 \n",
      " precision_micro:0.06910265970668655 \n",
      " precision_macro:0.1047978777269929 \n",
      " recall_micro:0.06910265970668655 \n",
      " recall_macro:0.5468118785169147 \n",
      ", 'Test':  best_epoch_indx:91\n",
      " auc:0.8805684647404813 \n",
      " f1_micro:0.07315436241610739 \n",
      " f1_macro:0.057736744863254474 \n",
      " precision_micro:0.07315436241610739 \n",
      " precision_macro:0.10762495366806701 \n",
      " recall_micro:0.07315436241610739 \n",
      " recall_macro:0.5395141560923363 \n",
      "}\n",
      "=====Epoch 92\n",
      "Training...\n"
     ]
    },
    {
     "name": "stderr",
     "output_type": "stream",
     "text": [
      "Iteration: 100%|████████████████████████████████████████████████████████████████████████████████████████████████████████████████████████████████████████████████████████████████████████████████████████████| 283/283 [00:22<00:00, 12.49it/s]\n"
     ]
    },
    {
     "name": "stdout",
     "output_type": "stream",
     "text": [
      "Evaluating...\n"
     ]
    },
    {
     "name": "stderr",
     "output_type": "stream",
     "text": [
      "Iteration: 100%|████████████████████████████████████████████████████████████████████████████████████████████████████████████████████████████████████████████████████████████████████████████████████████████| 283/283 [00:07<00:00, 39.07it/s]\n"
     ]
    },
    {
     "name": "stdout",
     "output_type": "stream",
     "text": [
      "Number of classes in y_true: 12\n",
      "number of columns in y_score: 12\n"
     ]
    },
    {
     "name": "stderr",
     "output_type": "stream",
     "text": [
      "Iteration: 100%|██████████████████████████████████████████████████████████████████████████████████████████████████████████████████████████████████████████████████████████████████████████████████████████████| 32/32 [00:00<00:00, 41.51it/s]\n"
     ]
    },
    {
     "name": "stdout",
     "output_type": "stream",
     "text": [
      "Number of classes in y_true: 12\n",
      "number of columns in y_score: 12\n"
     ]
    },
    {
     "name": "stderr",
     "output_type": "stream",
     "text": [
      "Iteration: 100%|██████████████████████████████████████████████████████████████████████████████████████████████████████████████████████████████████████████████████████████████████████████████████████████████| 35/35 [00:00<00:00, 41.61it/s]\n"
     ]
    },
    {
     "name": "stdout",
     "output_type": "stream",
     "text": [
      "Number of classes in y_true: 12\n",
      "number of columns in y_score: 12\n",
      "{'Train':  best_epoch_indx:92\n",
      " auc:0.9405694198968247 \n",
      " f1_micro:0.08995995028311009 \n",
      " f1_macro:0.07081829553818643 \n",
      " precision_micro:0.08995995028311007 \n",
      " precision_macro:0.11417602961521496 \n",
      " recall_micro:0.08995995028311007 \n",
      " recall_macro:0.6774433007391746 \n",
      ", 'Validation':  best_epoch_indx:92\n",
      " auc:0.8666216935297016 \n",
      " f1_micro:0.08575689783743475 \n",
      " f1_macro:0.05638028758993845 \n",
      " precision_micro:0.08575689783743475 \n",
      " precision_macro:0.10540153466357093 \n",
      " recall_micro:0.08575689783743475 \n",
      " recall_macro:0.5394263975185827 \n",
      ", 'Test':  best_epoch_indx:92\n",
      " auc:0.8957054613685448 \n",
      " f1_micro:0.08903803131991052 \n",
      " f1_macro:0.06529609394950363 \n",
      " precision_micro:0.08903803131991052 \n",
      " precision_macro:0.10996878716672932 \n",
      " recall_micro:0.08903803131991052 \n",
      " recall_macro:0.5911032631476824 \n",
      "}\n",
      "=====Epoch 93\n",
      "Training...\n"
     ]
    },
    {
     "name": "stderr",
     "output_type": "stream",
     "text": [
      "Iteration: 100%|████████████████████████████████████████████████████████████████████████████████████████████████████████████████████████████████████████████████████████████████████████████████████████████| 283/283 [00:22<00:00, 12.46it/s]\n"
     ]
    },
    {
     "name": "stdout",
     "output_type": "stream",
     "text": [
      "Evaluating...\n"
     ]
    },
    {
     "name": "stderr",
     "output_type": "stream",
     "text": [
      "Iteration: 100%|████████████████████████████████████████████████████████████████████████████████████████████████████████████████████████████████████████████████████████████████████████████████████████████| 283/283 [00:06<00:00, 41.26it/s]\n"
     ]
    },
    {
     "name": "stdout",
     "output_type": "stream",
     "text": [
      "Number of classes in y_true: 12\n",
      "number of columns in y_score: 12\n"
     ]
    },
    {
     "name": "stderr",
     "output_type": "stream",
     "text": [
      "Iteration: 100%|██████████████████████████████████████████████████████████████████████████████████████████████████████████████████████████████████████████████████████████████████████████████████████████████| 32/32 [00:00<00:00, 42.55it/s]\n"
     ]
    },
    {
     "name": "stdout",
     "output_type": "stream",
     "text": [
      "Number of classes in y_true: 12\n",
      "number of columns in y_score: 12\n"
     ]
    },
    {
     "name": "stderr",
     "output_type": "stream",
     "text": [
      "Iteration: 100%|██████████████████████████████████████████████████████████████████████████████████████████████████████████████████████████████████████████████████████████████████████████████████████████████| 35/35 [00:00<00:00, 42.23it/s]\n"
     ]
    },
    {
     "name": "stdout",
     "output_type": "stream",
     "text": [
      "Number of classes in y_true: 12\n",
      "number of columns in y_score: 12\n",
      "{'Train':  best_epoch_indx:93\n",
      " auc:0.9391028056447566 \n",
      " f1_micro:0.09037425769921281 \n",
      " f1_macro:0.0714182297149578 \n",
      " precision_micro:0.09037425769921281 \n",
      " precision_macro:0.11561792573698039 \n",
      " recall_micro:0.09037425769921281 \n",
      " recall_macro:0.6605702103664882 \n",
      ", 'Validation':  best_epoch_indx:93\n",
      " auc:0.8698299000515315 \n",
      " f1_micro:0.08227690778026349 \n",
      " f1_macro:0.05547197159211046 \n",
      " precision_micro:0.08227690778026349 \n",
      " precision_macro:0.10615734302981528 \n",
      " recall_micro:0.08227690778026349 \n",
      " recall_macro:0.503928592629361 \n",
      ", 'Test':  best_epoch_indx:93\n",
      " auc:0.8920745341936437 \n",
      " f1_micro:0.08545861297539149 \n",
      " f1_macro:0.06183816475041406 \n",
      " precision_micro:0.08545861297539149 \n",
      " precision_macro:0.10719336066842168 \n",
      " recall_micro:0.08545861297539149 \n",
      " recall_macro:0.5836361508642832 \n",
      "}\n",
      "=====Epoch 94\n",
      "Training...\n"
     ]
    },
    {
     "name": "stderr",
     "output_type": "stream",
     "text": [
      "Iteration: 100%|████████████████████████████████████████████████████████████████████████████████████████████████████████████████████████████████████████████████████████████████████████████████████████████| 283/283 [00:22<00:00, 12.57it/s]\n"
     ]
    },
    {
     "name": "stdout",
     "output_type": "stream",
     "text": [
      "Evaluating...\n"
     ]
    },
    {
     "name": "stderr",
     "output_type": "stream",
     "text": [
      "Iteration: 100%|████████████████████████████████████████████████████████████████████████████████████████████████████████████████████████████████████████████████████████████████████████████████████████████| 283/283 [00:06<00:00, 40.85it/s]\n"
     ]
    },
    {
     "name": "stdout",
     "output_type": "stream",
     "text": [
      "Number of classes in y_true: 12\n",
      "number of columns in y_score: 12\n"
     ]
    },
    {
     "name": "stderr",
     "output_type": "stream",
     "text": [
      "Iteration: 100%|██████████████████████████████████████████████████████████████████████████████████████████████████████████████████████████████████████████████████████████████████████████████████████████████| 32/32 [00:00<00:00, 42.15it/s]\n"
     ]
    },
    {
     "name": "stdout",
     "output_type": "stream",
     "text": [
      "Number of classes in y_true: 12\n",
      "number of columns in y_score: 12\n"
     ]
    },
    {
     "name": "stderr",
     "output_type": "stream",
     "text": [
      "Iteration: 100%|██████████████████████████████████████████████████████████████████████████████████████████████████████████████████████████████████████████████████████████████████████████████████████████████| 35/35 [00:00<00:00, 41.65it/s]\n"
     ]
    },
    {
     "name": "stdout",
     "output_type": "stream",
     "text": [
      "Number of classes in y_true: 12\n",
      "number of columns in y_score: 12\n",
      "{'Train':  best_epoch_indx:94\n",
      " auc:0.926143961456842 \n",
      " f1_micro:0.09600883855821019 \n",
      " f1_macro:0.07016958852749182 \n",
      " precision_micro:0.09600883855821019 \n",
      " precision_macro:0.1126795784914627 \n",
      " recall_micro:0.09600883855821019 \n",
      " recall_macro:0.6316861529863377 \n",
      ", 'Validation':  best_epoch_indx:94\n",
      " auc:0.8497655753034885 \n",
      " f1_micro:0.08898831717623663 \n",
      " f1_macro:0.053817616565260996 \n",
      " precision_micro:0.08898831717623663 \n",
      " precision_macro:0.10358984584496615 \n",
      " recall_micro:0.08898831717623663 \n",
      " recall_macro:0.4938254718548242 \n",
      ", 'Test':  best_epoch_indx:94\n",
      " auc:0.8636841622137229 \n",
      " f1_micro:0.08769574944071588 \n",
      " f1_macro:0.05613184601940163 \n",
      " precision_micro:0.08769574944071588 \n",
      " precision_macro:0.1046128691622374 \n",
      " recall_micro:0.08769574944071588 \n",
      " recall_macro:0.4717802095953077 \n",
      "}\n",
      "=====Epoch 95\n",
      "Training...\n"
     ]
    },
    {
     "name": "stderr",
     "output_type": "stream",
     "text": [
      "Iteration: 100%|████████████████████████████████████████████████████████████████████████████████████████████████████████████████████████████████████████████████████████████████████████████████████████████| 283/283 [00:22<00:00, 12.46it/s]\n"
     ]
    },
    {
     "name": "stdout",
     "output_type": "stream",
     "text": [
      "Evaluating...\n"
     ]
    },
    {
     "name": "stderr",
     "output_type": "stream",
     "text": [
      "Iteration: 100%|████████████████████████████████████████████████████████████████████████████████████████████████████████████████████████████████████████████████████████████████████████████████████████████| 283/283 [00:07<00:00, 39.78it/s]\n"
     ]
    },
    {
     "name": "stdout",
     "output_type": "stream",
     "text": [
      "Number of classes in y_true: 12\n",
      "number of columns in y_score: 12\n"
     ]
    },
    {
     "name": "stderr",
     "output_type": "stream",
     "text": [
      "Iteration: 100%|██████████████████████████████████████████████████████████████████████████████████████████████████████████████████████████████████████████████████████████████████████████████████████████████| 32/32 [00:00<00:00, 42.37it/s]\n"
     ]
    },
    {
     "name": "stdout",
     "output_type": "stream",
     "text": [
      "Number of classes in y_true: 12\n",
      "number of columns in y_score: 12\n"
     ]
    },
    {
     "name": "stderr",
     "output_type": "stream",
     "text": [
      "Iteration: 100%|██████████████████████████████████████████████████████████████████████████████████████████████████████████████████████████████████████████████████████████████████████████████████████████████| 35/35 [00:00<00:00, 42.18it/s]\n"
     ]
    },
    {
     "name": "stdout",
     "output_type": "stream",
     "text": [
      "Number of classes in y_true: 12\n",
      "number of columns in y_score: 12\n",
      "{'Train':  best_epoch_indx:95\n",
      " auc:0.9395036680770001 \n",
      " f1_micro:0.12042535561386548 \n",
      " f1_macro:0.08519262783945092 \n",
      " precision_micro:0.12042535561386548 \n",
      " precision_macro:0.1196465784025003 \n",
      " recall_micro:0.12042535561386548 \n",
      " recall_macro:0.665861682635218 \n",
      ", 'Validation':  best_epoch_indx:95\n",
      " auc:0.8608721584356885 \n",
      " f1_micro:0.11011682823763361 \n",
      " f1_macro:0.06844589864174698 \n",
      " precision_micro:0.11011682823763361 \n",
      " precision_macro:0.11037641449386687 \n",
      " recall_micro:0.11011682823763361 \n",
      " recall_macro:0.5429553398873614 \n",
      ", 'Test':  best_epoch_indx:95\n",
      " auc:0.8872312145463339 \n",
      " f1_micro:0.11387024608501119 \n",
      " f1_macro:0.07115902150292756 \n",
      " precision_micro:0.11387024608501119 \n",
      " precision_macro:0.1112681147830731 \n",
      " recall_micro:0.11387024608501119 \n",
      " recall_macro:0.5346705464780942 \n",
      "}\n",
      "=====Epoch 96\n",
      "Training...\n"
     ]
    },
    {
     "name": "stderr",
     "output_type": "stream",
     "text": [
      "Iteration: 100%|████████████████████████████████████████████████████████████████████████████████████████████████████████████████████████████████████████████████████████████████████████████████████████████| 283/283 [00:22<00:00, 12.54it/s]\n"
     ]
    },
    {
     "name": "stdout",
     "output_type": "stream",
     "text": [
      "Evaluating...\n"
     ]
    },
    {
     "name": "stderr",
     "output_type": "stream",
     "text": [
      "Iteration: 100%|████████████████████████████████████████████████████████████████████████████████████████████████████████████████████████████████████████████████████████████████████████████████████████████| 283/283 [00:07<00:00, 38.55it/s]\n"
     ]
    },
    {
     "name": "stdout",
     "output_type": "stream",
     "text": [
      "Number of classes in y_true: 12\n",
      "number of columns in y_score: 12\n"
     ]
    },
    {
     "name": "stderr",
     "output_type": "stream",
     "text": [
      "Iteration: 100%|██████████████████████████████████████████████████████████████████████████████████████████████████████████████████████████████████████████████████████████████████████████████████████████████| 32/32 [00:00<00:00, 42.17it/s]\n"
     ]
    },
    {
     "name": "stdout",
     "output_type": "stream",
     "text": [
      "Number of classes in y_true: 12\n",
      "number of columns in y_score: 12\n"
     ]
    },
    {
     "name": "stderr",
     "output_type": "stream",
     "text": [
      "Iteration: 100%|██████████████████████████████████████████████████████████████████████████████████████████████████████████████████████████████████████████████████████████████████████████████████████████████| 35/35 [00:00<00:00, 42.00it/s]\n"
     ]
    },
    {
     "name": "stdout",
     "output_type": "stream",
     "text": [
      "Number of classes in y_true: 12\n",
      "number of columns in y_score: 12\n",
      "{'Train':  best_epoch_indx:96\n",
      " auc:0.9411798951435646 \n",
      " f1_micro:0.0823366938268195 \n",
      " f1_macro:0.07430068637021901 \n",
      " precision_micro:0.0823366938268195 \n",
      " precision_macro:0.11650762092098181 \n",
      " recall_micro:0.0823366938268195 \n",
      " recall_macro:0.687880030686952 \n",
      ", 'Validation':  best_epoch_indx:96\n",
      " auc:0.8657781313101169 \n",
      " f1_micro:0.07009694258016405 \n",
      " f1_macro:0.055479539374628906 \n",
      " precision_micro:0.07009694258016405 \n",
      " precision_macro:0.10437137510440103 \n",
      " recall_micro:0.07009694258016405 \n",
      " recall_macro:0.508875714045892 \n",
      ", 'Test':  best_epoch_indx:96\n",
      " auc:0.8868768845625917 \n",
      " f1_micro:0.07360178970917226 \n",
      " f1_macro:0.061247852799069184 \n",
      " precision_micro:0.07360178970917226 \n",
      " precision_macro:0.10689604921041063 \n",
      " recall_micro:0.07360178970917226 \n",
      " recall_macro:0.5354351918206607 \n",
      "}\n",
      "=====Epoch 97\n",
      "Training...\n"
     ]
    },
    {
     "name": "stderr",
     "output_type": "stream",
     "text": [
      "Iteration: 100%|████████████████████████████████████████████████████████████████████████████████████████████████████████████████████████████████████████████████████████████████████████████████████████████| 283/283 [00:22<00:00, 12.42it/s]\n"
     ]
    },
    {
     "name": "stdout",
     "output_type": "stream",
     "text": [
      "Evaluating...\n"
     ]
    },
    {
     "name": "stderr",
     "output_type": "stream",
     "text": [
      "Iteration: 100%|████████████████████████████████████████████████████████████████████████████████████████████████████████████████████████████████████████████████████████████████████████████████████████████| 283/283 [00:06<00:00, 41.19it/s]\n"
     ]
    },
    {
     "name": "stdout",
     "output_type": "stream",
     "text": [
      "Number of classes in y_true: 12\n",
      "number of columns in y_score: 12\n"
     ]
    },
    {
     "name": "stderr",
     "output_type": "stream",
     "text": [
      "Iteration: 100%|██████████████████████████████████████████████████████████████████████████████████████████████████████████████████████████████████████████████████████████████████████████████████████████████| 32/32 [00:00<00:00, 42.42it/s]\n"
     ]
    },
    {
     "name": "stdout",
     "output_type": "stream",
     "text": [
      "Number of classes in y_true: 12\n",
      "number of columns in y_score: 12\n"
     ]
    },
    {
     "name": "stderr",
     "output_type": "stream",
     "text": [
      "Iteration: 100%|██████████████████████████████████████████████████████████████████████████████████████████████████████████████████████████████████████████████████████████████████████████████████████████████| 35/35 [00:00<00:00, 42.13it/s]\n"
     ]
    },
    {
     "name": "stdout",
     "output_type": "stream",
     "text": [
      "Number of classes in y_true: 12\n",
      "number of columns in y_score: 12\n",
      "{'Train':  best_epoch_indx:97\n",
      " auc:0.9396748322852043 \n",
      " f1_micro:0.11360309349537356 \n",
      " f1_macro:0.0817716693932649 \n",
      " precision_micro:0.11360309349537356 \n",
      " precision_macro:0.11839288099738075 \n",
      " recall_micro:0.11360309349537356 \n",
      " recall_macro:0.6772849700725215 \n",
      ", 'Validation':  best_epoch_indx:97\n",
      " auc:0.8614265951115252 \n",
      " f1_micro:0.10564255530698484 \n",
      " f1_macro:0.06137223223387423 \n",
      " precision_micro:0.10564255530698484 \n",
      " precision_macro:0.10704722176274799 \n",
      " recall_micro:0.10564255530698484 \n",
      " recall_macro:0.49242035288696284 \n",
      ", 'Test':  best_epoch_indx:97\n",
      " auc:0.8773093769736182 \n",
      " f1_micro:0.10939597315436243 \n",
      " f1_macro:0.066343826914457 \n",
      " precision_micro:0.10939597315436242 \n",
      " precision_macro:0.1076470515446481 \n",
      " recall_micro:0.10939597315436242 \n",
      " recall_macro:0.540111460476297 \n",
      "}\n",
      "=====Epoch 98\n",
      "Training...\n"
     ]
    },
    {
     "name": "stderr",
     "output_type": "stream",
     "text": [
      "Iteration: 100%|████████████████████████████████████████████████████████████████████████████████████████████████████████████████████████████████████████████████████████████████████████████████████████████| 283/283 [00:22<00:00, 12.57it/s]\n"
     ]
    },
    {
     "name": "stdout",
     "output_type": "stream",
     "text": [
      "Evaluating...\n"
     ]
    },
    {
     "name": "stderr",
     "output_type": "stream",
     "text": [
      "Iteration: 100%|████████████████████████████████████████████████████████████████████████████████████████████████████████████████████████████████████████████████████████████████████████████████████████████| 283/283 [00:06<00:00, 40.90it/s]\n"
     ]
    },
    {
     "name": "stdout",
     "output_type": "stream",
     "text": [
      "Number of classes in y_true: 12\n",
      "number of columns in y_score: 12\n"
     ]
    },
    {
     "name": "stderr",
     "output_type": "stream",
     "text": [
      "Iteration: 100%|██████████████████████████████████████████████████████████████████████████████████████████████████████████████████████████████████████████████████████████████████████████████████████████████| 32/32 [00:00<00:00, 42.28it/s]\n"
     ]
    },
    {
     "name": "stdout",
     "output_type": "stream",
     "text": [
      "Number of classes in y_true: 12\n",
      "number of columns in y_score: 12\n"
     ]
    },
    {
     "name": "stderr",
     "output_type": "stream",
     "text": [
      "Iteration: 100%|██████████████████████████████████████████████████████████████████████████████████████████████████████████████████████████████████████████████████████████████████████████████████████████████| 35/35 [00:00<00:00, 41.84it/s]\n"
     ]
    },
    {
     "name": "stdout",
     "output_type": "stream",
     "text": [
      "Number of classes in y_true: 12\n",
      "number of columns in y_score: 12\n",
      "{'Train':  best_epoch_indx:98\n",
      " auc:0.9384803986140313 \n",
      " f1_micro:0.09631266399668553 \n",
      " f1_macro:0.07374348571245015 \n",
      " precision_micro:0.09631266399668555 \n",
      " precision_macro:0.11559819615939892 \n",
      " recall_micro:0.09631266399668555 \n",
      " recall_macro:0.6808759932367435 \n",
      ", 'Validation':  best_epoch_indx:98\n",
      " auc:0.8659646945645392 \n",
      " f1_micro:0.08177976634352473 \n",
      " f1_macro:0.05088567109637417 \n",
      " precision_micro:0.08177976634352473 \n",
      " precision_macro:0.10144404772594227 \n",
      " recall_micro:0.08177976634352473 \n",
      " recall_macro:0.4869213652692362 \n",
      ", 'Test':  best_epoch_indx:98\n",
      " auc:0.883091258193285 \n",
      " f1_micro:0.08501118568232663 \n",
      " f1_macro:0.059271952060480214 \n",
      " precision_micro:0.08501118568232663 \n",
      " precision_macro:0.10546079382846697 \n",
      " recall_micro:0.08501118568232663 \n",
      " recall_macro:0.538315001645247 \n",
      "}\n",
      "=====Epoch 99\n",
      "Training...\n"
     ]
    },
    {
     "name": "stderr",
     "output_type": "stream",
     "text": [
      "Iteration: 100%|████████████████████████████████████████████████████████████████████████████████████████████████████████████████████████████████████████████████████████████████████████████████████████████| 283/283 [00:22<00:00, 12.45it/s]\n"
     ]
    },
    {
     "name": "stdout",
     "output_type": "stream",
     "text": [
      "Evaluating...\n"
     ]
    },
    {
     "name": "stderr",
     "output_type": "stream",
     "text": [
      "Iteration: 100%|████████████████████████████████████████████████████████████████████████████████████████████████████████████████████████████████████████████████████████████████████████████████████████████| 283/283 [00:07<00:00, 39.47it/s]\n"
     ]
    },
    {
     "name": "stdout",
     "output_type": "stream",
     "text": [
      "Number of classes in y_true: 12\n",
      "number of columns in y_score: 12\n"
     ]
    },
    {
     "name": "stderr",
     "output_type": "stream",
     "text": [
      "Iteration: 100%|██████████████████████████████████████████████████████████████████████████████████████████████████████████████████████████████████████████████████████████████████████████████████████████████| 32/32 [00:00<00:00, 42.14it/s]\n"
     ]
    },
    {
     "name": "stdout",
     "output_type": "stream",
     "text": [
      "Number of classes in y_true: 12\n",
      "number of columns in y_score: 12\n"
     ]
    },
    {
     "name": "stderr",
     "output_type": "stream",
     "text": [
      "Iteration: 100%|██████████████████████████████████████████████████████████████████████████████████████████████████████████████████████████████████████████████████████████████████████████████████████████████| 35/35 [00:00<00:00, 42.15it/s]\n"
     ]
    },
    {
     "name": "stdout",
     "output_type": "stream",
     "text": [
      "Number of classes in y_true: 12\n",
      "number of columns in y_score: 12\n",
      "{'Train':  best_epoch_indx:99\n",
      " auc:0.941459317931588 \n",
      " f1_micro:0.20339732081204254 \n",
      " f1_macro:0.09656091561986806 \n",
      " precision_micro:0.20339732081204254 \n",
      " precision_macro:0.11898961898017806 \n",
      " recall_micro:0.20339732081204254 \n",
      " recall_macro:0.6993710414503442 \n",
      ", 'Validation':  best_epoch_indx:99\n",
      " auc:0.8633976205068357 \n",
      " f1_micro:0.1963708675118071 \n",
      " f1_macro:0.07432871208996224 \n",
      " precision_micro:0.1963708675118071 \n",
      " precision_macro:0.10555590341647082 \n",
      " recall_micro:0.1963708675118071 \n",
      " recall_macro:0.495210942215177 \n",
      ", 'Test':  best_epoch_indx:99\n",
      " auc:0.8881928382698011 \n",
      " f1_micro:0.1982102908277405 \n",
      " f1_macro:0.07884858424464779 \n",
      " precision_micro:0.1982102908277405 \n",
      " precision_macro:0.10755901465344997 \n",
      " recall_micro:0.1982102908277405 \n",
      " recall_macro:0.5217108716701978 \n",
      "}\n",
      "Finished training!\n",
      "Best validation score: 0.8738178694639315\n",
      "Test score: 0.8879913963466799\n",
      "CPU times: user 52min 19s, sys: 1min 38s, total: 53min 57s\n",
      "Wall time: 53min 44s\n"
     ]
    }
   ],
   "source": [
    "%%time\n",
    "\n",
    "for epoch in range(tp[\"num_epochs\"]):\n",
    "    print(\"=====Epoch {}\".format(epoch))\n",
    "    print('Training...')\n",
    "#     train(model, device, train_loader, optimizer, dataset.task_type)\n",
    "    train()\n",
    "\n",
    "    print('Evaluating...')\n",
    "#     train_perf = eval(model, device, train_loader, evaluator)\n",
    "#     valid_perf = eval(model, device, valid_loader, evaluator)\n",
    "#     test_perf = eval(model, device, test_loader, evaluator)\n",
    "    train_perf = eval(train_loader, dsettype=\"train\")\n",
    "    valid_perf = eval(valid_loader, dsettype=\"valid\")\n",
    "    test_perf = eval(test_loader, dsettype=\"test\")\n",
    "\n",
    "    print({'Train': train_perf, 'Validation': valid_perf, 'Test': test_perf})\n",
    "\n",
    "    train_curve.append(train_perf.s_auc)\n",
    "    valid_curve.append(valid_perf.s_auc)\n",
    "    test_curve.append(test_perf.s_auc)\n",
    "\n",
    "# if 'classification' in dataset.task_type:\n",
    "best_val_epoch = np.argmax(np.array(valid_curve))\n",
    "best_train = max(train_curve)\n",
    "# else:\n",
    "#     best_val_epoch = np.argmin(np.array(valid_curve))\n",
    "#     best_train = min(train_curve)\n",
    "\n",
    "print('Finished training!')\n",
    "print('Best validation score: {}'.format(valid_curve[best_val_epoch]))\n",
    "print('Test score: {}'.format(test_curve[best_val_epoch]))"
   ]
  },
  {
   "cell_type": "code",
   "execution_count": 54,
   "metadata": {
    "scrolled": true
   },
   "outputs": [
    {
     "data": {
      "text/plain": [
       "[0.6201666326615611,\n",
       " 0.6921055491966996,\n",
       " 0.7063420445619417,\n",
       " 0.7015367707185584,\n",
       " 0.712048524910686,\n",
       " 0.693518360784919,\n",
       " 0.704824676403148,\n",
       " 0.6921966986192579,\n",
       " 0.7121921693281211,\n",
       " 0.7233887423606844,\n",
       " 0.7215607995562768,\n",
       " 0.7521447264940164,\n",
       " 0.7268348493577887,\n",
       " 0.7549661394085596,\n",
       " 0.7588931253347071,\n",
       " 0.7698741205016929,\n",
       " 0.7543264529527942,\n",
       " 0.7661150745130291,\n",
       " 0.7685634927668105,\n",
       " 0.7648143052796611,\n",
       " 0.7753776908164396,\n",
       " 0.7713512059510862,\n",
       " 0.7867469622620132,\n",
       " 0.793220595924783,\n",
       " 0.7935378146757677,\n",
       " 0.7966652579224917,\n",
       " 0.7739997031108046,\n",
       " 0.7903543148677471,\n",
       " 0.8070027668753672,\n",
       " 0.8099161411249234,\n",
       " 0.7948400954625705,\n",
       " 0.8216003378762108,\n",
       " 0.8175267439843888,\n",
       " 0.8096406997573911,\n",
       " 0.8162603930975142,\n",
       " 0.8136747049001718,\n",
       " 0.7994968897076383,\n",
       " 0.811631866436674,\n",
       " 0.803005091537526,\n",
       " 0.8123921173021944,\n",
       " 0.8143728718122826,\n",
       " 0.8303521487476782,\n",
       " 0.8257459693671945,\n",
       " 0.8194991881516982,\n",
       " 0.827430126247811,\n",
       " 0.8337816272858531,\n",
       " 0.8421692229793436,\n",
       " 0.836605309403596,\n",
       " 0.8326457400115506,\n",
       " 0.8407584164817923,\n",
       " 0.8220788906653717,\n",
       " 0.8231177568925008,\n",
       " 0.8320276953006935,\n",
       " 0.8393986582910962,\n",
       " 0.8520033640220891,\n",
       " 0.8414109203643876,\n",
       " 0.8448819556436937,\n",
       " 0.8483470247918524,\n",
       " 0.8488007928231125,\n",
       " 0.8405023426314967,\n",
       " 0.8550722908175957,\n",
       " 0.8538830437655438,\n",
       " 0.8557618384530449,\n",
       " 0.8720559113077629,\n",
       " 0.8638478775031995,\n",
       " 0.850254050387268,\n",
       " 0.8507445957661949,\n",
       " 0.8588652483183322,\n",
       " 0.8601011724496295,\n",
       " 0.8601748496669952,\n",
       " 0.863974544564814,\n",
       " 0.8658683074861662,\n",
       " 0.8714887034543874,\n",
       " 0.8475233317825346,\n",
       " 0.8627484383630563,\n",
       " 0.8682511332589091,\n",
       " 0.8725313285162425,\n",
       " 0.8759693868008318,\n",
       " 0.8729447829981158,\n",
       " 0.8769076302366582,\n",
       " 0.8880069901531316,\n",
       " 0.8667524518717025,\n",
       " 0.8811960334949749,\n",
       " 0.8818396746573305,\n",
       " 0.8731526299065018,\n",
       " 0.872275291551793,\n",
       " 0.8902461122210312,\n",
       " 0.8879913963466799,\n",
       " 0.8820750985131837,\n",
       " 0.8882640904680857,\n",
       " 0.8833073890079957,\n",
       " 0.8805684647404813,\n",
       " 0.8957054613685448,\n",
       " 0.8920745341936437,\n",
       " 0.8636841622137229,\n",
       " 0.8872312145463339,\n",
       " 0.8868768845625917,\n",
       " 0.8773093769736182,\n",
       " 0.883091258193285,\n",
       " 0.8881928382698011]"
      ]
     },
     "execution_count": 54,
     "metadata": {},
     "output_type": "execute_result"
    }
   ],
   "source": [
    "test_curve"
   ]
  },
  {
   "cell_type": "code",
   "execution_count": 55,
   "metadata": {},
   "outputs": [],
   "source": [
    "df_curves = pd.DataFrame(np.array([train_curve, valid_curve, test_curve]).T)\n",
    "df_curves.columns = ['train', 'valid', 'test']\n",
    "df_curves.index.name = \"epoch\""
   ]
  },
  {
   "cell_type": "code",
   "execution_count": 56,
   "metadata": {},
   "outputs": [
    {
     "data": {
      "text/html": [
       "<div>\n",
       "<style scoped>\n",
       "    .dataframe tbody tr th:only-of-type {\n",
       "        vertical-align: middle;\n",
       "    }\n",
       "\n",
       "    .dataframe tbody tr th {\n",
       "        vertical-align: top;\n",
       "    }\n",
       "\n",
       "    .dataframe thead th {\n",
       "        text-align: right;\n",
       "    }\n",
       "</style>\n",
       "<table border=\"1\" class=\"dataframe\">\n",
       "  <thead>\n",
       "    <tr style=\"text-align: right;\">\n",
       "      <th></th>\n",
       "      <th>train</th>\n",
       "      <th>valid</th>\n",
       "      <th>test</th>\n",
       "    </tr>\n",
       "    <tr>\n",
       "      <th>epoch</th>\n",
       "      <th></th>\n",
       "      <th></th>\n",
       "      <th></th>\n",
       "    </tr>\n",
       "  </thead>\n",
       "  <tbody>\n",
       "    <tr>\n",
       "      <th>0</th>\n",
       "      <td>0.668277</td>\n",
       "      <td>0.614011</td>\n",
       "      <td>0.620167</td>\n",
       "    </tr>\n",
       "    <tr>\n",
       "      <th>1</th>\n",
       "      <td>0.695921</td>\n",
       "      <td>0.649733</td>\n",
       "      <td>0.692106</td>\n",
       "    </tr>\n",
       "    <tr>\n",
       "      <th>2</th>\n",
       "      <td>0.726216</td>\n",
       "      <td>0.676972</td>\n",
       "      <td>0.706342</td>\n",
       "    </tr>\n",
       "    <tr>\n",
       "      <th>3</th>\n",
       "      <td>0.730533</td>\n",
       "      <td>0.677153</td>\n",
       "      <td>0.701537</td>\n",
       "    </tr>\n",
       "    <tr>\n",
       "      <th>4</th>\n",
       "      <td>0.740660</td>\n",
       "      <td>0.673573</td>\n",
       "      <td>0.712049</td>\n",
       "    </tr>\n",
       "    <tr>\n",
       "      <th>...</th>\n",
       "      <td>...</td>\n",
       "      <td>...</td>\n",
       "      <td>...</td>\n",
       "    </tr>\n",
       "    <tr>\n",
       "      <th>95</th>\n",
       "      <td>0.939504</td>\n",
       "      <td>0.860872</td>\n",
       "      <td>0.887231</td>\n",
       "    </tr>\n",
       "    <tr>\n",
       "      <th>96</th>\n",
       "      <td>0.941180</td>\n",
       "      <td>0.865778</td>\n",
       "      <td>0.886877</td>\n",
       "    </tr>\n",
       "    <tr>\n",
       "      <th>97</th>\n",
       "      <td>0.939675</td>\n",
       "      <td>0.861427</td>\n",
       "      <td>0.877309</td>\n",
       "    </tr>\n",
       "    <tr>\n",
       "      <th>98</th>\n",
       "      <td>0.938480</td>\n",
       "      <td>0.865965</td>\n",
       "      <td>0.883091</td>\n",
       "    </tr>\n",
       "    <tr>\n",
       "      <th>99</th>\n",
       "      <td>0.941459</td>\n",
       "      <td>0.863398</td>\n",
       "      <td>0.888193</td>\n",
       "    </tr>\n",
       "  </tbody>\n",
       "</table>\n",
       "<p>100 rows × 3 columns</p>\n",
       "</div>"
      ],
      "text/plain": [
       "          train     valid      test\n",
       "epoch                              \n",
       "0      0.668277  0.614011  0.620167\n",
       "1      0.695921  0.649733  0.692106\n",
       "2      0.726216  0.676972  0.706342\n",
       "3      0.730533  0.677153  0.701537\n",
       "4      0.740660  0.673573  0.712049\n",
       "...         ...       ...       ...\n",
       "95     0.939504  0.860872  0.887231\n",
       "96     0.941180  0.865778  0.886877\n",
       "97     0.939675  0.861427  0.877309\n",
       "98     0.938480  0.865965  0.883091\n",
       "99     0.941459  0.863398  0.888193\n",
       "\n",
       "[100 rows x 3 columns]"
      ]
     },
     "execution_count": 56,
     "metadata": {},
     "output_type": "execute_result"
    }
   ],
   "source": [
    "df_curves"
   ]
  },
  {
   "cell_type": "code",
   "execution_count": 57,
   "metadata": {},
   "outputs": [
    {
     "data": {
      "text/plain": [
       "<AxesSubplot:xlabel='epoch'>"
      ]
     },
     "execution_count": 57,
     "metadata": {},
     "output_type": "execute_result"
    },
    {
     "data": {
      "image/png": "[encoded data removed]",
      "text/plain": [
       "<Figure size 432x288 with 1 Axes>"
      ]
     },
     "metadata": {
      "needs_background": "light"
     },
     "output_type": "display_data"
    }
   ],
   "source": [
    "sns.lineplot(data=df_curves)"
   ]
  },
  {
   "cell_type": "code",
   "execution_count": null,
   "metadata": {},
   "outputs": [],
   "source": []
  },
  {
   "cell_type": "code",
   "execution_count": null,
   "metadata": {},
   "outputs": [],
   "source": []
  },
  {
   "cell_type": "code",
   "execution_count": null,
   "metadata": {},
   "outputs": [],
   "source": []
  }
 ],
 "metadata": {
  "kernelspec": {
   "display_name": "Python 3 (ipykernel)",
   "language": "python",
   "name": "python3"
  },
  "language_info": {
   "codemirror_mode": {
    "name": "ipython",
    "version": 3
   },
   "file_extension": ".py",
   "mimetype": "text/x-python",
   "name": "python",
   "nbconvert_exporter": "python",
   "pygments_lexer": "ipython3",
   "version": "3.9.7"
  }
 },
 "nbformat": 4,
 "nbformat_minor": 4
}
