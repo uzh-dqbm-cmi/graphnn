{
 "cells": [
  {
   "cell_type": "code",
   "execution_count": 1,
   "metadata": {},
   "outputs": [],
   "source": [
    "import torch\n",
    "import torch.multiprocessing as mp\n",
    "mp.set_start_method(\"spawn\")\n",
    "from torch.utils.data import TensorDataset, DataLoader, Dataset\n",
    "import deepadr\n",
    "from deepadr.hyphelper import *"
   ]
  },
  {
   "cell_type": "code",
   "execution_count": 2,
   "metadata": {},
   "outputs": [],
   "source": [
    "inps = torch.randn(20, 15, 100, dtype=torch.float32)\n",
    "tgts = torch.randn(20, 15, 1, dtype=torch.float32)\n",
    "dataset = TensorDataset(inps, tgts)\n",
    "\n",
    "loader = DataLoader(dataset, batch_size=2)\n",
    "partition_dtensor = CustomPartitionDataTensor(dataset, range(len(dataset)), 'train', 0)\n",
    "    "
   ]
  },
  {
   "cell_type": "code",
   "execution_count": 3,
   "metadata": {},
   "outputs": [
    {
     "name": "stdout",
     "output_type": "stream",
     "text": [
      "run_num: 0\n"
     ]
    },
    {
     "ename": "NameError",
     "evalue": "name 'screener' is not defined",
     "output_type": "error",
     "traceback": [
      "\u001b[0;31m---------------------------------------------------------------------------\u001b[0m",
      "\u001b[0;31mNameError\u001b[0m                                 Traceback (most recent call last)",
      "\u001b[0;32m/tmp/ipykernel_13026/2207623082.py\u001b[0m in \u001b[0;36m<module>\u001b[0;34m\u001b[0m\n\u001b[1;32m     37\u001b[0m \u001b[0;32mfor\u001b[0m \u001b[0mq_i\u001b[0m \u001b[0;32min\u001b[0m \u001b[0mrange\u001b[0m\u001b[0;34m(\u001b[0m\u001b[0mnum_partitions\u001b[0m\u001b[0;34m)\u001b[0m\u001b[0;34m:\u001b[0m\u001b[0;34m\u001b[0m\u001b[0;34m\u001b[0m\u001b[0m\n\u001b[1;32m     38\u001b[0m     \u001b[0mprint\u001b[0m\u001b[0;34m(\u001b[0m\u001b[0;34m'run_num:'\u001b[0m\u001b[0;34m,\u001b[0m \u001b[0mq_i\u001b[0m\u001b[0;34m)\u001b[0m\u001b[0;34m\u001b[0m\u001b[0;34m\u001b[0m\u001b[0m\n\u001b[0;32m---> 39\u001b[0;31m     \u001b[0mq_process\u001b[0m \u001b[0;34m=\u001b[0m \u001b[0mcreate_q_process\u001b[0m\u001b[0;34m(\u001b[0m\u001b[0mpartition_dtensor\u001b[0m\u001b[0;34m,\u001b[0m\u001b[0mqueue\u001b[0m\u001b[0;34m)\u001b[0m\u001b[0;34m\u001b[0m\u001b[0;34m\u001b[0m\u001b[0m\n\u001b[0m\u001b[1;32m     40\u001b[0m     \u001b[0mq_processes\u001b[0m\u001b[0;34m.\u001b[0m\u001b[0mappend\u001b[0m\u001b[0;34m(\u001b[0m\u001b[0mq_process\u001b[0m\u001b[0;34m)\u001b[0m\u001b[0;34m\u001b[0m\u001b[0;34m\u001b[0m\u001b[0m\n\u001b[1;32m     41\u001b[0m     \u001b[0mspawn_q_process\u001b[0m\u001b[0;34m(\u001b[0m\u001b[0mq_process\u001b[0m\u001b[0;34m)\u001b[0m\u001b[0;34m\u001b[0m\u001b[0;34m\u001b[0m\u001b[0m\n",
      "\u001b[0;32m/tmp/ipykernel_13026/2207623082.py\u001b[0m in \u001b[0;36mcreate_q_process\u001b[0;34m(partition_dtensor, queue)\u001b[0m\n\u001b[1;32m     28\u001b[0m \u001b[0;34m\u001b[0m\u001b[0m\n\u001b[1;32m     29\u001b[0m \u001b[0;32mdef\u001b[0m \u001b[0mcreate_q_process\u001b[0m\u001b[0;34m(\u001b[0m\u001b[0mpartition_dtensor\u001b[0m\u001b[0;34m,\u001b[0m \u001b[0mqueue\u001b[0m\u001b[0;34m)\u001b[0m\u001b[0;34m:\u001b[0m\u001b[0;34m\u001b[0m\u001b[0;34m\u001b[0m\u001b[0m\n\u001b[0;32m---> 30\u001b[0;31m     \u001b[0;32mreturn\u001b[0m \u001b[0mmp\u001b[0m\u001b[0;34m.\u001b[0m\u001b[0mProcess\u001b[0m\u001b[0;34m(\u001b[0m\u001b[0mtarget\u001b[0m\u001b[0;34m=\u001b[0m\u001b[0mscreener\u001b[0m\u001b[0;34m.\u001b[0m\u001b[0mutilities\u001b[0m\u001b[0;34m.\u001b[0m\u001b[0mtest_mp\u001b[0m\u001b[0;34m,\u001b[0m \u001b[0margs\u001b[0m\u001b[0;34m=\u001b[0m\u001b[0;34m(\u001b[0m\u001b[0mpartition_dtensor\u001b[0m\u001b[0;34m,\u001b[0m \u001b[0mqueue\u001b[0m\u001b[0;34m)\u001b[0m\u001b[0;34m)\u001b[0m\u001b[0;34m\u001b[0m\u001b[0;34m\u001b[0m\u001b[0m\n\u001b[0m\u001b[1;32m     31\u001b[0m \u001b[0;34m\u001b[0m\u001b[0m\n\u001b[1;32m     32\u001b[0m \u001b[0;34m\u001b[0m\u001b[0m\n",
      "\u001b[0;31mNameError\u001b[0m: name 'screener' is not defined"
     ]
    }
   ],
   "source": [
    "def spawn_q_process(q_process):\n",
    "    print(\">>> spawning process\")\n",
    "    q_process.start()\n",
    "    \n",
    "def join_q_process(q_process):\n",
    "    q_process.join()\n",
    "    print(\"<<< joined process\")\n",
    "    \n",
    "\n",
    "\n",
    "# def create_q_process(loader, queue):\n",
    "#     return mp.Process(target=screener.utilities.test_mp, args=(loader, queue))\n",
    "# queue = mp.Queue()\n",
    "# q_processes = []\n",
    "# num_partitions = 1\n",
    "\n",
    "# for q_i in range(num_partitions):\n",
    "#     print('run_num:', q_i)\n",
    "#     q_process = create_q_process(loader=loader, \n",
    "#                                  queue=queue)\n",
    "#     q_processes.append(q_process)\n",
    "#     spawn_q_process(q_process)\n",
    "    \n",
    "# print(\"*\"*25)\n",
    "# for q_i in range(num_partitions):\n",
    "#     join_q_process(q_processes[q_i])\n",
    "#     released_gpu_num = queue.get()\n",
    "    \n",
    "def create_q_process(partition_dtensor, queue):\n",
    "    return mp.Process(target=deepadr.hyphelper.test_mp, args=(partition_dtensor, queue))\n",
    "\n",
    "\n",
    "queue = mp.Queue()\n",
    "q_processes = []\n",
    "num_partitions = 1\n",
    "\n",
    "for q_i in range(num_partitions):\n",
    "    print('run_num:', q_i)\n",
    "    q_process = create_q_process(partition_dtensor,queue)\n",
    "    q_processes.append(q_process)\n",
    "    spawn_q_process(q_process)\n",
    "    \n",
    "print(\"*\"*25)\n",
    "for q_i in range(num_partitions):\n",
    "    join_q_process(q_processes[q_i])\n",
    "    released_gpu_num = queue.get()\n",
    "    "
   ]
  },
  {
   "cell_type": "code",
   "execution_count": null,
   "metadata": {},
   "outputs": [],
   "source": [
    "partition_dtensor"
   ]
  },
  {
   "cell_type": "code",
   "execution_count": null,
   "metadata": {},
   "outputs": [],
   "source": [
    "partition_dtensor.dsettype"
   ]
  },
  {
   "cell_type": "code",
   "execution_count": null,
   "metadata": {},
   "outputs": [],
   "source": []
  }
 ],
 "metadata": {
  "kernelspec": {
   "display_name": "Python 3 (ipykernel)",
   "language": "python",
   "name": "python3"
  },
  "language_info": {
   "codemirror_mode": {
    "name": "ipython",
    "version": 3
   },
   "file_extension": ".py",
   "mimetype": "text/x-python",
   "name": "python",
   "nbconvert_exporter": "python",
   "pygments_lexer": "ipython3",
   "version": "3.9.9"
  }
 },
 "nbformat": 4,
 "nbformat_minor": 4
}
