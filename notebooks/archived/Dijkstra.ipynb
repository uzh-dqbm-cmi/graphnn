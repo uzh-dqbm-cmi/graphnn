{
 "cells": [
  {
   "cell_type": "code",
   "execution_count": 29,
   "id": "486191e3",
   "metadata": {},
   "outputs": [],
   "source": [
    "from queue import PriorityQueue"
   ]
  },
  {
   "cell_type": "code",
   "execution_count": 30,
   "id": "8b9dcba8",
   "metadata": {},
   "outputs": [],
   "source": [
    "class Graph:\n",
    "    def __init__(self, num_of_vertices):\n",
    "        self.v = num_of_vertices\n",
    "        self.edges = [[-1 for i in range(num_of_vertices)] for j in range(num_of_vertices)]\n",
    "        self.visited = []\n",
    "        \n",
    "    def add_edge(self, u, v, weight):\n",
    "        self.edges[u][v] = weight\n",
    "        self.edges[v][u] = weight"
   ]
  },
  {
   "cell_type": "code",
   "execution_count": 31,
   "id": "19d2777e",
   "metadata": {},
   "outputs": [],
   "source": [
    "def dijkstra(graph, start_vertex):\n",
    "    D = {v:float('inf') for v in range(graph.v)}\n",
    "    D[start_vertex] = 0\n",
    "\n",
    "    pq = PriorityQueue()\n",
    "    pq.put((0, start_vertex))\n",
    "\n",
    "    while not pq.empty():\n",
    "        (dist, current_vertex) = pq.get()\n",
    "        graph.visited.append(current_vertex)\n",
    "\n",
    "        for neighbor in range(graph.v):\n",
    "            if graph.edges[current_vertex][neighbor] != -1:\n",
    "                distance = graph.edges[current_vertex][neighbor]\n",
    "                if neighbor not in graph.visited:\n",
    "                    old_cost = D[neighbor]\n",
    "                    new_cost = D[current_vertex] + distance\n",
    "                    if new_cost < old_cost:\n",
    "                        pq.put((new_cost, neighbor))\n",
    "                        D[neighbor] = new_cost\n",
    "    return D"
   ]
  },
  {
   "cell_type": "code",
   "execution_count": 19,
   "id": "4bd43b44",
   "metadata": {},
   "outputs": [],
   "source": [
    "# example 1\n",
    "\n",
    "g = Graph(5)\n",
    "g.add_edge(0, 1, -50)\n",
    "g.add_edge(0, 2, -10)\n",
    "g.add_edge(0, 3, -40)\n",
    "g.add_edge(1, 3, -40)\n",
    "g.add_edge(1, 4, -70)"
   ]
  },
  {
   "cell_type": "code",
   "execution_count": 32,
   "id": "892ddc09",
   "metadata": {},
   "outputs": [],
   "source": [
    "# example 2\n",
    "\n",
    "g = Graph(6)\n",
    "g.add_edge(0, 1, -20)\n",
    "g.add_edge(0, 2, -20)\n",
    "g.add_edge(1, 3, -100)\n",
    "g.add_edge(1, 4, -70)\n",
    "g.add_edge(2, 5, -60)\n",
    "g.add_edge(4, 5, -60)"
   ]
  },
  {
   "cell_type": "code",
   "execution_count": 23,
   "id": "c38564c6",
   "metadata": {},
   "outputs": [],
   "source": [
    "# example 3\n",
    "\n",
    "g = Graph(4)\n",
    "g.add_edge(0, 1, -4)\n",
    "g.add_edge(0, 2, -6)\n",
    "g.add_edge(0, 3, -5)"
   ]
  },
  {
   "cell_type": "code",
   "execution_count": 33,
   "id": "8a0e941d",
   "metadata": {},
   "outputs": [
    {
     "name": "stdout",
     "output_type": "stream",
     "text": [
      "{0: 0, 1: -20, 2: -210, 3: -120, 4: -90, 5: -150}\n",
      "CPU times: user 620 µs, sys: 155 µs, total: 775 µs\n",
      "Wall time: 625 µs\n"
     ]
    }
   ],
   "source": [
    "%%time\n",
    "\n",
    "D = dijkstra(g, 0)\n",
    "\n",
    "print(D)"
   ]
  },
  {
   "cell_type": "code",
   "execution_count": null,
   "id": "c457c51e",
   "metadata": {},
   "outputs": [],
   "source": []
  }
 ],
 "metadata": {
  "kernelspec": {
   "display_name": "Python 3 (ipykernel)",
   "language": "python",
   "name": "python3"
  },
  "language_info": {
   "codemirror_mode": {
    "name": "ipython",
    "version": 3
   },
   "file_extension": ".py",
   "mimetype": "text/x-python",
   "name": "python",
   "nbconvert_exporter": "python",
   "pygments_lexer": "ipython3",
   "version": "3.9.9"
  }
 },
 "nbformat": 4,
 "nbformat_minor": 5
}
