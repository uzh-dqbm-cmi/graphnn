{
 "cells": [
  {
   "cell_type": "code",
   "execution_count": 1,
   "metadata": {},
   "outputs": [],
   "source": [
    "import torch\n",
    "import torch.multiprocessing as mp\n",
    "mp.set_start_method(\"spawn\")\n",
    "from torch.utils.data import TensorDataset, DataLoader\n",
    "import deepadr\n",
    "from deepadr.hyphelper import *"
   ]
  },
  {
   "cell_type": "code",
   "execution_count": 2,
   "metadata": {},
   "outputs": [
    {
     "name": "stdout",
     "output_type": "stream",
     "text": [
      "run_num: 0\n",
      ">>> spawning process\n",
      "*************************\n",
      "len(loader): 6\n",
      "len(loader.dataset): 188\n",
      "<multiprocessing.queues.Queue object at 0x2ad27ac6e160>\n",
      "---------\n",
      "<<< joined process\n"
     ]
    }
   ],
   "source": [
    "# inps = torch.randn(20, 15, 100, dtype=torch.float32)\n",
    "# tgts = torch.randn(20, 15, 1, dtype=torch.float32)\n",
    "# dataset = TensorDataset(inps, tgts)\n",
    "\n",
    "# loader = DataLoader(dataset, batch_size=2)\n",
    "\n",
    "from torch_geometric.datasets import *\n",
    "from torch_geometric.loader import DataLoader\n",
    "\n",
    "dataset = TUDataset(root=\"../data/raw/PyG/TUDataset/\", name=\"MUTAG\")\n",
    "loader = DataLoader(dataset, batch_size=32, shuffle=True)\n",
    "\n",
    "\n",
    "    \n",
    "def spawn_q_process(q_process):\n",
    "    print(\">>> spawning process\")\n",
    "    q_process.start()\n",
    "    \n",
    "def join_q_process(q_process):\n",
    "    q_process.join()\n",
    "    print(\"<<< joined process\")\n",
    "    \n",
    "\n",
    "def create_q_process(loader, queue):\n",
    "    return mp.Process(target=deepadr.hyphelper.test_mp, args=(loader, queue))\n",
    "\n",
    "\n",
    "\n",
    "queue = mp.Queue()\n",
    "q_processes = []\n",
    "num_partitions = 1\n",
    "\n",
    "for q_i in range(num_partitions):\n",
    "    print('run_num:', q_i)\n",
    "    q_process = create_q_process(loader=loader, \n",
    "                                 queue=queue)\n",
    "    q_processes.append(q_process)\n",
    "    spawn_q_process(q_process)\n",
    "    \n",
    "print(\"*\"*25)\n",
    "for q_i in range(num_partitions):\n",
    "    join_q_process(q_processes[q_i])\n",
    "    released_gpu_num = queue.get()\n",
    "    "
   ]
  },
  {
   "cell_type": "code",
   "execution_count": null,
   "metadata": {},
   "outputs": [],
   "source": []
  },
  {
   "cell_type": "code",
   "execution_count": null,
   "metadata": {},
   "outputs": [],
   "source": []
  }
 ],
 "metadata": {
  "kernelspec": {
   "display_name": "Python 3 (ipykernel)",
   "language": "python",
   "name": "python3"
  },
  "language_info": {
   "codemirror_mode": {
    "name": "ipython",
    "version": 3
   },
   "file_extension": ".py",
   "mimetype": "text/x-python",
   "name": "python",
   "nbconvert_exporter": "python",
   "pygments_lexer": "ipython3",
   "version": "3.9.9"
  }
 },
 "nbformat": 4,
 "nbformat_minor": 4
}
